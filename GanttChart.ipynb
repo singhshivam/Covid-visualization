{
 "cells": [
  {
   "cell_type": "code",
   "execution_count": 1,
   "metadata": {},
   "outputs": [
    {
     "name": "stdout",
     "output_type": "stream",
     "text": [
      "Requirement already satisfied: us in c:\\users\\jaaye\\anaconda3\\lib\\site-packages (2.0.2)\n",
      "Requirement already satisfied: jellyfish==0.6.1 in c:\\users\\jaaye\\anaconda3\\lib\\site-packages (from us) (0.6.1)\n"
     ]
    }
   ],
   "source": [
    "! pip install us"
   ]
  },
  {
   "cell_type": "code",
   "execution_count": 2,
   "metadata": {},
   "outputs": [],
   "source": [
    "import math\n",
    "import random\n",
    "from datetime import timedelta\n",
    "from urllib.request import urlopen\n",
    "import json\n",
    "\n",
    "# storing and anaysis\n",
    "import numpy as np\n",
    "import pandas as pd\n",
    "\n",
    "# visualization\n",
    "import matplotlib.pyplot as plt\n",
    "import seaborn as sns\n",
    "import plotly.express as px\n",
    "import plotly.graph_objs as go\n",
    "import plotly.figure_factory as ff\n",
    "from plotly.subplots import make_subplots\n",
    "# import calmap\n",
    "import folium\n",
    "\n",
    "# color pallette\n",
    "cnf, dth, rec, act = '#393e46', '#ff2e63', '#21bf73', '#fe9801' \n",
    "\n",
    "# converter\n",
    "from pandas.plotting import register_matplotlib_converters\n",
    "register_matplotlib_converters()   \n",
    "\n",
    "# hide warnings\n",
    "import warnings\n",
    "warnings.filterwarnings('ignore')\n",
    "\n",
    "# to USA states details\n",
    "import us"
   ]
  },
  {
   "cell_type": "code",
   "execution_count": 3,
   "metadata": {},
   "outputs": [
    {
     "data": {
      "text/html": [
       "        <script type=\"text/javascript\">\n",
       "        window.PlotlyConfig = {MathJaxConfig: 'local'};\n",
       "        if (window.MathJax) {MathJax.Hub.Config({SVG: {font: \"STIX-Web\"}});}\n",
       "        if (typeof require !== 'undefined') {\n",
       "        require.undef(\"plotly\");\n",
       "        requirejs.config({\n",
       "            paths: {\n",
       "                'plotly': ['https://cdn.plot.ly/plotly-latest.min']\n",
       "            }\n",
       "        });\n",
       "        require(['plotly'], function(Plotly) {\n",
       "            window._Plotly = Plotly;\n",
       "        });\n",
       "        }\n",
       "        </script>\n",
       "        "
      ]
     },
     "metadata": {},
     "output_type": "display_data"
    }
   ],
   "source": [
    "from plotly.offline import plot, iplot, init_notebook_mode\n",
    "init_notebook_mode(connected=True)"
   ]
  },
  {
   "cell_type": "code",
   "execution_count": 4,
   "metadata": {},
   "outputs": [
    {
     "data": {
      "text/html": [
       "<div>\n",
       "<style scoped>\n",
       "    .dataframe tbody tr th:only-of-type {\n",
       "        vertical-align: middle;\n",
       "    }\n",
       "\n",
       "    .dataframe tbody tr th {\n",
       "        vertical-align: top;\n",
       "    }\n",
       "\n",
       "    .dataframe thead th {\n",
       "        text-align: right;\n",
       "    }\n",
       "</style>\n",
       "<table border=\"1\" class=\"dataframe\">\n",
       "  <thead>\n",
       "    <tr style=\"text-align: right;\">\n",
       "      <th></th>\n",
       "      <th>Province/State</th>\n",
       "      <th>Country/Region</th>\n",
       "      <th>Lat</th>\n",
       "      <th>Long</th>\n",
       "      <th>Date</th>\n",
       "      <th>Confirmed</th>\n",
       "      <th>Deaths</th>\n",
       "      <th>Recovered</th>\n",
       "    </tr>\n",
       "  </thead>\n",
       "  <tbody>\n",
       "    <tr>\n",
       "      <th>18153</th>\n",
       "      <td>NaN</td>\n",
       "      <td>Spain</td>\n",
       "      <td>40.0000</td>\n",
       "      <td>-4.0000</td>\n",
       "      <td>2020-03-30</td>\n",
       "      <td>87956</td>\n",
       "      <td>7716</td>\n",
       "      <td>16780</td>\n",
       "    </tr>\n",
       "    <tr>\n",
       "      <th>18847</th>\n",
       "      <td>NaN</td>\n",
       "      <td>Eswatini</td>\n",
       "      <td>-26.5225</td>\n",
       "      <td>31.4659</td>\n",
       "      <td>2020-04-02</td>\n",
       "      <td>9</td>\n",
       "      <td>0</td>\n",
       "      <td>0</td>\n",
       "    </tr>\n",
       "    <tr>\n",
       "      <th>9277</th>\n",
       "      <td>Grand Princess</td>\n",
       "      <td>Canada</td>\n",
       "      <td>37.6489</td>\n",
       "      <td>-122.6655</td>\n",
       "      <td>2020-02-26</td>\n",
       "      <td>0</td>\n",
       "      <td>0</td>\n",
       "      <td>0</td>\n",
       "    </tr>\n",
       "    <tr>\n",
       "      <th>9657</th>\n",
       "      <td>NaN</td>\n",
       "      <td>Malaysia</td>\n",
       "      <td>2.5000</td>\n",
       "      <td>112.5000</td>\n",
       "      <td>2020-02-27</td>\n",
       "      <td>23</td>\n",
       "      <td>0</td>\n",
       "      <td>18</td>\n",
       "    </tr>\n",
       "    <tr>\n",
       "      <th>25947</th>\n",
       "      <td>Shanxi</td>\n",
       "      <td>China</td>\n",
       "      <td>37.5777</td>\n",
       "      <td>112.2922</td>\n",
       "      <td>2020-04-29</td>\n",
       "      <td>197</td>\n",
       "      <td>0</td>\n",
       "      <td>164</td>\n",
       "    </tr>\n",
       "    <tr>\n",
       "      <th>18975</th>\n",
       "      <td>Diamond Princess</td>\n",
       "      <td>Canada</td>\n",
       "      <td>0.0000</td>\n",
       "      <td>0.0000</td>\n",
       "      <td>2020-04-02</td>\n",
       "      <td>0</td>\n",
       "      <td>1</td>\n",
       "      <td>0</td>\n",
       "    </tr>\n",
       "  </tbody>\n",
       "</table>\n",
       "</div>"
      ],
      "text/plain": [
       "         Province/State Country/Region      Lat      Long       Date  \\\n",
       "18153               NaN          Spain  40.0000   -4.0000 2020-03-30   \n",
       "18847               NaN       Eswatini -26.5225   31.4659 2020-04-02   \n",
       "9277     Grand Princess         Canada  37.6489 -122.6655 2020-02-26   \n",
       "9657                NaN       Malaysia   2.5000  112.5000 2020-02-27   \n",
       "25947            Shanxi          China  37.5777  112.2922 2020-04-29   \n",
       "18975  Diamond Princess         Canada   0.0000    0.0000 2020-04-02   \n",
       "\n",
       "       Confirmed  Deaths  Recovered  \n",
       "18153      87956    7716      16780  \n",
       "18847          9       0          0  \n",
       "9277           0       0          0  \n",
       "9657          23       0         18  \n",
       "25947        197       0        164  \n",
       "18975          0       1          0  "
      ]
     },
     "execution_count": 4,
     "metadata": {},
     "output_type": "execute_result"
    }
   ],
   "source": [
    "full_table = pd.read_csv(r'C:\\Users\\jaaye\\OneDrive\\Desktop\\covid_19_clean_complete.csv', \n",
    "                         parse_dates=['Date'])\n",
    "full_table.sample(6)"
   ]
  },
  {
   "cell_type": "code",
   "execution_count": 5,
   "metadata": {},
   "outputs": [],
   "source": [
    "ship_rows = full_table['Province/State'].str.contains('Grand Princess') | full_table['Province/State'].str.contains('Diamond Princess') | full_table['Country/Region'].str.contains('Diamond Princess') | full_table['Country/Region'].str.contains('MS Zaandam')\n",
    "\n",
    "# ship\n",
    "ship = full_table[ship_rows]\n",
    "\n",
    "# full table \n",
    "full_table = full_table[~(ship_rows)]\n",
    "\n",
    "# Latest cases from the ships\n",
    "ship_latest = ship[ship['Date']==max(ship['Date'])]"
   ]
  },
  {
   "cell_type": "code",
   "execution_count": 6,
   "metadata": {},
   "outputs": [
    {
     "data": {
      "text/html": [
       "<div>\n",
       "<style scoped>\n",
       "    .dataframe tbody tr th:only-of-type {\n",
       "        vertical-align: middle;\n",
       "    }\n",
       "\n",
       "    .dataframe tbody tr th {\n",
       "        vertical-align: top;\n",
       "    }\n",
       "\n",
       "    .dataframe thead th {\n",
       "        text-align: right;\n",
       "    }\n",
       "</style>\n",
       "<table border=\"1\" class=\"dataframe\">\n",
       "  <thead>\n",
       "    <tr style=\"text-align: right;\">\n",
       "      <th></th>\n",
       "      <th>Province/State</th>\n",
       "      <th>Country/Region</th>\n",
       "      <th>Lat</th>\n",
       "      <th>Long</th>\n",
       "      <th>Date</th>\n",
       "      <th>Confirmed</th>\n",
       "      <th>Deaths</th>\n",
       "      <th>Recovered</th>\n",
       "      <th>Active</th>\n",
       "    </tr>\n",
       "  </thead>\n",
       "  <tbody>\n",
       "    <tr>\n",
       "      <th>14497</th>\n",
       "      <td></td>\n",
       "      <td>Guinea-Bissau</td>\n",
       "      <td>11.8037</td>\n",
       "      <td>-15.1804</td>\n",
       "      <td>2020-03-16</td>\n",
       "      <td>0</td>\n",
       "      <td>0</td>\n",
       "      <td>0</td>\n",
       "      <td>0</td>\n",
       "    </tr>\n",
       "    <tr>\n",
       "      <th>28085</th>\n",
       "      <td></td>\n",
       "      <td>Eritrea</td>\n",
       "      <td>15.1794</td>\n",
       "      <td>39.7823</td>\n",
       "      <td>2020-05-07</td>\n",
       "      <td>39</td>\n",
       "      <td>0</td>\n",
       "      <td>30</td>\n",
       "      <td>9</td>\n",
       "    </tr>\n",
       "    <tr>\n",
       "      <th>22945</th>\n",
       "      <td></td>\n",
       "      <td>Guinea-Bissau</td>\n",
       "      <td>11.8037</td>\n",
       "      <td>-15.1804</td>\n",
       "      <td>2020-04-17</td>\n",
       "      <td>43</td>\n",
       "      <td>0</td>\n",
       "      <td>0</td>\n",
       "      <td>43</td>\n",
       "    </tr>\n",
       "    <tr>\n",
       "      <th>24580</th>\n",
       "      <td></td>\n",
       "      <td>Brazil</td>\n",
       "      <td>-14.2350</td>\n",
       "      <td>-51.9253</td>\n",
       "      <td>2020-04-24</td>\n",
       "      <td>54043</td>\n",
       "      <td>3704</td>\n",
       "      <td>27655</td>\n",
       "      <td>22684</td>\n",
       "    </tr>\n",
       "    <tr>\n",
       "      <th>20931</th>\n",
       "      <td>Shanxi</td>\n",
       "      <td>China</td>\n",
       "      <td>37.5777</td>\n",
       "      <td>112.2922</td>\n",
       "      <td>2020-04-10</td>\n",
       "      <td>168</td>\n",
       "      <td>0</td>\n",
       "      <td>134</td>\n",
       "      <td>34</td>\n",
       "    </tr>\n",
       "    <tr>\n",
       "      <th>25989</th>\n",
       "      <td></td>\n",
       "      <td>Gabon</td>\n",
       "      <td>-0.8037</td>\n",
       "      <td>11.6094</td>\n",
       "      <td>2020-04-29</td>\n",
       "      <td>276</td>\n",
       "      <td>3</td>\n",
       "      <td>67</td>\n",
       "      <td>206</td>\n",
       "    </tr>\n",
       "  </tbody>\n",
       "</table>\n",
       "</div>"
      ],
      "text/plain": [
       "      Province/State Country/Region      Lat      Long       Date  Confirmed  \\\n",
       "14497                 Guinea-Bissau  11.8037  -15.1804 2020-03-16          0   \n",
       "28085                       Eritrea  15.1794   39.7823 2020-05-07         39   \n",
       "22945                 Guinea-Bissau  11.8037  -15.1804 2020-04-17         43   \n",
       "24580                        Brazil -14.2350  -51.9253 2020-04-24      54043   \n",
       "20931         Shanxi          China  37.5777  112.2922 2020-04-10        168   \n",
       "25989                         Gabon  -0.8037   11.6094 2020-04-29        276   \n",
       "\n",
       "       Deaths  Recovered  Active  \n",
       "14497       0          0       0  \n",
       "28085       0         30       9  \n",
       "22945       0          0      43  \n",
       "24580    3704      27655   22684  \n",
       "20931       0        134      34  \n",
       "25989       3         67     206  "
      ]
     },
     "execution_count": 6,
     "metadata": {},
     "output_type": "execute_result"
    }
   ],
   "source": [
    "full_table.loc[full_table['Province/State']=='Greenland', 'Country/Region'] = 'Greenland'\n",
    "\n",
    "# Active Case = confirmed - deaths - recovered\n",
    "full_table['Active'] = full_table['Confirmed'] - full_table['Deaths'] - full_table['Recovered']\n",
    "\n",
    "# replacing Mainland china with just China\n",
    "full_table['Country/Region'] = full_table['Country/Region'].replace('Mainland China', 'China')\n",
    "\n",
    "# filling missing values \n",
    "full_table[['Province/State']] = full_table[['Province/State']].fillna('')\n",
    "full_table[['Confirmed', 'Deaths', 'Recovered', 'Active']] = full_table[['Confirmed', 'Deaths', 'Recovered', 'Active']].fillna(0)\n",
    "\n",
    "# fixing datatypes\n",
    "full_table['Recovered'] = full_table['Recovered'].astype(int)\n",
    "\n",
    "full_table.sample(6)"
   ]
  },
  {
   "cell_type": "code",
   "execution_count": 7,
   "metadata": {},
   "outputs": [
    {
     "data": {
      "text/html": [
       "<div>\n",
       "<style scoped>\n",
       "    .dataframe tbody tr th:only-of-type {\n",
       "        vertical-align: middle;\n",
       "    }\n",
       "\n",
       "    .dataframe tbody tr th {\n",
       "        vertical-align: top;\n",
       "    }\n",
       "\n",
       "    .dataframe thead th {\n",
       "        text-align: right;\n",
       "    }\n",
       "</style>\n",
       "<table border=\"1\" class=\"dataframe\">\n",
       "  <thead>\n",
       "    <tr style=\"text-align: right;\">\n",
       "      <th></th>\n",
       "      <th>Date</th>\n",
       "      <th>Country/Region</th>\n",
       "      <th>Confirmed</th>\n",
       "      <th>Deaths</th>\n",
       "      <th>Recovered</th>\n",
       "      <th>Active</th>\n",
       "      <th>New cases</th>\n",
       "      <th>New deaths</th>\n",
       "      <th>New recovered</th>\n",
       "    </tr>\n",
       "  </thead>\n",
       "  <tbody>\n",
       "    <tr>\n",
       "      <th>0</th>\n",
       "      <td>2020-01-22</td>\n",
       "      <td>Afghanistan</td>\n",
       "      <td>0</td>\n",
       "      <td>0</td>\n",
       "      <td>0</td>\n",
       "      <td>0</td>\n",
       "      <td>0</td>\n",
       "      <td>0</td>\n",
       "      <td>0</td>\n",
       "    </tr>\n",
       "    <tr>\n",
       "      <th>1</th>\n",
       "      <td>2020-01-22</td>\n",
       "      <td>Albania</td>\n",
       "      <td>0</td>\n",
       "      <td>0</td>\n",
       "      <td>0</td>\n",
       "      <td>0</td>\n",
       "      <td>0</td>\n",
       "      <td>0</td>\n",
       "      <td>0</td>\n",
       "    </tr>\n",
       "    <tr>\n",
       "      <th>2</th>\n",
       "      <td>2020-01-22</td>\n",
       "      <td>Algeria</td>\n",
       "      <td>0</td>\n",
       "      <td>0</td>\n",
       "      <td>0</td>\n",
       "      <td>0</td>\n",
       "      <td>0</td>\n",
       "      <td>0</td>\n",
       "      <td>0</td>\n",
       "    </tr>\n",
       "    <tr>\n",
       "      <th>3</th>\n",
       "      <td>2020-01-22</td>\n",
       "      <td>Andorra</td>\n",
       "      <td>0</td>\n",
       "      <td>0</td>\n",
       "      <td>0</td>\n",
       "      <td>0</td>\n",
       "      <td>0</td>\n",
       "      <td>0</td>\n",
       "      <td>0</td>\n",
       "    </tr>\n",
       "    <tr>\n",
       "      <th>4</th>\n",
       "      <td>2020-01-22</td>\n",
       "      <td>Angola</td>\n",
       "      <td>0</td>\n",
       "      <td>0</td>\n",
       "      <td>0</td>\n",
       "      <td>0</td>\n",
       "      <td>0</td>\n",
       "      <td>0</td>\n",
       "      <td>0</td>\n",
       "    </tr>\n",
       "  </tbody>\n",
       "</table>\n",
       "</div>"
      ],
      "text/plain": [
       "        Date Country/Region  Confirmed  Deaths  Recovered  Active  New cases  \\\n",
       "0 2020-01-22    Afghanistan          0       0          0       0          0   \n",
       "1 2020-01-22        Albania          0       0          0       0          0   \n",
       "2 2020-01-22        Algeria          0       0          0       0          0   \n",
       "3 2020-01-22        Andorra          0       0          0       0          0   \n",
       "4 2020-01-22         Angola          0       0          0       0          0   \n",
       "\n",
       "   New deaths  New recovered  \n",
       "0           0              0  \n",
       "1           0              0  \n",
       "2           0              0  \n",
       "3           0              0  \n",
       "4           0              0  "
      ]
     },
     "execution_count": 7,
     "metadata": {},
     "output_type": "execute_result"
    }
   ],
   "source": [
    "full_grouped = full_table.groupby(['Date', 'Country/Region'])['Confirmed', 'Deaths', 'Recovered', 'Active'].sum().reset_index()\n",
    "\n",
    "# new cases ======================================================\n",
    "temp = full_grouped.groupby(['Country/Region', 'Date', ])['Confirmed', 'Deaths', 'Recovered']\n",
    "temp = temp.sum().diff().reset_index()\n",
    "\n",
    "mask = temp['Country/Region'] != temp['Country/Region'].shift(1)\n",
    "\n",
    "temp.loc[mask, 'Confirmed'] = np.nan\n",
    "temp.loc[mask, 'Deaths'] = np.nan\n",
    "temp.loc[mask, 'Recovered'] = np.nan\n",
    "\n",
    "# renaming columns\n",
    "temp.columns = ['Country/Region', 'Date', 'New cases', 'New deaths', 'New recovered']\n",
    "# =================================================================\n",
    "\n",
    "# merging new values\n",
    "full_grouped = pd.merge(full_grouped, temp, on=['Country/Region', 'Date'])\n",
    "\n",
    "# filling na with 0\n",
    "full_grouped = full_grouped.fillna(0)\n",
    "\n",
    "# fixing data types\n",
    "cols = ['New cases', 'New deaths', 'New recovered']\n",
    "full_grouped[cols] = full_grouped[cols].astype('int')\n",
    "\n",
    "full_grouped['New cases'] = full_grouped['New cases'].apply(lambda x: 0 if x<0 else x)\n",
    "\n",
    "full_grouped.head()"
   ]
  },
  {
   "cell_type": "code",
   "execution_count": 8,
   "metadata": {},
   "outputs": [
    {
     "data": {
      "text/html": [
       "<div>\n",
       "<style scoped>\n",
       "    .dataframe tbody tr th:only-of-type {\n",
       "        vertical-align: middle;\n",
       "    }\n",
       "\n",
       "    .dataframe tbody tr th {\n",
       "        vertical-align: top;\n",
       "    }\n",
       "\n",
       "    .dataframe thead th {\n",
       "        text-align: right;\n",
       "    }\n",
       "</style>\n",
       "<table border=\"1\" class=\"dataframe\">\n",
       "  <thead>\n",
       "    <tr style=\"text-align: right;\">\n",
       "      <th></th>\n",
       "      <th>Date</th>\n",
       "      <th>Confirmed</th>\n",
       "      <th>Deaths</th>\n",
       "      <th>Recovered</th>\n",
       "      <th>Active</th>\n",
       "      <th>New cases</th>\n",
       "      <th>New deaths</th>\n",
       "      <th>Deaths / 100 Cases</th>\n",
       "      <th>Recovered / 100 Cases</th>\n",
       "      <th>Deaths / 100 Recovered</th>\n",
       "      <th>No. of countries</th>\n",
       "    </tr>\n",
       "  </thead>\n",
       "  <tbody>\n",
       "    <tr>\n",
       "      <th>0</th>\n",
       "      <td>2020-01-22</td>\n",
       "      <td>555</td>\n",
       "      <td>17</td>\n",
       "      <td>28</td>\n",
       "      <td>510</td>\n",
       "      <td>0</td>\n",
       "      <td>0</td>\n",
       "      <td>3.06</td>\n",
       "      <td>5.05</td>\n",
       "      <td>60.71</td>\n",
       "      <td>6</td>\n",
       "    </tr>\n",
       "    <tr>\n",
       "      <th>1</th>\n",
       "      <td>2020-01-23</td>\n",
       "      <td>654</td>\n",
       "      <td>18</td>\n",
       "      <td>30</td>\n",
       "      <td>606</td>\n",
       "      <td>99</td>\n",
       "      <td>1</td>\n",
       "      <td>2.75</td>\n",
       "      <td>4.59</td>\n",
       "      <td>60.00</td>\n",
       "      <td>8</td>\n",
       "    </tr>\n",
       "    <tr>\n",
       "      <th>2</th>\n",
       "      <td>2020-01-24</td>\n",
       "      <td>941</td>\n",
       "      <td>26</td>\n",
       "      <td>36</td>\n",
       "      <td>879</td>\n",
       "      <td>287</td>\n",
       "      <td>8</td>\n",
       "      <td>2.76</td>\n",
       "      <td>3.83</td>\n",
       "      <td>72.22</td>\n",
       "      <td>9</td>\n",
       "    </tr>\n",
       "    <tr>\n",
       "      <th>3</th>\n",
       "      <td>2020-01-25</td>\n",
       "      <td>1434</td>\n",
       "      <td>42</td>\n",
       "      <td>39</td>\n",
       "      <td>1353</td>\n",
       "      <td>493</td>\n",
       "      <td>16</td>\n",
       "      <td>2.93</td>\n",
       "      <td>2.72</td>\n",
       "      <td>107.69</td>\n",
       "      <td>11</td>\n",
       "    </tr>\n",
       "    <tr>\n",
       "      <th>4</th>\n",
       "      <td>2020-01-26</td>\n",
       "      <td>2118</td>\n",
       "      <td>56</td>\n",
       "      <td>52</td>\n",
       "      <td>2010</td>\n",
       "      <td>684</td>\n",
       "      <td>14</td>\n",
       "      <td>2.64</td>\n",
       "      <td>2.46</td>\n",
       "      <td>107.69</td>\n",
       "      <td>13</td>\n",
       "    </tr>\n",
       "  </tbody>\n",
       "</table>\n",
       "</div>"
      ],
      "text/plain": [
       "        Date  Confirmed  Deaths  Recovered  Active  New cases  New deaths  \\\n",
       "0 2020-01-22        555      17         28     510          0           0   \n",
       "1 2020-01-23        654      18         30     606         99           1   \n",
       "2 2020-01-24        941      26         36     879        287           8   \n",
       "3 2020-01-25       1434      42         39    1353        493          16   \n",
       "4 2020-01-26       2118      56         52    2010        684          14   \n",
       "\n",
       "   Deaths / 100 Cases  Recovered / 100 Cases  Deaths / 100 Recovered  \\\n",
       "0                3.06                   5.05                   60.71   \n",
       "1                2.75                   4.59                   60.00   \n",
       "2                2.76                   3.83                   72.22   \n",
       "3                2.93                   2.72                  107.69   \n",
       "4                2.64                   2.46                  107.69   \n",
       "\n",
       "   No. of countries  \n",
       "0                 6  \n",
       "1                 8  \n",
       "2                 9  \n",
       "3                11  \n",
       "4                13  "
      ]
     },
     "execution_count": 8,
     "metadata": {},
     "output_type": "execute_result"
    }
   ],
   "source": [
    "day_wise = full_grouped.groupby('Date')['Confirmed', 'Deaths', 'Recovered', 'Active', 'New cases', 'New deaths'].sum().reset_index()\n",
    "\n",
    "# number cases per 100 cases\n",
    "day_wise['Deaths / 100 Cases'] = round((day_wise['Deaths']/day_wise['Confirmed'])*100, 2)\n",
    "day_wise['Recovered / 100 Cases'] = round((day_wise['Recovered']/day_wise['Confirmed'])*100, 2)\n",
    "day_wise['Deaths / 100 Recovered'] = round((day_wise['Deaths']/day_wise['Recovered'])*100, 2)\n",
    "\n",
    "# no. of countries\n",
    "day_wise['No. of countries'] = full_grouped[full_grouped['Confirmed']!=0].groupby('Date')['Country/Region'].unique().apply(len).values\n",
    "\n",
    "# fillna by 0\n",
    "cols = ['Deaths / 100 Cases', 'Recovered / 100 Cases', 'Deaths / 100 Recovered']\n",
    "day_wise[cols] = day_wise[cols].fillna(0)\n",
    "\n",
    "day_wise.head()"
   ]
  },
  {
   "cell_type": "code",
   "execution_count": 9,
   "metadata": {},
   "outputs": [
    {
     "data": {
      "text/html": [
       "<div>\n",
       "<style scoped>\n",
       "    .dataframe tbody tr th:only-of-type {\n",
       "        vertical-align: middle;\n",
       "    }\n",
       "\n",
       "    .dataframe tbody tr th {\n",
       "        vertical-align: top;\n",
       "    }\n",
       "\n",
       "    .dataframe thead th {\n",
       "        text-align: right;\n",
       "    }\n",
       "</style>\n",
       "<table border=\"1\" class=\"dataframe\">\n",
       "  <thead>\n",
       "    <tr style=\"text-align: right;\">\n",
       "      <th></th>\n",
       "      <th>Country/Region</th>\n",
       "      <th>Confirmed</th>\n",
       "      <th>Deaths</th>\n",
       "      <th>Recovered</th>\n",
       "      <th>Active</th>\n",
       "      <th>New cases</th>\n",
       "      <th>Deaths / 100 Cases</th>\n",
       "      <th>Recovered / 100 Cases</th>\n",
       "      <th>Deaths / 100 Recovered</th>\n",
       "    </tr>\n",
       "  </thead>\n",
       "  <tbody>\n",
       "    <tr>\n",
       "      <th>0</th>\n",
       "      <td>Afghanistan</td>\n",
       "      <td>4033</td>\n",
       "      <td>115</td>\n",
       "      <td>502</td>\n",
       "      <td>3416</td>\n",
       "      <td>255</td>\n",
       "      <td>2.85</td>\n",
       "      <td>12.45</td>\n",
       "      <td>22.91</td>\n",
       "    </tr>\n",
       "    <tr>\n",
       "      <th>1</th>\n",
       "      <td>Albania</td>\n",
       "      <td>856</td>\n",
       "      <td>31</td>\n",
       "      <td>627</td>\n",
       "      <td>198</td>\n",
       "      <td>6</td>\n",
       "      <td>3.62</td>\n",
       "      <td>73.25</td>\n",
       "      <td>4.94</td>\n",
       "    </tr>\n",
       "    <tr>\n",
       "      <th>2</th>\n",
       "      <td>Algeria</td>\n",
       "      <td>5558</td>\n",
       "      <td>494</td>\n",
       "      <td>2546</td>\n",
       "      <td>2518</td>\n",
       "      <td>189</td>\n",
       "      <td>8.89</td>\n",
       "      <td>45.81</td>\n",
       "      <td>19.40</td>\n",
       "    </tr>\n",
       "    <tr>\n",
       "      <th>3</th>\n",
       "      <td>Andorra</td>\n",
       "      <td>754</td>\n",
       "      <td>48</td>\n",
       "      <td>545</td>\n",
       "      <td>161</td>\n",
       "      <td>2</td>\n",
       "      <td>6.37</td>\n",
       "      <td>72.28</td>\n",
       "      <td>8.81</td>\n",
       "    </tr>\n",
       "    <tr>\n",
       "      <th>4</th>\n",
       "      <td>Angola</td>\n",
       "      <td>43</td>\n",
       "      <td>2</td>\n",
       "      <td>13</td>\n",
       "      <td>28</td>\n",
       "      <td>0</td>\n",
       "      <td>4.65</td>\n",
       "      <td>30.23</td>\n",
       "      <td>15.38</td>\n",
       "    </tr>\n",
       "  </tbody>\n",
       "</table>\n",
       "</div>"
      ],
      "text/plain": [
       "  Country/Region  Confirmed  Deaths  Recovered  Active  New cases  \\\n",
       "0    Afghanistan       4033     115        502    3416        255   \n",
       "1        Albania        856      31        627     198          6   \n",
       "2        Algeria       5558     494       2546    2518        189   \n",
       "3        Andorra        754      48        545     161          2   \n",
       "4         Angola         43       2         13      28          0   \n",
       "\n",
       "   Deaths / 100 Cases  Recovered / 100 Cases  Deaths / 100 Recovered  \n",
       "0                2.85                  12.45                   22.91  \n",
       "1                3.62                  73.25                    4.94  \n",
       "2                8.89                  45.81                   19.40  \n",
       "3                6.37                  72.28                    8.81  \n",
       "4                4.65                  30.23                   15.38  "
      ]
     },
     "execution_count": 9,
     "metadata": {},
     "output_type": "execute_result"
    }
   ],
   "source": [
    "country_wise = full_grouped[full_grouped['Date']==max(full_grouped['Date'])].reset_index(drop=True).drop('Date', axis=1)\n",
    "\n",
    "# group by country\n",
    "country_wise = country_wise.groupby('Country/Region')['Confirmed', 'Deaths', 'Recovered', 'Active', 'New cases'].sum().reset_index()\n",
    "\n",
    "# per 100 cases\n",
    "country_wise['Deaths / 100 Cases'] = round((country_wise['Deaths']/country_wise['Confirmed'])*100, 2)\n",
    "country_wise['Recovered / 100 Cases'] = round((country_wise['Recovered']/country_wise['Confirmed'])*100, 2)\n",
    "country_wise['Deaths / 100 Recovered'] = round((country_wise['Deaths']/country_wise['Recovered'])*100, 2)\n",
    "\n",
    "cols = ['Deaths / 100 Cases', 'Recovered / 100 Cases', 'Deaths / 100 Recovered']\n",
    "country_wise[cols] = country_wise[cols].fillna(0)\n",
    "\n",
    "country_wise.head()"
   ]
  },
  {
   "cell_type": "code",
   "execution_count": 10,
   "metadata": {},
   "outputs": [
    {
     "data": {
      "text/html": [
       "<div>\n",
       "<style scoped>\n",
       "    .dataframe tbody tr th:only-of-type {\n",
       "        vertical-align: middle;\n",
       "    }\n",
       "\n",
       "    .dataframe tbody tr th {\n",
       "        vertical-align: top;\n",
       "    }\n",
       "\n",
       "    .dataframe thead th {\n",
       "        text-align: right;\n",
       "    }\n",
       "</style>\n",
       "<table border=\"1\" class=\"dataframe\">\n",
       "  <thead>\n",
       "    <tr style=\"text-align: right;\">\n",
       "      <th></th>\n",
       "      <th>Country/Region</th>\n",
       "      <th>Confirmed</th>\n",
       "      <th>Deaths</th>\n",
       "      <th>Recovered</th>\n",
       "      <th>Active</th>\n",
       "      <th>New cases</th>\n",
       "      <th>Deaths / 100 Cases</th>\n",
       "      <th>Recovered / 100 Cases</th>\n",
       "      <th>Deaths / 100 Recovered</th>\n",
       "      <th>Population</th>\n",
       "      <th>Cases / Million People</th>\n",
       "    </tr>\n",
       "  </thead>\n",
       "  <tbody>\n",
       "    <tr>\n",
       "      <th>0</th>\n",
       "      <td>Afghanistan</td>\n",
       "      <td>4033</td>\n",
       "      <td>115</td>\n",
       "      <td>502</td>\n",
       "      <td>3416</td>\n",
       "      <td>255</td>\n",
       "      <td>2.85</td>\n",
       "      <td>12.45</td>\n",
       "      <td>22.91</td>\n",
       "      <td>38742911.0</td>\n",
       "      <td>104.0</td>\n",
       "    </tr>\n",
       "    <tr>\n",
       "      <th>1</th>\n",
       "      <td>Albania</td>\n",
       "      <td>856</td>\n",
       "      <td>31</td>\n",
       "      <td>627</td>\n",
       "      <td>198</td>\n",
       "      <td>6</td>\n",
       "      <td>3.62</td>\n",
       "      <td>73.25</td>\n",
       "      <td>4.94</td>\n",
       "      <td>2878420.0</td>\n",
       "      <td>297.0</td>\n",
       "    </tr>\n",
       "    <tr>\n",
       "      <th>2</th>\n",
       "      <td>Algeria</td>\n",
       "      <td>5558</td>\n",
       "      <td>494</td>\n",
       "      <td>2546</td>\n",
       "      <td>2518</td>\n",
       "      <td>189</td>\n",
       "      <td>8.89</td>\n",
       "      <td>45.81</td>\n",
       "      <td>19.40</td>\n",
       "      <td>43685618.0</td>\n",
       "      <td>127.0</td>\n",
       "    </tr>\n",
       "    <tr>\n",
       "      <th>3</th>\n",
       "      <td>Andorra</td>\n",
       "      <td>754</td>\n",
       "      <td>48</td>\n",
       "      <td>545</td>\n",
       "      <td>161</td>\n",
       "      <td>2</td>\n",
       "      <td>6.37</td>\n",
       "      <td>72.28</td>\n",
       "      <td>8.81</td>\n",
       "      <td>77240.0</td>\n",
       "      <td>9762.0</td>\n",
       "    </tr>\n",
       "    <tr>\n",
       "      <th>4</th>\n",
       "      <td>Angola</td>\n",
       "      <td>43</td>\n",
       "      <td>2</td>\n",
       "      <td>13</td>\n",
       "      <td>28</td>\n",
       "      <td>0</td>\n",
       "      <td>4.65</td>\n",
       "      <td>30.23</td>\n",
       "      <td>15.38</td>\n",
       "      <td>32644783.0</td>\n",
       "      <td>1.0</td>\n",
       "    </tr>\n",
       "  </tbody>\n",
       "</table>\n",
       "</div>"
      ],
      "text/plain": [
       "  Country/Region  Confirmed  Deaths  Recovered  Active  New cases  \\\n",
       "0    Afghanistan       4033     115        502    3416        255   \n",
       "1        Albania        856      31        627     198          6   \n",
       "2        Algeria       5558     494       2546    2518        189   \n",
       "3        Andorra        754      48        545     161          2   \n",
       "4         Angola         43       2         13      28          0   \n",
       "\n",
       "   Deaths / 100 Cases  Recovered / 100 Cases  Deaths / 100 Recovered  \\\n",
       "0                2.85                  12.45                   22.91   \n",
       "1                3.62                  73.25                    4.94   \n",
       "2                8.89                  45.81                   19.40   \n",
       "3                6.37                  72.28                    8.81   \n",
       "4                4.65                  30.23                   15.38   \n",
       "\n",
       "   Population  Cases / Million People  \n",
       "0  38742911.0                   104.0  \n",
       "1   2878420.0                   297.0  \n",
       "2  43685618.0                   127.0  \n",
       "3     77240.0                  9762.0  \n",
       "4  32644783.0                     1.0  "
      ]
     },
     "execution_count": 10,
     "metadata": {},
     "output_type": "execute_result"
    }
   ],
   "source": [
    "pop = pd.read_csv(r\"C:\\Users\\jaaye\\OneDrive\\Desktop\\population_by_country_2020.csv\")\n",
    "\n",
    "# select only population\n",
    "pop = pop.iloc[:, :2]\n",
    "\n",
    "# rename column names\n",
    "pop.columns = ['Country/Region', 'Population']\n",
    "\n",
    "# merged data\n",
    "country_wise = pd.merge(country_wise, pop, on='Country/Region', how='left')\n",
    "\n",
    "# update population\n",
    "cols = ['Burma', 'Congo (Brazzaville)', 'Congo (Kinshasa)', \"Cote d'Ivoire\", 'Czechia', \n",
    "        'Kosovo', 'Saint Kitts and Nevis', 'Saint Vincent and the Grenadines', \n",
    "        'Taiwan*', 'US', 'West Bank and Gaza', 'Sao Tome and Principe']\n",
    "pops = [54409800, 89561403, 5518087, 26378274, 10708981, 1793000, \n",
    "        53109, 110854, 23806638, 330541757, 4543126, 219159]\n",
    "for c, p in zip(cols, pops):\n",
    "    country_wise.loc[country_wise['Country/Region']== c, 'Population'] = p\n",
    "    \n",
    "# missing values\n",
    "# country_wise.isna().sum()\n",
    "# country_wise[country_wise['Population'].isna()]['Country/Region'].tolist()\n",
    "\n",
    "# Cases per population\n",
    "country_wise['Cases / Million People'] = round((country_wise['Confirmed'] / country_wise['Population']) * 1000000)\n",
    "\n",
    "country_wise.head()"
   ]
  },
  {
   "cell_type": "code",
   "execution_count": 11,
   "metadata": {},
   "outputs": [
    {
     "data": {
      "text/html": [
       "<div>\n",
       "<style scoped>\n",
       "    .dataframe tbody tr th:only-of-type {\n",
       "        vertical-align: middle;\n",
       "    }\n",
       "\n",
       "    .dataframe tbody tr th {\n",
       "        vertical-align: top;\n",
       "    }\n",
       "\n",
       "    .dataframe thead th {\n",
       "        text-align: right;\n",
       "    }\n",
       "</style>\n",
       "<table border=\"1\" class=\"dataframe\">\n",
       "  <thead>\n",
       "    <tr style=\"text-align: right;\">\n",
       "      <th></th>\n",
       "      <th>Country/Region</th>\n",
       "      <th>Confirmed</th>\n",
       "      <th>Deaths</th>\n",
       "      <th>Recovered</th>\n",
       "      <th>Active</th>\n",
       "      <th>New cases</th>\n",
       "      <th>Deaths / 100 Cases</th>\n",
       "      <th>Recovered / 100 Cases</th>\n",
       "      <th>Deaths / 100 Recovered</th>\n",
       "      <th>Population</th>\n",
       "      <th>Cases / Million People</th>\n",
       "      <th>Confirmed last week</th>\n",
       "      <th>1 week change</th>\n",
       "      <th>1 week % increase</th>\n",
       "    </tr>\n",
       "  </thead>\n",
       "  <tbody>\n",
       "    <tr>\n",
       "      <th>0</th>\n",
       "      <td>Afghanistan</td>\n",
       "      <td>4033</td>\n",
       "      <td>115</td>\n",
       "      <td>502</td>\n",
       "      <td>3416</td>\n",
       "      <td>255</td>\n",
       "      <td>2.85</td>\n",
       "      <td>12.45</td>\n",
       "      <td>22.91</td>\n",
       "      <td>38742911.0</td>\n",
       "      <td>104.0</td>\n",
       "      <td>2469</td>\n",
       "      <td>1564</td>\n",
       "      <td>63.35</td>\n",
       "    </tr>\n",
       "    <tr>\n",
       "      <th>1</th>\n",
       "      <td>Albania</td>\n",
       "      <td>856</td>\n",
       "      <td>31</td>\n",
       "      <td>627</td>\n",
       "      <td>198</td>\n",
       "      <td>6</td>\n",
       "      <td>3.62</td>\n",
       "      <td>73.25</td>\n",
       "      <td>4.94</td>\n",
       "      <td>2878420.0</td>\n",
       "      <td>297.0</td>\n",
       "      <td>789</td>\n",
       "      <td>67</td>\n",
       "      <td>8.49</td>\n",
       "    </tr>\n",
       "    <tr>\n",
       "      <th>2</th>\n",
       "      <td>Algeria</td>\n",
       "      <td>5558</td>\n",
       "      <td>494</td>\n",
       "      <td>2546</td>\n",
       "      <td>2518</td>\n",
       "      <td>189</td>\n",
       "      <td>8.89</td>\n",
       "      <td>45.81</td>\n",
       "      <td>19.40</td>\n",
       "      <td>43685618.0</td>\n",
       "      <td>127.0</td>\n",
       "      <td>4295</td>\n",
       "      <td>1263</td>\n",
       "      <td>29.41</td>\n",
       "    </tr>\n",
       "    <tr>\n",
       "      <th>3</th>\n",
       "      <td>Andorra</td>\n",
       "      <td>754</td>\n",
       "      <td>48</td>\n",
       "      <td>545</td>\n",
       "      <td>161</td>\n",
       "      <td>2</td>\n",
       "      <td>6.37</td>\n",
       "      <td>72.28</td>\n",
       "      <td>8.81</td>\n",
       "      <td>77240.0</td>\n",
       "      <td>9762.0</td>\n",
       "      <td>747</td>\n",
       "      <td>7</td>\n",
       "      <td>0.94</td>\n",
       "    </tr>\n",
       "    <tr>\n",
       "      <th>4</th>\n",
       "      <td>Angola</td>\n",
       "      <td>43</td>\n",
       "      <td>2</td>\n",
       "      <td>13</td>\n",
       "      <td>28</td>\n",
       "      <td>0</td>\n",
       "      <td>4.65</td>\n",
       "      <td>30.23</td>\n",
       "      <td>15.38</td>\n",
       "      <td>32644783.0</td>\n",
       "      <td>1.0</td>\n",
       "      <td>35</td>\n",
       "      <td>8</td>\n",
       "      <td>22.86</td>\n",
       "    </tr>\n",
       "  </tbody>\n",
       "</table>\n",
       "</div>"
      ],
      "text/plain": [
       "  Country/Region  Confirmed  Deaths  Recovered  Active  New cases  \\\n",
       "0    Afghanistan       4033     115        502    3416        255   \n",
       "1        Albania        856      31        627     198          6   \n",
       "2        Algeria       5558     494       2546    2518        189   \n",
       "3        Andorra        754      48        545     161          2   \n",
       "4         Angola         43       2         13      28          0   \n",
       "\n",
       "   Deaths / 100 Cases  Recovered / 100 Cases  Deaths / 100 Recovered  \\\n",
       "0                2.85                  12.45                   22.91   \n",
       "1                3.62                  73.25                    4.94   \n",
       "2                8.89                  45.81                   19.40   \n",
       "3                6.37                  72.28                    8.81   \n",
       "4                4.65                  30.23                   15.38   \n",
       "\n",
       "   Population  Cases / Million People  Confirmed last week  1 week change  \\\n",
       "0  38742911.0                   104.0                 2469           1564   \n",
       "1   2878420.0                   297.0                  789             67   \n",
       "2  43685618.0                   127.0                 4295           1263   \n",
       "3     77240.0                  9762.0                  747              7   \n",
       "4  32644783.0                     1.0                   35              8   \n",
       "\n",
       "   1 week % increase  \n",
       "0              63.35  \n",
       "1               8.49  \n",
       "2              29.41  \n",
       "3               0.94  \n",
       "4              22.86  "
      ]
     },
     "execution_count": 11,
     "metadata": {},
     "output_type": "execute_result"
    }
   ],
   "source": [
    "today = full_grouped[full_grouped['Date']==max(full_grouped['Date'])].reset_index(drop=True).drop('Date', axis=1)[['Country/Region', 'Confirmed']]\n",
    "last_week = full_grouped[full_grouped['Date']==max(full_grouped['Date'])-timedelta(days=7)].reset_index(drop=True).drop('Date', axis=1)[['Country/Region', 'Confirmed']]\n",
    "\n",
    "temp = pd.merge(today, last_week, on='Country/Region', suffixes=(' today', ' last week'))\n",
    "\n",
    "# temp = temp[['Country/Region', 'Confirmed last week']]\n",
    "temp['1 week change'] = temp['Confirmed today'] - temp['Confirmed last week']\n",
    "\n",
    "temp = temp[['Country/Region', 'Confirmed last week', '1 week change']]\n",
    "\n",
    "country_wise = pd.merge(country_wise, temp, on='Country/Region')\n",
    "\n",
    "country_wise['1 week % increase'] = round(country_wise['1 week change']/country_wise['Confirmed last week']*100, 2)\n",
    "\n",
    "country_wise.head()"
   ]
  },
  {
   "cell_type": "code",
   "execution_count": 12,
   "metadata": {},
   "outputs": [
    {
     "data": {
      "text/html": [
       "<div>\n",
       "<style scoped>\n",
       "    .dataframe tbody tr th:only-of-type {\n",
       "        vertical-align: middle;\n",
       "    }\n",
       "\n",
       "    .dataframe tbody tr th {\n",
       "        vertical-align: top;\n",
       "    }\n",
       "\n",
       "    .dataframe thead th {\n",
       "        text-align: right;\n",
       "    }\n",
       "</style>\n",
       "<table border=\"1\" class=\"dataframe\">\n",
       "  <thead>\n",
       "    <tr style=\"text-align: right;\">\n",
       "      <th></th>\n",
       "      <th>Country/Region</th>\n",
       "      <th>Confirmed</th>\n",
       "      <th>Deaths</th>\n",
       "      <th>Recovered</th>\n",
       "      <th>Active</th>\n",
       "      <th>New cases</th>\n",
       "      <th>Deaths / 100 Cases</th>\n",
       "      <th>Recovered / 100 Cases</th>\n",
       "      <th>Deaths / 100 Recovered</th>\n",
       "      <th>Population</th>\n",
       "      <th>Cases / Million People</th>\n",
       "      <th>Confirmed last week</th>\n",
       "      <th>1 week change</th>\n",
       "      <th>1 week % increase</th>\n",
       "    </tr>\n",
       "  </thead>\n",
       "  <tbody>\n",
       "  </tbody>\n",
       "</table>\n",
       "</div>"
      ],
      "text/plain": [
       "Empty DataFrame\n",
       "Columns: [Country/Region, Confirmed, Deaths, Recovered, Active, New cases, Deaths / 100 Cases, Recovered / 100 Cases, Deaths / 100 Recovered, Population, Cases / Million People, Confirmed last week, 1 week change, 1 week % increase]\n",
       "Index: []"
      ]
     },
     "execution_count": 12,
     "metadata": {},
     "output_type": "execute_result"
    }
   ],
   "source": [
    "country_wise[country_wise['Cases / Million People'].isna()]"
   ]
  },
  {
   "cell_type": "code",
   "execution_count": 13,
   "metadata": {},
   "outputs": [
    {
     "data": {
      "application/vnd.plotly.v1+json": {
       "config": {
        "plotlyServerURL": "https://plot.ly"
       },
       "data": [
        {
         "branchvalues": "total",
         "domain": {
          "x": [
           0,
           1
          ],
          "y": [
           0,
           1
          ]
         },
         "hovertemplate": "labels=%{label}<br>Confirmed=%{value}<br>parent=%{parent}<br>id=%{id}<extra></extra>",
         "ids": [
          "Afghanistan/",
          "Albania/",
          "Algeria/",
          "Andorra/",
          "Angola/",
          "Antigua and Barbuda/",
          "Argentina/",
          "Armenia/",
          "Austria/",
          "Azerbaijan/",
          "Bahamas/",
          "Bahrain/",
          "Bangladesh/",
          "Barbados/",
          "Belarus/",
          "Belgium/",
          "Belize/",
          "Benin/",
          "Bhutan/",
          "Bolivia/",
          "Bosnia and Herzegovina/",
          "Botswana/",
          "Brazil/",
          "Brunei/",
          "Bulgaria/",
          "Burkina Faso/",
          "Burma/",
          "Burundi/",
          "Cabo Verde/",
          "Cambodia/",
          "Cameroon/",
          "Central African Republic/",
          "Chad/",
          "Chile/",
          "Colombia/",
          "Comoros/",
          "Congo (Brazzaville)/",
          "Congo (Kinshasa)/",
          "Costa Rica/",
          "Cote d'Ivoire/",
          "Croatia/",
          "Cuba/",
          "Cyprus/",
          "Czechia/",
          "Denmark/",
          "Djibouti/",
          "Dominica/",
          "Dominican Republic/",
          "Ecuador/",
          "Egypt/",
          "El Salvador/",
          "Equatorial Guinea/",
          "Eritrea/",
          "Estonia/",
          "Eswatini/",
          "Ethiopia/",
          "Fiji/",
          "Finland/",
          "France/",
          "Gabon/",
          "Gambia/",
          "Georgia/",
          "Germany/",
          "Ghana/",
          "Greece/",
          "Grenada/",
          "Guatemala/",
          "Guinea/",
          "Guinea-Bissau/",
          "Guyana/",
          "Haiti/",
          "Holy See/",
          "Honduras/",
          "Hungary/",
          "Iceland/",
          "India/",
          "Indonesia/",
          "Iran/",
          "Iraq/",
          "Ireland/",
          "Israel/",
          "Italy/",
          "Jamaica/",
          "Japan/",
          "Jordan/",
          "Kazakhstan/",
          "Kenya/",
          "Kosovo/",
          "Kuwait/",
          "Kyrgyzstan/",
          "Laos/",
          "Latvia/",
          "Lebanon/",
          "Liberia/",
          "Libya/",
          "Liechtenstein/",
          "Lithuania/",
          "Luxembourg/",
          "Madagascar/",
          "Malawi/",
          "Malaysia/",
          "Maldives/",
          "Mali/",
          "Malta/",
          "Mauritania/",
          "Mauritius/",
          "Mexico/",
          "Moldova/",
          "Monaco/",
          "Mongolia/",
          "Montenegro/",
          "Morocco/",
          "Mozambique/",
          "Namibia/",
          "Nepal/",
          "Netherlands/",
          "New Zealand/",
          "Nicaragua/",
          "Niger/",
          "Nigeria/",
          "North Macedonia/",
          "Norway/",
          "Oman/",
          "Pakistan/",
          "Panama/",
          "Papua New Guinea/",
          "Paraguay/",
          "Peru/",
          "Philippines/",
          "Poland/",
          "Portugal/",
          "Qatar/",
          "Romania/",
          "Russia/",
          "Rwanda/",
          "Saint Kitts and Nevis/",
          "Saint Lucia/",
          "Saint Vincent and the Grenadines/",
          "San Marino/",
          "Sao Tome and Principe/",
          "Saudi Arabia/",
          "Senegal/",
          "Serbia/",
          "Seychelles/",
          "Sierra Leone/",
          "Singapore/",
          "Slovakia/",
          "Slovenia/",
          "Somalia/",
          "South Africa/",
          "South Korea/",
          "South Sudan/",
          "Spain/",
          "Sri Lanka/",
          "Sudan/",
          "Suriname/",
          "Sweden/",
          "Switzerland/",
          "Syria/",
          "Taiwan*/",
          "Tajikistan/",
          "Tanzania/",
          "Thailand/",
          "Timor-Leste/",
          "Togo/",
          "Trinidad and Tobago/",
          "Tunisia/",
          "Turkey/",
          "US/",
          "Uganda/",
          "Ukraine/",
          "United Arab Emirates/",
          "United Kingdom/",
          "Uruguay/",
          "Uzbekistan/",
          "Venezuela/",
          "Vietnam/",
          "West Bank and Gaza/",
          "Western Sahara/",
          "Yemen/",
          "Zambia/",
          "Zimbabwe/",
          "Canada/Alberta",
          "United Kingdom/Anguilla",
          "China/Anhui",
          "Netherlands/Aruba",
          "Australia/Australian Capital Territory",
          "China/Beijing",
          "United Kingdom/Bermuda",
          "Canada/British Columbia",
          "United Kingdom/British Virgin Islands",
          "United Kingdom/Cayman Islands",
          "United Kingdom/Channel Islands",
          "China/Chongqing",
          "Netherlands/Curacao",
          "United Kingdom/Falkland Islands (Malvinas)",
          "Denmark/Faroe Islands",
          "France/French Guiana",
          "France/French Polynesia",
          "China/Fujian",
          "China/Gansu",
          "United Kingdom/Gibraltar",
          "Greenland/Greenland",
          "France/Guadeloupe",
          "China/Guangdong",
          "China/Guangxi",
          "China/Guizhou",
          "China/Hainan",
          "China/Hebei",
          "China/Heilongjiang",
          "China/Henan",
          "China/Hong Kong",
          "China/Hubei",
          "China/Hunan",
          "China/Inner Mongolia",
          "United Kingdom/Isle of Man",
          "China/Jiangsu",
          "China/Jiangxi",
          "China/Jilin",
          "China/Liaoning",
          "China/Macau",
          "Canada/Manitoba",
          "France/Martinique",
          "France/Mayotte",
          "United Kingdom/Montserrat",
          "Canada/New Brunswick",
          "France/New Caledonia",
          "Australia/New South Wales",
          "Canada/Newfoundland and Labrador",
          "China/Ningxia",
          "Australia/Northern Territory",
          "Canada/Northwest Territories",
          "Canada/Nova Scotia",
          "Canada/Ontario",
          "Canada/Prince Edward Island",
          "China/Qinghai",
          "Canada/Quebec",
          "Australia/Queensland",
          "France/Reunion",
          "France/Saint Barthelemy",
          "France/Saint Pierre and Miquelon",
          "Canada/Saskatchewan",
          "China/Shaanxi",
          "China/Shandong",
          "China/Shanghai",
          "China/Shanxi",
          "China/Sichuan",
          "Netherlands/Sint Maarten",
          "Australia/South Australia",
          "France/St Martin",
          "Australia/Tasmania",
          "China/Tianjin",
          "China/Tibet",
          "United Kingdom/Turks and Caicos Islands",
          "Australia/Victoria",
          "Australia/Western Australia",
          "China/Xinjiang",
          "Canada/Yukon",
          "China/Yunnan",
          "China/Zhejiang",
          "Afghanistan",
          "Albania",
          "Algeria",
          "Andorra",
          "Angola",
          "Antigua and Barbuda",
          "Argentina",
          "Armenia",
          "Australia",
          "Austria",
          "Azerbaijan",
          "Bahamas",
          "Bahrain",
          "Bangladesh",
          "Barbados",
          "Belarus",
          "Belgium",
          "Belize",
          "Benin",
          "Bhutan",
          "Bolivia",
          "Bosnia and Herzegovina",
          "Botswana",
          "Brazil",
          "Brunei",
          "Bulgaria",
          "Burkina Faso",
          "Burma",
          "Burundi",
          "Cabo Verde",
          "Cambodia",
          "Cameroon",
          "Canada",
          "Central African Republic",
          "Chad",
          "Chile",
          "China",
          "Colombia",
          "Comoros",
          "Congo (Brazzaville)",
          "Congo (Kinshasa)",
          "Costa Rica",
          "Cote d'Ivoire",
          "Croatia",
          "Cuba",
          "Cyprus",
          "Czechia",
          "Denmark",
          "Djibouti",
          "Dominica",
          "Dominican Republic",
          "Ecuador",
          "Egypt",
          "El Salvador",
          "Equatorial Guinea",
          "Eritrea",
          "Estonia",
          "Eswatini",
          "Ethiopia",
          "Fiji",
          "Finland",
          "France",
          "Gabon",
          "Gambia",
          "Georgia",
          "Germany",
          "Ghana",
          "Greece",
          "Greenland",
          "Grenada",
          "Guatemala",
          "Guinea",
          "Guinea-Bissau",
          "Guyana",
          "Haiti",
          "Holy See",
          "Honduras",
          "Hungary",
          "Iceland",
          "India",
          "Indonesia",
          "Iran",
          "Iraq",
          "Ireland",
          "Israel",
          "Italy",
          "Jamaica",
          "Japan",
          "Jordan",
          "Kazakhstan",
          "Kenya",
          "Kosovo",
          "Kuwait",
          "Kyrgyzstan",
          "Laos",
          "Latvia",
          "Lebanon",
          "Liberia",
          "Libya",
          "Liechtenstein",
          "Lithuania",
          "Luxembourg",
          "Madagascar",
          "Malawi",
          "Malaysia",
          "Maldives",
          "Mali",
          "Malta",
          "Mauritania",
          "Mauritius",
          "Mexico",
          "Moldova",
          "Monaco",
          "Mongolia",
          "Montenegro",
          "Morocco",
          "Mozambique",
          "Namibia",
          "Nepal",
          "Netherlands",
          "New Zealand",
          "Nicaragua",
          "Niger",
          "Nigeria",
          "North Macedonia",
          "Norway",
          "Oman",
          "Pakistan",
          "Panama",
          "Papua New Guinea",
          "Paraguay",
          "Peru",
          "Philippines",
          "Poland",
          "Portugal",
          "Qatar",
          "Romania",
          "Russia",
          "Rwanda",
          "Saint Kitts and Nevis",
          "Saint Lucia",
          "Saint Vincent and the Grenadines",
          "San Marino",
          "Sao Tome and Principe",
          "Saudi Arabia",
          "Senegal",
          "Serbia",
          "Seychelles",
          "Sierra Leone",
          "Singapore",
          "Slovakia",
          "Slovenia",
          "Somalia",
          "South Africa",
          "South Korea",
          "South Sudan",
          "Spain",
          "Sri Lanka",
          "Sudan",
          "Suriname",
          "Sweden",
          "Switzerland",
          "Syria",
          "Taiwan*",
          "Tajikistan",
          "Tanzania",
          "Thailand",
          "Timor-Leste",
          "Togo",
          "Trinidad and Tobago",
          "Tunisia",
          "Turkey",
          "US",
          "Uganda",
          "Ukraine",
          "United Arab Emirates",
          "United Kingdom",
          "Uruguay",
          "Uzbekistan",
          "Venezuela",
          "Vietnam",
          "West Bank and Gaza",
          "Western Sahara",
          "Yemen",
          "Zambia",
          "Zimbabwe"
         ],
         "labels": [
          "",
          "",
          "",
          "",
          "",
          "",
          "",
          "",
          "",
          "",
          "",
          "",
          "",
          "",
          "",
          "",
          "",
          "",
          "",
          "",
          "",
          "",
          "",
          "",
          "",
          "",
          "",
          "",
          "",
          "",
          "",
          "",
          "",
          "",
          "",
          "",
          "",
          "",
          "",
          "",
          "",
          "",
          "",
          "",
          "",
          "",
          "",
          "",
          "",
          "",
          "",
          "",
          "",
          "",
          "",
          "",
          "",
          "",
          "",
          "",
          "",
          "",
          "",
          "",
          "",
          "",
          "",
          "",
          "",
          "",
          "",
          "",
          "",
          "",
          "",
          "",
          "",
          "",
          "",
          "",
          "",
          "",
          "",
          "",
          "",
          "",
          "",
          "",
          "",
          "",
          "",
          "",
          "",
          "",
          "",
          "",
          "",
          "",
          "",
          "",
          "",
          "",
          "",
          "",
          "",
          "",
          "",
          "",
          "",
          "",
          "",
          "",
          "",
          "",
          "",
          "",
          "",
          "",
          "",
          "",
          "",
          "",
          "",
          "",
          "",
          "",
          "",
          "",
          "",
          "",
          "",
          "",
          "",
          "",
          "",
          "",
          "",
          "",
          "",
          "",
          "",
          "",
          "",
          "",
          "",
          "",
          "",
          "",
          "",
          "",
          "",
          "",
          "",
          "",
          "",
          "",
          "",
          "",
          "",
          "",
          "",
          "",
          "",
          "",
          "",
          "",
          "",
          "",
          "",
          "",
          "",
          "",
          "",
          "",
          "",
          "",
          "",
          "",
          "",
          "",
          "",
          "",
          "Alberta",
          "Anguilla",
          "Anhui",
          "Aruba",
          "Australian Capital Territory",
          "Beijing",
          "Bermuda",
          "British Columbia",
          "British Virgin Islands",
          "Cayman Islands",
          "Channel Islands",
          "Chongqing",
          "Curacao",
          "Falkland Islands (Malvinas)",
          "Faroe Islands",
          "French Guiana",
          "French Polynesia",
          "Fujian",
          "Gansu",
          "Gibraltar",
          "Greenland",
          "Guadeloupe",
          "Guangdong",
          "Guangxi",
          "Guizhou",
          "Hainan",
          "Hebei",
          "Heilongjiang",
          "Henan",
          "Hong Kong",
          "Hubei",
          "Hunan",
          "Inner Mongolia",
          "Isle of Man",
          "Jiangsu",
          "Jiangxi",
          "Jilin",
          "Liaoning",
          "Macau",
          "Manitoba",
          "Martinique",
          "Mayotte",
          "Montserrat",
          "New Brunswick",
          "New Caledonia",
          "New South Wales",
          "Newfoundland and Labrador",
          "Ningxia",
          "Northern Territory",
          "Northwest Territories",
          "Nova Scotia",
          "Ontario",
          "Prince Edward Island",
          "Qinghai",
          "Quebec",
          "Queensland",
          "Reunion",
          "Saint Barthelemy",
          "Saint Pierre and Miquelon",
          "Saskatchewan",
          "Shaanxi",
          "Shandong",
          "Shanghai",
          "Shanxi",
          "Sichuan",
          "Sint Maarten",
          "South Australia",
          "St Martin",
          "Tasmania",
          "Tianjin",
          "Tibet",
          "Turks and Caicos Islands",
          "Victoria",
          "Western Australia",
          "Xinjiang",
          "Yukon",
          "Yunnan",
          "Zhejiang",
          "Afghanistan",
          "Albania",
          "Algeria",
          "Andorra",
          "Angola",
          "Antigua and Barbuda",
          "Argentina",
          "Armenia",
          "Australia",
          "Austria",
          "Azerbaijan",
          "Bahamas",
          "Bahrain",
          "Bangladesh",
          "Barbados",
          "Belarus",
          "Belgium",
          "Belize",
          "Benin",
          "Bhutan",
          "Bolivia",
          "Bosnia and Herzegovina",
          "Botswana",
          "Brazil",
          "Brunei",
          "Bulgaria",
          "Burkina Faso",
          "Burma",
          "Burundi",
          "Cabo Verde",
          "Cambodia",
          "Cameroon",
          "Canada",
          "Central African Republic",
          "Chad",
          "Chile",
          "China",
          "Colombia",
          "Comoros",
          "Congo (Brazzaville)",
          "Congo (Kinshasa)",
          "Costa Rica",
          "Cote d'Ivoire",
          "Croatia",
          "Cuba",
          "Cyprus",
          "Czechia",
          "Denmark",
          "Djibouti",
          "Dominica",
          "Dominican Republic",
          "Ecuador",
          "Egypt",
          "El Salvador",
          "Equatorial Guinea",
          "Eritrea",
          "Estonia",
          "Eswatini",
          "Ethiopia",
          "Fiji",
          "Finland",
          "France",
          "Gabon",
          "Gambia",
          "Georgia",
          "Germany",
          "Ghana",
          "Greece",
          "Greenland",
          "Grenada",
          "Guatemala",
          "Guinea",
          "Guinea-Bissau",
          "Guyana",
          "Haiti",
          "Holy See",
          "Honduras",
          "Hungary",
          "Iceland",
          "India",
          "Indonesia",
          "Iran",
          "Iraq",
          "Ireland",
          "Israel",
          "Italy",
          "Jamaica",
          "Japan",
          "Jordan",
          "Kazakhstan",
          "Kenya",
          "Kosovo",
          "Kuwait",
          "Kyrgyzstan",
          "Laos",
          "Latvia",
          "Lebanon",
          "Liberia",
          "Libya",
          "Liechtenstein",
          "Lithuania",
          "Luxembourg",
          "Madagascar",
          "Malawi",
          "Malaysia",
          "Maldives",
          "Mali",
          "Malta",
          "Mauritania",
          "Mauritius",
          "Mexico",
          "Moldova",
          "Monaco",
          "Mongolia",
          "Montenegro",
          "Morocco",
          "Mozambique",
          "Namibia",
          "Nepal",
          "Netherlands",
          "New Zealand",
          "Nicaragua",
          "Niger",
          "Nigeria",
          "North Macedonia",
          "Norway",
          "Oman",
          "Pakistan",
          "Panama",
          "Papua New Guinea",
          "Paraguay",
          "Peru",
          "Philippines",
          "Poland",
          "Portugal",
          "Qatar",
          "Romania",
          "Russia",
          "Rwanda",
          "Saint Kitts and Nevis",
          "Saint Lucia",
          "Saint Vincent and the Grenadines",
          "San Marino",
          "Sao Tome and Principe",
          "Saudi Arabia",
          "Senegal",
          "Serbia",
          "Seychelles",
          "Sierra Leone",
          "Singapore",
          "Slovakia",
          "Slovenia",
          "Somalia",
          "South Africa",
          "South Korea",
          "South Sudan",
          "Spain",
          "Sri Lanka",
          "Sudan",
          "Suriname",
          "Sweden",
          "Switzerland",
          "Syria",
          "Taiwan*",
          "Tajikistan",
          "Tanzania",
          "Thailand",
          "Timor-Leste",
          "Togo",
          "Trinidad and Tobago",
          "Tunisia",
          "Turkey",
          "US",
          "Uganda",
          "Ukraine",
          "United Arab Emirates",
          "United Kingdom",
          "Uruguay",
          "Uzbekistan",
          "Venezuela",
          "Vietnam",
          "West Bank and Gaza",
          "Western Sahara",
          "Yemen",
          "Zambia",
          "Zimbabwe"
         ],
         "name": "",
         "parents": [
          "Afghanistan",
          "Albania",
          "Algeria",
          "Andorra",
          "Angola",
          "Antigua and Barbuda",
          "Argentina",
          "Armenia",
          "Austria",
          "Azerbaijan",
          "Bahamas",
          "Bahrain",
          "Bangladesh",
          "Barbados",
          "Belarus",
          "Belgium",
          "Belize",
          "Benin",
          "Bhutan",
          "Bolivia",
          "Bosnia and Herzegovina",
          "Botswana",
          "Brazil",
          "Brunei",
          "Bulgaria",
          "Burkina Faso",
          "Burma",
          "Burundi",
          "Cabo Verde",
          "Cambodia",
          "Cameroon",
          "Central African Republic",
          "Chad",
          "Chile",
          "Colombia",
          "Comoros",
          "Congo (Brazzaville)",
          "Congo (Kinshasa)",
          "Costa Rica",
          "Cote d'Ivoire",
          "Croatia",
          "Cuba",
          "Cyprus",
          "Czechia",
          "Denmark",
          "Djibouti",
          "Dominica",
          "Dominican Republic",
          "Ecuador",
          "Egypt",
          "El Salvador",
          "Equatorial Guinea",
          "Eritrea",
          "Estonia",
          "Eswatini",
          "Ethiopia",
          "Fiji",
          "Finland",
          "France",
          "Gabon",
          "Gambia",
          "Georgia",
          "Germany",
          "Ghana",
          "Greece",
          "Grenada",
          "Guatemala",
          "Guinea",
          "Guinea-Bissau",
          "Guyana",
          "Haiti",
          "Holy See",
          "Honduras",
          "Hungary",
          "Iceland",
          "India",
          "Indonesia",
          "Iran",
          "Iraq",
          "Ireland",
          "Israel",
          "Italy",
          "Jamaica",
          "Japan",
          "Jordan",
          "Kazakhstan",
          "Kenya",
          "Kosovo",
          "Kuwait",
          "Kyrgyzstan",
          "Laos",
          "Latvia",
          "Lebanon",
          "Liberia",
          "Libya",
          "Liechtenstein",
          "Lithuania",
          "Luxembourg",
          "Madagascar",
          "Malawi",
          "Malaysia",
          "Maldives",
          "Mali",
          "Malta",
          "Mauritania",
          "Mauritius",
          "Mexico",
          "Moldova",
          "Monaco",
          "Mongolia",
          "Montenegro",
          "Morocco",
          "Mozambique",
          "Namibia",
          "Nepal",
          "Netherlands",
          "New Zealand",
          "Nicaragua",
          "Niger",
          "Nigeria",
          "North Macedonia",
          "Norway",
          "Oman",
          "Pakistan",
          "Panama",
          "Papua New Guinea",
          "Paraguay",
          "Peru",
          "Philippines",
          "Poland",
          "Portugal",
          "Qatar",
          "Romania",
          "Russia",
          "Rwanda",
          "Saint Kitts and Nevis",
          "Saint Lucia",
          "Saint Vincent and the Grenadines",
          "San Marino",
          "Sao Tome and Principe",
          "Saudi Arabia",
          "Senegal",
          "Serbia",
          "Seychelles",
          "Sierra Leone",
          "Singapore",
          "Slovakia",
          "Slovenia",
          "Somalia",
          "South Africa",
          "South Korea",
          "South Sudan",
          "Spain",
          "Sri Lanka",
          "Sudan",
          "Suriname",
          "Sweden",
          "Switzerland",
          "Syria",
          "Taiwan*",
          "Tajikistan",
          "Tanzania",
          "Thailand",
          "Timor-Leste",
          "Togo",
          "Trinidad and Tobago",
          "Tunisia",
          "Turkey",
          "US",
          "Uganda",
          "Ukraine",
          "United Arab Emirates",
          "United Kingdom",
          "Uruguay",
          "Uzbekistan",
          "Venezuela",
          "Vietnam",
          "West Bank and Gaza",
          "Western Sahara",
          "Yemen",
          "Zambia",
          "Zimbabwe",
          "Canada",
          "United Kingdom",
          "China",
          "Netherlands",
          "Australia",
          "China",
          "United Kingdom",
          "Canada",
          "United Kingdom",
          "United Kingdom",
          "United Kingdom",
          "China",
          "Netherlands",
          "United Kingdom",
          "Denmark",
          "France",
          "France",
          "China",
          "China",
          "United Kingdom",
          "Greenland",
          "France",
          "China",
          "China",
          "China",
          "China",
          "China",
          "China",
          "China",
          "China",
          "China",
          "China",
          "China",
          "United Kingdom",
          "China",
          "China",
          "China",
          "China",
          "China",
          "Canada",
          "France",
          "France",
          "United Kingdom",
          "Canada",
          "France",
          "Australia",
          "Canada",
          "China",
          "Australia",
          "Canada",
          "Canada",
          "Canada",
          "Canada",
          "China",
          "Canada",
          "Australia",
          "France",
          "France",
          "France",
          "Canada",
          "China",
          "China",
          "China",
          "China",
          "China",
          "Netherlands",
          "Australia",
          "France",
          "Australia",
          "China",
          "China",
          "United Kingdom",
          "Australia",
          "Australia",
          "China",
          "Canada",
          "China",
          "China",
          "",
          "",
          "",
          "",
          "",
          "",
          "",
          "",
          "",
          "",
          "",
          "",
          "",
          "",
          "",
          "",
          "",
          "",
          "",
          "",
          "",
          "",
          "",
          "",
          "",
          "",
          "",
          "",
          "",
          "",
          "",
          "",
          "",
          "",
          "",
          "",
          "",
          "",
          "",
          "",
          "",
          "",
          "",
          "",
          "",
          "",
          "",
          "",
          "",
          "",
          "",
          "",
          "",
          "",
          "",
          "",
          "",
          "",
          "",
          "",
          "",
          "",
          "",
          "",
          "",
          "",
          "",
          "",
          "",
          "",
          "",
          "",
          "",
          "",
          "",
          "",
          "",
          "",
          "",
          "",
          "",
          "",
          "",
          "",
          "",
          "",
          "",
          "",
          "",
          "",
          "",
          "",
          "",
          "",
          "",
          "",
          "",
          "",
          "",
          "",
          "",
          "",
          "",
          "",
          "",
          "",
          "",
          "",
          "",
          "",
          "",
          "",
          "",
          "",
          "",
          "",
          "",
          "",
          "",
          "",
          "",
          "",
          "",
          "",
          "",
          "",
          "",
          "",
          "",
          "",
          "",
          "",
          "",
          "",
          "",
          "",
          "",
          "",
          "",
          "",
          "",
          "",
          "",
          "",
          "",
          "",
          "",
          "",
          "",
          "",
          "",
          "",
          "",
          "",
          "",
          "",
          "",
          "",
          "",
          "",
          "",
          "",
          "",
          "",
          "",
          "",
          "",
          "",
          "",
          "",
          "",
          "",
          "",
          "",
          "",
          "",
          "",
          "",
          "",
          "",
          "",
          "",
          "",
          "",
          "",
          ""
         ],
         "textinfo": "label+text+value",
         "type": "treemap",
         "values": [
          4033,
          856,
          5558,
          754,
          43,
          25,
          5776,
          3175,
          15833,
          2422,
          92,
          4774,
          13770,
          84,
          22052,
          52596,
          18,
          284,
          7,
          2437,
          2090,
          23,
          156061,
          141,
          1921,
          748,
          178,
          15,
          236,
          122,
          2274,
          143,
          322,
          27219,
          10495,
          11,
          274,
          937,
          780,
          1667,
          2176,
          1754,
          892,
          8095,
          10319,
          1189,
          16,
          9882,
          29071,
          8964,
          784,
          439,
          39,
          1733,
          163,
          210,
          18,
          5880,
          174758,
          661,
          20,
          626,
          171324,
          4263,
          2710,
          21,
          967,
          2042,
          641,
          94,
          151,
          12,
          1830,
          3213,
          1801,
          62808,
          13645,
          106220,
          2679,
          22760,
          16454,
          218268,
          490,
          15663,
          522,
          4975,
          649,
          862,
          7623,
          931,
          19,
          930,
          809,
          199,
          64,
          82,
          1444,
          3877,
          193,
          56,
          6589,
          790,
          692,
          490,
          8,
          332,
          33460,
          4867,
          96,
          42,
          324,
          5910,
          87,
          16,
          110,
          42382,
          1494,
          16,
          815,
          4151,
          1622,
          8099,
          3224,
          28736,
          8282,
          8,
          689,
          65015,
          10610,
          15651,
          27406,
          21331,
          15131,
          198676,
          280,
          15,
          18,
          17,
          637,
          208,
          37136,
          1634,
          10032,
          11,
          291,
          22460,
          1455,
          1454,
          997,
          9420,
          10874,
          120,
          223578,
          847,
          1164,
          10,
          25921,
          30251,
          47,
          440,
          612,
          509,
          3004,
          24,
          153,
          116,
          1032,
          137115,
          1309550,
          116,
          14710,
          17417,
          215260,
          702,
          2349,
          402,
          288,
          375,
          6,
          34,
          252,
          35,
          6157,
          3,
          991,
          101,
          107,
          593,
          118,
          2330,
          7,
          81,
          545,
          579,
          16,
          13,
          187,
          141,
          60,
          356,
          139,
          146,
          11,
          154,
          1589,
          254,
          147,
          168,
          328,
          944,
          1276,
          1044,
          68129,
          1019,
          201,
          329,
          653,
          937,
          124,
          146,
          45,
          284,
          186,
          988,
          11,
          120,
          18,
          3053,
          261,
          75,
          29,
          5,
          1011,
          21148,
          27,
          18,
          36997,
          1045,
          431,
          6,
          1,
          553,
          308,
          788,
          659,
          198,
          561,
          76,
          439,
          39,
          227,
          191,
          1,
          12,
          1487,
          552,
          76,
          11,
          185,
          1268,
          4033,
          856,
          5558,
          754,
          43,
          25,
          5776,
          3175,
          6939,
          15833,
          2422,
          92,
          4774,
          13770,
          84,
          22052,
          52596,
          18,
          284,
          7,
          2437,
          2090,
          23,
          156061,
          141,
          1921,
          748,
          178,
          15,
          236,
          122,
          2274,
          68904,
          143,
          322,
          27219,
          83990,
          10495,
          11,
          274,
          937,
          780,
          1667,
          2176,
          1754,
          892,
          8095,
          10506,
          1189,
          16,
          9882,
          29071,
          8964,
          784,
          439,
          39,
          1733,
          163,
          210,
          18,
          5880,
          176782,
          661,
          20,
          626,
          171324,
          4263,
          2710,
          11,
          21,
          967,
          2042,
          641,
          94,
          151,
          12,
          1830,
          3213,
          1801,
          62808,
          13645,
          106220,
          2679,
          22760,
          16454,
          218268,
          490,
          15663,
          522,
          4975,
          649,
          862,
          7623,
          931,
          19,
          930,
          809,
          199,
          64,
          82,
          1444,
          3877,
          193,
          56,
          6589,
          790,
          692,
          490,
          8,
          332,
          33460,
          4867,
          96,
          42,
          324,
          5910,
          87,
          16,
          110,
          42575,
          1494,
          16,
          815,
          4151,
          1622,
          8099,
          3224,
          28736,
          8282,
          8,
          689,
          65015,
          10610,
          15651,
          27406,
          21331,
          15131,
          198676,
          280,
          15,
          18,
          17,
          637,
          208,
          37136,
          1634,
          10032,
          11,
          291,
          22460,
          1455,
          1454,
          997,
          9420,
          10874,
          120,
          223578,
          847,
          1164,
          10,
          25921,
          30251,
          47,
          440,
          612,
          509,
          3004,
          24,
          153,
          116,
          1032,
          137115,
          1309550,
          116,
          14710,
          17417,
          216525,
          702,
          2349,
          402,
          288,
          375,
          6,
          34,
          252,
          35
         ]
        }
       ],
       "layout": {
        "height": 700,
        "legend": {
         "tracegroupgap": 0
        },
        "template": {
         "data": {
          "bar": [
           {
            "error_x": {
             "color": "#2a3f5f"
            },
            "error_y": {
             "color": "#2a3f5f"
            },
            "marker": {
             "line": {
              "color": "#E5ECF6",
              "width": 0.5
             }
            },
            "type": "bar"
           }
          ],
          "barpolar": [
           {
            "marker": {
             "line": {
              "color": "#E5ECF6",
              "width": 0.5
             }
            },
            "type": "barpolar"
           }
          ],
          "carpet": [
           {
            "aaxis": {
             "endlinecolor": "#2a3f5f",
             "gridcolor": "white",
             "linecolor": "white",
             "minorgridcolor": "white",
             "startlinecolor": "#2a3f5f"
            },
            "baxis": {
             "endlinecolor": "#2a3f5f",
             "gridcolor": "white",
             "linecolor": "white",
             "minorgridcolor": "white",
             "startlinecolor": "#2a3f5f"
            },
            "type": "carpet"
           }
          ],
          "choropleth": [
           {
            "colorbar": {
             "outlinewidth": 0,
             "ticks": ""
            },
            "type": "choropleth"
           }
          ],
          "contour": [
           {
            "colorbar": {
             "outlinewidth": 0,
             "ticks": ""
            },
            "colorscale": [
             [
              0,
              "#0d0887"
             ],
             [
              0.1111111111111111,
              "#46039f"
             ],
             [
              0.2222222222222222,
              "#7201a8"
             ],
             [
              0.3333333333333333,
              "#9c179e"
             ],
             [
              0.4444444444444444,
              "#bd3786"
             ],
             [
              0.5555555555555556,
              "#d8576b"
             ],
             [
              0.6666666666666666,
              "#ed7953"
             ],
             [
              0.7777777777777778,
              "#fb9f3a"
             ],
             [
              0.8888888888888888,
              "#fdca26"
             ],
             [
              1,
              "#f0f921"
             ]
            ],
            "type": "contour"
           }
          ],
          "contourcarpet": [
           {
            "colorbar": {
             "outlinewidth": 0,
             "ticks": ""
            },
            "type": "contourcarpet"
           }
          ],
          "heatmap": [
           {
            "colorbar": {
             "outlinewidth": 0,
             "ticks": ""
            },
            "colorscale": [
             [
              0,
              "#0d0887"
             ],
             [
              0.1111111111111111,
              "#46039f"
             ],
             [
              0.2222222222222222,
              "#7201a8"
             ],
             [
              0.3333333333333333,
              "#9c179e"
             ],
             [
              0.4444444444444444,
              "#bd3786"
             ],
             [
              0.5555555555555556,
              "#d8576b"
             ],
             [
              0.6666666666666666,
              "#ed7953"
             ],
             [
              0.7777777777777778,
              "#fb9f3a"
             ],
             [
              0.8888888888888888,
              "#fdca26"
             ],
             [
              1,
              "#f0f921"
             ]
            ],
            "type": "heatmap"
           }
          ],
          "heatmapgl": [
           {
            "colorbar": {
             "outlinewidth": 0,
             "ticks": ""
            },
            "colorscale": [
             [
              0,
              "#0d0887"
             ],
             [
              0.1111111111111111,
              "#46039f"
             ],
             [
              0.2222222222222222,
              "#7201a8"
             ],
             [
              0.3333333333333333,
              "#9c179e"
             ],
             [
              0.4444444444444444,
              "#bd3786"
             ],
             [
              0.5555555555555556,
              "#d8576b"
             ],
             [
              0.6666666666666666,
              "#ed7953"
             ],
             [
              0.7777777777777778,
              "#fb9f3a"
             ],
             [
              0.8888888888888888,
              "#fdca26"
             ],
             [
              1,
              "#f0f921"
             ]
            ],
            "type": "heatmapgl"
           }
          ],
          "histogram": [
           {
            "marker": {
             "colorbar": {
              "outlinewidth": 0,
              "ticks": ""
             }
            },
            "type": "histogram"
           }
          ],
          "histogram2d": [
           {
            "colorbar": {
             "outlinewidth": 0,
             "ticks": ""
            },
            "colorscale": [
             [
              0,
              "#0d0887"
             ],
             [
              0.1111111111111111,
              "#46039f"
             ],
             [
              0.2222222222222222,
              "#7201a8"
             ],
             [
              0.3333333333333333,
              "#9c179e"
             ],
             [
              0.4444444444444444,
              "#bd3786"
             ],
             [
              0.5555555555555556,
              "#d8576b"
             ],
             [
              0.6666666666666666,
              "#ed7953"
             ],
             [
              0.7777777777777778,
              "#fb9f3a"
             ],
             [
              0.8888888888888888,
              "#fdca26"
             ],
             [
              1,
              "#f0f921"
             ]
            ],
            "type": "histogram2d"
           }
          ],
          "histogram2dcontour": [
           {
            "colorbar": {
             "outlinewidth": 0,
             "ticks": ""
            },
            "colorscale": [
             [
              0,
              "#0d0887"
             ],
             [
              0.1111111111111111,
              "#46039f"
             ],
             [
              0.2222222222222222,
              "#7201a8"
             ],
             [
              0.3333333333333333,
              "#9c179e"
             ],
             [
              0.4444444444444444,
              "#bd3786"
             ],
             [
              0.5555555555555556,
              "#d8576b"
             ],
             [
              0.6666666666666666,
              "#ed7953"
             ],
             [
              0.7777777777777778,
              "#fb9f3a"
             ],
             [
              0.8888888888888888,
              "#fdca26"
             ],
             [
              1,
              "#f0f921"
             ]
            ],
            "type": "histogram2dcontour"
           }
          ],
          "mesh3d": [
           {
            "colorbar": {
             "outlinewidth": 0,
             "ticks": ""
            },
            "type": "mesh3d"
           }
          ],
          "parcoords": [
           {
            "line": {
             "colorbar": {
              "outlinewidth": 0,
              "ticks": ""
             }
            },
            "type": "parcoords"
           }
          ],
          "pie": [
           {
            "automargin": true,
            "type": "pie"
           }
          ],
          "scatter": [
           {
            "marker": {
             "colorbar": {
              "outlinewidth": 0,
              "ticks": ""
             }
            },
            "type": "scatter"
           }
          ],
          "scatter3d": [
           {
            "line": {
             "colorbar": {
              "outlinewidth": 0,
              "ticks": ""
             }
            },
            "marker": {
             "colorbar": {
              "outlinewidth": 0,
              "ticks": ""
             }
            },
            "type": "scatter3d"
           }
          ],
          "scattercarpet": [
           {
            "marker": {
             "colorbar": {
              "outlinewidth": 0,
              "ticks": ""
             }
            },
            "type": "scattercarpet"
           }
          ],
          "scattergeo": [
           {
            "marker": {
             "colorbar": {
              "outlinewidth": 0,
              "ticks": ""
             }
            },
            "type": "scattergeo"
           }
          ],
          "scattergl": [
           {
            "marker": {
             "colorbar": {
              "outlinewidth": 0,
              "ticks": ""
             }
            },
            "type": "scattergl"
           }
          ],
          "scattermapbox": [
           {
            "marker": {
             "colorbar": {
              "outlinewidth": 0,
              "ticks": ""
             }
            },
            "type": "scattermapbox"
           }
          ],
          "scatterpolar": [
           {
            "marker": {
             "colorbar": {
              "outlinewidth": 0,
              "ticks": ""
             }
            },
            "type": "scatterpolar"
           }
          ],
          "scatterpolargl": [
           {
            "marker": {
             "colorbar": {
              "outlinewidth": 0,
              "ticks": ""
             }
            },
            "type": "scatterpolargl"
           }
          ],
          "scatterternary": [
           {
            "marker": {
             "colorbar": {
              "outlinewidth": 0,
              "ticks": ""
             }
            },
            "type": "scatterternary"
           }
          ],
          "surface": [
           {
            "colorbar": {
             "outlinewidth": 0,
             "ticks": ""
            },
            "colorscale": [
             [
              0,
              "#0d0887"
             ],
             [
              0.1111111111111111,
              "#46039f"
             ],
             [
              0.2222222222222222,
              "#7201a8"
             ],
             [
              0.3333333333333333,
              "#9c179e"
             ],
             [
              0.4444444444444444,
              "#bd3786"
             ],
             [
              0.5555555555555556,
              "#d8576b"
             ],
             [
              0.6666666666666666,
              "#ed7953"
             ],
             [
              0.7777777777777778,
              "#fb9f3a"
             ],
             [
              0.8888888888888888,
              "#fdca26"
             ],
             [
              1,
              "#f0f921"
             ]
            ],
            "type": "surface"
           }
          ],
          "table": [
           {
            "cells": {
             "fill": {
              "color": "#EBF0F8"
             },
             "line": {
              "color": "white"
             }
            },
            "header": {
             "fill": {
              "color": "#C8D4E3"
             },
             "line": {
              "color": "white"
             }
            },
            "type": "table"
           }
          ]
         },
         "layout": {
          "annotationdefaults": {
           "arrowcolor": "#2a3f5f",
           "arrowhead": 0,
           "arrowwidth": 1
          },
          "coloraxis": {
           "colorbar": {
            "outlinewidth": 0,
            "ticks": ""
           }
          },
          "colorscale": {
           "diverging": [
            [
             0,
             "#8e0152"
            ],
            [
             0.1,
             "#c51b7d"
            ],
            [
             0.2,
             "#de77ae"
            ],
            [
             0.3,
             "#f1b6da"
            ],
            [
             0.4,
             "#fde0ef"
            ],
            [
             0.5,
             "#f7f7f7"
            ],
            [
             0.6,
             "#e6f5d0"
            ],
            [
             0.7,
             "#b8e186"
            ],
            [
             0.8,
             "#7fbc41"
            ],
            [
             0.9,
             "#4d9221"
            ],
            [
             1,
             "#276419"
            ]
           ],
           "sequential": [
            [
             0,
             "#0d0887"
            ],
            [
             0.1111111111111111,
             "#46039f"
            ],
            [
             0.2222222222222222,
             "#7201a8"
            ],
            [
             0.3333333333333333,
             "#9c179e"
            ],
            [
             0.4444444444444444,
             "#bd3786"
            ],
            [
             0.5555555555555556,
             "#d8576b"
            ],
            [
             0.6666666666666666,
             "#ed7953"
            ],
            [
             0.7777777777777778,
             "#fb9f3a"
            ],
            [
             0.8888888888888888,
             "#fdca26"
            ],
            [
             1,
             "#f0f921"
            ]
           ],
           "sequentialminus": [
            [
             0,
             "#0d0887"
            ],
            [
             0.1111111111111111,
             "#46039f"
            ],
            [
             0.2222222222222222,
             "#7201a8"
            ],
            [
             0.3333333333333333,
             "#9c179e"
            ],
            [
             0.4444444444444444,
             "#bd3786"
            ],
            [
             0.5555555555555556,
             "#d8576b"
            ],
            [
             0.6666666666666666,
             "#ed7953"
            ],
            [
             0.7777777777777778,
             "#fb9f3a"
            ],
            [
             0.8888888888888888,
             "#fdca26"
            ],
            [
             1,
             "#f0f921"
            ]
           ]
          },
          "colorway": [
           "#636efa",
           "#EF553B",
           "#00cc96",
           "#ab63fa",
           "#FFA15A",
           "#19d3f3",
           "#FF6692",
           "#B6E880",
           "#FF97FF",
           "#FECB52"
          ],
          "font": {
           "color": "#2a3f5f"
          },
          "geo": {
           "bgcolor": "white",
           "lakecolor": "white",
           "landcolor": "#E5ECF6",
           "showlakes": true,
           "showland": true,
           "subunitcolor": "white"
          },
          "hoverlabel": {
           "align": "left"
          },
          "hovermode": "closest",
          "mapbox": {
           "style": "light"
          },
          "paper_bgcolor": "white",
          "plot_bgcolor": "#E5ECF6",
          "polar": {
           "angularaxis": {
            "gridcolor": "white",
            "linecolor": "white",
            "ticks": ""
           },
           "bgcolor": "#E5ECF6",
           "radialaxis": {
            "gridcolor": "white",
            "linecolor": "white",
            "ticks": ""
           }
          },
          "scene": {
           "xaxis": {
            "backgroundcolor": "#E5ECF6",
            "gridcolor": "white",
            "gridwidth": 2,
            "linecolor": "white",
            "showbackground": true,
            "ticks": "",
            "zerolinecolor": "white"
           },
           "yaxis": {
            "backgroundcolor": "#E5ECF6",
            "gridcolor": "white",
            "gridwidth": 2,
            "linecolor": "white",
            "showbackground": true,
            "ticks": "",
            "zerolinecolor": "white"
           },
           "zaxis": {
            "backgroundcolor": "#E5ECF6",
            "gridcolor": "white",
            "gridwidth": 2,
            "linecolor": "white",
            "showbackground": true,
            "ticks": "",
            "zerolinecolor": "white"
           }
          },
          "shapedefaults": {
           "line": {
            "color": "#2a3f5f"
           }
          },
          "ternary": {
           "aaxis": {
            "gridcolor": "white",
            "linecolor": "white",
            "ticks": ""
           },
           "baxis": {
            "gridcolor": "white",
            "linecolor": "white",
            "ticks": ""
           },
           "bgcolor": "#E5ECF6",
           "caxis": {
            "gridcolor": "white",
            "linecolor": "white",
            "ticks": ""
           }
          },
          "title": {
           "x": 0.05
          },
          "xaxis": {
           "automargin": true,
           "gridcolor": "white",
           "linecolor": "white",
           "ticks": "",
           "title": {
            "standoff": 15
           },
           "zerolinecolor": "white",
           "zerolinewidth": 2
          },
          "yaxis": {
           "automargin": true,
           "gridcolor": "white",
           "linecolor": "white",
           "ticks": "",
           "title": {
            "standoff": 15
           },
           "zerolinecolor": "white",
           "zerolinewidth": 2
          }
         }
        },
        "title": {
         "text": "Number of Confirmed Cases"
        },
        "treemapcolorway": [
         "rgb(27,158,119)",
         "rgb(217,95,2)",
         "rgb(117,112,179)",
         "rgb(231,41,138)",
         "rgb(102,166,30)",
         "rgb(230,171,2)",
         "rgb(166,118,29)",
         "rgb(102,102,102)"
        ]
       }
      },
      "text/html": [
       "<div>\n",
       "        \n",
       "        \n",
       "            <div id=\"84222283-311c-4803-9973-1506e45d49cd\" class=\"plotly-graph-div\" style=\"height:700px; width:100%;\"></div>\n",
       "            <script type=\"text/javascript\">\n",
       "                require([\"plotly\"], function(Plotly) {\n",
       "                    window.PLOTLYENV=window.PLOTLYENV || {};\n",
       "                    \n",
       "                if (document.getElementById(\"84222283-311c-4803-9973-1506e45d49cd\")) {\n",
       "                    Plotly.newPlot(\n",
       "                        '84222283-311c-4803-9973-1506e45d49cd',\n",
       "                        [{\"branchvalues\": \"total\", \"domain\": {\"x\": [0.0, 1.0], \"y\": [0.0, 1.0]}, \"hovertemplate\": \"labels=%{label}<br>Confirmed=%{value}<br>parent=%{parent}<br>id=%{id}<extra></extra>\", \"ids\": [\"Afghanistan/\", \"Albania/\", \"Algeria/\", \"Andorra/\", \"Angola/\", \"Antigua and Barbuda/\", \"Argentina/\", \"Armenia/\", \"Austria/\", \"Azerbaijan/\", \"Bahamas/\", \"Bahrain/\", \"Bangladesh/\", \"Barbados/\", \"Belarus/\", \"Belgium/\", \"Belize/\", \"Benin/\", \"Bhutan/\", \"Bolivia/\", \"Bosnia and Herzegovina/\", \"Botswana/\", \"Brazil/\", \"Brunei/\", \"Bulgaria/\", \"Burkina Faso/\", \"Burma/\", \"Burundi/\", \"Cabo Verde/\", \"Cambodia/\", \"Cameroon/\", \"Central African Republic/\", \"Chad/\", \"Chile/\", \"Colombia/\", \"Comoros/\", \"Congo (Brazzaville)/\", \"Congo (Kinshasa)/\", \"Costa Rica/\", \"Cote d'Ivoire/\", \"Croatia/\", \"Cuba/\", \"Cyprus/\", \"Czechia/\", \"Denmark/\", \"Djibouti/\", \"Dominica/\", \"Dominican Republic/\", \"Ecuador/\", \"Egypt/\", \"El Salvador/\", \"Equatorial Guinea/\", \"Eritrea/\", \"Estonia/\", \"Eswatini/\", \"Ethiopia/\", \"Fiji/\", \"Finland/\", \"France/\", \"Gabon/\", \"Gambia/\", \"Georgia/\", \"Germany/\", \"Ghana/\", \"Greece/\", \"Grenada/\", \"Guatemala/\", \"Guinea/\", \"Guinea-Bissau/\", \"Guyana/\", \"Haiti/\", \"Holy See/\", \"Honduras/\", \"Hungary/\", \"Iceland/\", \"India/\", \"Indonesia/\", \"Iran/\", \"Iraq/\", \"Ireland/\", \"Israel/\", \"Italy/\", \"Jamaica/\", \"Japan/\", \"Jordan/\", \"Kazakhstan/\", \"Kenya/\", \"Kosovo/\", \"Kuwait/\", \"Kyrgyzstan/\", \"Laos/\", \"Latvia/\", \"Lebanon/\", \"Liberia/\", \"Libya/\", \"Liechtenstein/\", \"Lithuania/\", \"Luxembourg/\", \"Madagascar/\", \"Malawi/\", \"Malaysia/\", \"Maldives/\", \"Mali/\", \"Malta/\", \"Mauritania/\", \"Mauritius/\", \"Mexico/\", \"Moldova/\", \"Monaco/\", \"Mongolia/\", \"Montenegro/\", \"Morocco/\", \"Mozambique/\", \"Namibia/\", \"Nepal/\", \"Netherlands/\", \"New Zealand/\", \"Nicaragua/\", \"Niger/\", \"Nigeria/\", \"North Macedonia/\", \"Norway/\", \"Oman/\", \"Pakistan/\", \"Panama/\", \"Papua New Guinea/\", \"Paraguay/\", \"Peru/\", \"Philippines/\", \"Poland/\", \"Portugal/\", \"Qatar/\", \"Romania/\", \"Russia/\", \"Rwanda/\", \"Saint Kitts and Nevis/\", \"Saint Lucia/\", \"Saint Vincent and the Grenadines/\", \"San Marino/\", \"Sao Tome and Principe/\", \"Saudi Arabia/\", \"Senegal/\", \"Serbia/\", \"Seychelles/\", \"Sierra Leone/\", \"Singapore/\", \"Slovakia/\", \"Slovenia/\", \"Somalia/\", \"South Africa/\", \"South Korea/\", \"South Sudan/\", \"Spain/\", \"Sri Lanka/\", \"Sudan/\", \"Suriname/\", \"Sweden/\", \"Switzerland/\", \"Syria/\", \"Taiwan*/\", \"Tajikistan/\", \"Tanzania/\", \"Thailand/\", \"Timor-Leste/\", \"Togo/\", \"Trinidad and Tobago/\", \"Tunisia/\", \"Turkey/\", \"US/\", \"Uganda/\", \"Ukraine/\", \"United Arab Emirates/\", \"United Kingdom/\", \"Uruguay/\", \"Uzbekistan/\", \"Venezuela/\", \"Vietnam/\", \"West Bank and Gaza/\", \"Western Sahara/\", \"Yemen/\", \"Zambia/\", \"Zimbabwe/\", \"Canada/Alberta\", \"United Kingdom/Anguilla\", \"China/Anhui\", \"Netherlands/Aruba\", \"Australia/Australian Capital Territory\", \"China/Beijing\", \"United Kingdom/Bermuda\", \"Canada/British Columbia\", \"United Kingdom/British Virgin Islands\", \"United Kingdom/Cayman Islands\", \"United Kingdom/Channel Islands\", \"China/Chongqing\", \"Netherlands/Curacao\", \"United Kingdom/Falkland Islands (Malvinas)\", \"Denmark/Faroe Islands\", \"France/French Guiana\", \"France/French Polynesia\", \"China/Fujian\", \"China/Gansu\", \"United Kingdom/Gibraltar\", \"Greenland/Greenland\", \"France/Guadeloupe\", \"China/Guangdong\", \"China/Guangxi\", \"China/Guizhou\", \"China/Hainan\", \"China/Hebei\", \"China/Heilongjiang\", \"China/Henan\", \"China/Hong Kong\", \"China/Hubei\", \"China/Hunan\", \"China/Inner Mongolia\", \"United Kingdom/Isle of Man\", \"China/Jiangsu\", \"China/Jiangxi\", \"China/Jilin\", \"China/Liaoning\", \"China/Macau\", \"Canada/Manitoba\", \"France/Martinique\", \"France/Mayotte\", \"United Kingdom/Montserrat\", \"Canada/New Brunswick\", \"France/New Caledonia\", \"Australia/New South Wales\", \"Canada/Newfoundland and Labrador\", \"China/Ningxia\", \"Australia/Northern Territory\", \"Canada/Northwest Territories\", \"Canada/Nova Scotia\", \"Canada/Ontario\", \"Canada/Prince Edward Island\", \"China/Qinghai\", \"Canada/Quebec\", \"Australia/Queensland\", \"France/Reunion\", \"France/Saint Barthelemy\", \"France/Saint Pierre and Miquelon\", \"Canada/Saskatchewan\", \"China/Shaanxi\", \"China/Shandong\", \"China/Shanghai\", \"China/Shanxi\", \"China/Sichuan\", \"Netherlands/Sint Maarten\", \"Australia/South Australia\", \"France/St Martin\", \"Australia/Tasmania\", \"China/Tianjin\", \"China/Tibet\", \"United Kingdom/Turks and Caicos Islands\", \"Australia/Victoria\", \"Australia/Western Australia\", \"China/Xinjiang\", \"Canada/Yukon\", \"China/Yunnan\", \"China/Zhejiang\", \"Afghanistan\", \"Albania\", \"Algeria\", \"Andorra\", \"Angola\", \"Antigua and Barbuda\", \"Argentina\", \"Armenia\", \"Australia\", \"Austria\", \"Azerbaijan\", \"Bahamas\", \"Bahrain\", \"Bangladesh\", \"Barbados\", \"Belarus\", \"Belgium\", \"Belize\", \"Benin\", \"Bhutan\", \"Bolivia\", \"Bosnia and Herzegovina\", \"Botswana\", \"Brazil\", \"Brunei\", \"Bulgaria\", \"Burkina Faso\", \"Burma\", \"Burundi\", \"Cabo Verde\", \"Cambodia\", \"Cameroon\", \"Canada\", \"Central African Republic\", \"Chad\", \"Chile\", \"China\", \"Colombia\", \"Comoros\", \"Congo (Brazzaville)\", \"Congo (Kinshasa)\", \"Costa Rica\", \"Cote d'Ivoire\", \"Croatia\", \"Cuba\", \"Cyprus\", \"Czechia\", \"Denmark\", \"Djibouti\", \"Dominica\", \"Dominican Republic\", \"Ecuador\", \"Egypt\", \"El Salvador\", \"Equatorial Guinea\", \"Eritrea\", \"Estonia\", \"Eswatini\", \"Ethiopia\", \"Fiji\", \"Finland\", \"France\", \"Gabon\", \"Gambia\", \"Georgia\", \"Germany\", \"Ghana\", \"Greece\", \"Greenland\", \"Grenada\", \"Guatemala\", \"Guinea\", \"Guinea-Bissau\", \"Guyana\", \"Haiti\", \"Holy See\", \"Honduras\", \"Hungary\", \"Iceland\", \"India\", \"Indonesia\", \"Iran\", \"Iraq\", \"Ireland\", \"Israel\", \"Italy\", \"Jamaica\", \"Japan\", \"Jordan\", \"Kazakhstan\", \"Kenya\", \"Kosovo\", \"Kuwait\", \"Kyrgyzstan\", \"Laos\", \"Latvia\", \"Lebanon\", \"Liberia\", \"Libya\", \"Liechtenstein\", \"Lithuania\", \"Luxembourg\", \"Madagascar\", \"Malawi\", \"Malaysia\", \"Maldives\", \"Mali\", \"Malta\", \"Mauritania\", \"Mauritius\", \"Mexico\", \"Moldova\", \"Monaco\", \"Mongolia\", \"Montenegro\", \"Morocco\", \"Mozambique\", \"Namibia\", \"Nepal\", \"Netherlands\", \"New Zealand\", \"Nicaragua\", \"Niger\", \"Nigeria\", \"North Macedonia\", \"Norway\", \"Oman\", \"Pakistan\", \"Panama\", \"Papua New Guinea\", \"Paraguay\", \"Peru\", \"Philippines\", \"Poland\", \"Portugal\", \"Qatar\", \"Romania\", \"Russia\", \"Rwanda\", \"Saint Kitts and Nevis\", \"Saint Lucia\", \"Saint Vincent and the Grenadines\", \"San Marino\", \"Sao Tome and Principe\", \"Saudi Arabia\", \"Senegal\", \"Serbia\", \"Seychelles\", \"Sierra Leone\", \"Singapore\", \"Slovakia\", \"Slovenia\", \"Somalia\", \"South Africa\", \"South Korea\", \"South Sudan\", \"Spain\", \"Sri Lanka\", \"Sudan\", \"Suriname\", \"Sweden\", \"Switzerland\", \"Syria\", \"Taiwan*\", \"Tajikistan\", \"Tanzania\", \"Thailand\", \"Timor-Leste\", \"Togo\", \"Trinidad and Tobago\", \"Tunisia\", \"Turkey\", \"US\", \"Uganda\", \"Ukraine\", \"United Arab Emirates\", \"United Kingdom\", \"Uruguay\", \"Uzbekistan\", \"Venezuela\", \"Vietnam\", \"West Bank and Gaza\", \"Western Sahara\", \"Yemen\", \"Zambia\", \"Zimbabwe\"], \"labels\": [\"\", \"\", \"\", \"\", \"\", \"\", \"\", \"\", \"\", \"\", \"\", \"\", \"\", \"\", \"\", \"\", \"\", \"\", \"\", \"\", \"\", \"\", \"\", \"\", \"\", \"\", \"\", \"\", \"\", \"\", \"\", \"\", \"\", \"\", \"\", \"\", \"\", \"\", \"\", \"\", \"\", \"\", \"\", \"\", \"\", \"\", \"\", \"\", \"\", \"\", \"\", \"\", \"\", \"\", \"\", \"\", \"\", \"\", \"\", \"\", \"\", \"\", \"\", \"\", \"\", \"\", \"\", \"\", \"\", \"\", \"\", \"\", \"\", \"\", \"\", \"\", \"\", \"\", \"\", \"\", \"\", \"\", \"\", \"\", \"\", \"\", \"\", \"\", \"\", \"\", \"\", \"\", \"\", \"\", \"\", \"\", \"\", \"\", \"\", \"\", \"\", \"\", \"\", \"\", \"\", \"\", \"\", \"\", \"\", \"\", \"\", \"\", \"\", \"\", \"\", \"\", \"\", \"\", \"\", \"\", \"\", \"\", \"\", \"\", \"\", \"\", \"\", \"\", \"\", \"\", \"\", \"\", \"\", \"\", \"\", \"\", \"\", \"\", \"\", \"\", \"\", \"\", \"\", \"\", \"\", \"\", \"\", \"\", \"\", \"\", \"\", \"\", \"\", \"\", \"\", \"\", \"\", \"\", \"\", \"\", \"\", \"\", \"\", \"\", \"\", \"\", \"\", \"\", \"\", \"\", \"\", \"\", \"\", \"\", \"\", \"\", \"\", \"\", \"\", \"\", \"\", \"\", \"Alberta\", \"Anguilla\", \"Anhui\", \"Aruba\", \"Australian Capital Territory\", \"Beijing\", \"Bermuda\", \"British Columbia\", \"British Virgin Islands\", \"Cayman Islands\", \"Channel Islands\", \"Chongqing\", \"Curacao\", \"Falkland Islands (Malvinas)\", \"Faroe Islands\", \"French Guiana\", \"French Polynesia\", \"Fujian\", \"Gansu\", \"Gibraltar\", \"Greenland\", \"Guadeloupe\", \"Guangdong\", \"Guangxi\", \"Guizhou\", \"Hainan\", \"Hebei\", \"Heilongjiang\", \"Henan\", \"Hong Kong\", \"Hubei\", \"Hunan\", \"Inner Mongolia\", \"Isle of Man\", \"Jiangsu\", \"Jiangxi\", \"Jilin\", \"Liaoning\", \"Macau\", \"Manitoba\", \"Martinique\", \"Mayotte\", \"Montserrat\", \"New Brunswick\", \"New Caledonia\", \"New South Wales\", \"Newfoundland and Labrador\", \"Ningxia\", \"Northern Territory\", \"Northwest Territories\", \"Nova Scotia\", \"Ontario\", \"Prince Edward Island\", \"Qinghai\", \"Quebec\", \"Queensland\", \"Reunion\", \"Saint Barthelemy\", \"Saint Pierre and Miquelon\", \"Saskatchewan\", \"Shaanxi\", \"Shandong\", \"Shanghai\", \"Shanxi\", \"Sichuan\", \"Sint Maarten\", \"South Australia\", \"St Martin\", \"Tasmania\", \"Tianjin\", \"Tibet\", \"Turks and Caicos Islands\", \"Victoria\", \"Western Australia\", \"Xinjiang\", \"Yukon\", \"Yunnan\", \"Zhejiang\", \"Afghanistan\", \"Albania\", \"Algeria\", \"Andorra\", \"Angola\", \"Antigua and Barbuda\", \"Argentina\", \"Armenia\", \"Australia\", \"Austria\", \"Azerbaijan\", \"Bahamas\", \"Bahrain\", \"Bangladesh\", \"Barbados\", \"Belarus\", \"Belgium\", \"Belize\", \"Benin\", \"Bhutan\", \"Bolivia\", \"Bosnia and Herzegovina\", \"Botswana\", \"Brazil\", \"Brunei\", \"Bulgaria\", \"Burkina Faso\", \"Burma\", \"Burundi\", \"Cabo Verde\", \"Cambodia\", \"Cameroon\", \"Canada\", \"Central African Republic\", \"Chad\", \"Chile\", \"China\", \"Colombia\", \"Comoros\", \"Congo (Brazzaville)\", \"Congo (Kinshasa)\", \"Costa Rica\", \"Cote d'Ivoire\", \"Croatia\", \"Cuba\", \"Cyprus\", \"Czechia\", \"Denmark\", \"Djibouti\", \"Dominica\", \"Dominican Republic\", \"Ecuador\", \"Egypt\", \"El Salvador\", \"Equatorial Guinea\", \"Eritrea\", \"Estonia\", \"Eswatini\", \"Ethiopia\", \"Fiji\", \"Finland\", \"France\", \"Gabon\", \"Gambia\", \"Georgia\", \"Germany\", \"Ghana\", \"Greece\", \"Greenland\", \"Grenada\", \"Guatemala\", \"Guinea\", \"Guinea-Bissau\", \"Guyana\", \"Haiti\", \"Holy See\", \"Honduras\", \"Hungary\", \"Iceland\", \"India\", \"Indonesia\", \"Iran\", \"Iraq\", \"Ireland\", \"Israel\", \"Italy\", \"Jamaica\", \"Japan\", \"Jordan\", \"Kazakhstan\", \"Kenya\", \"Kosovo\", \"Kuwait\", \"Kyrgyzstan\", \"Laos\", \"Latvia\", \"Lebanon\", \"Liberia\", \"Libya\", \"Liechtenstein\", \"Lithuania\", \"Luxembourg\", \"Madagascar\", \"Malawi\", \"Malaysia\", \"Maldives\", \"Mali\", \"Malta\", \"Mauritania\", \"Mauritius\", \"Mexico\", \"Moldova\", \"Monaco\", \"Mongolia\", \"Montenegro\", \"Morocco\", \"Mozambique\", \"Namibia\", \"Nepal\", \"Netherlands\", \"New Zealand\", \"Nicaragua\", \"Niger\", \"Nigeria\", \"North Macedonia\", \"Norway\", \"Oman\", \"Pakistan\", \"Panama\", \"Papua New Guinea\", \"Paraguay\", \"Peru\", \"Philippines\", \"Poland\", \"Portugal\", \"Qatar\", \"Romania\", \"Russia\", \"Rwanda\", \"Saint Kitts and Nevis\", \"Saint Lucia\", \"Saint Vincent and the Grenadines\", \"San Marino\", \"Sao Tome and Principe\", \"Saudi Arabia\", \"Senegal\", \"Serbia\", \"Seychelles\", \"Sierra Leone\", \"Singapore\", \"Slovakia\", \"Slovenia\", \"Somalia\", \"South Africa\", \"South Korea\", \"South Sudan\", \"Spain\", \"Sri Lanka\", \"Sudan\", \"Suriname\", \"Sweden\", \"Switzerland\", \"Syria\", \"Taiwan*\", \"Tajikistan\", \"Tanzania\", \"Thailand\", \"Timor-Leste\", \"Togo\", \"Trinidad and Tobago\", \"Tunisia\", \"Turkey\", \"US\", \"Uganda\", \"Ukraine\", \"United Arab Emirates\", \"United Kingdom\", \"Uruguay\", \"Uzbekistan\", \"Venezuela\", \"Vietnam\", \"West Bank and Gaza\", \"Western Sahara\", \"Yemen\", \"Zambia\", \"Zimbabwe\"], \"name\": \"\", \"parents\": [\"Afghanistan\", \"Albania\", \"Algeria\", \"Andorra\", \"Angola\", \"Antigua and Barbuda\", \"Argentina\", \"Armenia\", \"Austria\", \"Azerbaijan\", \"Bahamas\", \"Bahrain\", \"Bangladesh\", \"Barbados\", \"Belarus\", \"Belgium\", \"Belize\", \"Benin\", \"Bhutan\", \"Bolivia\", \"Bosnia and Herzegovina\", \"Botswana\", \"Brazil\", \"Brunei\", \"Bulgaria\", \"Burkina Faso\", \"Burma\", \"Burundi\", \"Cabo Verde\", \"Cambodia\", \"Cameroon\", \"Central African Republic\", \"Chad\", \"Chile\", \"Colombia\", \"Comoros\", \"Congo (Brazzaville)\", \"Congo (Kinshasa)\", \"Costa Rica\", \"Cote d'Ivoire\", \"Croatia\", \"Cuba\", \"Cyprus\", \"Czechia\", \"Denmark\", \"Djibouti\", \"Dominica\", \"Dominican Republic\", \"Ecuador\", \"Egypt\", \"El Salvador\", \"Equatorial Guinea\", \"Eritrea\", \"Estonia\", \"Eswatini\", \"Ethiopia\", \"Fiji\", \"Finland\", \"France\", \"Gabon\", \"Gambia\", \"Georgia\", \"Germany\", \"Ghana\", \"Greece\", \"Grenada\", \"Guatemala\", \"Guinea\", \"Guinea-Bissau\", \"Guyana\", \"Haiti\", \"Holy See\", \"Honduras\", \"Hungary\", \"Iceland\", \"India\", \"Indonesia\", \"Iran\", \"Iraq\", \"Ireland\", \"Israel\", \"Italy\", \"Jamaica\", \"Japan\", \"Jordan\", \"Kazakhstan\", \"Kenya\", \"Kosovo\", \"Kuwait\", \"Kyrgyzstan\", \"Laos\", \"Latvia\", \"Lebanon\", \"Liberia\", \"Libya\", \"Liechtenstein\", \"Lithuania\", \"Luxembourg\", \"Madagascar\", \"Malawi\", \"Malaysia\", \"Maldives\", \"Mali\", \"Malta\", \"Mauritania\", \"Mauritius\", \"Mexico\", \"Moldova\", \"Monaco\", \"Mongolia\", \"Montenegro\", \"Morocco\", \"Mozambique\", \"Namibia\", \"Nepal\", \"Netherlands\", \"New Zealand\", \"Nicaragua\", \"Niger\", \"Nigeria\", \"North Macedonia\", \"Norway\", \"Oman\", \"Pakistan\", \"Panama\", \"Papua New Guinea\", \"Paraguay\", \"Peru\", \"Philippines\", \"Poland\", \"Portugal\", \"Qatar\", \"Romania\", \"Russia\", \"Rwanda\", \"Saint Kitts and Nevis\", \"Saint Lucia\", \"Saint Vincent and the Grenadines\", \"San Marino\", \"Sao Tome and Principe\", \"Saudi Arabia\", \"Senegal\", \"Serbia\", \"Seychelles\", \"Sierra Leone\", \"Singapore\", \"Slovakia\", \"Slovenia\", \"Somalia\", \"South Africa\", \"South Korea\", \"South Sudan\", \"Spain\", \"Sri Lanka\", \"Sudan\", \"Suriname\", \"Sweden\", \"Switzerland\", \"Syria\", \"Taiwan*\", \"Tajikistan\", \"Tanzania\", \"Thailand\", \"Timor-Leste\", \"Togo\", \"Trinidad and Tobago\", \"Tunisia\", \"Turkey\", \"US\", \"Uganda\", \"Ukraine\", \"United Arab Emirates\", \"United Kingdom\", \"Uruguay\", \"Uzbekistan\", \"Venezuela\", \"Vietnam\", \"West Bank and Gaza\", \"Western Sahara\", \"Yemen\", \"Zambia\", \"Zimbabwe\", \"Canada\", \"United Kingdom\", \"China\", \"Netherlands\", \"Australia\", \"China\", \"United Kingdom\", \"Canada\", \"United Kingdom\", \"United Kingdom\", \"United Kingdom\", \"China\", \"Netherlands\", \"United Kingdom\", \"Denmark\", \"France\", \"France\", \"China\", \"China\", \"United Kingdom\", \"Greenland\", \"France\", \"China\", \"China\", \"China\", \"China\", \"China\", \"China\", \"China\", \"China\", \"China\", \"China\", \"China\", \"United Kingdom\", \"China\", \"China\", \"China\", \"China\", \"China\", \"Canada\", \"France\", \"France\", \"United Kingdom\", \"Canada\", \"France\", \"Australia\", \"Canada\", \"China\", \"Australia\", \"Canada\", \"Canada\", \"Canada\", \"Canada\", \"China\", \"Canada\", \"Australia\", \"France\", \"France\", \"France\", \"Canada\", \"China\", \"China\", \"China\", \"China\", \"China\", \"Netherlands\", \"Australia\", \"France\", \"Australia\", \"China\", \"China\", \"United Kingdom\", \"Australia\", \"Australia\", \"China\", \"Canada\", \"China\", \"China\", \"\", \"\", \"\", \"\", \"\", \"\", \"\", \"\", \"\", \"\", \"\", \"\", \"\", \"\", \"\", \"\", \"\", \"\", \"\", \"\", \"\", \"\", \"\", \"\", \"\", \"\", \"\", \"\", \"\", \"\", \"\", \"\", \"\", \"\", \"\", \"\", \"\", \"\", \"\", \"\", \"\", \"\", \"\", \"\", \"\", \"\", \"\", \"\", \"\", \"\", \"\", \"\", \"\", \"\", \"\", \"\", \"\", \"\", \"\", \"\", \"\", \"\", \"\", \"\", \"\", \"\", \"\", \"\", \"\", \"\", \"\", \"\", \"\", \"\", \"\", \"\", \"\", \"\", \"\", \"\", \"\", \"\", \"\", \"\", \"\", \"\", \"\", \"\", \"\", \"\", \"\", \"\", \"\", \"\", \"\", \"\", \"\", \"\", \"\", \"\", \"\", \"\", \"\", \"\", \"\", \"\", \"\", \"\", \"\", \"\", \"\", \"\", \"\", \"\", \"\", \"\", \"\", \"\", \"\", \"\", \"\", \"\", \"\", \"\", \"\", \"\", \"\", \"\", \"\", \"\", \"\", \"\", \"\", \"\", \"\", \"\", \"\", \"\", \"\", \"\", \"\", \"\", \"\", \"\", \"\", \"\", \"\", \"\", \"\", \"\", \"\", \"\", \"\", \"\", \"\", \"\", \"\", \"\", \"\", \"\", \"\", \"\", \"\", \"\", \"\", \"\", \"\", \"\", \"\", \"\", \"\", \"\", \"\", \"\", \"\", \"\", \"\", \"\", \"\", \"\", \"\", \"\", \"\", \"\", \"\", \"\"], \"textinfo\": \"label+text+value\", \"type\": \"treemap\", \"values\": [4033, 856, 5558, 754, 43, 25, 5776, 3175, 15833, 2422, 92, 4774, 13770, 84, 22052, 52596, 18, 284, 7, 2437, 2090, 23, 156061, 141, 1921, 748, 178, 15, 236, 122, 2274, 143, 322, 27219, 10495, 11, 274, 937, 780, 1667, 2176, 1754, 892, 8095, 10319, 1189, 16, 9882, 29071, 8964, 784, 439, 39, 1733, 163, 210, 18, 5880, 174758, 661, 20, 626, 171324, 4263, 2710, 21, 967, 2042, 641, 94, 151, 12, 1830, 3213, 1801, 62808, 13645, 106220, 2679, 22760, 16454, 218268, 490, 15663, 522, 4975, 649, 862, 7623, 931, 19, 930, 809, 199, 64, 82, 1444, 3877, 193, 56, 6589, 790, 692, 490, 8, 332, 33460, 4867, 96, 42, 324, 5910, 87, 16, 110, 42382, 1494, 16, 815, 4151, 1622, 8099, 3224, 28736, 8282, 8, 689, 65015, 10610, 15651, 27406, 21331, 15131, 198676, 280, 15, 18, 17, 637, 208, 37136, 1634, 10032, 11, 291, 22460, 1455, 1454, 997, 9420, 10874, 120, 223578, 847, 1164, 10, 25921, 30251, 47, 440, 612, 509, 3004, 24, 153, 116, 1032, 137115, 1309550, 116, 14710, 17417, 215260, 702, 2349, 402, 288, 375, 6, 34, 252, 35, 6157, 3, 991, 101, 107, 593, 118, 2330, 7, 81, 545, 579, 16, 13, 187, 141, 60, 356, 139, 146, 11, 154, 1589, 254, 147, 168, 328, 944, 1276, 1044, 68129, 1019, 201, 329, 653, 937, 124, 146, 45, 284, 186, 988, 11, 120, 18, 3053, 261, 75, 29, 5, 1011, 21148, 27, 18, 36997, 1045, 431, 6, 1, 553, 308, 788, 659, 198, 561, 76, 439, 39, 227, 191, 1, 12, 1487, 552, 76, 11, 185, 1268, 4033, 856, 5558, 754, 43, 25, 5776, 3175, 6939, 15833, 2422, 92, 4774, 13770, 84, 22052, 52596, 18, 284, 7, 2437, 2090, 23, 156061, 141, 1921, 748, 178, 15, 236, 122, 2274, 68904, 143, 322, 27219, 83990, 10495, 11, 274, 937, 780, 1667, 2176, 1754, 892, 8095, 10506, 1189, 16, 9882, 29071, 8964, 784, 439, 39, 1733, 163, 210, 18, 5880, 176782, 661, 20, 626, 171324, 4263, 2710, 11, 21, 967, 2042, 641, 94, 151, 12, 1830, 3213, 1801, 62808, 13645, 106220, 2679, 22760, 16454, 218268, 490, 15663, 522, 4975, 649, 862, 7623, 931, 19, 930, 809, 199, 64, 82, 1444, 3877, 193, 56, 6589, 790, 692, 490, 8, 332, 33460, 4867, 96, 42, 324, 5910, 87, 16, 110, 42575, 1494, 16, 815, 4151, 1622, 8099, 3224, 28736, 8282, 8, 689, 65015, 10610, 15651, 27406, 21331, 15131, 198676, 280, 15, 18, 17, 637, 208, 37136, 1634, 10032, 11, 291, 22460, 1455, 1454, 997, 9420, 10874, 120, 223578, 847, 1164, 10, 25921, 30251, 47, 440, 612, 509, 3004, 24, 153, 116, 1032, 137115, 1309550, 116, 14710, 17417, 216525, 702, 2349, 402, 288, 375, 6, 34, 252, 35]}],\n",
       "                        {\"height\": 700, \"legend\": {\"tracegroupgap\": 0}, \"template\": {\"data\": {\"bar\": [{\"error_x\": {\"color\": \"#2a3f5f\"}, \"error_y\": {\"color\": \"#2a3f5f\"}, \"marker\": {\"line\": {\"color\": \"#E5ECF6\", \"width\": 0.5}}, \"type\": \"bar\"}], \"barpolar\": [{\"marker\": {\"line\": {\"color\": \"#E5ECF6\", \"width\": 0.5}}, \"type\": \"barpolar\"}], \"carpet\": [{\"aaxis\": {\"endlinecolor\": \"#2a3f5f\", \"gridcolor\": \"white\", \"linecolor\": \"white\", \"minorgridcolor\": \"white\", \"startlinecolor\": \"#2a3f5f\"}, \"baxis\": {\"endlinecolor\": \"#2a3f5f\", \"gridcolor\": \"white\", \"linecolor\": \"white\", \"minorgridcolor\": \"white\", \"startlinecolor\": \"#2a3f5f\"}, \"type\": \"carpet\"}], \"choropleth\": [{\"colorbar\": {\"outlinewidth\": 0, \"ticks\": \"\"}, \"type\": \"choropleth\"}], \"contour\": [{\"colorbar\": {\"outlinewidth\": 0, \"ticks\": \"\"}, \"colorscale\": [[0.0, \"#0d0887\"], [0.1111111111111111, \"#46039f\"], [0.2222222222222222, \"#7201a8\"], [0.3333333333333333, \"#9c179e\"], [0.4444444444444444, \"#bd3786\"], [0.5555555555555556, \"#d8576b\"], [0.6666666666666666, \"#ed7953\"], [0.7777777777777778, \"#fb9f3a\"], [0.8888888888888888, \"#fdca26\"], [1.0, \"#f0f921\"]], \"type\": \"contour\"}], \"contourcarpet\": [{\"colorbar\": {\"outlinewidth\": 0, \"ticks\": \"\"}, \"type\": \"contourcarpet\"}], \"heatmap\": [{\"colorbar\": {\"outlinewidth\": 0, \"ticks\": \"\"}, \"colorscale\": [[0.0, \"#0d0887\"], [0.1111111111111111, \"#46039f\"], [0.2222222222222222, \"#7201a8\"], [0.3333333333333333, \"#9c179e\"], [0.4444444444444444, \"#bd3786\"], [0.5555555555555556, \"#d8576b\"], [0.6666666666666666, \"#ed7953\"], [0.7777777777777778, \"#fb9f3a\"], [0.8888888888888888, \"#fdca26\"], [1.0, \"#f0f921\"]], \"type\": \"heatmap\"}], \"heatmapgl\": [{\"colorbar\": {\"outlinewidth\": 0, \"ticks\": \"\"}, \"colorscale\": [[0.0, \"#0d0887\"], [0.1111111111111111, \"#46039f\"], [0.2222222222222222, \"#7201a8\"], [0.3333333333333333, \"#9c179e\"], [0.4444444444444444, \"#bd3786\"], [0.5555555555555556, \"#d8576b\"], [0.6666666666666666, \"#ed7953\"], [0.7777777777777778, \"#fb9f3a\"], [0.8888888888888888, \"#fdca26\"], [1.0, \"#f0f921\"]], \"type\": \"heatmapgl\"}], \"histogram\": [{\"marker\": {\"colorbar\": {\"outlinewidth\": 0, \"ticks\": \"\"}}, \"type\": \"histogram\"}], \"histogram2d\": [{\"colorbar\": {\"outlinewidth\": 0, \"ticks\": \"\"}, \"colorscale\": [[0.0, \"#0d0887\"], [0.1111111111111111, \"#46039f\"], [0.2222222222222222, \"#7201a8\"], [0.3333333333333333, \"#9c179e\"], [0.4444444444444444, \"#bd3786\"], [0.5555555555555556, \"#d8576b\"], [0.6666666666666666, \"#ed7953\"], [0.7777777777777778, \"#fb9f3a\"], [0.8888888888888888, \"#fdca26\"], [1.0, \"#f0f921\"]], \"type\": \"histogram2d\"}], \"histogram2dcontour\": [{\"colorbar\": {\"outlinewidth\": 0, \"ticks\": \"\"}, \"colorscale\": [[0.0, \"#0d0887\"], [0.1111111111111111, \"#46039f\"], [0.2222222222222222, \"#7201a8\"], [0.3333333333333333, \"#9c179e\"], [0.4444444444444444, \"#bd3786\"], [0.5555555555555556, \"#d8576b\"], [0.6666666666666666, \"#ed7953\"], [0.7777777777777778, \"#fb9f3a\"], [0.8888888888888888, \"#fdca26\"], [1.0, \"#f0f921\"]], \"type\": \"histogram2dcontour\"}], \"mesh3d\": [{\"colorbar\": {\"outlinewidth\": 0, \"ticks\": \"\"}, \"type\": \"mesh3d\"}], \"parcoords\": [{\"line\": {\"colorbar\": {\"outlinewidth\": 0, \"ticks\": \"\"}}, \"type\": \"parcoords\"}], \"pie\": [{\"automargin\": true, \"type\": \"pie\"}], \"scatter\": [{\"marker\": {\"colorbar\": {\"outlinewidth\": 0, \"ticks\": \"\"}}, \"type\": \"scatter\"}], \"scatter3d\": [{\"line\": {\"colorbar\": {\"outlinewidth\": 0, \"ticks\": \"\"}}, \"marker\": {\"colorbar\": {\"outlinewidth\": 0, \"ticks\": \"\"}}, \"type\": \"scatter3d\"}], \"scattercarpet\": [{\"marker\": {\"colorbar\": {\"outlinewidth\": 0, \"ticks\": \"\"}}, \"type\": \"scattercarpet\"}], \"scattergeo\": [{\"marker\": {\"colorbar\": {\"outlinewidth\": 0, \"ticks\": \"\"}}, \"type\": \"scattergeo\"}], \"scattergl\": [{\"marker\": {\"colorbar\": {\"outlinewidth\": 0, \"ticks\": \"\"}}, \"type\": \"scattergl\"}], \"scattermapbox\": [{\"marker\": {\"colorbar\": {\"outlinewidth\": 0, \"ticks\": \"\"}}, \"type\": \"scattermapbox\"}], \"scatterpolar\": [{\"marker\": {\"colorbar\": {\"outlinewidth\": 0, \"ticks\": \"\"}}, \"type\": \"scatterpolar\"}], \"scatterpolargl\": [{\"marker\": {\"colorbar\": {\"outlinewidth\": 0, \"ticks\": \"\"}}, \"type\": \"scatterpolargl\"}], \"scatterternary\": [{\"marker\": {\"colorbar\": {\"outlinewidth\": 0, \"ticks\": \"\"}}, \"type\": \"scatterternary\"}], \"surface\": [{\"colorbar\": {\"outlinewidth\": 0, \"ticks\": \"\"}, \"colorscale\": [[0.0, \"#0d0887\"], [0.1111111111111111, \"#46039f\"], [0.2222222222222222, \"#7201a8\"], [0.3333333333333333, \"#9c179e\"], [0.4444444444444444, \"#bd3786\"], [0.5555555555555556, \"#d8576b\"], [0.6666666666666666, \"#ed7953\"], [0.7777777777777778, \"#fb9f3a\"], [0.8888888888888888, \"#fdca26\"], [1.0, \"#f0f921\"]], \"type\": \"surface\"}], \"table\": [{\"cells\": {\"fill\": {\"color\": \"#EBF0F8\"}, \"line\": {\"color\": \"white\"}}, \"header\": {\"fill\": {\"color\": \"#C8D4E3\"}, \"line\": {\"color\": \"white\"}}, \"type\": \"table\"}]}, \"layout\": {\"annotationdefaults\": {\"arrowcolor\": \"#2a3f5f\", \"arrowhead\": 0, \"arrowwidth\": 1}, \"coloraxis\": {\"colorbar\": {\"outlinewidth\": 0, \"ticks\": \"\"}}, \"colorscale\": {\"diverging\": [[0, \"#8e0152\"], [0.1, \"#c51b7d\"], [0.2, \"#de77ae\"], [0.3, \"#f1b6da\"], [0.4, \"#fde0ef\"], [0.5, \"#f7f7f7\"], [0.6, \"#e6f5d0\"], [0.7, \"#b8e186\"], [0.8, \"#7fbc41\"], [0.9, \"#4d9221\"], [1, \"#276419\"]], \"sequential\": [[0.0, \"#0d0887\"], [0.1111111111111111, \"#46039f\"], [0.2222222222222222, \"#7201a8\"], [0.3333333333333333, \"#9c179e\"], [0.4444444444444444, \"#bd3786\"], [0.5555555555555556, \"#d8576b\"], [0.6666666666666666, \"#ed7953\"], [0.7777777777777778, \"#fb9f3a\"], [0.8888888888888888, \"#fdca26\"], [1.0, \"#f0f921\"]], \"sequentialminus\": [[0.0, \"#0d0887\"], [0.1111111111111111, \"#46039f\"], [0.2222222222222222, \"#7201a8\"], [0.3333333333333333, \"#9c179e\"], [0.4444444444444444, \"#bd3786\"], [0.5555555555555556, \"#d8576b\"], [0.6666666666666666, \"#ed7953\"], [0.7777777777777778, \"#fb9f3a\"], [0.8888888888888888, \"#fdca26\"], [1.0, \"#f0f921\"]]}, \"colorway\": [\"#636efa\", \"#EF553B\", \"#00cc96\", \"#ab63fa\", \"#FFA15A\", \"#19d3f3\", \"#FF6692\", \"#B6E880\", \"#FF97FF\", \"#FECB52\"], \"font\": {\"color\": \"#2a3f5f\"}, \"geo\": {\"bgcolor\": \"white\", \"lakecolor\": \"white\", \"landcolor\": \"#E5ECF6\", \"showlakes\": true, \"showland\": true, \"subunitcolor\": \"white\"}, \"hoverlabel\": {\"align\": \"left\"}, \"hovermode\": \"closest\", \"mapbox\": {\"style\": \"light\"}, \"paper_bgcolor\": \"white\", \"plot_bgcolor\": \"#E5ECF6\", \"polar\": {\"angularaxis\": {\"gridcolor\": \"white\", \"linecolor\": \"white\", \"ticks\": \"\"}, \"bgcolor\": \"#E5ECF6\", \"radialaxis\": {\"gridcolor\": \"white\", \"linecolor\": \"white\", \"ticks\": \"\"}}, \"scene\": {\"xaxis\": {\"backgroundcolor\": \"#E5ECF6\", \"gridcolor\": \"white\", \"gridwidth\": 2, \"linecolor\": \"white\", \"showbackground\": true, \"ticks\": \"\", \"zerolinecolor\": \"white\"}, \"yaxis\": {\"backgroundcolor\": \"#E5ECF6\", \"gridcolor\": \"white\", \"gridwidth\": 2, \"linecolor\": \"white\", \"showbackground\": true, \"ticks\": \"\", \"zerolinecolor\": \"white\"}, \"zaxis\": {\"backgroundcolor\": \"#E5ECF6\", \"gridcolor\": \"white\", \"gridwidth\": 2, \"linecolor\": \"white\", \"showbackground\": true, \"ticks\": \"\", \"zerolinecolor\": \"white\"}}, \"shapedefaults\": {\"line\": {\"color\": \"#2a3f5f\"}}, \"ternary\": {\"aaxis\": {\"gridcolor\": \"white\", \"linecolor\": \"white\", \"ticks\": \"\"}, \"baxis\": {\"gridcolor\": \"white\", \"linecolor\": \"white\", \"ticks\": \"\"}, \"bgcolor\": \"#E5ECF6\", \"caxis\": {\"gridcolor\": \"white\", \"linecolor\": \"white\", \"ticks\": \"\"}}, \"title\": {\"x\": 0.05}, \"xaxis\": {\"automargin\": true, \"gridcolor\": \"white\", \"linecolor\": \"white\", \"ticks\": \"\", \"title\": {\"standoff\": 15}, \"zerolinecolor\": \"white\", \"zerolinewidth\": 2}, \"yaxis\": {\"automargin\": true, \"gridcolor\": \"white\", \"linecolor\": \"white\", \"ticks\": \"\", \"title\": {\"standoff\": 15}, \"zerolinecolor\": \"white\", \"zerolinewidth\": 2}}}, \"title\": {\"text\": \"Number of Confirmed Cases\"}, \"treemapcolorway\": [\"rgb(27,158,119)\", \"rgb(217,95,2)\", \"rgb(117,112,179)\", \"rgb(231,41,138)\", \"rgb(102,166,30)\", \"rgb(230,171,2)\", \"rgb(166,118,29)\", \"rgb(102,102,102)\"]},\n",
       "                        {\"responsive\": true}\n",
       "                    ).then(function(){\n",
       "                            \n",
       "var gd = document.getElementById('84222283-311c-4803-9973-1506e45d49cd');\n",
       "var x = new MutationObserver(function (mutations, observer) {{\n",
       "        var display = window.getComputedStyle(gd).display;\n",
       "        if (!display || display === 'none') {{\n",
       "            console.log([gd, 'removed!']);\n",
       "            Plotly.purge(gd);\n",
       "            observer.disconnect();\n",
       "        }}\n",
       "}});\n",
       "\n",
       "// Listen for the removal of the full notebook cells\n",
       "var notebookContainer = gd.closest('#notebook-container');\n",
       "if (notebookContainer) {{\n",
       "    x.observe(notebookContainer, {childList: true});\n",
       "}}\n",
       "\n",
       "// Listen for the clearing of the current output cell\n",
       "var outputEl = gd.closest('.output');\n",
       "if (outputEl) {{\n",
       "    x.observe(outputEl, {childList: true});\n",
       "}}\n",
       "\n",
       "                        })\n",
       "                };\n",
       "                });\n",
       "            </script>\n",
       "        </div>"
      ]
     },
     "metadata": {},
     "output_type": "display_data"
    },
    {
     "data": {
      "application/vnd.plotly.v1+json": {
       "config": {
        "plotlyServerURL": "https://plot.ly"
       },
       "data": [
        {
         "branchvalues": "total",
         "domain": {
          "x": [
           0,
           1
          ],
          "y": [
           0,
           1
          ]
         },
         "hovertemplate": "labels=%{label}<br>Deaths=%{value}<br>parent=%{parent}<br>id=%{id}<extra></extra>",
         "ids": [
          "Afghanistan/",
          "Albania/",
          "Algeria/",
          "Andorra/",
          "Angola/",
          "Antigua and Barbuda/",
          "Argentina/",
          "Armenia/",
          "Austria/",
          "Azerbaijan/",
          "Bahamas/",
          "Bahrain/",
          "Bangladesh/",
          "Barbados/",
          "Belarus/",
          "Belgium/",
          "Belize/",
          "Benin/",
          "Bhutan/",
          "Bolivia/",
          "Bosnia and Herzegovina/",
          "Botswana/",
          "Brazil/",
          "Brunei/",
          "Bulgaria/",
          "Burkina Faso/",
          "Burma/",
          "Burundi/",
          "Cabo Verde/",
          "Cambodia/",
          "Cameroon/",
          "Central African Republic/",
          "Chad/",
          "Chile/",
          "Colombia/",
          "Comoros/",
          "Congo (Brazzaville)/",
          "Congo (Kinshasa)/",
          "Costa Rica/",
          "Cote d'Ivoire/",
          "Croatia/",
          "Cuba/",
          "Cyprus/",
          "Czechia/",
          "Denmark/",
          "Djibouti/",
          "Dominica/",
          "Dominican Republic/",
          "Ecuador/",
          "Egypt/",
          "El Salvador/",
          "Equatorial Guinea/",
          "Eritrea/",
          "Estonia/",
          "Eswatini/",
          "Ethiopia/",
          "Fiji/",
          "Finland/",
          "France/",
          "Gabon/",
          "Gambia/",
          "Georgia/",
          "Germany/",
          "Ghana/",
          "Greece/",
          "Grenada/",
          "Guatemala/",
          "Guinea/",
          "Guinea-Bissau/",
          "Guyana/",
          "Haiti/",
          "Holy See/",
          "Honduras/",
          "Hungary/",
          "Iceland/",
          "India/",
          "Indonesia/",
          "Iran/",
          "Iraq/",
          "Ireland/",
          "Israel/",
          "Italy/",
          "Jamaica/",
          "Japan/",
          "Jordan/",
          "Kazakhstan/",
          "Kenya/",
          "Kosovo/",
          "Kuwait/",
          "Kyrgyzstan/",
          "Laos/",
          "Latvia/",
          "Lebanon/",
          "Liberia/",
          "Libya/",
          "Liechtenstein/",
          "Lithuania/",
          "Luxembourg/",
          "Madagascar/",
          "Malawi/",
          "Malaysia/",
          "Maldives/",
          "Mali/",
          "Malta/",
          "Mauritania/",
          "Mauritius/",
          "Mexico/",
          "Moldova/",
          "Monaco/",
          "Mongolia/",
          "Montenegro/",
          "Morocco/",
          "Mozambique/",
          "Namibia/",
          "Nepal/",
          "Netherlands/",
          "New Zealand/",
          "Nicaragua/",
          "Niger/",
          "Nigeria/",
          "North Macedonia/",
          "Norway/",
          "Oman/",
          "Pakistan/",
          "Panama/",
          "Papua New Guinea/",
          "Paraguay/",
          "Peru/",
          "Philippines/",
          "Poland/",
          "Portugal/",
          "Qatar/",
          "Romania/",
          "Russia/",
          "Rwanda/",
          "Saint Kitts and Nevis/",
          "Saint Lucia/",
          "Saint Vincent and the Grenadines/",
          "San Marino/",
          "Sao Tome and Principe/",
          "Saudi Arabia/",
          "Senegal/",
          "Serbia/",
          "Seychelles/",
          "Sierra Leone/",
          "Singapore/",
          "Slovakia/",
          "Slovenia/",
          "Somalia/",
          "South Africa/",
          "South Korea/",
          "South Sudan/",
          "Spain/",
          "Sri Lanka/",
          "Sudan/",
          "Suriname/",
          "Sweden/",
          "Switzerland/",
          "Syria/",
          "Taiwan*/",
          "Tajikistan/",
          "Tanzania/",
          "Thailand/",
          "Timor-Leste/",
          "Togo/",
          "Trinidad and Tobago/",
          "Tunisia/",
          "Turkey/",
          "US/",
          "Uganda/",
          "Ukraine/",
          "United Arab Emirates/",
          "United Kingdom/",
          "Uruguay/",
          "Uzbekistan/",
          "Venezuela/",
          "Vietnam/",
          "West Bank and Gaza/",
          "Western Sahara/",
          "Yemen/",
          "Zambia/",
          "Zimbabwe/",
          "Canada/Alberta",
          "United Kingdom/Anguilla",
          "China/Anhui",
          "Netherlands/Aruba",
          "Australia/Australian Capital Territory",
          "China/Beijing",
          "United Kingdom/Bermuda",
          "Canada/British Columbia",
          "United Kingdom/British Virgin Islands",
          "United Kingdom/Cayman Islands",
          "United Kingdom/Channel Islands",
          "China/Chongqing",
          "Netherlands/Curacao",
          "United Kingdom/Falkland Islands (Malvinas)",
          "Denmark/Faroe Islands",
          "France/French Guiana",
          "France/French Polynesia",
          "China/Fujian",
          "China/Gansu",
          "United Kingdom/Gibraltar",
          "Greenland/Greenland",
          "France/Guadeloupe",
          "China/Guangdong",
          "China/Guangxi",
          "China/Guizhou",
          "China/Hainan",
          "China/Hebei",
          "China/Heilongjiang",
          "China/Henan",
          "China/Hong Kong",
          "China/Hubei",
          "China/Hunan",
          "China/Inner Mongolia",
          "United Kingdom/Isle of Man",
          "China/Jiangsu",
          "China/Jiangxi",
          "China/Jilin",
          "China/Liaoning",
          "China/Macau",
          "Canada/Manitoba",
          "France/Martinique",
          "France/Mayotte",
          "United Kingdom/Montserrat",
          "Canada/New Brunswick",
          "France/New Caledonia",
          "Australia/New South Wales",
          "Canada/Newfoundland and Labrador",
          "China/Ningxia",
          "Australia/Northern Territory",
          "Canada/Northwest Territories",
          "Canada/Nova Scotia",
          "Canada/Ontario",
          "Canada/Prince Edward Island",
          "China/Qinghai",
          "Canada/Quebec",
          "Australia/Queensland",
          "France/Reunion",
          "France/Saint Barthelemy",
          "France/Saint Pierre and Miquelon",
          "Canada/Saskatchewan",
          "China/Shaanxi",
          "China/Shandong",
          "China/Shanghai",
          "China/Shanxi",
          "China/Sichuan",
          "Netherlands/Sint Maarten",
          "Australia/South Australia",
          "France/St Martin",
          "Australia/Tasmania",
          "China/Tianjin",
          "China/Tibet",
          "United Kingdom/Turks and Caicos Islands",
          "Australia/Victoria",
          "Australia/Western Australia",
          "China/Xinjiang",
          "Canada/Yukon",
          "China/Yunnan",
          "China/Zhejiang",
          "Afghanistan",
          "Albania",
          "Algeria",
          "Andorra",
          "Angola",
          "Antigua and Barbuda",
          "Argentina",
          "Armenia",
          "Australia",
          "Austria",
          "Azerbaijan",
          "Bahamas",
          "Bahrain",
          "Bangladesh",
          "Barbados",
          "Belarus",
          "Belgium",
          "Belize",
          "Benin",
          "Bhutan",
          "Bolivia",
          "Bosnia and Herzegovina",
          "Botswana",
          "Brazil",
          "Brunei",
          "Bulgaria",
          "Burkina Faso",
          "Burma",
          "Burundi",
          "Cabo Verde",
          "Cambodia",
          "Cameroon",
          "Canada",
          "Central African Republic",
          "Chad",
          "Chile",
          "China",
          "Colombia",
          "Comoros",
          "Congo (Brazzaville)",
          "Congo (Kinshasa)",
          "Costa Rica",
          "Cote d'Ivoire",
          "Croatia",
          "Cuba",
          "Cyprus",
          "Czechia",
          "Denmark",
          "Djibouti",
          "Dominica",
          "Dominican Republic",
          "Ecuador",
          "Egypt",
          "El Salvador",
          "Equatorial Guinea",
          "Eritrea",
          "Estonia",
          "Eswatini",
          "Ethiopia",
          "Fiji",
          "Finland",
          "France",
          "Gabon",
          "Gambia",
          "Georgia",
          "Germany",
          "Ghana",
          "Greece",
          "Greenland",
          "Grenada",
          "Guatemala",
          "Guinea",
          "Guinea-Bissau",
          "Guyana",
          "Haiti",
          "Holy See",
          "Honduras",
          "Hungary",
          "Iceland",
          "India",
          "Indonesia",
          "Iran",
          "Iraq",
          "Ireland",
          "Israel",
          "Italy",
          "Jamaica",
          "Japan",
          "Jordan",
          "Kazakhstan",
          "Kenya",
          "Kosovo",
          "Kuwait",
          "Kyrgyzstan",
          "Laos",
          "Latvia",
          "Lebanon",
          "Liberia",
          "Libya",
          "Liechtenstein",
          "Lithuania",
          "Luxembourg",
          "Madagascar",
          "Malawi",
          "Malaysia",
          "Maldives",
          "Mali",
          "Malta",
          "Mauritania",
          "Mauritius",
          "Mexico",
          "Moldova",
          "Monaco",
          "Mongolia",
          "Montenegro",
          "Morocco",
          "Mozambique",
          "Namibia",
          "Nepal",
          "Netherlands",
          "New Zealand",
          "Nicaragua",
          "Niger",
          "Nigeria",
          "North Macedonia",
          "Norway",
          "Oman",
          "Pakistan",
          "Panama",
          "Papua New Guinea",
          "Paraguay",
          "Peru",
          "Philippines",
          "Poland",
          "Portugal",
          "Qatar",
          "Romania",
          "Russia",
          "Rwanda",
          "Saint Kitts and Nevis",
          "Saint Lucia",
          "Saint Vincent and the Grenadines",
          "San Marino",
          "Sao Tome and Principe",
          "Saudi Arabia",
          "Senegal",
          "Serbia",
          "Seychelles",
          "Sierra Leone",
          "Singapore",
          "Slovakia",
          "Slovenia",
          "Somalia",
          "South Africa",
          "South Korea",
          "South Sudan",
          "Spain",
          "Sri Lanka",
          "Sudan",
          "Suriname",
          "Sweden",
          "Switzerland",
          "Syria",
          "Taiwan*",
          "Tajikistan",
          "Tanzania",
          "Thailand",
          "Timor-Leste",
          "Togo",
          "Trinidad and Tobago",
          "Tunisia",
          "Turkey",
          "US",
          "Uganda",
          "Ukraine",
          "United Arab Emirates",
          "United Kingdom",
          "Uruguay",
          "Uzbekistan",
          "Venezuela",
          "Vietnam",
          "West Bank and Gaza",
          "Western Sahara",
          "Yemen",
          "Zambia",
          "Zimbabwe"
         ],
         "labels": [
          "",
          "",
          "",
          "",
          "",
          "",
          "",
          "",
          "",
          "",
          "",
          "",
          "",
          "",
          "",
          "",
          "",
          "",
          "",
          "",
          "",
          "",
          "",
          "",
          "",
          "",
          "",
          "",
          "",
          "",
          "",
          "",
          "",
          "",
          "",
          "",
          "",
          "",
          "",
          "",
          "",
          "",
          "",
          "",
          "",
          "",
          "",
          "",
          "",
          "",
          "",
          "",
          "",
          "",
          "",
          "",
          "",
          "",
          "",
          "",
          "",
          "",
          "",
          "",
          "",
          "",
          "",
          "",
          "",
          "",
          "",
          "",
          "",
          "",
          "",
          "",
          "",
          "",
          "",
          "",
          "",
          "",
          "",
          "",
          "",
          "",
          "",
          "",
          "",
          "",
          "",
          "",
          "",
          "",
          "",
          "",
          "",
          "",
          "",
          "",
          "",
          "",
          "",
          "",
          "",
          "",
          "",
          "",
          "",
          "",
          "",
          "",
          "",
          "",
          "",
          "",
          "",
          "",
          "",
          "",
          "",
          "",
          "",
          "",
          "",
          "",
          "",
          "",
          "",
          "",
          "",
          "",
          "",
          "",
          "",
          "",
          "",
          "",
          "",
          "",
          "",
          "",
          "",
          "",
          "",
          "",
          "",
          "",
          "",
          "",
          "",
          "",
          "",
          "",
          "",
          "",
          "",
          "",
          "",
          "",
          "",
          "",
          "",
          "",
          "",
          "",
          "",
          "",
          "",
          "",
          "",
          "",
          "",
          "",
          "",
          "",
          "",
          "",
          "",
          "",
          "",
          "",
          "Alberta",
          "Anguilla",
          "Anhui",
          "Aruba",
          "Australian Capital Territory",
          "Beijing",
          "Bermuda",
          "British Columbia",
          "British Virgin Islands",
          "Cayman Islands",
          "Channel Islands",
          "Chongqing",
          "Curacao",
          "Falkland Islands (Malvinas)",
          "Faroe Islands",
          "French Guiana",
          "French Polynesia",
          "Fujian",
          "Gansu",
          "Gibraltar",
          "Greenland",
          "Guadeloupe",
          "Guangdong",
          "Guangxi",
          "Guizhou",
          "Hainan",
          "Hebei",
          "Heilongjiang",
          "Henan",
          "Hong Kong",
          "Hubei",
          "Hunan",
          "Inner Mongolia",
          "Isle of Man",
          "Jiangsu",
          "Jiangxi",
          "Jilin",
          "Liaoning",
          "Macau",
          "Manitoba",
          "Martinique",
          "Mayotte",
          "Montserrat",
          "New Brunswick",
          "New Caledonia",
          "New South Wales",
          "Newfoundland and Labrador",
          "Ningxia",
          "Northern Territory",
          "Northwest Territories",
          "Nova Scotia",
          "Ontario",
          "Prince Edward Island",
          "Qinghai",
          "Quebec",
          "Queensland",
          "Reunion",
          "Saint Barthelemy",
          "Saint Pierre and Miquelon",
          "Saskatchewan",
          "Shaanxi",
          "Shandong",
          "Shanghai",
          "Shanxi",
          "Sichuan",
          "Sint Maarten",
          "South Australia",
          "St Martin",
          "Tasmania",
          "Tianjin",
          "Tibet",
          "Turks and Caicos Islands",
          "Victoria",
          "Western Australia",
          "Xinjiang",
          "Yukon",
          "Yunnan",
          "Zhejiang",
          "Afghanistan",
          "Albania",
          "Algeria",
          "Andorra",
          "Angola",
          "Antigua and Barbuda",
          "Argentina",
          "Armenia",
          "Australia",
          "Austria",
          "Azerbaijan",
          "Bahamas",
          "Bahrain",
          "Bangladesh",
          "Barbados",
          "Belarus",
          "Belgium",
          "Belize",
          "Benin",
          "Bhutan",
          "Bolivia",
          "Bosnia and Herzegovina",
          "Botswana",
          "Brazil",
          "Brunei",
          "Bulgaria",
          "Burkina Faso",
          "Burma",
          "Burundi",
          "Cabo Verde",
          "Cambodia",
          "Cameroon",
          "Canada",
          "Central African Republic",
          "Chad",
          "Chile",
          "China",
          "Colombia",
          "Comoros",
          "Congo (Brazzaville)",
          "Congo (Kinshasa)",
          "Costa Rica",
          "Cote d'Ivoire",
          "Croatia",
          "Cuba",
          "Cyprus",
          "Czechia",
          "Denmark",
          "Djibouti",
          "Dominica",
          "Dominican Republic",
          "Ecuador",
          "Egypt",
          "El Salvador",
          "Equatorial Guinea",
          "Eritrea",
          "Estonia",
          "Eswatini",
          "Ethiopia",
          "Fiji",
          "Finland",
          "France",
          "Gabon",
          "Gambia",
          "Georgia",
          "Germany",
          "Ghana",
          "Greece",
          "Greenland",
          "Grenada",
          "Guatemala",
          "Guinea",
          "Guinea-Bissau",
          "Guyana",
          "Haiti",
          "Holy See",
          "Honduras",
          "Hungary",
          "Iceland",
          "India",
          "Indonesia",
          "Iran",
          "Iraq",
          "Ireland",
          "Israel",
          "Italy",
          "Jamaica",
          "Japan",
          "Jordan",
          "Kazakhstan",
          "Kenya",
          "Kosovo",
          "Kuwait",
          "Kyrgyzstan",
          "Laos",
          "Latvia",
          "Lebanon",
          "Liberia",
          "Libya",
          "Liechtenstein",
          "Lithuania",
          "Luxembourg",
          "Madagascar",
          "Malawi",
          "Malaysia",
          "Maldives",
          "Mali",
          "Malta",
          "Mauritania",
          "Mauritius",
          "Mexico",
          "Moldova",
          "Monaco",
          "Mongolia",
          "Montenegro",
          "Morocco",
          "Mozambique",
          "Namibia",
          "Nepal",
          "Netherlands",
          "New Zealand",
          "Nicaragua",
          "Niger",
          "Nigeria",
          "North Macedonia",
          "Norway",
          "Oman",
          "Pakistan",
          "Panama",
          "Papua New Guinea",
          "Paraguay",
          "Peru",
          "Philippines",
          "Poland",
          "Portugal",
          "Qatar",
          "Romania",
          "Russia",
          "Rwanda",
          "Saint Kitts and Nevis",
          "Saint Lucia",
          "Saint Vincent and the Grenadines",
          "San Marino",
          "Sao Tome and Principe",
          "Saudi Arabia",
          "Senegal",
          "Serbia",
          "Seychelles",
          "Sierra Leone",
          "Singapore",
          "Slovakia",
          "Slovenia",
          "Somalia",
          "South Africa",
          "South Korea",
          "South Sudan",
          "Spain",
          "Sri Lanka",
          "Sudan",
          "Suriname",
          "Sweden",
          "Switzerland",
          "Syria",
          "Taiwan*",
          "Tajikistan",
          "Tanzania",
          "Thailand",
          "Timor-Leste",
          "Togo",
          "Trinidad and Tobago",
          "Tunisia",
          "Turkey",
          "US",
          "Uganda",
          "Ukraine",
          "United Arab Emirates",
          "United Kingdom",
          "Uruguay",
          "Uzbekistan",
          "Venezuela",
          "Vietnam",
          "West Bank and Gaza",
          "Western Sahara",
          "Yemen",
          "Zambia",
          "Zimbabwe"
         ],
         "name": "",
         "parents": [
          "Afghanistan",
          "Albania",
          "Algeria",
          "Andorra",
          "Angola",
          "Antigua and Barbuda",
          "Argentina",
          "Armenia",
          "Austria",
          "Azerbaijan",
          "Bahamas",
          "Bahrain",
          "Bangladesh",
          "Barbados",
          "Belarus",
          "Belgium",
          "Belize",
          "Benin",
          "Bhutan",
          "Bolivia",
          "Bosnia and Herzegovina",
          "Botswana",
          "Brazil",
          "Brunei",
          "Bulgaria",
          "Burkina Faso",
          "Burma",
          "Burundi",
          "Cabo Verde",
          "Cambodia",
          "Cameroon",
          "Central African Republic",
          "Chad",
          "Chile",
          "Colombia",
          "Comoros",
          "Congo (Brazzaville)",
          "Congo (Kinshasa)",
          "Costa Rica",
          "Cote d'Ivoire",
          "Croatia",
          "Cuba",
          "Cyprus",
          "Czechia",
          "Denmark",
          "Djibouti",
          "Dominica",
          "Dominican Republic",
          "Ecuador",
          "Egypt",
          "El Salvador",
          "Equatorial Guinea",
          "Eritrea",
          "Estonia",
          "Eswatini",
          "Ethiopia",
          "Fiji",
          "Finland",
          "France",
          "Gabon",
          "Gambia",
          "Georgia",
          "Germany",
          "Ghana",
          "Greece",
          "Grenada",
          "Guatemala",
          "Guinea",
          "Guinea-Bissau",
          "Guyana",
          "Haiti",
          "Holy See",
          "Honduras",
          "Hungary",
          "Iceland",
          "India",
          "Indonesia",
          "Iran",
          "Iraq",
          "Ireland",
          "Israel",
          "Italy",
          "Jamaica",
          "Japan",
          "Jordan",
          "Kazakhstan",
          "Kenya",
          "Kosovo",
          "Kuwait",
          "Kyrgyzstan",
          "Laos",
          "Latvia",
          "Lebanon",
          "Liberia",
          "Libya",
          "Liechtenstein",
          "Lithuania",
          "Luxembourg",
          "Madagascar",
          "Malawi",
          "Malaysia",
          "Maldives",
          "Mali",
          "Malta",
          "Mauritania",
          "Mauritius",
          "Mexico",
          "Moldova",
          "Monaco",
          "Mongolia",
          "Montenegro",
          "Morocco",
          "Mozambique",
          "Namibia",
          "Nepal",
          "Netherlands",
          "New Zealand",
          "Nicaragua",
          "Niger",
          "Nigeria",
          "North Macedonia",
          "Norway",
          "Oman",
          "Pakistan",
          "Panama",
          "Papua New Guinea",
          "Paraguay",
          "Peru",
          "Philippines",
          "Poland",
          "Portugal",
          "Qatar",
          "Romania",
          "Russia",
          "Rwanda",
          "Saint Kitts and Nevis",
          "Saint Lucia",
          "Saint Vincent and the Grenadines",
          "San Marino",
          "Sao Tome and Principe",
          "Saudi Arabia",
          "Senegal",
          "Serbia",
          "Seychelles",
          "Sierra Leone",
          "Singapore",
          "Slovakia",
          "Slovenia",
          "Somalia",
          "South Africa",
          "South Korea",
          "South Sudan",
          "Spain",
          "Sri Lanka",
          "Sudan",
          "Suriname",
          "Sweden",
          "Switzerland",
          "Syria",
          "Taiwan*",
          "Tajikistan",
          "Tanzania",
          "Thailand",
          "Timor-Leste",
          "Togo",
          "Trinidad and Tobago",
          "Tunisia",
          "Turkey",
          "US",
          "Uganda",
          "Ukraine",
          "United Arab Emirates",
          "United Kingdom",
          "Uruguay",
          "Uzbekistan",
          "Venezuela",
          "Vietnam",
          "West Bank and Gaza",
          "Western Sahara",
          "Yemen",
          "Zambia",
          "Zimbabwe",
          "Canada",
          "United Kingdom",
          "China",
          "Netherlands",
          "Australia",
          "China",
          "United Kingdom",
          "Canada",
          "United Kingdom",
          "United Kingdom",
          "United Kingdom",
          "China",
          "Netherlands",
          "United Kingdom",
          "Denmark",
          "France",
          "France",
          "China",
          "China",
          "United Kingdom",
          "Greenland",
          "France",
          "China",
          "China",
          "China",
          "China",
          "China",
          "China",
          "China",
          "China",
          "China",
          "China",
          "China",
          "United Kingdom",
          "China",
          "China",
          "China",
          "China",
          "China",
          "Canada",
          "France",
          "France",
          "United Kingdom",
          "Canada",
          "France",
          "Australia",
          "Canada",
          "China",
          "Australia",
          "Canada",
          "Canada",
          "Canada",
          "Canada",
          "China",
          "Canada",
          "Australia",
          "France",
          "France",
          "France",
          "Canada",
          "China",
          "China",
          "China",
          "China",
          "China",
          "Netherlands",
          "Australia",
          "France",
          "Australia",
          "China",
          "China",
          "United Kingdom",
          "Australia",
          "Australia",
          "China",
          "Canada",
          "China",
          "China",
          "",
          "",
          "",
          "",
          "",
          "",
          "",
          "",
          "",
          "",
          "",
          "",
          "",
          "",
          "",
          "",
          "",
          "",
          "",
          "",
          "",
          "",
          "",
          "",
          "",
          "",
          "",
          "",
          "",
          "",
          "",
          "",
          "",
          "",
          "",
          "",
          "",
          "",
          "",
          "",
          "",
          "",
          "",
          "",
          "",
          "",
          "",
          "",
          "",
          "",
          "",
          "",
          "",
          "",
          "",
          "",
          "",
          "",
          "",
          "",
          "",
          "",
          "",
          "",
          "",
          "",
          "",
          "",
          "",
          "",
          "",
          "",
          "",
          "",
          "",
          "",
          "",
          "",
          "",
          "",
          "",
          "",
          "",
          "",
          "",
          "",
          "",
          "",
          "",
          "",
          "",
          "",
          "",
          "",
          "",
          "",
          "",
          "",
          "",
          "",
          "",
          "",
          "",
          "",
          "",
          "",
          "",
          "",
          "",
          "",
          "",
          "",
          "",
          "",
          "",
          "",
          "",
          "",
          "",
          "",
          "",
          "",
          "",
          "",
          "",
          "",
          "",
          "",
          "",
          "",
          "",
          "",
          "",
          "",
          "",
          "",
          "",
          "",
          "",
          "",
          "",
          "",
          "",
          "",
          "",
          "",
          "",
          "",
          "",
          "",
          "",
          "",
          "",
          "",
          "",
          "",
          "",
          "",
          "",
          "",
          "",
          "",
          "",
          "",
          "",
          "",
          "",
          "",
          "",
          "",
          "",
          "",
          "",
          "",
          "",
          "",
          "",
          "",
          "",
          "",
          "",
          "",
          "",
          "",
          "",
          ""
         ],
         "textinfo": "label+text+value",
         "type": "treemap",
         "values": [
          115,
          31,
          494,
          48,
          2,
          3,
          300,
          44,
          615,
          31,
          11,
          8,
          214,
          7,
          126,
          8581,
          2,
          2,
          0,
          114,
          102,
          1,
          10656,
          1,
          90,
          48,
          6,
          1,
          2,
          0,
          108,
          0,
          31,
          304,
          445,
          1,
          10,
          39,
          6,
          21,
          87,
          74,
          15,
          276,
          526,
          3,
          0,
          385,
          1717,
          514,
          17,
          4,
          0,
          60,
          2,
          5,
          0,
          265,
          26271,
          8,
          1,
          10,
          7549,
          22,
          151,
          0,
          24,
          11,
          3,
          10,
          12,
          0,
          108,
          405,
          10,
          2101,
          959,
          6589,
          107,
          1446,
          247,
          30395,
          9,
          607,
          9,
          31,
          30,
          28,
          49,
          12,
          0,
          18,
          26,
          20,
          3,
          1,
          49,
          101,
          0,
          3,
          108,
          3,
          37,
          5,
          1,
          10,
          3353,
          161,
          4,
          0,
          8,
          186,
          0,
          0,
          0,
          5422,
          21,
          5,
          45,
          128,
          91,
          219,
          17,
          636,
          237,
          0,
          10,
          1814,
          704,
          785,
          1126,
          13,
          939,
          1827,
          0,
          0,
          0,
          0,
          41,
          5,
          239,
          17,
          215,
          0,
          18,
          20,
          26,
          101,
          48,
          186,
          256,
          0,
          26478,
          9,
          64,
          1,
          3220,
          1830,
          3,
          6,
          20,
          21,
          56,
          0,
          10,
          8,
          45,
          3739,
          78795,
          0,
          376,
          185,
          31587,
          18,
          10,
          10,
          0,
          2,
          0,
          7,
          7,
          4,
          116,
          0,
          6,
          3,
          3,
          9,
          7,
          129,
          1,
          1,
          41,
          6,
          1,
          0,
          0,
          1,
          0,
          1,
          2,
          0,
          0,
          13,
          8,
          2,
          2,
          6,
          6,
          13,
          22,
          4,
          4512,
          4,
          1,
          23,
          0,
          1,
          1,
          2,
          0,
          7,
          14,
          11,
          1,
          0,
          0,
          44,
          3,
          0,
          0,
          0,
          47,
          1726,
          0,
          0,
          2787,
          6,
          0,
          0,
          0,
          7,
          3,
          7,
          7,
          0,
          3,
          15,
          4,
          3,
          13,
          3,
          0,
          1,
          18,
          9,
          3,
          0,
          2,
          1,
          115,
          31,
          494,
          48,
          2,
          3,
          300,
          44,
          97,
          615,
          31,
          11,
          8,
          214,
          7,
          126,
          8581,
          2,
          2,
          0,
          114,
          102,
          1,
          10656,
          1,
          90,
          48,
          6,
          1,
          2,
          0,
          108,
          4822,
          0,
          31,
          304,
          4637,
          445,
          1,
          10,
          39,
          6,
          21,
          87,
          74,
          15,
          276,
          526,
          3,
          0,
          385,
          1717,
          514,
          17,
          4,
          0,
          60,
          2,
          5,
          0,
          265,
          26313,
          8,
          1,
          10,
          7549,
          22,
          151,
          0,
          0,
          24,
          11,
          3,
          10,
          12,
          0,
          108,
          405,
          10,
          2101,
          959,
          6589,
          107,
          1446,
          247,
          30395,
          9,
          607,
          9,
          31,
          30,
          28,
          49,
          12,
          0,
          18,
          26,
          20,
          3,
          1,
          49,
          101,
          0,
          3,
          108,
          3,
          37,
          5,
          1,
          10,
          3353,
          161,
          4,
          0,
          8,
          186,
          0,
          0,
          0,
          5441,
          21,
          5,
          45,
          128,
          91,
          219,
          17,
          636,
          237,
          0,
          10,
          1814,
          704,
          785,
          1126,
          13,
          939,
          1827,
          0,
          0,
          0,
          0,
          41,
          5,
          239,
          17,
          215,
          0,
          18,
          20,
          26,
          101,
          48,
          186,
          256,
          0,
          26478,
          9,
          64,
          1,
          3220,
          1830,
          3,
          6,
          20,
          21,
          56,
          0,
          10,
          8,
          45,
          3739,
          78795,
          0,
          376,
          185,
          31662,
          18,
          10,
          10,
          0,
          2,
          0,
          7,
          7,
          4
         ]
        }
       ],
       "layout": {
        "height": 700,
        "legend": {
         "tracegroupgap": 0
        },
        "template": {
         "data": {
          "bar": [
           {
            "error_x": {
             "color": "#2a3f5f"
            },
            "error_y": {
             "color": "#2a3f5f"
            },
            "marker": {
             "line": {
              "color": "#E5ECF6",
              "width": 0.5
             }
            },
            "type": "bar"
           }
          ],
          "barpolar": [
           {
            "marker": {
             "line": {
              "color": "#E5ECF6",
              "width": 0.5
             }
            },
            "type": "barpolar"
           }
          ],
          "carpet": [
           {
            "aaxis": {
             "endlinecolor": "#2a3f5f",
             "gridcolor": "white",
             "linecolor": "white",
             "minorgridcolor": "white",
             "startlinecolor": "#2a3f5f"
            },
            "baxis": {
             "endlinecolor": "#2a3f5f",
             "gridcolor": "white",
             "linecolor": "white",
             "minorgridcolor": "white",
             "startlinecolor": "#2a3f5f"
            },
            "type": "carpet"
           }
          ],
          "choropleth": [
           {
            "colorbar": {
             "outlinewidth": 0,
             "ticks": ""
            },
            "type": "choropleth"
           }
          ],
          "contour": [
           {
            "colorbar": {
             "outlinewidth": 0,
             "ticks": ""
            },
            "colorscale": [
             [
              0,
              "#0d0887"
             ],
             [
              0.1111111111111111,
              "#46039f"
             ],
             [
              0.2222222222222222,
              "#7201a8"
             ],
             [
              0.3333333333333333,
              "#9c179e"
             ],
             [
              0.4444444444444444,
              "#bd3786"
             ],
             [
              0.5555555555555556,
              "#d8576b"
             ],
             [
              0.6666666666666666,
              "#ed7953"
             ],
             [
              0.7777777777777778,
              "#fb9f3a"
             ],
             [
              0.8888888888888888,
              "#fdca26"
             ],
             [
              1,
              "#f0f921"
             ]
            ],
            "type": "contour"
           }
          ],
          "contourcarpet": [
           {
            "colorbar": {
             "outlinewidth": 0,
             "ticks": ""
            },
            "type": "contourcarpet"
           }
          ],
          "heatmap": [
           {
            "colorbar": {
             "outlinewidth": 0,
             "ticks": ""
            },
            "colorscale": [
             [
              0,
              "#0d0887"
             ],
             [
              0.1111111111111111,
              "#46039f"
             ],
             [
              0.2222222222222222,
              "#7201a8"
             ],
             [
              0.3333333333333333,
              "#9c179e"
             ],
             [
              0.4444444444444444,
              "#bd3786"
             ],
             [
              0.5555555555555556,
              "#d8576b"
             ],
             [
              0.6666666666666666,
              "#ed7953"
             ],
             [
              0.7777777777777778,
              "#fb9f3a"
             ],
             [
              0.8888888888888888,
              "#fdca26"
             ],
             [
              1,
              "#f0f921"
             ]
            ],
            "type": "heatmap"
           }
          ],
          "heatmapgl": [
           {
            "colorbar": {
             "outlinewidth": 0,
             "ticks": ""
            },
            "colorscale": [
             [
              0,
              "#0d0887"
             ],
             [
              0.1111111111111111,
              "#46039f"
             ],
             [
              0.2222222222222222,
              "#7201a8"
             ],
             [
              0.3333333333333333,
              "#9c179e"
             ],
             [
              0.4444444444444444,
              "#bd3786"
             ],
             [
              0.5555555555555556,
              "#d8576b"
             ],
             [
              0.6666666666666666,
              "#ed7953"
             ],
             [
              0.7777777777777778,
              "#fb9f3a"
             ],
             [
              0.8888888888888888,
              "#fdca26"
             ],
             [
              1,
              "#f0f921"
             ]
            ],
            "type": "heatmapgl"
           }
          ],
          "histogram": [
           {
            "marker": {
             "colorbar": {
              "outlinewidth": 0,
              "ticks": ""
             }
            },
            "type": "histogram"
           }
          ],
          "histogram2d": [
           {
            "colorbar": {
             "outlinewidth": 0,
             "ticks": ""
            },
            "colorscale": [
             [
              0,
              "#0d0887"
             ],
             [
              0.1111111111111111,
              "#46039f"
             ],
             [
              0.2222222222222222,
              "#7201a8"
             ],
             [
              0.3333333333333333,
              "#9c179e"
             ],
             [
              0.4444444444444444,
              "#bd3786"
             ],
             [
              0.5555555555555556,
              "#d8576b"
             ],
             [
              0.6666666666666666,
              "#ed7953"
             ],
             [
              0.7777777777777778,
              "#fb9f3a"
             ],
             [
              0.8888888888888888,
              "#fdca26"
             ],
             [
              1,
              "#f0f921"
             ]
            ],
            "type": "histogram2d"
           }
          ],
          "histogram2dcontour": [
           {
            "colorbar": {
             "outlinewidth": 0,
             "ticks": ""
            },
            "colorscale": [
             [
              0,
              "#0d0887"
             ],
             [
              0.1111111111111111,
              "#46039f"
             ],
             [
              0.2222222222222222,
              "#7201a8"
             ],
             [
              0.3333333333333333,
              "#9c179e"
             ],
             [
              0.4444444444444444,
              "#bd3786"
             ],
             [
              0.5555555555555556,
              "#d8576b"
             ],
             [
              0.6666666666666666,
              "#ed7953"
             ],
             [
              0.7777777777777778,
              "#fb9f3a"
             ],
             [
              0.8888888888888888,
              "#fdca26"
             ],
             [
              1,
              "#f0f921"
             ]
            ],
            "type": "histogram2dcontour"
           }
          ],
          "mesh3d": [
           {
            "colorbar": {
             "outlinewidth": 0,
             "ticks": ""
            },
            "type": "mesh3d"
           }
          ],
          "parcoords": [
           {
            "line": {
             "colorbar": {
              "outlinewidth": 0,
              "ticks": ""
             }
            },
            "type": "parcoords"
           }
          ],
          "pie": [
           {
            "automargin": true,
            "type": "pie"
           }
          ],
          "scatter": [
           {
            "marker": {
             "colorbar": {
              "outlinewidth": 0,
              "ticks": ""
             }
            },
            "type": "scatter"
           }
          ],
          "scatter3d": [
           {
            "line": {
             "colorbar": {
              "outlinewidth": 0,
              "ticks": ""
             }
            },
            "marker": {
             "colorbar": {
              "outlinewidth": 0,
              "ticks": ""
             }
            },
            "type": "scatter3d"
           }
          ],
          "scattercarpet": [
           {
            "marker": {
             "colorbar": {
              "outlinewidth": 0,
              "ticks": ""
             }
            },
            "type": "scattercarpet"
           }
          ],
          "scattergeo": [
           {
            "marker": {
             "colorbar": {
              "outlinewidth": 0,
              "ticks": ""
             }
            },
            "type": "scattergeo"
           }
          ],
          "scattergl": [
           {
            "marker": {
             "colorbar": {
              "outlinewidth": 0,
              "ticks": ""
             }
            },
            "type": "scattergl"
           }
          ],
          "scattermapbox": [
           {
            "marker": {
             "colorbar": {
              "outlinewidth": 0,
              "ticks": ""
             }
            },
            "type": "scattermapbox"
           }
          ],
          "scatterpolar": [
           {
            "marker": {
             "colorbar": {
              "outlinewidth": 0,
              "ticks": ""
             }
            },
            "type": "scatterpolar"
           }
          ],
          "scatterpolargl": [
           {
            "marker": {
             "colorbar": {
              "outlinewidth": 0,
              "ticks": ""
             }
            },
            "type": "scatterpolargl"
           }
          ],
          "scatterternary": [
           {
            "marker": {
             "colorbar": {
              "outlinewidth": 0,
              "ticks": ""
             }
            },
            "type": "scatterternary"
           }
          ],
          "surface": [
           {
            "colorbar": {
             "outlinewidth": 0,
             "ticks": ""
            },
            "colorscale": [
             [
              0,
              "#0d0887"
             ],
             [
              0.1111111111111111,
              "#46039f"
             ],
             [
              0.2222222222222222,
              "#7201a8"
             ],
             [
              0.3333333333333333,
              "#9c179e"
             ],
             [
              0.4444444444444444,
              "#bd3786"
             ],
             [
              0.5555555555555556,
              "#d8576b"
             ],
             [
              0.6666666666666666,
              "#ed7953"
             ],
             [
              0.7777777777777778,
              "#fb9f3a"
             ],
             [
              0.8888888888888888,
              "#fdca26"
             ],
             [
              1,
              "#f0f921"
             ]
            ],
            "type": "surface"
           }
          ],
          "table": [
           {
            "cells": {
             "fill": {
              "color": "#EBF0F8"
             },
             "line": {
              "color": "white"
             }
            },
            "header": {
             "fill": {
              "color": "#C8D4E3"
             },
             "line": {
              "color": "white"
             }
            },
            "type": "table"
           }
          ]
         },
         "layout": {
          "annotationdefaults": {
           "arrowcolor": "#2a3f5f",
           "arrowhead": 0,
           "arrowwidth": 1
          },
          "coloraxis": {
           "colorbar": {
            "outlinewidth": 0,
            "ticks": ""
           }
          },
          "colorscale": {
           "diverging": [
            [
             0,
             "#8e0152"
            ],
            [
             0.1,
             "#c51b7d"
            ],
            [
             0.2,
             "#de77ae"
            ],
            [
             0.3,
             "#f1b6da"
            ],
            [
             0.4,
             "#fde0ef"
            ],
            [
             0.5,
             "#f7f7f7"
            ],
            [
             0.6,
             "#e6f5d0"
            ],
            [
             0.7,
             "#b8e186"
            ],
            [
             0.8,
             "#7fbc41"
            ],
            [
             0.9,
             "#4d9221"
            ],
            [
             1,
             "#276419"
            ]
           ],
           "sequential": [
            [
             0,
             "#0d0887"
            ],
            [
             0.1111111111111111,
             "#46039f"
            ],
            [
             0.2222222222222222,
             "#7201a8"
            ],
            [
             0.3333333333333333,
             "#9c179e"
            ],
            [
             0.4444444444444444,
             "#bd3786"
            ],
            [
             0.5555555555555556,
             "#d8576b"
            ],
            [
             0.6666666666666666,
             "#ed7953"
            ],
            [
             0.7777777777777778,
             "#fb9f3a"
            ],
            [
             0.8888888888888888,
             "#fdca26"
            ],
            [
             1,
             "#f0f921"
            ]
           ],
           "sequentialminus": [
            [
             0,
             "#0d0887"
            ],
            [
             0.1111111111111111,
             "#46039f"
            ],
            [
             0.2222222222222222,
             "#7201a8"
            ],
            [
             0.3333333333333333,
             "#9c179e"
            ],
            [
             0.4444444444444444,
             "#bd3786"
            ],
            [
             0.5555555555555556,
             "#d8576b"
            ],
            [
             0.6666666666666666,
             "#ed7953"
            ],
            [
             0.7777777777777778,
             "#fb9f3a"
            ],
            [
             0.8888888888888888,
             "#fdca26"
            ],
            [
             1,
             "#f0f921"
            ]
           ]
          },
          "colorway": [
           "#636efa",
           "#EF553B",
           "#00cc96",
           "#ab63fa",
           "#FFA15A",
           "#19d3f3",
           "#FF6692",
           "#B6E880",
           "#FF97FF",
           "#FECB52"
          ],
          "font": {
           "color": "#2a3f5f"
          },
          "geo": {
           "bgcolor": "white",
           "lakecolor": "white",
           "landcolor": "#E5ECF6",
           "showlakes": true,
           "showland": true,
           "subunitcolor": "white"
          },
          "hoverlabel": {
           "align": "left"
          },
          "hovermode": "closest",
          "mapbox": {
           "style": "light"
          },
          "paper_bgcolor": "white",
          "plot_bgcolor": "#E5ECF6",
          "polar": {
           "angularaxis": {
            "gridcolor": "white",
            "linecolor": "white",
            "ticks": ""
           },
           "bgcolor": "#E5ECF6",
           "radialaxis": {
            "gridcolor": "white",
            "linecolor": "white",
            "ticks": ""
           }
          },
          "scene": {
           "xaxis": {
            "backgroundcolor": "#E5ECF6",
            "gridcolor": "white",
            "gridwidth": 2,
            "linecolor": "white",
            "showbackground": true,
            "ticks": "",
            "zerolinecolor": "white"
           },
           "yaxis": {
            "backgroundcolor": "#E5ECF6",
            "gridcolor": "white",
            "gridwidth": 2,
            "linecolor": "white",
            "showbackground": true,
            "ticks": "",
            "zerolinecolor": "white"
           },
           "zaxis": {
            "backgroundcolor": "#E5ECF6",
            "gridcolor": "white",
            "gridwidth": 2,
            "linecolor": "white",
            "showbackground": true,
            "ticks": "",
            "zerolinecolor": "white"
           }
          },
          "shapedefaults": {
           "line": {
            "color": "#2a3f5f"
           }
          },
          "ternary": {
           "aaxis": {
            "gridcolor": "white",
            "linecolor": "white",
            "ticks": ""
           },
           "baxis": {
            "gridcolor": "white",
            "linecolor": "white",
            "ticks": ""
           },
           "bgcolor": "#E5ECF6",
           "caxis": {
            "gridcolor": "white",
            "linecolor": "white",
            "ticks": ""
           }
          },
          "title": {
           "x": 0.05
          },
          "xaxis": {
           "automargin": true,
           "gridcolor": "white",
           "linecolor": "white",
           "ticks": "",
           "title": {
            "standoff": 15
           },
           "zerolinecolor": "white",
           "zerolinewidth": 2
          },
          "yaxis": {
           "automargin": true,
           "gridcolor": "white",
           "linecolor": "white",
           "ticks": "",
           "title": {
            "standoff": 15
           },
           "zerolinecolor": "white",
           "zerolinewidth": 2
          }
         }
        },
        "title": {
         "text": "Number of Deaths reported"
        },
        "treemapcolorway": [
         "rgb(27,158,119)",
         "rgb(217,95,2)",
         "rgb(117,112,179)",
         "rgb(231,41,138)",
         "rgb(102,166,30)",
         "rgb(230,171,2)",
         "rgb(166,118,29)",
         "rgb(102,102,102)"
        ]
       }
      },
      "text/html": [
       "<div>\n",
       "        \n",
       "        \n",
       "            <div id=\"bea371dc-b6c0-49a3-963a-263a6d64a80a\" class=\"plotly-graph-div\" style=\"height:700px; width:100%;\"></div>\n",
       "            <script type=\"text/javascript\">\n",
       "                require([\"plotly\"], function(Plotly) {\n",
       "                    window.PLOTLYENV=window.PLOTLYENV || {};\n",
       "                    \n",
       "                if (document.getElementById(\"bea371dc-b6c0-49a3-963a-263a6d64a80a\")) {\n",
       "                    Plotly.newPlot(\n",
       "                        'bea371dc-b6c0-49a3-963a-263a6d64a80a',\n",
       "                        [{\"branchvalues\": \"total\", \"domain\": {\"x\": [0.0, 1.0], \"y\": [0.0, 1.0]}, \"hovertemplate\": \"labels=%{label}<br>Deaths=%{value}<br>parent=%{parent}<br>id=%{id}<extra></extra>\", \"ids\": [\"Afghanistan/\", \"Albania/\", \"Algeria/\", \"Andorra/\", \"Angola/\", \"Antigua and Barbuda/\", \"Argentina/\", \"Armenia/\", \"Austria/\", \"Azerbaijan/\", \"Bahamas/\", \"Bahrain/\", \"Bangladesh/\", \"Barbados/\", \"Belarus/\", \"Belgium/\", \"Belize/\", \"Benin/\", \"Bhutan/\", \"Bolivia/\", \"Bosnia and Herzegovina/\", \"Botswana/\", \"Brazil/\", \"Brunei/\", \"Bulgaria/\", \"Burkina Faso/\", \"Burma/\", \"Burundi/\", \"Cabo Verde/\", \"Cambodia/\", \"Cameroon/\", \"Central African Republic/\", \"Chad/\", \"Chile/\", \"Colombia/\", \"Comoros/\", \"Congo (Brazzaville)/\", \"Congo (Kinshasa)/\", \"Costa Rica/\", \"Cote d'Ivoire/\", \"Croatia/\", \"Cuba/\", \"Cyprus/\", \"Czechia/\", \"Denmark/\", \"Djibouti/\", \"Dominica/\", \"Dominican Republic/\", \"Ecuador/\", \"Egypt/\", \"El Salvador/\", \"Equatorial Guinea/\", \"Eritrea/\", \"Estonia/\", \"Eswatini/\", \"Ethiopia/\", \"Fiji/\", \"Finland/\", \"France/\", \"Gabon/\", \"Gambia/\", \"Georgia/\", \"Germany/\", \"Ghana/\", \"Greece/\", \"Grenada/\", \"Guatemala/\", \"Guinea/\", \"Guinea-Bissau/\", \"Guyana/\", \"Haiti/\", \"Holy See/\", \"Honduras/\", \"Hungary/\", \"Iceland/\", \"India/\", \"Indonesia/\", \"Iran/\", \"Iraq/\", \"Ireland/\", \"Israel/\", \"Italy/\", \"Jamaica/\", \"Japan/\", \"Jordan/\", \"Kazakhstan/\", \"Kenya/\", \"Kosovo/\", \"Kuwait/\", \"Kyrgyzstan/\", \"Laos/\", \"Latvia/\", \"Lebanon/\", \"Liberia/\", \"Libya/\", \"Liechtenstein/\", \"Lithuania/\", \"Luxembourg/\", \"Madagascar/\", \"Malawi/\", \"Malaysia/\", \"Maldives/\", \"Mali/\", \"Malta/\", \"Mauritania/\", \"Mauritius/\", \"Mexico/\", \"Moldova/\", \"Monaco/\", \"Mongolia/\", \"Montenegro/\", \"Morocco/\", \"Mozambique/\", \"Namibia/\", \"Nepal/\", \"Netherlands/\", \"New Zealand/\", \"Nicaragua/\", \"Niger/\", \"Nigeria/\", \"North Macedonia/\", \"Norway/\", \"Oman/\", \"Pakistan/\", \"Panama/\", \"Papua New Guinea/\", \"Paraguay/\", \"Peru/\", \"Philippines/\", \"Poland/\", \"Portugal/\", \"Qatar/\", \"Romania/\", \"Russia/\", \"Rwanda/\", \"Saint Kitts and Nevis/\", \"Saint Lucia/\", \"Saint Vincent and the Grenadines/\", \"San Marino/\", \"Sao Tome and Principe/\", \"Saudi Arabia/\", \"Senegal/\", \"Serbia/\", \"Seychelles/\", \"Sierra Leone/\", \"Singapore/\", \"Slovakia/\", \"Slovenia/\", \"Somalia/\", \"South Africa/\", \"South Korea/\", \"South Sudan/\", \"Spain/\", \"Sri Lanka/\", \"Sudan/\", \"Suriname/\", \"Sweden/\", \"Switzerland/\", \"Syria/\", \"Taiwan*/\", \"Tajikistan/\", \"Tanzania/\", \"Thailand/\", \"Timor-Leste/\", \"Togo/\", \"Trinidad and Tobago/\", \"Tunisia/\", \"Turkey/\", \"US/\", \"Uganda/\", \"Ukraine/\", \"United Arab Emirates/\", \"United Kingdom/\", \"Uruguay/\", \"Uzbekistan/\", \"Venezuela/\", \"Vietnam/\", \"West Bank and Gaza/\", \"Western Sahara/\", \"Yemen/\", \"Zambia/\", \"Zimbabwe/\", \"Canada/Alberta\", \"United Kingdom/Anguilla\", \"China/Anhui\", \"Netherlands/Aruba\", \"Australia/Australian Capital Territory\", \"China/Beijing\", \"United Kingdom/Bermuda\", \"Canada/British Columbia\", \"United Kingdom/British Virgin Islands\", \"United Kingdom/Cayman Islands\", \"United Kingdom/Channel Islands\", \"China/Chongqing\", \"Netherlands/Curacao\", \"United Kingdom/Falkland Islands (Malvinas)\", \"Denmark/Faroe Islands\", \"France/French Guiana\", \"France/French Polynesia\", \"China/Fujian\", \"China/Gansu\", \"United Kingdom/Gibraltar\", \"Greenland/Greenland\", \"France/Guadeloupe\", \"China/Guangdong\", \"China/Guangxi\", \"China/Guizhou\", \"China/Hainan\", \"China/Hebei\", \"China/Heilongjiang\", \"China/Henan\", \"China/Hong Kong\", \"China/Hubei\", \"China/Hunan\", \"China/Inner Mongolia\", \"United Kingdom/Isle of Man\", \"China/Jiangsu\", \"China/Jiangxi\", \"China/Jilin\", \"China/Liaoning\", \"China/Macau\", \"Canada/Manitoba\", \"France/Martinique\", \"France/Mayotte\", \"United Kingdom/Montserrat\", \"Canada/New Brunswick\", \"France/New Caledonia\", \"Australia/New South Wales\", \"Canada/Newfoundland and Labrador\", \"China/Ningxia\", \"Australia/Northern Territory\", \"Canada/Northwest Territories\", \"Canada/Nova Scotia\", \"Canada/Ontario\", \"Canada/Prince Edward Island\", \"China/Qinghai\", \"Canada/Quebec\", \"Australia/Queensland\", \"France/Reunion\", \"France/Saint Barthelemy\", \"France/Saint Pierre and Miquelon\", \"Canada/Saskatchewan\", \"China/Shaanxi\", \"China/Shandong\", \"China/Shanghai\", \"China/Shanxi\", \"China/Sichuan\", \"Netherlands/Sint Maarten\", \"Australia/South Australia\", \"France/St Martin\", \"Australia/Tasmania\", \"China/Tianjin\", \"China/Tibet\", \"United Kingdom/Turks and Caicos Islands\", \"Australia/Victoria\", \"Australia/Western Australia\", \"China/Xinjiang\", \"Canada/Yukon\", \"China/Yunnan\", \"China/Zhejiang\", \"Afghanistan\", \"Albania\", \"Algeria\", \"Andorra\", \"Angola\", \"Antigua and Barbuda\", \"Argentina\", \"Armenia\", \"Australia\", \"Austria\", \"Azerbaijan\", \"Bahamas\", \"Bahrain\", \"Bangladesh\", \"Barbados\", \"Belarus\", \"Belgium\", \"Belize\", \"Benin\", \"Bhutan\", \"Bolivia\", \"Bosnia and Herzegovina\", \"Botswana\", \"Brazil\", \"Brunei\", \"Bulgaria\", \"Burkina Faso\", \"Burma\", \"Burundi\", \"Cabo Verde\", \"Cambodia\", \"Cameroon\", \"Canada\", \"Central African Republic\", \"Chad\", \"Chile\", \"China\", \"Colombia\", \"Comoros\", \"Congo (Brazzaville)\", \"Congo (Kinshasa)\", \"Costa Rica\", \"Cote d'Ivoire\", \"Croatia\", \"Cuba\", \"Cyprus\", \"Czechia\", \"Denmark\", \"Djibouti\", \"Dominica\", \"Dominican Republic\", \"Ecuador\", \"Egypt\", \"El Salvador\", \"Equatorial Guinea\", \"Eritrea\", \"Estonia\", \"Eswatini\", \"Ethiopia\", \"Fiji\", \"Finland\", \"France\", \"Gabon\", \"Gambia\", \"Georgia\", \"Germany\", \"Ghana\", \"Greece\", \"Greenland\", \"Grenada\", \"Guatemala\", \"Guinea\", \"Guinea-Bissau\", \"Guyana\", \"Haiti\", \"Holy See\", \"Honduras\", \"Hungary\", \"Iceland\", \"India\", \"Indonesia\", \"Iran\", \"Iraq\", \"Ireland\", \"Israel\", \"Italy\", \"Jamaica\", \"Japan\", \"Jordan\", \"Kazakhstan\", \"Kenya\", \"Kosovo\", \"Kuwait\", \"Kyrgyzstan\", \"Laos\", \"Latvia\", \"Lebanon\", \"Liberia\", \"Libya\", \"Liechtenstein\", \"Lithuania\", \"Luxembourg\", \"Madagascar\", \"Malawi\", \"Malaysia\", \"Maldives\", \"Mali\", \"Malta\", \"Mauritania\", \"Mauritius\", \"Mexico\", \"Moldova\", \"Monaco\", \"Mongolia\", \"Montenegro\", \"Morocco\", \"Mozambique\", \"Namibia\", \"Nepal\", \"Netherlands\", \"New Zealand\", \"Nicaragua\", \"Niger\", \"Nigeria\", \"North Macedonia\", \"Norway\", \"Oman\", \"Pakistan\", \"Panama\", \"Papua New Guinea\", \"Paraguay\", \"Peru\", \"Philippines\", \"Poland\", \"Portugal\", \"Qatar\", \"Romania\", \"Russia\", \"Rwanda\", \"Saint Kitts and Nevis\", \"Saint Lucia\", \"Saint Vincent and the Grenadines\", \"San Marino\", \"Sao Tome and Principe\", \"Saudi Arabia\", \"Senegal\", \"Serbia\", \"Seychelles\", \"Sierra Leone\", \"Singapore\", \"Slovakia\", \"Slovenia\", \"Somalia\", \"South Africa\", \"South Korea\", \"South Sudan\", \"Spain\", \"Sri Lanka\", \"Sudan\", \"Suriname\", \"Sweden\", \"Switzerland\", \"Syria\", \"Taiwan*\", \"Tajikistan\", \"Tanzania\", \"Thailand\", \"Timor-Leste\", \"Togo\", \"Trinidad and Tobago\", \"Tunisia\", \"Turkey\", \"US\", \"Uganda\", \"Ukraine\", \"United Arab Emirates\", \"United Kingdom\", \"Uruguay\", \"Uzbekistan\", \"Venezuela\", \"Vietnam\", \"West Bank and Gaza\", \"Western Sahara\", \"Yemen\", \"Zambia\", \"Zimbabwe\"], \"labels\": [\"\", \"\", \"\", \"\", \"\", \"\", \"\", \"\", \"\", \"\", \"\", \"\", \"\", \"\", \"\", \"\", \"\", \"\", \"\", \"\", \"\", \"\", \"\", \"\", \"\", \"\", \"\", \"\", \"\", \"\", \"\", \"\", \"\", \"\", \"\", \"\", \"\", \"\", \"\", \"\", \"\", \"\", \"\", \"\", \"\", \"\", \"\", \"\", \"\", \"\", \"\", \"\", \"\", \"\", \"\", \"\", \"\", \"\", \"\", \"\", \"\", \"\", \"\", \"\", \"\", \"\", \"\", \"\", \"\", \"\", \"\", \"\", \"\", \"\", \"\", \"\", \"\", \"\", \"\", \"\", \"\", \"\", \"\", \"\", \"\", \"\", \"\", \"\", \"\", \"\", \"\", \"\", \"\", \"\", \"\", \"\", \"\", \"\", \"\", \"\", \"\", \"\", \"\", \"\", \"\", \"\", \"\", \"\", \"\", \"\", \"\", \"\", \"\", \"\", \"\", \"\", \"\", \"\", \"\", \"\", \"\", \"\", \"\", \"\", \"\", \"\", \"\", \"\", \"\", \"\", \"\", \"\", \"\", \"\", \"\", \"\", \"\", \"\", \"\", \"\", \"\", \"\", \"\", \"\", \"\", \"\", \"\", \"\", \"\", \"\", \"\", \"\", \"\", \"\", \"\", \"\", \"\", \"\", \"\", \"\", \"\", \"\", \"\", \"\", \"\", \"\", \"\", \"\", \"\", \"\", \"\", \"\", \"\", \"\", \"\", \"\", \"\", \"\", \"\", \"\", \"\", \"\", \"Alberta\", \"Anguilla\", \"Anhui\", \"Aruba\", \"Australian Capital Territory\", \"Beijing\", \"Bermuda\", \"British Columbia\", \"British Virgin Islands\", \"Cayman Islands\", \"Channel Islands\", \"Chongqing\", \"Curacao\", \"Falkland Islands (Malvinas)\", \"Faroe Islands\", \"French Guiana\", \"French Polynesia\", \"Fujian\", \"Gansu\", \"Gibraltar\", \"Greenland\", \"Guadeloupe\", \"Guangdong\", \"Guangxi\", \"Guizhou\", \"Hainan\", \"Hebei\", \"Heilongjiang\", \"Henan\", \"Hong Kong\", \"Hubei\", \"Hunan\", \"Inner Mongolia\", \"Isle of Man\", \"Jiangsu\", \"Jiangxi\", \"Jilin\", \"Liaoning\", \"Macau\", \"Manitoba\", \"Martinique\", \"Mayotte\", \"Montserrat\", \"New Brunswick\", \"New Caledonia\", \"New South Wales\", \"Newfoundland and Labrador\", \"Ningxia\", \"Northern Territory\", \"Northwest Territories\", \"Nova Scotia\", \"Ontario\", \"Prince Edward Island\", \"Qinghai\", \"Quebec\", \"Queensland\", \"Reunion\", \"Saint Barthelemy\", \"Saint Pierre and Miquelon\", \"Saskatchewan\", \"Shaanxi\", \"Shandong\", \"Shanghai\", \"Shanxi\", \"Sichuan\", \"Sint Maarten\", \"South Australia\", \"St Martin\", \"Tasmania\", \"Tianjin\", \"Tibet\", \"Turks and Caicos Islands\", \"Victoria\", \"Western Australia\", \"Xinjiang\", \"Yukon\", \"Yunnan\", \"Zhejiang\", \"Afghanistan\", \"Albania\", \"Algeria\", \"Andorra\", \"Angola\", \"Antigua and Barbuda\", \"Argentina\", \"Armenia\", \"Australia\", \"Austria\", \"Azerbaijan\", \"Bahamas\", \"Bahrain\", \"Bangladesh\", \"Barbados\", \"Belarus\", \"Belgium\", \"Belize\", \"Benin\", \"Bhutan\", \"Bolivia\", \"Bosnia and Herzegovina\", \"Botswana\", \"Brazil\", \"Brunei\", \"Bulgaria\", \"Burkina Faso\", \"Burma\", \"Burundi\", \"Cabo Verde\", \"Cambodia\", \"Cameroon\", \"Canada\", \"Central African Republic\", \"Chad\", \"Chile\", \"China\", \"Colombia\", \"Comoros\", \"Congo (Brazzaville)\", \"Congo (Kinshasa)\", \"Costa Rica\", \"Cote d'Ivoire\", \"Croatia\", \"Cuba\", \"Cyprus\", \"Czechia\", \"Denmark\", \"Djibouti\", \"Dominica\", \"Dominican Republic\", \"Ecuador\", \"Egypt\", \"El Salvador\", \"Equatorial Guinea\", \"Eritrea\", \"Estonia\", \"Eswatini\", \"Ethiopia\", \"Fiji\", \"Finland\", \"France\", \"Gabon\", \"Gambia\", \"Georgia\", \"Germany\", \"Ghana\", \"Greece\", \"Greenland\", \"Grenada\", \"Guatemala\", \"Guinea\", \"Guinea-Bissau\", \"Guyana\", \"Haiti\", \"Holy See\", \"Honduras\", \"Hungary\", \"Iceland\", \"India\", \"Indonesia\", \"Iran\", \"Iraq\", \"Ireland\", \"Israel\", \"Italy\", \"Jamaica\", \"Japan\", \"Jordan\", \"Kazakhstan\", \"Kenya\", \"Kosovo\", \"Kuwait\", \"Kyrgyzstan\", \"Laos\", \"Latvia\", \"Lebanon\", \"Liberia\", \"Libya\", \"Liechtenstein\", \"Lithuania\", \"Luxembourg\", \"Madagascar\", \"Malawi\", \"Malaysia\", \"Maldives\", \"Mali\", \"Malta\", \"Mauritania\", \"Mauritius\", \"Mexico\", \"Moldova\", \"Monaco\", \"Mongolia\", \"Montenegro\", \"Morocco\", \"Mozambique\", \"Namibia\", \"Nepal\", \"Netherlands\", \"New Zealand\", \"Nicaragua\", \"Niger\", \"Nigeria\", \"North Macedonia\", \"Norway\", \"Oman\", \"Pakistan\", \"Panama\", \"Papua New Guinea\", \"Paraguay\", \"Peru\", \"Philippines\", \"Poland\", \"Portugal\", \"Qatar\", \"Romania\", \"Russia\", \"Rwanda\", \"Saint Kitts and Nevis\", \"Saint Lucia\", \"Saint Vincent and the Grenadines\", \"San Marino\", \"Sao Tome and Principe\", \"Saudi Arabia\", \"Senegal\", \"Serbia\", \"Seychelles\", \"Sierra Leone\", \"Singapore\", \"Slovakia\", \"Slovenia\", \"Somalia\", \"South Africa\", \"South Korea\", \"South Sudan\", \"Spain\", \"Sri Lanka\", \"Sudan\", \"Suriname\", \"Sweden\", \"Switzerland\", \"Syria\", \"Taiwan*\", \"Tajikistan\", \"Tanzania\", \"Thailand\", \"Timor-Leste\", \"Togo\", \"Trinidad and Tobago\", \"Tunisia\", \"Turkey\", \"US\", \"Uganda\", \"Ukraine\", \"United Arab Emirates\", \"United Kingdom\", \"Uruguay\", \"Uzbekistan\", \"Venezuela\", \"Vietnam\", \"West Bank and Gaza\", \"Western Sahara\", \"Yemen\", \"Zambia\", \"Zimbabwe\"], \"name\": \"\", \"parents\": [\"Afghanistan\", \"Albania\", \"Algeria\", \"Andorra\", \"Angola\", \"Antigua and Barbuda\", \"Argentina\", \"Armenia\", \"Austria\", \"Azerbaijan\", \"Bahamas\", \"Bahrain\", \"Bangladesh\", \"Barbados\", \"Belarus\", \"Belgium\", \"Belize\", \"Benin\", \"Bhutan\", \"Bolivia\", \"Bosnia and Herzegovina\", \"Botswana\", \"Brazil\", \"Brunei\", \"Bulgaria\", \"Burkina Faso\", \"Burma\", \"Burundi\", \"Cabo Verde\", \"Cambodia\", \"Cameroon\", \"Central African Republic\", \"Chad\", \"Chile\", \"Colombia\", \"Comoros\", \"Congo (Brazzaville)\", \"Congo (Kinshasa)\", \"Costa Rica\", \"Cote d'Ivoire\", \"Croatia\", \"Cuba\", \"Cyprus\", \"Czechia\", \"Denmark\", \"Djibouti\", \"Dominica\", \"Dominican Republic\", \"Ecuador\", \"Egypt\", \"El Salvador\", \"Equatorial Guinea\", \"Eritrea\", \"Estonia\", \"Eswatini\", \"Ethiopia\", \"Fiji\", \"Finland\", \"France\", \"Gabon\", \"Gambia\", \"Georgia\", \"Germany\", \"Ghana\", \"Greece\", \"Grenada\", \"Guatemala\", \"Guinea\", \"Guinea-Bissau\", \"Guyana\", \"Haiti\", \"Holy See\", \"Honduras\", \"Hungary\", \"Iceland\", \"India\", \"Indonesia\", \"Iran\", \"Iraq\", \"Ireland\", \"Israel\", \"Italy\", \"Jamaica\", \"Japan\", \"Jordan\", \"Kazakhstan\", \"Kenya\", \"Kosovo\", \"Kuwait\", \"Kyrgyzstan\", \"Laos\", \"Latvia\", \"Lebanon\", \"Liberia\", \"Libya\", \"Liechtenstein\", \"Lithuania\", \"Luxembourg\", \"Madagascar\", \"Malawi\", \"Malaysia\", \"Maldives\", \"Mali\", \"Malta\", \"Mauritania\", \"Mauritius\", \"Mexico\", \"Moldova\", \"Monaco\", \"Mongolia\", \"Montenegro\", \"Morocco\", \"Mozambique\", \"Namibia\", \"Nepal\", \"Netherlands\", \"New Zealand\", \"Nicaragua\", \"Niger\", \"Nigeria\", \"North Macedonia\", \"Norway\", \"Oman\", \"Pakistan\", \"Panama\", \"Papua New Guinea\", \"Paraguay\", \"Peru\", \"Philippines\", \"Poland\", \"Portugal\", \"Qatar\", \"Romania\", \"Russia\", \"Rwanda\", \"Saint Kitts and Nevis\", \"Saint Lucia\", \"Saint Vincent and the Grenadines\", \"San Marino\", \"Sao Tome and Principe\", \"Saudi Arabia\", \"Senegal\", \"Serbia\", \"Seychelles\", \"Sierra Leone\", \"Singapore\", \"Slovakia\", \"Slovenia\", \"Somalia\", \"South Africa\", \"South Korea\", \"South Sudan\", \"Spain\", \"Sri Lanka\", \"Sudan\", \"Suriname\", \"Sweden\", \"Switzerland\", \"Syria\", \"Taiwan*\", \"Tajikistan\", \"Tanzania\", \"Thailand\", \"Timor-Leste\", \"Togo\", \"Trinidad and Tobago\", \"Tunisia\", \"Turkey\", \"US\", \"Uganda\", \"Ukraine\", \"United Arab Emirates\", \"United Kingdom\", \"Uruguay\", \"Uzbekistan\", \"Venezuela\", \"Vietnam\", \"West Bank and Gaza\", \"Western Sahara\", \"Yemen\", \"Zambia\", \"Zimbabwe\", \"Canada\", \"United Kingdom\", \"China\", \"Netherlands\", \"Australia\", \"China\", \"United Kingdom\", \"Canada\", \"United Kingdom\", \"United Kingdom\", \"United Kingdom\", \"China\", \"Netherlands\", \"United Kingdom\", \"Denmark\", \"France\", \"France\", \"China\", \"China\", \"United Kingdom\", \"Greenland\", \"France\", \"China\", \"China\", \"China\", \"China\", \"China\", \"China\", \"China\", \"China\", \"China\", \"China\", \"China\", \"United Kingdom\", \"China\", \"China\", \"China\", \"China\", \"China\", \"Canada\", \"France\", \"France\", \"United Kingdom\", \"Canada\", \"France\", \"Australia\", \"Canada\", \"China\", \"Australia\", \"Canada\", \"Canada\", \"Canada\", \"Canada\", \"China\", \"Canada\", \"Australia\", \"France\", \"France\", \"France\", \"Canada\", \"China\", \"China\", \"China\", \"China\", \"China\", \"Netherlands\", \"Australia\", \"France\", \"Australia\", \"China\", \"China\", \"United Kingdom\", \"Australia\", \"Australia\", \"China\", \"Canada\", \"China\", \"China\", \"\", \"\", \"\", \"\", \"\", \"\", \"\", \"\", \"\", \"\", \"\", \"\", \"\", \"\", \"\", \"\", \"\", \"\", \"\", \"\", \"\", \"\", \"\", \"\", \"\", \"\", \"\", \"\", \"\", \"\", \"\", \"\", \"\", \"\", \"\", \"\", \"\", \"\", \"\", \"\", \"\", \"\", \"\", \"\", \"\", \"\", \"\", \"\", \"\", \"\", \"\", \"\", \"\", \"\", \"\", \"\", \"\", \"\", \"\", \"\", \"\", \"\", \"\", \"\", \"\", \"\", \"\", \"\", \"\", \"\", \"\", \"\", \"\", \"\", \"\", \"\", \"\", \"\", \"\", \"\", \"\", \"\", \"\", \"\", \"\", \"\", \"\", \"\", \"\", \"\", \"\", \"\", \"\", \"\", \"\", \"\", \"\", \"\", \"\", \"\", \"\", \"\", \"\", \"\", \"\", \"\", \"\", \"\", \"\", \"\", \"\", \"\", \"\", \"\", \"\", \"\", \"\", \"\", \"\", \"\", \"\", \"\", \"\", \"\", \"\", \"\", \"\", \"\", \"\", \"\", \"\", \"\", \"\", \"\", \"\", \"\", \"\", \"\", \"\", \"\", \"\", \"\", \"\", \"\", \"\", \"\", \"\", \"\", \"\", \"\", \"\", \"\", \"\", \"\", \"\", \"\", \"\", \"\", \"\", \"\", \"\", \"\", \"\", \"\", \"\", \"\", \"\", \"\", \"\", \"\", \"\", \"\", \"\", \"\", \"\", \"\", \"\", \"\", \"\", \"\", \"\", \"\", \"\", \"\", \"\", \"\"], \"textinfo\": \"label+text+value\", \"type\": \"treemap\", \"values\": [115, 31, 494, 48, 2, 3, 300, 44, 615, 31, 11, 8, 214, 7, 126, 8581, 2, 2, 0, 114, 102, 1, 10656, 1, 90, 48, 6, 1, 2, 0, 108, 0, 31, 304, 445, 1, 10, 39, 6, 21, 87, 74, 15, 276, 526, 3, 0, 385, 1717, 514, 17, 4, 0, 60, 2, 5, 0, 265, 26271, 8, 1, 10, 7549, 22, 151, 0, 24, 11, 3, 10, 12, 0, 108, 405, 10, 2101, 959, 6589, 107, 1446, 247, 30395, 9, 607, 9, 31, 30, 28, 49, 12, 0, 18, 26, 20, 3, 1, 49, 101, 0, 3, 108, 3, 37, 5, 1, 10, 3353, 161, 4, 0, 8, 186, 0, 0, 0, 5422, 21, 5, 45, 128, 91, 219, 17, 636, 237, 0, 10, 1814, 704, 785, 1126, 13, 939, 1827, 0, 0, 0, 0, 41, 5, 239, 17, 215, 0, 18, 20, 26, 101, 48, 186, 256, 0, 26478, 9, 64, 1, 3220, 1830, 3, 6, 20, 21, 56, 0, 10, 8, 45, 3739, 78795, 0, 376, 185, 31587, 18, 10, 10, 0, 2, 0, 7, 7, 4, 116, 0, 6, 3, 3, 9, 7, 129, 1, 1, 41, 6, 1, 0, 0, 1, 0, 1, 2, 0, 0, 13, 8, 2, 2, 6, 6, 13, 22, 4, 4512, 4, 1, 23, 0, 1, 1, 2, 0, 7, 14, 11, 1, 0, 0, 44, 3, 0, 0, 0, 47, 1726, 0, 0, 2787, 6, 0, 0, 0, 7, 3, 7, 7, 0, 3, 15, 4, 3, 13, 3, 0, 1, 18, 9, 3, 0, 2, 1, 115, 31, 494, 48, 2, 3, 300, 44, 97, 615, 31, 11, 8, 214, 7, 126, 8581, 2, 2, 0, 114, 102, 1, 10656, 1, 90, 48, 6, 1, 2, 0, 108, 4822, 0, 31, 304, 4637, 445, 1, 10, 39, 6, 21, 87, 74, 15, 276, 526, 3, 0, 385, 1717, 514, 17, 4, 0, 60, 2, 5, 0, 265, 26313, 8, 1, 10, 7549, 22, 151, 0, 0, 24, 11, 3, 10, 12, 0, 108, 405, 10, 2101, 959, 6589, 107, 1446, 247, 30395, 9, 607, 9, 31, 30, 28, 49, 12, 0, 18, 26, 20, 3, 1, 49, 101, 0, 3, 108, 3, 37, 5, 1, 10, 3353, 161, 4, 0, 8, 186, 0, 0, 0, 5441, 21, 5, 45, 128, 91, 219, 17, 636, 237, 0, 10, 1814, 704, 785, 1126, 13, 939, 1827, 0, 0, 0, 0, 41, 5, 239, 17, 215, 0, 18, 20, 26, 101, 48, 186, 256, 0, 26478, 9, 64, 1, 3220, 1830, 3, 6, 20, 21, 56, 0, 10, 8, 45, 3739, 78795, 0, 376, 185, 31662, 18, 10, 10, 0, 2, 0, 7, 7, 4]}],\n",
       "                        {\"height\": 700, \"legend\": {\"tracegroupgap\": 0}, \"template\": {\"data\": {\"bar\": [{\"error_x\": {\"color\": \"#2a3f5f\"}, \"error_y\": {\"color\": \"#2a3f5f\"}, \"marker\": {\"line\": {\"color\": \"#E5ECF6\", \"width\": 0.5}}, \"type\": \"bar\"}], \"barpolar\": [{\"marker\": {\"line\": {\"color\": \"#E5ECF6\", \"width\": 0.5}}, \"type\": \"barpolar\"}], \"carpet\": [{\"aaxis\": {\"endlinecolor\": \"#2a3f5f\", \"gridcolor\": \"white\", \"linecolor\": \"white\", \"minorgridcolor\": \"white\", \"startlinecolor\": \"#2a3f5f\"}, \"baxis\": {\"endlinecolor\": \"#2a3f5f\", \"gridcolor\": \"white\", \"linecolor\": \"white\", \"minorgridcolor\": \"white\", \"startlinecolor\": \"#2a3f5f\"}, \"type\": \"carpet\"}], \"choropleth\": [{\"colorbar\": {\"outlinewidth\": 0, \"ticks\": \"\"}, \"type\": \"choropleth\"}], \"contour\": [{\"colorbar\": {\"outlinewidth\": 0, \"ticks\": \"\"}, \"colorscale\": [[0.0, \"#0d0887\"], [0.1111111111111111, \"#46039f\"], [0.2222222222222222, \"#7201a8\"], [0.3333333333333333, \"#9c179e\"], [0.4444444444444444, \"#bd3786\"], [0.5555555555555556, \"#d8576b\"], [0.6666666666666666, \"#ed7953\"], [0.7777777777777778, \"#fb9f3a\"], [0.8888888888888888, \"#fdca26\"], [1.0, \"#f0f921\"]], \"type\": \"contour\"}], \"contourcarpet\": [{\"colorbar\": {\"outlinewidth\": 0, \"ticks\": \"\"}, \"type\": \"contourcarpet\"}], \"heatmap\": [{\"colorbar\": {\"outlinewidth\": 0, \"ticks\": \"\"}, \"colorscale\": [[0.0, \"#0d0887\"], [0.1111111111111111, \"#46039f\"], [0.2222222222222222, \"#7201a8\"], [0.3333333333333333, \"#9c179e\"], [0.4444444444444444, \"#bd3786\"], [0.5555555555555556, \"#d8576b\"], [0.6666666666666666, \"#ed7953\"], [0.7777777777777778, \"#fb9f3a\"], [0.8888888888888888, \"#fdca26\"], [1.0, \"#f0f921\"]], \"type\": \"heatmap\"}], \"heatmapgl\": [{\"colorbar\": {\"outlinewidth\": 0, \"ticks\": \"\"}, \"colorscale\": [[0.0, \"#0d0887\"], [0.1111111111111111, \"#46039f\"], [0.2222222222222222, \"#7201a8\"], [0.3333333333333333, \"#9c179e\"], [0.4444444444444444, \"#bd3786\"], [0.5555555555555556, \"#d8576b\"], [0.6666666666666666, \"#ed7953\"], [0.7777777777777778, \"#fb9f3a\"], [0.8888888888888888, \"#fdca26\"], [1.0, \"#f0f921\"]], \"type\": \"heatmapgl\"}], \"histogram\": [{\"marker\": {\"colorbar\": {\"outlinewidth\": 0, \"ticks\": \"\"}}, \"type\": \"histogram\"}], \"histogram2d\": [{\"colorbar\": {\"outlinewidth\": 0, \"ticks\": \"\"}, \"colorscale\": [[0.0, \"#0d0887\"], [0.1111111111111111, \"#46039f\"], [0.2222222222222222, \"#7201a8\"], [0.3333333333333333, \"#9c179e\"], [0.4444444444444444, \"#bd3786\"], [0.5555555555555556, \"#d8576b\"], [0.6666666666666666, \"#ed7953\"], [0.7777777777777778, \"#fb9f3a\"], [0.8888888888888888, \"#fdca26\"], [1.0, \"#f0f921\"]], \"type\": \"histogram2d\"}], \"histogram2dcontour\": [{\"colorbar\": {\"outlinewidth\": 0, \"ticks\": \"\"}, \"colorscale\": [[0.0, \"#0d0887\"], [0.1111111111111111, \"#46039f\"], [0.2222222222222222, \"#7201a8\"], [0.3333333333333333, \"#9c179e\"], [0.4444444444444444, \"#bd3786\"], [0.5555555555555556, \"#d8576b\"], [0.6666666666666666, \"#ed7953\"], [0.7777777777777778, \"#fb9f3a\"], [0.8888888888888888, \"#fdca26\"], [1.0, \"#f0f921\"]], \"type\": \"histogram2dcontour\"}], \"mesh3d\": [{\"colorbar\": {\"outlinewidth\": 0, \"ticks\": \"\"}, \"type\": \"mesh3d\"}], \"parcoords\": [{\"line\": {\"colorbar\": {\"outlinewidth\": 0, \"ticks\": \"\"}}, \"type\": \"parcoords\"}], \"pie\": [{\"automargin\": true, \"type\": \"pie\"}], \"scatter\": [{\"marker\": {\"colorbar\": {\"outlinewidth\": 0, \"ticks\": \"\"}}, \"type\": \"scatter\"}], \"scatter3d\": [{\"line\": {\"colorbar\": {\"outlinewidth\": 0, \"ticks\": \"\"}}, \"marker\": {\"colorbar\": {\"outlinewidth\": 0, \"ticks\": \"\"}}, \"type\": \"scatter3d\"}], \"scattercarpet\": [{\"marker\": {\"colorbar\": {\"outlinewidth\": 0, \"ticks\": \"\"}}, \"type\": \"scattercarpet\"}], \"scattergeo\": [{\"marker\": {\"colorbar\": {\"outlinewidth\": 0, \"ticks\": \"\"}}, \"type\": \"scattergeo\"}], \"scattergl\": [{\"marker\": {\"colorbar\": {\"outlinewidth\": 0, \"ticks\": \"\"}}, \"type\": \"scattergl\"}], \"scattermapbox\": [{\"marker\": {\"colorbar\": {\"outlinewidth\": 0, \"ticks\": \"\"}}, \"type\": \"scattermapbox\"}], \"scatterpolar\": [{\"marker\": {\"colorbar\": {\"outlinewidth\": 0, \"ticks\": \"\"}}, \"type\": \"scatterpolar\"}], \"scatterpolargl\": [{\"marker\": {\"colorbar\": {\"outlinewidth\": 0, \"ticks\": \"\"}}, \"type\": \"scatterpolargl\"}], \"scatterternary\": [{\"marker\": {\"colorbar\": {\"outlinewidth\": 0, \"ticks\": \"\"}}, \"type\": \"scatterternary\"}], \"surface\": [{\"colorbar\": {\"outlinewidth\": 0, \"ticks\": \"\"}, \"colorscale\": [[0.0, \"#0d0887\"], [0.1111111111111111, \"#46039f\"], [0.2222222222222222, \"#7201a8\"], [0.3333333333333333, \"#9c179e\"], [0.4444444444444444, \"#bd3786\"], [0.5555555555555556, \"#d8576b\"], [0.6666666666666666, \"#ed7953\"], [0.7777777777777778, \"#fb9f3a\"], [0.8888888888888888, \"#fdca26\"], [1.0, \"#f0f921\"]], \"type\": \"surface\"}], \"table\": [{\"cells\": {\"fill\": {\"color\": \"#EBF0F8\"}, \"line\": {\"color\": \"white\"}}, \"header\": {\"fill\": {\"color\": \"#C8D4E3\"}, \"line\": {\"color\": \"white\"}}, \"type\": \"table\"}]}, \"layout\": {\"annotationdefaults\": {\"arrowcolor\": \"#2a3f5f\", \"arrowhead\": 0, \"arrowwidth\": 1}, \"coloraxis\": {\"colorbar\": {\"outlinewidth\": 0, \"ticks\": \"\"}}, \"colorscale\": {\"diverging\": [[0, \"#8e0152\"], [0.1, \"#c51b7d\"], [0.2, \"#de77ae\"], [0.3, \"#f1b6da\"], [0.4, \"#fde0ef\"], [0.5, \"#f7f7f7\"], [0.6, \"#e6f5d0\"], [0.7, \"#b8e186\"], [0.8, \"#7fbc41\"], [0.9, \"#4d9221\"], [1, \"#276419\"]], \"sequential\": [[0.0, \"#0d0887\"], [0.1111111111111111, \"#46039f\"], [0.2222222222222222, \"#7201a8\"], [0.3333333333333333, \"#9c179e\"], [0.4444444444444444, \"#bd3786\"], [0.5555555555555556, \"#d8576b\"], [0.6666666666666666, \"#ed7953\"], [0.7777777777777778, \"#fb9f3a\"], [0.8888888888888888, \"#fdca26\"], [1.0, \"#f0f921\"]], \"sequentialminus\": [[0.0, \"#0d0887\"], [0.1111111111111111, \"#46039f\"], [0.2222222222222222, \"#7201a8\"], [0.3333333333333333, \"#9c179e\"], [0.4444444444444444, \"#bd3786\"], [0.5555555555555556, \"#d8576b\"], [0.6666666666666666, \"#ed7953\"], [0.7777777777777778, \"#fb9f3a\"], [0.8888888888888888, \"#fdca26\"], [1.0, \"#f0f921\"]]}, \"colorway\": [\"#636efa\", \"#EF553B\", \"#00cc96\", \"#ab63fa\", \"#FFA15A\", \"#19d3f3\", \"#FF6692\", \"#B6E880\", \"#FF97FF\", \"#FECB52\"], \"font\": {\"color\": \"#2a3f5f\"}, \"geo\": {\"bgcolor\": \"white\", \"lakecolor\": \"white\", \"landcolor\": \"#E5ECF6\", \"showlakes\": true, \"showland\": true, \"subunitcolor\": \"white\"}, \"hoverlabel\": {\"align\": \"left\"}, \"hovermode\": \"closest\", \"mapbox\": {\"style\": \"light\"}, \"paper_bgcolor\": \"white\", \"plot_bgcolor\": \"#E5ECF6\", \"polar\": {\"angularaxis\": {\"gridcolor\": \"white\", \"linecolor\": \"white\", \"ticks\": \"\"}, \"bgcolor\": \"#E5ECF6\", \"radialaxis\": {\"gridcolor\": \"white\", \"linecolor\": \"white\", \"ticks\": \"\"}}, \"scene\": {\"xaxis\": {\"backgroundcolor\": \"#E5ECF6\", \"gridcolor\": \"white\", \"gridwidth\": 2, \"linecolor\": \"white\", \"showbackground\": true, \"ticks\": \"\", \"zerolinecolor\": \"white\"}, \"yaxis\": {\"backgroundcolor\": \"#E5ECF6\", \"gridcolor\": \"white\", \"gridwidth\": 2, \"linecolor\": \"white\", \"showbackground\": true, \"ticks\": \"\", \"zerolinecolor\": \"white\"}, \"zaxis\": {\"backgroundcolor\": \"#E5ECF6\", \"gridcolor\": \"white\", \"gridwidth\": 2, \"linecolor\": \"white\", \"showbackground\": true, \"ticks\": \"\", \"zerolinecolor\": \"white\"}}, \"shapedefaults\": {\"line\": {\"color\": \"#2a3f5f\"}}, \"ternary\": {\"aaxis\": {\"gridcolor\": \"white\", \"linecolor\": \"white\", \"ticks\": \"\"}, \"baxis\": {\"gridcolor\": \"white\", \"linecolor\": \"white\", \"ticks\": \"\"}, \"bgcolor\": \"#E5ECF6\", \"caxis\": {\"gridcolor\": \"white\", \"linecolor\": \"white\", \"ticks\": \"\"}}, \"title\": {\"x\": 0.05}, \"xaxis\": {\"automargin\": true, \"gridcolor\": \"white\", \"linecolor\": \"white\", \"ticks\": \"\", \"title\": {\"standoff\": 15}, \"zerolinecolor\": \"white\", \"zerolinewidth\": 2}, \"yaxis\": {\"automargin\": true, \"gridcolor\": \"white\", \"linecolor\": \"white\", \"ticks\": \"\", \"title\": {\"standoff\": 15}, \"zerolinecolor\": \"white\", \"zerolinewidth\": 2}}}, \"title\": {\"text\": \"Number of Deaths reported\"}, \"treemapcolorway\": [\"rgb(27,158,119)\", \"rgb(217,95,2)\", \"rgb(117,112,179)\", \"rgb(231,41,138)\", \"rgb(102,166,30)\", \"rgb(230,171,2)\", \"rgb(166,118,29)\", \"rgb(102,102,102)\"]},\n",
       "                        {\"responsive\": true}\n",
       "                    ).then(function(){\n",
       "                            \n",
       "var gd = document.getElementById('bea371dc-b6c0-49a3-963a-263a6d64a80a');\n",
       "var x = new MutationObserver(function (mutations, observer) {{\n",
       "        var display = window.getComputedStyle(gd).display;\n",
       "        if (!display || display === 'none') {{\n",
       "            console.log([gd, 'removed!']);\n",
       "            Plotly.purge(gd);\n",
       "            observer.disconnect();\n",
       "        }}\n",
       "}});\n",
       "\n",
       "// Listen for the removal of the full notebook cells\n",
       "var notebookContainer = gd.closest('#notebook-container');\n",
       "if (notebookContainer) {{\n",
       "    x.observe(notebookContainer, {childList: true});\n",
       "}}\n",
       "\n",
       "// Listen for the clearing of the current output cell\n",
       "var outputEl = gd.closest('.output');\n",
       "if (outputEl) {{\n",
       "    x.observe(outputEl, {childList: true});\n",
       "}}\n",
       "\n",
       "                        })\n",
       "                };\n",
       "                });\n",
       "            </script>\n",
       "        </div>"
      ]
     },
     "metadata": {},
     "output_type": "display_data"
    }
   ],
   "source": [
    "full_latest = full_table[full_table['Date'] == max(full_table['Date'])]\n",
    "                         \n",
    "fig = px.treemap(full_latest.sort_values(by='Confirmed', ascending=False).reset_index(drop=True), \n",
    "                 path=[\"Country/Region\", \"Province/State\"], values=\"Confirmed\", height=700,\n",
    "                 title='Number of Confirmed Cases',\n",
    "                 color_discrete_sequence = px.colors.qualitative.Dark2)\n",
    "fig.data[0].textinfo = 'label+text+value'\n",
    "fig.show()\n",
    "\n",
    "fig = px.treemap(full_latest.sort_values(by='Deaths', ascending=False).reset_index(drop=True), \n",
    "                 path=[\"Country/Region\", \"Province/State\"], values=\"Deaths\", height=700,\n",
    "                 title='Number of Deaths reported',\n",
    "                 color_discrete_sequence = px.colors.qualitative.Dark2)\n",
    "fig.data[0].textinfo = 'label+text+value'\n",
    "fig.show()"
   ]
  },
  {
   "cell_type": "code",
   "execution_count": 14,
   "metadata": {
    "scrolled": false
   },
   "outputs": [
    {
     "data": {
      "application/vnd.plotly.v1+json": {
       "config": {
        "plotlyServerURL": "https://plot.ly"
       },
       "data": [
        {
         "fill": "toself",
         "fillcolor": "rgb(0, 74, 66)",
         "hoverinfo": "name",
         "legendgroup": "rgb(0, 74, 66)",
         "mode": "none",
         "name": "Somalia",
         "showlegend": false,
         "type": "scatter",
         "x": [
          "2020-03-16T00:00:00",
          "2020-05-10T00:00:00",
          "2020-05-10T00:00:00",
          "2020-03-16T00:00:00"
         ],
         "y": [
          57.8,
          57.8,
          58.2,
          58.2
         ]
        },
        {
         "fill": "toself",
         "fillcolor": "rgb(1, 170, 33)",
         "hoverinfo": "name",
         "legendgroup": "rgb(1, 170, 33)",
         "mode": "none",
         "name": "Pakistan",
         "showlegend": false,
         "type": "scatter",
         "x": [
          "2020-02-26T00:00:00",
          "2020-05-10T00:00:00",
          "2020-05-10T00:00:00",
          "2020-02-26T00:00:00"
         ],
         "y": [
          141.8,
          141.8,
          142.2,
          142.2
         ]
        },
        {
         "fill": "toself",
         "fillcolor": "rgb(1, 66, 33)",
         "hoverinfo": "name",
         "legendgroup": "rgb(1, 66, 33)",
         "mode": "none",
         "name": "Bahrain",
         "showlegend": false,
         "type": "scatter",
         "x": [
          "2020-02-24T00:00:00",
          "2020-05-10T00:00:00",
          "2020-05-10T00:00:00",
          "2020-02-24T00:00:00"
         ],
         "y": [
          152.8,
          152.8,
          153.2,
          153.2
         ]
        },
        {
         "fill": "toself",
         "fillcolor": "rgb(100, 137, 21)",
         "hoverinfo": "name",
         "legendgroup": "rgb(100, 137, 21)",
         "mode": "none",
         "name": "Afghanistan",
         "showlegend": false,
         "type": "scatter",
         "x": [
          "2020-02-24T00:00:00",
          "2020-05-10T00:00:00",
          "2020-05-10T00:00:00",
          "2020-02-24T00:00:00"
         ],
         "y": [
          150.8,
          150.8,
          151.2,
          151.2
         ]
        },
        {
         "fill": "toself",
         "fillcolor": "rgb(102, 139, 60)",
         "hoverinfo": "name",
         "legendgroup": "rgb(102, 139, 60)",
         "mode": "none",
         "name": "Chad",
         "showlegend": false,
         "type": "scatter",
         "x": [
          "2020-03-19T00:00:00",
          "2020-05-10T00:00:00",
          "2020-05-10T00:00:00",
          "2020-03-19T00:00:00"
         ],
         "y": [
          45.8,
          45.8,
          46.2,
          46.2
         ]
        },
        {
         "fill": "toself",
         "fillcolor": "rgb(102, 151, 128)",
         "hoverinfo": "name",
         "legendgroup": "rgb(102, 151, 128)",
         "mode": "none",
         "name": "Sao Tome and Principe",
         "showlegend": false,
         "type": "scatter",
         "x": [
          "2020-04-06T00:00:00",
          "2020-05-09T00:00:00",
          "2020-05-09T00:00:00",
          "2020-04-06T00:00:00"
         ],
         "y": [
          15.8,
          15.8,
          16.2,
          16.2
         ]
        },
        {
         "fill": "toself",
         "fillcolor": "rgb(103, 100, 84)",
         "hoverinfo": "name",
         "legendgroup": "rgb(103, 100, 84)",
         "mode": "none",
         "name": "Burma",
         "showlegend": false,
         "type": "scatter",
         "x": [
          "2020-03-27T00:00:00",
          "2020-05-10T00:00:00",
          "2020-05-10T00:00:00",
          "2020-03-27T00:00:00"
         ],
         "y": [
          24.8,
          24.8,
          25.2,
          25.2
         ]
        },
        {
         "fill": "toself",
         "fillcolor": "rgb(103, 5, 6)",
         "hoverinfo": "name",
         "legendgroup": "rgb(103, 5, 6)",
         "mode": "none",
         "name": "Senegal",
         "showlegend": false,
         "type": "scatter",
         "x": [
          "2020-03-02T00:00:00",
          "2020-05-10T00:00:00",
          "2020-05-10T00:00:00",
          "2020-03-02T00:00:00"
         ],
         "y": [
          116.8,
          116.8,
          117.2,
          117.2
         ]
        },
        {
         "fill": "toself",
         "fillcolor": "rgb(103, 83, 163)",
         "hoverinfo": "name",
         "legendgroup": "rgb(103, 83, 163)",
         "mode": "none",
         "name": "Morocco",
         "showlegend": false,
         "type": "scatter",
         "x": [
          "2020-03-02T00:00:00",
          "2020-05-10T00:00:00",
          "2020-05-10T00:00:00",
          "2020-03-02T00:00:00"
         ],
         "y": [
          119.8,
          119.8,
          120.2,
          120.2
         ]
        },
        {
         "fill": "toself",
         "fillcolor": "rgb(104, 73, 90)",
         "hoverinfo": "name",
         "legendgroup": "rgb(104, 73, 90)",
         "mode": "none",
         "name": "South Africa",
         "showlegend": false,
         "type": "scatter",
         "x": [
          "2020-03-05T00:00:00",
          "2020-05-10T00:00:00",
          "2020-05-10T00:00:00",
          "2020-03-05T00:00:00"
         ],
         "y": [
          103.8,
          103.8,
          104.2,
          104.2
         ]
        },
        {
         "fill": "toself",
         "fillcolor": "rgb(106, 70, 160)",
         "hoverinfo": "name",
         "legendgroup": "rgb(106, 70, 160)",
         "mode": "none",
         "name": "Namibia",
         "showlegend": false,
         "type": "scatter",
         "x": [
          "2020-03-14T00:00:00",
          "2020-04-06T00:00:00",
          "2020-04-06T00:00:00",
          "2020-03-14T00:00:00"
         ],
         "y": [
          7.8,
          7.8,
          8.2,
          8.2
         ]
        },
        {
         "fill": "toself",
         "fillcolor": "rgb(106, 84, 73)",
         "hoverinfo": "name",
         "legendgroup": "rgb(106, 84, 73)",
         "mode": "none",
         "name": "Iceland",
         "showlegend": false,
         "type": "scatter",
         "x": [
          "2020-02-28T00:00:00",
          "2020-05-08T00:00:00",
          "2020-05-08T00:00:00",
          "2020-02-28T00:00:00"
         ],
         "y": [
          121.8,
          121.8,
          122.2,
          122.2
         ]
        },
        {
         "fill": "toself",
         "fillcolor": "rgb(107, 160, 147)",
         "hoverinfo": "name",
         "legendgroup": "rgb(107, 160, 147)",
         "mode": "none",
         "name": "Gambia",
         "showlegend": false,
         "type": "scatter",
         "x": [
          "2020-03-17T00:00:00",
          "2020-05-09T00:00:00",
          "2020-05-09T00:00:00",
          "2020-03-17T00:00:00"
         ],
         "y": [
          51.8,
          51.8,
          52.2,
          52.2
         ]
        },
        {
         "fill": "toself",
         "fillcolor": "rgb(108, 182, 153)",
         "hoverinfo": "name",
         "legendgroup": "rgb(108, 182, 153)",
         "mode": "none",
         "name": "Syria",
         "showlegend": false,
         "type": "scatter",
         "x": [
          "2020-03-22T00:00:00",
          "2020-05-09T00:00:00",
          "2020-05-09T00:00:00",
          "2020-03-22T00:00:00"
         ],
         "y": [
          31.8,
          31.8,
          32.2,
          32.2
         ]
        },
        {
         "fill": "toself",
         "fillcolor": "rgb(11, 91, 87)",
         "hoverinfo": "name",
         "legendgroup": "rgb(11, 91, 87)",
         "mode": "none",
         "name": "Malta",
         "showlegend": false,
         "type": "scatter",
         "x": [
          "2020-03-07T00:00:00",
          "2020-05-10T00:00:00",
          "2020-05-10T00:00:00",
          "2020-03-07T00:00:00"
         ],
         "y": [
          94.8,
          94.8,
          95.2,
          95.2
         ]
        },
        {
         "fill": "toself",
         "fillcolor": "rgb(112, 38, 74)",
         "hoverinfo": "name",
         "legendgroup": "rgb(112, 38, 74)",
         "mode": "none",
         "name": "Djibouti",
         "showlegend": false,
         "type": "scatter",
         "x": [
          "2020-03-18T00:00:00",
          "2020-05-10T00:00:00",
          "2020-05-10T00:00:00",
          "2020-03-18T00:00:00"
         ],
         "y": [
          49.8,
          49.8,
          50.2,
          50.2
         ]
        },
        {
         "fill": "toself",
         "fillcolor": "rgb(113, 114, 5)",
         "hoverinfo": "name",
         "legendgroup": "rgb(113, 114, 5)",
         "mode": "none",
         "name": "Niger",
         "showlegend": false,
         "type": "scatter",
         "x": [
          "2020-03-20T00:00:00",
          "2020-05-10T00:00:00",
          "2020-05-10T00:00:00",
          "2020-03-20T00:00:00"
         ],
         "y": [
          43.8,
          43.8,
          44.2,
          44.2
         ]
        },
        {
         "fill": "toself",
         "fillcolor": "rgb(116, 136, 87)",
         "hoverinfo": "name",
         "legendgroup": "rgb(116, 136, 87)",
         "mode": "none",
         "name": "Grenada",
         "showlegend": false,
         "type": "scatter",
         "x": [
          "2020-03-22T00:00:00",
          "2020-05-03T00:00:00",
          "2020-05-03T00:00:00",
          "2020-03-22T00:00:00"
         ],
         "y": [
          22.8,
          22.8,
          23.2,
          23.2
         ]
        },
        {
         "fill": "toself",
         "fillcolor": "rgb(117, 83, 180)",
         "hoverinfo": "name",
         "legendgroup": "rgb(117, 83, 180)",
         "mode": "none",
         "name": "Kyrgyzstan",
         "showlegend": false,
         "type": "scatter",
         "x": [
          "2020-03-18T00:00:00",
          "2020-05-10T00:00:00",
          "2020-05-10T00:00:00",
          "2020-03-18T00:00:00"
         ],
         "y": [
          48.8,
          48.8,
          49.2,
          49.2
         ]
        },
        {
         "fill": "toself",
         "fillcolor": "rgb(119, 181, 91)",
         "hoverinfo": "name",
         "legendgroup": "rgb(119, 181, 91)",
         "mode": "none",
         "name": "Vietnam",
         "showlegend": false,
         "type": "scatter",
         "x": [
          "2020-01-23T00:00:00",
          "2020-05-08T00:00:00",
          "2020-05-08T00:00:00",
          "2020-01-23T00:00:00"
         ],
         "y": [
          176.8,
          176.8,
          177.2,
          177.2
         ]
        },
        {
         "fill": "toself",
         "fillcolor": "rgb(120, 81, 66)",
         "hoverinfo": "name",
         "legendgroup": "rgb(120, 81, 66)",
         "mode": "none",
         "name": "Trinidad and Tobago",
         "showlegend": false,
         "type": "scatter",
         "x": [
          "2020-03-14T00:00:00",
          "2020-04-28T00:00:00",
          "2020-04-28T00:00:00",
          "2020-03-14T00:00:00"
         ],
         "y": [
          26.8,
          26.8,
          27.2,
          27.2
         ]
        },
        {
         "fill": "toself",
         "fillcolor": "rgb(121, 193, 146)",
         "hoverinfo": "name",
         "legendgroup": "rgb(121, 193, 146)",
         "mode": "none",
         "name": "Brazil",
         "showlegend": false,
         "type": "scatter",
         "x": [
          "2020-02-26T00:00:00",
          "2020-05-10T00:00:00",
          "2020-05-10T00:00:00",
          "2020-02-26T00:00:00"
         ],
         "y": [
          144.8,
          144.8,
          145.2,
          145.2
         ]
        },
        {
         "fill": "toself",
         "fillcolor": "rgb(122, 179, 177)",
         "hoverinfo": "name",
         "legendgroup": "rgb(122, 179, 177)",
         "mode": "none",
         "name": "Kenya",
         "showlegend": false,
         "type": "scatter",
         "x": [
          "2020-03-13T00:00:00",
          "2020-05-10T00:00:00",
          "2020-05-10T00:00:00",
          "2020-03-13T00:00:00"
         ],
         "y": [
          73.8,
          73.8,
          74.2,
          74.2
         ]
        },
        {
         "fill": "toself",
         "fillcolor": "rgb(123, 183, 58)",
         "hoverinfo": "name",
         "legendgroup": "rgb(123, 183, 58)",
         "mode": "none",
         "name": "Chile",
         "showlegend": false,
         "type": "scatter",
         "x": [
          "2020-03-03T00:00:00",
          "2020-05-10T00:00:00",
          "2020-05-10T00:00:00",
          "2020-03-03T00:00:00"
         ],
         "y": [
          110.8,
          110.8,
          111.2,
          111.2
         ]
        },
        {
         "fill": "toself",
         "fillcolor": "rgb(123, 28, 136)",
         "hoverinfo": "name",
         "legendgroup": "rgb(123, 28, 136)",
         "mode": "none",
         "name": "Cabo Verde",
         "showlegend": false,
         "type": "scatter",
         "x": [
          "2020-03-20T00:00:00",
          "2020-05-10T00:00:00",
          "2020-05-10T00:00:00",
          "2020-03-20T00:00:00"
         ],
         "y": [
          42.8,
          42.8,
          43.2,
          43.2
         ]
        },
        {
         "fill": "toself",
         "fillcolor": "rgb(129, 162, 34)",
         "hoverinfo": "name",
         "legendgroup": "rgb(129, 162, 34)",
         "mode": "none",
         "name": "Tunisia",
         "showlegend": false,
         "type": "scatter",
         "x": [
          "2020-03-04T00:00:00",
          "2020-05-10T00:00:00",
          "2020-05-10T00:00:00",
          "2020-03-04T00:00:00"
         ],
         "y": [
          108.8,
          108.8,
          109.2,
          109.2
         ]
        },
        {
         "fill": "toself",
         "fillcolor": "rgb(130, 90, 25)",
         "hoverinfo": "name",
         "legendgroup": "rgb(130, 90, 25)",
         "mode": "none",
         "name": "Rwanda",
         "showlegend": false,
         "type": "scatter",
         "x": [
          "2020-03-14T00:00:00",
          "2020-05-10T00:00:00",
          "2020-05-10T00:00:00",
          "2020-03-14T00:00:00"
         ],
         "y": [
          66.8,
          66.8,
          67.2,
          67.2
         ]
        },
        {
         "fill": "toself",
         "fillcolor": "rgb(131, 149, 171)",
         "hoverinfo": "name",
         "legendgroup": "rgb(131, 149, 171)",
         "mode": "none",
         "name": "Zambia",
         "showlegend": false,
         "type": "scatter",
         "x": [
          "2020-03-18T00:00:00",
          "2020-05-10T00:00:00",
          "2020-05-10T00:00:00",
          "2020-03-18T00:00:00"
         ],
         "y": [
          50.8,
          50.8,
          51.2,
          51.2
         ]
        },
        {
         "fill": "toself",
         "fillcolor": "rgb(131, 160, 194)",
         "hoverinfo": "name",
         "legendgroup": "rgb(131, 160, 194)",
         "mode": "none",
         "name": "Sudan",
         "showlegend": false,
         "type": "scatter",
         "x": [
          "2020-03-13T00:00:00",
          "2020-05-10T00:00:00",
          "2020-05-10T00:00:00",
          "2020-03-13T00:00:00"
         ],
         "y": [
          70.8,
          70.8,
          71.2,
          71.2
         ]
        },
        {
         "fill": "toself",
         "fillcolor": "rgb(133, 200, 49)",
         "hoverinfo": "name",
         "legendgroup": "rgb(133, 200, 49)",
         "mode": "none",
         "name": "Malaysia",
         "showlegend": false,
         "type": "scatter",
         "x": [
          "2020-01-25T00:00:00",
          "2020-05-10T00:00:00",
          "2020-05-10T00:00:00",
          "2020-01-25T00:00:00"
         ],
         "y": [
          174.8,
          174.8,
          175.2,
          175.2
         ]
        },
        {
         "fill": "toself",
         "fillcolor": "rgb(133, 7, 7)",
         "hoverinfo": "name",
         "legendgroup": "rgb(133, 7, 7)",
         "mode": "none",
         "name": "Saint Vincent and the Grenadines",
         "showlegend": false,
         "type": "scatter",
         "x": [
          "2020-03-14T00:00:00",
          "2020-05-05T00:00:00",
          "2020-05-05T00:00:00",
          "2020-03-14T00:00:00"
         ],
         "y": [
          44.8,
          44.8,
          45.2,
          45.2
         ]
        },
        {
         "fill": "toself",
         "fillcolor": "rgb(134, 196, 122)",
         "hoverinfo": "name",
         "legendgroup": "rgb(134, 196, 122)",
         "mode": "none",
         "name": "Portugal",
         "showlegend": false,
         "type": "scatter",
         "x": [
          "2020-03-02T00:00:00",
          "2020-05-10T00:00:00",
          "2020-05-10T00:00:00",
          "2020-03-02T00:00:00"
         ],
         "y": [
          114.8,
          114.8,
          115.2,
          115.2
         ]
        },
        {
         "fill": "toself",
         "fillcolor": "rgb(134, 201, 68)",
         "hoverinfo": "name",
         "legendgroup": "rgb(134, 201, 68)",
         "mode": "none",
         "name": "Liberia",
         "showlegend": false,
         "type": "scatter",
         "x": [
          "2020-03-16T00:00:00",
          "2020-05-09T00:00:00",
          "2020-05-09T00:00:00",
          "2020-03-16T00:00:00"
         ],
         "y": [
          55.8,
          55.8,
          56.2,
          56.2
         ]
        },
        {
         "fill": "toself",
         "fillcolor": "rgb(135, 136, 84)",
         "hoverinfo": "name",
         "legendgroup": "rgb(135, 136, 84)",
         "mode": "none",
         "name": "Saudi Arabia",
         "showlegend": false,
         "type": "scatter",
         "x": [
          "2020-03-02T00:00:00",
          "2020-05-10T00:00:00",
          "2020-05-10T00:00:00",
          "2020-03-02T00:00:00"
         ],
         "y": [
          113.8,
          113.8,
          114.2,
          114.2
         ]
        },
        {
         "fill": "toself",
         "fillcolor": "rgb(135, 155, 148)",
         "hoverinfo": "name",
         "legendgroup": "rgb(135, 155, 148)",
         "mode": "none",
         "name": "Slovenia",
         "showlegend": false,
         "type": "scatter",
         "x": [
          "2020-03-05T00:00:00",
          "2020-05-10T00:00:00",
          "2020-05-10T00:00:00",
          "2020-03-05T00:00:00"
         ],
         "y": [
          105.8,
          105.8,
          106.2,
          106.2
         ]
        },
        {
         "fill": "toself",
         "fillcolor": "rgb(136, 7, 162)",
         "hoverinfo": "name",
         "legendgroup": "rgb(136, 7, 162)",
         "mode": "none",
         "name": "Bulgaria",
         "showlegend": false,
         "type": "scatter",
         "x": [
          "2020-03-08T00:00:00",
          "2020-05-10T00:00:00",
          "2020-05-10T00:00:00",
          "2020-03-08T00:00:00"
         ],
         "y": [
          91.8,
          91.8,
          92.2,
          92.2
         ]
        },
        {
         "fill": "toself",
         "fillcolor": "rgb(138, 185, 102)",
         "hoverinfo": "name",
         "legendgroup": "rgb(138, 185, 102)",
         "mode": "none",
         "name": "Andorra",
         "showlegend": false,
         "type": "scatter",
         "x": [
          "2020-03-02T00:00:00",
          "2020-05-10T00:00:00",
          "2020-05-10T00:00:00",
          "2020-03-02T00:00:00"
         ],
         "y": [
          115.8,
          115.8,
          116.2,
          116.2
         ]
        },
        {
         "fill": "toself",
         "fillcolor": "rgb(138, 33, 27)",
         "hoverinfo": "name",
         "legendgroup": "rgb(138, 33, 27)",
         "mode": "none",
         "name": "Bolivia",
         "showlegend": false,
         "type": "scatter",
         "x": [
          "2020-03-11T00:00:00",
          "2020-05-10T00:00:00",
          "2020-05-10T00:00:00",
          "2020-03-11T00:00:00"
         ],
         "y": [
          81.8,
          81.8,
          82.2,
          82.2
         ]
        },
        {
         "fill": "toself",
         "fillcolor": "rgb(138, 73, 204)",
         "hoverinfo": "name",
         "legendgroup": "rgb(138, 73, 204)",
         "mode": "none",
         "name": "Argentina",
         "showlegend": false,
         "type": "scatter",
         "x": [
          "2020-03-03T00:00:00",
          "2020-05-10T00:00:00",
          "2020-05-10T00:00:00",
          "2020-03-03T00:00:00"
         ],
         "y": [
          109.8,
          109.8,
          110.2,
          110.2
         ]
        },
        {
         "fill": "toself",
         "fillcolor": "rgb(139, 145, 16)",
         "hoverinfo": "name",
         "legendgroup": "rgb(139, 145, 16)",
         "mode": "none",
         "name": "Congo (Brazzaville)",
         "showlegend": false,
         "type": "scatter",
         "x": [
          "2020-03-15T00:00:00",
          "2020-05-09T00:00:00",
          "2020-05-09T00:00:00",
          "2020-03-15T00:00:00"
         ],
         "y": [
          58.8,
          58.8,
          59.2,
          59.2
         ]
        },
        {
         "fill": "toself",
         "fillcolor": "rgb(140, 185, 66)",
         "hoverinfo": "name",
         "legendgroup": "rgb(140, 185, 66)",
         "mode": "none",
         "name": "New Zealand",
         "showlegend": false,
         "type": "scatter",
         "x": [
          "2020-02-28T00:00:00",
          "2020-05-10T00:00:00",
          "2020-05-10T00:00:00",
          "2020-02-28T00:00:00"
         ],
         "y": [
          133.8,
          133.8,
          134.2,
          134.2
         ]
        },
        {
         "fill": "toself",
         "fillcolor": "rgb(140, 32, 133)",
         "hoverinfo": "name",
         "legendgroup": "rgb(140, 32, 133)",
         "mode": "none",
         "name": "Belize",
         "showlegend": false,
         "type": "scatter",
         "x": [
          "2020-03-23T00:00:00",
          "2020-04-14T00:00:00",
          "2020-04-14T00:00:00",
          "2020-03-23T00:00:00"
         ],
         "y": [
          6.8,
          6.8,
          7.2,
          7.2
         ]
        },
        {
         "fill": "toself",
         "fillcolor": "rgb(144, 53, 165)",
         "hoverinfo": "name",
         "legendgroup": "rgb(144, 53, 165)",
         "mode": "none",
         "name": "Iran",
         "showlegend": false,
         "type": "scatter",
         "x": [
          "2020-02-19T00:00:00",
          "2020-05-10T00:00:00",
          "2020-05-10T00:00:00",
          "2020-02-19T00:00:00"
         ],
         "y": [
          158.8,
          158.8,
          159.2,
          159.2
         ]
        },
        {
         "fill": "toself",
         "fillcolor": "rgb(144, 55, 40)",
         "hoverinfo": "name",
         "legendgroup": "rgb(144, 55, 40)",
         "mode": "none",
         "name": "Eritrea",
         "showlegend": false,
         "type": "scatter",
         "x": [
          "2020-03-21T00:00:00",
          "2020-04-19T00:00:00",
          "2020-04-19T00:00:00",
          "2020-03-21T00:00:00"
         ],
         "y": [
          10.8,
          10.8,
          11.2,
          11.2
         ]
        },
        {
         "fill": "toself",
         "fillcolor": "rgb(145, 200, 20)",
         "hoverinfo": "name",
         "legendgroup": "rgb(145, 200, 20)",
         "mode": "none",
         "name": "Turkey",
         "showlegend": false,
         "type": "scatter",
         "x": [
          "2020-03-11T00:00:00",
          "2020-05-10T00:00:00",
          "2020-05-10T00:00:00",
          "2020-03-11T00:00:00"
         ],
         "y": [
          78.8,
          78.8,
          79.2,
          79.2
         ]
        },
        {
         "fill": "toself",
         "fillcolor": "rgb(145, 201, 186)",
         "hoverinfo": "name",
         "legendgroup": "rgb(145, 201, 186)",
         "mode": "none",
         "name": "Russia",
         "showlegend": false,
         "type": "scatter",
         "x": [
          "2020-01-31T00:00:00",
          "2020-05-10T00:00:00",
          "2020-05-10T00:00:00",
          "2020-01-31T00:00:00"
         ],
         "y": [
          164.8,
          164.8,
          165.2,
          165.2
         ]
        },
        {
         "fill": "toself",
         "fillcolor": "rgb(146, 6, 132)",
         "hoverinfo": "name",
         "legendgroup": "rgb(146, 6, 132)",
         "mode": "none",
         "name": "Antigua and Barbuda",
         "showlegend": false,
         "type": "scatter",
         "x": [
          "2020-03-13T00:00:00",
          "2020-05-02T00:00:00",
          "2020-05-02T00:00:00",
          "2020-03-13T00:00:00"
         ],
         "y": [
          36.8,
          36.8,
          37.2,
          37.2
         ]
        },
        {
         "fill": "toself",
         "fillcolor": "rgb(150, 179, 145)",
         "hoverinfo": "name",
         "legendgroup": "rgb(150, 179, 145)",
         "mode": "none",
         "name": "Israel",
         "showlegend": false,
         "type": "scatter",
         "x": [
          "2020-02-21T00:00:00",
          "2020-05-10T00:00:00",
          "2020-05-10T00:00:00",
          "2020-02-21T00:00:00"
         ],
         "y": [
          156.8,
          156.8,
          157.2,
          157.2
         ]
        },
        {
         "fill": "toself",
         "fillcolor": "rgb(150, 204, 53)",
         "hoverinfo": "name",
         "legendgroup": "rgb(150, 204, 53)",
         "mode": "none",
         "name": "Tanzania",
         "showlegend": false,
         "type": "scatter",
         "x": [
          "2020-03-16T00:00:00",
          "2020-05-09T00:00:00",
          "2020-05-09T00:00:00",
          "2020-03-16T00:00:00"
         ],
         "y": [
          54.8,
          54.8,
          55.2,
          55.2
         ]
        },
        {
         "fill": "toself",
         "fillcolor": "rgb(151, 172, 202)",
         "hoverinfo": "name",
         "legendgroup": "rgb(151, 172, 202)",
         "mode": "none",
         "name": "Angola",
         "showlegend": false,
         "type": "scatter",
         "x": [
          "2020-03-20T00:00:00",
          "2020-05-09T00:00:00",
          "2020-05-09T00:00:00",
          "2020-03-20T00:00:00"
         ],
         "y": [
          37.8,
          37.8,
          38.2,
          38.2
         ]
        },
        {
         "fill": "toself",
         "fillcolor": "rgb(151, 70, 51)",
         "hoverinfo": "name",
         "legendgroup": "rgb(151, 70, 51)",
         "mode": "none",
         "name": "United Kingdom",
         "showlegend": false,
         "type": "scatter",
         "x": [
          "2020-01-31T00:00:00",
          "2020-05-10T00:00:00",
          "2020-05-10T00:00:00",
          "2020-01-31T00:00:00"
         ],
         "y": [
          163.8,
          163.8,
          164.2,
          164.2
         ]
        },
        {
         "fill": "toself",
         "fillcolor": "rgb(153, 19, 85)",
         "hoverinfo": "name",
         "legendgroup": "rgb(153, 19, 85)",
         "mode": "none",
         "name": "Denmark",
         "showlegend": false,
         "type": "scatter",
         "x": [
          "2020-02-27T00:00:00",
          "2020-05-10T00:00:00",
          "2020-05-10T00:00:00",
          "2020-02-27T00:00:00"
         ],
         "y": [
          138.8,
          138.8,
          139.2,
          139.2
         ]
        },
        {
         "fill": "toself",
         "fillcolor": "rgb(153, 53, 194)",
         "hoverinfo": "name",
         "legendgroup": "rgb(153, 53, 194)",
         "mode": "none",
         "name": "Netherlands",
         "showlegend": false,
         "type": "scatter",
         "x": [
          "2020-02-27T00:00:00",
          "2020-05-10T00:00:00",
          "2020-05-10T00:00:00",
          "2020-02-27T00:00:00"
         ],
         "y": [
          137.8,
          137.8,
          138.2,
          138.2
         ]
        },
        {
         "fill": "toself",
         "fillcolor": "rgb(153, 81, 180)",
         "hoverinfo": "name",
         "legendgroup": "rgb(153, 81, 180)",
         "mode": "none",
         "name": "Thailand",
         "showlegend": false,
         "type": "scatter",
         "x": [
          "2020-01-22T00:00:00",
          "2020-05-10T00:00:00",
          "2020-05-10T00:00:00",
          "2020-01-22T00:00:00"
         ],
         "y": [
          180.8,
          180.8,
          181.2,
          181.2
         ]
        },
        {
         "fill": "toself",
         "fillcolor": "rgb(155, 182, 150)",
         "hoverinfo": "name",
         "legendgroup": "rgb(155, 182, 150)",
         "mode": "none",
         "name": "Singapore",
         "showlegend": false,
         "type": "scatter",
         "x": [
          "2020-01-23T00:00:00",
          "2020-05-10T00:00:00",
          "2020-05-10T00:00:00",
          "2020-01-23T00:00:00"
         ],
         "y": [
          179.8,
          179.8,
          180.2,
          180.2
         ]
        },
        {
         "fill": "toself",
         "fillcolor": "rgb(155, 69, 182)",
         "hoverinfo": "name",
         "legendgroup": "rgb(155, 69, 182)",
         "mode": "none",
         "name": "Japan",
         "showlegend": false,
         "type": "scatter",
         "x": [
          "2020-01-22T00:00:00",
          "2020-05-10T00:00:00",
          "2020-05-10T00:00:00",
          "2020-01-22T00:00:00"
         ],
         "y": [
          182.8,
          182.8,
          183.2,
          183.2
         ]
        },
        {
         "fill": "toself",
         "fillcolor": "rgb(156, 54, 58)",
         "hoverinfo": "name",
         "legendgroup": "rgb(156, 54, 58)",
         "mode": "none",
         "name": "Jamaica",
         "showlegend": false,
         "type": "scatter",
         "x": [
          "2020-03-11T00:00:00",
          "2020-05-09T00:00:00",
          "2020-05-09T00:00:00",
          "2020-03-11T00:00:00"
         ],
         "y": [
          75.8,
          75.8,
          76.2,
          76.2
         ]
        },
        {
         "fill": "toself",
         "fillcolor": "rgb(156, 80, 35)",
         "hoverinfo": "name",
         "legendgroup": "rgb(156, 80, 35)",
         "mode": "none",
         "name": "Zimbabwe",
         "showlegend": false,
         "type": "scatter",
         "x": [
          "2020-03-20T00:00:00",
          "2020-05-10T00:00:00",
          "2020-05-10T00:00:00",
          "2020-03-20T00:00:00"
         ],
         "y": [
          39.8,
          39.8,
          40.2,
          40.2
         ]
        },
        {
         "fill": "toself",
         "fillcolor": "rgb(156, 82, 33)",
         "hoverinfo": "name",
         "legendgroup": "rgb(156, 82, 33)",
         "mode": "none",
         "name": "Mali",
         "showlegend": false,
         "type": "scatter",
         "x": [
          "2020-03-25T00:00:00",
          "2020-05-10T00:00:00",
          "2020-05-10T00:00:00",
          "2020-03-25T00:00:00"
         ],
         "y": [
          28.8,
          28.8,
          29.2,
          29.2
         ]
        },
        {
         "fill": "toself",
         "fillcolor": "rgb(160, 12, 105)",
         "hoverinfo": "name",
         "legendgroup": "rgb(160, 12, 105)",
         "mode": "none",
         "name": "Bosnia and Herzegovina",
         "showlegend": false,
         "type": "scatter",
         "x": [
          "2020-03-05T00:00:00",
          "2020-05-10T00:00:00",
          "2020-05-10T00:00:00",
          "2020-03-05T00:00:00"
         ],
         "y": [
          104.8,
          104.8,
          105.2,
          105.2
         ]
        },
        {
         "fill": "toself",
         "fillcolor": "rgb(162, 101, 0)",
         "hoverinfo": "name",
         "legendgroup": "rgb(162, 101, 0)",
         "mode": "none",
         "name": "Comoros",
         "showlegend": false,
         "type": "scatter",
         "x": [
          "2020-04-30T00:00:00",
          "2020-05-10T00:00:00",
          "2020-05-10T00:00:00",
          "2020-04-30T00:00:00"
         ],
         "y": [
          0.8,
          0.8,
          1.2,
          1.2
         ]
        },
        {
         "fill": "toself",
         "fillcolor": "rgb(162, 164, 33)",
         "hoverinfo": "name",
         "legendgroup": "rgb(162, 164, 33)",
         "mode": "none",
         "name": "Germany",
         "showlegend": false,
         "type": "scatter",
         "x": [
          "2020-01-27T00:00:00",
          "2020-05-10T00:00:00",
          "2020-05-10T00:00:00",
          "2020-01-27T00:00:00"
         ],
         "y": [
          170.8,
          170.8,
          171.2,
          171.2
         ]
        },
        {
         "fill": "toself",
         "fillcolor": "rgb(162, 202, 100)",
         "hoverinfo": "name",
         "legendgroup": "rgb(162, 202, 100)",
         "mode": "none",
         "name": "South Sudan",
         "showlegend": false,
         "type": "scatter",
         "x": [
          "2020-04-05T00:00:00",
          "2020-05-09T00:00:00",
          "2020-05-09T00:00:00",
          "2020-04-05T00:00:00"
         ],
         "y": [
          18.8,
          18.8,
          19.2,
          19.2
         ]
        },
        {
         "fill": "toself",
         "fillcolor": "rgb(166, 140, 26)",
         "hoverinfo": "name",
         "legendgroup": "rgb(166, 140, 26)",
         "mode": "none",
         "name": "Uruguay",
         "showlegend": false,
         "type": "scatter",
         "x": [
          "2020-03-14T00:00:00",
          "2020-05-10T00:00:00",
          "2020-05-10T00:00:00",
          "2020-03-14T00:00:00"
         ],
         "y": [
          68.8,
          68.8,
          69.2,
          69.2
         ]
        },
        {
         "fill": "toself",
         "fillcolor": "rgb(167, 113, 151)",
         "hoverinfo": "name",
         "legendgroup": "rgb(167, 113, 151)",
         "mode": "none",
         "name": "Lebanon",
         "showlegend": false,
         "type": "scatter",
         "x": [
          "2020-02-21T00:00:00",
          "2020-05-10T00:00:00",
          "2020-05-10T00:00:00",
          "2020-02-21T00:00:00"
         ],
         "y": [
          157.8,
          157.8,
          158.2,
          158.2
         ]
        },
        {
         "fill": "toself",
         "fillcolor": "rgb(168, 112, 186)",
         "hoverinfo": "name",
         "legendgroup": "rgb(168, 112, 186)",
         "mode": "none",
         "name": "Dominica",
         "showlegend": false,
         "type": "scatter",
         "x": [
          "2020-03-22T00:00:00",
          "2020-04-11T00:00:00",
          "2020-04-11T00:00:00",
          "2020-03-22T00:00:00"
         ],
         "y": [
          4.8,
          4.8,
          5.2,
          5.2
         ]
        },
        {
         "fill": "toself",
         "fillcolor": "rgb(168, 200, 91)",
         "hoverinfo": "name",
         "legendgroup": "rgb(168, 200, 91)",
         "mode": "none",
         "name": "Haiti",
         "showlegend": false,
         "type": "scatter",
         "x": [
          "2020-03-20T00:00:00",
          "2020-05-10T00:00:00",
          "2020-05-10T00:00:00",
          "2020-03-20T00:00:00"
         ],
         "y": [
          40.8,
          40.8,
          41.2,
          41.2
         ]
        },
        {
         "fill": "toself",
         "fillcolor": "rgb(168, 49, 76)",
         "hoverinfo": "name",
         "legendgroup": "rgb(168, 49, 76)",
         "mode": "none",
         "name": "Nigeria",
         "showlegend": false,
         "type": "scatter",
         "x": [
          "2020-02-28T00:00:00",
          "2020-05-10T00:00:00",
          "2020-05-10T00:00:00",
          "2020-02-28T00:00:00"
         ],
         "y": [
          131.8,
          131.8,
          132.2,
          132.2
         ]
        },
        {
         "fill": "toself",
         "fillcolor": "rgb(169, 66, 97)",
         "hoverinfo": "name",
         "legendgroup": "rgb(169, 66, 97)",
         "mode": "none",
         "name": "Gabon",
         "showlegend": false,
         "type": "scatter",
         "x": [
          "2020-03-14T00:00:00",
          "2020-05-10T00:00:00",
          "2020-05-10T00:00:00",
          "2020-03-14T00:00:00"
         ],
         "y": [
          63.8,
          63.8,
          64.2,
          64.2
         ]
        },
        {
         "fill": "toself",
         "fillcolor": "rgb(17, 43, 153)",
         "hoverinfo": "name",
         "legendgroup": "rgb(17, 43, 153)",
         "mode": "none",
         "name": "Peru",
         "showlegend": false,
         "type": "scatter",
         "x": [
          "2020-03-06T00:00:00",
          "2020-05-10T00:00:00",
          "2020-05-10T00:00:00",
          "2020-03-06T00:00:00"
         ],
         "y": [
          102.8,
          102.8,
          103.2,
          103.2
         ]
        },
        {
         "fill": "toself",
         "fillcolor": "rgb(17, 49, 138)",
         "hoverinfo": "name",
         "legendgroup": "rgb(17, 49, 138)",
         "mode": "none",
         "name": "Australia",
         "showlegend": false,
         "type": "scatter",
         "x": [
          "2020-01-26T00:00:00",
          "2020-05-10T00:00:00",
          "2020-05-10T00:00:00",
          "2020-01-26T00:00:00"
         ],
         "y": [
          172.8,
          172.8,
          173.2,
          173.2
         ]
        },
        {
         "fill": "toself",
         "fillcolor": "rgb(170, 122, 135)",
         "hoverinfo": "name",
         "legendgroup": "rgb(170, 122, 135)",
         "mode": "none",
         "name": "Moldova",
         "showlegend": false,
         "type": "scatter",
         "x": [
          "2020-03-08T00:00:00",
          "2020-05-10T00:00:00",
          "2020-05-10T00:00:00",
          "2020-03-08T00:00:00"
         ],
         "y": [
          89.8,
          89.8,
          90.2,
          90.2
         ]
        },
        {
         "fill": "toself",
         "fillcolor": "rgb(172, 138, 54)",
         "hoverinfo": "name",
         "legendgroup": "rgb(172, 138, 54)",
         "mode": "none",
         "name": "Kazakhstan",
         "showlegend": false,
         "type": "scatter",
         "x": [
          "2020-03-13T00:00:00",
          "2020-05-10T00:00:00",
          "2020-05-10T00:00:00",
          "2020-03-13T00:00:00"
         ],
         "y": [
          69.8,
          69.8,
          70.2,
          70.2
         ]
        },
        {
         "fill": "toself",
         "fillcolor": "rgb(176, 128, 201)",
         "hoverinfo": "name",
         "legendgroup": "rgb(176, 128, 201)",
         "mode": "none",
         "name": "Belgium",
         "showlegend": false,
         "type": "scatter",
         "x": [
          "2020-02-04T00:00:00",
          "2020-05-10T00:00:00",
          "2020-05-10T00:00:00",
          "2020-02-04T00:00:00"
         ],
         "y": [
          160.8,
          160.8,
          161.2,
          161.2
         ]
        },
        {
         "fill": "toself",
         "fillcolor": "rgb(177, 3, 67)",
         "hoverinfo": "name",
         "legendgroup": "rgb(177, 3, 67)",
         "mode": "none",
         "name": "Qatar",
         "showlegend": false,
         "type": "scatter",
         "x": [
          "2020-02-29T00:00:00",
          "2020-05-10T00:00:00",
          "2020-05-10T00:00:00",
          "2020-02-29T00:00:00"
         ],
         "y": [
          127.8,
          127.8,
          128.2,
          128.2
         ]
        },
        {
         "fill": "toself",
         "fillcolor": "rgb(177, 49, 75)",
         "hoverinfo": "name",
         "legendgroup": "rgb(177, 49, 75)",
         "mode": "none",
         "name": "Uganda",
         "showlegend": false,
         "type": "scatter",
         "x": [
          "2020-03-21T00:00:00",
          "2020-05-10T00:00:00",
          "2020-05-10T00:00:00",
          "2020-03-21T00:00:00"
         ],
         "y": [
          35.8,
          35.8,
          36.2,
          36.2
         ]
        },
        {
         "fill": "toself",
         "fillcolor": "rgb(177, 58, 188)",
         "hoverinfo": "name",
         "legendgroup": "rgb(177, 58, 188)",
         "mode": "none",
         "name": "Liechtenstein",
         "showlegend": false,
         "type": "scatter",
         "x": [
          "2020-03-04T00:00:00",
          "2020-04-27T00:00:00",
          "2020-04-27T00:00:00",
          "2020-03-04T00:00:00"
         ],
         "y": [
          53.8,
          53.8,
          54.2,
          54.2
         ]
        },
        {
         "fill": "toself",
         "fillcolor": "rgb(179, 16, 144)",
         "hoverinfo": "name",
         "legendgroup": "rgb(179, 16, 144)",
         "mode": "none",
         "name": "Venezuela",
         "showlegend": false,
         "type": "scatter",
         "x": [
          "2020-03-14T00:00:00",
          "2020-05-10T00:00:00",
          "2020-05-10T00:00:00",
          "2020-03-14T00:00:00"
         ],
         "y": [
          64.8,
          64.8,
          65.2,
          65.2
         ]
        },
        {
         "fill": "toself",
         "fillcolor": "rgb(179, 28, 145)",
         "hoverinfo": "name",
         "legendgroup": "rgb(179, 28, 145)",
         "mode": "none",
         "name": "Greenland",
         "showlegend": false,
         "type": "scatter",
         "x": [
          "2020-03-16T00:00:00",
          "2020-04-05T00:00:00",
          "2020-04-05T00:00:00",
          "2020-03-16T00:00:00"
         ],
         "y": [
          3.8,
          3.8,
          4.2,
          4.2
         ]
        },
        {
         "fill": "toself",
         "fillcolor": "rgb(179, 81, 74)",
         "hoverinfo": "name",
         "legendgroup": "rgb(179, 81, 74)",
         "mode": "none",
         "name": "Greece",
         "showlegend": false,
         "type": "scatter",
         "x": [
          "2020-02-26T00:00:00",
          "2020-05-10T00:00:00",
          "2020-05-10T00:00:00",
          "2020-02-26T00:00:00"
         ],
         "y": [
          139.8,
          139.8,
          140.2,
          140.2
         ]
        },
        {
         "fill": "toself",
         "fillcolor": "rgb(180, 87, 135)",
         "hoverinfo": "name",
         "legendgroup": "rgb(180, 87, 135)",
         "mode": "none",
         "name": "United Arab Emirates",
         "showlegend": false,
         "type": "scatter",
         "x": [
          "2020-01-29T00:00:00",
          "2020-05-10T00:00:00",
          "2020-05-10T00:00:00",
          "2020-01-29T00:00:00"
         ],
         "y": [
          168.8,
          168.8,
          169.2,
          169.2
         ]
        },
        {
         "fill": "toself",
         "fillcolor": "rgb(181, 104, 36)",
         "hoverinfo": "name",
         "legendgroup": "rgb(181, 104, 36)",
         "mode": "none",
         "name": "Austria",
         "showlegend": false,
         "type": "scatter",
         "x": [
          "2020-02-25T00:00:00",
          "2020-05-10T00:00:00",
          "2020-05-10T00:00:00",
          "2020-02-25T00:00:00"
         ],
         "y": [
          146.8,
          146.8,
          147.2,
          147.2
         ]
        },
        {
         "fill": "toself",
         "fillcolor": "rgb(181, 6, 40)",
         "hoverinfo": "name",
         "legendgroup": "rgb(181, 6, 40)",
         "mode": "none",
         "name": "Suriname",
         "showlegend": false,
         "type": "scatter",
         "x": [
          "2020-03-14T00:00:00",
          "2020-04-02T00:00:00",
          "2020-04-02T00:00:00",
          "2020-03-14T00:00:00"
         ],
         "y": [
          2.8,
          2.8,
          3.2,
          3.2
         ]
        },
        {
         "fill": "toself",
         "fillcolor": "rgb(182, 161, 182)",
         "hoverinfo": "name",
         "legendgroup": "rgb(182, 161, 182)",
         "mode": "none",
         "name": "Panama",
         "showlegend": false,
         "type": "scatter",
         "x": [
          "2020-03-10T00:00:00",
          "2020-05-10T00:00:00",
          "2020-05-10T00:00:00",
          "2020-03-10T00:00:00"
         ],
         "y": [
          85.8,
          85.8,
          86.2,
          86.2
         ]
        },
        {
         "fill": "toself",
         "fillcolor": "rgb(182, 22, 75)",
         "hoverinfo": "name",
         "legendgroup": "rgb(182, 22, 75)",
         "mode": "none",
         "name": "Madagascar",
         "showlegend": false,
         "type": "scatter",
         "x": [
          "2020-03-20T00:00:00",
          "2020-05-08T00:00:00",
          "2020-05-08T00:00:00",
          "2020-03-20T00:00:00"
         ],
         "y": [
          34.8,
          34.8,
          35.2,
          35.2
         ]
        },
        {
         "fill": "toself",
         "fillcolor": "rgb(182, 7, 156)",
         "hoverinfo": "name",
         "legendgroup": "rgb(182, 7, 156)",
         "mode": "none",
         "name": "Bahamas",
         "showlegend": false,
         "type": "scatter",
         "x": [
          "2020-03-16T00:00:00",
          "2020-05-07T00:00:00",
          "2020-05-07T00:00:00",
          "2020-03-16T00:00:00"
         ],
         "y": [
          46.8,
          46.8,
          47.2,
          47.2
         ]
        },
        {
         "fill": "toself",
         "fillcolor": "rgb(183, 12, 140)",
         "hoverinfo": "name",
         "legendgroup": "rgb(183, 12, 140)",
         "mode": "none",
         "name": "Switzerland",
         "showlegend": false,
         "type": "scatter",
         "x": [
          "2020-02-25T00:00:00",
          "2020-05-10T00:00:00",
          "2020-05-10T00:00:00",
          "2020-02-25T00:00:00"
         ],
         "y": [
          147.8,
          147.8,
          148.2,
          148.2
         ]
        },
        {
         "fill": "toself",
         "fillcolor": "rgb(187, 160, 148)",
         "hoverinfo": "name",
         "legendgroup": "rgb(187, 160, 148)",
         "mode": "none",
         "name": "San Marino",
         "showlegend": false,
         "type": "scatter",
         "x": [
          "2020-02-27T00:00:00",
          "2020-05-10T00:00:00",
          "2020-05-10T00:00:00",
          "2020-02-27T00:00:00"
         ],
         "y": [
          135.8,
          135.8,
          136.2,
          136.2
         ]
        },
        {
         "fill": "toself",
         "fillcolor": "rgb(188, 115, 187)",
         "hoverinfo": "name",
         "legendgroup": "rgb(188, 115, 187)",
         "mode": "none",
         "name": "Guyana",
         "showlegend": false,
         "type": "scatter",
         "x": [
          "2020-03-12T00:00:00",
          "2020-05-09T00:00:00",
          "2020-05-09T00:00:00",
          "2020-03-12T00:00:00"
         ],
         "y": [
          72.8,
          72.8,
          73.2,
          73.2
         ]
        },
        {
         "fill": "toself",
         "fillcolor": "rgb(188, 121, 130)",
         "hoverinfo": "name",
         "legendgroup": "rgb(188, 121, 130)",
         "mode": "none",
         "name": "Western Sahara",
         "showlegend": false,
         "type": "scatter",
         "x": [
          "2020-04-05T00:00:00",
          "2020-04-13T00:00:00",
          "2020-04-13T00:00:00",
          "2020-04-05T00:00:00"
         ],
         "y": [
          -0.2,
          -0.2,
          0.2,
          0.2
         ]
        },
        {
         "fill": "toself",
         "fillcolor": "rgb(188, 99, 145)",
         "hoverinfo": "name",
         "legendgroup": "rgb(188, 99, 145)",
         "mode": "none",
         "name": "Benin",
         "showlegend": false,
         "type": "scatter",
         "x": [
          "2020-03-16T00:00:00",
          "2020-05-10T00:00:00",
          "2020-05-10T00:00:00",
          "2020-03-16T00:00:00"
         ],
         "y": [
          59.8,
          59.8,
          60.2,
          60.2
         ]
        },
        {
         "fill": "toself",
         "fillcolor": "rgb(192, 134, 185)",
         "hoverinfo": "name",
         "legendgroup": "rgb(192, 134, 185)",
         "mode": "none",
         "name": "Holy See",
         "showlegend": false,
         "type": "scatter",
         "x": [
          "2020-03-06T00:00:00",
          "2020-05-07T00:00:00",
          "2020-05-07T00:00:00",
          "2020-03-06T00:00:00"
         ],
         "y": [
          86.8,
          86.8,
          87.2,
          87.2
         ]
        },
        {
         "fill": "toself",
         "fillcolor": "rgb(192, 135, 76)",
         "hoverinfo": "name",
         "legendgroup": "rgb(192, 135, 76)",
         "mode": "none",
         "name": "Monaco",
         "showlegend": false,
         "type": "scatter",
         "x": [
          "2020-02-29T00:00:00",
          "2020-05-10T00:00:00",
          "2020-05-10T00:00:00",
          "2020-02-29T00:00:00"
         ],
         "y": [
          128.8,
          128.8,
          129.2,
          129.2
         ]
        },
        {
         "fill": "toself",
         "fillcolor": "rgb(194, 140, 165)",
         "hoverinfo": "name",
         "legendgroup": "rgb(194, 140, 165)",
         "mode": "none",
         "name": "Latvia",
         "showlegend": false,
         "type": "scatter",
         "x": [
          "2020-03-02T00:00:00",
          "2020-05-10T00:00:00",
          "2020-05-10T00:00:00",
          "2020-03-02T00:00:00"
         ],
         "y": [
          117.8,
          117.8,
          118.2,
          118.2
         ]
        },
        {
         "fill": "toself",
         "fillcolor": "rgb(194, 27, 128)",
         "hoverinfo": "name",
         "legendgroup": "rgb(194, 27, 128)",
         "mode": "none",
         "name": "Eswatini",
         "showlegend": false,
         "type": "scatter",
         "x": [
          "2020-03-14T00:00:00",
          "2020-05-10T00:00:00",
          "2020-05-10T00:00:00",
          "2020-03-14T00:00:00"
         ],
         "y": [
          62.8,
          62.8,
          63.2,
          63.2
         ]
        },
        {
         "fill": "toself",
         "fillcolor": "rgb(195, 56, 160)",
         "hoverinfo": "name",
         "legendgroup": "rgb(195, 56, 160)",
         "mode": "none",
         "name": "Mexico",
         "showlegend": false,
         "type": "scatter",
         "x": [
          "2020-02-28T00:00:00",
          "2020-05-10T00:00:00",
          "2020-05-10T00:00:00",
          "2020-02-28T00:00:00"
         ],
         "y": [
          132.8,
          132.8,
          133.2,
          133.2
         ]
        },
        {
         "fill": "toself",
         "fillcolor": "rgb(196, 196, 170)",
         "hoverinfo": "name",
         "legendgroup": "rgb(196, 196, 170)",
         "mode": "none",
         "name": "Philippines",
         "showlegend": false,
         "type": "scatter",
         "x": [
          "2020-01-30T00:00:00",
          "2020-05-10T00:00:00",
          "2020-05-10T00:00:00",
          "2020-01-30T00:00:00"
         ],
         "y": [
          167.8,
          167.8,
          168.2,
          168.2
         ]
        },
        {
         "fill": "toself",
         "fillcolor": "rgb(196, 197, 124)",
         "hoverinfo": "name",
         "legendgroup": "rgb(196, 197, 124)",
         "mode": "none",
         "name": "Egypt",
         "showlegend": false,
         "type": "scatter",
         "x": [
          "2020-02-14T00:00:00",
          "2020-05-10T00:00:00",
          "2020-05-10T00:00:00",
          "2020-02-14T00:00:00"
         ],
         "y": [
          159.8,
          159.8,
          160.2,
          160.2
         ]
        },
        {
         "fill": "toself",
         "fillcolor": "rgb(198, 55, 59)",
         "hoverinfo": "name",
         "legendgroup": "rgb(198, 55, 59)",
         "mode": "none",
         "name": "Ghana",
         "showlegend": false,
         "type": "scatter",
         "x": [
          "2020-03-14T00:00:00",
          "2020-05-10T00:00:00",
          "2020-05-10T00:00:00",
          "2020-03-14T00:00:00"
         ],
         "y": [
          65.8,
          65.8,
          66.2,
          66.2
         ]
        },
        {
         "fill": "toself",
         "fillcolor": "rgb(198, 57, 124)",
         "hoverinfo": "name",
         "legendgroup": "rgb(198, 57, 124)",
         "mode": "none",
         "name": "Cote d'Ivoire",
         "showlegend": false,
         "type": "scatter",
         "x": [
          "2020-03-11T00:00:00",
          "2020-05-10T00:00:00",
          "2020-05-10T00:00:00",
          "2020-03-11T00:00:00"
         ],
         "y": [
          79.8,
          79.8,
          80.2,
          80.2
         ]
        },
        {
         "fill": "toself",
         "fillcolor": "rgb(198, 58, 178)",
         "hoverinfo": "name",
         "legendgroup": "rgb(198, 58, 178)",
         "mode": "none",
         "name": "Georgia",
         "showlegend": false,
         "type": "scatter",
         "x": [
          "2020-02-26T00:00:00",
          "2020-05-10T00:00:00",
          "2020-05-10T00:00:00",
          "2020-02-26T00:00:00"
         ],
         "y": [
          140.8,
          140.8,
          141.2,
          141.2
         ]
        },
        {
         "fill": "toself",
         "fillcolor": "rgb(199, 122, 65)",
         "hoverinfo": "name",
         "legendgroup": "rgb(199, 122, 65)",
         "mode": "none",
         "name": "Azerbaijan",
         "showlegend": false,
         "type": "scatter",
         "x": [
          "2020-03-01T00:00:00",
          "2020-05-10T00:00:00",
          "2020-05-10T00:00:00",
          "2020-03-01T00:00:00"
         ],
         "y": [
          123.8,
          123.8,
          124.2,
          124.2
         ]
        },
        {
         "fill": "toself",
         "fillcolor": "rgb(201, 171, 180)",
         "hoverinfo": "name",
         "legendgroup": "rgb(201, 171, 180)",
         "mode": "none",
         "name": "West Bank and Gaza",
         "showlegend": false,
         "type": "scatter",
         "x": [
          "2020-03-05T00:00:00",
          "2020-05-08T00:00:00",
          "2020-05-08T00:00:00",
          "2020-03-05T00:00:00"
         ],
         "y": [
          95.8,
          95.8,
          96.2,
          96.2
         ]
        },
        {
         "fill": "toself",
         "fillcolor": "rgb(201, 65, 87)",
         "hoverinfo": "name",
         "legendgroup": "rgb(201, 65, 87)",
         "mode": "none",
         "name": "Hungary",
         "showlegend": false,
         "type": "scatter",
         "x": [
          "2020-03-04T00:00:00",
          "2020-05-10T00:00:00",
          "2020-05-10T00:00:00",
          "2020-03-04T00:00:00"
         ],
         "y": [
          107.8,
          107.8,
          108.2,
          108.2
         ]
        },
        {
         "fill": "toself",
         "fillcolor": "rgb(22, 186, 22)",
         "hoverinfo": "name",
         "legendgroup": "rgb(22, 186, 22)",
         "mode": "none",
         "name": "Guinea-Bissau",
         "showlegend": false,
         "type": "scatter",
         "x": [
          "2020-03-25T00:00:00",
          "2020-05-10T00:00:00",
          "2020-05-10T00:00:00",
          "2020-03-25T00:00:00"
         ],
         "y": [
          27.8,
          27.8,
          28.2,
          28.2
         ]
        },
        {
         "fill": "toself",
         "fillcolor": "rgb(22, 91, 59)",
         "hoverinfo": "name",
         "legendgroup": "rgb(22, 91, 59)",
         "mode": "none",
         "name": "North Macedonia",
         "showlegend": false,
         "type": "scatter",
         "x": [
          "2020-02-26T00:00:00",
          "2020-05-10T00:00:00",
          "2020-05-10T00:00:00",
          "2020-02-26T00:00:00"
         ],
         "y": [
          143.8,
          143.8,
          144.2,
          144.2
         ]
        },
        {
         "fill": "toself",
         "fillcolor": "rgb(23, 67, 140)",
         "hoverinfo": "name",
         "legendgroup": "rgb(23, 67, 140)",
         "mode": "none",
         "name": "Cameroon",
         "showlegend": false,
         "type": "scatter",
         "x": [
          "2020-03-06T00:00:00",
          "2020-05-10T00:00:00",
          "2020-05-10T00:00:00",
          "2020-03-06T00:00:00"
         ],
         "y": [
          98.8,
          98.8,
          99.2,
          99.2
         ]
        },
        {
         "fill": "toself",
         "fillcolor": "rgb(25, 73, 10)",
         "hoverinfo": "name",
         "legendgroup": "rgb(25, 73, 10)",
         "mode": "none",
         "name": "Ethiopia",
         "showlegend": false,
         "type": "scatter",
         "x": [
          "2020-03-13T00:00:00",
          "2020-05-10T00:00:00",
          "2020-05-10T00:00:00",
          "2020-03-13T00:00:00"
         ],
         "y": [
          74.8,
          74.8,
          75.2,
          75.2
         ]
        },
        {
         "fill": "toself",
         "fillcolor": "rgb(26, 133, 183)",
         "hoverinfo": "name",
         "legendgroup": "rgb(26, 133, 183)",
         "mode": "none",
         "name": "Ecuador",
         "showlegend": false,
         "type": "scatter",
         "x": [
          "2020-03-01T00:00:00",
          "2020-05-10T00:00:00",
          "2020-05-10T00:00:00",
          "2020-03-01T00:00:00"
         ],
         "y": [
          120.8,
          120.8,
          121.2,
          121.2
         ]
        },
        {
         "fill": "toself",
         "fillcolor": "rgb(26, 42, 20)",
         "hoverinfo": "name",
         "legendgroup": "rgb(26, 42, 20)",
         "mode": "none",
         "name": "Belarus",
         "showlegend": false,
         "type": "scatter",
         "x": [
          "2020-02-28T00:00:00",
          "2020-05-10T00:00:00",
          "2020-05-10T00:00:00",
          "2020-02-28T00:00:00"
         ],
         "y": [
          130.8,
          130.8,
          131.2,
          131.2
         ]
        },
        {
         "fill": "toself",
         "fillcolor": "rgb(28, 0, 26)",
         "hoverinfo": "name",
         "legendgroup": "rgb(28, 0, 26)",
         "mode": "none",
         "name": "Togo",
         "showlegend": false,
         "type": "scatter",
         "x": [
          "2020-03-06T00:00:00",
          "2020-05-10T00:00:00",
          "2020-05-10T00:00:00",
          "2020-03-06T00:00:00"
         ],
         "y": [
          101.8,
          101.8,
          102.2,
          102.2
         ]
        },
        {
         "fill": "toself",
         "fillcolor": "rgb(28, 11, 119)",
         "hoverinfo": "name",
         "legendgroup": "rgb(28, 11, 119)",
         "mode": "none",
         "name": "Mauritania",
         "showlegend": false,
         "type": "scatter",
         "x": [
          "2020-03-14T00:00:00",
          "2020-04-30T00:00:00",
          "2020-04-30T00:00:00",
          "2020-03-14T00:00:00"
         ],
         "y": [
          29.8,
          29.8,
          30.2,
          30.2
         ]
        },
        {
         "fill": "toself",
         "fillcolor": "rgb(3, 121, 119)",
         "hoverinfo": "name",
         "legendgroup": "rgb(3, 121, 119)",
         "mode": "none",
         "name": "Laos",
         "showlegend": false,
         "type": "scatter",
         "x": [
          "2020-03-24T00:00:00",
          "2020-04-13T00:00:00",
          "2020-04-13T00:00:00",
          "2020-03-24T00:00:00"
         ],
         "y": [
          5.8,
          5.8,
          6.2,
          6.2
         ]
        },
        {
         "fill": "toself",
         "fillcolor": "rgb(32, 108, 67)",
         "hoverinfo": "name",
         "legendgroup": "rgb(32, 108, 67)",
         "mode": "none",
         "name": "Taiwan*",
         "showlegend": false,
         "type": "scatter",
         "x": [
          "2020-01-22T00:00:00",
          "2020-05-08T00:00:00",
          "2020-05-08T00:00:00",
          "2020-01-22T00:00:00"
         ],
         "y": [
          178.8,
          178.8,
          179.2,
          179.2
         ]
        },
        {
         "fill": "toself",
         "fillcolor": "rgb(34, 6, 65)",
         "hoverinfo": "name",
         "legendgroup": "rgb(34, 6, 65)",
         "mode": "none",
         "name": "China",
         "showlegend": false,
         "type": "scatter",
         "x": [
          "2020-01-22T00:00:00",
          "2020-05-10T00:00:00",
          "2020-05-10T00:00:00",
          "2020-01-22T00:00:00"
         ],
         "y": [
          181.8,
          181.8,
          182.2,
          182.2
         ]
        },
        {
         "fill": "toself",
         "fillcolor": "rgb(35, 124, 100)",
         "hoverinfo": "name",
         "legendgroup": "rgb(35, 124, 100)",
         "mode": "none",
         "name": "Barbados",
         "showlegend": false,
         "type": "scatter",
         "x": [
          "2020-03-17T00:00:00",
          "2020-05-10T00:00:00",
          "2020-05-10T00:00:00",
          "2020-03-17T00:00:00"
         ],
         "y": [
          56.8,
          56.8,
          57.2,
          57.2
         ]
        },
        {
         "fill": "toself",
         "fillcolor": "rgb(36, 135, 195)",
         "hoverinfo": "name",
         "legendgroup": "rgb(36, 135, 195)",
         "mode": "none",
         "name": "Guatemala",
         "showlegend": false,
         "type": "scatter",
         "x": [
          "2020-03-14T00:00:00",
          "2020-05-10T00:00:00",
          "2020-05-10T00:00:00",
          "2020-03-14T00:00:00"
         ],
         "y": [
          67.8,
          67.8,
          68.2,
          68.2
         ]
        },
        {
         "fill": "toself",
         "fillcolor": "rgb(36, 181, 102)",
         "hoverinfo": "name",
         "legendgroup": "rgb(36, 181, 102)",
         "mode": "none",
         "name": "Sri Lanka",
         "showlegend": false,
         "type": "scatter",
         "x": [
          "2020-01-27T00:00:00",
          "2020-05-10T00:00:00",
          "2020-05-10T00:00:00",
          "2020-01-27T00:00:00"
         ],
         "y": [
          171.8,
          171.8,
          172.2,
          172.2
         ]
        },
        {
         "fill": "toself",
         "fillcolor": "rgb(36, 71, 199)",
         "hoverinfo": "name",
         "legendgroup": "rgb(36, 71, 199)",
         "mode": "none",
         "name": "Burkina Faso",
         "showlegend": false,
         "type": "scatter",
         "x": [
          "2020-03-10T00:00:00",
          "2020-05-10T00:00:00",
          "2020-05-10T00:00:00",
          "2020-03-10T00:00:00"
         ],
         "y": [
          84.8,
          84.8,
          85.2,
          85.2
         ]
        },
        {
         "fill": "toself",
         "fillcolor": "rgb(38, 103, 20)",
         "hoverinfo": "name",
         "legendgroup": "rgb(38, 103, 20)",
         "mode": "none",
         "name": "Iraq",
         "showlegend": false,
         "type": "scatter",
         "x": [
          "2020-02-24T00:00:00",
          "2020-05-10T00:00:00",
          "2020-05-10T00:00:00",
          "2020-02-24T00:00:00"
         ],
         "y": [
          154.8,
          154.8,
          155.2,
          155.2
         ]
        },
        {
         "fill": "toself",
         "fillcolor": "rgb(39, 123, 59)",
         "hoverinfo": "name",
         "legendgroup": "rgb(39, 123, 59)",
         "mode": "none",
         "name": "Ireland",
         "showlegend": false,
         "type": "scatter",
         "x": [
          "2020-02-29T00:00:00",
          "2020-05-10T00:00:00",
          "2020-05-10T00:00:00",
          "2020-02-29T00:00:00"
         ],
         "y": [
          126.8,
          126.8,
          127.2,
          127.2
         ]
        },
        {
         "fill": "toself",
         "fillcolor": "rgb(39, 43, 53)",
         "hoverinfo": "name",
         "legendgroup": "rgb(39, 43, 53)",
         "mode": "none",
         "name": "Dominican Republic",
         "showlegend": false,
         "type": "scatter",
         "x": [
          "2020-03-01T00:00:00",
          "2020-05-10T00:00:00",
          "2020-05-10T00:00:00",
          "2020-03-01T00:00:00"
         ],
         "y": [
          125.8,
          125.8,
          126.2,
          126.2
         ]
        },
        {
         "fill": "toself",
         "fillcolor": "rgb(40, 54, 181)",
         "hoverinfo": "name",
         "legendgroup": "rgb(40, 54, 181)",
         "mode": "none",
         "name": "Mauritius",
         "showlegend": false,
         "type": "scatter",
         "x": [
          "2020-03-18T00:00:00",
          "2020-04-28T00:00:00",
          "2020-04-28T00:00:00",
          "2020-03-18T00:00:00"
         ],
         "y": [
          21.8,
          21.8,
          22.2,
          22.2
         ]
        },
        {
         "fill": "toself",
         "fillcolor": "rgb(40, 6, 148)",
         "hoverinfo": "name",
         "legendgroup": "rgb(40, 6, 148)",
         "mode": "none",
         "name": "Canada",
         "showlegend": false,
         "type": "scatter",
         "x": [
          "2020-01-26T00:00:00",
          "2020-05-10T00:00:00",
          "2020-05-10T00:00:00",
          "2020-01-26T00:00:00"
         ],
         "y": [
          173.8,
          173.8,
          174.2,
          174.2
         ]
        },
        {
         "fill": "toself",
         "fillcolor": "rgb(41, 182, 3)",
         "hoverinfo": "name",
         "legendgroup": "rgb(41, 182, 3)",
         "mode": "none",
         "name": "Tajikistan",
         "showlegend": false,
         "type": "scatter",
         "x": [
          "2020-04-30T00:00:00",
          "2020-05-10T00:00:00",
          "2020-05-10T00:00:00",
          "2020-04-30T00:00:00"
         ],
         "y": [
          1.8,
          1.8,
          2.2,
          2.2
         ]
        },
        {
         "fill": "toself",
         "fillcolor": "rgb(41, 67, 108)",
         "hoverinfo": "name",
         "legendgroup": "rgb(41, 67, 108)",
         "mode": "none",
         "name": "Paraguay",
         "showlegend": false,
         "type": "scatter",
         "x": [
          "2020-03-08T00:00:00",
          "2020-05-10T00:00:00",
          "2020-05-10T00:00:00",
          "2020-03-08T00:00:00"
         ],
         "y": [
          93.8,
          93.8,
          94.2,
          94.2
         ]
        },
        {
         "fill": "toself",
         "fillcolor": "rgb(42, 133, 68)",
         "hoverinfo": "name",
         "legendgroup": "rgb(42, 133, 68)",
         "mode": "none",
         "name": "Lithuania",
         "showlegend": false,
         "type": "scatter",
         "x": [
          "2020-02-28T00:00:00",
          "2020-05-10T00:00:00",
          "2020-05-10T00:00:00",
          "2020-02-28T00:00:00"
         ],
         "y": [
          134.8,
          134.8,
          135.2,
          135.2
         ]
        },
        {
         "fill": "toself",
         "fillcolor": "rgb(42, 150, 195)",
         "hoverinfo": "name",
         "legendgroup": "rgb(42, 150, 195)",
         "mode": "none",
         "name": "Colombia",
         "showlegend": false,
         "type": "scatter",
         "x": [
          "2020-03-06T00:00:00",
          "2020-05-10T00:00:00",
          "2020-05-10T00:00:00",
          "2020-03-06T00:00:00"
         ],
         "y": [
          100.8,
          100.8,
          101.2,
          101.2
         ]
        },
        {
         "fill": "toself",
         "fillcolor": "rgb(42, 72, 129)",
         "hoverinfo": "name",
         "legendgroup": "rgb(42, 72, 129)",
         "mode": "none",
         "name": "Poland",
         "showlegend": false,
         "type": "scatter",
         "x": [
          "2020-03-04T00:00:00",
          "2020-05-10T00:00:00",
          "2020-05-10T00:00:00",
          "2020-03-04T00:00:00"
         ],
         "y": [
          106.8,
          106.8,
          107.2,
          107.2
         ]
        },
        {
         "fill": "toself",
         "fillcolor": "rgb(48, 66, 122)",
         "hoverinfo": "name",
         "legendgroup": "rgb(48, 66, 122)",
         "mode": "none",
         "name": "Timor-Leste",
         "showlegend": false,
         "type": "scatter",
         "x": [
          "2020-03-22T00:00:00",
          "2020-04-25T00:00:00",
          "2020-04-25T00:00:00",
          "2020-03-22T00:00:00"
         ],
         "y": [
          17.8,
          17.8,
          18.2,
          18.2
         ]
        },
        {
         "fill": "toself",
         "fillcolor": "rgb(49, 193, 82)",
         "hoverinfo": "name",
         "legendgroup": "rgb(49, 193, 82)",
         "mode": "none",
         "name": "Oman",
         "showlegend": false,
         "type": "scatter",
         "x": [
          "2020-02-24T00:00:00",
          "2020-05-10T00:00:00",
          "2020-05-10T00:00:00",
          "2020-02-24T00:00:00"
         ],
         "y": [
          153.8,
          153.8,
          154.2,
          154.2
         ]
        },
        {
         "fill": "toself",
         "fillcolor": "rgb(49, 96, 82)",
         "hoverinfo": "name",
         "legendgroup": "rgb(49, 96, 82)",
         "mode": "none",
         "name": "Mozambique",
         "showlegend": false,
         "type": "scatter",
         "x": [
          "2020-03-22T00:00:00",
          "2020-05-10T00:00:00",
          "2020-05-10T00:00:00",
          "2020-03-22T00:00:00"
         ],
         "y": [
          32.8,
          32.8,
          33.2,
          33.2
         ]
        },
        {
         "fill": "toself",
         "fillcolor": "rgb(5, 107, 130)",
         "hoverinfo": "name",
         "legendgroup": "rgb(5, 107, 130)",
         "mode": "none",
         "name": "Kuwait",
         "showlegend": false,
         "type": "scatter",
         "x": [
          "2020-02-24T00:00:00",
          "2020-05-10T00:00:00",
          "2020-05-10T00:00:00",
          "2020-02-24T00:00:00"
         ],
         "y": [
          151.8,
          151.8,
          152.2,
          152.2
         ]
        },
        {
         "fill": "toself",
         "fillcolor": "rgb(5, 8, 35)",
         "hoverinfo": "name",
         "legendgroup": "rgb(5, 8, 35)",
         "mode": "none",
         "name": "Romania",
         "showlegend": false,
         "type": "scatter",
         "x": [
          "2020-02-26T00:00:00",
          "2020-05-10T00:00:00",
          "2020-05-10T00:00:00",
          "2020-02-26T00:00:00"
         ],
         "y": [
          145.8,
          145.8,
          146.2,
          146.2
         ]
        },
        {
         "fill": "toself",
         "fillcolor": "rgb(50, 134, 135)",
         "hoverinfo": "name",
         "legendgroup": "rgb(50, 134, 135)",
         "mode": "none",
         "name": "India",
         "showlegend": false,
         "type": "scatter",
         "x": [
          "2020-01-30T00:00:00",
          "2020-05-10T00:00:00",
          "2020-05-10T00:00:00",
          "2020-01-30T00:00:00"
         ],
         "y": [
          166.8,
          166.8,
          167.2,
          167.2
         ]
        },
        {
         "fill": "toself",
         "fillcolor": "rgb(50, 25, 64)",
         "hoverinfo": "name",
         "legendgroup": "rgb(50, 25, 64)",
         "mode": "none",
         "name": "Estonia",
         "showlegend": false,
         "type": "scatter",
         "x": [
          "2020-02-27T00:00:00",
          "2020-05-10T00:00:00",
          "2020-05-10T00:00:00",
          "2020-02-27T00:00:00"
         ],
         "y": [
          136.8,
          136.8,
          137.2,
          137.2
         ]
        },
        {
         "fill": "toself",
         "fillcolor": "rgb(52, 137, 151)",
         "hoverinfo": "name",
         "legendgroup": "rgb(52, 137, 151)",
         "mode": "none",
         "name": "Botswana",
         "showlegend": false,
         "type": "scatter",
         "x": [
          "2020-03-30T00:00:00",
          "2020-04-29T00:00:00",
          "2020-04-29T00:00:00",
          "2020-03-30T00:00:00"
         ],
         "y": [
          12.8,
          12.8,
          13.2,
          13.2
         ]
        },
        {
         "fill": "toself",
         "fillcolor": "rgb(56, 155, 27)",
         "hoverinfo": "name",
         "legendgroup": "rgb(56, 155, 27)",
         "mode": "none",
         "name": "Papua New Guinea",
         "showlegend": false,
         "type": "scatter",
         "x": [
          "2020-03-20T00:00:00",
          "2020-04-23T00:00:00",
          "2020-04-23T00:00:00",
          "2020-03-20T00:00:00"
         ],
         "y": [
          16.8,
          16.8,
          17.2,
          17.2
         ]
        },
        {
         "fill": "toself",
         "fillcolor": "rgb(56, 18, 85)",
         "hoverinfo": "name",
         "legendgroup": "rgb(56, 18, 85)",
         "mode": "none",
         "name": "Sweden",
         "showlegend": false,
         "type": "scatter",
         "x": [
          "2020-01-31T00:00:00",
          "2020-05-10T00:00:00",
          "2020-05-10T00:00:00",
          "2020-01-31T00:00:00"
         ],
         "y": [
          162.8,
          162.8,
          163.2,
          163.2
         ]
        },
        {
         "fill": "toself",
         "fillcolor": "rgb(56, 184, 89)",
         "hoverinfo": "name",
         "legendgroup": "rgb(56, 184, 89)",
         "mode": "none",
         "name": "Czechia",
         "showlegend": false,
         "type": "scatter",
         "x": [
          "2020-03-01T00:00:00",
          "2020-05-10T00:00:00",
          "2020-05-10T00:00:00",
          "2020-03-01T00:00:00"
         ],
         "y": [
          124.8,
          124.8,
          125.2,
          125.2
         ]
        },
        {
         "fill": "toself",
         "fillcolor": "rgb(56, 204, 171)",
         "hoverinfo": "name",
         "legendgroup": "rgb(56, 204, 171)",
         "mode": "none",
         "name": "Spain",
         "showlegend": false,
         "type": "scatter",
         "x": [
          "2020-02-01T00:00:00",
          "2020-05-10T00:00:00",
          "2020-05-10T00:00:00",
          "2020-02-01T00:00:00"
         ],
         "y": [
          161.8,
          161.8,
          162.2,
          162.2
         ]
        },
        {
         "fill": "toself",
         "fillcolor": "rgb(57, 112, 71)",
         "hoverinfo": "name",
         "legendgroup": "rgb(57, 112, 71)",
         "mode": "none",
         "name": "Montenegro",
         "showlegend": false,
         "type": "scatter",
         "x": [
          "2020-03-17T00:00:00",
          "2020-05-06T00:00:00",
          "2020-05-06T00:00:00",
          "2020-03-17T00:00:00"
         ],
         "y": [
          38.8,
          38.8,
          39.2,
          39.2
         ]
        },
        {
         "fill": "toself",
         "fillcolor": "rgb(57, 17, 56)",
         "hoverinfo": "name",
         "legendgroup": "rgb(57, 17, 56)",
         "mode": "none",
         "name": "Libya",
         "showlegend": false,
         "type": "scatter",
         "x": [
          "2020-03-24T00:00:00",
          "2020-05-07T00:00:00",
          "2020-05-07T00:00:00",
          "2020-03-24T00:00:00"
         ],
         "y": [
          23.8,
          23.8,
          24.2,
          24.2
         ]
        },
        {
         "fill": "toself",
         "fillcolor": "rgb(57, 184, 131)",
         "hoverinfo": "name",
         "legendgroup": "rgb(57, 184, 131)",
         "mode": "none",
         "name": "Italy",
         "showlegend": false,
         "type": "scatter",
         "x": [
          "2020-01-31T00:00:00",
          "2020-05-10T00:00:00",
          "2020-05-10T00:00:00",
          "2020-01-31T00:00:00"
         ],
         "y": [
          165.8,
          165.8,
          166.2,
          166.2
         ]
        },
        {
         "fill": "toself",
         "fillcolor": "rgb(59, 74, 121)",
         "hoverinfo": "name",
         "legendgroup": "rgb(59, 74, 121)",
         "mode": "none",
         "name": "Nepal",
         "showlegend": false,
         "type": "scatter",
         "x": [
          "2020-01-25T00:00:00",
          "2020-05-10T00:00:00",
          "2020-05-10T00:00:00",
          "2020-01-25T00:00:00"
         ],
         "y": [
          175.8,
          175.8,
          176.2,
          176.2
         ]
        },
        {
         "fill": "toself",
         "fillcolor": "rgb(60, 20, 80)",
         "hoverinfo": "name",
         "legendgroup": "rgb(60, 20, 80)",
         "mode": "none",
         "name": "Saint Lucia",
         "showlegend": false,
         "type": "scatter",
         "x": [
          "2020-03-14T00:00:00",
          "2020-05-04T00:00:00",
          "2020-05-04T00:00:00",
          "2020-03-14T00:00:00"
         ],
         "y": [
          41.8,
          41.8,
          42.2,
          42.2
         ]
        },
        {
         "fill": "toself",
         "fillcolor": "rgb(65, 137, 187)",
         "hoverinfo": "name",
         "legendgroup": "rgb(65, 137, 187)",
         "mode": "none",
         "name": "Kosovo",
         "showlegend": false,
         "type": "scatter",
         "x": [
          "2020-03-26T00:00:00",
          "2020-05-10T00:00:00",
          "2020-05-10T00:00:00",
          "2020-03-26T00:00:00"
         ],
         "y": [
          25.8,
          25.8,
          26.2,
          26.2
         ]
        },
        {
         "fill": "toself",
         "fillcolor": "rgb(67, 108, 144)",
         "hoverinfo": "name",
         "legendgroup": "rgb(67, 108, 144)",
         "mode": "none",
         "name": "Croatia",
         "showlegend": false,
         "type": "scatter",
         "x": [
          "2020-02-25T00:00:00",
          "2020-05-10T00:00:00",
          "2020-05-10T00:00:00",
          "2020-02-25T00:00:00"
         ],
         "y": [
          149.8,
          149.8,
          150.2,
          150.2
         ]
        },
        {
         "fill": "toself",
         "fillcolor": "rgb(68, 3, 162)",
         "hoverinfo": "name",
         "legendgroup": "rgb(68, 3, 162)",
         "mode": "none",
         "name": "Burundi",
         "showlegend": false,
         "type": "scatter",
         "x": [
          "2020-03-31T00:00:00",
          "2020-05-03T00:00:00",
          "2020-05-03T00:00:00",
          "2020-03-31T00:00:00"
         ],
         "y": [
          14.8,
          14.8,
          15.2,
          15.2
         ]
        },
        {
         "fill": "toself",
         "fillcolor": "rgb(70, 153, 59)",
         "hoverinfo": "name",
         "legendgroup": "rgb(70, 153, 59)",
         "mode": "none",
         "name": "South Korea",
         "showlegend": false,
         "type": "scatter",
         "x": [
          "2020-01-22T00:00:00",
          "2020-05-10T00:00:00",
          "2020-05-10T00:00:00",
          "2020-01-22T00:00:00"
         ],
         "y": [
          183.8,
          183.8,
          184.2,
          184.2
         ]
        },
        {
         "fill": "toself",
         "fillcolor": "rgb(70, 179, 28)",
         "hoverinfo": "name",
         "legendgroup": "rgb(70, 179, 28)",
         "mode": "none",
         "name": "Costa Rica",
         "showlegend": false,
         "type": "scatter",
         "x": [
          "2020-03-06T00:00:00",
          "2020-05-10T00:00:00",
          "2020-05-10T00:00:00",
          "2020-03-06T00:00:00"
         ],
         "y": [
          97.8,
          97.8,
          98.2,
          98.2
         ]
        },
        {
         "fill": "toself",
         "fillcolor": "rgb(71, 84, 113)",
         "hoverinfo": "name",
         "legendgroup": "rgb(71, 84, 113)",
         "mode": "none",
         "name": "Congo (Kinshasa)",
         "showlegend": false,
         "type": "scatter",
         "x": [
          "2020-03-11T00:00:00",
          "2020-05-09T00:00:00",
          "2020-05-09T00:00:00",
          "2020-03-11T00:00:00"
         ],
         "y": [
          77.8,
          77.8,
          78.2,
          78.2
         ]
        },
        {
         "fill": "toself",
         "fillcolor": "rgb(72, 119, 39)",
         "hoverinfo": "name",
         "legendgroup": "rgb(72, 119, 39)",
         "mode": "none",
         "name": "Norway",
         "showlegend": false,
         "type": "scatter",
         "x": [
          "2020-02-26T00:00:00",
          "2020-05-10T00:00:00",
          "2020-05-10T00:00:00",
          "2020-02-26T00:00:00"
         ],
         "y": [
          142.8,
          142.8,
          143.2,
          143.2
         ]
        },
        {
         "fill": "toself",
         "fillcolor": "rgb(74, 134, 116)",
         "hoverinfo": "name",
         "legendgroup": "rgb(74, 134, 116)",
         "mode": "none",
         "name": "Cyprus",
         "showlegend": false,
         "type": "scatter",
         "x": [
          "2020-03-09T00:00:00",
          "2020-05-10T00:00:00",
          "2020-05-10T00:00:00",
          "2020-03-09T00:00:00"
         ],
         "y": [
          87.8,
          87.8,
          88.2,
          88.2
         ]
        },
        {
         "fill": "toself",
         "fillcolor": "rgb(74, 153, 23)",
         "hoverinfo": "name",
         "legendgroup": "rgb(74, 153, 23)",
         "mode": "none",
         "name": "Algeria",
         "showlegend": false,
         "type": "scatter",
         "x": [
          "2020-02-25T00:00:00",
          "2020-05-10T00:00:00",
          "2020-05-10T00:00:00",
          "2020-02-25T00:00:00"
         ],
         "y": [
          148.8,
          148.8,
          149.2,
          149.2
         ]
        },
        {
         "fill": "toself",
         "fillcolor": "rgb(74, 169, 186)",
         "hoverinfo": "name",
         "legendgroup": "rgb(74, 169, 186)",
         "mode": "none",
         "name": "Central African Republic",
         "showlegend": false,
         "type": "scatter",
         "x": [
          "2020-03-15T00:00:00",
          "2020-05-09T00:00:00",
          "2020-05-09T00:00:00",
          "2020-03-15T00:00:00"
         ],
         "y": [
          60.8,
          60.8,
          61.2,
          61.2
         ]
        },
        {
         "fill": "toself",
         "fillcolor": "rgb(74, 75, 197)",
         "hoverinfo": "name",
         "legendgroup": "rgb(74, 75, 197)",
         "mode": "none",
         "name": "Honduras",
         "showlegend": false,
         "type": "scatter",
         "x": [
          "2020-03-11T00:00:00",
          "2020-05-10T00:00:00",
          "2020-05-10T00:00:00",
          "2020-03-11T00:00:00"
         ],
         "y": [
          82.8,
          82.8,
          83.2,
          83.2
         ]
        },
        {
         "fill": "toself",
         "fillcolor": "rgb(75, 67, 0)",
         "hoverinfo": "name",
         "legendgroup": "rgb(75, 67, 0)",
         "mode": "none",
         "name": "Ukraine",
         "showlegend": false,
         "type": "scatter",
         "x": [
          "2020-03-03T00:00:00",
          "2020-05-10T00:00:00",
          "2020-05-10T00:00:00",
          "2020-03-03T00:00:00"
         ],
         "y": [
          112.8,
          112.8,
          113.2,
          113.2
         ]
        },
        {
         "fill": "toself",
         "fillcolor": "rgb(75, 96, 149)",
         "hoverinfo": "name",
         "legendgroup": "rgb(75, 96, 149)",
         "mode": "none",
         "name": "Cuba",
         "showlegend": false,
         "type": "scatter",
         "x": [
          "2020-03-12T00:00:00",
          "2020-05-10T00:00:00",
          "2020-05-10T00:00:00",
          "2020-03-12T00:00:00"
         ],
         "y": [
          76.8,
          76.8,
          77.2,
          77.2
         ]
        },
        {
         "fill": "toself",
         "fillcolor": "rgb(8, 148, 108)",
         "hoverinfo": "name",
         "legendgroup": "rgb(8, 148, 108)",
         "mode": "none",
         "name": "US",
         "showlegend": false,
         "type": "scatter",
         "x": [
          "2020-01-22T00:00:00",
          "2020-05-10T00:00:00",
          "2020-05-10T00:00:00",
          "2020-01-22T00:00:00"
         ],
         "y": [
          184.8,
          184.8,
          185.2,
          185.2
         ]
        },
        {
         "fill": "toself",
         "fillcolor": "rgb(8, 50, 163)",
         "hoverinfo": "name",
         "legendgroup": "rgb(8, 50, 163)",
         "mode": "none",
         "name": "Armenia",
         "showlegend": false,
         "type": "scatter",
         "x": [
          "2020-03-01T00:00:00",
          "2020-05-10T00:00:00",
          "2020-05-10T00:00:00",
          "2020-03-01T00:00:00"
         ],
         "y": [
          122.8,
          122.8,
          123.2,
          123.2
         ]
        },
        {
         "fill": "toself",
         "fillcolor": "rgb(8, 86, 59)",
         "hoverinfo": "name",
         "legendgroup": "rgb(8, 86, 59)",
         "mode": "none",
         "name": "Sierra Leone",
         "showlegend": false,
         "type": "scatter",
         "x": [
          "2020-03-31T00:00:00",
          "2020-05-10T00:00:00",
          "2020-05-10T00:00:00",
          "2020-03-31T00:00:00"
         ],
         "y": [
          20.8,
          20.8,
          21.2,
          21.2
         ]
        },
        {
         "fill": "toself",
         "fillcolor": "rgb(80, 36, 112)",
         "hoverinfo": "name",
         "legendgroup": "rgb(80, 36, 112)",
         "mode": "none",
         "name": "Maldives",
         "showlegend": false,
         "type": "scatter",
         "x": [
          "2020-03-08T00:00:00",
          "2020-05-10T00:00:00",
          "2020-05-10T00:00:00",
          "2020-03-08T00:00:00"
         ],
         "y": [
          90.8,
          90.8,
          91.2,
          91.2
         ]
        },
        {
         "fill": "toself",
         "fillcolor": "rgb(81, 155, 75)",
         "hoverinfo": "name",
         "legendgroup": "rgb(81, 155, 75)",
         "mode": "none",
         "name": "Jordan",
         "showlegend": false,
         "type": "scatter",
         "x": [
          "2020-03-03T00:00:00",
          "2020-05-10T00:00:00",
          "2020-05-10T00:00:00",
          "2020-03-03T00:00:00"
         ],
         "y": [
          111.8,
          111.8,
          112.2,
          112.2
         ]
        },
        {
         "fill": "toself",
         "fillcolor": "rgb(81, 91, 160)",
         "hoverinfo": "name",
         "legendgroup": "rgb(81, 91, 160)",
         "mode": "none",
         "name": "El Salvador",
         "showlegend": false,
         "type": "scatter",
         "x": [
          "2020-03-19T00:00:00",
          "2020-05-10T00:00:00",
          "2020-05-10T00:00:00",
          "2020-03-19T00:00:00"
         ],
         "y": [
          47.8,
          47.8,
          48.2,
          48.2
         ]
        },
        {
         "fill": "toself",
         "fillcolor": "rgb(83, 119, 171)",
         "hoverinfo": "name",
         "legendgroup": "rgb(83, 119, 171)",
         "mode": "none",
         "name": "Brunei",
         "showlegend": false,
         "type": "scatter",
         "x": [
          "2020-03-09T00:00:00",
          "2020-05-08T00:00:00",
          "2020-05-08T00:00:00",
          "2020-03-09T00:00:00"
         ],
         "y": [
          80.8,
          80.8,
          81.2,
          81.2
         ]
        },
        {
         "fill": "toself",
         "fillcolor": "rgb(83, 121, 183)",
         "hoverinfo": "name",
         "legendgroup": "rgb(83, 121, 183)",
         "mode": "none",
         "name": "France",
         "showlegend": false,
         "type": "scatter",
         "x": [
          "2020-01-24T00:00:00",
          "2020-05-10T00:00:00",
          "2020-05-10T00:00:00",
          "2020-01-24T00:00:00"
         ],
         "y": [
          177.8,
          177.8,
          178.2,
          178.2
         ]
        },
        {
         "fill": "toself",
         "fillcolor": "rgb(83, 192, 76)",
         "hoverinfo": "name",
         "legendgroup": "rgb(83, 192, 76)",
         "mode": "none",
         "name": "Mongolia",
         "showlegend": false,
         "type": "scatter",
         "x": [
          "2020-03-10T00:00:00",
          "2020-05-09T00:00:00",
          "2020-05-09T00:00:00",
          "2020-03-10T00:00:00"
         ],
         "y": [
          83.8,
          83.8,
          84.2,
          84.2
         ]
        },
        {
         "fill": "toself",
         "fillcolor": "rgb(85, 6, 118)",
         "hoverinfo": "name",
         "legendgroup": "rgb(85, 6, 118)",
         "mode": "none",
         "name": "Albania",
         "showlegend": false,
         "type": "scatter",
         "x": [
          "2020-03-09T00:00:00",
          "2020-05-10T00:00:00",
          "2020-05-10T00:00:00",
          "2020-03-09T00:00:00"
         ],
         "y": [
          88.8,
          88.8,
          89.2,
          89.2
         ]
        },
        {
         "fill": "toself",
         "fillcolor": "rgb(86, 123, 17)",
         "hoverinfo": "name",
         "legendgroup": "rgb(86, 123, 17)",
         "mode": "none",
         "name": "Yemen",
         "showlegend": false,
         "type": "scatter",
         "x": [
          "2020-04-10T00:00:00",
          "2020-05-09T00:00:00",
          "2020-05-09T00:00:00",
          "2020-04-10T00:00:00"
         ],
         "y": [
          11.8,
          11.8,
          12.2,
          12.2
         ]
        },
        {
         "fill": "toself",
         "fillcolor": "rgb(86, 59, 181)",
         "hoverinfo": "name",
         "legendgroup": "rgb(86, 59, 181)",
         "mode": "none",
         "name": "Equatorial Guinea",
         "showlegend": false,
         "type": "scatter",
         "x": [
          "2020-03-15T00:00:00",
          "2020-05-07T00:00:00",
          "2020-05-07T00:00:00",
          "2020-03-15T00:00:00"
         ],
         "y": [
          52.8,
          52.8,
          53.2,
          53.2
         ]
        },
        {
         "fill": "toself",
         "fillcolor": "rgb(87, 23, 152)",
         "hoverinfo": "name",
         "legendgroup": "rgb(87, 23, 152)",
         "mode": "none",
         "name": "Bangladesh",
         "showlegend": false,
         "type": "scatter",
         "x": [
          "2020-03-08T00:00:00",
          "2020-05-10T00:00:00",
          "2020-05-10T00:00:00",
          "2020-03-08T00:00:00"
         ],
         "y": [
          92.8,
          92.8,
          93.2,
          93.2
         ]
        },
        {
         "fill": "toself",
         "fillcolor": "rgb(88, 117, 146)",
         "hoverinfo": "name",
         "legendgroup": "rgb(88, 117, 146)",
         "mode": "none",
         "name": "Luxembourg",
         "showlegend": false,
         "type": "scatter",
         "x": [
          "2020-02-29T00:00:00",
          "2020-05-10T00:00:00",
          "2020-05-10T00:00:00",
          "2020-02-29T00:00:00"
         ],
         "y": [
          129.8,
          129.8,
          130.2,
          130.2
         ]
        },
        {
         "fill": "toself",
         "fillcolor": "rgb(88, 33, 36)",
         "hoverinfo": "name",
         "legendgroup": "rgb(88, 33, 36)",
         "mode": "none",
         "name": "Nicaragua",
         "showlegend": false,
         "type": "scatter",
         "x": [
          "2020-03-19T00:00:00",
          "2020-05-06T00:00:00",
          "2020-05-06T00:00:00",
          "2020-03-19T00:00:00"
         ],
         "y": [
          30.8,
          30.8,
          31.2,
          31.2
         ]
        },
        {
         "fill": "toself",
         "fillcolor": "rgb(88, 41, 37)",
         "hoverinfo": "name",
         "legendgroup": "rgb(88, 41, 37)",
         "mode": "none",
         "name": "Bhutan",
         "showlegend": false,
         "type": "scatter",
         "x": [
          "2020-03-06T00:00:00",
          "2020-04-24T00:00:00",
          "2020-04-24T00:00:00",
          "2020-03-06T00:00:00"
         ],
         "y": [
          33.8,
          33.8,
          34.2,
          34.2
         ]
        },
        {
         "fill": "toself",
         "fillcolor": "rgb(90, 140, 85)",
         "hoverinfo": "name",
         "legendgroup": "rgb(90, 140, 85)",
         "mode": "none",
         "name": "Saint Kitts and Nevis",
         "showlegend": false,
         "type": "scatter",
         "x": [
          "2020-03-25T00:00:00",
          "2020-04-21T00:00:00",
          "2020-04-21T00:00:00",
          "2020-03-25T00:00:00"
         ],
         "y": [
          9.8,
          9.8,
          10.2,
          10.2
         ]
        },
        {
         "fill": "toself",
         "fillcolor": "rgb(90, 60, 85)",
         "hoverinfo": "name",
         "legendgroup": "rgb(90, 60, 85)",
         "mode": "none",
         "name": "Serbia",
         "showlegend": false,
         "type": "scatter",
         "x": [
          "2020-03-06T00:00:00",
          "2020-05-10T00:00:00",
          "2020-05-10T00:00:00",
          "2020-03-06T00:00:00"
         ],
         "y": [
          99.8,
          99.8,
          100.2,
          100.2
         ]
        },
        {
         "fill": "toself",
         "fillcolor": "rgb(91, 179, 112)",
         "hoverinfo": "name",
         "legendgroup": "rgb(91, 179, 112)",
         "mode": "none",
         "name": "Uzbekistan",
         "showlegend": false,
         "type": "scatter",
         "x": [
          "2020-03-15T00:00:00",
          "2020-05-10T00:00:00",
          "2020-05-10T00:00:00",
          "2020-03-15T00:00:00"
         ],
         "y": [
          61.8,
          61.8,
          62.2,
          62.2
         ]
        },
        {
         "fill": "toself",
         "fillcolor": "rgb(96, 119, 152)",
         "hoverinfo": "name",
         "legendgroup": "rgb(96, 119, 152)",
         "mode": "none",
         "name": "Finland",
         "showlegend": false,
         "type": "scatter",
         "x": [
          "2020-01-29T00:00:00",
          "2020-05-10T00:00:00",
          "2020-05-10T00:00:00",
          "2020-01-29T00:00:00"
         ],
         "y": [
          169.8,
          169.8,
          170.2,
          170.2
         ]
        },
        {
         "fill": "toself",
         "fillcolor": "rgb(96, 82, 161)",
         "hoverinfo": "name",
         "legendgroup": "rgb(96, 82, 161)",
         "mode": "none",
         "name": "Fiji",
         "showlegend": false,
         "type": "scatter",
         "x": [
          "2020-03-19T00:00:00",
          "2020-04-21T00:00:00",
          "2020-04-21T00:00:00",
          "2020-03-19T00:00:00"
         ],
         "y": [
          13.8,
          13.8,
          14.2,
          14.2
         ]
        },
        {
         "fill": "toself",
         "fillcolor": "rgb(97, 54, 147)",
         "hoverinfo": "name",
         "legendgroup": "rgb(97, 54, 147)",
         "mode": "none",
         "name": "Seychelles",
         "showlegend": false,
         "type": "scatter",
         "x": [
          "2020-03-14T00:00:00",
          "2020-04-07T00:00:00",
          "2020-04-07T00:00:00",
          "2020-03-14T00:00:00"
         ],
         "y": [
          8.8,
          8.8,
          9.2,
          9.2
         ]
        },
        {
         "fill": "toself",
         "fillcolor": "rgb(98, 149, 121)",
         "hoverinfo": "name",
         "legendgroup": "rgb(98, 149, 121)",
         "mode": "none",
         "name": "Cambodia",
         "showlegend": false,
         "type": "scatter",
         "x": [
          "2020-01-27T00:00:00",
          "2020-04-13T00:00:00",
          "2020-04-13T00:00:00",
          "2020-01-27T00:00:00"
         ],
         "y": [
          155.8,
          155.8,
          156.2,
          156.2
         ]
        },
        {
         "fill": "toself",
         "fillcolor": "rgb(98, 28, 48)",
         "hoverinfo": "name",
         "legendgroup": "rgb(98, 28, 48)",
         "mode": "none",
         "name": "Malawi",
         "showlegend": false,
         "type": "scatter",
         "x": [
          "2020-04-02T00:00:00",
          "2020-05-10T00:00:00",
          "2020-05-10T00:00:00",
          "2020-04-02T00:00:00"
         ],
         "y": [
          19.8,
          19.8,
          20.2,
          20.2
         ]
        },
        {
         "fill": "toself",
         "fillcolor": "rgb(98, 37, 152)",
         "hoverinfo": "name",
         "legendgroup": "rgb(98, 37, 152)",
         "mode": "none",
         "name": "Guinea",
         "showlegend": false,
         "type": "scatter",
         "x": [
          "2020-03-13T00:00:00",
          "2020-05-10T00:00:00",
          "2020-05-10T00:00:00",
          "2020-03-13T00:00:00"
         ],
         "y": [
          71.8,
          71.8,
          72.2,
          72.2
         ]
        },
        {
         "fill": "toself",
         "fillcolor": "rgb(99, 116, 171)",
         "hoverinfo": "name",
         "legendgroup": "rgb(99, 116, 171)",
         "mode": "none",
         "name": "Indonesia",
         "showlegend": false,
         "type": "scatter",
         "x": [
          "2020-03-02T00:00:00",
          "2020-05-10T00:00:00",
          "2020-05-10T00:00:00",
          "2020-03-02T00:00:00"
         ],
         "y": [
          118.8,
          118.8,
          119.2,
          119.2
         ]
        },
        {
         "fill": "toself",
         "fillcolor": "rgb(99, 176, 113)",
         "hoverinfo": "name",
         "legendgroup": "rgb(99, 176, 113)",
         "mode": "none",
         "name": "Slovakia",
         "showlegend": false,
         "type": "scatter",
         "x": [
          "2020-03-06T00:00:00",
          "2020-05-09T00:00:00",
          "2020-05-09T00:00:00",
          "2020-03-06T00:00:00"
         ],
         "y": [
          96.8,
          96.8,
          97.2,
          97.2
         ]
        },
        {
         "legendgroup": "rgb(0, 74, 66)",
         "marker": {
          "color": "rgb(0, 74, 66)",
          "opacity": 0,
          "size": 1
         },
         "mode": "markers",
         "name": "",
         "showlegend": false,
         "text": [
          null,
          null
         ],
         "type": "scatter",
         "x": [
          "2020-03-16T00:00:00",
          "2020-05-10T00:00:00"
         ],
         "y": [
          58,
          58
         ]
        },
        {
         "legendgroup": "rgb(1, 170, 33)",
         "marker": {
          "color": "rgb(1, 170, 33)",
          "opacity": 0,
          "size": 1
         },
         "mode": "markers",
         "name": "",
         "showlegend": false,
         "text": [
          null,
          null
         ],
         "type": "scatter",
         "x": [
          "2020-02-26T00:00:00",
          "2020-05-10T00:00:00"
         ],
         "y": [
          142,
          142
         ]
        },
        {
         "legendgroup": "rgb(1, 66, 33)",
         "marker": {
          "color": "rgb(1, 66, 33)",
          "opacity": 0,
          "size": 1
         },
         "mode": "markers",
         "name": "",
         "showlegend": false,
         "text": [
          null,
          null
         ],
         "type": "scatter",
         "x": [
          "2020-02-24T00:00:00",
          "2020-05-10T00:00:00"
         ],
         "y": [
          153,
          153
         ]
        },
        {
         "legendgroup": "rgb(100, 137, 21)",
         "marker": {
          "color": "rgb(100, 137, 21)",
          "opacity": 0,
          "size": 1
         },
         "mode": "markers",
         "name": "",
         "showlegend": false,
         "text": [
          null,
          null
         ],
         "type": "scatter",
         "x": [
          "2020-02-24T00:00:00",
          "2020-05-10T00:00:00"
         ],
         "y": [
          151,
          151
         ]
        },
        {
         "legendgroup": "rgb(102, 139, 60)",
         "marker": {
          "color": "rgb(102, 139, 60)",
          "opacity": 0,
          "size": 1
         },
         "mode": "markers",
         "name": "",
         "showlegend": false,
         "text": [
          null,
          null
         ],
         "type": "scatter",
         "x": [
          "2020-03-19T00:00:00",
          "2020-05-10T00:00:00"
         ],
         "y": [
          46,
          46
         ]
        },
        {
         "legendgroup": "rgb(102, 151, 128)",
         "marker": {
          "color": "rgb(102, 151, 128)",
          "opacity": 0,
          "size": 1
         },
         "mode": "markers",
         "name": "",
         "showlegend": false,
         "text": [
          null,
          null
         ],
         "type": "scatter",
         "x": [
          "2020-04-06T00:00:00",
          "2020-05-09T00:00:00"
         ],
         "y": [
          16,
          16
         ]
        },
        {
         "legendgroup": "rgb(103, 100, 84)",
         "marker": {
          "color": "rgb(103, 100, 84)",
          "opacity": 0,
          "size": 1
         },
         "mode": "markers",
         "name": "",
         "showlegend": false,
         "text": [
          null,
          null
         ],
         "type": "scatter",
         "x": [
          "2020-03-27T00:00:00",
          "2020-05-10T00:00:00"
         ],
         "y": [
          25,
          25
         ]
        },
        {
         "legendgroup": "rgb(103, 5, 6)",
         "marker": {
          "color": "rgb(103, 5, 6)",
          "opacity": 0,
          "size": 1
         },
         "mode": "markers",
         "name": "",
         "showlegend": false,
         "text": [
          null,
          null
         ],
         "type": "scatter",
         "x": [
          "2020-03-02T00:00:00",
          "2020-05-10T00:00:00"
         ],
         "y": [
          117,
          117
         ]
        },
        {
         "legendgroup": "rgb(103, 83, 163)",
         "marker": {
          "color": "rgb(103, 83, 163)",
          "opacity": 0,
          "size": 1
         },
         "mode": "markers",
         "name": "",
         "showlegend": false,
         "text": [
          null,
          null
         ],
         "type": "scatter",
         "x": [
          "2020-03-02T00:00:00",
          "2020-05-10T00:00:00"
         ],
         "y": [
          120,
          120
         ]
        },
        {
         "legendgroup": "rgb(104, 73, 90)",
         "marker": {
          "color": "rgb(104, 73, 90)",
          "opacity": 0,
          "size": 1
         },
         "mode": "markers",
         "name": "",
         "showlegend": false,
         "text": [
          null,
          null
         ],
         "type": "scatter",
         "x": [
          "2020-03-05T00:00:00",
          "2020-05-10T00:00:00"
         ],
         "y": [
          104,
          104
         ]
        },
        {
         "legendgroup": "rgb(106, 70, 160)",
         "marker": {
          "color": "rgb(106, 70, 160)",
          "opacity": 0,
          "size": 1
         },
         "mode": "markers",
         "name": "",
         "showlegend": false,
         "text": [
          null,
          null
         ],
         "type": "scatter",
         "x": [
          "2020-03-14T00:00:00",
          "2020-04-06T00:00:00"
         ],
         "y": [
          8,
          8
         ]
        },
        {
         "legendgroup": "rgb(106, 84, 73)",
         "marker": {
          "color": "rgb(106, 84, 73)",
          "opacity": 0,
          "size": 1
         },
         "mode": "markers",
         "name": "",
         "showlegend": false,
         "text": [
          null,
          null
         ],
         "type": "scatter",
         "x": [
          "2020-02-28T00:00:00",
          "2020-05-08T00:00:00"
         ],
         "y": [
          122,
          122
         ]
        },
        {
         "legendgroup": "rgb(107, 160, 147)",
         "marker": {
          "color": "rgb(107, 160, 147)",
          "opacity": 0,
          "size": 1
         },
         "mode": "markers",
         "name": "",
         "showlegend": false,
         "text": [
          null,
          null
         ],
         "type": "scatter",
         "x": [
          "2020-03-17T00:00:00",
          "2020-05-09T00:00:00"
         ],
         "y": [
          52,
          52
         ]
        },
        {
         "legendgroup": "rgb(108, 182, 153)",
         "marker": {
          "color": "rgb(108, 182, 153)",
          "opacity": 0,
          "size": 1
         },
         "mode": "markers",
         "name": "",
         "showlegend": false,
         "text": [
          null,
          null
         ],
         "type": "scatter",
         "x": [
          "2020-03-22T00:00:00",
          "2020-05-09T00:00:00"
         ],
         "y": [
          32,
          32
         ]
        },
        {
         "legendgroup": "rgb(11, 91, 87)",
         "marker": {
          "color": "rgb(11, 91, 87)",
          "opacity": 0,
          "size": 1
         },
         "mode": "markers",
         "name": "",
         "showlegend": false,
         "text": [
          null,
          null
         ],
         "type": "scatter",
         "x": [
          "2020-03-07T00:00:00",
          "2020-05-10T00:00:00"
         ],
         "y": [
          95,
          95
         ]
        },
        {
         "legendgroup": "rgb(112, 38, 74)",
         "marker": {
          "color": "rgb(112, 38, 74)",
          "opacity": 0,
          "size": 1
         },
         "mode": "markers",
         "name": "",
         "showlegend": false,
         "text": [
          null,
          null
         ],
         "type": "scatter",
         "x": [
          "2020-03-18T00:00:00",
          "2020-05-10T00:00:00"
         ],
         "y": [
          50,
          50
         ]
        },
        {
         "legendgroup": "rgb(113, 114, 5)",
         "marker": {
          "color": "rgb(113, 114, 5)",
          "opacity": 0,
          "size": 1
         },
         "mode": "markers",
         "name": "",
         "showlegend": false,
         "text": [
          null,
          null
         ],
         "type": "scatter",
         "x": [
          "2020-03-20T00:00:00",
          "2020-05-10T00:00:00"
         ],
         "y": [
          44,
          44
         ]
        },
        {
         "legendgroup": "rgb(116, 136, 87)",
         "marker": {
          "color": "rgb(116, 136, 87)",
          "opacity": 0,
          "size": 1
         },
         "mode": "markers",
         "name": "",
         "showlegend": false,
         "text": [
          null,
          null
         ],
         "type": "scatter",
         "x": [
          "2020-03-22T00:00:00",
          "2020-05-03T00:00:00"
         ],
         "y": [
          23,
          23
         ]
        },
        {
         "legendgroup": "rgb(117, 83, 180)",
         "marker": {
          "color": "rgb(117, 83, 180)",
          "opacity": 0,
          "size": 1
         },
         "mode": "markers",
         "name": "",
         "showlegend": false,
         "text": [
          null,
          null
         ],
         "type": "scatter",
         "x": [
          "2020-03-18T00:00:00",
          "2020-05-10T00:00:00"
         ],
         "y": [
          49,
          49
         ]
        },
        {
         "legendgroup": "rgb(119, 181, 91)",
         "marker": {
          "color": "rgb(119, 181, 91)",
          "opacity": 0,
          "size": 1
         },
         "mode": "markers",
         "name": "",
         "showlegend": false,
         "text": [
          null,
          null
         ],
         "type": "scatter",
         "x": [
          "2020-01-23T00:00:00",
          "2020-05-08T00:00:00"
         ],
         "y": [
          177,
          177
         ]
        },
        {
         "legendgroup": "rgb(120, 81, 66)",
         "marker": {
          "color": "rgb(120, 81, 66)",
          "opacity": 0,
          "size": 1
         },
         "mode": "markers",
         "name": "",
         "showlegend": false,
         "text": [
          null,
          null
         ],
         "type": "scatter",
         "x": [
          "2020-03-14T00:00:00",
          "2020-04-28T00:00:00"
         ],
         "y": [
          27,
          27
         ]
        },
        {
         "legendgroup": "rgb(121, 193, 146)",
         "marker": {
          "color": "rgb(121, 193, 146)",
          "opacity": 0,
          "size": 1
         },
         "mode": "markers",
         "name": "",
         "showlegend": false,
         "text": [
          null,
          null
         ],
         "type": "scatter",
         "x": [
          "2020-02-26T00:00:00",
          "2020-05-10T00:00:00"
         ],
         "y": [
          145,
          145
         ]
        },
        {
         "legendgroup": "rgb(122, 179, 177)",
         "marker": {
          "color": "rgb(122, 179, 177)",
          "opacity": 0,
          "size": 1
         },
         "mode": "markers",
         "name": "",
         "showlegend": false,
         "text": [
          null,
          null
         ],
         "type": "scatter",
         "x": [
          "2020-03-13T00:00:00",
          "2020-05-10T00:00:00"
         ],
         "y": [
          74,
          74
         ]
        },
        {
         "legendgroup": "rgb(123, 183, 58)",
         "marker": {
          "color": "rgb(123, 183, 58)",
          "opacity": 0,
          "size": 1
         },
         "mode": "markers",
         "name": "",
         "showlegend": false,
         "text": [
          null,
          null
         ],
         "type": "scatter",
         "x": [
          "2020-03-03T00:00:00",
          "2020-05-10T00:00:00"
         ],
         "y": [
          111,
          111
         ]
        },
        {
         "legendgroup": "rgb(123, 28, 136)",
         "marker": {
          "color": "rgb(123, 28, 136)",
          "opacity": 0,
          "size": 1
         },
         "mode": "markers",
         "name": "",
         "showlegend": false,
         "text": [
          null,
          null
         ],
         "type": "scatter",
         "x": [
          "2020-03-20T00:00:00",
          "2020-05-10T00:00:00"
         ],
         "y": [
          43,
          43
         ]
        },
        {
         "legendgroup": "rgb(129, 162, 34)",
         "marker": {
          "color": "rgb(129, 162, 34)",
          "opacity": 0,
          "size": 1
         },
         "mode": "markers",
         "name": "",
         "showlegend": false,
         "text": [
          null,
          null
         ],
         "type": "scatter",
         "x": [
          "2020-03-04T00:00:00",
          "2020-05-10T00:00:00"
         ],
         "y": [
          109,
          109
         ]
        },
        {
         "legendgroup": "rgb(130, 90, 25)",
         "marker": {
          "color": "rgb(130, 90, 25)",
          "opacity": 0,
          "size": 1
         },
         "mode": "markers",
         "name": "",
         "showlegend": false,
         "text": [
          null,
          null
         ],
         "type": "scatter",
         "x": [
          "2020-03-14T00:00:00",
          "2020-05-10T00:00:00"
         ],
         "y": [
          67,
          67
         ]
        },
        {
         "legendgroup": "rgb(131, 149, 171)",
         "marker": {
          "color": "rgb(131, 149, 171)",
          "opacity": 0,
          "size": 1
         },
         "mode": "markers",
         "name": "",
         "showlegend": false,
         "text": [
          null,
          null
         ],
         "type": "scatter",
         "x": [
          "2020-03-18T00:00:00",
          "2020-05-10T00:00:00"
         ],
         "y": [
          51,
          51
         ]
        },
        {
         "legendgroup": "rgb(131, 160, 194)",
         "marker": {
          "color": "rgb(131, 160, 194)",
          "opacity": 0,
          "size": 1
         },
         "mode": "markers",
         "name": "",
         "showlegend": false,
         "text": [
          null,
          null
         ],
         "type": "scatter",
         "x": [
          "2020-03-13T00:00:00",
          "2020-05-10T00:00:00"
         ],
         "y": [
          71,
          71
         ]
        },
        {
         "legendgroup": "rgb(133, 200, 49)",
         "marker": {
          "color": "rgb(133, 200, 49)",
          "opacity": 0,
          "size": 1
         },
         "mode": "markers",
         "name": "",
         "showlegend": false,
         "text": [
          null,
          null
         ],
         "type": "scatter",
         "x": [
          "2020-01-25T00:00:00",
          "2020-05-10T00:00:00"
         ],
         "y": [
          175,
          175
         ]
        },
        {
         "legendgroup": "rgb(133, 7, 7)",
         "marker": {
          "color": "rgb(133, 7, 7)",
          "opacity": 0,
          "size": 1
         },
         "mode": "markers",
         "name": "",
         "showlegend": false,
         "text": [
          null,
          null
         ],
         "type": "scatter",
         "x": [
          "2020-03-14T00:00:00",
          "2020-05-05T00:00:00"
         ],
         "y": [
          45,
          45
         ]
        },
        {
         "legendgroup": "rgb(134, 196, 122)",
         "marker": {
          "color": "rgb(134, 196, 122)",
          "opacity": 0,
          "size": 1
         },
         "mode": "markers",
         "name": "",
         "showlegend": false,
         "text": [
          null,
          null
         ],
         "type": "scatter",
         "x": [
          "2020-03-02T00:00:00",
          "2020-05-10T00:00:00"
         ],
         "y": [
          115,
          115
         ]
        },
        {
         "legendgroup": "rgb(134, 201, 68)",
         "marker": {
          "color": "rgb(134, 201, 68)",
          "opacity": 0,
          "size": 1
         },
         "mode": "markers",
         "name": "",
         "showlegend": false,
         "text": [
          null,
          null
         ],
         "type": "scatter",
         "x": [
          "2020-03-16T00:00:00",
          "2020-05-09T00:00:00"
         ],
         "y": [
          56,
          56
         ]
        },
        {
         "legendgroup": "rgb(135, 136, 84)",
         "marker": {
          "color": "rgb(135, 136, 84)",
          "opacity": 0,
          "size": 1
         },
         "mode": "markers",
         "name": "",
         "showlegend": false,
         "text": [
          null,
          null
         ],
         "type": "scatter",
         "x": [
          "2020-03-02T00:00:00",
          "2020-05-10T00:00:00"
         ],
         "y": [
          114,
          114
         ]
        },
        {
         "legendgroup": "rgb(135, 155, 148)",
         "marker": {
          "color": "rgb(135, 155, 148)",
          "opacity": 0,
          "size": 1
         },
         "mode": "markers",
         "name": "",
         "showlegend": false,
         "text": [
          null,
          null
         ],
         "type": "scatter",
         "x": [
          "2020-03-05T00:00:00",
          "2020-05-10T00:00:00"
         ],
         "y": [
          106,
          106
         ]
        },
        {
         "legendgroup": "rgb(136, 7, 162)",
         "marker": {
          "color": "rgb(136, 7, 162)",
          "opacity": 0,
          "size": 1
         },
         "mode": "markers",
         "name": "",
         "showlegend": false,
         "text": [
          null,
          null
         ],
         "type": "scatter",
         "x": [
          "2020-03-08T00:00:00",
          "2020-05-10T00:00:00"
         ],
         "y": [
          92,
          92
         ]
        },
        {
         "legendgroup": "rgb(138, 185, 102)",
         "marker": {
          "color": "rgb(138, 185, 102)",
          "opacity": 0,
          "size": 1
         },
         "mode": "markers",
         "name": "",
         "showlegend": false,
         "text": [
          null,
          null
         ],
         "type": "scatter",
         "x": [
          "2020-03-02T00:00:00",
          "2020-05-10T00:00:00"
         ],
         "y": [
          116,
          116
         ]
        },
        {
         "legendgroup": "rgb(138, 33, 27)",
         "marker": {
          "color": "rgb(138, 33, 27)",
          "opacity": 0,
          "size": 1
         },
         "mode": "markers",
         "name": "",
         "showlegend": false,
         "text": [
          null,
          null
         ],
         "type": "scatter",
         "x": [
          "2020-03-11T00:00:00",
          "2020-05-10T00:00:00"
         ],
         "y": [
          82,
          82
         ]
        },
        {
         "legendgroup": "rgb(138, 73, 204)",
         "marker": {
          "color": "rgb(138, 73, 204)",
          "opacity": 0,
          "size": 1
         },
         "mode": "markers",
         "name": "",
         "showlegend": false,
         "text": [
          null,
          null
         ],
         "type": "scatter",
         "x": [
          "2020-03-03T00:00:00",
          "2020-05-10T00:00:00"
         ],
         "y": [
          110,
          110
         ]
        },
        {
         "legendgroup": "rgb(139, 145, 16)",
         "marker": {
          "color": "rgb(139, 145, 16)",
          "opacity": 0,
          "size": 1
         },
         "mode": "markers",
         "name": "",
         "showlegend": false,
         "text": [
          null,
          null
         ],
         "type": "scatter",
         "x": [
          "2020-03-15T00:00:00",
          "2020-05-09T00:00:00"
         ],
         "y": [
          59,
          59
         ]
        },
        {
         "legendgroup": "rgb(140, 185, 66)",
         "marker": {
          "color": "rgb(140, 185, 66)",
          "opacity": 0,
          "size": 1
         },
         "mode": "markers",
         "name": "",
         "showlegend": false,
         "text": [
          null,
          null
         ],
         "type": "scatter",
         "x": [
          "2020-02-28T00:00:00",
          "2020-05-10T00:00:00"
         ],
         "y": [
          134,
          134
         ]
        },
        {
         "legendgroup": "rgb(140, 32, 133)",
         "marker": {
          "color": "rgb(140, 32, 133)",
          "opacity": 0,
          "size": 1
         },
         "mode": "markers",
         "name": "",
         "showlegend": false,
         "text": [
          null,
          null
         ],
         "type": "scatter",
         "x": [
          "2020-03-23T00:00:00",
          "2020-04-14T00:00:00"
         ],
         "y": [
          7,
          7
         ]
        },
        {
         "legendgroup": "rgb(144, 53, 165)",
         "marker": {
          "color": "rgb(144, 53, 165)",
          "opacity": 0,
          "size": 1
         },
         "mode": "markers",
         "name": "",
         "showlegend": false,
         "text": [
          null,
          null
         ],
         "type": "scatter",
         "x": [
          "2020-02-19T00:00:00",
          "2020-05-10T00:00:00"
         ],
         "y": [
          159,
          159
         ]
        },
        {
         "legendgroup": "rgb(144, 55, 40)",
         "marker": {
          "color": "rgb(144, 55, 40)",
          "opacity": 0,
          "size": 1
         },
         "mode": "markers",
         "name": "",
         "showlegend": false,
         "text": [
          null,
          null
         ],
         "type": "scatter",
         "x": [
          "2020-03-21T00:00:00",
          "2020-04-19T00:00:00"
         ],
         "y": [
          11,
          11
         ]
        },
        {
         "legendgroup": "rgb(145, 200, 20)",
         "marker": {
          "color": "rgb(145, 200, 20)",
          "opacity": 0,
          "size": 1
         },
         "mode": "markers",
         "name": "",
         "showlegend": false,
         "text": [
          null,
          null
         ],
         "type": "scatter",
         "x": [
          "2020-03-11T00:00:00",
          "2020-05-10T00:00:00"
         ],
         "y": [
          79,
          79
         ]
        },
        {
         "legendgroup": "rgb(145, 201, 186)",
         "marker": {
          "color": "rgb(145, 201, 186)",
          "opacity": 0,
          "size": 1
         },
         "mode": "markers",
         "name": "",
         "showlegend": false,
         "text": [
          null,
          null
         ],
         "type": "scatter",
         "x": [
          "2020-01-31T00:00:00",
          "2020-05-10T00:00:00"
         ],
         "y": [
          165,
          165
         ]
        },
        {
         "legendgroup": "rgb(146, 6, 132)",
         "marker": {
          "color": "rgb(146, 6, 132)",
          "opacity": 0,
          "size": 1
         },
         "mode": "markers",
         "name": "",
         "showlegend": false,
         "text": [
          null,
          null
         ],
         "type": "scatter",
         "x": [
          "2020-03-13T00:00:00",
          "2020-05-02T00:00:00"
         ],
         "y": [
          37,
          37
         ]
        },
        {
         "legendgroup": "rgb(150, 179, 145)",
         "marker": {
          "color": "rgb(150, 179, 145)",
          "opacity": 0,
          "size": 1
         },
         "mode": "markers",
         "name": "",
         "showlegend": false,
         "text": [
          null,
          null
         ],
         "type": "scatter",
         "x": [
          "2020-02-21T00:00:00",
          "2020-05-10T00:00:00"
         ],
         "y": [
          157,
          157
         ]
        },
        {
         "legendgroup": "rgb(150, 204, 53)",
         "marker": {
          "color": "rgb(150, 204, 53)",
          "opacity": 0,
          "size": 1
         },
         "mode": "markers",
         "name": "",
         "showlegend": false,
         "text": [
          null,
          null
         ],
         "type": "scatter",
         "x": [
          "2020-03-16T00:00:00",
          "2020-05-09T00:00:00"
         ],
         "y": [
          55,
          55
         ]
        },
        {
         "legendgroup": "rgb(151, 172, 202)",
         "marker": {
          "color": "rgb(151, 172, 202)",
          "opacity": 0,
          "size": 1
         },
         "mode": "markers",
         "name": "",
         "showlegend": false,
         "text": [
          null,
          null
         ],
         "type": "scatter",
         "x": [
          "2020-03-20T00:00:00",
          "2020-05-09T00:00:00"
         ],
         "y": [
          38,
          38
         ]
        },
        {
         "legendgroup": "rgb(151, 70, 51)",
         "marker": {
          "color": "rgb(151, 70, 51)",
          "opacity": 0,
          "size": 1
         },
         "mode": "markers",
         "name": "",
         "showlegend": false,
         "text": [
          null,
          null
         ],
         "type": "scatter",
         "x": [
          "2020-01-31T00:00:00",
          "2020-05-10T00:00:00"
         ],
         "y": [
          164,
          164
         ]
        },
        {
         "legendgroup": "rgb(153, 19, 85)",
         "marker": {
          "color": "rgb(153, 19, 85)",
          "opacity": 0,
          "size": 1
         },
         "mode": "markers",
         "name": "",
         "showlegend": false,
         "text": [
          null,
          null
         ],
         "type": "scatter",
         "x": [
          "2020-02-27T00:00:00",
          "2020-05-10T00:00:00"
         ],
         "y": [
          139,
          139
         ]
        },
        {
         "legendgroup": "rgb(153, 53, 194)",
         "marker": {
          "color": "rgb(153, 53, 194)",
          "opacity": 0,
          "size": 1
         },
         "mode": "markers",
         "name": "",
         "showlegend": false,
         "text": [
          null,
          null
         ],
         "type": "scatter",
         "x": [
          "2020-02-27T00:00:00",
          "2020-05-10T00:00:00"
         ],
         "y": [
          138,
          138
         ]
        },
        {
         "legendgroup": "rgb(153, 81, 180)",
         "marker": {
          "color": "rgb(153, 81, 180)",
          "opacity": 0,
          "size": 1
         },
         "mode": "markers",
         "name": "",
         "showlegend": false,
         "text": [
          null,
          null
         ],
         "type": "scatter",
         "x": [
          "2020-01-22T00:00:00",
          "2020-05-10T00:00:00"
         ],
         "y": [
          181,
          181
         ]
        },
        {
         "legendgroup": "rgb(155, 182, 150)",
         "marker": {
          "color": "rgb(155, 182, 150)",
          "opacity": 0,
          "size": 1
         },
         "mode": "markers",
         "name": "",
         "showlegend": false,
         "text": [
          null,
          null
         ],
         "type": "scatter",
         "x": [
          "2020-01-23T00:00:00",
          "2020-05-10T00:00:00"
         ],
         "y": [
          180,
          180
         ]
        },
        {
         "legendgroup": "rgb(155, 69, 182)",
         "marker": {
          "color": "rgb(155, 69, 182)",
          "opacity": 0,
          "size": 1
         },
         "mode": "markers",
         "name": "",
         "showlegend": false,
         "text": [
          null,
          null
         ],
         "type": "scatter",
         "x": [
          "2020-01-22T00:00:00",
          "2020-05-10T00:00:00"
         ],
         "y": [
          183,
          183
         ]
        },
        {
         "legendgroup": "rgb(156, 54, 58)",
         "marker": {
          "color": "rgb(156, 54, 58)",
          "opacity": 0,
          "size": 1
         },
         "mode": "markers",
         "name": "",
         "showlegend": false,
         "text": [
          null,
          null
         ],
         "type": "scatter",
         "x": [
          "2020-03-11T00:00:00",
          "2020-05-09T00:00:00"
         ],
         "y": [
          76,
          76
         ]
        },
        {
         "legendgroup": "rgb(156, 80, 35)",
         "marker": {
          "color": "rgb(156, 80, 35)",
          "opacity": 0,
          "size": 1
         },
         "mode": "markers",
         "name": "",
         "showlegend": false,
         "text": [
          null,
          null
         ],
         "type": "scatter",
         "x": [
          "2020-03-20T00:00:00",
          "2020-05-10T00:00:00"
         ],
         "y": [
          40,
          40
         ]
        },
        {
         "legendgroup": "rgb(156, 82, 33)",
         "marker": {
          "color": "rgb(156, 82, 33)",
          "opacity": 0,
          "size": 1
         },
         "mode": "markers",
         "name": "",
         "showlegend": false,
         "text": [
          null,
          null
         ],
         "type": "scatter",
         "x": [
          "2020-03-25T00:00:00",
          "2020-05-10T00:00:00"
         ],
         "y": [
          29,
          29
         ]
        },
        {
         "legendgroup": "rgb(160, 12, 105)",
         "marker": {
          "color": "rgb(160, 12, 105)",
          "opacity": 0,
          "size": 1
         },
         "mode": "markers",
         "name": "",
         "showlegend": false,
         "text": [
          null,
          null
         ],
         "type": "scatter",
         "x": [
          "2020-03-05T00:00:00",
          "2020-05-10T00:00:00"
         ],
         "y": [
          105,
          105
         ]
        },
        {
         "legendgroup": "rgb(162, 101, 0)",
         "marker": {
          "color": "rgb(162, 101, 0)",
          "opacity": 0,
          "size": 1
         },
         "mode": "markers",
         "name": "",
         "showlegend": false,
         "text": [
          null,
          null
         ],
         "type": "scatter",
         "x": [
          "2020-04-30T00:00:00",
          "2020-05-10T00:00:00"
         ],
         "y": [
          1,
          1
         ]
        },
        {
         "legendgroup": "rgb(162, 164, 33)",
         "marker": {
          "color": "rgb(162, 164, 33)",
          "opacity": 0,
          "size": 1
         },
         "mode": "markers",
         "name": "",
         "showlegend": false,
         "text": [
          null,
          null
         ],
         "type": "scatter",
         "x": [
          "2020-01-27T00:00:00",
          "2020-05-10T00:00:00"
         ],
         "y": [
          171,
          171
         ]
        },
        {
         "legendgroup": "rgb(162, 202, 100)",
         "marker": {
          "color": "rgb(162, 202, 100)",
          "opacity": 0,
          "size": 1
         },
         "mode": "markers",
         "name": "",
         "showlegend": false,
         "text": [
          null,
          null
         ],
         "type": "scatter",
         "x": [
          "2020-04-05T00:00:00",
          "2020-05-09T00:00:00"
         ],
         "y": [
          19,
          19
         ]
        },
        {
         "legendgroup": "rgb(166, 140, 26)",
         "marker": {
          "color": "rgb(166, 140, 26)",
          "opacity": 0,
          "size": 1
         },
         "mode": "markers",
         "name": "",
         "showlegend": false,
         "text": [
          null,
          null
         ],
         "type": "scatter",
         "x": [
          "2020-03-14T00:00:00",
          "2020-05-10T00:00:00"
         ],
         "y": [
          69,
          69
         ]
        },
        {
         "legendgroup": "rgb(167, 113, 151)",
         "marker": {
          "color": "rgb(167, 113, 151)",
          "opacity": 0,
          "size": 1
         },
         "mode": "markers",
         "name": "",
         "showlegend": false,
         "text": [
          null,
          null
         ],
         "type": "scatter",
         "x": [
          "2020-02-21T00:00:00",
          "2020-05-10T00:00:00"
         ],
         "y": [
          158,
          158
         ]
        },
        {
         "legendgroup": "rgb(168, 112, 186)",
         "marker": {
          "color": "rgb(168, 112, 186)",
          "opacity": 0,
          "size": 1
         },
         "mode": "markers",
         "name": "",
         "showlegend": false,
         "text": [
          null,
          null
         ],
         "type": "scatter",
         "x": [
          "2020-03-22T00:00:00",
          "2020-04-11T00:00:00"
         ],
         "y": [
          5,
          5
         ]
        },
        {
         "legendgroup": "rgb(168, 200, 91)",
         "marker": {
          "color": "rgb(168, 200, 91)",
          "opacity": 0,
          "size": 1
         },
         "mode": "markers",
         "name": "",
         "showlegend": false,
         "text": [
          null,
          null
         ],
         "type": "scatter",
         "x": [
          "2020-03-20T00:00:00",
          "2020-05-10T00:00:00"
         ],
         "y": [
          41,
          41
         ]
        },
        {
         "legendgroup": "rgb(168, 49, 76)",
         "marker": {
          "color": "rgb(168, 49, 76)",
          "opacity": 0,
          "size": 1
         },
         "mode": "markers",
         "name": "",
         "showlegend": false,
         "text": [
          null,
          null
         ],
         "type": "scatter",
         "x": [
          "2020-02-28T00:00:00",
          "2020-05-10T00:00:00"
         ],
         "y": [
          132,
          132
         ]
        },
        {
         "legendgroup": "rgb(169, 66, 97)",
         "marker": {
          "color": "rgb(169, 66, 97)",
          "opacity": 0,
          "size": 1
         },
         "mode": "markers",
         "name": "",
         "showlegend": false,
         "text": [
          null,
          null
         ],
         "type": "scatter",
         "x": [
          "2020-03-14T00:00:00",
          "2020-05-10T00:00:00"
         ],
         "y": [
          64,
          64
         ]
        },
        {
         "legendgroup": "rgb(17, 43, 153)",
         "marker": {
          "color": "rgb(17, 43, 153)",
          "opacity": 0,
          "size": 1
         },
         "mode": "markers",
         "name": "",
         "showlegend": false,
         "text": [
          null,
          null
         ],
         "type": "scatter",
         "x": [
          "2020-03-06T00:00:00",
          "2020-05-10T00:00:00"
         ],
         "y": [
          103,
          103
         ]
        },
        {
         "legendgroup": "rgb(17, 49, 138)",
         "marker": {
          "color": "rgb(17, 49, 138)",
          "opacity": 0,
          "size": 1
         },
         "mode": "markers",
         "name": "",
         "showlegend": false,
         "text": [
          null,
          null
         ],
         "type": "scatter",
         "x": [
          "2020-01-26T00:00:00",
          "2020-05-10T00:00:00"
         ],
         "y": [
          173,
          173
         ]
        },
        {
         "legendgroup": "rgb(170, 122, 135)",
         "marker": {
          "color": "rgb(170, 122, 135)",
          "opacity": 0,
          "size": 1
         },
         "mode": "markers",
         "name": "",
         "showlegend": false,
         "text": [
          null,
          null
         ],
         "type": "scatter",
         "x": [
          "2020-03-08T00:00:00",
          "2020-05-10T00:00:00"
         ],
         "y": [
          90,
          90
         ]
        },
        {
         "legendgroup": "rgb(172, 138, 54)",
         "marker": {
          "color": "rgb(172, 138, 54)",
          "opacity": 0,
          "size": 1
         },
         "mode": "markers",
         "name": "",
         "showlegend": false,
         "text": [
          null,
          null
         ],
         "type": "scatter",
         "x": [
          "2020-03-13T00:00:00",
          "2020-05-10T00:00:00"
         ],
         "y": [
          70,
          70
         ]
        },
        {
         "legendgroup": "rgb(176, 128, 201)",
         "marker": {
          "color": "rgb(176, 128, 201)",
          "opacity": 0,
          "size": 1
         },
         "mode": "markers",
         "name": "",
         "showlegend": false,
         "text": [
          null,
          null
         ],
         "type": "scatter",
         "x": [
          "2020-02-04T00:00:00",
          "2020-05-10T00:00:00"
         ],
         "y": [
          161,
          161
         ]
        },
        {
         "legendgroup": "rgb(177, 3, 67)",
         "marker": {
          "color": "rgb(177, 3, 67)",
          "opacity": 0,
          "size": 1
         },
         "mode": "markers",
         "name": "",
         "showlegend": false,
         "text": [
          null,
          null
         ],
         "type": "scatter",
         "x": [
          "2020-02-29T00:00:00",
          "2020-05-10T00:00:00"
         ],
         "y": [
          128,
          128
         ]
        },
        {
         "legendgroup": "rgb(177, 49, 75)",
         "marker": {
          "color": "rgb(177, 49, 75)",
          "opacity": 0,
          "size": 1
         },
         "mode": "markers",
         "name": "",
         "showlegend": false,
         "text": [
          null,
          null
         ],
         "type": "scatter",
         "x": [
          "2020-03-21T00:00:00",
          "2020-05-10T00:00:00"
         ],
         "y": [
          36,
          36
         ]
        },
        {
         "legendgroup": "rgb(177, 58, 188)",
         "marker": {
          "color": "rgb(177, 58, 188)",
          "opacity": 0,
          "size": 1
         },
         "mode": "markers",
         "name": "",
         "showlegend": false,
         "text": [
          null,
          null
         ],
         "type": "scatter",
         "x": [
          "2020-03-04T00:00:00",
          "2020-04-27T00:00:00"
         ],
         "y": [
          54,
          54
         ]
        },
        {
         "legendgroup": "rgb(179, 16, 144)",
         "marker": {
          "color": "rgb(179, 16, 144)",
          "opacity": 0,
          "size": 1
         },
         "mode": "markers",
         "name": "",
         "showlegend": false,
         "text": [
          null,
          null
         ],
         "type": "scatter",
         "x": [
          "2020-03-14T00:00:00",
          "2020-05-10T00:00:00"
         ],
         "y": [
          65,
          65
         ]
        },
        {
         "legendgroup": "rgb(179, 28, 145)",
         "marker": {
          "color": "rgb(179, 28, 145)",
          "opacity": 0,
          "size": 1
         },
         "mode": "markers",
         "name": "",
         "showlegend": false,
         "text": [
          null,
          null
         ],
         "type": "scatter",
         "x": [
          "2020-03-16T00:00:00",
          "2020-04-05T00:00:00"
         ],
         "y": [
          4,
          4
         ]
        },
        {
         "legendgroup": "rgb(179, 81, 74)",
         "marker": {
          "color": "rgb(179, 81, 74)",
          "opacity": 0,
          "size": 1
         },
         "mode": "markers",
         "name": "",
         "showlegend": false,
         "text": [
          null,
          null
         ],
         "type": "scatter",
         "x": [
          "2020-02-26T00:00:00",
          "2020-05-10T00:00:00"
         ],
         "y": [
          140,
          140
         ]
        },
        {
         "legendgroup": "rgb(180, 87, 135)",
         "marker": {
          "color": "rgb(180, 87, 135)",
          "opacity": 0,
          "size": 1
         },
         "mode": "markers",
         "name": "",
         "showlegend": false,
         "text": [
          null,
          null
         ],
         "type": "scatter",
         "x": [
          "2020-01-29T00:00:00",
          "2020-05-10T00:00:00"
         ],
         "y": [
          169,
          169
         ]
        },
        {
         "legendgroup": "rgb(181, 104, 36)",
         "marker": {
          "color": "rgb(181, 104, 36)",
          "opacity": 0,
          "size": 1
         },
         "mode": "markers",
         "name": "",
         "showlegend": false,
         "text": [
          null,
          null
         ],
         "type": "scatter",
         "x": [
          "2020-02-25T00:00:00",
          "2020-05-10T00:00:00"
         ],
         "y": [
          147,
          147
         ]
        },
        {
         "legendgroup": "rgb(181, 6, 40)",
         "marker": {
          "color": "rgb(181, 6, 40)",
          "opacity": 0,
          "size": 1
         },
         "mode": "markers",
         "name": "",
         "showlegend": false,
         "text": [
          null,
          null
         ],
         "type": "scatter",
         "x": [
          "2020-03-14T00:00:00",
          "2020-04-02T00:00:00"
         ],
         "y": [
          3,
          3
         ]
        },
        {
         "legendgroup": "rgb(182, 161, 182)",
         "marker": {
          "color": "rgb(182, 161, 182)",
          "opacity": 0,
          "size": 1
         },
         "mode": "markers",
         "name": "",
         "showlegend": false,
         "text": [
          null,
          null
         ],
         "type": "scatter",
         "x": [
          "2020-03-10T00:00:00",
          "2020-05-10T00:00:00"
         ],
         "y": [
          86,
          86
         ]
        },
        {
         "legendgroup": "rgb(182, 22, 75)",
         "marker": {
          "color": "rgb(182, 22, 75)",
          "opacity": 0,
          "size": 1
         },
         "mode": "markers",
         "name": "",
         "showlegend": false,
         "text": [
          null,
          null
         ],
         "type": "scatter",
         "x": [
          "2020-03-20T00:00:00",
          "2020-05-08T00:00:00"
         ],
         "y": [
          35,
          35
         ]
        },
        {
         "legendgroup": "rgb(182, 7, 156)",
         "marker": {
          "color": "rgb(182, 7, 156)",
          "opacity": 0,
          "size": 1
         },
         "mode": "markers",
         "name": "",
         "showlegend": false,
         "text": [
          null,
          null
         ],
         "type": "scatter",
         "x": [
          "2020-03-16T00:00:00",
          "2020-05-07T00:00:00"
         ],
         "y": [
          47,
          47
         ]
        },
        {
         "legendgroup": "rgb(183, 12, 140)",
         "marker": {
          "color": "rgb(183, 12, 140)",
          "opacity": 0,
          "size": 1
         },
         "mode": "markers",
         "name": "",
         "showlegend": false,
         "text": [
          null,
          null
         ],
         "type": "scatter",
         "x": [
          "2020-02-25T00:00:00",
          "2020-05-10T00:00:00"
         ],
         "y": [
          148,
          148
         ]
        },
        {
         "legendgroup": "rgb(187, 160, 148)",
         "marker": {
          "color": "rgb(187, 160, 148)",
          "opacity": 0,
          "size": 1
         },
         "mode": "markers",
         "name": "",
         "showlegend": false,
         "text": [
          null,
          null
         ],
         "type": "scatter",
         "x": [
          "2020-02-27T00:00:00",
          "2020-05-10T00:00:00"
         ],
         "y": [
          136,
          136
         ]
        },
        {
         "legendgroup": "rgb(188, 115, 187)",
         "marker": {
          "color": "rgb(188, 115, 187)",
          "opacity": 0,
          "size": 1
         },
         "mode": "markers",
         "name": "",
         "showlegend": false,
         "text": [
          null,
          null
         ],
         "type": "scatter",
         "x": [
          "2020-03-12T00:00:00",
          "2020-05-09T00:00:00"
         ],
         "y": [
          73,
          73
         ]
        },
        {
         "legendgroup": "rgb(188, 121, 130)",
         "marker": {
          "color": "rgb(188, 121, 130)",
          "opacity": 0,
          "size": 1
         },
         "mode": "markers",
         "name": "",
         "showlegend": false,
         "text": [
          null,
          null
         ],
         "type": "scatter",
         "x": [
          "2020-04-05T00:00:00",
          "2020-04-13T00:00:00"
         ],
         "y": [
          0,
          0
         ]
        },
        {
         "legendgroup": "rgb(188, 99, 145)",
         "marker": {
          "color": "rgb(188, 99, 145)",
          "opacity": 0,
          "size": 1
         },
         "mode": "markers",
         "name": "",
         "showlegend": false,
         "text": [
          null,
          null
         ],
         "type": "scatter",
         "x": [
          "2020-03-16T00:00:00",
          "2020-05-10T00:00:00"
         ],
         "y": [
          60,
          60
         ]
        },
        {
         "legendgroup": "rgb(192, 134, 185)",
         "marker": {
          "color": "rgb(192, 134, 185)",
          "opacity": 0,
          "size": 1
         },
         "mode": "markers",
         "name": "",
         "showlegend": false,
         "text": [
          null,
          null
         ],
         "type": "scatter",
         "x": [
          "2020-03-06T00:00:00",
          "2020-05-07T00:00:00"
         ],
         "y": [
          87,
          87
         ]
        },
        {
         "legendgroup": "rgb(192, 135, 76)",
         "marker": {
          "color": "rgb(192, 135, 76)",
          "opacity": 0,
          "size": 1
         },
         "mode": "markers",
         "name": "",
         "showlegend": false,
         "text": [
          null,
          null
         ],
         "type": "scatter",
         "x": [
          "2020-02-29T00:00:00",
          "2020-05-10T00:00:00"
         ],
         "y": [
          129,
          129
         ]
        },
        {
         "legendgroup": "rgb(194, 140, 165)",
         "marker": {
          "color": "rgb(194, 140, 165)",
          "opacity": 0,
          "size": 1
         },
         "mode": "markers",
         "name": "",
         "showlegend": false,
         "text": [
          null,
          null
         ],
         "type": "scatter",
         "x": [
          "2020-03-02T00:00:00",
          "2020-05-10T00:00:00"
         ],
         "y": [
          118,
          118
         ]
        },
        {
         "legendgroup": "rgb(194, 27, 128)",
         "marker": {
          "color": "rgb(194, 27, 128)",
          "opacity": 0,
          "size": 1
         },
         "mode": "markers",
         "name": "",
         "showlegend": false,
         "text": [
          null,
          null
         ],
         "type": "scatter",
         "x": [
          "2020-03-14T00:00:00",
          "2020-05-10T00:00:00"
         ],
         "y": [
          63,
          63
         ]
        },
        {
         "legendgroup": "rgb(195, 56, 160)",
         "marker": {
          "color": "rgb(195, 56, 160)",
          "opacity": 0,
          "size": 1
         },
         "mode": "markers",
         "name": "",
         "showlegend": false,
         "text": [
          null,
          null
         ],
         "type": "scatter",
         "x": [
          "2020-02-28T00:00:00",
          "2020-05-10T00:00:00"
         ],
         "y": [
          133,
          133
         ]
        },
        {
         "legendgroup": "rgb(196, 196, 170)",
         "marker": {
          "color": "rgb(196, 196, 170)",
          "opacity": 0,
          "size": 1
         },
         "mode": "markers",
         "name": "",
         "showlegend": false,
         "text": [
          null,
          null
         ],
         "type": "scatter",
         "x": [
          "2020-01-30T00:00:00",
          "2020-05-10T00:00:00"
         ],
         "y": [
          168,
          168
         ]
        },
        {
         "legendgroup": "rgb(196, 197, 124)",
         "marker": {
          "color": "rgb(196, 197, 124)",
          "opacity": 0,
          "size": 1
         },
         "mode": "markers",
         "name": "",
         "showlegend": false,
         "text": [
          null,
          null
         ],
         "type": "scatter",
         "x": [
          "2020-02-14T00:00:00",
          "2020-05-10T00:00:00"
         ],
         "y": [
          160,
          160
         ]
        },
        {
         "legendgroup": "rgb(198, 55, 59)",
         "marker": {
          "color": "rgb(198, 55, 59)",
          "opacity": 0,
          "size": 1
         },
         "mode": "markers",
         "name": "",
         "showlegend": false,
         "text": [
          null,
          null
         ],
         "type": "scatter",
         "x": [
          "2020-03-14T00:00:00",
          "2020-05-10T00:00:00"
         ],
         "y": [
          66,
          66
         ]
        },
        {
         "legendgroup": "rgb(198, 57, 124)",
         "marker": {
          "color": "rgb(198, 57, 124)",
          "opacity": 0,
          "size": 1
         },
         "mode": "markers",
         "name": "",
         "showlegend": false,
         "text": [
          null,
          null
         ],
         "type": "scatter",
         "x": [
          "2020-03-11T00:00:00",
          "2020-05-10T00:00:00"
         ],
         "y": [
          80,
          80
         ]
        },
        {
         "legendgroup": "rgb(198, 58, 178)",
         "marker": {
          "color": "rgb(198, 58, 178)",
          "opacity": 0,
          "size": 1
         },
         "mode": "markers",
         "name": "",
         "showlegend": false,
         "text": [
          null,
          null
         ],
         "type": "scatter",
         "x": [
          "2020-02-26T00:00:00",
          "2020-05-10T00:00:00"
         ],
         "y": [
          141,
          141
         ]
        },
        {
         "legendgroup": "rgb(199, 122, 65)",
         "marker": {
          "color": "rgb(199, 122, 65)",
          "opacity": 0,
          "size": 1
         },
         "mode": "markers",
         "name": "",
         "showlegend": false,
         "text": [
          null,
          null
         ],
         "type": "scatter",
         "x": [
          "2020-03-01T00:00:00",
          "2020-05-10T00:00:00"
         ],
         "y": [
          124,
          124
         ]
        },
        {
         "legendgroup": "rgb(201, 171, 180)",
         "marker": {
          "color": "rgb(201, 171, 180)",
          "opacity": 0,
          "size": 1
         },
         "mode": "markers",
         "name": "",
         "showlegend": false,
         "text": [
          null,
          null
         ],
         "type": "scatter",
         "x": [
          "2020-03-05T00:00:00",
          "2020-05-08T00:00:00"
         ],
         "y": [
          96,
          96
         ]
        },
        {
         "legendgroup": "rgb(201, 65, 87)",
         "marker": {
          "color": "rgb(201, 65, 87)",
          "opacity": 0,
          "size": 1
         },
         "mode": "markers",
         "name": "",
         "showlegend": false,
         "text": [
          null,
          null
         ],
         "type": "scatter",
         "x": [
          "2020-03-04T00:00:00",
          "2020-05-10T00:00:00"
         ],
         "y": [
          108,
          108
         ]
        },
        {
         "legendgroup": "rgb(22, 186, 22)",
         "marker": {
          "color": "rgb(22, 186, 22)",
          "opacity": 0,
          "size": 1
         },
         "mode": "markers",
         "name": "",
         "showlegend": false,
         "text": [
          null,
          null
         ],
         "type": "scatter",
         "x": [
          "2020-03-25T00:00:00",
          "2020-05-10T00:00:00"
         ],
         "y": [
          28,
          28
         ]
        },
        {
         "legendgroup": "rgb(22, 91, 59)",
         "marker": {
          "color": "rgb(22, 91, 59)",
          "opacity": 0,
          "size": 1
         },
         "mode": "markers",
         "name": "",
         "showlegend": false,
         "text": [
          null,
          null
         ],
         "type": "scatter",
         "x": [
          "2020-02-26T00:00:00",
          "2020-05-10T00:00:00"
         ],
         "y": [
          144,
          144
         ]
        },
        {
         "legendgroup": "rgb(23, 67, 140)",
         "marker": {
          "color": "rgb(23, 67, 140)",
          "opacity": 0,
          "size": 1
         },
         "mode": "markers",
         "name": "",
         "showlegend": false,
         "text": [
          null,
          null
         ],
         "type": "scatter",
         "x": [
          "2020-03-06T00:00:00",
          "2020-05-10T00:00:00"
         ],
         "y": [
          99,
          99
         ]
        },
        {
         "legendgroup": "rgb(25, 73, 10)",
         "marker": {
          "color": "rgb(25, 73, 10)",
          "opacity": 0,
          "size": 1
         },
         "mode": "markers",
         "name": "",
         "showlegend": false,
         "text": [
          null,
          null
         ],
         "type": "scatter",
         "x": [
          "2020-03-13T00:00:00",
          "2020-05-10T00:00:00"
         ],
         "y": [
          75,
          75
         ]
        },
        {
         "legendgroup": "rgb(26, 133, 183)",
         "marker": {
          "color": "rgb(26, 133, 183)",
          "opacity": 0,
          "size": 1
         },
         "mode": "markers",
         "name": "",
         "showlegend": false,
         "text": [
          null,
          null
         ],
         "type": "scatter",
         "x": [
          "2020-03-01T00:00:00",
          "2020-05-10T00:00:00"
         ],
         "y": [
          121,
          121
         ]
        },
        {
         "legendgroup": "rgb(26, 42, 20)",
         "marker": {
          "color": "rgb(26, 42, 20)",
          "opacity": 0,
          "size": 1
         },
         "mode": "markers",
         "name": "",
         "showlegend": false,
         "text": [
          null,
          null
         ],
         "type": "scatter",
         "x": [
          "2020-02-28T00:00:00",
          "2020-05-10T00:00:00"
         ],
         "y": [
          131,
          131
         ]
        },
        {
         "legendgroup": "rgb(28, 0, 26)",
         "marker": {
          "color": "rgb(28, 0, 26)",
          "opacity": 0,
          "size": 1
         },
         "mode": "markers",
         "name": "",
         "showlegend": false,
         "text": [
          null,
          null
         ],
         "type": "scatter",
         "x": [
          "2020-03-06T00:00:00",
          "2020-05-10T00:00:00"
         ],
         "y": [
          102,
          102
         ]
        },
        {
         "legendgroup": "rgb(28, 11, 119)",
         "marker": {
          "color": "rgb(28, 11, 119)",
          "opacity": 0,
          "size": 1
         },
         "mode": "markers",
         "name": "",
         "showlegend": false,
         "text": [
          null,
          null
         ],
         "type": "scatter",
         "x": [
          "2020-03-14T00:00:00",
          "2020-04-30T00:00:00"
         ],
         "y": [
          30,
          30
         ]
        },
        {
         "legendgroup": "rgb(3, 121, 119)",
         "marker": {
          "color": "rgb(3, 121, 119)",
          "opacity": 0,
          "size": 1
         },
         "mode": "markers",
         "name": "",
         "showlegend": false,
         "text": [
          null,
          null
         ],
         "type": "scatter",
         "x": [
          "2020-03-24T00:00:00",
          "2020-04-13T00:00:00"
         ],
         "y": [
          6,
          6
         ]
        },
        {
         "legendgroup": "rgb(32, 108, 67)",
         "marker": {
          "color": "rgb(32, 108, 67)",
          "opacity": 0,
          "size": 1
         },
         "mode": "markers",
         "name": "",
         "showlegend": false,
         "text": [
          null,
          null
         ],
         "type": "scatter",
         "x": [
          "2020-01-22T00:00:00",
          "2020-05-08T00:00:00"
         ],
         "y": [
          179,
          179
         ]
        },
        {
         "legendgroup": "rgb(34, 6, 65)",
         "marker": {
          "color": "rgb(34, 6, 65)",
          "opacity": 0,
          "size": 1
         },
         "mode": "markers",
         "name": "",
         "showlegend": false,
         "text": [
          null,
          null
         ],
         "type": "scatter",
         "x": [
          "2020-01-22T00:00:00",
          "2020-05-10T00:00:00"
         ],
         "y": [
          182,
          182
         ]
        },
        {
         "legendgroup": "rgb(35, 124, 100)",
         "marker": {
          "color": "rgb(35, 124, 100)",
          "opacity": 0,
          "size": 1
         },
         "mode": "markers",
         "name": "",
         "showlegend": false,
         "text": [
          null,
          null
         ],
         "type": "scatter",
         "x": [
          "2020-03-17T00:00:00",
          "2020-05-10T00:00:00"
         ],
         "y": [
          57,
          57
         ]
        },
        {
         "legendgroup": "rgb(36, 135, 195)",
         "marker": {
          "color": "rgb(36, 135, 195)",
          "opacity": 0,
          "size": 1
         },
         "mode": "markers",
         "name": "",
         "showlegend": false,
         "text": [
          null,
          null
         ],
         "type": "scatter",
         "x": [
          "2020-03-14T00:00:00",
          "2020-05-10T00:00:00"
         ],
         "y": [
          68,
          68
         ]
        },
        {
         "legendgroup": "rgb(36, 181, 102)",
         "marker": {
          "color": "rgb(36, 181, 102)",
          "opacity": 0,
          "size": 1
         },
         "mode": "markers",
         "name": "",
         "showlegend": false,
         "text": [
          null,
          null
         ],
         "type": "scatter",
         "x": [
          "2020-01-27T00:00:00",
          "2020-05-10T00:00:00"
         ],
         "y": [
          172,
          172
         ]
        },
        {
         "legendgroup": "rgb(36, 71, 199)",
         "marker": {
          "color": "rgb(36, 71, 199)",
          "opacity": 0,
          "size": 1
         },
         "mode": "markers",
         "name": "",
         "showlegend": false,
         "text": [
          null,
          null
         ],
         "type": "scatter",
         "x": [
          "2020-03-10T00:00:00",
          "2020-05-10T00:00:00"
         ],
         "y": [
          85,
          85
         ]
        },
        {
         "legendgroup": "rgb(38, 103, 20)",
         "marker": {
          "color": "rgb(38, 103, 20)",
          "opacity": 0,
          "size": 1
         },
         "mode": "markers",
         "name": "",
         "showlegend": false,
         "text": [
          null,
          null
         ],
         "type": "scatter",
         "x": [
          "2020-02-24T00:00:00",
          "2020-05-10T00:00:00"
         ],
         "y": [
          155,
          155
         ]
        },
        {
         "legendgroup": "rgb(39, 123, 59)",
         "marker": {
          "color": "rgb(39, 123, 59)",
          "opacity": 0,
          "size": 1
         },
         "mode": "markers",
         "name": "",
         "showlegend": false,
         "text": [
          null,
          null
         ],
         "type": "scatter",
         "x": [
          "2020-02-29T00:00:00",
          "2020-05-10T00:00:00"
         ],
         "y": [
          127,
          127
         ]
        },
        {
         "legendgroup": "rgb(39, 43, 53)",
         "marker": {
          "color": "rgb(39, 43, 53)",
          "opacity": 0,
          "size": 1
         },
         "mode": "markers",
         "name": "",
         "showlegend": false,
         "text": [
          null,
          null
         ],
         "type": "scatter",
         "x": [
          "2020-03-01T00:00:00",
          "2020-05-10T00:00:00"
         ],
         "y": [
          126,
          126
         ]
        },
        {
         "legendgroup": "rgb(40, 54, 181)",
         "marker": {
          "color": "rgb(40, 54, 181)",
          "opacity": 0,
          "size": 1
         },
         "mode": "markers",
         "name": "",
         "showlegend": false,
         "text": [
          null,
          null
         ],
         "type": "scatter",
         "x": [
          "2020-03-18T00:00:00",
          "2020-04-28T00:00:00"
         ],
         "y": [
          22,
          22
         ]
        },
        {
         "legendgroup": "rgb(40, 6, 148)",
         "marker": {
          "color": "rgb(40, 6, 148)",
          "opacity": 0,
          "size": 1
         },
         "mode": "markers",
         "name": "",
         "showlegend": false,
         "text": [
          null,
          null
         ],
         "type": "scatter",
         "x": [
          "2020-01-26T00:00:00",
          "2020-05-10T00:00:00"
         ],
         "y": [
          174,
          174
         ]
        },
        {
         "legendgroup": "rgb(41, 182, 3)",
         "marker": {
          "color": "rgb(41, 182, 3)",
          "opacity": 0,
          "size": 1
         },
         "mode": "markers",
         "name": "",
         "showlegend": false,
         "text": [
          null,
          null
         ],
         "type": "scatter",
         "x": [
          "2020-04-30T00:00:00",
          "2020-05-10T00:00:00"
         ],
         "y": [
          2,
          2
         ]
        },
        {
         "legendgroup": "rgb(41, 67, 108)",
         "marker": {
          "color": "rgb(41, 67, 108)",
          "opacity": 0,
          "size": 1
         },
         "mode": "markers",
         "name": "",
         "showlegend": false,
         "text": [
          null,
          null
         ],
         "type": "scatter",
         "x": [
          "2020-03-08T00:00:00",
          "2020-05-10T00:00:00"
         ],
         "y": [
          94,
          94
         ]
        },
        {
         "legendgroup": "rgb(42, 133, 68)",
         "marker": {
          "color": "rgb(42, 133, 68)",
          "opacity": 0,
          "size": 1
         },
         "mode": "markers",
         "name": "",
         "showlegend": false,
         "text": [
          null,
          null
         ],
         "type": "scatter",
         "x": [
          "2020-02-28T00:00:00",
          "2020-05-10T00:00:00"
         ],
         "y": [
          135,
          135
         ]
        },
        {
         "legendgroup": "rgb(42, 150, 195)",
         "marker": {
          "color": "rgb(42, 150, 195)",
          "opacity": 0,
          "size": 1
         },
         "mode": "markers",
         "name": "",
         "showlegend": false,
         "text": [
          null,
          null
         ],
         "type": "scatter",
         "x": [
          "2020-03-06T00:00:00",
          "2020-05-10T00:00:00"
         ],
         "y": [
          101,
          101
         ]
        },
        {
         "legendgroup": "rgb(42, 72, 129)",
         "marker": {
          "color": "rgb(42, 72, 129)",
          "opacity": 0,
          "size": 1
         },
         "mode": "markers",
         "name": "",
         "showlegend": false,
         "text": [
          null,
          null
         ],
         "type": "scatter",
         "x": [
          "2020-03-04T00:00:00",
          "2020-05-10T00:00:00"
         ],
         "y": [
          107,
          107
         ]
        },
        {
         "legendgroup": "rgb(48, 66, 122)",
         "marker": {
          "color": "rgb(48, 66, 122)",
          "opacity": 0,
          "size": 1
         },
         "mode": "markers",
         "name": "",
         "showlegend": false,
         "text": [
          null,
          null
         ],
         "type": "scatter",
         "x": [
          "2020-03-22T00:00:00",
          "2020-04-25T00:00:00"
         ],
         "y": [
          18,
          18
         ]
        },
        {
         "legendgroup": "rgb(49, 193, 82)",
         "marker": {
          "color": "rgb(49, 193, 82)",
          "opacity": 0,
          "size": 1
         },
         "mode": "markers",
         "name": "",
         "showlegend": false,
         "text": [
          null,
          null
         ],
         "type": "scatter",
         "x": [
          "2020-02-24T00:00:00",
          "2020-05-10T00:00:00"
         ],
         "y": [
          154,
          154
         ]
        },
        {
         "legendgroup": "rgb(49, 96, 82)",
         "marker": {
          "color": "rgb(49, 96, 82)",
          "opacity": 0,
          "size": 1
         },
         "mode": "markers",
         "name": "",
         "showlegend": false,
         "text": [
          null,
          null
         ],
         "type": "scatter",
         "x": [
          "2020-03-22T00:00:00",
          "2020-05-10T00:00:00"
         ],
         "y": [
          33,
          33
         ]
        },
        {
         "legendgroup": "rgb(5, 107, 130)",
         "marker": {
          "color": "rgb(5, 107, 130)",
          "opacity": 0,
          "size": 1
         },
         "mode": "markers",
         "name": "",
         "showlegend": false,
         "text": [
          null,
          null
         ],
         "type": "scatter",
         "x": [
          "2020-02-24T00:00:00",
          "2020-05-10T00:00:00"
         ],
         "y": [
          152,
          152
         ]
        },
        {
         "legendgroup": "rgb(5, 8, 35)",
         "marker": {
          "color": "rgb(5, 8, 35)",
          "opacity": 0,
          "size": 1
         },
         "mode": "markers",
         "name": "",
         "showlegend": false,
         "text": [
          null,
          null
         ],
         "type": "scatter",
         "x": [
          "2020-02-26T00:00:00",
          "2020-05-10T00:00:00"
         ],
         "y": [
          146,
          146
         ]
        },
        {
         "legendgroup": "rgb(50, 134, 135)",
         "marker": {
          "color": "rgb(50, 134, 135)",
          "opacity": 0,
          "size": 1
         },
         "mode": "markers",
         "name": "",
         "showlegend": false,
         "text": [
          null,
          null
         ],
         "type": "scatter",
         "x": [
          "2020-01-30T00:00:00",
          "2020-05-10T00:00:00"
         ],
         "y": [
          167,
          167
         ]
        },
        {
         "legendgroup": "rgb(50, 25, 64)",
         "marker": {
          "color": "rgb(50, 25, 64)",
          "opacity": 0,
          "size": 1
         },
         "mode": "markers",
         "name": "",
         "showlegend": false,
         "text": [
          null,
          null
         ],
         "type": "scatter",
         "x": [
          "2020-02-27T00:00:00",
          "2020-05-10T00:00:00"
         ],
         "y": [
          137,
          137
         ]
        },
        {
         "legendgroup": "rgb(52, 137, 151)",
         "marker": {
          "color": "rgb(52, 137, 151)",
          "opacity": 0,
          "size": 1
         },
         "mode": "markers",
         "name": "",
         "showlegend": false,
         "text": [
          null,
          null
         ],
         "type": "scatter",
         "x": [
          "2020-03-30T00:00:00",
          "2020-04-29T00:00:00"
         ],
         "y": [
          13,
          13
         ]
        },
        {
         "legendgroup": "rgb(56, 155, 27)",
         "marker": {
          "color": "rgb(56, 155, 27)",
          "opacity": 0,
          "size": 1
         },
         "mode": "markers",
         "name": "",
         "showlegend": false,
         "text": [
          null,
          null
         ],
         "type": "scatter",
         "x": [
          "2020-03-20T00:00:00",
          "2020-04-23T00:00:00"
         ],
         "y": [
          17,
          17
         ]
        },
        {
         "legendgroup": "rgb(56, 18, 85)",
         "marker": {
          "color": "rgb(56, 18, 85)",
          "opacity": 0,
          "size": 1
         },
         "mode": "markers",
         "name": "",
         "showlegend": false,
         "text": [
          null,
          null
         ],
         "type": "scatter",
         "x": [
          "2020-01-31T00:00:00",
          "2020-05-10T00:00:00"
         ],
         "y": [
          163,
          163
         ]
        },
        {
         "legendgroup": "rgb(56, 184, 89)",
         "marker": {
          "color": "rgb(56, 184, 89)",
          "opacity": 0,
          "size": 1
         },
         "mode": "markers",
         "name": "",
         "showlegend": false,
         "text": [
          null,
          null
         ],
         "type": "scatter",
         "x": [
          "2020-03-01T00:00:00",
          "2020-05-10T00:00:00"
         ],
         "y": [
          125,
          125
         ]
        },
        {
         "legendgroup": "rgb(56, 204, 171)",
         "marker": {
          "color": "rgb(56, 204, 171)",
          "opacity": 0,
          "size": 1
         },
         "mode": "markers",
         "name": "",
         "showlegend": false,
         "text": [
          null,
          null
         ],
         "type": "scatter",
         "x": [
          "2020-02-01T00:00:00",
          "2020-05-10T00:00:00"
         ],
         "y": [
          162,
          162
         ]
        },
        {
         "legendgroup": "rgb(57, 112, 71)",
         "marker": {
          "color": "rgb(57, 112, 71)",
          "opacity": 0,
          "size": 1
         },
         "mode": "markers",
         "name": "",
         "showlegend": false,
         "text": [
          null,
          null
         ],
         "type": "scatter",
         "x": [
          "2020-03-17T00:00:00",
          "2020-05-06T00:00:00"
         ],
         "y": [
          39,
          39
         ]
        },
        {
         "legendgroup": "rgb(57, 17, 56)",
         "marker": {
          "color": "rgb(57, 17, 56)",
          "opacity": 0,
          "size": 1
         },
         "mode": "markers",
         "name": "",
         "showlegend": false,
         "text": [
          null,
          null
         ],
         "type": "scatter",
         "x": [
          "2020-03-24T00:00:00",
          "2020-05-07T00:00:00"
         ],
         "y": [
          24,
          24
         ]
        },
        {
         "legendgroup": "rgb(57, 184, 131)",
         "marker": {
          "color": "rgb(57, 184, 131)",
          "opacity": 0,
          "size": 1
         },
         "mode": "markers",
         "name": "",
         "showlegend": false,
         "text": [
          null,
          null
         ],
         "type": "scatter",
         "x": [
          "2020-01-31T00:00:00",
          "2020-05-10T00:00:00"
         ],
         "y": [
          166,
          166
         ]
        },
        {
         "legendgroup": "rgb(59, 74, 121)",
         "marker": {
          "color": "rgb(59, 74, 121)",
          "opacity": 0,
          "size": 1
         },
         "mode": "markers",
         "name": "",
         "showlegend": false,
         "text": [
          null,
          null
         ],
         "type": "scatter",
         "x": [
          "2020-01-25T00:00:00",
          "2020-05-10T00:00:00"
         ],
         "y": [
          176,
          176
         ]
        },
        {
         "legendgroup": "rgb(60, 20, 80)",
         "marker": {
          "color": "rgb(60, 20, 80)",
          "opacity": 0,
          "size": 1
         },
         "mode": "markers",
         "name": "",
         "showlegend": false,
         "text": [
          null,
          null
         ],
         "type": "scatter",
         "x": [
          "2020-03-14T00:00:00",
          "2020-05-04T00:00:00"
         ],
         "y": [
          42,
          42
         ]
        },
        {
         "legendgroup": "rgb(65, 137, 187)",
         "marker": {
          "color": "rgb(65, 137, 187)",
          "opacity": 0,
          "size": 1
         },
         "mode": "markers",
         "name": "",
         "showlegend": false,
         "text": [
          null,
          null
         ],
         "type": "scatter",
         "x": [
          "2020-03-26T00:00:00",
          "2020-05-10T00:00:00"
         ],
         "y": [
          26,
          26
         ]
        },
        {
         "legendgroup": "rgb(67, 108, 144)",
         "marker": {
          "color": "rgb(67, 108, 144)",
          "opacity": 0,
          "size": 1
         },
         "mode": "markers",
         "name": "",
         "showlegend": false,
         "text": [
          null,
          null
         ],
         "type": "scatter",
         "x": [
          "2020-02-25T00:00:00",
          "2020-05-10T00:00:00"
         ],
         "y": [
          150,
          150
         ]
        },
        {
         "legendgroup": "rgb(68, 3, 162)",
         "marker": {
          "color": "rgb(68, 3, 162)",
          "opacity": 0,
          "size": 1
         },
         "mode": "markers",
         "name": "",
         "showlegend": false,
         "text": [
          null,
          null
         ],
         "type": "scatter",
         "x": [
          "2020-03-31T00:00:00",
          "2020-05-03T00:00:00"
         ],
         "y": [
          15,
          15
         ]
        },
        {
         "legendgroup": "rgb(70, 153, 59)",
         "marker": {
          "color": "rgb(70, 153, 59)",
          "opacity": 0,
          "size": 1
         },
         "mode": "markers",
         "name": "",
         "showlegend": false,
         "text": [
          null,
          null
         ],
         "type": "scatter",
         "x": [
          "2020-01-22T00:00:00",
          "2020-05-10T00:00:00"
         ],
         "y": [
          184,
          184
         ]
        },
        {
         "legendgroup": "rgb(70, 179, 28)",
         "marker": {
          "color": "rgb(70, 179, 28)",
          "opacity": 0,
          "size": 1
         },
         "mode": "markers",
         "name": "",
         "showlegend": false,
         "text": [
          null,
          null
         ],
         "type": "scatter",
         "x": [
          "2020-03-06T00:00:00",
          "2020-05-10T00:00:00"
         ],
         "y": [
          98,
          98
         ]
        },
        {
         "legendgroup": "rgb(71, 84, 113)",
         "marker": {
          "color": "rgb(71, 84, 113)",
          "opacity": 0,
          "size": 1
         },
         "mode": "markers",
         "name": "",
         "showlegend": false,
         "text": [
          null,
          null
         ],
         "type": "scatter",
         "x": [
          "2020-03-11T00:00:00",
          "2020-05-09T00:00:00"
         ],
         "y": [
          78,
          78
         ]
        },
        {
         "legendgroup": "rgb(72, 119, 39)",
         "marker": {
          "color": "rgb(72, 119, 39)",
          "opacity": 0,
          "size": 1
         },
         "mode": "markers",
         "name": "",
         "showlegend": false,
         "text": [
          null,
          null
         ],
         "type": "scatter",
         "x": [
          "2020-02-26T00:00:00",
          "2020-05-10T00:00:00"
         ],
         "y": [
          143,
          143
         ]
        },
        {
         "legendgroup": "rgb(74, 134, 116)",
         "marker": {
          "color": "rgb(74, 134, 116)",
          "opacity": 0,
          "size": 1
         },
         "mode": "markers",
         "name": "",
         "showlegend": false,
         "text": [
          null,
          null
         ],
         "type": "scatter",
         "x": [
          "2020-03-09T00:00:00",
          "2020-05-10T00:00:00"
         ],
         "y": [
          88,
          88
         ]
        },
        {
         "legendgroup": "rgb(74, 153, 23)",
         "marker": {
          "color": "rgb(74, 153, 23)",
          "opacity": 0,
          "size": 1
         },
         "mode": "markers",
         "name": "",
         "showlegend": false,
         "text": [
          null,
          null
         ],
         "type": "scatter",
         "x": [
          "2020-02-25T00:00:00",
          "2020-05-10T00:00:00"
         ],
         "y": [
          149,
          149
         ]
        },
        {
         "legendgroup": "rgb(74, 169, 186)",
         "marker": {
          "color": "rgb(74, 169, 186)",
          "opacity": 0,
          "size": 1
         },
         "mode": "markers",
         "name": "",
         "showlegend": false,
         "text": [
          null,
          null
         ],
         "type": "scatter",
         "x": [
          "2020-03-15T00:00:00",
          "2020-05-09T00:00:00"
         ],
         "y": [
          61,
          61
         ]
        },
        {
         "legendgroup": "rgb(74, 75, 197)",
         "marker": {
          "color": "rgb(74, 75, 197)",
          "opacity": 0,
          "size": 1
         },
         "mode": "markers",
         "name": "",
         "showlegend": false,
         "text": [
          null,
          null
         ],
         "type": "scatter",
         "x": [
          "2020-03-11T00:00:00",
          "2020-05-10T00:00:00"
         ],
         "y": [
          83,
          83
         ]
        },
        {
         "legendgroup": "rgb(75, 67, 0)",
         "marker": {
          "color": "rgb(75, 67, 0)",
          "opacity": 0,
          "size": 1
         },
         "mode": "markers",
         "name": "",
         "showlegend": false,
         "text": [
          null,
          null
         ],
         "type": "scatter",
         "x": [
          "2020-03-03T00:00:00",
          "2020-05-10T00:00:00"
         ],
         "y": [
          113,
          113
         ]
        },
        {
         "legendgroup": "rgb(75, 96, 149)",
         "marker": {
          "color": "rgb(75, 96, 149)",
          "opacity": 0,
          "size": 1
         },
         "mode": "markers",
         "name": "",
         "showlegend": false,
         "text": [
          null,
          null
         ],
         "type": "scatter",
         "x": [
          "2020-03-12T00:00:00",
          "2020-05-10T00:00:00"
         ],
         "y": [
          77,
          77
         ]
        },
        {
         "legendgroup": "rgb(8, 148, 108)",
         "marker": {
          "color": "rgb(8, 148, 108)",
          "opacity": 0,
          "size": 1
         },
         "mode": "markers",
         "name": "",
         "showlegend": false,
         "text": [
          null,
          null
         ],
         "type": "scatter",
         "x": [
          "2020-01-22T00:00:00",
          "2020-05-10T00:00:00"
         ],
         "y": [
          185,
          185
         ]
        },
        {
         "legendgroup": "rgb(8, 50, 163)",
         "marker": {
          "color": "rgb(8, 50, 163)",
          "opacity": 0,
          "size": 1
         },
         "mode": "markers",
         "name": "",
         "showlegend": false,
         "text": [
          null,
          null
         ],
         "type": "scatter",
         "x": [
          "2020-03-01T00:00:00",
          "2020-05-10T00:00:00"
         ],
         "y": [
          123,
          123
         ]
        },
        {
         "legendgroup": "rgb(8, 86, 59)",
         "marker": {
          "color": "rgb(8, 86, 59)",
          "opacity": 0,
          "size": 1
         },
         "mode": "markers",
         "name": "",
         "showlegend": false,
         "text": [
          null,
          null
         ],
         "type": "scatter",
         "x": [
          "2020-03-31T00:00:00",
          "2020-05-10T00:00:00"
         ],
         "y": [
          21,
          21
         ]
        },
        {
         "legendgroup": "rgb(80, 36, 112)",
         "marker": {
          "color": "rgb(80, 36, 112)",
          "opacity": 0,
          "size": 1
         },
         "mode": "markers",
         "name": "",
         "showlegend": false,
         "text": [
          null,
          null
         ],
         "type": "scatter",
         "x": [
          "2020-03-08T00:00:00",
          "2020-05-10T00:00:00"
         ],
         "y": [
          91,
          91
         ]
        },
        {
         "legendgroup": "rgb(81, 155, 75)",
         "marker": {
          "color": "rgb(81, 155, 75)",
          "opacity": 0,
          "size": 1
         },
         "mode": "markers",
         "name": "",
         "showlegend": false,
         "text": [
          null,
          null
         ],
         "type": "scatter",
         "x": [
          "2020-03-03T00:00:00",
          "2020-05-10T00:00:00"
         ],
         "y": [
          112,
          112
         ]
        },
        {
         "legendgroup": "rgb(81, 91, 160)",
         "marker": {
          "color": "rgb(81, 91, 160)",
          "opacity": 0,
          "size": 1
         },
         "mode": "markers",
         "name": "",
         "showlegend": false,
         "text": [
          null,
          null
         ],
         "type": "scatter",
         "x": [
          "2020-03-19T00:00:00",
          "2020-05-10T00:00:00"
         ],
         "y": [
          48,
          48
         ]
        },
        {
         "legendgroup": "rgb(83, 119, 171)",
         "marker": {
          "color": "rgb(83, 119, 171)",
          "opacity": 0,
          "size": 1
         },
         "mode": "markers",
         "name": "",
         "showlegend": false,
         "text": [
          null,
          null
         ],
         "type": "scatter",
         "x": [
          "2020-03-09T00:00:00",
          "2020-05-08T00:00:00"
         ],
         "y": [
          81,
          81
         ]
        },
        {
         "legendgroup": "rgb(83, 121, 183)",
         "marker": {
          "color": "rgb(83, 121, 183)",
          "opacity": 0,
          "size": 1
         },
         "mode": "markers",
         "name": "",
         "showlegend": false,
         "text": [
          null,
          null
         ],
         "type": "scatter",
         "x": [
          "2020-01-24T00:00:00",
          "2020-05-10T00:00:00"
         ],
         "y": [
          178,
          178
         ]
        },
        {
         "legendgroup": "rgb(83, 192, 76)",
         "marker": {
          "color": "rgb(83, 192, 76)",
          "opacity": 0,
          "size": 1
         },
         "mode": "markers",
         "name": "",
         "showlegend": false,
         "text": [
          null,
          null
         ],
         "type": "scatter",
         "x": [
          "2020-03-10T00:00:00",
          "2020-05-09T00:00:00"
         ],
         "y": [
          84,
          84
         ]
        },
        {
         "legendgroup": "rgb(85, 6, 118)",
         "marker": {
          "color": "rgb(85, 6, 118)",
          "opacity": 0,
          "size": 1
         },
         "mode": "markers",
         "name": "",
         "showlegend": false,
         "text": [
          null,
          null
         ],
         "type": "scatter",
         "x": [
          "2020-03-09T00:00:00",
          "2020-05-10T00:00:00"
         ],
         "y": [
          89,
          89
         ]
        },
        {
         "legendgroup": "rgb(86, 123, 17)",
         "marker": {
          "color": "rgb(86, 123, 17)",
          "opacity": 0,
          "size": 1
         },
         "mode": "markers",
         "name": "",
         "showlegend": false,
         "text": [
          null,
          null
         ],
         "type": "scatter",
         "x": [
          "2020-04-10T00:00:00",
          "2020-05-09T00:00:00"
         ],
         "y": [
          12,
          12
         ]
        },
        {
         "legendgroup": "rgb(86, 59, 181)",
         "marker": {
          "color": "rgb(86, 59, 181)",
          "opacity": 0,
          "size": 1
         },
         "mode": "markers",
         "name": "",
         "showlegend": false,
         "text": [
          null,
          null
         ],
         "type": "scatter",
         "x": [
          "2020-03-15T00:00:00",
          "2020-05-07T00:00:00"
         ],
         "y": [
          53,
          53
         ]
        },
        {
         "legendgroup": "rgb(87, 23, 152)",
         "marker": {
          "color": "rgb(87, 23, 152)",
          "opacity": 0,
          "size": 1
         },
         "mode": "markers",
         "name": "",
         "showlegend": false,
         "text": [
          null,
          null
         ],
         "type": "scatter",
         "x": [
          "2020-03-08T00:00:00",
          "2020-05-10T00:00:00"
         ],
         "y": [
          93,
          93
         ]
        },
        {
         "legendgroup": "rgb(88, 117, 146)",
         "marker": {
          "color": "rgb(88, 117, 146)",
          "opacity": 0,
          "size": 1
         },
         "mode": "markers",
         "name": "",
         "showlegend": false,
         "text": [
          null,
          null
         ],
         "type": "scatter",
         "x": [
          "2020-02-29T00:00:00",
          "2020-05-10T00:00:00"
         ],
         "y": [
          130,
          130
         ]
        },
        {
         "legendgroup": "rgb(88, 33, 36)",
         "marker": {
          "color": "rgb(88, 33, 36)",
          "opacity": 0,
          "size": 1
         },
         "mode": "markers",
         "name": "",
         "showlegend": false,
         "text": [
          null,
          null
         ],
         "type": "scatter",
         "x": [
          "2020-03-19T00:00:00",
          "2020-05-06T00:00:00"
         ],
         "y": [
          31,
          31
         ]
        },
        {
         "legendgroup": "rgb(88, 41, 37)",
         "marker": {
          "color": "rgb(88, 41, 37)",
          "opacity": 0,
          "size": 1
         },
         "mode": "markers",
         "name": "",
         "showlegend": false,
         "text": [
          null,
          null
         ],
         "type": "scatter",
         "x": [
          "2020-03-06T00:00:00",
          "2020-04-24T00:00:00"
         ],
         "y": [
          34,
          34
         ]
        },
        {
         "legendgroup": "rgb(90, 140, 85)",
         "marker": {
          "color": "rgb(90, 140, 85)",
          "opacity": 0,
          "size": 1
         },
         "mode": "markers",
         "name": "",
         "showlegend": false,
         "text": [
          null,
          null
         ],
         "type": "scatter",
         "x": [
          "2020-03-25T00:00:00",
          "2020-04-21T00:00:00"
         ],
         "y": [
          10,
          10
         ]
        },
        {
         "legendgroup": "rgb(90, 60, 85)",
         "marker": {
          "color": "rgb(90, 60, 85)",
          "opacity": 0,
          "size": 1
         },
         "mode": "markers",
         "name": "",
         "showlegend": false,
         "text": [
          null,
          null
         ],
         "type": "scatter",
         "x": [
          "2020-03-06T00:00:00",
          "2020-05-10T00:00:00"
         ],
         "y": [
          100,
          100
         ]
        },
        {
         "legendgroup": "rgb(91, 179, 112)",
         "marker": {
          "color": "rgb(91, 179, 112)",
          "opacity": 0,
          "size": 1
         },
         "mode": "markers",
         "name": "",
         "showlegend": false,
         "text": [
          null,
          null
         ],
         "type": "scatter",
         "x": [
          "2020-03-15T00:00:00",
          "2020-05-10T00:00:00"
         ],
         "y": [
          62,
          62
         ]
        },
        {
         "legendgroup": "rgb(96, 119, 152)",
         "marker": {
          "color": "rgb(96, 119, 152)",
          "opacity": 0,
          "size": 1
         },
         "mode": "markers",
         "name": "",
         "showlegend": false,
         "text": [
          null,
          null
         ],
         "type": "scatter",
         "x": [
          "2020-01-29T00:00:00",
          "2020-05-10T00:00:00"
         ],
         "y": [
          170,
          170
         ]
        },
        {
         "legendgroup": "rgb(96, 82, 161)",
         "marker": {
          "color": "rgb(96, 82, 161)",
          "opacity": 0,
          "size": 1
         },
         "mode": "markers",
         "name": "",
         "showlegend": false,
         "text": [
          null,
          null
         ],
         "type": "scatter",
         "x": [
          "2020-03-19T00:00:00",
          "2020-04-21T00:00:00"
         ],
         "y": [
          14,
          14
         ]
        },
        {
         "legendgroup": "rgb(97, 54, 147)",
         "marker": {
          "color": "rgb(97, 54, 147)",
          "opacity": 0,
          "size": 1
         },
         "mode": "markers",
         "name": "",
         "showlegend": false,
         "text": [
          null,
          null
         ],
         "type": "scatter",
         "x": [
          "2020-03-14T00:00:00",
          "2020-04-07T00:00:00"
         ],
         "y": [
          9,
          9
         ]
        },
        {
         "legendgroup": "rgb(98, 149, 121)",
         "marker": {
          "color": "rgb(98, 149, 121)",
          "opacity": 0,
          "size": 1
         },
         "mode": "markers",
         "name": "",
         "showlegend": false,
         "text": [
          null,
          null
         ],
         "type": "scatter",
         "x": [
          "2020-01-27T00:00:00",
          "2020-04-13T00:00:00"
         ],
         "y": [
          156,
          156
         ]
        },
        {
         "legendgroup": "rgb(98, 28, 48)",
         "marker": {
          "color": "rgb(98, 28, 48)",
          "opacity": 0,
          "size": 1
         },
         "mode": "markers",
         "name": "",
         "showlegend": false,
         "text": [
          null,
          null
         ],
         "type": "scatter",
         "x": [
          "2020-04-02T00:00:00",
          "2020-05-10T00:00:00"
         ],
         "y": [
          20,
          20
         ]
        },
        {
         "legendgroup": "rgb(98, 37, 152)",
         "marker": {
          "color": "rgb(98, 37, 152)",
          "opacity": 0,
          "size": 1
         },
         "mode": "markers",
         "name": "",
         "showlegend": false,
         "text": [
          null,
          null
         ],
         "type": "scatter",
         "x": [
          "2020-03-13T00:00:00",
          "2020-05-10T00:00:00"
         ],
         "y": [
          72,
          72
         ]
        },
        {
         "legendgroup": "rgb(99, 116, 171)",
         "marker": {
          "color": "rgb(99, 116, 171)",
          "opacity": 0,
          "size": 1
         },
         "mode": "markers",
         "name": "",
         "showlegend": false,
         "text": [
          null,
          null
         ],
         "type": "scatter",
         "x": [
          "2020-03-02T00:00:00",
          "2020-05-10T00:00:00"
         ],
         "y": [
          119,
          119
         ]
        },
        {
         "legendgroup": "rgb(99, 176, 113)",
         "marker": {
          "color": "rgb(99, 176, 113)",
          "opacity": 0,
          "size": 1
         },
         "mode": "markers",
         "name": "",
         "showlegend": false,
         "text": [
          null,
          null
         ],
         "type": "scatter",
         "x": [
          "2020-03-06T00:00:00",
          "2020-05-09T00:00:00"
         ],
         "y": [
          97,
          97
         ]
        }
       ],
       "layout": {
        "height": 2500,
        "hovermode": "closest",
        "showlegend": false,
        "template": {
         "data": {
          "bar": [
           {
            "error_x": {
             "color": "#2a3f5f"
            },
            "error_y": {
             "color": "#2a3f5f"
            },
            "marker": {
             "line": {
              "color": "#E5ECF6",
              "width": 0.5
             }
            },
            "type": "bar"
           }
          ],
          "barpolar": [
           {
            "marker": {
             "line": {
              "color": "#E5ECF6",
              "width": 0.5
             }
            },
            "type": "barpolar"
           }
          ],
          "carpet": [
           {
            "aaxis": {
             "endlinecolor": "#2a3f5f",
             "gridcolor": "white",
             "linecolor": "white",
             "minorgridcolor": "white",
             "startlinecolor": "#2a3f5f"
            },
            "baxis": {
             "endlinecolor": "#2a3f5f",
             "gridcolor": "white",
             "linecolor": "white",
             "minorgridcolor": "white",
             "startlinecolor": "#2a3f5f"
            },
            "type": "carpet"
           }
          ],
          "choropleth": [
           {
            "colorbar": {
             "outlinewidth": 0,
             "ticks": ""
            },
            "type": "choropleth"
           }
          ],
          "contour": [
           {
            "colorbar": {
             "outlinewidth": 0,
             "ticks": ""
            },
            "colorscale": [
             [
              0,
              "#0d0887"
             ],
             [
              0.1111111111111111,
              "#46039f"
             ],
             [
              0.2222222222222222,
              "#7201a8"
             ],
             [
              0.3333333333333333,
              "#9c179e"
             ],
             [
              0.4444444444444444,
              "#bd3786"
             ],
             [
              0.5555555555555556,
              "#d8576b"
             ],
             [
              0.6666666666666666,
              "#ed7953"
             ],
             [
              0.7777777777777778,
              "#fb9f3a"
             ],
             [
              0.8888888888888888,
              "#fdca26"
             ],
             [
              1,
              "#f0f921"
             ]
            ],
            "type": "contour"
           }
          ],
          "contourcarpet": [
           {
            "colorbar": {
             "outlinewidth": 0,
             "ticks": ""
            },
            "type": "contourcarpet"
           }
          ],
          "heatmap": [
           {
            "colorbar": {
             "outlinewidth": 0,
             "ticks": ""
            },
            "colorscale": [
             [
              0,
              "#0d0887"
             ],
             [
              0.1111111111111111,
              "#46039f"
             ],
             [
              0.2222222222222222,
              "#7201a8"
             ],
             [
              0.3333333333333333,
              "#9c179e"
             ],
             [
              0.4444444444444444,
              "#bd3786"
             ],
             [
              0.5555555555555556,
              "#d8576b"
             ],
             [
              0.6666666666666666,
              "#ed7953"
             ],
             [
              0.7777777777777778,
              "#fb9f3a"
             ],
             [
              0.8888888888888888,
              "#fdca26"
             ],
             [
              1,
              "#f0f921"
             ]
            ],
            "type": "heatmap"
           }
          ],
          "heatmapgl": [
           {
            "colorbar": {
             "outlinewidth": 0,
             "ticks": ""
            },
            "colorscale": [
             [
              0,
              "#0d0887"
             ],
             [
              0.1111111111111111,
              "#46039f"
             ],
             [
              0.2222222222222222,
              "#7201a8"
             ],
             [
              0.3333333333333333,
              "#9c179e"
             ],
             [
              0.4444444444444444,
              "#bd3786"
             ],
             [
              0.5555555555555556,
              "#d8576b"
             ],
             [
              0.6666666666666666,
              "#ed7953"
             ],
             [
              0.7777777777777778,
              "#fb9f3a"
             ],
             [
              0.8888888888888888,
              "#fdca26"
             ],
             [
              1,
              "#f0f921"
             ]
            ],
            "type": "heatmapgl"
           }
          ],
          "histogram": [
           {
            "marker": {
             "colorbar": {
              "outlinewidth": 0,
              "ticks": ""
             }
            },
            "type": "histogram"
           }
          ],
          "histogram2d": [
           {
            "colorbar": {
             "outlinewidth": 0,
             "ticks": ""
            },
            "colorscale": [
             [
              0,
              "#0d0887"
             ],
             [
              0.1111111111111111,
              "#46039f"
             ],
             [
              0.2222222222222222,
              "#7201a8"
             ],
             [
              0.3333333333333333,
              "#9c179e"
             ],
             [
              0.4444444444444444,
              "#bd3786"
             ],
             [
              0.5555555555555556,
              "#d8576b"
             ],
             [
              0.6666666666666666,
              "#ed7953"
             ],
             [
              0.7777777777777778,
              "#fb9f3a"
             ],
             [
              0.8888888888888888,
              "#fdca26"
             ],
             [
              1,
              "#f0f921"
             ]
            ],
            "type": "histogram2d"
           }
          ],
          "histogram2dcontour": [
           {
            "colorbar": {
             "outlinewidth": 0,
             "ticks": ""
            },
            "colorscale": [
             [
              0,
              "#0d0887"
             ],
             [
              0.1111111111111111,
              "#46039f"
             ],
             [
              0.2222222222222222,
              "#7201a8"
             ],
             [
              0.3333333333333333,
              "#9c179e"
             ],
             [
              0.4444444444444444,
              "#bd3786"
             ],
             [
              0.5555555555555556,
              "#d8576b"
             ],
             [
              0.6666666666666666,
              "#ed7953"
             ],
             [
              0.7777777777777778,
              "#fb9f3a"
             ],
             [
              0.8888888888888888,
              "#fdca26"
             ],
             [
              1,
              "#f0f921"
             ]
            ],
            "type": "histogram2dcontour"
           }
          ],
          "mesh3d": [
           {
            "colorbar": {
             "outlinewidth": 0,
             "ticks": ""
            },
            "type": "mesh3d"
           }
          ],
          "parcoords": [
           {
            "line": {
             "colorbar": {
              "outlinewidth": 0,
              "ticks": ""
             }
            },
            "type": "parcoords"
           }
          ],
          "pie": [
           {
            "automargin": true,
            "type": "pie"
           }
          ],
          "scatter": [
           {
            "marker": {
             "colorbar": {
              "outlinewidth": 0,
              "ticks": ""
             }
            },
            "type": "scatter"
           }
          ],
          "scatter3d": [
           {
            "line": {
             "colorbar": {
              "outlinewidth": 0,
              "ticks": ""
             }
            },
            "marker": {
             "colorbar": {
              "outlinewidth": 0,
              "ticks": ""
             }
            },
            "type": "scatter3d"
           }
          ],
          "scattercarpet": [
           {
            "marker": {
             "colorbar": {
              "outlinewidth": 0,
              "ticks": ""
             }
            },
            "type": "scattercarpet"
           }
          ],
          "scattergeo": [
           {
            "marker": {
             "colorbar": {
              "outlinewidth": 0,
              "ticks": ""
             }
            },
            "type": "scattergeo"
           }
          ],
          "scattergl": [
           {
            "marker": {
             "colorbar": {
              "outlinewidth": 0,
              "ticks": ""
             }
            },
            "type": "scattergl"
           }
          ],
          "scattermapbox": [
           {
            "marker": {
             "colorbar": {
              "outlinewidth": 0,
              "ticks": ""
             }
            },
            "type": "scattermapbox"
           }
          ],
          "scatterpolar": [
           {
            "marker": {
             "colorbar": {
              "outlinewidth": 0,
              "ticks": ""
             }
            },
            "type": "scatterpolar"
           }
          ],
          "scatterpolargl": [
           {
            "marker": {
             "colorbar": {
              "outlinewidth": 0,
              "ticks": ""
             }
            },
            "type": "scatterpolargl"
           }
          ],
          "scatterternary": [
           {
            "marker": {
             "colorbar": {
              "outlinewidth": 0,
              "ticks": ""
             }
            },
            "type": "scatterternary"
           }
          ],
          "surface": [
           {
            "colorbar": {
             "outlinewidth": 0,
             "ticks": ""
            },
            "colorscale": [
             [
              0,
              "#0d0887"
             ],
             [
              0.1111111111111111,
              "#46039f"
             ],
             [
              0.2222222222222222,
              "#7201a8"
             ],
             [
              0.3333333333333333,
              "#9c179e"
             ],
             [
              0.4444444444444444,
              "#bd3786"
             ],
             [
              0.5555555555555556,
              "#d8576b"
             ],
             [
              0.6666666666666666,
              "#ed7953"
             ],
             [
              0.7777777777777778,
              "#fb9f3a"
             ],
             [
              0.8888888888888888,
              "#fdca26"
             ],
             [
              1,
              "#f0f921"
             ]
            ],
            "type": "surface"
           }
          ],
          "table": [
           {
            "cells": {
             "fill": {
              "color": "#EBF0F8"
             },
             "line": {
              "color": "white"
             }
            },
            "header": {
             "fill": {
              "color": "#C8D4E3"
             },
             "line": {
              "color": "white"
             }
            },
            "type": "table"
           }
          ]
         },
         "layout": {
          "annotationdefaults": {
           "arrowcolor": "#2a3f5f",
           "arrowhead": 0,
           "arrowwidth": 1
          },
          "coloraxis": {
           "colorbar": {
            "outlinewidth": 0,
            "ticks": ""
           }
          },
          "colorscale": {
           "diverging": [
            [
             0,
             "#8e0152"
            ],
            [
             0.1,
             "#c51b7d"
            ],
            [
             0.2,
             "#de77ae"
            ],
            [
             0.3,
             "#f1b6da"
            ],
            [
             0.4,
             "#fde0ef"
            ],
            [
             0.5,
             "#f7f7f7"
            ],
            [
             0.6,
             "#e6f5d0"
            ],
            [
             0.7,
             "#b8e186"
            ],
            [
             0.8,
             "#7fbc41"
            ],
            [
             0.9,
             "#4d9221"
            ],
            [
             1,
             "#276419"
            ]
           ],
           "sequential": [
            [
             0,
             "#0d0887"
            ],
            [
             0.1111111111111111,
             "#46039f"
            ],
            [
             0.2222222222222222,
             "#7201a8"
            ],
            [
             0.3333333333333333,
             "#9c179e"
            ],
            [
             0.4444444444444444,
             "#bd3786"
            ],
            [
             0.5555555555555556,
             "#d8576b"
            ],
            [
             0.6666666666666666,
             "#ed7953"
            ],
            [
             0.7777777777777778,
             "#fb9f3a"
            ],
            [
             0.8888888888888888,
             "#fdca26"
            ],
            [
             1,
             "#f0f921"
            ]
           ],
           "sequentialminus": [
            [
             0,
             "#0d0887"
            ],
            [
             0.1111111111111111,
             "#46039f"
            ],
            [
             0.2222222222222222,
             "#7201a8"
            ],
            [
             0.3333333333333333,
             "#9c179e"
            ],
            [
             0.4444444444444444,
             "#bd3786"
            ],
            [
             0.5555555555555556,
             "#d8576b"
            ],
            [
             0.6666666666666666,
             "#ed7953"
            ],
            [
             0.7777777777777778,
             "#fb9f3a"
            ],
            [
             0.8888888888888888,
             "#fdca26"
            ],
            [
             1,
             "#f0f921"
            ]
           ]
          },
          "colorway": [
           "#636efa",
           "#EF553B",
           "#00cc96",
           "#ab63fa",
           "#FFA15A",
           "#19d3f3",
           "#FF6692",
           "#B6E880",
           "#FF97FF",
           "#FECB52"
          ],
          "font": {
           "color": "#2a3f5f"
          },
          "geo": {
           "bgcolor": "white",
           "lakecolor": "white",
           "landcolor": "#E5ECF6",
           "showlakes": true,
           "showland": true,
           "subunitcolor": "white"
          },
          "hoverlabel": {
           "align": "left"
          },
          "hovermode": "closest",
          "mapbox": {
           "style": "light"
          },
          "paper_bgcolor": "white",
          "plot_bgcolor": "#E5ECF6",
          "polar": {
           "angularaxis": {
            "gridcolor": "white",
            "linecolor": "white",
            "ticks": ""
           },
           "bgcolor": "#E5ECF6",
           "radialaxis": {
            "gridcolor": "white",
            "linecolor": "white",
            "ticks": ""
           }
          },
          "scene": {
           "xaxis": {
            "backgroundcolor": "#E5ECF6",
            "gridcolor": "white",
            "gridwidth": 2,
            "linecolor": "white",
            "showbackground": true,
            "ticks": "",
            "zerolinecolor": "white"
           },
           "yaxis": {
            "backgroundcolor": "#E5ECF6",
            "gridcolor": "white",
            "gridwidth": 2,
            "linecolor": "white",
            "showbackground": true,
            "ticks": "",
            "zerolinecolor": "white"
           },
           "zaxis": {
            "backgroundcolor": "#E5ECF6",
            "gridcolor": "white",
            "gridwidth": 2,
            "linecolor": "white",
            "showbackground": true,
            "ticks": "",
            "zerolinecolor": "white"
           }
          },
          "shapedefaults": {
           "line": {
            "color": "#2a3f5f"
           }
          },
          "ternary": {
           "aaxis": {
            "gridcolor": "white",
            "linecolor": "white",
            "ticks": ""
           },
           "baxis": {
            "gridcolor": "white",
            "linecolor": "white",
            "ticks": ""
           },
           "bgcolor": "#E5ECF6",
           "caxis": {
            "gridcolor": "white",
            "linecolor": "white",
            "ticks": ""
           }
          },
          "title": {
           "x": 0.05
          },
          "xaxis": {
           "automargin": true,
           "gridcolor": "white",
           "linecolor": "white",
           "ticks": "",
           "title": {
            "standoff": 15
           },
           "zerolinecolor": "white",
           "zerolinewidth": 2
          },
          "yaxis": {
           "automargin": true,
           "gridcolor": "white",
           "linecolor": "white",
           "ticks": "",
           "title": {
            "standoff": 15
           },
           "zerolinecolor": "white",
           "zerolinewidth": 2
          }
         }
        },
        "title": {
         "text": "Gantt Chart"
        },
        "xaxis": {
         "rangeselector": {
          "buttons": [
           {
            "count": 7,
            "label": "1w",
            "step": "day",
            "stepmode": "backward"
           },
           {
            "count": 1,
            "label": "1m",
            "step": "month",
            "stepmode": "backward"
           },
           {
            "count": 6,
            "label": "6m",
            "step": "month",
            "stepmode": "backward"
           },
           {
            "count": 1,
            "label": "YTD",
            "step": "year",
            "stepmode": "todate"
           },
           {
            "count": 1,
            "label": "1y",
            "step": "year",
            "stepmode": "backward"
           },
           {
            "step": "all"
           }
          ]
         },
         "showgrid": true,
         "type": "date",
         "zeroline": false
        },
        "yaxis": {
         "autorange": false,
         "range": [
          -1,
          187
         ],
         "showgrid": true,
         "ticktext": [
          "Western Sahara",
          "Comoros",
          "Tajikistan",
          "Suriname",
          "Greenland",
          "Dominica",
          "Laos",
          "Belize",
          "Namibia",
          "Seychelles",
          "Saint Kitts and Nevis",
          "Eritrea",
          "Yemen",
          "Botswana",
          "Fiji",
          "Burundi",
          "Sao Tome and Principe",
          "Papua New Guinea",
          "Timor-Leste",
          "South Sudan",
          "Malawi",
          "Sierra Leone",
          "Mauritius",
          "Grenada",
          "Libya",
          "Burma",
          "Kosovo",
          "Trinidad and Tobago",
          "Guinea-Bissau",
          "Mali",
          "Mauritania",
          "Nicaragua",
          "Syria",
          "Mozambique",
          "Bhutan",
          "Madagascar",
          "Uganda",
          "Antigua and Barbuda",
          "Angola",
          "Montenegro",
          "Zimbabwe",
          "Haiti",
          "Saint Lucia",
          "Cabo Verde",
          "Niger",
          "Saint Vincent and the Grenadines",
          "Chad",
          "Bahamas",
          "El Salvador",
          "Kyrgyzstan",
          "Djibouti",
          "Zambia",
          "Gambia",
          "Equatorial Guinea",
          "Liechtenstein",
          "Tanzania",
          "Liberia",
          "Barbados",
          "Somalia",
          "Congo (Brazzaville)",
          "Benin",
          "Central African Republic",
          "Uzbekistan",
          "Eswatini",
          "Gabon",
          "Venezuela",
          "Ghana",
          "Rwanda",
          "Guatemala",
          "Uruguay",
          "Kazakhstan",
          "Sudan",
          "Guinea",
          "Guyana",
          "Kenya",
          "Ethiopia",
          "Jamaica",
          "Cuba",
          "Congo (Kinshasa)",
          "Turkey",
          "Cote d'Ivoire",
          "Brunei",
          "Bolivia",
          "Honduras",
          "Mongolia",
          "Burkina Faso",
          "Panama",
          "Holy See",
          "Cyprus",
          "Albania",
          "Moldova",
          "Maldives",
          "Bulgaria",
          "Bangladesh",
          "Paraguay",
          "Malta",
          "West Bank and Gaza",
          "Slovakia",
          "Costa Rica",
          "Cameroon",
          "Serbia",
          "Colombia",
          "Togo",
          "Peru",
          "South Africa",
          "Bosnia and Herzegovina",
          "Slovenia",
          "Poland",
          "Hungary",
          "Tunisia",
          "Argentina",
          "Chile",
          "Jordan",
          "Ukraine",
          "Saudi Arabia",
          "Portugal",
          "Andorra",
          "Senegal",
          "Latvia",
          "Indonesia",
          "Morocco",
          "Ecuador",
          "Iceland",
          "Armenia",
          "Azerbaijan",
          "Czechia",
          "Dominican Republic",
          "Ireland",
          "Qatar",
          "Monaco",
          "Luxembourg",
          "Belarus",
          "Nigeria",
          "Mexico",
          "New Zealand",
          "Lithuania",
          "San Marino",
          "Estonia",
          "Netherlands",
          "Denmark",
          "Greece",
          "Georgia",
          "Pakistan",
          "Norway",
          "North Macedonia",
          "Brazil",
          "Romania",
          "Austria",
          "Switzerland",
          "Algeria",
          "Croatia",
          "Afghanistan",
          "Kuwait",
          "Bahrain",
          "Oman",
          "Iraq",
          "Cambodia",
          "Israel",
          "Lebanon",
          "Iran",
          "Egypt",
          "Belgium",
          "Spain",
          "Sweden",
          "United Kingdom",
          "Russia",
          "Italy",
          "India",
          "Philippines",
          "United Arab Emirates",
          "Finland",
          "Germany",
          "Sri Lanka",
          "Australia",
          "Canada",
          "Malaysia",
          "Nepal",
          "Vietnam",
          "France",
          "Taiwan*",
          "Singapore",
          "Thailand",
          "China",
          "Japan",
          "South Korea",
          "US"
         ],
         "tickvals": [
          0,
          1,
          2,
          3,
          4,
          5,
          6,
          7,
          8,
          9,
          10,
          11,
          12,
          13,
          14,
          15,
          16,
          17,
          18,
          19,
          20,
          21,
          22,
          23,
          24,
          25,
          26,
          27,
          28,
          29,
          30,
          31,
          32,
          33,
          34,
          35,
          36,
          37,
          38,
          39,
          40,
          41,
          42,
          43,
          44,
          45,
          46,
          47,
          48,
          49,
          50,
          51,
          52,
          53,
          54,
          55,
          56,
          57,
          58,
          59,
          60,
          61,
          62,
          63,
          64,
          65,
          66,
          67,
          68,
          69,
          70,
          71,
          72,
          73,
          74,
          75,
          76,
          77,
          78,
          79,
          80,
          81,
          82,
          83,
          84,
          85,
          86,
          87,
          88,
          89,
          90,
          91,
          92,
          93,
          94,
          95,
          96,
          97,
          98,
          99,
          100,
          101,
          102,
          103,
          104,
          105,
          106,
          107,
          108,
          109,
          110,
          111,
          112,
          113,
          114,
          115,
          116,
          117,
          118,
          119,
          120,
          121,
          122,
          123,
          124,
          125,
          126,
          127,
          128,
          129,
          130,
          131,
          132,
          133,
          134,
          135,
          136,
          137,
          138,
          139,
          140,
          141,
          142,
          143,
          144,
          145,
          146,
          147,
          148,
          149,
          150,
          151,
          152,
          153,
          154,
          155,
          156,
          157,
          158,
          159,
          160,
          161,
          162,
          163,
          164,
          165,
          166,
          167,
          168,
          169,
          170,
          171,
          172,
          173,
          174,
          175,
          176,
          177,
          178,
          179,
          180,
          181,
          182,
          183,
          184,
          185
         ],
         "zeroline": false
        }
       }
      },
      "text/html": [
       "<div>\n",
       "        \n",
       "        \n",
       "            <div id=\"27f6273b-c728-44d3-ba31-156a951ae546\" class=\"plotly-graph-div\" style=\"height:2500px; width:100%;\"></div>\n",
       "            <script type=\"text/javascript\">\n",
       "                require([\"plotly\"], function(Plotly) {\n",
       "                    window.PLOTLYENV=window.PLOTLYENV || {};\n",
       "                    \n",
       "                if (document.getElementById(\"27f6273b-c728-44d3-ba31-156a951ae546\")) {\n",
       "                    Plotly.newPlot(\n",
       "                        '27f6273b-c728-44d3-ba31-156a951ae546',\n",
       "                        [{\"fill\": \"toself\", \"fillcolor\": \"rgb(0, 74, 66)\", \"hoverinfo\": \"name\", \"legendgroup\": \"rgb(0, 74, 66)\", \"mode\": \"none\", \"name\": \"Somalia\", \"showlegend\": false, \"type\": \"scatter\", \"x\": [\"2020-03-16T00:00:00\", \"2020-05-10T00:00:00\", \"2020-05-10T00:00:00\", \"2020-03-16T00:00:00\"], \"y\": [57.8, 57.8, 58.2, 58.2]}, {\"fill\": \"toself\", \"fillcolor\": \"rgb(1, 170, 33)\", \"hoverinfo\": \"name\", \"legendgroup\": \"rgb(1, 170, 33)\", \"mode\": \"none\", \"name\": \"Pakistan\", \"showlegend\": false, \"type\": \"scatter\", \"x\": [\"2020-02-26T00:00:00\", \"2020-05-10T00:00:00\", \"2020-05-10T00:00:00\", \"2020-02-26T00:00:00\"], \"y\": [141.8, 141.8, 142.2, 142.2]}, {\"fill\": \"toself\", \"fillcolor\": \"rgb(1, 66, 33)\", \"hoverinfo\": \"name\", \"legendgroup\": \"rgb(1, 66, 33)\", \"mode\": \"none\", \"name\": \"Bahrain\", \"showlegend\": false, \"type\": \"scatter\", \"x\": [\"2020-02-24T00:00:00\", \"2020-05-10T00:00:00\", \"2020-05-10T00:00:00\", \"2020-02-24T00:00:00\"], \"y\": [152.8, 152.8, 153.2, 153.2]}, {\"fill\": \"toself\", \"fillcolor\": \"rgb(100, 137, 21)\", \"hoverinfo\": \"name\", \"legendgroup\": \"rgb(100, 137, 21)\", \"mode\": \"none\", \"name\": \"Afghanistan\", \"showlegend\": false, \"type\": \"scatter\", \"x\": [\"2020-02-24T00:00:00\", \"2020-05-10T00:00:00\", \"2020-05-10T00:00:00\", \"2020-02-24T00:00:00\"], \"y\": [150.8, 150.8, 151.2, 151.2]}, {\"fill\": \"toself\", \"fillcolor\": \"rgb(102, 139, 60)\", \"hoverinfo\": \"name\", \"legendgroup\": \"rgb(102, 139, 60)\", \"mode\": \"none\", \"name\": \"Chad\", \"showlegend\": false, \"type\": \"scatter\", \"x\": [\"2020-03-19T00:00:00\", \"2020-05-10T00:00:00\", \"2020-05-10T00:00:00\", \"2020-03-19T00:00:00\"], \"y\": [45.8, 45.8, 46.2, 46.2]}, {\"fill\": \"toself\", \"fillcolor\": \"rgb(102, 151, 128)\", \"hoverinfo\": \"name\", \"legendgroup\": \"rgb(102, 151, 128)\", \"mode\": \"none\", \"name\": \"Sao Tome and Principe\", \"showlegend\": false, \"type\": \"scatter\", \"x\": [\"2020-04-06T00:00:00\", \"2020-05-09T00:00:00\", \"2020-05-09T00:00:00\", \"2020-04-06T00:00:00\"], \"y\": [15.8, 15.8, 16.2, 16.2]}, {\"fill\": \"toself\", \"fillcolor\": \"rgb(103, 100, 84)\", \"hoverinfo\": \"name\", \"legendgroup\": \"rgb(103, 100, 84)\", \"mode\": \"none\", \"name\": \"Burma\", \"showlegend\": false, \"type\": \"scatter\", \"x\": [\"2020-03-27T00:00:00\", \"2020-05-10T00:00:00\", \"2020-05-10T00:00:00\", \"2020-03-27T00:00:00\"], \"y\": [24.8, 24.8, 25.2, 25.2]}, {\"fill\": \"toself\", \"fillcolor\": \"rgb(103, 5, 6)\", \"hoverinfo\": \"name\", \"legendgroup\": \"rgb(103, 5, 6)\", \"mode\": \"none\", \"name\": \"Senegal\", \"showlegend\": false, \"type\": \"scatter\", \"x\": [\"2020-03-02T00:00:00\", \"2020-05-10T00:00:00\", \"2020-05-10T00:00:00\", \"2020-03-02T00:00:00\"], \"y\": [116.8, 116.8, 117.2, 117.2]}, {\"fill\": \"toself\", \"fillcolor\": \"rgb(103, 83, 163)\", \"hoverinfo\": \"name\", \"legendgroup\": \"rgb(103, 83, 163)\", \"mode\": \"none\", \"name\": \"Morocco\", \"showlegend\": false, \"type\": \"scatter\", \"x\": [\"2020-03-02T00:00:00\", \"2020-05-10T00:00:00\", \"2020-05-10T00:00:00\", \"2020-03-02T00:00:00\"], \"y\": [119.8, 119.8, 120.2, 120.2]}, {\"fill\": \"toself\", \"fillcolor\": \"rgb(104, 73, 90)\", \"hoverinfo\": \"name\", \"legendgroup\": \"rgb(104, 73, 90)\", \"mode\": \"none\", \"name\": \"South Africa\", \"showlegend\": false, \"type\": \"scatter\", \"x\": [\"2020-03-05T00:00:00\", \"2020-05-10T00:00:00\", \"2020-05-10T00:00:00\", \"2020-03-05T00:00:00\"], \"y\": [103.8, 103.8, 104.2, 104.2]}, {\"fill\": \"toself\", \"fillcolor\": \"rgb(106, 70, 160)\", \"hoverinfo\": \"name\", \"legendgroup\": \"rgb(106, 70, 160)\", \"mode\": \"none\", \"name\": \"Namibia\", \"showlegend\": false, \"type\": \"scatter\", \"x\": [\"2020-03-14T00:00:00\", \"2020-04-06T00:00:00\", \"2020-04-06T00:00:00\", \"2020-03-14T00:00:00\"], \"y\": [7.8, 7.8, 8.2, 8.2]}, {\"fill\": \"toself\", \"fillcolor\": \"rgb(106, 84, 73)\", \"hoverinfo\": \"name\", \"legendgroup\": \"rgb(106, 84, 73)\", \"mode\": \"none\", \"name\": \"Iceland\", \"showlegend\": false, \"type\": \"scatter\", \"x\": [\"2020-02-28T00:00:00\", \"2020-05-08T00:00:00\", \"2020-05-08T00:00:00\", \"2020-02-28T00:00:00\"], \"y\": [121.8, 121.8, 122.2, 122.2]}, {\"fill\": \"toself\", \"fillcolor\": \"rgb(107, 160, 147)\", \"hoverinfo\": \"name\", \"legendgroup\": \"rgb(107, 160, 147)\", \"mode\": \"none\", \"name\": \"Gambia\", \"showlegend\": false, \"type\": \"scatter\", \"x\": [\"2020-03-17T00:00:00\", \"2020-05-09T00:00:00\", \"2020-05-09T00:00:00\", \"2020-03-17T00:00:00\"], \"y\": [51.8, 51.8, 52.2, 52.2]}, {\"fill\": \"toself\", \"fillcolor\": \"rgb(108, 182, 153)\", \"hoverinfo\": \"name\", \"legendgroup\": \"rgb(108, 182, 153)\", \"mode\": \"none\", \"name\": \"Syria\", \"showlegend\": false, \"type\": \"scatter\", \"x\": [\"2020-03-22T00:00:00\", \"2020-05-09T00:00:00\", \"2020-05-09T00:00:00\", \"2020-03-22T00:00:00\"], \"y\": [31.8, 31.8, 32.2, 32.2]}, {\"fill\": \"toself\", \"fillcolor\": \"rgb(11, 91, 87)\", \"hoverinfo\": \"name\", \"legendgroup\": \"rgb(11, 91, 87)\", \"mode\": \"none\", \"name\": \"Malta\", \"showlegend\": false, \"type\": \"scatter\", \"x\": [\"2020-03-07T00:00:00\", \"2020-05-10T00:00:00\", \"2020-05-10T00:00:00\", \"2020-03-07T00:00:00\"], \"y\": [94.8, 94.8, 95.2, 95.2]}, {\"fill\": \"toself\", \"fillcolor\": \"rgb(112, 38, 74)\", \"hoverinfo\": \"name\", \"legendgroup\": \"rgb(112, 38, 74)\", \"mode\": \"none\", \"name\": \"Djibouti\", \"showlegend\": false, \"type\": \"scatter\", \"x\": [\"2020-03-18T00:00:00\", \"2020-05-10T00:00:00\", \"2020-05-10T00:00:00\", \"2020-03-18T00:00:00\"], \"y\": [49.8, 49.8, 50.2, 50.2]}, {\"fill\": \"toself\", \"fillcolor\": \"rgb(113, 114, 5)\", \"hoverinfo\": \"name\", \"legendgroup\": \"rgb(113, 114, 5)\", \"mode\": \"none\", \"name\": \"Niger\", \"showlegend\": false, \"type\": \"scatter\", \"x\": [\"2020-03-20T00:00:00\", \"2020-05-10T00:00:00\", \"2020-05-10T00:00:00\", \"2020-03-20T00:00:00\"], \"y\": [43.8, 43.8, 44.2, 44.2]}, {\"fill\": \"toself\", \"fillcolor\": \"rgb(116, 136, 87)\", \"hoverinfo\": \"name\", \"legendgroup\": \"rgb(116, 136, 87)\", \"mode\": \"none\", \"name\": \"Grenada\", \"showlegend\": false, \"type\": \"scatter\", \"x\": [\"2020-03-22T00:00:00\", \"2020-05-03T00:00:00\", \"2020-05-03T00:00:00\", \"2020-03-22T00:00:00\"], \"y\": [22.8, 22.8, 23.2, 23.2]}, {\"fill\": \"toself\", \"fillcolor\": \"rgb(117, 83, 180)\", \"hoverinfo\": \"name\", \"legendgroup\": \"rgb(117, 83, 180)\", \"mode\": \"none\", \"name\": \"Kyrgyzstan\", \"showlegend\": false, \"type\": \"scatter\", \"x\": [\"2020-03-18T00:00:00\", \"2020-05-10T00:00:00\", \"2020-05-10T00:00:00\", \"2020-03-18T00:00:00\"], \"y\": [48.8, 48.8, 49.2, 49.2]}, {\"fill\": \"toself\", \"fillcolor\": \"rgb(119, 181, 91)\", \"hoverinfo\": \"name\", \"legendgroup\": \"rgb(119, 181, 91)\", \"mode\": \"none\", \"name\": \"Vietnam\", \"showlegend\": false, \"type\": \"scatter\", \"x\": [\"2020-01-23T00:00:00\", \"2020-05-08T00:00:00\", \"2020-05-08T00:00:00\", \"2020-01-23T00:00:00\"], \"y\": [176.8, 176.8, 177.2, 177.2]}, {\"fill\": \"toself\", \"fillcolor\": \"rgb(120, 81, 66)\", \"hoverinfo\": \"name\", \"legendgroup\": \"rgb(120, 81, 66)\", \"mode\": \"none\", \"name\": \"Trinidad and Tobago\", \"showlegend\": false, \"type\": \"scatter\", \"x\": [\"2020-03-14T00:00:00\", \"2020-04-28T00:00:00\", \"2020-04-28T00:00:00\", \"2020-03-14T00:00:00\"], \"y\": [26.8, 26.8, 27.2, 27.2]}, {\"fill\": \"toself\", \"fillcolor\": \"rgb(121, 193, 146)\", \"hoverinfo\": \"name\", \"legendgroup\": \"rgb(121, 193, 146)\", \"mode\": \"none\", \"name\": \"Brazil\", \"showlegend\": false, \"type\": \"scatter\", \"x\": [\"2020-02-26T00:00:00\", \"2020-05-10T00:00:00\", \"2020-05-10T00:00:00\", \"2020-02-26T00:00:00\"], \"y\": [144.8, 144.8, 145.2, 145.2]}, {\"fill\": \"toself\", \"fillcolor\": \"rgb(122, 179, 177)\", \"hoverinfo\": \"name\", \"legendgroup\": \"rgb(122, 179, 177)\", \"mode\": \"none\", \"name\": \"Kenya\", \"showlegend\": false, \"type\": \"scatter\", \"x\": [\"2020-03-13T00:00:00\", \"2020-05-10T00:00:00\", \"2020-05-10T00:00:00\", \"2020-03-13T00:00:00\"], \"y\": [73.8, 73.8, 74.2, 74.2]}, {\"fill\": \"toself\", \"fillcolor\": \"rgb(123, 183, 58)\", \"hoverinfo\": \"name\", \"legendgroup\": \"rgb(123, 183, 58)\", \"mode\": \"none\", \"name\": \"Chile\", \"showlegend\": false, \"type\": \"scatter\", \"x\": [\"2020-03-03T00:00:00\", \"2020-05-10T00:00:00\", \"2020-05-10T00:00:00\", \"2020-03-03T00:00:00\"], \"y\": [110.8, 110.8, 111.2, 111.2]}, {\"fill\": \"toself\", \"fillcolor\": \"rgb(123, 28, 136)\", \"hoverinfo\": \"name\", \"legendgroup\": \"rgb(123, 28, 136)\", \"mode\": \"none\", \"name\": \"Cabo Verde\", \"showlegend\": false, \"type\": \"scatter\", \"x\": [\"2020-03-20T00:00:00\", \"2020-05-10T00:00:00\", \"2020-05-10T00:00:00\", \"2020-03-20T00:00:00\"], \"y\": [42.8, 42.8, 43.2, 43.2]}, {\"fill\": \"toself\", \"fillcolor\": \"rgb(129, 162, 34)\", \"hoverinfo\": \"name\", \"legendgroup\": \"rgb(129, 162, 34)\", \"mode\": \"none\", \"name\": \"Tunisia\", \"showlegend\": false, \"type\": \"scatter\", \"x\": [\"2020-03-04T00:00:00\", \"2020-05-10T00:00:00\", \"2020-05-10T00:00:00\", \"2020-03-04T00:00:00\"], \"y\": [108.8, 108.8, 109.2, 109.2]}, {\"fill\": \"toself\", \"fillcolor\": \"rgb(130, 90, 25)\", \"hoverinfo\": \"name\", \"legendgroup\": \"rgb(130, 90, 25)\", \"mode\": \"none\", \"name\": \"Rwanda\", \"showlegend\": false, \"type\": \"scatter\", \"x\": [\"2020-03-14T00:00:00\", \"2020-05-10T00:00:00\", \"2020-05-10T00:00:00\", \"2020-03-14T00:00:00\"], \"y\": [66.8, 66.8, 67.2, 67.2]}, {\"fill\": \"toself\", \"fillcolor\": \"rgb(131, 149, 171)\", \"hoverinfo\": \"name\", \"legendgroup\": \"rgb(131, 149, 171)\", \"mode\": \"none\", \"name\": \"Zambia\", \"showlegend\": false, \"type\": \"scatter\", \"x\": [\"2020-03-18T00:00:00\", \"2020-05-10T00:00:00\", \"2020-05-10T00:00:00\", \"2020-03-18T00:00:00\"], \"y\": [50.8, 50.8, 51.2, 51.2]}, {\"fill\": \"toself\", \"fillcolor\": \"rgb(131, 160, 194)\", \"hoverinfo\": \"name\", \"legendgroup\": \"rgb(131, 160, 194)\", \"mode\": \"none\", \"name\": \"Sudan\", \"showlegend\": false, \"type\": \"scatter\", \"x\": [\"2020-03-13T00:00:00\", \"2020-05-10T00:00:00\", \"2020-05-10T00:00:00\", \"2020-03-13T00:00:00\"], \"y\": [70.8, 70.8, 71.2, 71.2]}, {\"fill\": \"toself\", \"fillcolor\": \"rgb(133, 200, 49)\", \"hoverinfo\": \"name\", \"legendgroup\": \"rgb(133, 200, 49)\", \"mode\": \"none\", \"name\": \"Malaysia\", \"showlegend\": false, \"type\": \"scatter\", \"x\": [\"2020-01-25T00:00:00\", \"2020-05-10T00:00:00\", \"2020-05-10T00:00:00\", \"2020-01-25T00:00:00\"], \"y\": [174.8, 174.8, 175.2, 175.2]}, {\"fill\": \"toself\", \"fillcolor\": \"rgb(133, 7, 7)\", \"hoverinfo\": \"name\", \"legendgroup\": \"rgb(133, 7, 7)\", \"mode\": \"none\", \"name\": \"Saint Vincent and the Grenadines\", \"showlegend\": false, \"type\": \"scatter\", \"x\": [\"2020-03-14T00:00:00\", \"2020-05-05T00:00:00\", \"2020-05-05T00:00:00\", \"2020-03-14T00:00:00\"], \"y\": [44.8, 44.8, 45.2, 45.2]}, {\"fill\": \"toself\", \"fillcolor\": \"rgb(134, 196, 122)\", \"hoverinfo\": \"name\", \"legendgroup\": \"rgb(134, 196, 122)\", \"mode\": \"none\", \"name\": \"Portugal\", \"showlegend\": false, \"type\": \"scatter\", \"x\": [\"2020-03-02T00:00:00\", \"2020-05-10T00:00:00\", \"2020-05-10T00:00:00\", \"2020-03-02T00:00:00\"], \"y\": [114.8, 114.8, 115.2, 115.2]}, {\"fill\": \"toself\", \"fillcolor\": \"rgb(134, 201, 68)\", \"hoverinfo\": \"name\", \"legendgroup\": \"rgb(134, 201, 68)\", \"mode\": \"none\", \"name\": \"Liberia\", \"showlegend\": false, \"type\": \"scatter\", \"x\": [\"2020-03-16T00:00:00\", \"2020-05-09T00:00:00\", \"2020-05-09T00:00:00\", \"2020-03-16T00:00:00\"], \"y\": [55.8, 55.8, 56.2, 56.2]}, {\"fill\": \"toself\", \"fillcolor\": \"rgb(135, 136, 84)\", \"hoverinfo\": \"name\", \"legendgroup\": \"rgb(135, 136, 84)\", \"mode\": \"none\", \"name\": \"Saudi Arabia\", \"showlegend\": false, \"type\": \"scatter\", \"x\": [\"2020-03-02T00:00:00\", \"2020-05-10T00:00:00\", \"2020-05-10T00:00:00\", \"2020-03-02T00:00:00\"], \"y\": [113.8, 113.8, 114.2, 114.2]}, {\"fill\": \"toself\", \"fillcolor\": \"rgb(135, 155, 148)\", \"hoverinfo\": \"name\", \"legendgroup\": \"rgb(135, 155, 148)\", \"mode\": \"none\", \"name\": \"Slovenia\", \"showlegend\": false, \"type\": \"scatter\", \"x\": [\"2020-03-05T00:00:00\", \"2020-05-10T00:00:00\", \"2020-05-10T00:00:00\", \"2020-03-05T00:00:00\"], \"y\": [105.8, 105.8, 106.2, 106.2]}, {\"fill\": \"toself\", \"fillcolor\": \"rgb(136, 7, 162)\", \"hoverinfo\": \"name\", \"legendgroup\": \"rgb(136, 7, 162)\", \"mode\": \"none\", \"name\": \"Bulgaria\", \"showlegend\": false, \"type\": \"scatter\", \"x\": [\"2020-03-08T00:00:00\", \"2020-05-10T00:00:00\", \"2020-05-10T00:00:00\", \"2020-03-08T00:00:00\"], \"y\": [91.8, 91.8, 92.2, 92.2]}, {\"fill\": \"toself\", \"fillcolor\": \"rgb(138, 185, 102)\", \"hoverinfo\": \"name\", \"legendgroup\": \"rgb(138, 185, 102)\", \"mode\": \"none\", \"name\": \"Andorra\", \"showlegend\": false, \"type\": \"scatter\", \"x\": [\"2020-03-02T00:00:00\", \"2020-05-10T00:00:00\", \"2020-05-10T00:00:00\", \"2020-03-02T00:00:00\"], \"y\": [115.8, 115.8, 116.2, 116.2]}, {\"fill\": \"toself\", \"fillcolor\": \"rgb(138, 33, 27)\", \"hoverinfo\": \"name\", \"legendgroup\": \"rgb(138, 33, 27)\", \"mode\": \"none\", \"name\": \"Bolivia\", \"showlegend\": false, \"type\": \"scatter\", \"x\": [\"2020-03-11T00:00:00\", \"2020-05-10T00:00:00\", \"2020-05-10T00:00:00\", \"2020-03-11T00:00:00\"], \"y\": [81.8, 81.8, 82.2, 82.2]}, {\"fill\": \"toself\", \"fillcolor\": \"rgb(138, 73, 204)\", \"hoverinfo\": \"name\", \"legendgroup\": \"rgb(138, 73, 204)\", \"mode\": \"none\", \"name\": \"Argentina\", \"showlegend\": false, \"type\": \"scatter\", \"x\": [\"2020-03-03T00:00:00\", \"2020-05-10T00:00:00\", \"2020-05-10T00:00:00\", \"2020-03-03T00:00:00\"], \"y\": [109.8, 109.8, 110.2, 110.2]}, {\"fill\": \"toself\", \"fillcolor\": \"rgb(139, 145, 16)\", \"hoverinfo\": \"name\", \"legendgroup\": \"rgb(139, 145, 16)\", \"mode\": \"none\", \"name\": \"Congo (Brazzaville)\", \"showlegend\": false, \"type\": \"scatter\", \"x\": [\"2020-03-15T00:00:00\", \"2020-05-09T00:00:00\", \"2020-05-09T00:00:00\", \"2020-03-15T00:00:00\"], \"y\": [58.8, 58.8, 59.2, 59.2]}, {\"fill\": \"toself\", \"fillcolor\": \"rgb(140, 185, 66)\", \"hoverinfo\": \"name\", \"legendgroup\": \"rgb(140, 185, 66)\", \"mode\": \"none\", \"name\": \"New Zealand\", \"showlegend\": false, \"type\": \"scatter\", \"x\": [\"2020-02-28T00:00:00\", \"2020-05-10T00:00:00\", \"2020-05-10T00:00:00\", \"2020-02-28T00:00:00\"], \"y\": [133.8, 133.8, 134.2, 134.2]}, {\"fill\": \"toself\", \"fillcolor\": \"rgb(140, 32, 133)\", \"hoverinfo\": \"name\", \"legendgroup\": \"rgb(140, 32, 133)\", \"mode\": \"none\", \"name\": \"Belize\", \"showlegend\": false, \"type\": \"scatter\", \"x\": [\"2020-03-23T00:00:00\", \"2020-04-14T00:00:00\", \"2020-04-14T00:00:00\", \"2020-03-23T00:00:00\"], \"y\": [6.8, 6.8, 7.2, 7.2]}, {\"fill\": \"toself\", \"fillcolor\": \"rgb(144, 53, 165)\", \"hoverinfo\": \"name\", \"legendgroup\": \"rgb(144, 53, 165)\", \"mode\": \"none\", \"name\": \"Iran\", \"showlegend\": false, \"type\": \"scatter\", \"x\": [\"2020-02-19T00:00:00\", \"2020-05-10T00:00:00\", \"2020-05-10T00:00:00\", \"2020-02-19T00:00:00\"], \"y\": [158.8, 158.8, 159.2, 159.2]}, {\"fill\": \"toself\", \"fillcolor\": \"rgb(144, 55, 40)\", \"hoverinfo\": \"name\", \"legendgroup\": \"rgb(144, 55, 40)\", \"mode\": \"none\", \"name\": \"Eritrea\", \"showlegend\": false, \"type\": \"scatter\", \"x\": [\"2020-03-21T00:00:00\", \"2020-04-19T00:00:00\", \"2020-04-19T00:00:00\", \"2020-03-21T00:00:00\"], \"y\": [10.8, 10.8, 11.2, 11.2]}, {\"fill\": \"toself\", \"fillcolor\": \"rgb(145, 200, 20)\", \"hoverinfo\": \"name\", \"legendgroup\": \"rgb(145, 200, 20)\", \"mode\": \"none\", \"name\": \"Turkey\", \"showlegend\": false, \"type\": \"scatter\", \"x\": [\"2020-03-11T00:00:00\", \"2020-05-10T00:00:00\", \"2020-05-10T00:00:00\", \"2020-03-11T00:00:00\"], \"y\": [78.8, 78.8, 79.2, 79.2]}, {\"fill\": \"toself\", \"fillcolor\": \"rgb(145, 201, 186)\", \"hoverinfo\": \"name\", \"legendgroup\": \"rgb(145, 201, 186)\", \"mode\": \"none\", \"name\": \"Russia\", \"showlegend\": false, \"type\": \"scatter\", \"x\": [\"2020-01-31T00:00:00\", \"2020-05-10T00:00:00\", \"2020-05-10T00:00:00\", \"2020-01-31T00:00:00\"], \"y\": [164.8, 164.8, 165.2, 165.2]}, {\"fill\": \"toself\", \"fillcolor\": \"rgb(146, 6, 132)\", \"hoverinfo\": \"name\", \"legendgroup\": \"rgb(146, 6, 132)\", \"mode\": \"none\", \"name\": \"Antigua and Barbuda\", \"showlegend\": false, \"type\": \"scatter\", \"x\": [\"2020-03-13T00:00:00\", \"2020-05-02T00:00:00\", \"2020-05-02T00:00:00\", \"2020-03-13T00:00:00\"], \"y\": [36.8, 36.8, 37.2, 37.2]}, {\"fill\": \"toself\", \"fillcolor\": \"rgb(150, 179, 145)\", \"hoverinfo\": \"name\", \"legendgroup\": \"rgb(150, 179, 145)\", \"mode\": \"none\", \"name\": \"Israel\", \"showlegend\": false, \"type\": \"scatter\", \"x\": [\"2020-02-21T00:00:00\", \"2020-05-10T00:00:00\", \"2020-05-10T00:00:00\", \"2020-02-21T00:00:00\"], \"y\": [156.8, 156.8, 157.2, 157.2]}, {\"fill\": \"toself\", \"fillcolor\": \"rgb(150, 204, 53)\", \"hoverinfo\": \"name\", \"legendgroup\": \"rgb(150, 204, 53)\", \"mode\": \"none\", \"name\": \"Tanzania\", \"showlegend\": false, \"type\": \"scatter\", \"x\": [\"2020-03-16T00:00:00\", \"2020-05-09T00:00:00\", \"2020-05-09T00:00:00\", \"2020-03-16T00:00:00\"], \"y\": [54.8, 54.8, 55.2, 55.2]}, {\"fill\": \"toself\", \"fillcolor\": \"rgb(151, 172, 202)\", \"hoverinfo\": \"name\", \"legendgroup\": \"rgb(151, 172, 202)\", \"mode\": \"none\", \"name\": \"Angola\", \"showlegend\": false, \"type\": \"scatter\", \"x\": [\"2020-03-20T00:00:00\", \"2020-05-09T00:00:00\", \"2020-05-09T00:00:00\", \"2020-03-20T00:00:00\"], \"y\": [37.8, 37.8, 38.2, 38.2]}, {\"fill\": \"toself\", \"fillcolor\": \"rgb(151, 70, 51)\", \"hoverinfo\": \"name\", \"legendgroup\": \"rgb(151, 70, 51)\", \"mode\": \"none\", \"name\": \"United Kingdom\", \"showlegend\": false, \"type\": \"scatter\", \"x\": [\"2020-01-31T00:00:00\", \"2020-05-10T00:00:00\", \"2020-05-10T00:00:00\", \"2020-01-31T00:00:00\"], \"y\": [163.8, 163.8, 164.2, 164.2]}, {\"fill\": \"toself\", \"fillcolor\": \"rgb(153, 19, 85)\", \"hoverinfo\": \"name\", \"legendgroup\": \"rgb(153, 19, 85)\", \"mode\": \"none\", \"name\": \"Denmark\", \"showlegend\": false, \"type\": \"scatter\", \"x\": [\"2020-02-27T00:00:00\", \"2020-05-10T00:00:00\", \"2020-05-10T00:00:00\", \"2020-02-27T00:00:00\"], \"y\": [138.8, 138.8, 139.2, 139.2]}, {\"fill\": \"toself\", \"fillcolor\": \"rgb(153, 53, 194)\", \"hoverinfo\": \"name\", \"legendgroup\": \"rgb(153, 53, 194)\", \"mode\": \"none\", \"name\": \"Netherlands\", \"showlegend\": false, \"type\": \"scatter\", \"x\": [\"2020-02-27T00:00:00\", \"2020-05-10T00:00:00\", \"2020-05-10T00:00:00\", \"2020-02-27T00:00:00\"], \"y\": [137.8, 137.8, 138.2, 138.2]}, {\"fill\": \"toself\", \"fillcolor\": \"rgb(153, 81, 180)\", \"hoverinfo\": \"name\", \"legendgroup\": \"rgb(153, 81, 180)\", \"mode\": \"none\", \"name\": \"Thailand\", \"showlegend\": false, \"type\": \"scatter\", \"x\": [\"2020-01-22T00:00:00\", \"2020-05-10T00:00:00\", \"2020-05-10T00:00:00\", \"2020-01-22T00:00:00\"], \"y\": [180.8, 180.8, 181.2, 181.2]}, {\"fill\": \"toself\", \"fillcolor\": \"rgb(155, 182, 150)\", \"hoverinfo\": \"name\", \"legendgroup\": \"rgb(155, 182, 150)\", \"mode\": \"none\", \"name\": \"Singapore\", \"showlegend\": false, \"type\": \"scatter\", \"x\": [\"2020-01-23T00:00:00\", \"2020-05-10T00:00:00\", \"2020-05-10T00:00:00\", \"2020-01-23T00:00:00\"], \"y\": [179.8, 179.8, 180.2, 180.2]}, {\"fill\": \"toself\", \"fillcolor\": \"rgb(155, 69, 182)\", \"hoverinfo\": \"name\", \"legendgroup\": \"rgb(155, 69, 182)\", \"mode\": \"none\", \"name\": \"Japan\", \"showlegend\": false, \"type\": \"scatter\", \"x\": [\"2020-01-22T00:00:00\", \"2020-05-10T00:00:00\", \"2020-05-10T00:00:00\", \"2020-01-22T00:00:00\"], \"y\": [182.8, 182.8, 183.2, 183.2]}, {\"fill\": \"toself\", \"fillcolor\": \"rgb(156, 54, 58)\", \"hoverinfo\": \"name\", \"legendgroup\": \"rgb(156, 54, 58)\", \"mode\": \"none\", \"name\": \"Jamaica\", \"showlegend\": false, \"type\": \"scatter\", \"x\": [\"2020-03-11T00:00:00\", \"2020-05-09T00:00:00\", \"2020-05-09T00:00:00\", \"2020-03-11T00:00:00\"], \"y\": [75.8, 75.8, 76.2, 76.2]}, {\"fill\": \"toself\", \"fillcolor\": \"rgb(156, 80, 35)\", \"hoverinfo\": \"name\", \"legendgroup\": \"rgb(156, 80, 35)\", \"mode\": \"none\", \"name\": \"Zimbabwe\", \"showlegend\": false, \"type\": \"scatter\", \"x\": [\"2020-03-20T00:00:00\", \"2020-05-10T00:00:00\", \"2020-05-10T00:00:00\", \"2020-03-20T00:00:00\"], \"y\": [39.8, 39.8, 40.2, 40.2]}, {\"fill\": \"toself\", \"fillcolor\": \"rgb(156, 82, 33)\", \"hoverinfo\": \"name\", \"legendgroup\": \"rgb(156, 82, 33)\", \"mode\": \"none\", \"name\": \"Mali\", \"showlegend\": false, \"type\": \"scatter\", \"x\": [\"2020-03-25T00:00:00\", \"2020-05-10T00:00:00\", \"2020-05-10T00:00:00\", \"2020-03-25T00:00:00\"], \"y\": [28.8, 28.8, 29.2, 29.2]}, {\"fill\": \"toself\", \"fillcolor\": \"rgb(160, 12, 105)\", \"hoverinfo\": \"name\", \"legendgroup\": \"rgb(160, 12, 105)\", \"mode\": \"none\", \"name\": \"Bosnia and Herzegovina\", \"showlegend\": false, \"type\": \"scatter\", \"x\": [\"2020-03-05T00:00:00\", \"2020-05-10T00:00:00\", \"2020-05-10T00:00:00\", \"2020-03-05T00:00:00\"], \"y\": [104.8, 104.8, 105.2, 105.2]}, {\"fill\": \"toself\", \"fillcolor\": \"rgb(162, 101, 0)\", \"hoverinfo\": \"name\", \"legendgroup\": \"rgb(162, 101, 0)\", \"mode\": \"none\", \"name\": \"Comoros\", \"showlegend\": false, \"type\": \"scatter\", \"x\": [\"2020-04-30T00:00:00\", \"2020-05-10T00:00:00\", \"2020-05-10T00:00:00\", \"2020-04-30T00:00:00\"], \"y\": [0.8, 0.8, 1.2, 1.2]}, {\"fill\": \"toself\", \"fillcolor\": \"rgb(162, 164, 33)\", \"hoverinfo\": \"name\", \"legendgroup\": \"rgb(162, 164, 33)\", \"mode\": \"none\", \"name\": \"Germany\", \"showlegend\": false, \"type\": \"scatter\", \"x\": [\"2020-01-27T00:00:00\", \"2020-05-10T00:00:00\", \"2020-05-10T00:00:00\", \"2020-01-27T00:00:00\"], \"y\": [170.8, 170.8, 171.2, 171.2]}, {\"fill\": \"toself\", \"fillcolor\": \"rgb(162, 202, 100)\", \"hoverinfo\": \"name\", \"legendgroup\": \"rgb(162, 202, 100)\", \"mode\": \"none\", \"name\": \"South Sudan\", \"showlegend\": false, \"type\": \"scatter\", \"x\": [\"2020-04-05T00:00:00\", \"2020-05-09T00:00:00\", \"2020-05-09T00:00:00\", \"2020-04-05T00:00:00\"], \"y\": [18.8, 18.8, 19.2, 19.2]}, {\"fill\": \"toself\", \"fillcolor\": \"rgb(166, 140, 26)\", \"hoverinfo\": \"name\", \"legendgroup\": \"rgb(166, 140, 26)\", \"mode\": \"none\", \"name\": \"Uruguay\", \"showlegend\": false, \"type\": \"scatter\", \"x\": [\"2020-03-14T00:00:00\", \"2020-05-10T00:00:00\", \"2020-05-10T00:00:00\", \"2020-03-14T00:00:00\"], \"y\": [68.8, 68.8, 69.2, 69.2]}, {\"fill\": \"toself\", \"fillcolor\": \"rgb(167, 113, 151)\", \"hoverinfo\": \"name\", \"legendgroup\": \"rgb(167, 113, 151)\", \"mode\": \"none\", \"name\": \"Lebanon\", \"showlegend\": false, \"type\": \"scatter\", \"x\": [\"2020-02-21T00:00:00\", \"2020-05-10T00:00:00\", \"2020-05-10T00:00:00\", \"2020-02-21T00:00:00\"], \"y\": [157.8, 157.8, 158.2, 158.2]}, {\"fill\": \"toself\", \"fillcolor\": \"rgb(168, 112, 186)\", \"hoverinfo\": \"name\", \"legendgroup\": \"rgb(168, 112, 186)\", \"mode\": \"none\", \"name\": \"Dominica\", \"showlegend\": false, \"type\": \"scatter\", \"x\": [\"2020-03-22T00:00:00\", \"2020-04-11T00:00:00\", \"2020-04-11T00:00:00\", \"2020-03-22T00:00:00\"], \"y\": [4.8, 4.8, 5.2, 5.2]}, {\"fill\": \"toself\", \"fillcolor\": \"rgb(168, 200, 91)\", \"hoverinfo\": \"name\", \"legendgroup\": \"rgb(168, 200, 91)\", \"mode\": \"none\", \"name\": \"Haiti\", \"showlegend\": false, \"type\": \"scatter\", \"x\": [\"2020-03-20T00:00:00\", \"2020-05-10T00:00:00\", \"2020-05-10T00:00:00\", \"2020-03-20T00:00:00\"], \"y\": [40.8, 40.8, 41.2, 41.2]}, {\"fill\": \"toself\", \"fillcolor\": \"rgb(168, 49, 76)\", \"hoverinfo\": \"name\", \"legendgroup\": \"rgb(168, 49, 76)\", \"mode\": \"none\", \"name\": \"Nigeria\", \"showlegend\": false, \"type\": \"scatter\", \"x\": [\"2020-02-28T00:00:00\", \"2020-05-10T00:00:00\", \"2020-05-10T00:00:00\", \"2020-02-28T00:00:00\"], \"y\": [131.8, 131.8, 132.2, 132.2]}, {\"fill\": \"toself\", \"fillcolor\": \"rgb(169, 66, 97)\", \"hoverinfo\": \"name\", \"legendgroup\": \"rgb(169, 66, 97)\", \"mode\": \"none\", \"name\": \"Gabon\", \"showlegend\": false, \"type\": \"scatter\", \"x\": [\"2020-03-14T00:00:00\", \"2020-05-10T00:00:00\", \"2020-05-10T00:00:00\", \"2020-03-14T00:00:00\"], \"y\": [63.8, 63.8, 64.2, 64.2]}, {\"fill\": \"toself\", \"fillcolor\": \"rgb(17, 43, 153)\", \"hoverinfo\": \"name\", \"legendgroup\": \"rgb(17, 43, 153)\", \"mode\": \"none\", \"name\": \"Peru\", \"showlegend\": false, \"type\": \"scatter\", \"x\": [\"2020-03-06T00:00:00\", \"2020-05-10T00:00:00\", \"2020-05-10T00:00:00\", \"2020-03-06T00:00:00\"], \"y\": [102.8, 102.8, 103.2, 103.2]}, {\"fill\": \"toself\", \"fillcolor\": \"rgb(17, 49, 138)\", \"hoverinfo\": \"name\", \"legendgroup\": \"rgb(17, 49, 138)\", \"mode\": \"none\", \"name\": \"Australia\", \"showlegend\": false, \"type\": \"scatter\", \"x\": [\"2020-01-26T00:00:00\", \"2020-05-10T00:00:00\", \"2020-05-10T00:00:00\", \"2020-01-26T00:00:00\"], \"y\": [172.8, 172.8, 173.2, 173.2]}, {\"fill\": \"toself\", \"fillcolor\": \"rgb(170, 122, 135)\", \"hoverinfo\": \"name\", \"legendgroup\": \"rgb(170, 122, 135)\", \"mode\": \"none\", \"name\": \"Moldova\", \"showlegend\": false, \"type\": \"scatter\", \"x\": [\"2020-03-08T00:00:00\", \"2020-05-10T00:00:00\", \"2020-05-10T00:00:00\", \"2020-03-08T00:00:00\"], \"y\": [89.8, 89.8, 90.2, 90.2]}, {\"fill\": \"toself\", \"fillcolor\": \"rgb(172, 138, 54)\", \"hoverinfo\": \"name\", \"legendgroup\": \"rgb(172, 138, 54)\", \"mode\": \"none\", \"name\": \"Kazakhstan\", \"showlegend\": false, \"type\": \"scatter\", \"x\": [\"2020-03-13T00:00:00\", \"2020-05-10T00:00:00\", \"2020-05-10T00:00:00\", \"2020-03-13T00:00:00\"], \"y\": [69.8, 69.8, 70.2, 70.2]}, {\"fill\": \"toself\", \"fillcolor\": \"rgb(176, 128, 201)\", \"hoverinfo\": \"name\", \"legendgroup\": \"rgb(176, 128, 201)\", \"mode\": \"none\", \"name\": \"Belgium\", \"showlegend\": false, \"type\": \"scatter\", \"x\": [\"2020-02-04T00:00:00\", \"2020-05-10T00:00:00\", \"2020-05-10T00:00:00\", \"2020-02-04T00:00:00\"], \"y\": [160.8, 160.8, 161.2, 161.2]}, {\"fill\": \"toself\", \"fillcolor\": \"rgb(177, 3, 67)\", \"hoverinfo\": \"name\", \"legendgroup\": \"rgb(177, 3, 67)\", \"mode\": \"none\", \"name\": \"Qatar\", \"showlegend\": false, \"type\": \"scatter\", \"x\": [\"2020-02-29T00:00:00\", \"2020-05-10T00:00:00\", \"2020-05-10T00:00:00\", \"2020-02-29T00:00:00\"], \"y\": [127.8, 127.8, 128.2, 128.2]}, {\"fill\": \"toself\", \"fillcolor\": \"rgb(177, 49, 75)\", \"hoverinfo\": \"name\", \"legendgroup\": \"rgb(177, 49, 75)\", \"mode\": \"none\", \"name\": \"Uganda\", \"showlegend\": false, \"type\": \"scatter\", \"x\": [\"2020-03-21T00:00:00\", \"2020-05-10T00:00:00\", \"2020-05-10T00:00:00\", \"2020-03-21T00:00:00\"], \"y\": [35.8, 35.8, 36.2, 36.2]}, {\"fill\": \"toself\", \"fillcolor\": \"rgb(177, 58, 188)\", \"hoverinfo\": \"name\", \"legendgroup\": \"rgb(177, 58, 188)\", \"mode\": \"none\", \"name\": \"Liechtenstein\", \"showlegend\": false, \"type\": \"scatter\", \"x\": [\"2020-03-04T00:00:00\", \"2020-04-27T00:00:00\", \"2020-04-27T00:00:00\", \"2020-03-04T00:00:00\"], \"y\": [53.8, 53.8, 54.2, 54.2]}, {\"fill\": \"toself\", \"fillcolor\": \"rgb(179, 16, 144)\", \"hoverinfo\": \"name\", \"legendgroup\": \"rgb(179, 16, 144)\", \"mode\": \"none\", \"name\": \"Venezuela\", \"showlegend\": false, \"type\": \"scatter\", \"x\": [\"2020-03-14T00:00:00\", \"2020-05-10T00:00:00\", \"2020-05-10T00:00:00\", \"2020-03-14T00:00:00\"], \"y\": [64.8, 64.8, 65.2, 65.2]}, {\"fill\": \"toself\", \"fillcolor\": \"rgb(179, 28, 145)\", \"hoverinfo\": \"name\", \"legendgroup\": \"rgb(179, 28, 145)\", \"mode\": \"none\", \"name\": \"Greenland\", \"showlegend\": false, \"type\": \"scatter\", \"x\": [\"2020-03-16T00:00:00\", \"2020-04-05T00:00:00\", \"2020-04-05T00:00:00\", \"2020-03-16T00:00:00\"], \"y\": [3.8, 3.8, 4.2, 4.2]}, {\"fill\": \"toself\", \"fillcolor\": \"rgb(179, 81, 74)\", \"hoverinfo\": \"name\", \"legendgroup\": \"rgb(179, 81, 74)\", \"mode\": \"none\", \"name\": \"Greece\", \"showlegend\": false, \"type\": \"scatter\", \"x\": [\"2020-02-26T00:00:00\", \"2020-05-10T00:00:00\", \"2020-05-10T00:00:00\", \"2020-02-26T00:00:00\"], \"y\": [139.8, 139.8, 140.2, 140.2]}, {\"fill\": \"toself\", \"fillcolor\": \"rgb(180, 87, 135)\", \"hoverinfo\": \"name\", \"legendgroup\": \"rgb(180, 87, 135)\", \"mode\": \"none\", \"name\": \"United Arab Emirates\", \"showlegend\": false, \"type\": \"scatter\", \"x\": [\"2020-01-29T00:00:00\", \"2020-05-10T00:00:00\", \"2020-05-10T00:00:00\", \"2020-01-29T00:00:00\"], \"y\": [168.8, 168.8, 169.2, 169.2]}, {\"fill\": \"toself\", \"fillcolor\": \"rgb(181, 104, 36)\", \"hoverinfo\": \"name\", \"legendgroup\": \"rgb(181, 104, 36)\", \"mode\": \"none\", \"name\": \"Austria\", \"showlegend\": false, \"type\": \"scatter\", \"x\": [\"2020-02-25T00:00:00\", \"2020-05-10T00:00:00\", \"2020-05-10T00:00:00\", \"2020-02-25T00:00:00\"], \"y\": [146.8, 146.8, 147.2, 147.2]}, {\"fill\": \"toself\", \"fillcolor\": \"rgb(181, 6, 40)\", \"hoverinfo\": \"name\", \"legendgroup\": \"rgb(181, 6, 40)\", \"mode\": \"none\", \"name\": \"Suriname\", \"showlegend\": false, \"type\": \"scatter\", \"x\": [\"2020-03-14T00:00:00\", \"2020-04-02T00:00:00\", \"2020-04-02T00:00:00\", \"2020-03-14T00:00:00\"], \"y\": [2.8, 2.8, 3.2, 3.2]}, {\"fill\": \"toself\", \"fillcolor\": \"rgb(182, 161, 182)\", \"hoverinfo\": \"name\", \"legendgroup\": \"rgb(182, 161, 182)\", \"mode\": \"none\", \"name\": \"Panama\", \"showlegend\": false, \"type\": \"scatter\", \"x\": [\"2020-03-10T00:00:00\", \"2020-05-10T00:00:00\", \"2020-05-10T00:00:00\", \"2020-03-10T00:00:00\"], \"y\": [85.8, 85.8, 86.2, 86.2]}, {\"fill\": \"toself\", \"fillcolor\": \"rgb(182, 22, 75)\", \"hoverinfo\": \"name\", \"legendgroup\": \"rgb(182, 22, 75)\", \"mode\": \"none\", \"name\": \"Madagascar\", \"showlegend\": false, \"type\": \"scatter\", \"x\": [\"2020-03-20T00:00:00\", \"2020-05-08T00:00:00\", \"2020-05-08T00:00:00\", \"2020-03-20T00:00:00\"], \"y\": [34.8, 34.8, 35.2, 35.2]}, {\"fill\": \"toself\", \"fillcolor\": \"rgb(182, 7, 156)\", \"hoverinfo\": \"name\", \"legendgroup\": \"rgb(182, 7, 156)\", \"mode\": \"none\", \"name\": \"Bahamas\", \"showlegend\": false, \"type\": \"scatter\", \"x\": [\"2020-03-16T00:00:00\", \"2020-05-07T00:00:00\", \"2020-05-07T00:00:00\", \"2020-03-16T00:00:00\"], \"y\": [46.8, 46.8, 47.2, 47.2]}, {\"fill\": \"toself\", \"fillcolor\": \"rgb(183, 12, 140)\", \"hoverinfo\": \"name\", \"legendgroup\": \"rgb(183, 12, 140)\", \"mode\": \"none\", \"name\": \"Switzerland\", \"showlegend\": false, \"type\": \"scatter\", \"x\": [\"2020-02-25T00:00:00\", \"2020-05-10T00:00:00\", \"2020-05-10T00:00:00\", \"2020-02-25T00:00:00\"], \"y\": [147.8, 147.8, 148.2, 148.2]}, {\"fill\": \"toself\", \"fillcolor\": \"rgb(187, 160, 148)\", \"hoverinfo\": \"name\", \"legendgroup\": \"rgb(187, 160, 148)\", \"mode\": \"none\", \"name\": \"San Marino\", \"showlegend\": false, \"type\": \"scatter\", \"x\": [\"2020-02-27T00:00:00\", \"2020-05-10T00:00:00\", \"2020-05-10T00:00:00\", \"2020-02-27T00:00:00\"], \"y\": [135.8, 135.8, 136.2, 136.2]}, {\"fill\": \"toself\", \"fillcolor\": \"rgb(188, 115, 187)\", \"hoverinfo\": \"name\", \"legendgroup\": \"rgb(188, 115, 187)\", \"mode\": \"none\", \"name\": \"Guyana\", \"showlegend\": false, \"type\": \"scatter\", \"x\": [\"2020-03-12T00:00:00\", \"2020-05-09T00:00:00\", \"2020-05-09T00:00:00\", \"2020-03-12T00:00:00\"], \"y\": [72.8, 72.8, 73.2, 73.2]}, {\"fill\": \"toself\", \"fillcolor\": \"rgb(188, 121, 130)\", \"hoverinfo\": \"name\", \"legendgroup\": \"rgb(188, 121, 130)\", \"mode\": \"none\", \"name\": \"Western Sahara\", \"showlegend\": false, \"type\": \"scatter\", \"x\": [\"2020-04-05T00:00:00\", \"2020-04-13T00:00:00\", \"2020-04-13T00:00:00\", \"2020-04-05T00:00:00\"], \"y\": [-0.2, -0.2, 0.2, 0.2]}, {\"fill\": \"toself\", \"fillcolor\": \"rgb(188, 99, 145)\", \"hoverinfo\": \"name\", \"legendgroup\": \"rgb(188, 99, 145)\", \"mode\": \"none\", \"name\": \"Benin\", \"showlegend\": false, \"type\": \"scatter\", \"x\": [\"2020-03-16T00:00:00\", \"2020-05-10T00:00:00\", \"2020-05-10T00:00:00\", \"2020-03-16T00:00:00\"], \"y\": [59.8, 59.8, 60.2, 60.2]}, {\"fill\": \"toself\", \"fillcolor\": \"rgb(192, 134, 185)\", \"hoverinfo\": \"name\", \"legendgroup\": \"rgb(192, 134, 185)\", \"mode\": \"none\", \"name\": \"Holy See\", \"showlegend\": false, \"type\": \"scatter\", \"x\": [\"2020-03-06T00:00:00\", \"2020-05-07T00:00:00\", \"2020-05-07T00:00:00\", \"2020-03-06T00:00:00\"], \"y\": [86.8, 86.8, 87.2, 87.2]}, {\"fill\": \"toself\", \"fillcolor\": \"rgb(192, 135, 76)\", \"hoverinfo\": \"name\", \"legendgroup\": \"rgb(192, 135, 76)\", \"mode\": \"none\", \"name\": \"Monaco\", \"showlegend\": false, \"type\": \"scatter\", \"x\": [\"2020-02-29T00:00:00\", \"2020-05-10T00:00:00\", \"2020-05-10T00:00:00\", \"2020-02-29T00:00:00\"], \"y\": [128.8, 128.8, 129.2, 129.2]}, {\"fill\": \"toself\", \"fillcolor\": \"rgb(194, 140, 165)\", \"hoverinfo\": \"name\", \"legendgroup\": \"rgb(194, 140, 165)\", \"mode\": \"none\", \"name\": \"Latvia\", \"showlegend\": false, \"type\": \"scatter\", \"x\": [\"2020-03-02T00:00:00\", \"2020-05-10T00:00:00\", \"2020-05-10T00:00:00\", \"2020-03-02T00:00:00\"], \"y\": [117.8, 117.8, 118.2, 118.2]}, {\"fill\": \"toself\", \"fillcolor\": \"rgb(194, 27, 128)\", \"hoverinfo\": \"name\", \"legendgroup\": \"rgb(194, 27, 128)\", \"mode\": \"none\", \"name\": \"Eswatini\", \"showlegend\": false, \"type\": \"scatter\", \"x\": [\"2020-03-14T00:00:00\", \"2020-05-10T00:00:00\", \"2020-05-10T00:00:00\", \"2020-03-14T00:00:00\"], \"y\": [62.8, 62.8, 63.2, 63.2]}, {\"fill\": \"toself\", \"fillcolor\": \"rgb(195, 56, 160)\", \"hoverinfo\": \"name\", \"legendgroup\": \"rgb(195, 56, 160)\", \"mode\": \"none\", \"name\": \"Mexico\", \"showlegend\": false, \"type\": \"scatter\", \"x\": [\"2020-02-28T00:00:00\", \"2020-05-10T00:00:00\", \"2020-05-10T00:00:00\", \"2020-02-28T00:00:00\"], \"y\": [132.8, 132.8, 133.2, 133.2]}, {\"fill\": \"toself\", \"fillcolor\": \"rgb(196, 196, 170)\", \"hoverinfo\": \"name\", \"legendgroup\": \"rgb(196, 196, 170)\", \"mode\": \"none\", \"name\": \"Philippines\", \"showlegend\": false, \"type\": \"scatter\", \"x\": [\"2020-01-30T00:00:00\", \"2020-05-10T00:00:00\", \"2020-05-10T00:00:00\", \"2020-01-30T00:00:00\"], \"y\": [167.8, 167.8, 168.2, 168.2]}, {\"fill\": \"toself\", \"fillcolor\": \"rgb(196, 197, 124)\", \"hoverinfo\": \"name\", \"legendgroup\": \"rgb(196, 197, 124)\", \"mode\": \"none\", \"name\": \"Egypt\", \"showlegend\": false, \"type\": \"scatter\", \"x\": [\"2020-02-14T00:00:00\", \"2020-05-10T00:00:00\", \"2020-05-10T00:00:00\", \"2020-02-14T00:00:00\"], \"y\": [159.8, 159.8, 160.2, 160.2]}, {\"fill\": \"toself\", \"fillcolor\": \"rgb(198, 55, 59)\", \"hoverinfo\": \"name\", \"legendgroup\": \"rgb(198, 55, 59)\", \"mode\": \"none\", \"name\": \"Ghana\", \"showlegend\": false, \"type\": \"scatter\", \"x\": [\"2020-03-14T00:00:00\", \"2020-05-10T00:00:00\", \"2020-05-10T00:00:00\", \"2020-03-14T00:00:00\"], \"y\": [65.8, 65.8, 66.2, 66.2]}, {\"fill\": \"toself\", \"fillcolor\": \"rgb(198, 57, 124)\", \"hoverinfo\": \"name\", \"legendgroup\": \"rgb(198, 57, 124)\", \"mode\": \"none\", \"name\": \"Cote d'Ivoire\", \"showlegend\": false, \"type\": \"scatter\", \"x\": [\"2020-03-11T00:00:00\", \"2020-05-10T00:00:00\", \"2020-05-10T00:00:00\", \"2020-03-11T00:00:00\"], \"y\": [79.8, 79.8, 80.2, 80.2]}, {\"fill\": \"toself\", \"fillcolor\": \"rgb(198, 58, 178)\", \"hoverinfo\": \"name\", \"legendgroup\": \"rgb(198, 58, 178)\", \"mode\": \"none\", \"name\": \"Georgia\", \"showlegend\": false, \"type\": \"scatter\", \"x\": [\"2020-02-26T00:00:00\", \"2020-05-10T00:00:00\", \"2020-05-10T00:00:00\", \"2020-02-26T00:00:00\"], \"y\": [140.8, 140.8, 141.2, 141.2]}, {\"fill\": \"toself\", \"fillcolor\": \"rgb(199, 122, 65)\", \"hoverinfo\": \"name\", \"legendgroup\": \"rgb(199, 122, 65)\", \"mode\": \"none\", \"name\": \"Azerbaijan\", \"showlegend\": false, \"type\": \"scatter\", \"x\": [\"2020-03-01T00:00:00\", \"2020-05-10T00:00:00\", \"2020-05-10T00:00:00\", \"2020-03-01T00:00:00\"], \"y\": [123.8, 123.8, 124.2, 124.2]}, {\"fill\": \"toself\", \"fillcolor\": \"rgb(201, 171, 180)\", \"hoverinfo\": \"name\", \"legendgroup\": \"rgb(201, 171, 180)\", \"mode\": \"none\", \"name\": \"West Bank and Gaza\", \"showlegend\": false, \"type\": \"scatter\", \"x\": [\"2020-03-05T00:00:00\", \"2020-05-08T00:00:00\", \"2020-05-08T00:00:00\", \"2020-03-05T00:00:00\"], \"y\": [95.8, 95.8, 96.2, 96.2]}, {\"fill\": \"toself\", \"fillcolor\": \"rgb(201, 65, 87)\", \"hoverinfo\": \"name\", \"legendgroup\": \"rgb(201, 65, 87)\", \"mode\": \"none\", \"name\": \"Hungary\", \"showlegend\": false, \"type\": \"scatter\", \"x\": [\"2020-03-04T00:00:00\", \"2020-05-10T00:00:00\", \"2020-05-10T00:00:00\", \"2020-03-04T00:00:00\"], \"y\": [107.8, 107.8, 108.2, 108.2]}, {\"fill\": \"toself\", \"fillcolor\": \"rgb(22, 186, 22)\", \"hoverinfo\": \"name\", \"legendgroup\": \"rgb(22, 186, 22)\", \"mode\": \"none\", \"name\": \"Guinea-Bissau\", \"showlegend\": false, \"type\": \"scatter\", \"x\": [\"2020-03-25T00:00:00\", \"2020-05-10T00:00:00\", \"2020-05-10T00:00:00\", \"2020-03-25T00:00:00\"], \"y\": [27.8, 27.8, 28.2, 28.2]}, {\"fill\": \"toself\", \"fillcolor\": \"rgb(22, 91, 59)\", \"hoverinfo\": \"name\", \"legendgroup\": \"rgb(22, 91, 59)\", \"mode\": \"none\", \"name\": \"North Macedonia\", \"showlegend\": false, \"type\": \"scatter\", \"x\": [\"2020-02-26T00:00:00\", \"2020-05-10T00:00:00\", \"2020-05-10T00:00:00\", \"2020-02-26T00:00:00\"], \"y\": [143.8, 143.8, 144.2, 144.2]}, {\"fill\": \"toself\", \"fillcolor\": \"rgb(23, 67, 140)\", \"hoverinfo\": \"name\", \"legendgroup\": \"rgb(23, 67, 140)\", \"mode\": \"none\", \"name\": \"Cameroon\", \"showlegend\": false, \"type\": \"scatter\", \"x\": [\"2020-03-06T00:00:00\", \"2020-05-10T00:00:00\", \"2020-05-10T00:00:00\", \"2020-03-06T00:00:00\"], \"y\": [98.8, 98.8, 99.2, 99.2]}, {\"fill\": \"toself\", \"fillcolor\": \"rgb(25, 73, 10)\", \"hoverinfo\": \"name\", \"legendgroup\": \"rgb(25, 73, 10)\", \"mode\": \"none\", \"name\": \"Ethiopia\", \"showlegend\": false, \"type\": \"scatter\", \"x\": [\"2020-03-13T00:00:00\", \"2020-05-10T00:00:00\", \"2020-05-10T00:00:00\", \"2020-03-13T00:00:00\"], \"y\": [74.8, 74.8, 75.2, 75.2]}, {\"fill\": \"toself\", \"fillcolor\": \"rgb(26, 133, 183)\", \"hoverinfo\": \"name\", \"legendgroup\": \"rgb(26, 133, 183)\", \"mode\": \"none\", \"name\": \"Ecuador\", \"showlegend\": false, \"type\": \"scatter\", \"x\": [\"2020-03-01T00:00:00\", \"2020-05-10T00:00:00\", \"2020-05-10T00:00:00\", \"2020-03-01T00:00:00\"], \"y\": [120.8, 120.8, 121.2, 121.2]}, {\"fill\": \"toself\", \"fillcolor\": \"rgb(26, 42, 20)\", \"hoverinfo\": \"name\", \"legendgroup\": \"rgb(26, 42, 20)\", \"mode\": \"none\", \"name\": \"Belarus\", \"showlegend\": false, \"type\": \"scatter\", \"x\": [\"2020-02-28T00:00:00\", \"2020-05-10T00:00:00\", \"2020-05-10T00:00:00\", \"2020-02-28T00:00:00\"], \"y\": [130.8, 130.8, 131.2, 131.2]}, {\"fill\": \"toself\", \"fillcolor\": \"rgb(28, 0, 26)\", \"hoverinfo\": \"name\", \"legendgroup\": \"rgb(28, 0, 26)\", \"mode\": \"none\", \"name\": \"Togo\", \"showlegend\": false, \"type\": \"scatter\", \"x\": [\"2020-03-06T00:00:00\", \"2020-05-10T00:00:00\", \"2020-05-10T00:00:00\", \"2020-03-06T00:00:00\"], \"y\": [101.8, 101.8, 102.2, 102.2]}, {\"fill\": \"toself\", \"fillcolor\": \"rgb(28, 11, 119)\", \"hoverinfo\": \"name\", \"legendgroup\": \"rgb(28, 11, 119)\", \"mode\": \"none\", \"name\": \"Mauritania\", \"showlegend\": false, \"type\": \"scatter\", \"x\": [\"2020-03-14T00:00:00\", \"2020-04-30T00:00:00\", \"2020-04-30T00:00:00\", \"2020-03-14T00:00:00\"], \"y\": [29.8, 29.8, 30.2, 30.2]}, {\"fill\": \"toself\", \"fillcolor\": \"rgb(3, 121, 119)\", \"hoverinfo\": \"name\", \"legendgroup\": \"rgb(3, 121, 119)\", \"mode\": \"none\", \"name\": \"Laos\", \"showlegend\": false, \"type\": \"scatter\", \"x\": [\"2020-03-24T00:00:00\", \"2020-04-13T00:00:00\", \"2020-04-13T00:00:00\", \"2020-03-24T00:00:00\"], \"y\": [5.8, 5.8, 6.2, 6.2]}, {\"fill\": \"toself\", \"fillcolor\": \"rgb(32, 108, 67)\", \"hoverinfo\": \"name\", \"legendgroup\": \"rgb(32, 108, 67)\", \"mode\": \"none\", \"name\": \"Taiwan*\", \"showlegend\": false, \"type\": \"scatter\", \"x\": [\"2020-01-22T00:00:00\", \"2020-05-08T00:00:00\", \"2020-05-08T00:00:00\", \"2020-01-22T00:00:00\"], \"y\": [178.8, 178.8, 179.2, 179.2]}, {\"fill\": \"toself\", \"fillcolor\": \"rgb(34, 6, 65)\", \"hoverinfo\": \"name\", \"legendgroup\": \"rgb(34, 6, 65)\", \"mode\": \"none\", \"name\": \"China\", \"showlegend\": false, \"type\": \"scatter\", \"x\": [\"2020-01-22T00:00:00\", \"2020-05-10T00:00:00\", \"2020-05-10T00:00:00\", \"2020-01-22T00:00:00\"], \"y\": [181.8, 181.8, 182.2, 182.2]}, {\"fill\": \"toself\", \"fillcolor\": \"rgb(35, 124, 100)\", \"hoverinfo\": \"name\", \"legendgroup\": \"rgb(35, 124, 100)\", \"mode\": \"none\", \"name\": \"Barbados\", \"showlegend\": false, \"type\": \"scatter\", \"x\": [\"2020-03-17T00:00:00\", \"2020-05-10T00:00:00\", \"2020-05-10T00:00:00\", \"2020-03-17T00:00:00\"], \"y\": [56.8, 56.8, 57.2, 57.2]}, {\"fill\": \"toself\", \"fillcolor\": \"rgb(36, 135, 195)\", \"hoverinfo\": \"name\", \"legendgroup\": \"rgb(36, 135, 195)\", \"mode\": \"none\", \"name\": \"Guatemala\", \"showlegend\": false, \"type\": \"scatter\", \"x\": [\"2020-03-14T00:00:00\", \"2020-05-10T00:00:00\", \"2020-05-10T00:00:00\", \"2020-03-14T00:00:00\"], \"y\": [67.8, 67.8, 68.2, 68.2]}, {\"fill\": \"toself\", \"fillcolor\": \"rgb(36, 181, 102)\", \"hoverinfo\": \"name\", \"legendgroup\": \"rgb(36, 181, 102)\", \"mode\": \"none\", \"name\": \"Sri Lanka\", \"showlegend\": false, \"type\": \"scatter\", \"x\": [\"2020-01-27T00:00:00\", \"2020-05-10T00:00:00\", \"2020-05-10T00:00:00\", \"2020-01-27T00:00:00\"], \"y\": [171.8, 171.8, 172.2, 172.2]}, {\"fill\": \"toself\", \"fillcolor\": \"rgb(36, 71, 199)\", \"hoverinfo\": \"name\", \"legendgroup\": \"rgb(36, 71, 199)\", \"mode\": \"none\", \"name\": \"Burkina Faso\", \"showlegend\": false, \"type\": \"scatter\", \"x\": [\"2020-03-10T00:00:00\", \"2020-05-10T00:00:00\", \"2020-05-10T00:00:00\", \"2020-03-10T00:00:00\"], \"y\": [84.8, 84.8, 85.2, 85.2]}, {\"fill\": \"toself\", \"fillcolor\": \"rgb(38, 103, 20)\", \"hoverinfo\": \"name\", \"legendgroup\": \"rgb(38, 103, 20)\", \"mode\": \"none\", \"name\": \"Iraq\", \"showlegend\": false, \"type\": \"scatter\", \"x\": [\"2020-02-24T00:00:00\", \"2020-05-10T00:00:00\", \"2020-05-10T00:00:00\", \"2020-02-24T00:00:00\"], \"y\": [154.8, 154.8, 155.2, 155.2]}, {\"fill\": \"toself\", \"fillcolor\": \"rgb(39, 123, 59)\", \"hoverinfo\": \"name\", \"legendgroup\": \"rgb(39, 123, 59)\", \"mode\": \"none\", \"name\": \"Ireland\", \"showlegend\": false, \"type\": \"scatter\", \"x\": [\"2020-02-29T00:00:00\", \"2020-05-10T00:00:00\", \"2020-05-10T00:00:00\", \"2020-02-29T00:00:00\"], \"y\": [126.8, 126.8, 127.2, 127.2]}, {\"fill\": \"toself\", \"fillcolor\": \"rgb(39, 43, 53)\", \"hoverinfo\": \"name\", \"legendgroup\": \"rgb(39, 43, 53)\", \"mode\": \"none\", \"name\": \"Dominican Republic\", \"showlegend\": false, \"type\": \"scatter\", \"x\": [\"2020-03-01T00:00:00\", \"2020-05-10T00:00:00\", \"2020-05-10T00:00:00\", \"2020-03-01T00:00:00\"], \"y\": [125.8, 125.8, 126.2, 126.2]}, {\"fill\": \"toself\", \"fillcolor\": \"rgb(40, 54, 181)\", \"hoverinfo\": \"name\", \"legendgroup\": \"rgb(40, 54, 181)\", \"mode\": \"none\", \"name\": \"Mauritius\", \"showlegend\": false, \"type\": \"scatter\", \"x\": [\"2020-03-18T00:00:00\", \"2020-04-28T00:00:00\", \"2020-04-28T00:00:00\", \"2020-03-18T00:00:00\"], \"y\": [21.8, 21.8, 22.2, 22.2]}, {\"fill\": \"toself\", \"fillcolor\": \"rgb(40, 6, 148)\", \"hoverinfo\": \"name\", \"legendgroup\": \"rgb(40, 6, 148)\", \"mode\": \"none\", \"name\": \"Canada\", \"showlegend\": false, \"type\": \"scatter\", \"x\": [\"2020-01-26T00:00:00\", \"2020-05-10T00:00:00\", \"2020-05-10T00:00:00\", \"2020-01-26T00:00:00\"], \"y\": [173.8, 173.8, 174.2, 174.2]}, {\"fill\": \"toself\", \"fillcolor\": \"rgb(41, 182, 3)\", \"hoverinfo\": \"name\", \"legendgroup\": \"rgb(41, 182, 3)\", \"mode\": \"none\", \"name\": \"Tajikistan\", \"showlegend\": false, \"type\": \"scatter\", \"x\": [\"2020-04-30T00:00:00\", \"2020-05-10T00:00:00\", \"2020-05-10T00:00:00\", \"2020-04-30T00:00:00\"], \"y\": [1.8, 1.8, 2.2, 2.2]}, {\"fill\": \"toself\", \"fillcolor\": \"rgb(41, 67, 108)\", \"hoverinfo\": \"name\", \"legendgroup\": \"rgb(41, 67, 108)\", \"mode\": \"none\", \"name\": \"Paraguay\", \"showlegend\": false, \"type\": \"scatter\", \"x\": [\"2020-03-08T00:00:00\", \"2020-05-10T00:00:00\", \"2020-05-10T00:00:00\", \"2020-03-08T00:00:00\"], \"y\": [93.8, 93.8, 94.2, 94.2]}, {\"fill\": \"toself\", \"fillcolor\": \"rgb(42, 133, 68)\", \"hoverinfo\": \"name\", \"legendgroup\": \"rgb(42, 133, 68)\", \"mode\": \"none\", \"name\": \"Lithuania\", \"showlegend\": false, \"type\": \"scatter\", \"x\": [\"2020-02-28T00:00:00\", \"2020-05-10T00:00:00\", \"2020-05-10T00:00:00\", \"2020-02-28T00:00:00\"], \"y\": [134.8, 134.8, 135.2, 135.2]}, {\"fill\": \"toself\", \"fillcolor\": \"rgb(42, 150, 195)\", \"hoverinfo\": \"name\", \"legendgroup\": \"rgb(42, 150, 195)\", \"mode\": \"none\", \"name\": \"Colombia\", \"showlegend\": false, \"type\": \"scatter\", \"x\": [\"2020-03-06T00:00:00\", \"2020-05-10T00:00:00\", \"2020-05-10T00:00:00\", \"2020-03-06T00:00:00\"], \"y\": [100.8, 100.8, 101.2, 101.2]}, {\"fill\": \"toself\", \"fillcolor\": \"rgb(42, 72, 129)\", \"hoverinfo\": \"name\", \"legendgroup\": \"rgb(42, 72, 129)\", \"mode\": \"none\", \"name\": \"Poland\", \"showlegend\": false, \"type\": \"scatter\", \"x\": [\"2020-03-04T00:00:00\", \"2020-05-10T00:00:00\", \"2020-05-10T00:00:00\", \"2020-03-04T00:00:00\"], \"y\": [106.8, 106.8, 107.2, 107.2]}, {\"fill\": \"toself\", \"fillcolor\": \"rgb(48, 66, 122)\", \"hoverinfo\": \"name\", \"legendgroup\": \"rgb(48, 66, 122)\", \"mode\": \"none\", \"name\": \"Timor-Leste\", \"showlegend\": false, \"type\": \"scatter\", \"x\": [\"2020-03-22T00:00:00\", \"2020-04-25T00:00:00\", \"2020-04-25T00:00:00\", \"2020-03-22T00:00:00\"], \"y\": [17.8, 17.8, 18.2, 18.2]}, {\"fill\": \"toself\", \"fillcolor\": \"rgb(49, 193, 82)\", \"hoverinfo\": \"name\", \"legendgroup\": \"rgb(49, 193, 82)\", \"mode\": \"none\", \"name\": \"Oman\", \"showlegend\": false, \"type\": \"scatter\", \"x\": [\"2020-02-24T00:00:00\", \"2020-05-10T00:00:00\", \"2020-05-10T00:00:00\", \"2020-02-24T00:00:00\"], \"y\": [153.8, 153.8, 154.2, 154.2]}, {\"fill\": \"toself\", \"fillcolor\": \"rgb(49, 96, 82)\", \"hoverinfo\": \"name\", \"legendgroup\": \"rgb(49, 96, 82)\", \"mode\": \"none\", \"name\": \"Mozambique\", \"showlegend\": false, \"type\": \"scatter\", \"x\": [\"2020-03-22T00:00:00\", \"2020-05-10T00:00:00\", \"2020-05-10T00:00:00\", \"2020-03-22T00:00:00\"], \"y\": [32.8, 32.8, 33.2, 33.2]}, {\"fill\": \"toself\", \"fillcolor\": \"rgb(5, 107, 130)\", \"hoverinfo\": \"name\", \"legendgroup\": \"rgb(5, 107, 130)\", \"mode\": \"none\", \"name\": \"Kuwait\", \"showlegend\": false, \"type\": \"scatter\", \"x\": [\"2020-02-24T00:00:00\", \"2020-05-10T00:00:00\", \"2020-05-10T00:00:00\", \"2020-02-24T00:00:00\"], \"y\": [151.8, 151.8, 152.2, 152.2]}, {\"fill\": \"toself\", \"fillcolor\": \"rgb(5, 8, 35)\", \"hoverinfo\": \"name\", \"legendgroup\": \"rgb(5, 8, 35)\", \"mode\": \"none\", \"name\": \"Romania\", \"showlegend\": false, \"type\": \"scatter\", \"x\": [\"2020-02-26T00:00:00\", \"2020-05-10T00:00:00\", \"2020-05-10T00:00:00\", \"2020-02-26T00:00:00\"], \"y\": [145.8, 145.8, 146.2, 146.2]}, {\"fill\": \"toself\", \"fillcolor\": \"rgb(50, 134, 135)\", \"hoverinfo\": \"name\", \"legendgroup\": \"rgb(50, 134, 135)\", \"mode\": \"none\", \"name\": \"India\", \"showlegend\": false, \"type\": \"scatter\", \"x\": [\"2020-01-30T00:00:00\", \"2020-05-10T00:00:00\", \"2020-05-10T00:00:00\", \"2020-01-30T00:00:00\"], \"y\": [166.8, 166.8, 167.2, 167.2]}, {\"fill\": \"toself\", \"fillcolor\": \"rgb(50, 25, 64)\", \"hoverinfo\": \"name\", \"legendgroup\": \"rgb(50, 25, 64)\", \"mode\": \"none\", \"name\": \"Estonia\", \"showlegend\": false, \"type\": \"scatter\", \"x\": [\"2020-02-27T00:00:00\", \"2020-05-10T00:00:00\", \"2020-05-10T00:00:00\", \"2020-02-27T00:00:00\"], \"y\": [136.8, 136.8, 137.2, 137.2]}, {\"fill\": \"toself\", \"fillcolor\": \"rgb(52, 137, 151)\", \"hoverinfo\": \"name\", \"legendgroup\": \"rgb(52, 137, 151)\", \"mode\": \"none\", \"name\": \"Botswana\", \"showlegend\": false, \"type\": \"scatter\", \"x\": [\"2020-03-30T00:00:00\", \"2020-04-29T00:00:00\", \"2020-04-29T00:00:00\", \"2020-03-30T00:00:00\"], \"y\": [12.8, 12.8, 13.2, 13.2]}, {\"fill\": \"toself\", \"fillcolor\": \"rgb(56, 155, 27)\", \"hoverinfo\": \"name\", \"legendgroup\": \"rgb(56, 155, 27)\", \"mode\": \"none\", \"name\": \"Papua New Guinea\", \"showlegend\": false, \"type\": \"scatter\", \"x\": [\"2020-03-20T00:00:00\", \"2020-04-23T00:00:00\", \"2020-04-23T00:00:00\", \"2020-03-20T00:00:00\"], \"y\": [16.8, 16.8, 17.2, 17.2]}, {\"fill\": \"toself\", \"fillcolor\": \"rgb(56, 18, 85)\", \"hoverinfo\": \"name\", \"legendgroup\": \"rgb(56, 18, 85)\", \"mode\": \"none\", \"name\": \"Sweden\", \"showlegend\": false, \"type\": \"scatter\", \"x\": [\"2020-01-31T00:00:00\", \"2020-05-10T00:00:00\", \"2020-05-10T00:00:00\", \"2020-01-31T00:00:00\"], \"y\": [162.8, 162.8, 163.2, 163.2]}, {\"fill\": \"toself\", \"fillcolor\": \"rgb(56, 184, 89)\", \"hoverinfo\": \"name\", \"legendgroup\": \"rgb(56, 184, 89)\", \"mode\": \"none\", \"name\": \"Czechia\", \"showlegend\": false, \"type\": \"scatter\", \"x\": [\"2020-03-01T00:00:00\", \"2020-05-10T00:00:00\", \"2020-05-10T00:00:00\", \"2020-03-01T00:00:00\"], \"y\": [124.8, 124.8, 125.2, 125.2]}, {\"fill\": \"toself\", \"fillcolor\": \"rgb(56, 204, 171)\", \"hoverinfo\": \"name\", \"legendgroup\": \"rgb(56, 204, 171)\", \"mode\": \"none\", \"name\": \"Spain\", \"showlegend\": false, \"type\": \"scatter\", \"x\": [\"2020-02-01T00:00:00\", \"2020-05-10T00:00:00\", \"2020-05-10T00:00:00\", \"2020-02-01T00:00:00\"], \"y\": [161.8, 161.8, 162.2, 162.2]}, {\"fill\": \"toself\", \"fillcolor\": \"rgb(57, 112, 71)\", \"hoverinfo\": \"name\", \"legendgroup\": \"rgb(57, 112, 71)\", \"mode\": \"none\", \"name\": \"Montenegro\", \"showlegend\": false, \"type\": \"scatter\", \"x\": [\"2020-03-17T00:00:00\", \"2020-05-06T00:00:00\", \"2020-05-06T00:00:00\", \"2020-03-17T00:00:00\"], \"y\": [38.8, 38.8, 39.2, 39.2]}, {\"fill\": \"toself\", \"fillcolor\": \"rgb(57, 17, 56)\", \"hoverinfo\": \"name\", \"legendgroup\": \"rgb(57, 17, 56)\", \"mode\": \"none\", \"name\": \"Libya\", \"showlegend\": false, \"type\": \"scatter\", \"x\": [\"2020-03-24T00:00:00\", \"2020-05-07T00:00:00\", \"2020-05-07T00:00:00\", \"2020-03-24T00:00:00\"], \"y\": [23.8, 23.8, 24.2, 24.2]}, {\"fill\": \"toself\", \"fillcolor\": \"rgb(57, 184, 131)\", \"hoverinfo\": \"name\", \"legendgroup\": \"rgb(57, 184, 131)\", \"mode\": \"none\", \"name\": \"Italy\", \"showlegend\": false, \"type\": \"scatter\", \"x\": [\"2020-01-31T00:00:00\", \"2020-05-10T00:00:00\", \"2020-05-10T00:00:00\", \"2020-01-31T00:00:00\"], \"y\": [165.8, 165.8, 166.2, 166.2]}, {\"fill\": \"toself\", \"fillcolor\": \"rgb(59, 74, 121)\", \"hoverinfo\": \"name\", \"legendgroup\": \"rgb(59, 74, 121)\", \"mode\": \"none\", \"name\": \"Nepal\", \"showlegend\": false, \"type\": \"scatter\", \"x\": [\"2020-01-25T00:00:00\", \"2020-05-10T00:00:00\", \"2020-05-10T00:00:00\", \"2020-01-25T00:00:00\"], \"y\": [175.8, 175.8, 176.2, 176.2]}, {\"fill\": \"toself\", \"fillcolor\": \"rgb(60, 20, 80)\", \"hoverinfo\": \"name\", \"legendgroup\": \"rgb(60, 20, 80)\", \"mode\": \"none\", \"name\": \"Saint Lucia\", \"showlegend\": false, \"type\": \"scatter\", \"x\": [\"2020-03-14T00:00:00\", \"2020-05-04T00:00:00\", \"2020-05-04T00:00:00\", \"2020-03-14T00:00:00\"], \"y\": [41.8, 41.8, 42.2, 42.2]}, {\"fill\": \"toself\", \"fillcolor\": \"rgb(65, 137, 187)\", \"hoverinfo\": \"name\", \"legendgroup\": \"rgb(65, 137, 187)\", \"mode\": \"none\", \"name\": \"Kosovo\", \"showlegend\": false, \"type\": \"scatter\", \"x\": [\"2020-03-26T00:00:00\", \"2020-05-10T00:00:00\", \"2020-05-10T00:00:00\", \"2020-03-26T00:00:00\"], \"y\": [25.8, 25.8, 26.2, 26.2]}, {\"fill\": \"toself\", \"fillcolor\": \"rgb(67, 108, 144)\", \"hoverinfo\": \"name\", \"legendgroup\": \"rgb(67, 108, 144)\", \"mode\": \"none\", \"name\": \"Croatia\", \"showlegend\": false, \"type\": \"scatter\", \"x\": [\"2020-02-25T00:00:00\", \"2020-05-10T00:00:00\", \"2020-05-10T00:00:00\", \"2020-02-25T00:00:00\"], \"y\": [149.8, 149.8, 150.2, 150.2]}, {\"fill\": \"toself\", \"fillcolor\": \"rgb(68, 3, 162)\", \"hoverinfo\": \"name\", \"legendgroup\": \"rgb(68, 3, 162)\", \"mode\": \"none\", \"name\": \"Burundi\", \"showlegend\": false, \"type\": \"scatter\", \"x\": [\"2020-03-31T00:00:00\", \"2020-05-03T00:00:00\", \"2020-05-03T00:00:00\", \"2020-03-31T00:00:00\"], \"y\": [14.8, 14.8, 15.2, 15.2]}, {\"fill\": \"toself\", \"fillcolor\": \"rgb(70, 153, 59)\", \"hoverinfo\": \"name\", \"legendgroup\": \"rgb(70, 153, 59)\", \"mode\": \"none\", \"name\": \"South Korea\", \"showlegend\": false, \"type\": \"scatter\", \"x\": [\"2020-01-22T00:00:00\", \"2020-05-10T00:00:00\", \"2020-05-10T00:00:00\", \"2020-01-22T00:00:00\"], \"y\": [183.8, 183.8, 184.2, 184.2]}, {\"fill\": \"toself\", \"fillcolor\": \"rgb(70, 179, 28)\", \"hoverinfo\": \"name\", \"legendgroup\": \"rgb(70, 179, 28)\", \"mode\": \"none\", \"name\": \"Costa Rica\", \"showlegend\": false, \"type\": \"scatter\", \"x\": [\"2020-03-06T00:00:00\", \"2020-05-10T00:00:00\", \"2020-05-10T00:00:00\", \"2020-03-06T00:00:00\"], \"y\": [97.8, 97.8, 98.2, 98.2]}, {\"fill\": \"toself\", \"fillcolor\": \"rgb(71, 84, 113)\", \"hoverinfo\": \"name\", \"legendgroup\": \"rgb(71, 84, 113)\", \"mode\": \"none\", \"name\": \"Congo (Kinshasa)\", \"showlegend\": false, \"type\": \"scatter\", \"x\": [\"2020-03-11T00:00:00\", \"2020-05-09T00:00:00\", \"2020-05-09T00:00:00\", \"2020-03-11T00:00:00\"], \"y\": [77.8, 77.8, 78.2, 78.2]}, {\"fill\": \"toself\", \"fillcolor\": \"rgb(72, 119, 39)\", \"hoverinfo\": \"name\", \"legendgroup\": \"rgb(72, 119, 39)\", \"mode\": \"none\", \"name\": \"Norway\", \"showlegend\": false, \"type\": \"scatter\", \"x\": [\"2020-02-26T00:00:00\", \"2020-05-10T00:00:00\", \"2020-05-10T00:00:00\", \"2020-02-26T00:00:00\"], \"y\": [142.8, 142.8, 143.2, 143.2]}, {\"fill\": \"toself\", \"fillcolor\": \"rgb(74, 134, 116)\", \"hoverinfo\": \"name\", \"legendgroup\": \"rgb(74, 134, 116)\", \"mode\": \"none\", \"name\": \"Cyprus\", \"showlegend\": false, \"type\": \"scatter\", \"x\": [\"2020-03-09T00:00:00\", \"2020-05-10T00:00:00\", \"2020-05-10T00:00:00\", \"2020-03-09T00:00:00\"], \"y\": [87.8, 87.8, 88.2, 88.2]}, {\"fill\": \"toself\", \"fillcolor\": \"rgb(74, 153, 23)\", \"hoverinfo\": \"name\", \"legendgroup\": \"rgb(74, 153, 23)\", \"mode\": \"none\", \"name\": \"Algeria\", \"showlegend\": false, \"type\": \"scatter\", \"x\": [\"2020-02-25T00:00:00\", \"2020-05-10T00:00:00\", \"2020-05-10T00:00:00\", \"2020-02-25T00:00:00\"], \"y\": [148.8, 148.8, 149.2, 149.2]}, {\"fill\": \"toself\", \"fillcolor\": \"rgb(74, 169, 186)\", \"hoverinfo\": \"name\", \"legendgroup\": \"rgb(74, 169, 186)\", \"mode\": \"none\", \"name\": \"Central African Republic\", \"showlegend\": false, \"type\": \"scatter\", \"x\": [\"2020-03-15T00:00:00\", \"2020-05-09T00:00:00\", \"2020-05-09T00:00:00\", \"2020-03-15T00:00:00\"], \"y\": [60.8, 60.8, 61.2, 61.2]}, {\"fill\": \"toself\", \"fillcolor\": \"rgb(74, 75, 197)\", \"hoverinfo\": \"name\", \"legendgroup\": \"rgb(74, 75, 197)\", \"mode\": \"none\", \"name\": \"Honduras\", \"showlegend\": false, \"type\": \"scatter\", \"x\": [\"2020-03-11T00:00:00\", \"2020-05-10T00:00:00\", \"2020-05-10T00:00:00\", \"2020-03-11T00:00:00\"], \"y\": [82.8, 82.8, 83.2, 83.2]}, {\"fill\": \"toself\", \"fillcolor\": \"rgb(75, 67, 0)\", \"hoverinfo\": \"name\", \"legendgroup\": \"rgb(75, 67, 0)\", \"mode\": \"none\", \"name\": \"Ukraine\", \"showlegend\": false, \"type\": \"scatter\", \"x\": [\"2020-03-03T00:00:00\", \"2020-05-10T00:00:00\", \"2020-05-10T00:00:00\", \"2020-03-03T00:00:00\"], \"y\": [112.8, 112.8, 113.2, 113.2]}, {\"fill\": \"toself\", \"fillcolor\": \"rgb(75, 96, 149)\", \"hoverinfo\": \"name\", \"legendgroup\": \"rgb(75, 96, 149)\", \"mode\": \"none\", \"name\": \"Cuba\", \"showlegend\": false, \"type\": \"scatter\", \"x\": [\"2020-03-12T00:00:00\", \"2020-05-10T00:00:00\", \"2020-05-10T00:00:00\", \"2020-03-12T00:00:00\"], \"y\": [76.8, 76.8, 77.2, 77.2]}, {\"fill\": \"toself\", \"fillcolor\": \"rgb(8, 148, 108)\", \"hoverinfo\": \"name\", \"legendgroup\": \"rgb(8, 148, 108)\", \"mode\": \"none\", \"name\": \"US\", \"showlegend\": false, \"type\": \"scatter\", \"x\": [\"2020-01-22T00:00:00\", \"2020-05-10T00:00:00\", \"2020-05-10T00:00:00\", \"2020-01-22T00:00:00\"], \"y\": [184.8, 184.8, 185.2, 185.2]}, {\"fill\": \"toself\", \"fillcolor\": \"rgb(8, 50, 163)\", \"hoverinfo\": \"name\", \"legendgroup\": \"rgb(8, 50, 163)\", \"mode\": \"none\", \"name\": \"Armenia\", \"showlegend\": false, \"type\": \"scatter\", \"x\": [\"2020-03-01T00:00:00\", \"2020-05-10T00:00:00\", \"2020-05-10T00:00:00\", \"2020-03-01T00:00:00\"], \"y\": [122.8, 122.8, 123.2, 123.2]}, {\"fill\": \"toself\", \"fillcolor\": \"rgb(8, 86, 59)\", \"hoverinfo\": \"name\", \"legendgroup\": \"rgb(8, 86, 59)\", \"mode\": \"none\", \"name\": \"Sierra Leone\", \"showlegend\": false, \"type\": \"scatter\", \"x\": [\"2020-03-31T00:00:00\", \"2020-05-10T00:00:00\", \"2020-05-10T00:00:00\", \"2020-03-31T00:00:00\"], \"y\": [20.8, 20.8, 21.2, 21.2]}, {\"fill\": \"toself\", \"fillcolor\": \"rgb(80, 36, 112)\", \"hoverinfo\": \"name\", \"legendgroup\": \"rgb(80, 36, 112)\", \"mode\": \"none\", \"name\": \"Maldives\", \"showlegend\": false, \"type\": \"scatter\", \"x\": [\"2020-03-08T00:00:00\", \"2020-05-10T00:00:00\", \"2020-05-10T00:00:00\", \"2020-03-08T00:00:00\"], \"y\": [90.8, 90.8, 91.2, 91.2]}, {\"fill\": \"toself\", \"fillcolor\": \"rgb(81, 155, 75)\", \"hoverinfo\": \"name\", \"legendgroup\": \"rgb(81, 155, 75)\", \"mode\": \"none\", \"name\": \"Jordan\", \"showlegend\": false, \"type\": \"scatter\", \"x\": [\"2020-03-03T00:00:00\", \"2020-05-10T00:00:00\", \"2020-05-10T00:00:00\", \"2020-03-03T00:00:00\"], \"y\": [111.8, 111.8, 112.2, 112.2]}, {\"fill\": \"toself\", \"fillcolor\": \"rgb(81, 91, 160)\", \"hoverinfo\": \"name\", \"legendgroup\": \"rgb(81, 91, 160)\", \"mode\": \"none\", \"name\": \"El Salvador\", \"showlegend\": false, \"type\": \"scatter\", \"x\": [\"2020-03-19T00:00:00\", \"2020-05-10T00:00:00\", \"2020-05-10T00:00:00\", \"2020-03-19T00:00:00\"], \"y\": [47.8, 47.8, 48.2, 48.2]}, {\"fill\": \"toself\", \"fillcolor\": \"rgb(83, 119, 171)\", \"hoverinfo\": \"name\", \"legendgroup\": \"rgb(83, 119, 171)\", \"mode\": \"none\", \"name\": \"Brunei\", \"showlegend\": false, \"type\": \"scatter\", \"x\": [\"2020-03-09T00:00:00\", \"2020-05-08T00:00:00\", \"2020-05-08T00:00:00\", \"2020-03-09T00:00:00\"], \"y\": [80.8, 80.8, 81.2, 81.2]}, {\"fill\": \"toself\", \"fillcolor\": \"rgb(83, 121, 183)\", \"hoverinfo\": \"name\", \"legendgroup\": \"rgb(83, 121, 183)\", \"mode\": \"none\", \"name\": \"France\", \"showlegend\": false, \"type\": \"scatter\", \"x\": [\"2020-01-24T00:00:00\", \"2020-05-10T00:00:00\", \"2020-05-10T00:00:00\", \"2020-01-24T00:00:00\"], \"y\": [177.8, 177.8, 178.2, 178.2]}, {\"fill\": \"toself\", \"fillcolor\": \"rgb(83, 192, 76)\", \"hoverinfo\": \"name\", \"legendgroup\": \"rgb(83, 192, 76)\", \"mode\": \"none\", \"name\": \"Mongolia\", \"showlegend\": false, \"type\": \"scatter\", \"x\": [\"2020-03-10T00:00:00\", \"2020-05-09T00:00:00\", \"2020-05-09T00:00:00\", \"2020-03-10T00:00:00\"], \"y\": [83.8, 83.8, 84.2, 84.2]}, {\"fill\": \"toself\", \"fillcolor\": \"rgb(85, 6, 118)\", \"hoverinfo\": \"name\", \"legendgroup\": \"rgb(85, 6, 118)\", \"mode\": \"none\", \"name\": \"Albania\", \"showlegend\": false, \"type\": \"scatter\", \"x\": [\"2020-03-09T00:00:00\", \"2020-05-10T00:00:00\", \"2020-05-10T00:00:00\", \"2020-03-09T00:00:00\"], \"y\": [88.8, 88.8, 89.2, 89.2]}, {\"fill\": \"toself\", \"fillcolor\": \"rgb(86, 123, 17)\", \"hoverinfo\": \"name\", \"legendgroup\": \"rgb(86, 123, 17)\", \"mode\": \"none\", \"name\": \"Yemen\", \"showlegend\": false, \"type\": \"scatter\", \"x\": [\"2020-04-10T00:00:00\", \"2020-05-09T00:00:00\", \"2020-05-09T00:00:00\", \"2020-04-10T00:00:00\"], \"y\": [11.8, 11.8, 12.2, 12.2]}, {\"fill\": \"toself\", \"fillcolor\": \"rgb(86, 59, 181)\", \"hoverinfo\": \"name\", \"legendgroup\": \"rgb(86, 59, 181)\", \"mode\": \"none\", \"name\": \"Equatorial Guinea\", \"showlegend\": false, \"type\": \"scatter\", \"x\": [\"2020-03-15T00:00:00\", \"2020-05-07T00:00:00\", \"2020-05-07T00:00:00\", \"2020-03-15T00:00:00\"], \"y\": [52.8, 52.8, 53.2, 53.2]}, {\"fill\": \"toself\", \"fillcolor\": \"rgb(87, 23, 152)\", \"hoverinfo\": \"name\", \"legendgroup\": \"rgb(87, 23, 152)\", \"mode\": \"none\", \"name\": \"Bangladesh\", \"showlegend\": false, \"type\": \"scatter\", \"x\": [\"2020-03-08T00:00:00\", \"2020-05-10T00:00:00\", \"2020-05-10T00:00:00\", \"2020-03-08T00:00:00\"], \"y\": [92.8, 92.8, 93.2, 93.2]}, {\"fill\": \"toself\", \"fillcolor\": \"rgb(88, 117, 146)\", \"hoverinfo\": \"name\", \"legendgroup\": \"rgb(88, 117, 146)\", \"mode\": \"none\", \"name\": \"Luxembourg\", \"showlegend\": false, \"type\": \"scatter\", \"x\": [\"2020-02-29T00:00:00\", \"2020-05-10T00:00:00\", \"2020-05-10T00:00:00\", \"2020-02-29T00:00:00\"], \"y\": [129.8, 129.8, 130.2, 130.2]}, {\"fill\": \"toself\", \"fillcolor\": \"rgb(88, 33, 36)\", \"hoverinfo\": \"name\", \"legendgroup\": \"rgb(88, 33, 36)\", \"mode\": \"none\", \"name\": \"Nicaragua\", \"showlegend\": false, \"type\": \"scatter\", \"x\": [\"2020-03-19T00:00:00\", \"2020-05-06T00:00:00\", \"2020-05-06T00:00:00\", \"2020-03-19T00:00:00\"], \"y\": [30.8, 30.8, 31.2, 31.2]}, {\"fill\": \"toself\", \"fillcolor\": \"rgb(88, 41, 37)\", \"hoverinfo\": \"name\", \"legendgroup\": \"rgb(88, 41, 37)\", \"mode\": \"none\", \"name\": \"Bhutan\", \"showlegend\": false, \"type\": \"scatter\", \"x\": [\"2020-03-06T00:00:00\", \"2020-04-24T00:00:00\", \"2020-04-24T00:00:00\", \"2020-03-06T00:00:00\"], \"y\": [33.8, 33.8, 34.2, 34.2]}, {\"fill\": \"toself\", \"fillcolor\": \"rgb(90, 140, 85)\", \"hoverinfo\": \"name\", \"legendgroup\": \"rgb(90, 140, 85)\", \"mode\": \"none\", \"name\": \"Saint Kitts and Nevis\", \"showlegend\": false, \"type\": \"scatter\", \"x\": [\"2020-03-25T00:00:00\", \"2020-04-21T00:00:00\", \"2020-04-21T00:00:00\", \"2020-03-25T00:00:00\"], \"y\": [9.8, 9.8, 10.2, 10.2]}, {\"fill\": \"toself\", \"fillcolor\": \"rgb(90, 60, 85)\", \"hoverinfo\": \"name\", \"legendgroup\": \"rgb(90, 60, 85)\", \"mode\": \"none\", \"name\": \"Serbia\", \"showlegend\": false, \"type\": \"scatter\", \"x\": [\"2020-03-06T00:00:00\", \"2020-05-10T00:00:00\", \"2020-05-10T00:00:00\", \"2020-03-06T00:00:00\"], \"y\": [99.8, 99.8, 100.2, 100.2]}, {\"fill\": \"toself\", \"fillcolor\": \"rgb(91, 179, 112)\", \"hoverinfo\": \"name\", \"legendgroup\": \"rgb(91, 179, 112)\", \"mode\": \"none\", \"name\": \"Uzbekistan\", \"showlegend\": false, \"type\": \"scatter\", \"x\": [\"2020-03-15T00:00:00\", \"2020-05-10T00:00:00\", \"2020-05-10T00:00:00\", \"2020-03-15T00:00:00\"], \"y\": [61.8, 61.8, 62.2, 62.2]}, {\"fill\": \"toself\", \"fillcolor\": \"rgb(96, 119, 152)\", \"hoverinfo\": \"name\", \"legendgroup\": \"rgb(96, 119, 152)\", \"mode\": \"none\", \"name\": \"Finland\", \"showlegend\": false, \"type\": \"scatter\", \"x\": [\"2020-01-29T00:00:00\", \"2020-05-10T00:00:00\", \"2020-05-10T00:00:00\", \"2020-01-29T00:00:00\"], \"y\": [169.8, 169.8, 170.2, 170.2]}, {\"fill\": \"toself\", \"fillcolor\": \"rgb(96, 82, 161)\", \"hoverinfo\": \"name\", \"legendgroup\": \"rgb(96, 82, 161)\", \"mode\": \"none\", \"name\": \"Fiji\", \"showlegend\": false, \"type\": \"scatter\", \"x\": [\"2020-03-19T00:00:00\", \"2020-04-21T00:00:00\", \"2020-04-21T00:00:00\", \"2020-03-19T00:00:00\"], \"y\": [13.8, 13.8, 14.2, 14.2]}, {\"fill\": \"toself\", \"fillcolor\": \"rgb(97, 54, 147)\", \"hoverinfo\": \"name\", \"legendgroup\": \"rgb(97, 54, 147)\", \"mode\": \"none\", \"name\": \"Seychelles\", \"showlegend\": false, \"type\": \"scatter\", \"x\": [\"2020-03-14T00:00:00\", \"2020-04-07T00:00:00\", \"2020-04-07T00:00:00\", \"2020-03-14T00:00:00\"], \"y\": [8.8, 8.8, 9.2, 9.2]}, {\"fill\": \"toself\", \"fillcolor\": \"rgb(98, 149, 121)\", \"hoverinfo\": \"name\", \"legendgroup\": \"rgb(98, 149, 121)\", \"mode\": \"none\", \"name\": \"Cambodia\", \"showlegend\": false, \"type\": \"scatter\", \"x\": [\"2020-01-27T00:00:00\", \"2020-04-13T00:00:00\", \"2020-04-13T00:00:00\", \"2020-01-27T00:00:00\"], \"y\": [155.8, 155.8, 156.2, 156.2]}, {\"fill\": \"toself\", \"fillcolor\": \"rgb(98, 28, 48)\", \"hoverinfo\": \"name\", \"legendgroup\": \"rgb(98, 28, 48)\", \"mode\": \"none\", \"name\": \"Malawi\", \"showlegend\": false, \"type\": \"scatter\", \"x\": [\"2020-04-02T00:00:00\", \"2020-05-10T00:00:00\", \"2020-05-10T00:00:00\", \"2020-04-02T00:00:00\"], \"y\": [19.8, 19.8, 20.2, 20.2]}, {\"fill\": \"toself\", \"fillcolor\": \"rgb(98, 37, 152)\", \"hoverinfo\": \"name\", \"legendgroup\": \"rgb(98, 37, 152)\", \"mode\": \"none\", \"name\": \"Guinea\", \"showlegend\": false, \"type\": \"scatter\", \"x\": [\"2020-03-13T00:00:00\", \"2020-05-10T00:00:00\", \"2020-05-10T00:00:00\", \"2020-03-13T00:00:00\"], \"y\": [71.8, 71.8, 72.2, 72.2]}, {\"fill\": \"toself\", \"fillcolor\": \"rgb(99, 116, 171)\", \"hoverinfo\": \"name\", \"legendgroup\": \"rgb(99, 116, 171)\", \"mode\": \"none\", \"name\": \"Indonesia\", \"showlegend\": false, \"type\": \"scatter\", \"x\": [\"2020-03-02T00:00:00\", \"2020-05-10T00:00:00\", \"2020-05-10T00:00:00\", \"2020-03-02T00:00:00\"], \"y\": [118.8, 118.8, 119.2, 119.2]}, {\"fill\": \"toself\", \"fillcolor\": \"rgb(99, 176, 113)\", \"hoverinfo\": \"name\", \"legendgroup\": \"rgb(99, 176, 113)\", \"mode\": \"none\", \"name\": \"Slovakia\", \"showlegend\": false, \"type\": \"scatter\", \"x\": [\"2020-03-06T00:00:00\", \"2020-05-09T00:00:00\", \"2020-05-09T00:00:00\", \"2020-03-06T00:00:00\"], \"y\": [96.8, 96.8, 97.2, 97.2]}, {\"legendgroup\": \"rgb(0, 74, 66)\", \"marker\": {\"color\": \"rgb(0, 74, 66)\", \"opacity\": 0, \"size\": 1}, \"mode\": \"markers\", \"name\": \"\", \"showlegend\": false, \"text\": [null, null], \"type\": \"scatter\", \"x\": [\"2020-03-16T00:00:00\", \"2020-05-10T00:00:00\"], \"y\": [58, 58]}, {\"legendgroup\": \"rgb(1, 170, 33)\", \"marker\": {\"color\": \"rgb(1, 170, 33)\", \"opacity\": 0, \"size\": 1}, \"mode\": \"markers\", \"name\": \"\", \"showlegend\": false, \"text\": [null, null], \"type\": \"scatter\", \"x\": [\"2020-02-26T00:00:00\", \"2020-05-10T00:00:00\"], \"y\": [142, 142]}, {\"legendgroup\": \"rgb(1, 66, 33)\", \"marker\": {\"color\": \"rgb(1, 66, 33)\", \"opacity\": 0, \"size\": 1}, \"mode\": \"markers\", \"name\": \"\", \"showlegend\": false, \"text\": [null, null], \"type\": \"scatter\", \"x\": [\"2020-02-24T00:00:00\", \"2020-05-10T00:00:00\"], \"y\": [153, 153]}, {\"legendgroup\": \"rgb(100, 137, 21)\", \"marker\": {\"color\": \"rgb(100, 137, 21)\", \"opacity\": 0, \"size\": 1}, \"mode\": \"markers\", \"name\": \"\", \"showlegend\": false, \"text\": [null, null], \"type\": \"scatter\", \"x\": [\"2020-02-24T00:00:00\", \"2020-05-10T00:00:00\"], \"y\": [151, 151]}, {\"legendgroup\": \"rgb(102, 139, 60)\", \"marker\": {\"color\": \"rgb(102, 139, 60)\", \"opacity\": 0, \"size\": 1}, \"mode\": \"markers\", \"name\": \"\", \"showlegend\": false, \"text\": [null, null], \"type\": \"scatter\", \"x\": [\"2020-03-19T00:00:00\", \"2020-05-10T00:00:00\"], \"y\": [46, 46]}, {\"legendgroup\": \"rgb(102, 151, 128)\", \"marker\": {\"color\": \"rgb(102, 151, 128)\", \"opacity\": 0, \"size\": 1}, \"mode\": \"markers\", \"name\": \"\", \"showlegend\": false, \"text\": [null, null], \"type\": \"scatter\", \"x\": [\"2020-04-06T00:00:00\", \"2020-05-09T00:00:00\"], \"y\": [16, 16]}, {\"legendgroup\": \"rgb(103, 100, 84)\", \"marker\": {\"color\": \"rgb(103, 100, 84)\", \"opacity\": 0, \"size\": 1}, \"mode\": \"markers\", \"name\": \"\", \"showlegend\": false, \"text\": [null, null], \"type\": \"scatter\", \"x\": [\"2020-03-27T00:00:00\", \"2020-05-10T00:00:00\"], \"y\": [25, 25]}, {\"legendgroup\": \"rgb(103, 5, 6)\", \"marker\": {\"color\": \"rgb(103, 5, 6)\", \"opacity\": 0, \"size\": 1}, \"mode\": \"markers\", \"name\": \"\", \"showlegend\": false, \"text\": [null, null], \"type\": \"scatter\", \"x\": [\"2020-03-02T00:00:00\", \"2020-05-10T00:00:00\"], \"y\": [117, 117]}, {\"legendgroup\": \"rgb(103, 83, 163)\", \"marker\": {\"color\": \"rgb(103, 83, 163)\", \"opacity\": 0, \"size\": 1}, \"mode\": \"markers\", \"name\": \"\", \"showlegend\": false, \"text\": [null, null], \"type\": \"scatter\", \"x\": [\"2020-03-02T00:00:00\", \"2020-05-10T00:00:00\"], \"y\": [120, 120]}, {\"legendgroup\": \"rgb(104, 73, 90)\", \"marker\": {\"color\": \"rgb(104, 73, 90)\", \"opacity\": 0, \"size\": 1}, \"mode\": \"markers\", \"name\": \"\", \"showlegend\": false, \"text\": [null, null], \"type\": \"scatter\", \"x\": [\"2020-03-05T00:00:00\", \"2020-05-10T00:00:00\"], \"y\": [104, 104]}, {\"legendgroup\": \"rgb(106, 70, 160)\", \"marker\": {\"color\": \"rgb(106, 70, 160)\", \"opacity\": 0, \"size\": 1}, \"mode\": \"markers\", \"name\": \"\", \"showlegend\": false, \"text\": [null, null], \"type\": \"scatter\", \"x\": [\"2020-03-14T00:00:00\", \"2020-04-06T00:00:00\"], \"y\": [8, 8]}, {\"legendgroup\": \"rgb(106, 84, 73)\", \"marker\": {\"color\": \"rgb(106, 84, 73)\", \"opacity\": 0, \"size\": 1}, \"mode\": \"markers\", \"name\": \"\", \"showlegend\": false, \"text\": [null, null], \"type\": \"scatter\", \"x\": [\"2020-02-28T00:00:00\", \"2020-05-08T00:00:00\"], \"y\": [122, 122]}, {\"legendgroup\": \"rgb(107, 160, 147)\", \"marker\": {\"color\": \"rgb(107, 160, 147)\", \"opacity\": 0, \"size\": 1}, \"mode\": \"markers\", \"name\": \"\", \"showlegend\": false, \"text\": [null, null], \"type\": \"scatter\", \"x\": [\"2020-03-17T00:00:00\", \"2020-05-09T00:00:00\"], \"y\": [52, 52]}, {\"legendgroup\": \"rgb(108, 182, 153)\", \"marker\": {\"color\": \"rgb(108, 182, 153)\", \"opacity\": 0, \"size\": 1}, \"mode\": \"markers\", \"name\": \"\", \"showlegend\": false, \"text\": [null, null], \"type\": \"scatter\", \"x\": [\"2020-03-22T00:00:00\", \"2020-05-09T00:00:00\"], \"y\": [32, 32]}, {\"legendgroup\": \"rgb(11, 91, 87)\", \"marker\": {\"color\": \"rgb(11, 91, 87)\", \"opacity\": 0, \"size\": 1}, \"mode\": \"markers\", \"name\": \"\", \"showlegend\": false, \"text\": [null, null], \"type\": \"scatter\", \"x\": [\"2020-03-07T00:00:00\", \"2020-05-10T00:00:00\"], \"y\": [95, 95]}, {\"legendgroup\": \"rgb(112, 38, 74)\", \"marker\": {\"color\": \"rgb(112, 38, 74)\", \"opacity\": 0, \"size\": 1}, \"mode\": \"markers\", \"name\": \"\", \"showlegend\": false, \"text\": [null, null], \"type\": \"scatter\", \"x\": [\"2020-03-18T00:00:00\", \"2020-05-10T00:00:00\"], \"y\": [50, 50]}, {\"legendgroup\": \"rgb(113, 114, 5)\", \"marker\": {\"color\": \"rgb(113, 114, 5)\", \"opacity\": 0, \"size\": 1}, \"mode\": \"markers\", \"name\": \"\", \"showlegend\": false, \"text\": [null, null], \"type\": \"scatter\", \"x\": [\"2020-03-20T00:00:00\", \"2020-05-10T00:00:00\"], \"y\": [44, 44]}, {\"legendgroup\": \"rgb(116, 136, 87)\", \"marker\": {\"color\": \"rgb(116, 136, 87)\", \"opacity\": 0, \"size\": 1}, \"mode\": \"markers\", \"name\": \"\", \"showlegend\": false, \"text\": [null, null], \"type\": \"scatter\", \"x\": [\"2020-03-22T00:00:00\", \"2020-05-03T00:00:00\"], \"y\": [23, 23]}, {\"legendgroup\": \"rgb(117, 83, 180)\", \"marker\": {\"color\": \"rgb(117, 83, 180)\", \"opacity\": 0, \"size\": 1}, \"mode\": \"markers\", \"name\": \"\", \"showlegend\": false, \"text\": [null, null], \"type\": \"scatter\", \"x\": [\"2020-03-18T00:00:00\", \"2020-05-10T00:00:00\"], \"y\": [49, 49]}, {\"legendgroup\": \"rgb(119, 181, 91)\", \"marker\": {\"color\": \"rgb(119, 181, 91)\", \"opacity\": 0, \"size\": 1}, \"mode\": \"markers\", \"name\": \"\", \"showlegend\": false, \"text\": [null, null], \"type\": \"scatter\", \"x\": [\"2020-01-23T00:00:00\", \"2020-05-08T00:00:00\"], \"y\": [177, 177]}, {\"legendgroup\": \"rgb(120, 81, 66)\", \"marker\": {\"color\": \"rgb(120, 81, 66)\", \"opacity\": 0, \"size\": 1}, \"mode\": \"markers\", \"name\": \"\", \"showlegend\": false, \"text\": [null, null], \"type\": \"scatter\", \"x\": [\"2020-03-14T00:00:00\", \"2020-04-28T00:00:00\"], \"y\": [27, 27]}, {\"legendgroup\": \"rgb(121, 193, 146)\", \"marker\": {\"color\": \"rgb(121, 193, 146)\", \"opacity\": 0, \"size\": 1}, \"mode\": \"markers\", \"name\": \"\", \"showlegend\": false, \"text\": [null, null], \"type\": \"scatter\", \"x\": [\"2020-02-26T00:00:00\", \"2020-05-10T00:00:00\"], \"y\": [145, 145]}, {\"legendgroup\": \"rgb(122, 179, 177)\", \"marker\": {\"color\": \"rgb(122, 179, 177)\", \"opacity\": 0, \"size\": 1}, \"mode\": \"markers\", \"name\": \"\", \"showlegend\": false, \"text\": [null, null], \"type\": \"scatter\", \"x\": [\"2020-03-13T00:00:00\", \"2020-05-10T00:00:00\"], \"y\": [74, 74]}, {\"legendgroup\": \"rgb(123, 183, 58)\", \"marker\": {\"color\": \"rgb(123, 183, 58)\", \"opacity\": 0, \"size\": 1}, \"mode\": \"markers\", \"name\": \"\", \"showlegend\": false, \"text\": [null, null], \"type\": \"scatter\", \"x\": [\"2020-03-03T00:00:00\", \"2020-05-10T00:00:00\"], \"y\": [111, 111]}, {\"legendgroup\": \"rgb(123, 28, 136)\", \"marker\": {\"color\": \"rgb(123, 28, 136)\", \"opacity\": 0, \"size\": 1}, \"mode\": \"markers\", \"name\": \"\", \"showlegend\": false, \"text\": [null, null], \"type\": \"scatter\", \"x\": [\"2020-03-20T00:00:00\", \"2020-05-10T00:00:00\"], \"y\": [43, 43]}, {\"legendgroup\": \"rgb(129, 162, 34)\", \"marker\": {\"color\": \"rgb(129, 162, 34)\", \"opacity\": 0, \"size\": 1}, \"mode\": \"markers\", \"name\": \"\", \"showlegend\": false, \"text\": [null, null], \"type\": \"scatter\", \"x\": [\"2020-03-04T00:00:00\", \"2020-05-10T00:00:00\"], \"y\": [109, 109]}, {\"legendgroup\": \"rgb(130, 90, 25)\", \"marker\": {\"color\": \"rgb(130, 90, 25)\", \"opacity\": 0, \"size\": 1}, \"mode\": \"markers\", \"name\": \"\", \"showlegend\": false, \"text\": [null, null], \"type\": \"scatter\", \"x\": [\"2020-03-14T00:00:00\", \"2020-05-10T00:00:00\"], \"y\": [67, 67]}, {\"legendgroup\": \"rgb(131, 149, 171)\", \"marker\": {\"color\": \"rgb(131, 149, 171)\", \"opacity\": 0, \"size\": 1}, \"mode\": \"markers\", \"name\": \"\", \"showlegend\": false, \"text\": [null, null], \"type\": \"scatter\", \"x\": [\"2020-03-18T00:00:00\", \"2020-05-10T00:00:00\"], \"y\": [51, 51]}, {\"legendgroup\": \"rgb(131, 160, 194)\", \"marker\": {\"color\": \"rgb(131, 160, 194)\", \"opacity\": 0, \"size\": 1}, \"mode\": \"markers\", \"name\": \"\", \"showlegend\": false, \"text\": [null, null], \"type\": \"scatter\", \"x\": [\"2020-03-13T00:00:00\", \"2020-05-10T00:00:00\"], \"y\": [71, 71]}, {\"legendgroup\": \"rgb(133, 200, 49)\", \"marker\": {\"color\": \"rgb(133, 200, 49)\", \"opacity\": 0, \"size\": 1}, \"mode\": \"markers\", \"name\": \"\", \"showlegend\": false, \"text\": [null, null], \"type\": \"scatter\", \"x\": [\"2020-01-25T00:00:00\", \"2020-05-10T00:00:00\"], \"y\": [175, 175]}, {\"legendgroup\": \"rgb(133, 7, 7)\", \"marker\": {\"color\": \"rgb(133, 7, 7)\", \"opacity\": 0, \"size\": 1}, \"mode\": \"markers\", \"name\": \"\", \"showlegend\": false, \"text\": [null, null], \"type\": \"scatter\", \"x\": [\"2020-03-14T00:00:00\", \"2020-05-05T00:00:00\"], \"y\": [45, 45]}, {\"legendgroup\": \"rgb(134, 196, 122)\", \"marker\": {\"color\": \"rgb(134, 196, 122)\", \"opacity\": 0, \"size\": 1}, \"mode\": \"markers\", \"name\": \"\", \"showlegend\": false, \"text\": [null, null], \"type\": \"scatter\", \"x\": [\"2020-03-02T00:00:00\", \"2020-05-10T00:00:00\"], \"y\": [115, 115]}, {\"legendgroup\": \"rgb(134, 201, 68)\", \"marker\": {\"color\": \"rgb(134, 201, 68)\", \"opacity\": 0, \"size\": 1}, \"mode\": \"markers\", \"name\": \"\", \"showlegend\": false, \"text\": [null, null], \"type\": \"scatter\", \"x\": [\"2020-03-16T00:00:00\", \"2020-05-09T00:00:00\"], \"y\": [56, 56]}, {\"legendgroup\": \"rgb(135, 136, 84)\", \"marker\": {\"color\": \"rgb(135, 136, 84)\", \"opacity\": 0, \"size\": 1}, \"mode\": \"markers\", \"name\": \"\", \"showlegend\": false, \"text\": [null, null], \"type\": \"scatter\", \"x\": [\"2020-03-02T00:00:00\", \"2020-05-10T00:00:00\"], \"y\": [114, 114]}, {\"legendgroup\": \"rgb(135, 155, 148)\", \"marker\": {\"color\": \"rgb(135, 155, 148)\", \"opacity\": 0, \"size\": 1}, \"mode\": \"markers\", \"name\": \"\", \"showlegend\": false, \"text\": [null, null], \"type\": \"scatter\", \"x\": [\"2020-03-05T00:00:00\", \"2020-05-10T00:00:00\"], \"y\": [106, 106]}, {\"legendgroup\": \"rgb(136, 7, 162)\", \"marker\": {\"color\": \"rgb(136, 7, 162)\", \"opacity\": 0, \"size\": 1}, \"mode\": \"markers\", \"name\": \"\", \"showlegend\": false, \"text\": [null, null], \"type\": \"scatter\", \"x\": [\"2020-03-08T00:00:00\", \"2020-05-10T00:00:00\"], \"y\": [92, 92]}, {\"legendgroup\": \"rgb(138, 185, 102)\", \"marker\": {\"color\": \"rgb(138, 185, 102)\", \"opacity\": 0, \"size\": 1}, \"mode\": \"markers\", \"name\": \"\", \"showlegend\": false, \"text\": [null, null], \"type\": \"scatter\", \"x\": [\"2020-03-02T00:00:00\", \"2020-05-10T00:00:00\"], \"y\": [116, 116]}, {\"legendgroup\": \"rgb(138, 33, 27)\", \"marker\": {\"color\": \"rgb(138, 33, 27)\", \"opacity\": 0, \"size\": 1}, \"mode\": \"markers\", \"name\": \"\", \"showlegend\": false, \"text\": [null, null], \"type\": \"scatter\", \"x\": [\"2020-03-11T00:00:00\", \"2020-05-10T00:00:00\"], \"y\": [82, 82]}, {\"legendgroup\": \"rgb(138, 73, 204)\", \"marker\": {\"color\": \"rgb(138, 73, 204)\", \"opacity\": 0, \"size\": 1}, \"mode\": \"markers\", \"name\": \"\", \"showlegend\": false, \"text\": [null, null], \"type\": \"scatter\", \"x\": [\"2020-03-03T00:00:00\", \"2020-05-10T00:00:00\"], \"y\": [110, 110]}, {\"legendgroup\": \"rgb(139, 145, 16)\", \"marker\": {\"color\": \"rgb(139, 145, 16)\", \"opacity\": 0, \"size\": 1}, \"mode\": \"markers\", \"name\": \"\", \"showlegend\": false, \"text\": [null, null], \"type\": \"scatter\", \"x\": [\"2020-03-15T00:00:00\", \"2020-05-09T00:00:00\"], \"y\": [59, 59]}, {\"legendgroup\": \"rgb(140, 185, 66)\", \"marker\": {\"color\": \"rgb(140, 185, 66)\", \"opacity\": 0, \"size\": 1}, \"mode\": \"markers\", \"name\": \"\", \"showlegend\": false, \"text\": [null, null], \"type\": \"scatter\", \"x\": [\"2020-02-28T00:00:00\", \"2020-05-10T00:00:00\"], \"y\": [134, 134]}, {\"legendgroup\": \"rgb(140, 32, 133)\", \"marker\": {\"color\": \"rgb(140, 32, 133)\", \"opacity\": 0, \"size\": 1}, \"mode\": \"markers\", \"name\": \"\", \"showlegend\": false, \"text\": [null, null], \"type\": \"scatter\", \"x\": [\"2020-03-23T00:00:00\", \"2020-04-14T00:00:00\"], \"y\": [7, 7]}, {\"legendgroup\": \"rgb(144, 53, 165)\", \"marker\": {\"color\": \"rgb(144, 53, 165)\", \"opacity\": 0, \"size\": 1}, \"mode\": \"markers\", \"name\": \"\", \"showlegend\": false, \"text\": [null, null], \"type\": \"scatter\", \"x\": [\"2020-02-19T00:00:00\", \"2020-05-10T00:00:00\"], \"y\": [159, 159]}, {\"legendgroup\": \"rgb(144, 55, 40)\", \"marker\": {\"color\": \"rgb(144, 55, 40)\", \"opacity\": 0, \"size\": 1}, \"mode\": \"markers\", \"name\": \"\", \"showlegend\": false, \"text\": [null, null], \"type\": \"scatter\", \"x\": [\"2020-03-21T00:00:00\", \"2020-04-19T00:00:00\"], \"y\": [11, 11]}, {\"legendgroup\": \"rgb(145, 200, 20)\", \"marker\": {\"color\": \"rgb(145, 200, 20)\", \"opacity\": 0, \"size\": 1}, \"mode\": \"markers\", \"name\": \"\", \"showlegend\": false, \"text\": [null, null], \"type\": \"scatter\", \"x\": [\"2020-03-11T00:00:00\", \"2020-05-10T00:00:00\"], \"y\": [79, 79]}, {\"legendgroup\": \"rgb(145, 201, 186)\", \"marker\": {\"color\": \"rgb(145, 201, 186)\", \"opacity\": 0, \"size\": 1}, \"mode\": \"markers\", \"name\": \"\", \"showlegend\": false, \"text\": [null, null], \"type\": \"scatter\", \"x\": [\"2020-01-31T00:00:00\", \"2020-05-10T00:00:00\"], \"y\": [165, 165]}, {\"legendgroup\": \"rgb(146, 6, 132)\", \"marker\": {\"color\": \"rgb(146, 6, 132)\", \"opacity\": 0, \"size\": 1}, \"mode\": \"markers\", \"name\": \"\", \"showlegend\": false, \"text\": [null, null], \"type\": \"scatter\", \"x\": [\"2020-03-13T00:00:00\", \"2020-05-02T00:00:00\"], \"y\": [37, 37]}, {\"legendgroup\": \"rgb(150, 179, 145)\", \"marker\": {\"color\": \"rgb(150, 179, 145)\", \"opacity\": 0, \"size\": 1}, \"mode\": \"markers\", \"name\": \"\", \"showlegend\": false, \"text\": [null, null], \"type\": \"scatter\", \"x\": [\"2020-02-21T00:00:00\", \"2020-05-10T00:00:00\"], \"y\": [157, 157]}, {\"legendgroup\": \"rgb(150, 204, 53)\", \"marker\": {\"color\": \"rgb(150, 204, 53)\", \"opacity\": 0, \"size\": 1}, \"mode\": \"markers\", \"name\": \"\", \"showlegend\": false, \"text\": [null, null], \"type\": \"scatter\", \"x\": [\"2020-03-16T00:00:00\", \"2020-05-09T00:00:00\"], \"y\": [55, 55]}, {\"legendgroup\": \"rgb(151, 172, 202)\", \"marker\": {\"color\": \"rgb(151, 172, 202)\", \"opacity\": 0, \"size\": 1}, \"mode\": \"markers\", \"name\": \"\", \"showlegend\": false, \"text\": [null, null], \"type\": \"scatter\", \"x\": [\"2020-03-20T00:00:00\", \"2020-05-09T00:00:00\"], \"y\": [38, 38]}, {\"legendgroup\": \"rgb(151, 70, 51)\", \"marker\": {\"color\": \"rgb(151, 70, 51)\", \"opacity\": 0, \"size\": 1}, \"mode\": \"markers\", \"name\": \"\", \"showlegend\": false, \"text\": [null, null], \"type\": \"scatter\", \"x\": [\"2020-01-31T00:00:00\", \"2020-05-10T00:00:00\"], \"y\": [164, 164]}, {\"legendgroup\": \"rgb(153, 19, 85)\", \"marker\": {\"color\": \"rgb(153, 19, 85)\", \"opacity\": 0, \"size\": 1}, \"mode\": \"markers\", \"name\": \"\", \"showlegend\": false, \"text\": [null, null], \"type\": \"scatter\", \"x\": [\"2020-02-27T00:00:00\", \"2020-05-10T00:00:00\"], \"y\": [139, 139]}, {\"legendgroup\": \"rgb(153, 53, 194)\", \"marker\": {\"color\": \"rgb(153, 53, 194)\", \"opacity\": 0, \"size\": 1}, \"mode\": \"markers\", \"name\": \"\", \"showlegend\": false, \"text\": [null, null], \"type\": \"scatter\", \"x\": [\"2020-02-27T00:00:00\", \"2020-05-10T00:00:00\"], \"y\": [138, 138]}, {\"legendgroup\": \"rgb(153, 81, 180)\", \"marker\": {\"color\": \"rgb(153, 81, 180)\", \"opacity\": 0, \"size\": 1}, \"mode\": \"markers\", \"name\": \"\", \"showlegend\": false, \"text\": [null, null], \"type\": \"scatter\", \"x\": [\"2020-01-22T00:00:00\", \"2020-05-10T00:00:00\"], \"y\": [181, 181]}, {\"legendgroup\": \"rgb(155, 182, 150)\", \"marker\": {\"color\": \"rgb(155, 182, 150)\", \"opacity\": 0, \"size\": 1}, \"mode\": \"markers\", \"name\": \"\", \"showlegend\": false, \"text\": [null, null], \"type\": \"scatter\", \"x\": [\"2020-01-23T00:00:00\", \"2020-05-10T00:00:00\"], \"y\": [180, 180]}, {\"legendgroup\": \"rgb(155, 69, 182)\", \"marker\": {\"color\": \"rgb(155, 69, 182)\", \"opacity\": 0, \"size\": 1}, \"mode\": \"markers\", \"name\": \"\", \"showlegend\": false, \"text\": [null, null], \"type\": \"scatter\", \"x\": [\"2020-01-22T00:00:00\", \"2020-05-10T00:00:00\"], \"y\": [183, 183]}, {\"legendgroup\": \"rgb(156, 54, 58)\", \"marker\": {\"color\": \"rgb(156, 54, 58)\", \"opacity\": 0, \"size\": 1}, \"mode\": \"markers\", \"name\": \"\", \"showlegend\": false, \"text\": [null, null], \"type\": \"scatter\", \"x\": [\"2020-03-11T00:00:00\", \"2020-05-09T00:00:00\"], \"y\": [76, 76]}, {\"legendgroup\": \"rgb(156, 80, 35)\", \"marker\": {\"color\": \"rgb(156, 80, 35)\", \"opacity\": 0, \"size\": 1}, \"mode\": \"markers\", \"name\": \"\", \"showlegend\": false, \"text\": [null, null], \"type\": \"scatter\", \"x\": [\"2020-03-20T00:00:00\", \"2020-05-10T00:00:00\"], \"y\": [40, 40]}, {\"legendgroup\": \"rgb(156, 82, 33)\", \"marker\": {\"color\": \"rgb(156, 82, 33)\", \"opacity\": 0, \"size\": 1}, \"mode\": \"markers\", \"name\": \"\", \"showlegend\": false, \"text\": [null, null], \"type\": \"scatter\", \"x\": [\"2020-03-25T00:00:00\", \"2020-05-10T00:00:00\"], \"y\": [29, 29]}, {\"legendgroup\": \"rgb(160, 12, 105)\", \"marker\": {\"color\": \"rgb(160, 12, 105)\", \"opacity\": 0, \"size\": 1}, \"mode\": \"markers\", \"name\": \"\", \"showlegend\": false, \"text\": [null, null], \"type\": \"scatter\", \"x\": [\"2020-03-05T00:00:00\", \"2020-05-10T00:00:00\"], \"y\": [105, 105]}, {\"legendgroup\": \"rgb(162, 101, 0)\", \"marker\": {\"color\": \"rgb(162, 101, 0)\", \"opacity\": 0, \"size\": 1}, \"mode\": \"markers\", \"name\": \"\", \"showlegend\": false, \"text\": [null, null], \"type\": \"scatter\", \"x\": [\"2020-04-30T00:00:00\", \"2020-05-10T00:00:00\"], \"y\": [1, 1]}, {\"legendgroup\": \"rgb(162, 164, 33)\", \"marker\": {\"color\": \"rgb(162, 164, 33)\", \"opacity\": 0, \"size\": 1}, \"mode\": \"markers\", \"name\": \"\", \"showlegend\": false, \"text\": [null, null], \"type\": \"scatter\", \"x\": [\"2020-01-27T00:00:00\", \"2020-05-10T00:00:00\"], \"y\": [171, 171]}, {\"legendgroup\": \"rgb(162, 202, 100)\", \"marker\": {\"color\": \"rgb(162, 202, 100)\", \"opacity\": 0, \"size\": 1}, \"mode\": \"markers\", \"name\": \"\", \"showlegend\": false, \"text\": [null, null], \"type\": \"scatter\", \"x\": [\"2020-04-05T00:00:00\", \"2020-05-09T00:00:00\"], \"y\": [19, 19]}, {\"legendgroup\": \"rgb(166, 140, 26)\", \"marker\": {\"color\": \"rgb(166, 140, 26)\", \"opacity\": 0, \"size\": 1}, \"mode\": \"markers\", \"name\": \"\", \"showlegend\": false, \"text\": [null, null], \"type\": \"scatter\", \"x\": [\"2020-03-14T00:00:00\", \"2020-05-10T00:00:00\"], \"y\": [69, 69]}, {\"legendgroup\": \"rgb(167, 113, 151)\", \"marker\": {\"color\": \"rgb(167, 113, 151)\", \"opacity\": 0, \"size\": 1}, \"mode\": \"markers\", \"name\": \"\", \"showlegend\": false, \"text\": [null, null], \"type\": \"scatter\", \"x\": [\"2020-02-21T00:00:00\", \"2020-05-10T00:00:00\"], \"y\": [158, 158]}, {\"legendgroup\": \"rgb(168, 112, 186)\", \"marker\": {\"color\": \"rgb(168, 112, 186)\", \"opacity\": 0, \"size\": 1}, \"mode\": \"markers\", \"name\": \"\", \"showlegend\": false, \"text\": [null, null], \"type\": \"scatter\", \"x\": [\"2020-03-22T00:00:00\", \"2020-04-11T00:00:00\"], \"y\": [5, 5]}, {\"legendgroup\": \"rgb(168, 200, 91)\", \"marker\": {\"color\": \"rgb(168, 200, 91)\", \"opacity\": 0, \"size\": 1}, \"mode\": \"markers\", \"name\": \"\", \"showlegend\": false, \"text\": [null, null], \"type\": \"scatter\", \"x\": [\"2020-03-20T00:00:00\", \"2020-05-10T00:00:00\"], \"y\": [41, 41]}, {\"legendgroup\": \"rgb(168, 49, 76)\", \"marker\": {\"color\": \"rgb(168, 49, 76)\", \"opacity\": 0, \"size\": 1}, \"mode\": \"markers\", \"name\": \"\", \"showlegend\": false, \"text\": [null, null], \"type\": \"scatter\", \"x\": [\"2020-02-28T00:00:00\", \"2020-05-10T00:00:00\"], \"y\": [132, 132]}, {\"legendgroup\": \"rgb(169, 66, 97)\", \"marker\": {\"color\": \"rgb(169, 66, 97)\", \"opacity\": 0, \"size\": 1}, \"mode\": \"markers\", \"name\": \"\", \"showlegend\": false, \"text\": [null, null], \"type\": \"scatter\", \"x\": [\"2020-03-14T00:00:00\", \"2020-05-10T00:00:00\"], \"y\": [64, 64]}, {\"legendgroup\": \"rgb(17, 43, 153)\", \"marker\": {\"color\": \"rgb(17, 43, 153)\", \"opacity\": 0, \"size\": 1}, \"mode\": \"markers\", \"name\": \"\", \"showlegend\": false, \"text\": [null, null], \"type\": \"scatter\", \"x\": [\"2020-03-06T00:00:00\", \"2020-05-10T00:00:00\"], \"y\": [103, 103]}, {\"legendgroup\": \"rgb(17, 49, 138)\", \"marker\": {\"color\": \"rgb(17, 49, 138)\", \"opacity\": 0, \"size\": 1}, \"mode\": \"markers\", \"name\": \"\", \"showlegend\": false, \"text\": [null, null], \"type\": \"scatter\", \"x\": [\"2020-01-26T00:00:00\", \"2020-05-10T00:00:00\"], \"y\": [173, 173]}, {\"legendgroup\": \"rgb(170, 122, 135)\", \"marker\": {\"color\": \"rgb(170, 122, 135)\", \"opacity\": 0, \"size\": 1}, \"mode\": \"markers\", \"name\": \"\", \"showlegend\": false, \"text\": [null, null], \"type\": \"scatter\", \"x\": [\"2020-03-08T00:00:00\", \"2020-05-10T00:00:00\"], \"y\": [90, 90]}, {\"legendgroup\": \"rgb(172, 138, 54)\", \"marker\": {\"color\": \"rgb(172, 138, 54)\", \"opacity\": 0, \"size\": 1}, \"mode\": \"markers\", \"name\": \"\", \"showlegend\": false, \"text\": [null, null], \"type\": \"scatter\", \"x\": [\"2020-03-13T00:00:00\", \"2020-05-10T00:00:00\"], \"y\": [70, 70]}, {\"legendgroup\": \"rgb(176, 128, 201)\", \"marker\": {\"color\": \"rgb(176, 128, 201)\", \"opacity\": 0, \"size\": 1}, \"mode\": \"markers\", \"name\": \"\", \"showlegend\": false, \"text\": [null, null], \"type\": \"scatter\", \"x\": [\"2020-02-04T00:00:00\", \"2020-05-10T00:00:00\"], \"y\": [161, 161]}, {\"legendgroup\": \"rgb(177, 3, 67)\", \"marker\": {\"color\": \"rgb(177, 3, 67)\", \"opacity\": 0, \"size\": 1}, \"mode\": \"markers\", \"name\": \"\", \"showlegend\": false, \"text\": [null, null], \"type\": \"scatter\", \"x\": [\"2020-02-29T00:00:00\", \"2020-05-10T00:00:00\"], \"y\": [128, 128]}, {\"legendgroup\": \"rgb(177, 49, 75)\", \"marker\": {\"color\": \"rgb(177, 49, 75)\", \"opacity\": 0, \"size\": 1}, \"mode\": \"markers\", \"name\": \"\", \"showlegend\": false, \"text\": [null, null], \"type\": \"scatter\", \"x\": [\"2020-03-21T00:00:00\", \"2020-05-10T00:00:00\"], \"y\": [36, 36]}, {\"legendgroup\": \"rgb(177, 58, 188)\", \"marker\": {\"color\": \"rgb(177, 58, 188)\", \"opacity\": 0, \"size\": 1}, \"mode\": \"markers\", \"name\": \"\", \"showlegend\": false, \"text\": [null, null], \"type\": \"scatter\", \"x\": [\"2020-03-04T00:00:00\", \"2020-04-27T00:00:00\"], \"y\": [54, 54]}, {\"legendgroup\": \"rgb(179, 16, 144)\", \"marker\": {\"color\": \"rgb(179, 16, 144)\", \"opacity\": 0, \"size\": 1}, \"mode\": \"markers\", \"name\": \"\", \"showlegend\": false, \"text\": [null, null], \"type\": \"scatter\", \"x\": [\"2020-03-14T00:00:00\", \"2020-05-10T00:00:00\"], \"y\": [65, 65]}, {\"legendgroup\": \"rgb(179, 28, 145)\", \"marker\": {\"color\": \"rgb(179, 28, 145)\", \"opacity\": 0, \"size\": 1}, \"mode\": \"markers\", \"name\": \"\", \"showlegend\": false, \"text\": [null, null], \"type\": \"scatter\", \"x\": [\"2020-03-16T00:00:00\", \"2020-04-05T00:00:00\"], \"y\": [4, 4]}, {\"legendgroup\": \"rgb(179, 81, 74)\", \"marker\": {\"color\": \"rgb(179, 81, 74)\", \"opacity\": 0, \"size\": 1}, \"mode\": \"markers\", \"name\": \"\", \"showlegend\": false, \"text\": [null, null], \"type\": \"scatter\", \"x\": [\"2020-02-26T00:00:00\", \"2020-05-10T00:00:00\"], \"y\": [140, 140]}, {\"legendgroup\": \"rgb(180, 87, 135)\", \"marker\": {\"color\": \"rgb(180, 87, 135)\", \"opacity\": 0, \"size\": 1}, \"mode\": \"markers\", \"name\": \"\", \"showlegend\": false, \"text\": [null, null], \"type\": \"scatter\", \"x\": [\"2020-01-29T00:00:00\", \"2020-05-10T00:00:00\"], \"y\": [169, 169]}, {\"legendgroup\": \"rgb(181, 104, 36)\", \"marker\": {\"color\": \"rgb(181, 104, 36)\", \"opacity\": 0, \"size\": 1}, \"mode\": \"markers\", \"name\": \"\", \"showlegend\": false, \"text\": [null, null], \"type\": \"scatter\", \"x\": [\"2020-02-25T00:00:00\", \"2020-05-10T00:00:00\"], \"y\": [147, 147]}, {\"legendgroup\": \"rgb(181, 6, 40)\", \"marker\": {\"color\": \"rgb(181, 6, 40)\", \"opacity\": 0, \"size\": 1}, \"mode\": \"markers\", \"name\": \"\", \"showlegend\": false, \"text\": [null, null], \"type\": \"scatter\", \"x\": [\"2020-03-14T00:00:00\", \"2020-04-02T00:00:00\"], \"y\": [3, 3]}, {\"legendgroup\": \"rgb(182, 161, 182)\", \"marker\": {\"color\": \"rgb(182, 161, 182)\", \"opacity\": 0, \"size\": 1}, \"mode\": \"markers\", \"name\": \"\", \"showlegend\": false, \"text\": [null, null], \"type\": \"scatter\", \"x\": [\"2020-03-10T00:00:00\", \"2020-05-10T00:00:00\"], \"y\": [86, 86]}, {\"legendgroup\": \"rgb(182, 22, 75)\", \"marker\": {\"color\": \"rgb(182, 22, 75)\", \"opacity\": 0, \"size\": 1}, \"mode\": \"markers\", \"name\": \"\", \"showlegend\": false, \"text\": [null, null], \"type\": \"scatter\", \"x\": [\"2020-03-20T00:00:00\", \"2020-05-08T00:00:00\"], \"y\": [35, 35]}, {\"legendgroup\": \"rgb(182, 7, 156)\", \"marker\": {\"color\": \"rgb(182, 7, 156)\", \"opacity\": 0, \"size\": 1}, \"mode\": \"markers\", \"name\": \"\", \"showlegend\": false, \"text\": [null, null], \"type\": \"scatter\", \"x\": [\"2020-03-16T00:00:00\", \"2020-05-07T00:00:00\"], \"y\": [47, 47]}, {\"legendgroup\": \"rgb(183, 12, 140)\", \"marker\": {\"color\": \"rgb(183, 12, 140)\", \"opacity\": 0, \"size\": 1}, \"mode\": \"markers\", \"name\": \"\", \"showlegend\": false, \"text\": [null, null], \"type\": \"scatter\", \"x\": [\"2020-02-25T00:00:00\", \"2020-05-10T00:00:00\"], \"y\": [148, 148]}, {\"legendgroup\": \"rgb(187, 160, 148)\", \"marker\": {\"color\": \"rgb(187, 160, 148)\", \"opacity\": 0, \"size\": 1}, \"mode\": \"markers\", \"name\": \"\", \"showlegend\": false, \"text\": [null, null], \"type\": \"scatter\", \"x\": [\"2020-02-27T00:00:00\", \"2020-05-10T00:00:00\"], \"y\": [136, 136]}, {\"legendgroup\": \"rgb(188, 115, 187)\", \"marker\": {\"color\": \"rgb(188, 115, 187)\", \"opacity\": 0, \"size\": 1}, \"mode\": \"markers\", \"name\": \"\", \"showlegend\": false, \"text\": [null, null], \"type\": \"scatter\", \"x\": [\"2020-03-12T00:00:00\", \"2020-05-09T00:00:00\"], \"y\": [73, 73]}, {\"legendgroup\": \"rgb(188, 121, 130)\", \"marker\": {\"color\": \"rgb(188, 121, 130)\", \"opacity\": 0, \"size\": 1}, \"mode\": \"markers\", \"name\": \"\", \"showlegend\": false, \"text\": [null, null], \"type\": \"scatter\", \"x\": [\"2020-04-05T00:00:00\", \"2020-04-13T00:00:00\"], \"y\": [0, 0]}, {\"legendgroup\": \"rgb(188, 99, 145)\", \"marker\": {\"color\": \"rgb(188, 99, 145)\", \"opacity\": 0, \"size\": 1}, \"mode\": \"markers\", \"name\": \"\", \"showlegend\": false, \"text\": [null, null], \"type\": \"scatter\", \"x\": [\"2020-03-16T00:00:00\", \"2020-05-10T00:00:00\"], \"y\": [60, 60]}, {\"legendgroup\": \"rgb(192, 134, 185)\", \"marker\": {\"color\": \"rgb(192, 134, 185)\", \"opacity\": 0, \"size\": 1}, \"mode\": \"markers\", \"name\": \"\", \"showlegend\": false, \"text\": [null, null], \"type\": \"scatter\", \"x\": [\"2020-03-06T00:00:00\", \"2020-05-07T00:00:00\"], \"y\": [87, 87]}, {\"legendgroup\": \"rgb(192, 135, 76)\", \"marker\": {\"color\": \"rgb(192, 135, 76)\", \"opacity\": 0, \"size\": 1}, \"mode\": \"markers\", \"name\": \"\", \"showlegend\": false, \"text\": [null, null], \"type\": \"scatter\", \"x\": [\"2020-02-29T00:00:00\", \"2020-05-10T00:00:00\"], \"y\": [129, 129]}, {\"legendgroup\": \"rgb(194, 140, 165)\", \"marker\": {\"color\": \"rgb(194, 140, 165)\", \"opacity\": 0, \"size\": 1}, \"mode\": \"markers\", \"name\": \"\", \"showlegend\": false, \"text\": [null, null], \"type\": \"scatter\", \"x\": [\"2020-03-02T00:00:00\", \"2020-05-10T00:00:00\"], \"y\": [118, 118]}, {\"legendgroup\": \"rgb(194, 27, 128)\", \"marker\": {\"color\": \"rgb(194, 27, 128)\", \"opacity\": 0, \"size\": 1}, \"mode\": \"markers\", \"name\": \"\", \"showlegend\": false, \"text\": [null, null], \"type\": \"scatter\", \"x\": [\"2020-03-14T00:00:00\", \"2020-05-10T00:00:00\"], \"y\": [63, 63]}, {\"legendgroup\": \"rgb(195, 56, 160)\", \"marker\": {\"color\": \"rgb(195, 56, 160)\", \"opacity\": 0, \"size\": 1}, \"mode\": \"markers\", \"name\": \"\", \"showlegend\": false, \"text\": [null, null], \"type\": \"scatter\", \"x\": [\"2020-02-28T00:00:00\", \"2020-05-10T00:00:00\"], \"y\": [133, 133]}, {\"legendgroup\": \"rgb(196, 196, 170)\", \"marker\": {\"color\": \"rgb(196, 196, 170)\", \"opacity\": 0, \"size\": 1}, \"mode\": \"markers\", \"name\": \"\", \"showlegend\": false, \"text\": [null, null], \"type\": \"scatter\", \"x\": [\"2020-01-30T00:00:00\", \"2020-05-10T00:00:00\"], \"y\": [168, 168]}, {\"legendgroup\": \"rgb(196, 197, 124)\", \"marker\": {\"color\": \"rgb(196, 197, 124)\", \"opacity\": 0, \"size\": 1}, \"mode\": \"markers\", \"name\": \"\", \"showlegend\": false, \"text\": [null, null], \"type\": \"scatter\", \"x\": [\"2020-02-14T00:00:00\", \"2020-05-10T00:00:00\"], \"y\": [160, 160]}, {\"legendgroup\": \"rgb(198, 55, 59)\", \"marker\": {\"color\": \"rgb(198, 55, 59)\", \"opacity\": 0, \"size\": 1}, \"mode\": \"markers\", \"name\": \"\", \"showlegend\": false, \"text\": [null, null], \"type\": \"scatter\", \"x\": [\"2020-03-14T00:00:00\", \"2020-05-10T00:00:00\"], \"y\": [66, 66]}, {\"legendgroup\": \"rgb(198, 57, 124)\", \"marker\": {\"color\": \"rgb(198, 57, 124)\", \"opacity\": 0, \"size\": 1}, \"mode\": \"markers\", \"name\": \"\", \"showlegend\": false, \"text\": [null, null], \"type\": \"scatter\", \"x\": [\"2020-03-11T00:00:00\", \"2020-05-10T00:00:00\"], \"y\": [80, 80]}, {\"legendgroup\": \"rgb(198, 58, 178)\", \"marker\": {\"color\": \"rgb(198, 58, 178)\", \"opacity\": 0, \"size\": 1}, \"mode\": \"markers\", \"name\": \"\", \"showlegend\": false, \"text\": [null, null], \"type\": \"scatter\", \"x\": [\"2020-02-26T00:00:00\", \"2020-05-10T00:00:00\"], \"y\": [141, 141]}, {\"legendgroup\": \"rgb(199, 122, 65)\", \"marker\": {\"color\": \"rgb(199, 122, 65)\", \"opacity\": 0, \"size\": 1}, \"mode\": \"markers\", \"name\": \"\", \"showlegend\": false, \"text\": [null, null], \"type\": \"scatter\", \"x\": [\"2020-03-01T00:00:00\", \"2020-05-10T00:00:00\"], \"y\": [124, 124]}, {\"legendgroup\": \"rgb(201, 171, 180)\", \"marker\": {\"color\": \"rgb(201, 171, 180)\", \"opacity\": 0, \"size\": 1}, \"mode\": \"markers\", \"name\": \"\", \"showlegend\": false, \"text\": [null, null], \"type\": \"scatter\", \"x\": [\"2020-03-05T00:00:00\", \"2020-05-08T00:00:00\"], \"y\": [96, 96]}, {\"legendgroup\": \"rgb(201, 65, 87)\", \"marker\": {\"color\": \"rgb(201, 65, 87)\", \"opacity\": 0, \"size\": 1}, \"mode\": \"markers\", \"name\": \"\", \"showlegend\": false, \"text\": [null, null], \"type\": \"scatter\", \"x\": [\"2020-03-04T00:00:00\", \"2020-05-10T00:00:00\"], \"y\": [108, 108]}, {\"legendgroup\": \"rgb(22, 186, 22)\", \"marker\": {\"color\": \"rgb(22, 186, 22)\", \"opacity\": 0, \"size\": 1}, \"mode\": \"markers\", \"name\": \"\", \"showlegend\": false, \"text\": [null, null], \"type\": \"scatter\", \"x\": [\"2020-03-25T00:00:00\", \"2020-05-10T00:00:00\"], \"y\": [28, 28]}, {\"legendgroup\": \"rgb(22, 91, 59)\", \"marker\": {\"color\": \"rgb(22, 91, 59)\", \"opacity\": 0, \"size\": 1}, \"mode\": \"markers\", \"name\": \"\", \"showlegend\": false, \"text\": [null, null], \"type\": \"scatter\", \"x\": [\"2020-02-26T00:00:00\", \"2020-05-10T00:00:00\"], \"y\": [144, 144]}, {\"legendgroup\": \"rgb(23, 67, 140)\", \"marker\": {\"color\": \"rgb(23, 67, 140)\", \"opacity\": 0, \"size\": 1}, \"mode\": \"markers\", \"name\": \"\", \"showlegend\": false, \"text\": [null, null], \"type\": \"scatter\", \"x\": [\"2020-03-06T00:00:00\", \"2020-05-10T00:00:00\"], \"y\": [99, 99]}, {\"legendgroup\": \"rgb(25, 73, 10)\", \"marker\": {\"color\": \"rgb(25, 73, 10)\", \"opacity\": 0, \"size\": 1}, \"mode\": \"markers\", \"name\": \"\", \"showlegend\": false, \"text\": [null, null], \"type\": \"scatter\", \"x\": [\"2020-03-13T00:00:00\", \"2020-05-10T00:00:00\"], \"y\": [75, 75]}, {\"legendgroup\": \"rgb(26, 133, 183)\", \"marker\": {\"color\": \"rgb(26, 133, 183)\", \"opacity\": 0, \"size\": 1}, \"mode\": \"markers\", \"name\": \"\", \"showlegend\": false, \"text\": [null, null], \"type\": \"scatter\", \"x\": [\"2020-03-01T00:00:00\", \"2020-05-10T00:00:00\"], \"y\": [121, 121]}, {\"legendgroup\": \"rgb(26, 42, 20)\", \"marker\": {\"color\": \"rgb(26, 42, 20)\", \"opacity\": 0, \"size\": 1}, \"mode\": \"markers\", \"name\": \"\", \"showlegend\": false, \"text\": [null, null], \"type\": \"scatter\", \"x\": [\"2020-02-28T00:00:00\", \"2020-05-10T00:00:00\"], \"y\": [131, 131]}, {\"legendgroup\": \"rgb(28, 0, 26)\", \"marker\": {\"color\": \"rgb(28, 0, 26)\", \"opacity\": 0, \"size\": 1}, \"mode\": \"markers\", \"name\": \"\", \"showlegend\": false, \"text\": [null, null], \"type\": \"scatter\", \"x\": [\"2020-03-06T00:00:00\", \"2020-05-10T00:00:00\"], \"y\": [102, 102]}, {\"legendgroup\": \"rgb(28, 11, 119)\", \"marker\": {\"color\": \"rgb(28, 11, 119)\", \"opacity\": 0, \"size\": 1}, \"mode\": \"markers\", \"name\": \"\", \"showlegend\": false, \"text\": [null, null], \"type\": \"scatter\", \"x\": [\"2020-03-14T00:00:00\", \"2020-04-30T00:00:00\"], \"y\": [30, 30]}, {\"legendgroup\": \"rgb(3, 121, 119)\", \"marker\": {\"color\": \"rgb(3, 121, 119)\", \"opacity\": 0, \"size\": 1}, \"mode\": \"markers\", \"name\": \"\", \"showlegend\": false, \"text\": [null, null], \"type\": \"scatter\", \"x\": [\"2020-03-24T00:00:00\", \"2020-04-13T00:00:00\"], \"y\": [6, 6]}, {\"legendgroup\": \"rgb(32, 108, 67)\", \"marker\": {\"color\": \"rgb(32, 108, 67)\", \"opacity\": 0, \"size\": 1}, \"mode\": \"markers\", \"name\": \"\", \"showlegend\": false, \"text\": [null, null], \"type\": \"scatter\", \"x\": [\"2020-01-22T00:00:00\", \"2020-05-08T00:00:00\"], \"y\": [179, 179]}, {\"legendgroup\": \"rgb(34, 6, 65)\", \"marker\": {\"color\": \"rgb(34, 6, 65)\", \"opacity\": 0, \"size\": 1}, \"mode\": \"markers\", \"name\": \"\", \"showlegend\": false, \"text\": [null, null], \"type\": \"scatter\", \"x\": [\"2020-01-22T00:00:00\", \"2020-05-10T00:00:00\"], \"y\": [182, 182]}, {\"legendgroup\": \"rgb(35, 124, 100)\", \"marker\": {\"color\": \"rgb(35, 124, 100)\", \"opacity\": 0, \"size\": 1}, \"mode\": \"markers\", \"name\": \"\", \"showlegend\": false, \"text\": [null, null], \"type\": \"scatter\", \"x\": [\"2020-03-17T00:00:00\", \"2020-05-10T00:00:00\"], \"y\": [57, 57]}, {\"legendgroup\": \"rgb(36, 135, 195)\", \"marker\": {\"color\": \"rgb(36, 135, 195)\", \"opacity\": 0, \"size\": 1}, \"mode\": \"markers\", \"name\": \"\", \"showlegend\": false, \"text\": [null, null], \"type\": \"scatter\", \"x\": [\"2020-03-14T00:00:00\", \"2020-05-10T00:00:00\"], \"y\": [68, 68]}, {\"legendgroup\": \"rgb(36, 181, 102)\", \"marker\": {\"color\": \"rgb(36, 181, 102)\", \"opacity\": 0, \"size\": 1}, \"mode\": \"markers\", \"name\": \"\", \"showlegend\": false, \"text\": [null, null], \"type\": \"scatter\", \"x\": [\"2020-01-27T00:00:00\", \"2020-05-10T00:00:00\"], \"y\": [172, 172]}, {\"legendgroup\": \"rgb(36, 71, 199)\", \"marker\": {\"color\": \"rgb(36, 71, 199)\", \"opacity\": 0, \"size\": 1}, \"mode\": \"markers\", \"name\": \"\", \"showlegend\": false, \"text\": [null, null], \"type\": \"scatter\", \"x\": [\"2020-03-10T00:00:00\", \"2020-05-10T00:00:00\"], \"y\": [85, 85]}, {\"legendgroup\": \"rgb(38, 103, 20)\", \"marker\": {\"color\": \"rgb(38, 103, 20)\", \"opacity\": 0, \"size\": 1}, \"mode\": \"markers\", \"name\": \"\", \"showlegend\": false, \"text\": [null, null], \"type\": \"scatter\", \"x\": [\"2020-02-24T00:00:00\", \"2020-05-10T00:00:00\"], \"y\": [155, 155]}, {\"legendgroup\": \"rgb(39, 123, 59)\", \"marker\": {\"color\": \"rgb(39, 123, 59)\", \"opacity\": 0, \"size\": 1}, \"mode\": \"markers\", \"name\": \"\", \"showlegend\": false, \"text\": [null, null], \"type\": \"scatter\", \"x\": [\"2020-02-29T00:00:00\", \"2020-05-10T00:00:00\"], \"y\": [127, 127]}, {\"legendgroup\": \"rgb(39, 43, 53)\", \"marker\": {\"color\": \"rgb(39, 43, 53)\", \"opacity\": 0, \"size\": 1}, \"mode\": \"markers\", \"name\": \"\", \"showlegend\": false, \"text\": [null, null], \"type\": \"scatter\", \"x\": [\"2020-03-01T00:00:00\", \"2020-05-10T00:00:00\"], \"y\": [126, 126]}, {\"legendgroup\": \"rgb(40, 54, 181)\", \"marker\": {\"color\": \"rgb(40, 54, 181)\", \"opacity\": 0, \"size\": 1}, \"mode\": \"markers\", \"name\": \"\", \"showlegend\": false, \"text\": [null, null], \"type\": \"scatter\", \"x\": [\"2020-03-18T00:00:00\", \"2020-04-28T00:00:00\"], \"y\": [22, 22]}, {\"legendgroup\": \"rgb(40, 6, 148)\", \"marker\": {\"color\": \"rgb(40, 6, 148)\", \"opacity\": 0, \"size\": 1}, \"mode\": \"markers\", \"name\": \"\", \"showlegend\": false, \"text\": [null, null], \"type\": \"scatter\", \"x\": [\"2020-01-26T00:00:00\", \"2020-05-10T00:00:00\"], \"y\": [174, 174]}, {\"legendgroup\": \"rgb(41, 182, 3)\", \"marker\": {\"color\": \"rgb(41, 182, 3)\", \"opacity\": 0, \"size\": 1}, \"mode\": \"markers\", \"name\": \"\", \"showlegend\": false, \"text\": [null, null], \"type\": \"scatter\", \"x\": [\"2020-04-30T00:00:00\", \"2020-05-10T00:00:00\"], \"y\": [2, 2]}, {\"legendgroup\": \"rgb(41, 67, 108)\", \"marker\": {\"color\": \"rgb(41, 67, 108)\", \"opacity\": 0, \"size\": 1}, \"mode\": \"markers\", \"name\": \"\", \"showlegend\": false, \"text\": [null, null], \"type\": \"scatter\", \"x\": [\"2020-03-08T00:00:00\", \"2020-05-10T00:00:00\"], \"y\": [94, 94]}, {\"legendgroup\": \"rgb(42, 133, 68)\", \"marker\": {\"color\": \"rgb(42, 133, 68)\", \"opacity\": 0, \"size\": 1}, \"mode\": \"markers\", \"name\": \"\", \"showlegend\": false, \"text\": [null, null], \"type\": \"scatter\", \"x\": [\"2020-02-28T00:00:00\", \"2020-05-10T00:00:00\"], \"y\": [135, 135]}, {\"legendgroup\": \"rgb(42, 150, 195)\", \"marker\": {\"color\": \"rgb(42, 150, 195)\", \"opacity\": 0, \"size\": 1}, \"mode\": \"markers\", \"name\": \"\", \"showlegend\": false, \"text\": [null, null], \"type\": \"scatter\", \"x\": [\"2020-03-06T00:00:00\", \"2020-05-10T00:00:00\"], \"y\": [101, 101]}, {\"legendgroup\": \"rgb(42, 72, 129)\", \"marker\": {\"color\": \"rgb(42, 72, 129)\", \"opacity\": 0, \"size\": 1}, \"mode\": \"markers\", \"name\": \"\", \"showlegend\": false, \"text\": [null, null], \"type\": \"scatter\", \"x\": [\"2020-03-04T00:00:00\", \"2020-05-10T00:00:00\"], \"y\": [107, 107]}, {\"legendgroup\": \"rgb(48, 66, 122)\", \"marker\": {\"color\": \"rgb(48, 66, 122)\", \"opacity\": 0, \"size\": 1}, \"mode\": \"markers\", \"name\": \"\", \"showlegend\": false, \"text\": [null, null], \"type\": \"scatter\", \"x\": [\"2020-03-22T00:00:00\", \"2020-04-25T00:00:00\"], \"y\": [18, 18]}, {\"legendgroup\": \"rgb(49, 193, 82)\", \"marker\": {\"color\": \"rgb(49, 193, 82)\", \"opacity\": 0, \"size\": 1}, \"mode\": \"markers\", \"name\": \"\", \"showlegend\": false, \"text\": [null, null], \"type\": \"scatter\", \"x\": [\"2020-02-24T00:00:00\", \"2020-05-10T00:00:00\"], \"y\": [154, 154]}, {\"legendgroup\": \"rgb(49, 96, 82)\", \"marker\": {\"color\": \"rgb(49, 96, 82)\", \"opacity\": 0, \"size\": 1}, \"mode\": \"markers\", \"name\": \"\", \"showlegend\": false, \"text\": [null, null], \"type\": \"scatter\", \"x\": [\"2020-03-22T00:00:00\", \"2020-05-10T00:00:00\"], \"y\": [33, 33]}, {\"legendgroup\": \"rgb(5, 107, 130)\", \"marker\": {\"color\": \"rgb(5, 107, 130)\", \"opacity\": 0, \"size\": 1}, \"mode\": \"markers\", \"name\": \"\", \"showlegend\": false, \"text\": [null, null], \"type\": \"scatter\", \"x\": [\"2020-02-24T00:00:00\", \"2020-05-10T00:00:00\"], \"y\": [152, 152]}, {\"legendgroup\": \"rgb(5, 8, 35)\", \"marker\": {\"color\": \"rgb(5, 8, 35)\", \"opacity\": 0, \"size\": 1}, \"mode\": \"markers\", \"name\": \"\", \"showlegend\": false, \"text\": [null, null], \"type\": \"scatter\", \"x\": [\"2020-02-26T00:00:00\", \"2020-05-10T00:00:00\"], \"y\": [146, 146]}, {\"legendgroup\": \"rgb(50, 134, 135)\", \"marker\": {\"color\": \"rgb(50, 134, 135)\", \"opacity\": 0, \"size\": 1}, \"mode\": \"markers\", \"name\": \"\", \"showlegend\": false, \"text\": [null, null], \"type\": \"scatter\", \"x\": [\"2020-01-30T00:00:00\", \"2020-05-10T00:00:00\"], \"y\": [167, 167]}, {\"legendgroup\": \"rgb(50, 25, 64)\", \"marker\": {\"color\": \"rgb(50, 25, 64)\", \"opacity\": 0, \"size\": 1}, \"mode\": \"markers\", \"name\": \"\", \"showlegend\": false, \"text\": [null, null], \"type\": \"scatter\", \"x\": [\"2020-02-27T00:00:00\", \"2020-05-10T00:00:00\"], \"y\": [137, 137]}, {\"legendgroup\": \"rgb(52, 137, 151)\", \"marker\": {\"color\": \"rgb(52, 137, 151)\", \"opacity\": 0, \"size\": 1}, \"mode\": \"markers\", \"name\": \"\", \"showlegend\": false, \"text\": [null, null], \"type\": \"scatter\", \"x\": [\"2020-03-30T00:00:00\", \"2020-04-29T00:00:00\"], \"y\": [13, 13]}, {\"legendgroup\": \"rgb(56, 155, 27)\", \"marker\": {\"color\": \"rgb(56, 155, 27)\", \"opacity\": 0, \"size\": 1}, \"mode\": \"markers\", \"name\": \"\", \"showlegend\": false, \"text\": [null, null], \"type\": \"scatter\", \"x\": [\"2020-03-20T00:00:00\", \"2020-04-23T00:00:00\"], \"y\": [17, 17]}, {\"legendgroup\": \"rgb(56, 18, 85)\", \"marker\": {\"color\": \"rgb(56, 18, 85)\", \"opacity\": 0, \"size\": 1}, \"mode\": \"markers\", \"name\": \"\", \"showlegend\": false, \"text\": [null, null], \"type\": \"scatter\", \"x\": [\"2020-01-31T00:00:00\", \"2020-05-10T00:00:00\"], \"y\": [163, 163]}, {\"legendgroup\": \"rgb(56, 184, 89)\", \"marker\": {\"color\": \"rgb(56, 184, 89)\", \"opacity\": 0, \"size\": 1}, \"mode\": \"markers\", \"name\": \"\", \"showlegend\": false, \"text\": [null, null], \"type\": \"scatter\", \"x\": [\"2020-03-01T00:00:00\", \"2020-05-10T00:00:00\"], \"y\": [125, 125]}, {\"legendgroup\": \"rgb(56, 204, 171)\", \"marker\": {\"color\": \"rgb(56, 204, 171)\", \"opacity\": 0, \"size\": 1}, \"mode\": \"markers\", \"name\": \"\", \"showlegend\": false, \"text\": [null, null], \"type\": \"scatter\", \"x\": [\"2020-02-01T00:00:00\", \"2020-05-10T00:00:00\"], \"y\": [162, 162]}, {\"legendgroup\": \"rgb(57, 112, 71)\", \"marker\": {\"color\": \"rgb(57, 112, 71)\", \"opacity\": 0, \"size\": 1}, \"mode\": \"markers\", \"name\": \"\", \"showlegend\": false, \"text\": [null, null], \"type\": \"scatter\", \"x\": [\"2020-03-17T00:00:00\", \"2020-05-06T00:00:00\"], \"y\": [39, 39]}, {\"legendgroup\": \"rgb(57, 17, 56)\", \"marker\": {\"color\": \"rgb(57, 17, 56)\", \"opacity\": 0, \"size\": 1}, \"mode\": \"markers\", \"name\": \"\", \"showlegend\": false, \"text\": [null, null], \"type\": \"scatter\", \"x\": [\"2020-03-24T00:00:00\", \"2020-05-07T00:00:00\"], \"y\": [24, 24]}, {\"legendgroup\": \"rgb(57, 184, 131)\", \"marker\": {\"color\": \"rgb(57, 184, 131)\", \"opacity\": 0, \"size\": 1}, \"mode\": \"markers\", \"name\": \"\", \"showlegend\": false, \"text\": [null, null], \"type\": \"scatter\", \"x\": [\"2020-01-31T00:00:00\", \"2020-05-10T00:00:00\"], \"y\": [166, 166]}, {\"legendgroup\": \"rgb(59, 74, 121)\", \"marker\": {\"color\": \"rgb(59, 74, 121)\", \"opacity\": 0, \"size\": 1}, \"mode\": \"markers\", \"name\": \"\", \"showlegend\": false, \"text\": [null, null], \"type\": \"scatter\", \"x\": [\"2020-01-25T00:00:00\", \"2020-05-10T00:00:00\"], \"y\": [176, 176]}, {\"legendgroup\": \"rgb(60, 20, 80)\", \"marker\": {\"color\": \"rgb(60, 20, 80)\", \"opacity\": 0, \"size\": 1}, \"mode\": \"markers\", \"name\": \"\", \"showlegend\": false, \"text\": [null, null], \"type\": \"scatter\", \"x\": [\"2020-03-14T00:00:00\", \"2020-05-04T00:00:00\"], \"y\": [42, 42]}, {\"legendgroup\": \"rgb(65, 137, 187)\", \"marker\": {\"color\": \"rgb(65, 137, 187)\", \"opacity\": 0, \"size\": 1}, \"mode\": \"markers\", \"name\": \"\", \"showlegend\": false, \"text\": [null, null], \"type\": \"scatter\", \"x\": [\"2020-03-26T00:00:00\", \"2020-05-10T00:00:00\"], \"y\": [26, 26]}, {\"legendgroup\": \"rgb(67, 108, 144)\", \"marker\": {\"color\": \"rgb(67, 108, 144)\", \"opacity\": 0, \"size\": 1}, \"mode\": \"markers\", \"name\": \"\", \"showlegend\": false, \"text\": [null, null], \"type\": \"scatter\", \"x\": [\"2020-02-25T00:00:00\", \"2020-05-10T00:00:00\"], \"y\": [150, 150]}, {\"legendgroup\": \"rgb(68, 3, 162)\", \"marker\": {\"color\": \"rgb(68, 3, 162)\", \"opacity\": 0, \"size\": 1}, \"mode\": \"markers\", \"name\": \"\", \"showlegend\": false, \"text\": [null, null], \"type\": \"scatter\", \"x\": [\"2020-03-31T00:00:00\", \"2020-05-03T00:00:00\"], \"y\": [15, 15]}, {\"legendgroup\": \"rgb(70, 153, 59)\", \"marker\": {\"color\": \"rgb(70, 153, 59)\", \"opacity\": 0, \"size\": 1}, \"mode\": \"markers\", \"name\": \"\", \"showlegend\": false, \"text\": [null, null], \"type\": \"scatter\", \"x\": [\"2020-01-22T00:00:00\", \"2020-05-10T00:00:00\"], \"y\": [184, 184]}, {\"legendgroup\": \"rgb(70, 179, 28)\", \"marker\": {\"color\": \"rgb(70, 179, 28)\", \"opacity\": 0, \"size\": 1}, \"mode\": \"markers\", \"name\": \"\", \"showlegend\": false, \"text\": [null, null], \"type\": \"scatter\", \"x\": [\"2020-03-06T00:00:00\", \"2020-05-10T00:00:00\"], \"y\": [98, 98]}, {\"legendgroup\": \"rgb(71, 84, 113)\", \"marker\": {\"color\": \"rgb(71, 84, 113)\", \"opacity\": 0, \"size\": 1}, \"mode\": \"markers\", \"name\": \"\", \"showlegend\": false, \"text\": [null, null], \"type\": \"scatter\", \"x\": [\"2020-03-11T00:00:00\", \"2020-05-09T00:00:00\"], \"y\": [78, 78]}, {\"legendgroup\": \"rgb(72, 119, 39)\", \"marker\": {\"color\": \"rgb(72, 119, 39)\", \"opacity\": 0, \"size\": 1}, \"mode\": \"markers\", \"name\": \"\", \"showlegend\": false, \"text\": [null, null], \"type\": \"scatter\", \"x\": [\"2020-02-26T00:00:00\", \"2020-05-10T00:00:00\"], \"y\": [143, 143]}, {\"legendgroup\": \"rgb(74, 134, 116)\", \"marker\": {\"color\": \"rgb(74, 134, 116)\", \"opacity\": 0, \"size\": 1}, \"mode\": \"markers\", \"name\": \"\", \"showlegend\": false, \"text\": [null, null], \"type\": \"scatter\", \"x\": [\"2020-03-09T00:00:00\", \"2020-05-10T00:00:00\"], \"y\": [88, 88]}, {\"legendgroup\": \"rgb(74, 153, 23)\", \"marker\": {\"color\": \"rgb(74, 153, 23)\", \"opacity\": 0, \"size\": 1}, \"mode\": \"markers\", \"name\": \"\", \"showlegend\": false, \"text\": [null, null], \"type\": \"scatter\", \"x\": [\"2020-02-25T00:00:00\", \"2020-05-10T00:00:00\"], \"y\": [149, 149]}, {\"legendgroup\": \"rgb(74, 169, 186)\", \"marker\": {\"color\": \"rgb(74, 169, 186)\", \"opacity\": 0, \"size\": 1}, \"mode\": \"markers\", \"name\": \"\", \"showlegend\": false, \"text\": [null, null], \"type\": \"scatter\", \"x\": [\"2020-03-15T00:00:00\", \"2020-05-09T00:00:00\"], \"y\": [61, 61]}, {\"legendgroup\": \"rgb(74, 75, 197)\", \"marker\": {\"color\": \"rgb(74, 75, 197)\", \"opacity\": 0, \"size\": 1}, \"mode\": \"markers\", \"name\": \"\", \"showlegend\": false, \"text\": [null, null], \"type\": \"scatter\", \"x\": [\"2020-03-11T00:00:00\", \"2020-05-10T00:00:00\"], \"y\": [83, 83]}, {\"legendgroup\": \"rgb(75, 67, 0)\", \"marker\": {\"color\": \"rgb(75, 67, 0)\", \"opacity\": 0, \"size\": 1}, \"mode\": \"markers\", \"name\": \"\", \"showlegend\": false, \"text\": [null, null], \"type\": \"scatter\", \"x\": [\"2020-03-03T00:00:00\", \"2020-05-10T00:00:00\"], \"y\": [113, 113]}, {\"legendgroup\": \"rgb(75, 96, 149)\", \"marker\": {\"color\": \"rgb(75, 96, 149)\", \"opacity\": 0, \"size\": 1}, \"mode\": \"markers\", \"name\": \"\", \"showlegend\": false, \"text\": [null, null], \"type\": \"scatter\", \"x\": [\"2020-03-12T00:00:00\", \"2020-05-10T00:00:00\"], \"y\": [77, 77]}, {\"legendgroup\": \"rgb(8, 148, 108)\", \"marker\": {\"color\": \"rgb(8, 148, 108)\", \"opacity\": 0, \"size\": 1}, \"mode\": \"markers\", \"name\": \"\", \"showlegend\": false, \"text\": [null, null], \"type\": \"scatter\", \"x\": [\"2020-01-22T00:00:00\", \"2020-05-10T00:00:00\"], \"y\": [185, 185]}, {\"legendgroup\": \"rgb(8, 50, 163)\", \"marker\": {\"color\": \"rgb(8, 50, 163)\", \"opacity\": 0, \"size\": 1}, \"mode\": \"markers\", \"name\": \"\", \"showlegend\": false, \"text\": [null, null], \"type\": \"scatter\", \"x\": [\"2020-03-01T00:00:00\", \"2020-05-10T00:00:00\"], \"y\": [123, 123]}, {\"legendgroup\": \"rgb(8, 86, 59)\", \"marker\": {\"color\": \"rgb(8, 86, 59)\", \"opacity\": 0, \"size\": 1}, \"mode\": \"markers\", \"name\": \"\", \"showlegend\": false, \"text\": [null, null], \"type\": \"scatter\", \"x\": [\"2020-03-31T00:00:00\", \"2020-05-10T00:00:00\"], \"y\": [21, 21]}, {\"legendgroup\": \"rgb(80, 36, 112)\", \"marker\": {\"color\": \"rgb(80, 36, 112)\", \"opacity\": 0, \"size\": 1}, \"mode\": \"markers\", \"name\": \"\", \"showlegend\": false, \"text\": [null, null], \"type\": \"scatter\", \"x\": [\"2020-03-08T00:00:00\", \"2020-05-10T00:00:00\"], \"y\": [91, 91]}, {\"legendgroup\": \"rgb(81, 155, 75)\", \"marker\": {\"color\": \"rgb(81, 155, 75)\", \"opacity\": 0, \"size\": 1}, \"mode\": \"markers\", \"name\": \"\", \"showlegend\": false, \"text\": [null, null], \"type\": \"scatter\", \"x\": [\"2020-03-03T00:00:00\", \"2020-05-10T00:00:00\"], \"y\": [112, 112]}, {\"legendgroup\": \"rgb(81, 91, 160)\", \"marker\": {\"color\": \"rgb(81, 91, 160)\", \"opacity\": 0, \"size\": 1}, \"mode\": \"markers\", \"name\": \"\", \"showlegend\": false, \"text\": [null, null], \"type\": \"scatter\", \"x\": [\"2020-03-19T00:00:00\", \"2020-05-10T00:00:00\"], \"y\": [48, 48]}, {\"legendgroup\": \"rgb(83, 119, 171)\", \"marker\": {\"color\": \"rgb(83, 119, 171)\", \"opacity\": 0, \"size\": 1}, \"mode\": \"markers\", \"name\": \"\", \"showlegend\": false, \"text\": [null, null], \"type\": \"scatter\", \"x\": [\"2020-03-09T00:00:00\", \"2020-05-08T00:00:00\"], \"y\": [81, 81]}, {\"legendgroup\": \"rgb(83, 121, 183)\", \"marker\": {\"color\": \"rgb(83, 121, 183)\", \"opacity\": 0, \"size\": 1}, \"mode\": \"markers\", \"name\": \"\", \"showlegend\": false, \"text\": [null, null], \"type\": \"scatter\", \"x\": [\"2020-01-24T00:00:00\", \"2020-05-10T00:00:00\"], \"y\": [178, 178]}, {\"legendgroup\": \"rgb(83, 192, 76)\", \"marker\": {\"color\": \"rgb(83, 192, 76)\", \"opacity\": 0, \"size\": 1}, \"mode\": \"markers\", \"name\": \"\", \"showlegend\": false, \"text\": [null, null], \"type\": \"scatter\", \"x\": [\"2020-03-10T00:00:00\", \"2020-05-09T00:00:00\"], \"y\": [84, 84]}, {\"legendgroup\": \"rgb(85, 6, 118)\", \"marker\": {\"color\": \"rgb(85, 6, 118)\", \"opacity\": 0, \"size\": 1}, \"mode\": \"markers\", \"name\": \"\", \"showlegend\": false, \"text\": [null, null], \"type\": \"scatter\", \"x\": [\"2020-03-09T00:00:00\", \"2020-05-10T00:00:00\"], \"y\": [89, 89]}, {\"legendgroup\": \"rgb(86, 123, 17)\", \"marker\": {\"color\": \"rgb(86, 123, 17)\", \"opacity\": 0, \"size\": 1}, \"mode\": \"markers\", \"name\": \"\", \"showlegend\": false, \"text\": [null, null], \"type\": \"scatter\", \"x\": [\"2020-04-10T00:00:00\", \"2020-05-09T00:00:00\"], \"y\": [12, 12]}, {\"legendgroup\": \"rgb(86, 59, 181)\", \"marker\": {\"color\": \"rgb(86, 59, 181)\", \"opacity\": 0, \"size\": 1}, \"mode\": \"markers\", \"name\": \"\", \"showlegend\": false, \"text\": [null, null], \"type\": \"scatter\", \"x\": [\"2020-03-15T00:00:00\", \"2020-05-07T00:00:00\"], \"y\": [53, 53]}, {\"legendgroup\": \"rgb(87, 23, 152)\", \"marker\": {\"color\": \"rgb(87, 23, 152)\", \"opacity\": 0, \"size\": 1}, \"mode\": \"markers\", \"name\": \"\", \"showlegend\": false, \"text\": [null, null], \"type\": \"scatter\", \"x\": [\"2020-03-08T00:00:00\", \"2020-05-10T00:00:00\"], \"y\": [93, 93]}, {\"legendgroup\": \"rgb(88, 117, 146)\", \"marker\": {\"color\": \"rgb(88, 117, 146)\", \"opacity\": 0, \"size\": 1}, \"mode\": \"markers\", \"name\": \"\", \"showlegend\": false, \"text\": [null, null], \"type\": \"scatter\", \"x\": [\"2020-02-29T00:00:00\", \"2020-05-10T00:00:00\"], \"y\": [130, 130]}, {\"legendgroup\": \"rgb(88, 33, 36)\", \"marker\": {\"color\": \"rgb(88, 33, 36)\", \"opacity\": 0, \"size\": 1}, \"mode\": \"markers\", \"name\": \"\", \"showlegend\": false, \"text\": [null, null], \"type\": \"scatter\", \"x\": [\"2020-03-19T00:00:00\", \"2020-05-06T00:00:00\"], \"y\": [31, 31]}, {\"legendgroup\": \"rgb(88, 41, 37)\", \"marker\": {\"color\": \"rgb(88, 41, 37)\", \"opacity\": 0, \"size\": 1}, \"mode\": \"markers\", \"name\": \"\", \"showlegend\": false, \"text\": [null, null], \"type\": \"scatter\", \"x\": [\"2020-03-06T00:00:00\", \"2020-04-24T00:00:00\"], \"y\": [34, 34]}, {\"legendgroup\": \"rgb(90, 140, 85)\", \"marker\": {\"color\": \"rgb(90, 140, 85)\", \"opacity\": 0, \"size\": 1}, \"mode\": \"markers\", \"name\": \"\", \"showlegend\": false, \"text\": [null, null], \"type\": \"scatter\", \"x\": [\"2020-03-25T00:00:00\", \"2020-04-21T00:00:00\"], \"y\": [10, 10]}, {\"legendgroup\": \"rgb(90, 60, 85)\", \"marker\": {\"color\": \"rgb(90, 60, 85)\", \"opacity\": 0, \"size\": 1}, \"mode\": \"markers\", \"name\": \"\", \"showlegend\": false, \"text\": [null, null], \"type\": \"scatter\", \"x\": [\"2020-03-06T00:00:00\", \"2020-05-10T00:00:00\"], \"y\": [100, 100]}, {\"legendgroup\": \"rgb(91, 179, 112)\", \"marker\": {\"color\": \"rgb(91, 179, 112)\", \"opacity\": 0, \"size\": 1}, \"mode\": \"markers\", \"name\": \"\", \"showlegend\": false, \"text\": [null, null], \"type\": \"scatter\", \"x\": [\"2020-03-15T00:00:00\", \"2020-05-10T00:00:00\"], \"y\": [62, 62]}, {\"legendgroup\": \"rgb(96, 119, 152)\", \"marker\": {\"color\": \"rgb(96, 119, 152)\", \"opacity\": 0, \"size\": 1}, \"mode\": \"markers\", \"name\": \"\", \"showlegend\": false, \"text\": [null, null], \"type\": \"scatter\", \"x\": [\"2020-01-29T00:00:00\", \"2020-05-10T00:00:00\"], \"y\": [170, 170]}, {\"legendgroup\": \"rgb(96, 82, 161)\", \"marker\": {\"color\": \"rgb(96, 82, 161)\", \"opacity\": 0, \"size\": 1}, \"mode\": \"markers\", \"name\": \"\", \"showlegend\": false, \"text\": [null, null], \"type\": \"scatter\", \"x\": [\"2020-03-19T00:00:00\", \"2020-04-21T00:00:00\"], \"y\": [14, 14]}, {\"legendgroup\": \"rgb(97, 54, 147)\", \"marker\": {\"color\": \"rgb(97, 54, 147)\", \"opacity\": 0, \"size\": 1}, \"mode\": \"markers\", \"name\": \"\", \"showlegend\": false, \"text\": [null, null], \"type\": \"scatter\", \"x\": [\"2020-03-14T00:00:00\", \"2020-04-07T00:00:00\"], \"y\": [9, 9]}, {\"legendgroup\": \"rgb(98, 149, 121)\", \"marker\": {\"color\": \"rgb(98, 149, 121)\", \"opacity\": 0, \"size\": 1}, \"mode\": \"markers\", \"name\": \"\", \"showlegend\": false, \"text\": [null, null], \"type\": \"scatter\", \"x\": [\"2020-01-27T00:00:00\", \"2020-04-13T00:00:00\"], \"y\": [156, 156]}, {\"legendgroup\": \"rgb(98, 28, 48)\", \"marker\": {\"color\": \"rgb(98, 28, 48)\", \"opacity\": 0, \"size\": 1}, \"mode\": \"markers\", \"name\": \"\", \"showlegend\": false, \"text\": [null, null], \"type\": \"scatter\", \"x\": [\"2020-04-02T00:00:00\", \"2020-05-10T00:00:00\"], \"y\": [20, 20]}, {\"legendgroup\": \"rgb(98, 37, 152)\", \"marker\": {\"color\": \"rgb(98, 37, 152)\", \"opacity\": 0, \"size\": 1}, \"mode\": \"markers\", \"name\": \"\", \"showlegend\": false, \"text\": [null, null], \"type\": \"scatter\", \"x\": [\"2020-03-13T00:00:00\", \"2020-05-10T00:00:00\"], \"y\": [72, 72]}, {\"legendgroup\": \"rgb(99, 116, 171)\", \"marker\": {\"color\": \"rgb(99, 116, 171)\", \"opacity\": 0, \"size\": 1}, \"mode\": \"markers\", \"name\": \"\", \"showlegend\": false, \"text\": [null, null], \"type\": \"scatter\", \"x\": [\"2020-03-02T00:00:00\", \"2020-05-10T00:00:00\"], \"y\": [119, 119]}, {\"legendgroup\": \"rgb(99, 176, 113)\", \"marker\": {\"color\": \"rgb(99, 176, 113)\", \"opacity\": 0, \"size\": 1}, \"mode\": \"markers\", \"name\": \"\", \"showlegend\": false, \"text\": [null, null], \"type\": \"scatter\", \"x\": [\"2020-03-06T00:00:00\", \"2020-05-09T00:00:00\"], \"y\": [97, 97]}],\n",
       "                        {\"height\": 2500, \"hovermode\": \"closest\", \"showlegend\": false, \"template\": {\"data\": {\"bar\": [{\"error_x\": {\"color\": \"#2a3f5f\"}, \"error_y\": {\"color\": \"#2a3f5f\"}, \"marker\": {\"line\": {\"color\": \"#E5ECF6\", \"width\": 0.5}}, \"type\": \"bar\"}], \"barpolar\": [{\"marker\": {\"line\": {\"color\": \"#E5ECF6\", \"width\": 0.5}}, \"type\": \"barpolar\"}], \"carpet\": [{\"aaxis\": {\"endlinecolor\": \"#2a3f5f\", \"gridcolor\": \"white\", \"linecolor\": \"white\", \"minorgridcolor\": \"white\", \"startlinecolor\": \"#2a3f5f\"}, \"baxis\": {\"endlinecolor\": \"#2a3f5f\", \"gridcolor\": \"white\", \"linecolor\": \"white\", \"minorgridcolor\": \"white\", \"startlinecolor\": \"#2a3f5f\"}, \"type\": \"carpet\"}], \"choropleth\": [{\"colorbar\": {\"outlinewidth\": 0, \"ticks\": \"\"}, \"type\": \"choropleth\"}], \"contour\": [{\"colorbar\": {\"outlinewidth\": 0, \"ticks\": \"\"}, \"colorscale\": [[0.0, \"#0d0887\"], [0.1111111111111111, \"#46039f\"], [0.2222222222222222, \"#7201a8\"], [0.3333333333333333, \"#9c179e\"], [0.4444444444444444, \"#bd3786\"], [0.5555555555555556, \"#d8576b\"], [0.6666666666666666, \"#ed7953\"], [0.7777777777777778, \"#fb9f3a\"], [0.8888888888888888, \"#fdca26\"], [1.0, \"#f0f921\"]], \"type\": \"contour\"}], \"contourcarpet\": [{\"colorbar\": {\"outlinewidth\": 0, \"ticks\": \"\"}, \"type\": \"contourcarpet\"}], \"heatmap\": [{\"colorbar\": {\"outlinewidth\": 0, \"ticks\": \"\"}, \"colorscale\": [[0.0, \"#0d0887\"], [0.1111111111111111, \"#46039f\"], [0.2222222222222222, \"#7201a8\"], [0.3333333333333333, \"#9c179e\"], [0.4444444444444444, \"#bd3786\"], [0.5555555555555556, \"#d8576b\"], [0.6666666666666666, \"#ed7953\"], [0.7777777777777778, \"#fb9f3a\"], [0.8888888888888888, \"#fdca26\"], [1.0, \"#f0f921\"]], \"type\": \"heatmap\"}], \"heatmapgl\": [{\"colorbar\": {\"outlinewidth\": 0, \"ticks\": \"\"}, \"colorscale\": [[0.0, \"#0d0887\"], [0.1111111111111111, \"#46039f\"], [0.2222222222222222, \"#7201a8\"], [0.3333333333333333, \"#9c179e\"], [0.4444444444444444, \"#bd3786\"], [0.5555555555555556, \"#d8576b\"], [0.6666666666666666, \"#ed7953\"], [0.7777777777777778, \"#fb9f3a\"], [0.8888888888888888, \"#fdca26\"], [1.0, \"#f0f921\"]], \"type\": \"heatmapgl\"}], \"histogram\": [{\"marker\": {\"colorbar\": {\"outlinewidth\": 0, \"ticks\": \"\"}}, \"type\": \"histogram\"}], \"histogram2d\": [{\"colorbar\": {\"outlinewidth\": 0, \"ticks\": \"\"}, \"colorscale\": [[0.0, \"#0d0887\"], [0.1111111111111111, \"#46039f\"], [0.2222222222222222, \"#7201a8\"], [0.3333333333333333, \"#9c179e\"], [0.4444444444444444, \"#bd3786\"], [0.5555555555555556, \"#d8576b\"], [0.6666666666666666, \"#ed7953\"], [0.7777777777777778, \"#fb9f3a\"], [0.8888888888888888, \"#fdca26\"], [1.0, \"#f0f921\"]], \"type\": \"histogram2d\"}], \"histogram2dcontour\": [{\"colorbar\": {\"outlinewidth\": 0, \"ticks\": \"\"}, \"colorscale\": [[0.0, \"#0d0887\"], [0.1111111111111111, \"#46039f\"], [0.2222222222222222, \"#7201a8\"], [0.3333333333333333, \"#9c179e\"], [0.4444444444444444, \"#bd3786\"], [0.5555555555555556, \"#d8576b\"], [0.6666666666666666, \"#ed7953\"], [0.7777777777777778, \"#fb9f3a\"], [0.8888888888888888, \"#fdca26\"], [1.0, \"#f0f921\"]], \"type\": \"histogram2dcontour\"}], \"mesh3d\": [{\"colorbar\": {\"outlinewidth\": 0, \"ticks\": \"\"}, \"type\": \"mesh3d\"}], \"parcoords\": [{\"line\": {\"colorbar\": {\"outlinewidth\": 0, \"ticks\": \"\"}}, \"type\": \"parcoords\"}], \"pie\": [{\"automargin\": true, \"type\": \"pie\"}], \"scatter\": [{\"marker\": {\"colorbar\": {\"outlinewidth\": 0, \"ticks\": \"\"}}, \"type\": \"scatter\"}], \"scatter3d\": [{\"line\": {\"colorbar\": {\"outlinewidth\": 0, \"ticks\": \"\"}}, \"marker\": {\"colorbar\": {\"outlinewidth\": 0, \"ticks\": \"\"}}, \"type\": \"scatter3d\"}], \"scattercarpet\": [{\"marker\": {\"colorbar\": {\"outlinewidth\": 0, \"ticks\": \"\"}}, \"type\": \"scattercarpet\"}], \"scattergeo\": [{\"marker\": {\"colorbar\": {\"outlinewidth\": 0, \"ticks\": \"\"}}, \"type\": \"scattergeo\"}], \"scattergl\": [{\"marker\": {\"colorbar\": {\"outlinewidth\": 0, \"ticks\": \"\"}}, \"type\": \"scattergl\"}], \"scattermapbox\": [{\"marker\": {\"colorbar\": {\"outlinewidth\": 0, \"ticks\": \"\"}}, \"type\": \"scattermapbox\"}], \"scatterpolar\": [{\"marker\": {\"colorbar\": {\"outlinewidth\": 0, \"ticks\": \"\"}}, \"type\": \"scatterpolar\"}], \"scatterpolargl\": [{\"marker\": {\"colorbar\": {\"outlinewidth\": 0, \"ticks\": \"\"}}, \"type\": \"scatterpolargl\"}], \"scatterternary\": [{\"marker\": {\"colorbar\": {\"outlinewidth\": 0, \"ticks\": \"\"}}, \"type\": \"scatterternary\"}], \"surface\": [{\"colorbar\": {\"outlinewidth\": 0, \"ticks\": \"\"}, \"colorscale\": [[0.0, \"#0d0887\"], [0.1111111111111111, \"#46039f\"], [0.2222222222222222, \"#7201a8\"], [0.3333333333333333, \"#9c179e\"], [0.4444444444444444, \"#bd3786\"], [0.5555555555555556, \"#d8576b\"], [0.6666666666666666, \"#ed7953\"], [0.7777777777777778, \"#fb9f3a\"], [0.8888888888888888, \"#fdca26\"], [1.0, \"#f0f921\"]], \"type\": \"surface\"}], \"table\": [{\"cells\": {\"fill\": {\"color\": \"#EBF0F8\"}, \"line\": {\"color\": \"white\"}}, \"header\": {\"fill\": {\"color\": \"#C8D4E3\"}, \"line\": {\"color\": \"white\"}}, \"type\": \"table\"}]}, \"layout\": {\"annotationdefaults\": {\"arrowcolor\": \"#2a3f5f\", \"arrowhead\": 0, \"arrowwidth\": 1}, \"coloraxis\": {\"colorbar\": {\"outlinewidth\": 0, \"ticks\": \"\"}}, \"colorscale\": {\"diverging\": [[0, \"#8e0152\"], [0.1, \"#c51b7d\"], [0.2, \"#de77ae\"], [0.3, \"#f1b6da\"], [0.4, \"#fde0ef\"], [0.5, \"#f7f7f7\"], [0.6, \"#e6f5d0\"], [0.7, \"#b8e186\"], [0.8, \"#7fbc41\"], [0.9, \"#4d9221\"], [1, \"#276419\"]], \"sequential\": [[0.0, \"#0d0887\"], [0.1111111111111111, \"#46039f\"], [0.2222222222222222, \"#7201a8\"], [0.3333333333333333, \"#9c179e\"], [0.4444444444444444, \"#bd3786\"], [0.5555555555555556, \"#d8576b\"], [0.6666666666666666, \"#ed7953\"], [0.7777777777777778, \"#fb9f3a\"], [0.8888888888888888, \"#fdca26\"], [1.0, \"#f0f921\"]], \"sequentialminus\": [[0.0, \"#0d0887\"], [0.1111111111111111, \"#46039f\"], [0.2222222222222222, \"#7201a8\"], [0.3333333333333333, \"#9c179e\"], [0.4444444444444444, \"#bd3786\"], [0.5555555555555556, \"#d8576b\"], [0.6666666666666666, \"#ed7953\"], [0.7777777777777778, \"#fb9f3a\"], [0.8888888888888888, \"#fdca26\"], [1.0, \"#f0f921\"]]}, \"colorway\": [\"#636efa\", \"#EF553B\", \"#00cc96\", \"#ab63fa\", \"#FFA15A\", \"#19d3f3\", \"#FF6692\", \"#B6E880\", \"#FF97FF\", \"#FECB52\"], \"font\": {\"color\": \"#2a3f5f\"}, \"geo\": {\"bgcolor\": \"white\", \"lakecolor\": \"white\", \"landcolor\": \"#E5ECF6\", \"showlakes\": true, \"showland\": true, \"subunitcolor\": \"white\"}, \"hoverlabel\": {\"align\": \"left\"}, \"hovermode\": \"closest\", \"mapbox\": {\"style\": \"light\"}, \"paper_bgcolor\": \"white\", \"plot_bgcolor\": \"#E5ECF6\", \"polar\": {\"angularaxis\": {\"gridcolor\": \"white\", \"linecolor\": \"white\", \"ticks\": \"\"}, \"bgcolor\": \"#E5ECF6\", \"radialaxis\": {\"gridcolor\": \"white\", \"linecolor\": \"white\", \"ticks\": \"\"}}, \"scene\": {\"xaxis\": {\"backgroundcolor\": \"#E5ECF6\", \"gridcolor\": \"white\", \"gridwidth\": 2, \"linecolor\": \"white\", \"showbackground\": true, \"ticks\": \"\", \"zerolinecolor\": \"white\"}, \"yaxis\": {\"backgroundcolor\": \"#E5ECF6\", \"gridcolor\": \"white\", \"gridwidth\": 2, \"linecolor\": \"white\", \"showbackground\": true, \"ticks\": \"\", \"zerolinecolor\": \"white\"}, \"zaxis\": {\"backgroundcolor\": \"#E5ECF6\", \"gridcolor\": \"white\", \"gridwidth\": 2, \"linecolor\": \"white\", \"showbackground\": true, \"ticks\": \"\", \"zerolinecolor\": \"white\"}}, \"shapedefaults\": {\"line\": {\"color\": \"#2a3f5f\"}}, \"ternary\": {\"aaxis\": {\"gridcolor\": \"white\", \"linecolor\": \"white\", \"ticks\": \"\"}, \"baxis\": {\"gridcolor\": \"white\", \"linecolor\": \"white\", \"ticks\": \"\"}, \"bgcolor\": \"#E5ECF6\", \"caxis\": {\"gridcolor\": \"white\", \"linecolor\": \"white\", \"ticks\": \"\"}}, \"title\": {\"x\": 0.05}, \"xaxis\": {\"automargin\": true, \"gridcolor\": \"white\", \"linecolor\": \"white\", \"ticks\": \"\", \"title\": {\"standoff\": 15}, \"zerolinecolor\": \"white\", \"zerolinewidth\": 2}, \"yaxis\": {\"automargin\": true, \"gridcolor\": \"white\", \"linecolor\": \"white\", \"ticks\": \"\", \"title\": {\"standoff\": 15}, \"zerolinecolor\": \"white\", \"zerolinewidth\": 2}}}, \"title\": {\"text\": \"Gantt Chart\"}, \"xaxis\": {\"rangeselector\": {\"buttons\": [{\"count\": 7, \"label\": \"1w\", \"step\": \"day\", \"stepmode\": \"backward\"}, {\"count\": 1, \"label\": \"1m\", \"step\": \"month\", \"stepmode\": \"backward\"}, {\"count\": 6, \"label\": \"6m\", \"step\": \"month\", \"stepmode\": \"backward\"}, {\"count\": 1, \"label\": \"YTD\", \"step\": \"year\", \"stepmode\": \"todate\"}, {\"count\": 1, \"label\": \"1y\", \"step\": \"year\", \"stepmode\": \"backward\"}, {\"step\": \"all\"}]}, \"showgrid\": true, \"type\": \"date\", \"zeroline\": false}, \"yaxis\": {\"autorange\": false, \"range\": [-1, 187], \"showgrid\": true, \"ticktext\": [\"Western Sahara\", \"Comoros\", \"Tajikistan\", \"Suriname\", \"Greenland\", \"Dominica\", \"Laos\", \"Belize\", \"Namibia\", \"Seychelles\", \"Saint Kitts and Nevis\", \"Eritrea\", \"Yemen\", \"Botswana\", \"Fiji\", \"Burundi\", \"Sao Tome and Principe\", \"Papua New Guinea\", \"Timor-Leste\", \"South Sudan\", \"Malawi\", \"Sierra Leone\", \"Mauritius\", \"Grenada\", \"Libya\", \"Burma\", \"Kosovo\", \"Trinidad and Tobago\", \"Guinea-Bissau\", \"Mali\", \"Mauritania\", \"Nicaragua\", \"Syria\", \"Mozambique\", \"Bhutan\", \"Madagascar\", \"Uganda\", \"Antigua and Barbuda\", \"Angola\", \"Montenegro\", \"Zimbabwe\", \"Haiti\", \"Saint Lucia\", \"Cabo Verde\", \"Niger\", \"Saint Vincent and the Grenadines\", \"Chad\", \"Bahamas\", \"El Salvador\", \"Kyrgyzstan\", \"Djibouti\", \"Zambia\", \"Gambia\", \"Equatorial Guinea\", \"Liechtenstein\", \"Tanzania\", \"Liberia\", \"Barbados\", \"Somalia\", \"Congo (Brazzaville)\", \"Benin\", \"Central African Republic\", \"Uzbekistan\", \"Eswatini\", \"Gabon\", \"Venezuela\", \"Ghana\", \"Rwanda\", \"Guatemala\", \"Uruguay\", \"Kazakhstan\", \"Sudan\", \"Guinea\", \"Guyana\", \"Kenya\", \"Ethiopia\", \"Jamaica\", \"Cuba\", \"Congo (Kinshasa)\", \"Turkey\", \"Cote d'Ivoire\", \"Brunei\", \"Bolivia\", \"Honduras\", \"Mongolia\", \"Burkina Faso\", \"Panama\", \"Holy See\", \"Cyprus\", \"Albania\", \"Moldova\", \"Maldives\", \"Bulgaria\", \"Bangladesh\", \"Paraguay\", \"Malta\", \"West Bank and Gaza\", \"Slovakia\", \"Costa Rica\", \"Cameroon\", \"Serbia\", \"Colombia\", \"Togo\", \"Peru\", \"South Africa\", \"Bosnia and Herzegovina\", \"Slovenia\", \"Poland\", \"Hungary\", \"Tunisia\", \"Argentina\", \"Chile\", \"Jordan\", \"Ukraine\", \"Saudi Arabia\", \"Portugal\", \"Andorra\", \"Senegal\", \"Latvia\", \"Indonesia\", \"Morocco\", \"Ecuador\", \"Iceland\", \"Armenia\", \"Azerbaijan\", \"Czechia\", \"Dominican Republic\", \"Ireland\", \"Qatar\", \"Monaco\", \"Luxembourg\", \"Belarus\", \"Nigeria\", \"Mexico\", \"New Zealand\", \"Lithuania\", \"San Marino\", \"Estonia\", \"Netherlands\", \"Denmark\", \"Greece\", \"Georgia\", \"Pakistan\", \"Norway\", \"North Macedonia\", \"Brazil\", \"Romania\", \"Austria\", \"Switzerland\", \"Algeria\", \"Croatia\", \"Afghanistan\", \"Kuwait\", \"Bahrain\", \"Oman\", \"Iraq\", \"Cambodia\", \"Israel\", \"Lebanon\", \"Iran\", \"Egypt\", \"Belgium\", \"Spain\", \"Sweden\", \"United Kingdom\", \"Russia\", \"Italy\", \"India\", \"Philippines\", \"United Arab Emirates\", \"Finland\", \"Germany\", \"Sri Lanka\", \"Australia\", \"Canada\", \"Malaysia\", \"Nepal\", \"Vietnam\", \"France\", \"Taiwan*\", \"Singapore\", \"Thailand\", \"China\", \"Japan\", \"South Korea\", \"US\"], \"tickvals\": [0, 1, 2, 3, 4, 5, 6, 7, 8, 9, 10, 11, 12, 13, 14, 15, 16, 17, 18, 19, 20, 21, 22, 23, 24, 25, 26, 27, 28, 29, 30, 31, 32, 33, 34, 35, 36, 37, 38, 39, 40, 41, 42, 43, 44, 45, 46, 47, 48, 49, 50, 51, 52, 53, 54, 55, 56, 57, 58, 59, 60, 61, 62, 63, 64, 65, 66, 67, 68, 69, 70, 71, 72, 73, 74, 75, 76, 77, 78, 79, 80, 81, 82, 83, 84, 85, 86, 87, 88, 89, 90, 91, 92, 93, 94, 95, 96, 97, 98, 99, 100, 101, 102, 103, 104, 105, 106, 107, 108, 109, 110, 111, 112, 113, 114, 115, 116, 117, 118, 119, 120, 121, 122, 123, 124, 125, 126, 127, 128, 129, 130, 131, 132, 133, 134, 135, 136, 137, 138, 139, 140, 141, 142, 143, 144, 145, 146, 147, 148, 149, 150, 151, 152, 153, 154, 155, 156, 157, 158, 159, 160, 161, 162, 163, 164, 165, 166, 167, 168, 169, 170, 171, 172, 173, 174, 175, 176, 177, 178, 179, 180, 181, 182, 183, 184, 185], \"zeroline\": false}},\n",
       "                        {\"responsive\": true}\n",
       "                    ).then(function(){\n",
       "                            \n",
       "var gd = document.getElementById('27f6273b-c728-44d3-ba31-156a951ae546');\n",
       "var x = new MutationObserver(function (mutations, observer) {{\n",
       "        var display = window.getComputedStyle(gd).display;\n",
       "        if (!display || display === 'none') {{\n",
       "            console.log([gd, 'removed!']);\n",
       "            Plotly.purge(gd);\n",
       "            observer.disconnect();\n",
       "        }}\n",
       "}});\n",
       "\n",
       "// Listen for the removal of the full notebook cells\n",
       "var notebookContainer = gd.closest('#notebook-container');\n",
       "if (notebookContainer) {{\n",
       "    x.observe(notebookContainer, {childList: true});\n",
       "}}\n",
       "\n",
       "// Listen for the clearing of the current output cell\n",
       "var outputEl = gd.closest('.output');\n",
       "if (outputEl) {{\n",
       "    x.observe(outputEl, {childList: true});\n",
       "}}\n",
       "\n",
       "                        })\n",
       "                };\n",
       "                });\n",
       "            </script>\n",
       "        </div>"
      ]
     },
     "metadata": {},
     "output_type": "display_data"
    }
   ],
   "source": [
    "first_date = full_table[full_table['Confirmed']>0]\n",
    "first_date = first_date.groupby('Country/Region')['Date'].agg(['min']).reset_index()\n",
    "# first_date.head()\n",
    "\n",
    "# last date\n",
    "# =========\n",
    "last_date = full_table.groupby(['Country/Region', 'Date', ])['Confirmed', 'Deaths', 'Recovered']\n",
    "last_date = last_date.sum().diff().reset_index()\n",
    "\n",
    "mask = last_date['Country/Region'] != last_date['Country/Region'].shift(1)\n",
    "last_date.loc[mask, 'Confirmed'] = np.nan\n",
    "last_date.loc[mask, 'Deaths'] = np.nan\n",
    "last_date.loc[mask, 'Recovered'] = np.nan\n",
    "\n",
    "last_date = last_date[last_date['Confirmed']>0]\n",
    "last_date = last_date.groupby('Country/Region')['Date'].agg(['max']).reset_index()\n",
    "# last_date.head()\n",
    "\n",
    "# first_last\n",
    "# ==========\n",
    "first_last = pd.concat([first_date, last_date[['max']]], axis=1)\n",
    "\n",
    "# added 1 more day, which will show the next day as the day on which last case appeared\n",
    "first_last['max'] = first_last['max'] + timedelta(days=1)\n",
    "\n",
    "# no. of days\n",
    "first_last['Days'] = first_last['max'] - first_last['min']\n",
    "\n",
    "# task column as country\n",
    "first_last['Task'] = first_last['Country/Region']\n",
    "\n",
    "# rename columns\n",
    "first_last.columns = ['Country/Region', 'Start', 'Finish', 'Days', 'Task']\n",
    "\n",
    "# sort by no. of days\n",
    "first_last = first_last.sort_values('Days')\n",
    "# first_last.head()\n",
    "\n",
    "# visualization\n",
    "# =============\n",
    "\n",
    "# produce random colors\n",
    "clr = [\"#\"+''.join([random.choice('0123456789ABC') for j in range(6)]) for i in range(len(first_last))]\n",
    "\n",
    "# plot\n",
    "fig = ff.create_gantt(first_last, index_col='Country/Region', colors=clr, show_colorbar=False, \n",
    "                      bar_width=0.2, showgrid_x=True, showgrid_y=True, height=2500)\n",
    "fig.show()"
   ]
  },
  {
   "cell_type": "code",
   "execution_count": 16,
   "metadata": {},
   "outputs": [
    {
     "data": {
      "text/html": [
       "<div>\n",
       "<style scoped>\n",
       "    .dataframe tbody tr th:only-of-type {\n",
       "        vertical-align: middle;\n",
       "    }\n",
       "\n",
       "    .dataframe tbody tr th {\n",
       "        vertical-align: top;\n",
       "    }\n",
       "\n",
       "    .dataframe thead th {\n",
       "        text-align: right;\n",
       "    }\n",
       "</style>\n",
       "<table border=\"1\" class=\"dataframe\">\n",
       "  <thead>\n",
       "    <tr style=\"text-align: right;\">\n",
       "      <th></th>\n",
       "      <th>Country/Region</th>\n",
       "      <th>Start</th>\n",
       "      <th>Finish</th>\n",
       "      <th>Days</th>\n",
       "      <th>Task</th>\n",
       "    </tr>\n",
       "  </thead>\n",
       "  <tbody>\n",
       "    <tr>\n",
       "      <th>182</th>\n",
       "      <td>Western Sahara</td>\n",
       "      <td>2020-04-05</td>\n",
       "      <td>2020-04-13</td>\n",
       "      <td>8 days</td>\n",
       "      <td>Western Sahara</td>\n",
       "    </tr>\n",
       "    <tr>\n",
       "      <th>38</th>\n",
       "      <td>Comoros</td>\n",
       "      <td>2020-04-30</td>\n",
       "      <td>2020-05-10</td>\n",
       "      <td>10 days</td>\n",
       "      <td>Comoros</td>\n",
       "    </tr>\n",
       "    <tr>\n",
       "      <th>164</th>\n",
       "      <td>Tajikistan</td>\n",
       "      <td>2020-04-30</td>\n",
       "      <td>2020-05-10</td>\n",
       "      <td>10 days</td>\n",
       "      <td>Tajikistan</td>\n",
       "    </tr>\n",
       "    <tr>\n",
       "      <th>159</th>\n",
       "      <td>Suriname</td>\n",
       "      <td>2020-03-14</td>\n",
       "      <td>2020-04-02</td>\n",
       "      <td>19 days</td>\n",
       "      <td>Suriname</td>\n",
       "    </tr>\n",
       "    <tr>\n",
       "      <th>68</th>\n",
       "      <td>Greenland</td>\n",
       "      <td>2020-03-16</td>\n",
       "      <td>2020-04-05</td>\n",
       "      <td>20 days</td>\n",
       "      <td>Greenland</td>\n",
       "    </tr>\n",
       "  </tbody>\n",
       "</table>\n",
       "</div>"
      ],
      "text/plain": [
       "     Country/Region      Start     Finish    Days            Task\n",
       "182  Western Sahara 2020-04-05 2020-04-13  8 days  Western Sahara\n",
       "38          Comoros 2020-04-30 2020-05-10 10 days         Comoros\n",
       "164      Tajikistan 2020-04-30 2020-05-10 10 days      Tajikistan\n",
       "159        Suriname 2020-03-14 2020-04-02 19 days        Suriname\n",
       "68        Greenland 2020-03-16 2020-04-05 20 days       Greenland"
      ]
     },
     "execution_count": 16,
     "metadata": {},
     "output_type": "execute_result"
    }
   ],
   "source": [
    "first_last.to_csv(r\"C:\\Users\\jaaye\\OneDrive\\Desktop\\output.csv\")\n",
    "first_last.head()"
   ]
  }
 ],
 "metadata": {
  "kernelspec": {
   "display_name": "Python 3",
   "language": "python",
   "name": "python3"
  },
  "language_info": {
   "codemirror_mode": {
    "name": "ipython",
    "version": 3
   },
   "file_extension": ".py",
   "mimetype": "text/x-python",
   "name": "python",
   "nbconvert_exporter": "python",
   "pygments_lexer": "ipython3",
   "version": "3.7.6"
  }
 },
 "nbformat": 4,
 "nbformat_minor": 4
}
