{
 "cells": [
  {
   "cell_type": "code",
   "execution_count": 1,
   "metadata": {},
   "outputs": [
    {
     "name": "stdout",
     "output_type": "stream",
     "text": [
      "Collecting us\n",
      "  Downloading us-2.0.2.tar.gz (14 kB)\n",
      "Collecting jellyfish==0.6.1\n",
      "  Downloading jellyfish-0.6.1.tar.gz (132 kB)\n",
      "Building wheels for collected packages: us, jellyfish\n",
      "  Building wheel for us (setup.py): started\n",
      "  Building wheel for us (setup.py): finished with status 'done'\n",
      "  Created wheel for us: filename=us-2.0.2-py3-none-any.whl size=11931 sha256=a7da8c77c292fa3260d3be82a2a9880517a6b323190271e68c505b99401392f5\n",
      "  Stored in directory: c:\\users\\jaaye\\appdata\\local\\pip\\cache\\wheels\\ca\\6b\\11\\cda9ea2438f721330a35c9a2c8e34b4aedcd34c89af48a4d00\n",
      "  Building wheel for jellyfish (setup.py): started\n",
      "  Building wheel for jellyfish (setup.py): finished with status 'done'\n",
      "  Created wheel for jellyfish: filename=jellyfish-0.6.1-cp37-cp37m-win_amd64.whl size=26505 sha256=cfb34bf964ddb72c6c94991eed60f2e02f43d2a42123fb8b3e3efe7722ddebc9\n",
      "  Stored in directory: c:\\users\\jaaye\\appdata\\local\\pip\\cache\\wheels\\a1\\99\\51\\7de469e37cd1b3c763c24394e1ebf1baa2d79e094bf346cf80\n",
      "Successfully built us jellyfish\n",
      "Installing collected packages: jellyfish, us\n",
      "Successfully installed jellyfish-0.6.1 us-2.0.2\n"
     ]
    }
   ],
   "source": [
    "! pip install us"
   ]
  },
  {
   "cell_type": "code",
   "execution_count": 2,
   "metadata": {},
   "outputs": [],
   "source": [
    "import math\n",
    "import random\n",
    "from datetime import timedelta\n",
    "from urllib.request import urlopen\n",
    "import json\n",
    "\n",
    "# storing and anaysis\n",
    "import numpy as np\n",
    "import pandas as pd\n",
    "\n",
    "# visualization\n",
    "import matplotlib.pyplot as plt\n",
    "import seaborn as sns\n",
    "import plotly.express as px\n",
    "import plotly.graph_objs as go\n",
    "import plotly.figure_factory as ff\n",
    "from plotly.subplots import make_subplots\n",
    "# import calmap\n",
    "import folium\n",
    "\n",
    "# color pallette\n",
    "cnf, dth, rec, act = '#393e46', '#ff2e63', '#21bf73', '#fe9801' \n",
    "\n",
    "# converter\n",
    "from pandas.plotting import register_matplotlib_converters\n",
    "register_matplotlib_converters()   \n",
    "\n",
    "# hide warnings\n",
    "import warnings\n",
    "warnings.filterwarnings('ignore')\n",
    "\n",
    "# to USA states details\n",
    "import us"
   ]
  },
  {
   "cell_type": "code",
   "execution_count": 3,
   "metadata": {},
   "outputs": [
    {
     "data": {
      "text/html": [
       "        <script type=\"text/javascript\">\n",
       "        window.PlotlyConfig = {MathJaxConfig: 'local'};\n",
       "        if (window.MathJax) {MathJax.Hub.Config({SVG: {font: \"STIX-Web\"}});}\n",
       "        if (typeof require !== 'undefined') {\n",
       "        require.undef(\"plotly\");\n",
       "        requirejs.config({\n",
       "            paths: {\n",
       "                'plotly': ['https://cdn.plot.ly/plotly-latest.min']\n",
       "            }\n",
       "        });\n",
       "        require(['plotly'], function(Plotly) {\n",
       "            window._Plotly = Plotly;\n",
       "        });\n",
       "        }\n",
       "        </script>\n",
       "        "
      ]
     },
     "metadata": {},
     "output_type": "display_data"
    }
   ],
   "source": [
    "from plotly.offline import plot, iplot, init_notebook_mode\n",
    "init_notebook_mode(connected=True)"
   ]
  },
  {
   "cell_type": "code",
   "execution_count": 5,
   "metadata": {},
   "outputs": [
    {
     "data": {
      "text/html": [
       "<div>\n",
       "<style scoped>\n",
       "    .dataframe tbody tr th:only-of-type {\n",
       "        vertical-align: middle;\n",
       "    }\n",
       "\n",
       "    .dataframe tbody tr th {\n",
       "        vertical-align: top;\n",
       "    }\n",
       "\n",
       "    .dataframe thead th {\n",
       "        text-align: right;\n",
       "    }\n",
       "</style>\n",
       "<table border=\"1\" class=\"dataframe\">\n",
       "  <thead>\n",
       "    <tr style=\"text-align: right;\">\n",
       "      <th></th>\n",
       "      <th>Province/State</th>\n",
       "      <th>Country/Region</th>\n",
       "      <th>Lat</th>\n",
       "      <th>Long</th>\n",
       "      <th>Date</th>\n",
       "      <th>Confirmed</th>\n",
       "      <th>Deaths</th>\n",
       "      <th>Recovered</th>\n",
       "    </tr>\n",
       "  </thead>\n",
       "  <tbody>\n",
       "    <tr>\n",
       "      <th>28192</th>\n",
       "      <td>NaN</td>\n",
       "      <td>Tanzania</td>\n",
       "      <td>-6.3690</td>\n",
       "      <td>34.8888</td>\n",
       "      <td>2020-05-07</td>\n",
       "      <td>480</td>\n",
       "      <td>16</td>\n",
       "      <td>167</td>\n",
       "    </tr>\n",
       "    <tr>\n",
       "      <th>11619</th>\n",
       "      <td>NaN</td>\n",
       "      <td>Andorra</td>\n",
       "      <td>42.5063</td>\n",
       "      <td>1.5218</td>\n",
       "      <td>2020-03-06</td>\n",
       "      <td>1</td>\n",
       "      <td>0</td>\n",
       "      <td>0</td>\n",
       "    </tr>\n",
       "    <tr>\n",
       "      <th>5381</th>\n",
       "      <td>NaN</td>\n",
       "      <td>Eritrea</td>\n",
       "      <td>15.1794</td>\n",
       "      <td>39.7823</td>\n",
       "      <td>2020-02-11</td>\n",
       "      <td>0</td>\n",
       "      <td>0</td>\n",
       "      <td>0</td>\n",
       "    </tr>\n",
       "    <tr>\n",
       "      <th>28559</th>\n",
       "      <td>NaN</td>\n",
       "      <td>Chad</td>\n",
       "      <td>15.4542</td>\n",
       "      <td>18.7322</td>\n",
       "      <td>2020-05-09</td>\n",
       "      <td>322</td>\n",
       "      <td>31</td>\n",
       "      <td>53</td>\n",
       "    </tr>\n",
       "    <tr>\n",
       "      <th>27890</th>\n",
       "      <td>NaN</td>\n",
       "      <td>New Zealand</td>\n",
       "      <td>-40.9006</td>\n",
       "      <td>174.8860</td>\n",
       "      <td>2020-05-06</td>\n",
       "      <td>1489</td>\n",
       "      <td>21</td>\n",
       "      <td>1332</td>\n",
       "    </tr>\n",
       "    <tr>\n",
       "      <th>1419</th>\n",
       "      <td>NaN</td>\n",
       "      <td>El Salvador</td>\n",
       "      <td>13.7942</td>\n",
       "      <td>-88.8965</td>\n",
       "      <td>2020-01-27</td>\n",
       "      <td>0</td>\n",
       "      <td>0</td>\n",
       "      <td>0</td>\n",
       "    </tr>\n",
       "  </tbody>\n",
       "</table>\n",
       "</div>"
      ],
      "text/plain": [
       "      Province/State Country/Region      Lat      Long       Date  Confirmed  \\\n",
       "28192            NaN       Tanzania  -6.3690   34.8888 2020-05-07        480   \n",
       "11619            NaN        Andorra  42.5063    1.5218 2020-03-06          1   \n",
       "5381             NaN        Eritrea  15.1794   39.7823 2020-02-11          0   \n",
       "28559            NaN           Chad  15.4542   18.7322 2020-05-09        322   \n",
       "27890            NaN    New Zealand -40.9006  174.8860 2020-05-06       1489   \n",
       "1419             NaN    El Salvador  13.7942  -88.8965 2020-01-27          0   \n",
       "\n",
       "       Deaths  Recovered  \n",
       "28192      16        167  \n",
       "11619       0          0  \n",
       "5381        0          0  \n",
       "28559      31         53  \n",
       "27890      21       1332  \n",
       "1419        0          0  "
      ]
     },
     "execution_count": 5,
     "metadata": {},
     "output_type": "execute_result"
    }
   ],
   "source": [
    "full_table = pd.read_csv(r'C:\\Users\\jaaye\\OneDrive\\Desktop\\covid_19_clean_complete.csv', \n",
    "                         parse_dates=['Date'])\n",
    "full_table.sample(6)"
   ]
  },
  {
   "cell_type": "code",
   "execution_count": 6,
   "metadata": {},
   "outputs": [],
   "source": [
    "ship_rows = full_table['Province/State'].str.contains('Grand Princess') | full_table['Province/State'].str.contains('Diamond Princess') | full_table['Country/Region'].str.contains('Diamond Princess') | full_table['Country/Region'].str.contains('MS Zaandam')\n",
    "\n",
    "# ship\n",
    "ship = full_table[ship_rows]\n",
    "\n",
    "# full table \n",
    "full_table = full_table[~(ship_rows)]\n",
    "\n",
    "# Latest cases from the ships\n",
    "ship_latest = ship[ship['Date']==max(ship['Date'])]"
   ]
  },
  {
   "cell_type": "code",
   "execution_count": 7,
   "metadata": {},
   "outputs": [
    {
     "data": {
      "text/html": [
       "<div>\n",
       "<style scoped>\n",
       "    .dataframe tbody tr th:only-of-type {\n",
       "        vertical-align: middle;\n",
       "    }\n",
       "\n",
       "    .dataframe tbody tr th {\n",
       "        vertical-align: top;\n",
       "    }\n",
       "\n",
       "    .dataframe thead th {\n",
       "        text-align: right;\n",
       "    }\n",
       "</style>\n",
       "<table border=\"1\" class=\"dataframe\">\n",
       "  <thead>\n",
       "    <tr style=\"text-align: right;\">\n",
       "      <th></th>\n",
       "      <th>Province/State</th>\n",
       "      <th>Country/Region</th>\n",
       "      <th>Lat</th>\n",
       "      <th>Long</th>\n",
       "      <th>Date</th>\n",
       "      <th>Confirmed</th>\n",
       "      <th>Deaths</th>\n",
       "      <th>Recovered</th>\n",
       "      <th>Active</th>\n",
       "    </tr>\n",
       "  </thead>\n",
       "  <tbody>\n",
       "    <tr>\n",
       "      <th>24361</th>\n",
       "      <td>Shandong</td>\n",
       "      <td>China</td>\n",
       "      <td>36.3427</td>\n",
       "      <td>118.1498</td>\n",
       "      <td>2020-04-23</td>\n",
       "      <td>787</td>\n",
       "      <td>7</td>\n",
       "      <td>766</td>\n",
       "      <td>14</td>\n",
       "    </tr>\n",
       "    <tr>\n",
       "      <th>27084</th>\n",
       "      <td></td>\n",
       "      <td>Mauritania</td>\n",
       "      <td>21.0079</td>\n",
       "      <td>10.9408</td>\n",
       "      <td>2020-05-03</td>\n",
       "      <td>8</td>\n",
       "      <td>1</td>\n",
       "      <td>6</td>\n",
       "      <td>1</td>\n",
       "    </tr>\n",
       "    <tr>\n",
       "      <th>11306</th>\n",
       "      <td>Cayman Islands</td>\n",
       "      <td>United Kingdom</td>\n",
       "      <td>19.3133</td>\n",
       "      <td>-81.2546</td>\n",
       "      <td>2020-03-04</td>\n",
       "      <td>0</td>\n",
       "      <td>0</td>\n",
       "      <td>0</td>\n",
       "      <td>0</td>\n",
       "    </tr>\n",
       "    <tr>\n",
       "      <th>15589</th>\n",
       "      <td>Tasmania</td>\n",
       "      <td>Australia</td>\n",
       "      <td>-41.4545</td>\n",
       "      <td>145.9707</td>\n",
       "      <td>2020-03-21</td>\n",
       "      <td>16</td>\n",
       "      <td>0</td>\n",
       "      <td>3</td>\n",
       "      <td>13</td>\n",
       "    </tr>\n",
       "    <tr>\n",
       "      <th>19757</th>\n",
       "      <td>Isle of Man</td>\n",
       "      <td>United Kingdom</td>\n",
       "      <td>54.2361</td>\n",
       "      <td>-4.5481</td>\n",
       "      <td>2020-04-05</td>\n",
       "      <td>127</td>\n",
       "      <td>1</td>\n",
       "      <td>0</td>\n",
       "      <td>126</td>\n",
       "    </tr>\n",
       "    <tr>\n",
       "      <th>20647</th>\n",
       "      <td>Guangxi</td>\n",
       "      <td>China</td>\n",
       "      <td>23.8298</td>\n",
       "      <td>108.7881</td>\n",
       "      <td>2020-04-09</td>\n",
       "      <td>254</td>\n",
       "      <td>2</td>\n",
       "      <td>252</td>\n",
       "      <td>0</td>\n",
       "    </tr>\n",
       "  </tbody>\n",
       "</table>\n",
       "</div>"
      ],
      "text/plain": [
       "       Province/State  Country/Region      Lat      Long       Date  \\\n",
       "24361        Shandong           China  36.3427  118.1498 2020-04-23   \n",
       "27084                      Mauritania  21.0079   10.9408 2020-05-03   \n",
       "11306  Cayman Islands  United Kingdom  19.3133  -81.2546 2020-03-04   \n",
       "15589        Tasmania       Australia -41.4545  145.9707 2020-03-21   \n",
       "19757     Isle of Man  United Kingdom  54.2361   -4.5481 2020-04-05   \n",
       "20647         Guangxi           China  23.8298  108.7881 2020-04-09   \n",
       "\n",
       "       Confirmed  Deaths  Recovered  Active  \n",
       "24361        787       7        766      14  \n",
       "27084          8       1          6       1  \n",
       "11306          0       0          0       0  \n",
       "15589         16       0          3      13  \n",
       "19757        127       1          0     126  \n",
       "20647        254       2        252       0  "
      ]
     },
     "execution_count": 7,
     "metadata": {},
     "output_type": "execute_result"
    }
   ],
   "source": [
    "full_table.loc[full_table['Province/State']=='Greenland', 'Country/Region'] = 'Greenland'\n",
    "\n",
    "# Active Case = confirmed - deaths - recovered\n",
    "full_table['Active'] = full_table['Confirmed'] - full_table['Deaths'] - full_table['Recovered']\n",
    "\n",
    "# replacing Mainland china with just China\n",
    "full_table['Country/Region'] = full_table['Country/Region'].replace('Mainland China', 'China')\n",
    "\n",
    "# filling missing values \n",
    "full_table[['Province/State']] = full_table[['Province/State']].fillna('')\n",
    "full_table[['Confirmed', 'Deaths', 'Recovered', 'Active']] = full_table[['Confirmed', 'Deaths', 'Recovered', 'Active']].fillna(0)\n",
    "\n",
    "# fixing datatypes\n",
    "full_table['Recovered'] = full_table['Recovered'].astype(int)\n",
    "\n",
    "full_table.sample(6)"
   ]
  },
  {
   "cell_type": "code",
   "execution_count": 8,
   "metadata": {},
   "outputs": [
    {
     "data": {
      "text/html": [
       "<div>\n",
       "<style scoped>\n",
       "    .dataframe tbody tr th:only-of-type {\n",
       "        vertical-align: middle;\n",
       "    }\n",
       "\n",
       "    .dataframe tbody tr th {\n",
       "        vertical-align: top;\n",
       "    }\n",
       "\n",
       "    .dataframe thead th {\n",
       "        text-align: right;\n",
       "    }\n",
       "</style>\n",
       "<table border=\"1\" class=\"dataframe\">\n",
       "  <thead>\n",
       "    <tr style=\"text-align: right;\">\n",
       "      <th></th>\n",
       "      <th>Date</th>\n",
       "      <th>Country/Region</th>\n",
       "      <th>Confirmed</th>\n",
       "      <th>Deaths</th>\n",
       "      <th>Recovered</th>\n",
       "      <th>Active</th>\n",
       "      <th>New cases</th>\n",
       "      <th>New deaths</th>\n",
       "      <th>New recovered</th>\n",
       "    </tr>\n",
       "  </thead>\n",
       "  <tbody>\n",
       "    <tr>\n",
       "      <th>0</th>\n",
       "      <td>2020-01-22</td>\n",
       "      <td>Afghanistan</td>\n",
       "      <td>0</td>\n",
       "      <td>0</td>\n",
       "      <td>0</td>\n",
       "      <td>0</td>\n",
       "      <td>0</td>\n",
       "      <td>0</td>\n",
       "      <td>0</td>\n",
       "    </tr>\n",
       "    <tr>\n",
       "      <th>1</th>\n",
       "      <td>2020-01-22</td>\n",
       "      <td>Albania</td>\n",
       "      <td>0</td>\n",
       "      <td>0</td>\n",
       "      <td>0</td>\n",
       "      <td>0</td>\n",
       "      <td>0</td>\n",
       "      <td>0</td>\n",
       "      <td>0</td>\n",
       "    </tr>\n",
       "    <tr>\n",
       "      <th>2</th>\n",
       "      <td>2020-01-22</td>\n",
       "      <td>Algeria</td>\n",
       "      <td>0</td>\n",
       "      <td>0</td>\n",
       "      <td>0</td>\n",
       "      <td>0</td>\n",
       "      <td>0</td>\n",
       "      <td>0</td>\n",
       "      <td>0</td>\n",
       "    </tr>\n",
       "    <tr>\n",
       "      <th>3</th>\n",
       "      <td>2020-01-22</td>\n",
       "      <td>Andorra</td>\n",
       "      <td>0</td>\n",
       "      <td>0</td>\n",
       "      <td>0</td>\n",
       "      <td>0</td>\n",
       "      <td>0</td>\n",
       "      <td>0</td>\n",
       "      <td>0</td>\n",
       "    </tr>\n",
       "    <tr>\n",
       "      <th>4</th>\n",
       "      <td>2020-01-22</td>\n",
       "      <td>Angola</td>\n",
       "      <td>0</td>\n",
       "      <td>0</td>\n",
       "      <td>0</td>\n",
       "      <td>0</td>\n",
       "      <td>0</td>\n",
       "      <td>0</td>\n",
       "      <td>0</td>\n",
       "    </tr>\n",
       "  </tbody>\n",
       "</table>\n",
       "</div>"
      ],
      "text/plain": [
       "        Date Country/Region  Confirmed  Deaths  Recovered  Active  New cases  \\\n",
       "0 2020-01-22    Afghanistan          0       0          0       0          0   \n",
       "1 2020-01-22        Albania          0       0          0       0          0   \n",
       "2 2020-01-22        Algeria          0       0          0       0          0   \n",
       "3 2020-01-22        Andorra          0       0          0       0          0   \n",
       "4 2020-01-22         Angola          0       0          0       0          0   \n",
       "\n",
       "   New deaths  New recovered  \n",
       "0           0              0  \n",
       "1           0              0  \n",
       "2           0              0  \n",
       "3           0              0  \n",
       "4           0              0  "
      ]
     },
     "execution_count": 8,
     "metadata": {},
     "output_type": "execute_result"
    }
   ],
   "source": [
    "full_grouped = full_table.groupby(['Date', 'Country/Region'])['Confirmed', 'Deaths', 'Recovered', 'Active'].sum().reset_index()\n",
    "\n",
    "# new cases ======================================================\n",
    "temp = full_grouped.groupby(['Country/Region', 'Date', ])['Confirmed', 'Deaths', 'Recovered']\n",
    "temp = temp.sum().diff().reset_index()\n",
    "\n",
    "mask = temp['Country/Region'] != temp['Country/Region'].shift(1)\n",
    "\n",
    "temp.loc[mask, 'Confirmed'] = np.nan\n",
    "temp.loc[mask, 'Deaths'] = np.nan\n",
    "temp.loc[mask, 'Recovered'] = np.nan\n",
    "\n",
    "# renaming columns\n",
    "temp.columns = ['Country/Region', 'Date', 'New cases', 'New deaths', 'New recovered']\n",
    "# =================================================================\n",
    "\n",
    "# merging new values\n",
    "full_grouped = pd.merge(full_grouped, temp, on=['Country/Region', 'Date'])\n",
    "\n",
    "# filling na with 0\n",
    "full_grouped = full_grouped.fillna(0)\n",
    "\n",
    "# fixing data types\n",
    "cols = ['New cases', 'New deaths', 'New recovered']\n",
    "full_grouped[cols] = full_grouped[cols].astype('int')\n",
    "\n",
    "full_grouped['New cases'] = full_grouped['New cases'].apply(lambda x: 0 if x<0 else x)\n",
    "\n",
    "full_grouped.head()"
   ]
  },
  {
   "cell_type": "code",
   "execution_count": 9,
   "metadata": {},
   "outputs": [
    {
     "data": {
      "text/html": [
       "<div>\n",
       "<style scoped>\n",
       "    .dataframe tbody tr th:only-of-type {\n",
       "        vertical-align: middle;\n",
       "    }\n",
       "\n",
       "    .dataframe tbody tr th {\n",
       "        vertical-align: top;\n",
       "    }\n",
       "\n",
       "    .dataframe thead th {\n",
       "        text-align: right;\n",
       "    }\n",
       "</style>\n",
       "<table border=\"1\" class=\"dataframe\">\n",
       "  <thead>\n",
       "    <tr style=\"text-align: right;\">\n",
       "      <th></th>\n",
       "      <th>Date</th>\n",
       "      <th>Confirmed</th>\n",
       "      <th>Deaths</th>\n",
       "      <th>Recovered</th>\n",
       "      <th>Active</th>\n",
       "      <th>New cases</th>\n",
       "      <th>New deaths</th>\n",
       "      <th>Deaths / 100 Cases</th>\n",
       "      <th>Recovered / 100 Cases</th>\n",
       "      <th>Deaths / 100 Recovered</th>\n",
       "      <th>No. of countries</th>\n",
       "    </tr>\n",
       "  </thead>\n",
       "  <tbody>\n",
       "    <tr>\n",
       "      <th>0</th>\n",
       "      <td>2020-01-22</td>\n",
       "      <td>555</td>\n",
       "      <td>17</td>\n",
       "      <td>28</td>\n",
       "      <td>510</td>\n",
       "      <td>0</td>\n",
       "      <td>0</td>\n",
       "      <td>3.06</td>\n",
       "      <td>5.05</td>\n",
       "      <td>60.71</td>\n",
       "      <td>6</td>\n",
       "    </tr>\n",
       "    <tr>\n",
       "      <th>1</th>\n",
       "      <td>2020-01-23</td>\n",
       "      <td>654</td>\n",
       "      <td>18</td>\n",
       "      <td>30</td>\n",
       "      <td>606</td>\n",
       "      <td>99</td>\n",
       "      <td>1</td>\n",
       "      <td>2.75</td>\n",
       "      <td>4.59</td>\n",
       "      <td>60.00</td>\n",
       "      <td>8</td>\n",
       "    </tr>\n",
       "    <tr>\n",
       "      <th>2</th>\n",
       "      <td>2020-01-24</td>\n",
       "      <td>941</td>\n",
       "      <td>26</td>\n",
       "      <td>36</td>\n",
       "      <td>879</td>\n",
       "      <td>287</td>\n",
       "      <td>8</td>\n",
       "      <td>2.76</td>\n",
       "      <td>3.83</td>\n",
       "      <td>72.22</td>\n",
       "      <td>9</td>\n",
       "    </tr>\n",
       "    <tr>\n",
       "      <th>3</th>\n",
       "      <td>2020-01-25</td>\n",
       "      <td>1434</td>\n",
       "      <td>42</td>\n",
       "      <td>39</td>\n",
       "      <td>1353</td>\n",
       "      <td>493</td>\n",
       "      <td>16</td>\n",
       "      <td>2.93</td>\n",
       "      <td>2.72</td>\n",
       "      <td>107.69</td>\n",
       "      <td>11</td>\n",
       "    </tr>\n",
       "    <tr>\n",
       "      <th>4</th>\n",
       "      <td>2020-01-26</td>\n",
       "      <td>2118</td>\n",
       "      <td>56</td>\n",
       "      <td>52</td>\n",
       "      <td>2010</td>\n",
       "      <td>684</td>\n",
       "      <td>14</td>\n",
       "      <td>2.64</td>\n",
       "      <td>2.46</td>\n",
       "      <td>107.69</td>\n",
       "      <td>13</td>\n",
       "    </tr>\n",
       "  </tbody>\n",
       "</table>\n",
       "</div>"
      ],
      "text/plain": [
       "        Date  Confirmed  Deaths  Recovered  Active  New cases  New deaths  \\\n",
       "0 2020-01-22        555      17         28     510          0           0   \n",
       "1 2020-01-23        654      18         30     606         99           1   \n",
       "2 2020-01-24        941      26         36     879        287           8   \n",
       "3 2020-01-25       1434      42         39    1353        493          16   \n",
       "4 2020-01-26       2118      56         52    2010        684          14   \n",
       "\n",
       "   Deaths / 100 Cases  Recovered / 100 Cases  Deaths / 100 Recovered  \\\n",
       "0                3.06                   5.05                   60.71   \n",
       "1                2.75                   4.59                   60.00   \n",
       "2                2.76                   3.83                   72.22   \n",
       "3                2.93                   2.72                  107.69   \n",
       "4                2.64                   2.46                  107.69   \n",
       "\n",
       "   No. of countries  \n",
       "0                 6  \n",
       "1                 8  \n",
       "2                 9  \n",
       "3                11  \n",
       "4                13  "
      ]
     },
     "execution_count": 9,
     "metadata": {},
     "output_type": "execute_result"
    }
   ],
   "source": [
    "day_wise = full_grouped.groupby('Date')['Confirmed', 'Deaths', 'Recovered', 'Active', 'New cases', 'New deaths'].sum().reset_index()\n",
    "\n",
    "# number cases per 100 cases\n",
    "day_wise['Deaths / 100 Cases'] = round((day_wise['Deaths']/day_wise['Confirmed'])*100, 2)\n",
    "day_wise['Recovered / 100 Cases'] = round((day_wise['Recovered']/day_wise['Confirmed'])*100, 2)\n",
    "day_wise['Deaths / 100 Recovered'] = round((day_wise['Deaths']/day_wise['Recovered'])*100, 2)\n",
    "\n",
    "# no. of countries\n",
    "day_wise['No. of countries'] = full_grouped[full_grouped['Confirmed']!=0].groupby('Date')['Country/Region'].unique().apply(len).values\n",
    "\n",
    "# fillna by 0\n",
    "cols = ['Deaths / 100 Cases', 'Recovered / 100 Cases', 'Deaths / 100 Recovered']\n",
    "day_wise[cols] = day_wise[cols].fillna(0)\n",
    "\n",
    "day_wise.head()"
   ]
  },
  {
   "cell_type": "code",
   "execution_count": 10,
   "metadata": {},
   "outputs": [
    {
     "data": {
      "text/html": [
       "<div>\n",
       "<style scoped>\n",
       "    .dataframe tbody tr th:only-of-type {\n",
       "        vertical-align: middle;\n",
       "    }\n",
       "\n",
       "    .dataframe tbody tr th {\n",
       "        vertical-align: top;\n",
       "    }\n",
       "\n",
       "    .dataframe thead th {\n",
       "        text-align: right;\n",
       "    }\n",
       "</style>\n",
       "<table border=\"1\" class=\"dataframe\">\n",
       "  <thead>\n",
       "    <tr style=\"text-align: right;\">\n",
       "      <th></th>\n",
       "      <th>Country/Region</th>\n",
       "      <th>Confirmed</th>\n",
       "      <th>Deaths</th>\n",
       "      <th>Recovered</th>\n",
       "      <th>Active</th>\n",
       "      <th>New cases</th>\n",
       "      <th>Deaths / 100 Cases</th>\n",
       "      <th>Recovered / 100 Cases</th>\n",
       "      <th>Deaths / 100 Recovered</th>\n",
       "    </tr>\n",
       "  </thead>\n",
       "  <tbody>\n",
       "    <tr>\n",
       "      <th>0</th>\n",
       "      <td>Afghanistan</td>\n",
       "      <td>4033</td>\n",
       "      <td>115</td>\n",
       "      <td>502</td>\n",
       "      <td>3416</td>\n",
       "      <td>255</td>\n",
       "      <td>2.85</td>\n",
       "      <td>12.45</td>\n",
       "      <td>22.91</td>\n",
       "    </tr>\n",
       "    <tr>\n",
       "      <th>1</th>\n",
       "      <td>Albania</td>\n",
       "      <td>856</td>\n",
       "      <td>31</td>\n",
       "      <td>627</td>\n",
       "      <td>198</td>\n",
       "      <td>6</td>\n",
       "      <td>3.62</td>\n",
       "      <td>73.25</td>\n",
       "      <td>4.94</td>\n",
       "    </tr>\n",
       "    <tr>\n",
       "      <th>2</th>\n",
       "      <td>Algeria</td>\n",
       "      <td>5558</td>\n",
       "      <td>494</td>\n",
       "      <td>2546</td>\n",
       "      <td>2518</td>\n",
       "      <td>189</td>\n",
       "      <td>8.89</td>\n",
       "      <td>45.81</td>\n",
       "      <td>19.40</td>\n",
       "    </tr>\n",
       "    <tr>\n",
       "      <th>3</th>\n",
       "      <td>Andorra</td>\n",
       "      <td>754</td>\n",
       "      <td>48</td>\n",
       "      <td>545</td>\n",
       "      <td>161</td>\n",
       "      <td>2</td>\n",
       "      <td>6.37</td>\n",
       "      <td>72.28</td>\n",
       "      <td>8.81</td>\n",
       "    </tr>\n",
       "    <tr>\n",
       "      <th>4</th>\n",
       "      <td>Angola</td>\n",
       "      <td>43</td>\n",
       "      <td>2</td>\n",
       "      <td>13</td>\n",
       "      <td>28</td>\n",
       "      <td>0</td>\n",
       "      <td>4.65</td>\n",
       "      <td>30.23</td>\n",
       "      <td>15.38</td>\n",
       "    </tr>\n",
       "  </tbody>\n",
       "</table>\n",
       "</div>"
      ],
      "text/plain": [
       "  Country/Region  Confirmed  Deaths  Recovered  Active  New cases  \\\n",
       "0    Afghanistan       4033     115        502    3416        255   \n",
       "1        Albania        856      31        627     198          6   \n",
       "2        Algeria       5558     494       2546    2518        189   \n",
       "3        Andorra        754      48        545     161          2   \n",
       "4         Angola         43       2         13      28          0   \n",
       "\n",
       "   Deaths / 100 Cases  Recovered / 100 Cases  Deaths / 100 Recovered  \n",
       "0                2.85                  12.45                   22.91  \n",
       "1                3.62                  73.25                    4.94  \n",
       "2                8.89                  45.81                   19.40  \n",
       "3                6.37                  72.28                    8.81  \n",
       "4                4.65                  30.23                   15.38  "
      ]
     },
     "execution_count": 10,
     "metadata": {},
     "output_type": "execute_result"
    }
   ],
   "source": [
    "country_wise = full_grouped[full_grouped['Date']==max(full_grouped['Date'])].reset_index(drop=True).drop('Date', axis=1)\n",
    "\n",
    "# group by country\n",
    "country_wise = country_wise.groupby('Country/Region')['Confirmed', 'Deaths', 'Recovered', 'Active', 'New cases'].sum().reset_index()\n",
    "\n",
    "# per 100 cases\n",
    "country_wise['Deaths / 100 Cases'] = round((country_wise['Deaths']/country_wise['Confirmed'])*100, 2)\n",
    "country_wise['Recovered / 100 Cases'] = round((country_wise['Recovered']/country_wise['Confirmed'])*100, 2)\n",
    "country_wise['Deaths / 100 Recovered'] = round((country_wise['Deaths']/country_wise['Recovered'])*100, 2)\n",
    "\n",
    "cols = ['Deaths / 100 Cases', 'Recovered / 100 Cases', 'Deaths / 100 Recovered']\n",
    "country_wise[cols] = country_wise[cols].fillna(0)\n",
    "\n",
    "country_wise.head()"
   ]
  },
  {
   "cell_type": "code",
   "execution_count": 11,
   "metadata": {},
   "outputs": [
    {
     "data": {
      "text/html": [
       "<div>\n",
       "<style scoped>\n",
       "    .dataframe tbody tr th:only-of-type {\n",
       "        vertical-align: middle;\n",
       "    }\n",
       "\n",
       "    .dataframe tbody tr th {\n",
       "        vertical-align: top;\n",
       "    }\n",
       "\n",
       "    .dataframe thead th {\n",
       "        text-align: right;\n",
       "    }\n",
       "</style>\n",
       "<table border=\"1\" class=\"dataframe\">\n",
       "  <thead>\n",
       "    <tr style=\"text-align: right;\">\n",
       "      <th></th>\n",
       "      <th>Country/Region</th>\n",
       "      <th>Confirmed</th>\n",
       "      <th>Deaths</th>\n",
       "      <th>Recovered</th>\n",
       "      <th>Active</th>\n",
       "      <th>New cases</th>\n",
       "      <th>Deaths / 100 Cases</th>\n",
       "      <th>Recovered / 100 Cases</th>\n",
       "      <th>Deaths / 100 Recovered</th>\n",
       "      <th>Population</th>\n",
       "      <th>Cases / Million People</th>\n",
       "    </tr>\n",
       "  </thead>\n",
       "  <tbody>\n",
       "    <tr>\n",
       "      <th>0</th>\n",
       "      <td>Afghanistan</td>\n",
       "      <td>4033</td>\n",
       "      <td>115</td>\n",
       "      <td>502</td>\n",
       "      <td>3416</td>\n",
       "      <td>255</td>\n",
       "      <td>2.85</td>\n",
       "      <td>12.45</td>\n",
       "      <td>22.91</td>\n",
       "      <td>38742911.0</td>\n",
       "      <td>104.0</td>\n",
       "    </tr>\n",
       "    <tr>\n",
       "      <th>1</th>\n",
       "      <td>Albania</td>\n",
       "      <td>856</td>\n",
       "      <td>31</td>\n",
       "      <td>627</td>\n",
       "      <td>198</td>\n",
       "      <td>6</td>\n",
       "      <td>3.62</td>\n",
       "      <td>73.25</td>\n",
       "      <td>4.94</td>\n",
       "      <td>2878420.0</td>\n",
       "      <td>297.0</td>\n",
       "    </tr>\n",
       "    <tr>\n",
       "      <th>2</th>\n",
       "      <td>Algeria</td>\n",
       "      <td>5558</td>\n",
       "      <td>494</td>\n",
       "      <td>2546</td>\n",
       "      <td>2518</td>\n",
       "      <td>189</td>\n",
       "      <td>8.89</td>\n",
       "      <td>45.81</td>\n",
       "      <td>19.40</td>\n",
       "      <td>43685618.0</td>\n",
       "      <td>127.0</td>\n",
       "    </tr>\n",
       "    <tr>\n",
       "      <th>3</th>\n",
       "      <td>Andorra</td>\n",
       "      <td>754</td>\n",
       "      <td>48</td>\n",
       "      <td>545</td>\n",
       "      <td>161</td>\n",
       "      <td>2</td>\n",
       "      <td>6.37</td>\n",
       "      <td>72.28</td>\n",
       "      <td>8.81</td>\n",
       "      <td>77240.0</td>\n",
       "      <td>9762.0</td>\n",
       "    </tr>\n",
       "    <tr>\n",
       "      <th>4</th>\n",
       "      <td>Angola</td>\n",
       "      <td>43</td>\n",
       "      <td>2</td>\n",
       "      <td>13</td>\n",
       "      <td>28</td>\n",
       "      <td>0</td>\n",
       "      <td>4.65</td>\n",
       "      <td>30.23</td>\n",
       "      <td>15.38</td>\n",
       "      <td>32644783.0</td>\n",
       "      <td>1.0</td>\n",
       "    </tr>\n",
       "  </tbody>\n",
       "</table>\n",
       "</div>"
      ],
      "text/plain": [
       "  Country/Region  Confirmed  Deaths  Recovered  Active  New cases  \\\n",
       "0    Afghanistan       4033     115        502    3416        255   \n",
       "1        Albania        856      31        627     198          6   \n",
       "2        Algeria       5558     494       2546    2518        189   \n",
       "3        Andorra        754      48        545     161          2   \n",
       "4         Angola         43       2         13      28          0   \n",
       "\n",
       "   Deaths / 100 Cases  Recovered / 100 Cases  Deaths / 100 Recovered  \\\n",
       "0                2.85                  12.45                   22.91   \n",
       "1                3.62                  73.25                    4.94   \n",
       "2                8.89                  45.81                   19.40   \n",
       "3                6.37                  72.28                    8.81   \n",
       "4                4.65                  30.23                   15.38   \n",
       "\n",
       "   Population  Cases / Million People  \n",
       "0  38742911.0                   104.0  \n",
       "1   2878420.0                   297.0  \n",
       "2  43685618.0                   127.0  \n",
       "3     77240.0                  9762.0  \n",
       "4  32644783.0                     1.0  "
      ]
     },
     "execution_count": 11,
     "metadata": {},
     "output_type": "execute_result"
    }
   ],
   "source": [
    "pop = pd.read_csv(r\"C:\\Users\\jaaye\\OneDrive\\Desktop\\population_by_country_2020.csv\")\n",
    "\n",
    "# select only population\n",
    "pop = pop.iloc[:, :2]\n",
    "\n",
    "# rename column names\n",
    "pop.columns = ['Country/Region', 'Population']\n",
    "\n",
    "# merged data\n",
    "country_wise = pd.merge(country_wise, pop, on='Country/Region', how='left')\n",
    "\n",
    "# update population\n",
    "cols = ['Burma', 'Congo (Brazzaville)', 'Congo (Kinshasa)', \"Cote d'Ivoire\", 'Czechia', \n",
    "        'Kosovo', 'Saint Kitts and Nevis', 'Saint Vincent and the Grenadines', \n",
    "        'Taiwan*', 'US', 'West Bank and Gaza', 'Sao Tome and Principe']\n",
    "pops = [54409800, 89561403, 5518087, 26378274, 10708981, 1793000, \n",
    "        53109, 110854, 23806638, 330541757, 4543126, 219159]\n",
    "for c, p in zip(cols, pops):\n",
    "    country_wise.loc[country_wise['Country/Region']== c, 'Population'] = p\n",
    "    \n",
    "# missing values\n",
    "# country_wise.isna().sum()\n",
    "# country_wise[country_wise['Population'].isna()]['Country/Region'].tolist()\n",
    "\n",
    "# Cases per population\n",
    "country_wise['Cases / Million People'] = round((country_wise['Confirmed'] / country_wise['Population']) * 1000000)\n",
    "\n",
    "country_wise.head()"
   ]
  },
  {
   "cell_type": "code",
   "execution_count": 12,
   "metadata": {},
   "outputs": [
    {
     "data": {
      "text/html": [
       "<div>\n",
       "<style scoped>\n",
       "    .dataframe tbody tr th:only-of-type {\n",
       "        vertical-align: middle;\n",
       "    }\n",
       "\n",
       "    .dataframe tbody tr th {\n",
       "        vertical-align: top;\n",
       "    }\n",
       "\n",
       "    .dataframe thead th {\n",
       "        text-align: right;\n",
       "    }\n",
       "</style>\n",
       "<table border=\"1\" class=\"dataframe\">\n",
       "  <thead>\n",
       "    <tr style=\"text-align: right;\">\n",
       "      <th></th>\n",
       "      <th>Country/Region</th>\n",
       "      <th>Confirmed</th>\n",
       "      <th>Deaths</th>\n",
       "      <th>Recovered</th>\n",
       "      <th>Active</th>\n",
       "      <th>New cases</th>\n",
       "      <th>Deaths / 100 Cases</th>\n",
       "      <th>Recovered / 100 Cases</th>\n",
       "      <th>Deaths / 100 Recovered</th>\n",
       "      <th>Population</th>\n",
       "      <th>Cases / Million People</th>\n",
       "      <th>Confirmed last week</th>\n",
       "      <th>1 week change</th>\n",
       "      <th>1 week % increase</th>\n",
       "    </tr>\n",
       "  </thead>\n",
       "  <tbody>\n",
       "    <tr>\n",
       "      <th>0</th>\n",
       "      <td>Afghanistan</td>\n",
       "      <td>4033</td>\n",
       "      <td>115</td>\n",
       "      <td>502</td>\n",
       "      <td>3416</td>\n",
       "      <td>255</td>\n",
       "      <td>2.85</td>\n",
       "      <td>12.45</td>\n",
       "      <td>22.91</td>\n",
       "      <td>38742911.0</td>\n",
       "      <td>104.0</td>\n",
       "      <td>2469</td>\n",
       "      <td>1564</td>\n",
       "      <td>63.35</td>\n",
       "    </tr>\n",
       "    <tr>\n",
       "      <th>1</th>\n",
       "      <td>Albania</td>\n",
       "      <td>856</td>\n",
       "      <td>31</td>\n",
       "      <td>627</td>\n",
       "      <td>198</td>\n",
       "      <td>6</td>\n",
       "      <td>3.62</td>\n",
       "      <td>73.25</td>\n",
       "      <td>4.94</td>\n",
       "      <td>2878420.0</td>\n",
       "      <td>297.0</td>\n",
       "      <td>789</td>\n",
       "      <td>67</td>\n",
       "      <td>8.49</td>\n",
       "    </tr>\n",
       "    <tr>\n",
       "      <th>2</th>\n",
       "      <td>Algeria</td>\n",
       "      <td>5558</td>\n",
       "      <td>494</td>\n",
       "      <td>2546</td>\n",
       "      <td>2518</td>\n",
       "      <td>189</td>\n",
       "      <td>8.89</td>\n",
       "      <td>45.81</td>\n",
       "      <td>19.40</td>\n",
       "      <td>43685618.0</td>\n",
       "      <td>127.0</td>\n",
       "      <td>4295</td>\n",
       "      <td>1263</td>\n",
       "      <td>29.41</td>\n",
       "    </tr>\n",
       "    <tr>\n",
       "      <th>3</th>\n",
       "      <td>Andorra</td>\n",
       "      <td>754</td>\n",
       "      <td>48</td>\n",
       "      <td>545</td>\n",
       "      <td>161</td>\n",
       "      <td>2</td>\n",
       "      <td>6.37</td>\n",
       "      <td>72.28</td>\n",
       "      <td>8.81</td>\n",
       "      <td>77240.0</td>\n",
       "      <td>9762.0</td>\n",
       "      <td>747</td>\n",
       "      <td>7</td>\n",
       "      <td>0.94</td>\n",
       "    </tr>\n",
       "    <tr>\n",
       "      <th>4</th>\n",
       "      <td>Angola</td>\n",
       "      <td>43</td>\n",
       "      <td>2</td>\n",
       "      <td>13</td>\n",
       "      <td>28</td>\n",
       "      <td>0</td>\n",
       "      <td>4.65</td>\n",
       "      <td>30.23</td>\n",
       "      <td>15.38</td>\n",
       "      <td>32644783.0</td>\n",
       "      <td>1.0</td>\n",
       "      <td>35</td>\n",
       "      <td>8</td>\n",
       "      <td>22.86</td>\n",
       "    </tr>\n",
       "  </tbody>\n",
       "</table>\n",
       "</div>"
      ],
      "text/plain": [
       "  Country/Region  Confirmed  Deaths  Recovered  Active  New cases  \\\n",
       "0    Afghanistan       4033     115        502    3416        255   \n",
       "1        Albania        856      31        627     198          6   \n",
       "2        Algeria       5558     494       2546    2518        189   \n",
       "3        Andorra        754      48        545     161          2   \n",
       "4         Angola         43       2         13      28          0   \n",
       "\n",
       "   Deaths / 100 Cases  Recovered / 100 Cases  Deaths / 100 Recovered  \\\n",
       "0                2.85                  12.45                   22.91   \n",
       "1                3.62                  73.25                    4.94   \n",
       "2                8.89                  45.81                   19.40   \n",
       "3                6.37                  72.28                    8.81   \n",
       "4                4.65                  30.23                   15.38   \n",
       "\n",
       "   Population  Cases / Million People  Confirmed last week  1 week change  \\\n",
       "0  38742911.0                   104.0                 2469           1564   \n",
       "1   2878420.0                   297.0                  789             67   \n",
       "2  43685618.0                   127.0                 4295           1263   \n",
       "3     77240.0                  9762.0                  747              7   \n",
       "4  32644783.0                     1.0                   35              8   \n",
       "\n",
       "   1 week % increase  \n",
       "0              63.35  \n",
       "1               8.49  \n",
       "2              29.41  \n",
       "3               0.94  \n",
       "4              22.86  "
      ]
     },
     "execution_count": 12,
     "metadata": {},
     "output_type": "execute_result"
    }
   ],
   "source": [
    "today = full_grouped[full_grouped['Date']==max(full_grouped['Date'])].reset_index(drop=True).drop('Date', axis=1)[['Country/Region', 'Confirmed']]\n",
    "last_week = full_grouped[full_grouped['Date']==max(full_grouped['Date'])-timedelta(days=7)].reset_index(drop=True).drop('Date', axis=1)[['Country/Region', 'Confirmed']]\n",
    "\n",
    "temp = pd.merge(today, last_week, on='Country/Region', suffixes=(' today', ' last week'))\n",
    "\n",
    "# temp = temp[['Country/Region', 'Confirmed last week']]\n",
    "temp['1 week change'] = temp['Confirmed today'] - temp['Confirmed last week']\n",
    "\n",
    "temp = temp[['Country/Region', 'Confirmed last week', '1 week change']]\n",
    "\n",
    "country_wise = pd.merge(country_wise, temp, on='Country/Region')\n",
    "\n",
    "country_wise['1 week % increase'] = round(country_wise['1 week change']/country_wise['Confirmed last week']*100, 2)\n",
    "\n",
    "country_wise.head()"
   ]
  },
  {
   "cell_type": "code",
   "execution_count": 13,
   "metadata": {},
   "outputs": [
    {
     "data": {
      "text/html": [
       "<div>\n",
       "<style scoped>\n",
       "    .dataframe tbody tr th:only-of-type {\n",
       "        vertical-align: middle;\n",
       "    }\n",
       "\n",
       "    .dataframe tbody tr th {\n",
       "        vertical-align: top;\n",
       "    }\n",
       "\n",
       "    .dataframe thead th {\n",
       "        text-align: right;\n",
       "    }\n",
       "</style>\n",
       "<table border=\"1\" class=\"dataframe\">\n",
       "  <thead>\n",
       "    <tr style=\"text-align: right;\">\n",
       "      <th></th>\n",
       "      <th>Country/Region</th>\n",
       "      <th>Confirmed</th>\n",
       "      <th>Deaths</th>\n",
       "      <th>Recovered</th>\n",
       "      <th>Active</th>\n",
       "      <th>New cases</th>\n",
       "      <th>Deaths / 100 Cases</th>\n",
       "      <th>Recovered / 100 Cases</th>\n",
       "      <th>Deaths / 100 Recovered</th>\n",
       "      <th>Population</th>\n",
       "      <th>Cases / Million People</th>\n",
       "      <th>Confirmed last week</th>\n",
       "      <th>1 week change</th>\n",
       "      <th>1 week % increase</th>\n",
       "    </tr>\n",
       "  </thead>\n",
       "  <tbody>\n",
       "  </tbody>\n",
       "</table>\n",
       "</div>"
      ],
      "text/plain": [
       "Empty DataFrame\n",
       "Columns: [Country/Region, Confirmed, Deaths, Recovered, Active, New cases, Deaths / 100 Cases, Recovered / 100 Cases, Deaths / 100 Recovered, Population, Cases / Million People, Confirmed last week, 1 week change, 1 week % increase]\n",
       "Index: []"
      ]
     },
     "execution_count": 13,
     "metadata": {},
     "output_type": "execute_result"
    }
   ],
   "source": [
    "country_wise[country_wise['Cases / Million People'].isna()]"
   ]
  },
  {
   "cell_type": "code",
   "execution_count": 14,
   "metadata": {},
   "outputs": [
    {
     "data": {
      "application/vnd.plotly.v1+json": {
       "config": {
        "plotlyServerURL": "https://plot.ly"
       },
       "data": [
        {
         "branchvalues": "total",
         "domain": {
          "x": [
           0,
           1
          ],
          "y": [
           0,
           1
          ]
         },
         "hovertemplate": "labels=%{label}<br>Confirmed=%{value}<br>parent=%{parent}<br>id=%{id}<extra></extra>",
         "ids": [
          "Afghanistan/",
          "Albania/",
          "Algeria/",
          "Andorra/",
          "Angola/",
          "Antigua and Barbuda/",
          "Argentina/",
          "Armenia/",
          "Austria/",
          "Azerbaijan/",
          "Bahamas/",
          "Bahrain/",
          "Bangladesh/",
          "Barbados/",
          "Belarus/",
          "Belgium/",
          "Belize/",
          "Benin/",
          "Bhutan/",
          "Bolivia/",
          "Bosnia and Herzegovina/",
          "Botswana/",
          "Brazil/",
          "Brunei/",
          "Bulgaria/",
          "Burkina Faso/",
          "Burma/",
          "Burundi/",
          "Cabo Verde/",
          "Cambodia/",
          "Cameroon/",
          "Central African Republic/",
          "Chad/",
          "Chile/",
          "Colombia/",
          "Comoros/",
          "Congo (Brazzaville)/",
          "Congo (Kinshasa)/",
          "Costa Rica/",
          "Cote d'Ivoire/",
          "Croatia/",
          "Cuba/",
          "Cyprus/",
          "Czechia/",
          "Denmark/",
          "Djibouti/",
          "Dominica/",
          "Dominican Republic/",
          "Ecuador/",
          "Egypt/",
          "El Salvador/",
          "Equatorial Guinea/",
          "Eritrea/",
          "Estonia/",
          "Eswatini/",
          "Ethiopia/",
          "Fiji/",
          "Finland/",
          "France/",
          "Gabon/",
          "Gambia/",
          "Georgia/",
          "Germany/",
          "Ghana/",
          "Greece/",
          "Grenada/",
          "Guatemala/",
          "Guinea/",
          "Guinea-Bissau/",
          "Guyana/",
          "Haiti/",
          "Holy See/",
          "Honduras/",
          "Hungary/",
          "Iceland/",
          "India/",
          "Indonesia/",
          "Iran/",
          "Iraq/",
          "Ireland/",
          "Israel/",
          "Italy/",
          "Jamaica/",
          "Japan/",
          "Jordan/",
          "Kazakhstan/",
          "Kenya/",
          "Kosovo/",
          "Kuwait/",
          "Kyrgyzstan/",
          "Laos/",
          "Latvia/",
          "Lebanon/",
          "Liberia/",
          "Libya/",
          "Liechtenstein/",
          "Lithuania/",
          "Luxembourg/",
          "Madagascar/",
          "Malawi/",
          "Malaysia/",
          "Maldives/",
          "Mali/",
          "Malta/",
          "Mauritania/",
          "Mauritius/",
          "Mexico/",
          "Moldova/",
          "Monaco/",
          "Mongolia/",
          "Montenegro/",
          "Morocco/",
          "Mozambique/",
          "Namibia/",
          "Nepal/",
          "Netherlands/",
          "New Zealand/",
          "Nicaragua/",
          "Niger/",
          "Nigeria/",
          "North Macedonia/",
          "Norway/",
          "Oman/",
          "Pakistan/",
          "Panama/",
          "Papua New Guinea/",
          "Paraguay/",
          "Peru/",
          "Philippines/",
          "Poland/",
          "Portugal/",
          "Qatar/",
          "Romania/",
          "Russia/",
          "Rwanda/",
          "Saint Kitts and Nevis/",
          "Saint Lucia/",
          "Saint Vincent and the Grenadines/",
          "San Marino/",
          "Sao Tome and Principe/",
          "Saudi Arabia/",
          "Senegal/",
          "Serbia/",
          "Seychelles/",
          "Sierra Leone/",
          "Singapore/",
          "Slovakia/",
          "Slovenia/",
          "Somalia/",
          "South Africa/",
          "South Korea/",
          "South Sudan/",
          "Spain/",
          "Sri Lanka/",
          "Sudan/",
          "Suriname/",
          "Sweden/",
          "Switzerland/",
          "Syria/",
          "Taiwan*/",
          "Tajikistan/",
          "Tanzania/",
          "Thailand/",
          "Timor-Leste/",
          "Togo/",
          "Trinidad and Tobago/",
          "Tunisia/",
          "Turkey/",
          "US/",
          "Uganda/",
          "Ukraine/",
          "United Arab Emirates/",
          "United Kingdom/",
          "Uruguay/",
          "Uzbekistan/",
          "Venezuela/",
          "Vietnam/",
          "West Bank and Gaza/",
          "Western Sahara/",
          "Yemen/",
          "Zambia/",
          "Zimbabwe/",
          "Canada/Alberta",
          "United Kingdom/Anguilla",
          "China/Anhui",
          "Netherlands/Aruba",
          "Australia/Australian Capital Territory",
          "China/Beijing",
          "United Kingdom/Bermuda",
          "Canada/British Columbia",
          "United Kingdom/British Virgin Islands",
          "United Kingdom/Cayman Islands",
          "United Kingdom/Channel Islands",
          "China/Chongqing",
          "Netherlands/Curacao",
          "United Kingdom/Falkland Islands (Malvinas)",
          "Denmark/Faroe Islands",
          "France/French Guiana",
          "France/French Polynesia",
          "China/Fujian",
          "China/Gansu",
          "United Kingdom/Gibraltar",
          "Greenland/Greenland",
          "France/Guadeloupe",
          "China/Guangdong",
          "China/Guangxi",
          "China/Guizhou",
          "China/Hainan",
          "China/Hebei",
          "China/Heilongjiang",
          "China/Henan",
          "China/Hong Kong",
          "China/Hubei",
          "China/Hunan",
          "China/Inner Mongolia",
          "United Kingdom/Isle of Man",
          "China/Jiangsu",
          "China/Jiangxi",
          "China/Jilin",
          "China/Liaoning",
          "China/Macau",
          "Canada/Manitoba",
          "France/Martinique",
          "France/Mayotte",
          "United Kingdom/Montserrat",
          "Canada/New Brunswick",
          "France/New Caledonia",
          "Australia/New South Wales",
          "Canada/Newfoundland and Labrador",
          "China/Ningxia",
          "Australia/Northern Territory",
          "Canada/Northwest Territories",
          "Canada/Nova Scotia",
          "Canada/Ontario",
          "Canada/Prince Edward Island",
          "China/Qinghai",
          "Canada/Quebec",
          "Australia/Queensland",
          "France/Reunion",
          "France/Saint Barthelemy",
          "France/Saint Pierre and Miquelon",
          "Canada/Saskatchewan",
          "China/Shaanxi",
          "China/Shandong",
          "China/Shanghai",
          "China/Shanxi",
          "China/Sichuan",
          "Netherlands/Sint Maarten",
          "Australia/South Australia",
          "France/St Martin",
          "Australia/Tasmania",
          "China/Tianjin",
          "China/Tibet",
          "United Kingdom/Turks and Caicos Islands",
          "Australia/Victoria",
          "Australia/Western Australia",
          "China/Xinjiang",
          "Canada/Yukon",
          "China/Yunnan",
          "China/Zhejiang",
          "Afghanistan",
          "Albania",
          "Algeria",
          "Andorra",
          "Angola",
          "Antigua and Barbuda",
          "Argentina",
          "Armenia",
          "Australia",
          "Austria",
          "Azerbaijan",
          "Bahamas",
          "Bahrain",
          "Bangladesh",
          "Barbados",
          "Belarus",
          "Belgium",
          "Belize",
          "Benin",
          "Bhutan",
          "Bolivia",
          "Bosnia and Herzegovina",
          "Botswana",
          "Brazil",
          "Brunei",
          "Bulgaria",
          "Burkina Faso",
          "Burma",
          "Burundi",
          "Cabo Verde",
          "Cambodia",
          "Cameroon",
          "Canada",
          "Central African Republic",
          "Chad",
          "Chile",
          "China",
          "Colombia",
          "Comoros",
          "Congo (Brazzaville)",
          "Congo (Kinshasa)",
          "Costa Rica",
          "Cote d'Ivoire",
          "Croatia",
          "Cuba",
          "Cyprus",
          "Czechia",
          "Denmark",
          "Djibouti",
          "Dominica",
          "Dominican Republic",
          "Ecuador",
          "Egypt",
          "El Salvador",
          "Equatorial Guinea",
          "Eritrea",
          "Estonia",
          "Eswatini",
          "Ethiopia",
          "Fiji",
          "Finland",
          "France",
          "Gabon",
          "Gambia",
          "Georgia",
          "Germany",
          "Ghana",
          "Greece",
          "Greenland",
          "Grenada",
          "Guatemala",
          "Guinea",
          "Guinea-Bissau",
          "Guyana",
          "Haiti",
          "Holy See",
          "Honduras",
          "Hungary",
          "Iceland",
          "India",
          "Indonesia",
          "Iran",
          "Iraq",
          "Ireland",
          "Israel",
          "Italy",
          "Jamaica",
          "Japan",
          "Jordan",
          "Kazakhstan",
          "Kenya",
          "Kosovo",
          "Kuwait",
          "Kyrgyzstan",
          "Laos",
          "Latvia",
          "Lebanon",
          "Liberia",
          "Libya",
          "Liechtenstein",
          "Lithuania",
          "Luxembourg",
          "Madagascar",
          "Malawi",
          "Malaysia",
          "Maldives",
          "Mali",
          "Malta",
          "Mauritania",
          "Mauritius",
          "Mexico",
          "Moldova",
          "Monaco",
          "Mongolia",
          "Montenegro",
          "Morocco",
          "Mozambique",
          "Namibia",
          "Nepal",
          "Netherlands",
          "New Zealand",
          "Nicaragua",
          "Niger",
          "Nigeria",
          "North Macedonia",
          "Norway",
          "Oman",
          "Pakistan",
          "Panama",
          "Papua New Guinea",
          "Paraguay",
          "Peru",
          "Philippines",
          "Poland",
          "Portugal",
          "Qatar",
          "Romania",
          "Russia",
          "Rwanda",
          "Saint Kitts and Nevis",
          "Saint Lucia",
          "Saint Vincent and the Grenadines",
          "San Marino",
          "Sao Tome and Principe",
          "Saudi Arabia",
          "Senegal",
          "Serbia",
          "Seychelles",
          "Sierra Leone",
          "Singapore",
          "Slovakia",
          "Slovenia",
          "Somalia",
          "South Africa",
          "South Korea",
          "South Sudan",
          "Spain",
          "Sri Lanka",
          "Sudan",
          "Suriname",
          "Sweden",
          "Switzerland",
          "Syria",
          "Taiwan*",
          "Tajikistan",
          "Tanzania",
          "Thailand",
          "Timor-Leste",
          "Togo",
          "Trinidad and Tobago",
          "Tunisia",
          "Turkey",
          "US",
          "Uganda",
          "Ukraine",
          "United Arab Emirates",
          "United Kingdom",
          "Uruguay",
          "Uzbekistan",
          "Venezuela",
          "Vietnam",
          "West Bank and Gaza",
          "Western Sahara",
          "Yemen",
          "Zambia",
          "Zimbabwe"
         ],
         "labels": [
          "",
          "",
          "",
          "",
          "",
          "",
          "",
          "",
          "",
          "",
          "",
          "",
          "",
          "",
          "",
          "",
          "",
          "",
          "",
          "",
          "",
          "",
          "",
          "",
          "",
          "",
          "",
          "",
          "",
          "",
          "",
          "",
          "",
          "",
          "",
          "",
          "",
          "",
          "",
          "",
          "",
          "",
          "",
          "",
          "",
          "",
          "",
          "",
          "",
          "",
          "",
          "",
          "",
          "",
          "",
          "",
          "",
          "",
          "",
          "",
          "",
          "",
          "",
          "",
          "",
          "",
          "",
          "",
          "",
          "",
          "",
          "",
          "",
          "",
          "",
          "",
          "",
          "",
          "",
          "",
          "",
          "",
          "",
          "",
          "",
          "",
          "",
          "",
          "",
          "",
          "",
          "",
          "",
          "",
          "",
          "",
          "",
          "",
          "",
          "",
          "",
          "",
          "",
          "",
          "",
          "",
          "",
          "",
          "",
          "",
          "",
          "",
          "",
          "",
          "",
          "",
          "",
          "",
          "",
          "",
          "",
          "",
          "",
          "",
          "",
          "",
          "",
          "",
          "",
          "",
          "",
          "",
          "",
          "",
          "",
          "",
          "",
          "",
          "",
          "",
          "",
          "",
          "",
          "",
          "",
          "",
          "",
          "",
          "",
          "",
          "",
          "",
          "",
          "",
          "",
          "",
          "",
          "",
          "",
          "",
          "",
          "",
          "",
          "",
          "",
          "",
          "",
          "",
          "",
          "",
          "",
          "",
          "",
          "",
          "",
          "",
          "",
          "",
          "",
          "",
          "",
          "",
          "Alberta",
          "Anguilla",
          "Anhui",
          "Aruba",
          "Australian Capital Territory",
          "Beijing",
          "Bermuda",
          "British Columbia",
          "British Virgin Islands",
          "Cayman Islands",
          "Channel Islands",
          "Chongqing",
          "Curacao",
          "Falkland Islands (Malvinas)",
          "Faroe Islands",
          "French Guiana",
          "French Polynesia",
          "Fujian",
          "Gansu",
          "Gibraltar",
          "Greenland",
          "Guadeloupe",
          "Guangdong",
          "Guangxi",
          "Guizhou",
          "Hainan",
          "Hebei",
          "Heilongjiang",
          "Henan",
          "Hong Kong",
          "Hubei",
          "Hunan",
          "Inner Mongolia",
          "Isle of Man",
          "Jiangsu",
          "Jiangxi",
          "Jilin",
          "Liaoning",
          "Macau",
          "Manitoba",
          "Martinique",
          "Mayotte",
          "Montserrat",
          "New Brunswick",
          "New Caledonia",
          "New South Wales",
          "Newfoundland and Labrador",
          "Ningxia",
          "Northern Territory",
          "Northwest Territories",
          "Nova Scotia",
          "Ontario",
          "Prince Edward Island",
          "Qinghai",
          "Quebec",
          "Queensland",
          "Reunion",
          "Saint Barthelemy",
          "Saint Pierre and Miquelon",
          "Saskatchewan",
          "Shaanxi",
          "Shandong",
          "Shanghai",
          "Shanxi",
          "Sichuan",
          "Sint Maarten",
          "South Australia",
          "St Martin",
          "Tasmania",
          "Tianjin",
          "Tibet",
          "Turks and Caicos Islands",
          "Victoria",
          "Western Australia",
          "Xinjiang",
          "Yukon",
          "Yunnan",
          "Zhejiang",
          "Afghanistan",
          "Albania",
          "Algeria",
          "Andorra",
          "Angola",
          "Antigua and Barbuda",
          "Argentina",
          "Armenia",
          "Australia",
          "Austria",
          "Azerbaijan",
          "Bahamas",
          "Bahrain",
          "Bangladesh",
          "Barbados",
          "Belarus",
          "Belgium",
          "Belize",
          "Benin",
          "Bhutan",
          "Bolivia",
          "Bosnia and Herzegovina",
          "Botswana",
          "Brazil",
          "Brunei",
          "Bulgaria",
          "Burkina Faso",
          "Burma",
          "Burundi",
          "Cabo Verde",
          "Cambodia",
          "Cameroon",
          "Canada",
          "Central African Republic",
          "Chad",
          "Chile",
          "China",
          "Colombia",
          "Comoros",
          "Congo (Brazzaville)",
          "Congo (Kinshasa)",
          "Costa Rica",
          "Cote d'Ivoire",
          "Croatia",
          "Cuba",
          "Cyprus",
          "Czechia",
          "Denmark",
          "Djibouti",
          "Dominica",
          "Dominican Republic",
          "Ecuador",
          "Egypt",
          "El Salvador",
          "Equatorial Guinea",
          "Eritrea",
          "Estonia",
          "Eswatini",
          "Ethiopia",
          "Fiji",
          "Finland",
          "France",
          "Gabon",
          "Gambia",
          "Georgia",
          "Germany",
          "Ghana",
          "Greece",
          "Greenland",
          "Grenada",
          "Guatemala",
          "Guinea",
          "Guinea-Bissau",
          "Guyana",
          "Haiti",
          "Holy See",
          "Honduras",
          "Hungary",
          "Iceland",
          "India",
          "Indonesia",
          "Iran",
          "Iraq",
          "Ireland",
          "Israel",
          "Italy",
          "Jamaica",
          "Japan",
          "Jordan",
          "Kazakhstan",
          "Kenya",
          "Kosovo",
          "Kuwait",
          "Kyrgyzstan",
          "Laos",
          "Latvia",
          "Lebanon",
          "Liberia",
          "Libya",
          "Liechtenstein",
          "Lithuania",
          "Luxembourg",
          "Madagascar",
          "Malawi",
          "Malaysia",
          "Maldives",
          "Mali",
          "Malta",
          "Mauritania",
          "Mauritius",
          "Mexico",
          "Moldova",
          "Monaco",
          "Mongolia",
          "Montenegro",
          "Morocco",
          "Mozambique",
          "Namibia",
          "Nepal",
          "Netherlands",
          "New Zealand",
          "Nicaragua",
          "Niger",
          "Nigeria",
          "North Macedonia",
          "Norway",
          "Oman",
          "Pakistan",
          "Panama",
          "Papua New Guinea",
          "Paraguay",
          "Peru",
          "Philippines",
          "Poland",
          "Portugal",
          "Qatar",
          "Romania",
          "Russia",
          "Rwanda",
          "Saint Kitts and Nevis",
          "Saint Lucia",
          "Saint Vincent and the Grenadines",
          "San Marino",
          "Sao Tome and Principe",
          "Saudi Arabia",
          "Senegal",
          "Serbia",
          "Seychelles",
          "Sierra Leone",
          "Singapore",
          "Slovakia",
          "Slovenia",
          "Somalia",
          "South Africa",
          "South Korea",
          "South Sudan",
          "Spain",
          "Sri Lanka",
          "Sudan",
          "Suriname",
          "Sweden",
          "Switzerland",
          "Syria",
          "Taiwan*",
          "Tajikistan",
          "Tanzania",
          "Thailand",
          "Timor-Leste",
          "Togo",
          "Trinidad and Tobago",
          "Tunisia",
          "Turkey",
          "US",
          "Uganda",
          "Ukraine",
          "United Arab Emirates",
          "United Kingdom",
          "Uruguay",
          "Uzbekistan",
          "Venezuela",
          "Vietnam",
          "West Bank and Gaza",
          "Western Sahara",
          "Yemen",
          "Zambia",
          "Zimbabwe"
         ],
         "name": "",
         "parents": [
          "Afghanistan",
          "Albania",
          "Algeria",
          "Andorra",
          "Angola",
          "Antigua and Barbuda",
          "Argentina",
          "Armenia",
          "Austria",
          "Azerbaijan",
          "Bahamas",
          "Bahrain",
          "Bangladesh",
          "Barbados",
          "Belarus",
          "Belgium",
          "Belize",
          "Benin",
          "Bhutan",
          "Bolivia",
          "Bosnia and Herzegovina",
          "Botswana",
          "Brazil",
          "Brunei",
          "Bulgaria",
          "Burkina Faso",
          "Burma",
          "Burundi",
          "Cabo Verde",
          "Cambodia",
          "Cameroon",
          "Central African Republic",
          "Chad",
          "Chile",
          "Colombia",
          "Comoros",
          "Congo (Brazzaville)",
          "Congo (Kinshasa)",
          "Costa Rica",
          "Cote d'Ivoire",
          "Croatia",
          "Cuba",
          "Cyprus",
          "Czechia",
          "Denmark",
          "Djibouti",
          "Dominica",
          "Dominican Republic",
          "Ecuador",
          "Egypt",
          "El Salvador",
          "Equatorial Guinea",
          "Eritrea",
          "Estonia",
          "Eswatini",
          "Ethiopia",
          "Fiji",
          "Finland",
          "France",
          "Gabon",
          "Gambia",
          "Georgia",
          "Germany",
          "Ghana",
          "Greece",
          "Grenada",
          "Guatemala",
          "Guinea",
          "Guinea-Bissau",
          "Guyana",
          "Haiti",
          "Holy See",
          "Honduras",
          "Hungary",
          "Iceland",
          "India",
          "Indonesia",
          "Iran",
          "Iraq",
          "Ireland",
          "Israel",
          "Italy",
          "Jamaica",
          "Japan",
          "Jordan",
          "Kazakhstan",
          "Kenya",
          "Kosovo",
          "Kuwait",
          "Kyrgyzstan",
          "Laos",
          "Latvia",
          "Lebanon",
          "Liberia",
          "Libya",
          "Liechtenstein",
          "Lithuania",
          "Luxembourg",
          "Madagascar",
          "Malawi",
          "Malaysia",
          "Maldives",
          "Mali",
          "Malta",
          "Mauritania",
          "Mauritius",
          "Mexico",
          "Moldova",
          "Monaco",
          "Mongolia",
          "Montenegro",
          "Morocco",
          "Mozambique",
          "Namibia",
          "Nepal",
          "Netherlands",
          "New Zealand",
          "Nicaragua",
          "Niger",
          "Nigeria",
          "North Macedonia",
          "Norway",
          "Oman",
          "Pakistan",
          "Panama",
          "Papua New Guinea",
          "Paraguay",
          "Peru",
          "Philippines",
          "Poland",
          "Portugal",
          "Qatar",
          "Romania",
          "Russia",
          "Rwanda",
          "Saint Kitts and Nevis",
          "Saint Lucia",
          "Saint Vincent and the Grenadines",
          "San Marino",
          "Sao Tome and Principe",
          "Saudi Arabia",
          "Senegal",
          "Serbia",
          "Seychelles",
          "Sierra Leone",
          "Singapore",
          "Slovakia",
          "Slovenia",
          "Somalia",
          "South Africa",
          "South Korea",
          "South Sudan",
          "Spain",
          "Sri Lanka",
          "Sudan",
          "Suriname",
          "Sweden",
          "Switzerland",
          "Syria",
          "Taiwan*",
          "Tajikistan",
          "Tanzania",
          "Thailand",
          "Timor-Leste",
          "Togo",
          "Trinidad and Tobago",
          "Tunisia",
          "Turkey",
          "US",
          "Uganda",
          "Ukraine",
          "United Arab Emirates",
          "United Kingdom",
          "Uruguay",
          "Uzbekistan",
          "Venezuela",
          "Vietnam",
          "West Bank and Gaza",
          "Western Sahara",
          "Yemen",
          "Zambia",
          "Zimbabwe",
          "Canada",
          "United Kingdom",
          "China",
          "Netherlands",
          "Australia",
          "China",
          "United Kingdom",
          "Canada",
          "United Kingdom",
          "United Kingdom",
          "United Kingdom",
          "China",
          "Netherlands",
          "United Kingdom",
          "Denmark",
          "France",
          "France",
          "China",
          "China",
          "United Kingdom",
          "Greenland",
          "France",
          "China",
          "China",
          "China",
          "China",
          "China",
          "China",
          "China",
          "China",
          "China",
          "China",
          "China",
          "United Kingdom",
          "China",
          "China",
          "China",
          "China",
          "China",
          "Canada",
          "France",
          "France",
          "United Kingdom",
          "Canada",
          "France",
          "Australia",
          "Canada",
          "China",
          "Australia",
          "Canada",
          "Canada",
          "Canada",
          "Canada",
          "China",
          "Canada",
          "Australia",
          "France",
          "France",
          "France",
          "Canada",
          "China",
          "China",
          "China",
          "China",
          "China",
          "Netherlands",
          "Australia",
          "France",
          "Australia",
          "China",
          "China",
          "United Kingdom",
          "Australia",
          "Australia",
          "China",
          "Canada",
          "China",
          "China",
          "",
          "",
          "",
          "",
          "",
          "",
          "",
          "",
          "",
          "",
          "",
          "",
          "",
          "",
          "",
          "",
          "",
          "",
          "",
          "",
          "",
          "",
          "",
          "",
          "",
          "",
          "",
          "",
          "",
          "",
          "",
          "",
          "",
          "",
          "",
          "",
          "",
          "",
          "",
          "",
          "",
          "",
          "",
          "",
          "",
          "",
          "",
          "",
          "",
          "",
          "",
          "",
          "",
          "",
          "",
          "",
          "",
          "",
          "",
          "",
          "",
          "",
          "",
          "",
          "",
          "",
          "",
          "",
          "",
          "",
          "",
          "",
          "",
          "",
          "",
          "",
          "",
          "",
          "",
          "",
          "",
          "",
          "",
          "",
          "",
          "",
          "",
          "",
          "",
          "",
          "",
          "",
          "",
          "",
          "",
          "",
          "",
          "",
          "",
          "",
          "",
          "",
          "",
          "",
          "",
          "",
          "",
          "",
          "",
          "",
          "",
          "",
          "",
          "",
          "",
          "",
          "",
          "",
          "",
          "",
          "",
          "",
          "",
          "",
          "",
          "",
          "",
          "",
          "",
          "",
          "",
          "",
          "",
          "",
          "",
          "",
          "",
          "",
          "",
          "",
          "",
          "",
          "",
          "",
          "",
          "",
          "",
          "",
          "",
          "",
          "",
          "",
          "",
          "",
          "",
          "",
          "",
          "",
          "",
          "",
          "",
          "",
          "",
          "",
          "",
          "",
          "",
          "",
          "",
          "",
          "",
          "",
          "",
          "",
          "",
          "",
          "",
          "",
          "",
          "",
          "",
          "",
          "",
          "",
          "",
          ""
         ],
         "textinfo": "label+text+value",
         "type": "treemap",
         "values": [
          4033,
          856,
          5558,
          754,
          43,
          25,
          5776,
          3175,
          15833,
          2422,
          92,
          4774,
          13770,
          84,
          22052,
          52596,
          18,
          284,
          7,
          2437,
          2090,
          23,
          156061,
          141,
          1921,
          748,
          178,
          15,
          236,
          122,
          2274,
          143,
          322,
          27219,
          10495,
          11,
          274,
          937,
          780,
          1667,
          2176,
          1754,
          892,
          8095,
          10319,
          1189,
          16,
          9882,
          29071,
          8964,
          784,
          439,
          39,
          1733,
          163,
          210,
          18,
          5880,
          174758,
          661,
          20,
          626,
          171324,
          4263,
          2710,
          21,
          967,
          2042,
          641,
          94,
          151,
          12,
          1830,
          3213,
          1801,
          62808,
          13645,
          106220,
          2679,
          22760,
          16454,
          218268,
          490,
          15663,
          522,
          4975,
          649,
          862,
          7623,
          931,
          19,
          930,
          809,
          199,
          64,
          82,
          1444,
          3877,
          193,
          56,
          6589,
          790,
          692,
          490,
          8,
          332,
          33460,
          4867,
          96,
          42,
          324,
          5910,
          87,
          16,
          110,
          42382,
          1494,
          16,
          815,
          4151,
          1622,
          8099,
          3224,
          28736,
          8282,
          8,
          689,
          65015,
          10610,
          15651,
          27406,
          21331,
          15131,
          198676,
          280,
          15,
          18,
          17,
          637,
          208,
          37136,
          1634,
          10032,
          11,
          291,
          22460,
          1455,
          1454,
          997,
          9420,
          10874,
          120,
          223578,
          847,
          1164,
          10,
          25921,
          30251,
          47,
          440,
          612,
          509,
          3004,
          24,
          153,
          116,
          1032,
          137115,
          1309550,
          116,
          14710,
          17417,
          215260,
          702,
          2349,
          402,
          288,
          375,
          6,
          34,
          252,
          35,
          6157,
          3,
          991,
          101,
          107,
          593,
          118,
          2330,
          7,
          81,
          545,
          579,
          16,
          13,
          187,
          141,
          60,
          356,
          139,
          146,
          11,
          154,
          1589,
          254,
          147,
          168,
          328,
          944,
          1276,
          1044,
          68129,
          1019,
          201,
          329,
          653,
          937,
          124,
          146,
          45,
          284,
          186,
          988,
          11,
          120,
          18,
          3053,
          261,
          75,
          29,
          5,
          1011,
          21148,
          27,
          18,
          36997,
          1045,
          431,
          6,
          1,
          553,
          308,
          788,
          659,
          198,
          561,
          76,
          439,
          39,
          227,
          191,
          1,
          12,
          1487,
          552,
          76,
          11,
          185,
          1268,
          4033,
          856,
          5558,
          754,
          43,
          25,
          5776,
          3175,
          6939,
          15833,
          2422,
          92,
          4774,
          13770,
          84,
          22052,
          52596,
          18,
          284,
          7,
          2437,
          2090,
          23,
          156061,
          141,
          1921,
          748,
          178,
          15,
          236,
          122,
          2274,
          68904,
          143,
          322,
          27219,
          83990,
          10495,
          11,
          274,
          937,
          780,
          1667,
          2176,
          1754,
          892,
          8095,
          10506,
          1189,
          16,
          9882,
          29071,
          8964,
          784,
          439,
          39,
          1733,
          163,
          210,
          18,
          5880,
          176782,
          661,
          20,
          626,
          171324,
          4263,
          2710,
          11,
          21,
          967,
          2042,
          641,
          94,
          151,
          12,
          1830,
          3213,
          1801,
          62808,
          13645,
          106220,
          2679,
          22760,
          16454,
          218268,
          490,
          15663,
          522,
          4975,
          649,
          862,
          7623,
          931,
          19,
          930,
          809,
          199,
          64,
          82,
          1444,
          3877,
          193,
          56,
          6589,
          790,
          692,
          490,
          8,
          332,
          33460,
          4867,
          96,
          42,
          324,
          5910,
          87,
          16,
          110,
          42575,
          1494,
          16,
          815,
          4151,
          1622,
          8099,
          3224,
          28736,
          8282,
          8,
          689,
          65015,
          10610,
          15651,
          27406,
          21331,
          15131,
          198676,
          280,
          15,
          18,
          17,
          637,
          208,
          37136,
          1634,
          10032,
          11,
          291,
          22460,
          1455,
          1454,
          997,
          9420,
          10874,
          120,
          223578,
          847,
          1164,
          10,
          25921,
          30251,
          47,
          440,
          612,
          509,
          3004,
          24,
          153,
          116,
          1032,
          137115,
          1309550,
          116,
          14710,
          17417,
          216525,
          702,
          2349,
          402,
          288,
          375,
          6,
          34,
          252,
          35
         ]
        }
       ],
       "layout": {
        "height": 700,
        "legend": {
         "tracegroupgap": 0
        },
        "template": {
         "data": {
          "bar": [
           {
            "error_x": {
             "color": "#2a3f5f"
            },
            "error_y": {
             "color": "#2a3f5f"
            },
            "marker": {
             "line": {
              "color": "#E5ECF6",
              "width": 0.5
             }
            },
            "type": "bar"
           }
          ],
          "barpolar": [
           {
            "marker": {
             "line": {
              "color": "#E5ECF6",
              "width": 0.5
             }
            },
            "type": "barpolar"
           }
          ],
          "carpet": [
           {
            "aaxis": {
             "endlinecolor": "#2a3f5f",
             "gridcolor": "white",
             "linecolor": "white",
             "minorgridcolor": "white",
             "startlinecolor": "#2a3f5f"
            },
            "baxis": {
             "endlinecolor": "#2a3f5f",
             "gridcolor": "white",
             "linecolor": "white",
             "minorgridcolor": "white",
             "startlinecolor": "#2a3f5f"
            },
            "type": "carpet"
           }
          ],
          "choropleth": [
           {
            "colorbar": {
             "outlinewidth": 0,
             "ticks": ""
            },
            "type": "choropleth"
           }
          ],
          "contour": [
           {
            "colorbar": {
             "outlinewidth": 0,
             "ticks": ""
            },
            "colorscale": [
             [
              0,
              "#0d0887"
             ],
             [
              0.1111111111111111,
              "#46039f"
             ],
             [
              0.2222222222222222,
              "#7201a8"
             ],
             [
              0.3333333333333333,
              "#9c179e"
             ],
             [
              0.4444444444444444,
              "#bd3786"
             ],
             [
              0.5555555555555556,
              "#d8576b"
             ],
             [
              0.6666666666666666,
              "#ed7953"
             ],
             [
              0.7777777777777778,
              "#fb9f3a"
             ],
             [
              0.8888888888888888,
              "#fdca26"
             ],
             [
              1,
              "#f0f921"
             ]
            ],
            "type": "contour"
           }
          ],
          "contourcarpet": [
           {
            "colorbar": {
             "outlinewidth": 0,
             "ticks": ""
            },
            "type": "contourcarpet"
           }
          ],
          "heatmap": [
           {
            "colorbar": {
             "outlinewidth": 0,
             "ticks": ""
            },
            "colorscale": [
             [
              0,
              "#0d0887"
             ],
             [
              0.1111111111111111,
              "#46039f"
             ],
             [
              0.2222222222222222,
              "#7201a8"
             ],
             [
              0.3333333333333333,
              "#9c179e"
             ],
             [
              0.4444444444444444,
              "#bd3786"
             ],
             [
              0.5555555555555556,
              "#d8576b"
             ],
             [
              0.6666666666666666,
              "#ed7953"
             ],
             [
              0.7777777777777778,
              "#fb9f3a"
             ],
             [
              0.8888888888888888,
              "#fdca26"
             ],
             [
              1,
              "#f0f921"
             ]
            ],
            "type": "heatmap"
           }
          ],
          "heatmapgl": [
           {
            "colorbar": {
             "outlinewidth": 0,
             "ticks": ""
            },
            "colorscale": [
             [
              0,
              "#0d0887"
             ],
             [
              0.1111111111111111,
              "#46039f"
             ],
             [
              0.2222222222222222,
              "#7201a8"
             ],
             [
              0.3333333333333333,
              "#9c179e"
             ],
             [
              0.4444444444444444,
              "#bd3786"
             ],
             [
              0.5555555555555556,
              "#d8576b"
             ],
             [
              0.6666666666666666,
              "#ed7953"
             ],
             [
              0.7777777777777778,
              "#fb9f3a"
             ],
             [
              0.8888888888888888,
              "#fdca26"
             ],
             [
              1,
              "#f0f921"
             ]
            ],
            "type": "heatmapgl"
           }
          ],
          "histogram": [
           {
            "marker": {
             "colorbar": {
              "outlinewidth": 0,
              "ticks": ""
             }
            },
            "type": "histogram"
           }
          ],
          "histogram2d": [
           {
            "colorbar": {
             "outlinewidth": 0,
             "ticks": ""
            },
            "colorscale": [
             [
              0,
              "#0d0887"
             ],
             [
              0.1111111111111111,
              "#46039f"
             ],
             [
              0.2222222222222222,
              "#7201a8"
             ],
             [
              0.3333333333333333,
              "#9c179e"
             ],
             [
              0.4444444444444444,
              "#bd3786"
             ],
             [
              0.5555555555555556,
              "#d8576b"
             ],
             [
              0.6666666666666666,
              "#ed7953"
             ],
             [
              0.7777777777777778,
              "#fb9f3a"
             ],
             [
              0.8888888888888888,
              "#fdca26"
             ],
             [
              1,
              "#f0f921"
             ]
            ],
            "type": "histogram2d"
           }
          ],
          "histogram2dcontour": [
           {
            "colorbar": {
             "outlinewidth": 0,
             "ticks": ""
            },
            "colorscale": [
             [
              0,
              "#0d0887"
             ],
             [
              0.1111111111111111,
              "#46039f"
             ],
             [
              0.2222222222222222,
              "#7201a8"
             ],
             [
              0.3333333333333333,
              "#9c179e"
             ],
             [
              0.4444444444444444,
              "#bd3786"
             ],
             [
              0.5555555555555556,
              "#d8576b"
             ],
             [
              0.6666666666666666,
              "#ed7953"
             ],
             [
              0.7777777777777778,
              "#fb9f3a"
             ],
             [
              0.8888888888888888,
              "#fdca26"
             ],
             [
              1,
              "#f0f921"
             ]
            ],
            "type": "histogram2dcontour"
           }
          ],
          "mesh3d": [
           {
            "colorbar": {
             "outlinewidth": 0,
             "ticks": ""
            },
            "type": "mesh3d"
           }
          ],
          "parcoords": [
           {
            "line": {
             "colorbar": {
              "outlinewidth": 0,
              "ticks": ""
             }
            },
            "type": "parcoords"
           }
          ],
          "pie": [
           {
            "automargin": true,
            "type": "pie"
           }
          ],
          "scatter": [
           {
            "marker": {
             "colorbar": {
              "outlinewidth": 0,
              "ticks": ""
             }
            },
            "type": "scatter"
           }
          ],
          "scatter3d": [
           {
            "line": {
             "colorbar": {
              "outlinewidth": 0,
              "ticks": ""
             }
            },
            "marker": {
             "colorbar": {
              "outlinewidth": 0,
              "ticks": ""
             }
            },
            "type": "scatter3d"
           }
          ],
          "scattercarpet": [
           {
            "marker": {
             "colorbar": {
              "outlinewidth": 0,
              "ticks": ""
             }
            },
            "type": "scattercarpet"
           }
          ],
          "scattergeo": [
           {
            "marker": {
             "colorbar": {
              "outlinewidth": 0,
              "ticks": ""
             }
            },
            "type": "scattergeo"
           }
          ],
          "scattergl": [
           {
            "marker": {
             "colorbar": {
              "outlinewidth": 0,
              "ticks": ""
             }
            },
            "type": "scattergl"
           }
          ],
          "scattermapbox": [
           {
            "marker": {
             "colorbar": {
              "outlinewidth": 0,
              "ticks": ""
             }
            },
            "type": "scattermapbox"
           }
          ],
          "scatterpolar": [
           {
            "marker": {
             "colorbar": {
              "outlinewidth": 0,
              "ticks": ""
             }
            },
            "type": "scatterpolar"
           }
          ],
          "scatterpolargl": [
           {
            "marker": {
             "colorbar": {
              "outlinewidth": 0,
              "ticks": ""
             }
            },
            "type": "scatterpolargl"
           }
          ],
          "scatterternary": [
           {
            "marker": {
             "colorbar": {
              "outlinewidth": 0,
              "ticks": ""
             }
            },
            "type": "scatterternary"
           }
          ],
          "surface": [
           {
            "colorbar": {
             "outlinewidth": 0,
             "ticks": ""
            },
            "colorscale": [
             [
              0,
              "#0d0887"
             ],
             [
              0.1111111111111111,
              "#46039f"
             ],
             [
              0.2222222222222222,
              "#7201a8"
             ],
             [
              0.3333333333333333,
              "#9c179e"
             ],
             [
              0.4444444444444444,
              "#bd3786"
             ],
             [
              0.5555555555555556,
              "#d8576b"
             ],
             [
              0.6666666666666666,
              "#ed7953"
             ],
             [
              0.7777777777777778,
              "#fb9f3a"
             ],
             [
              0.8888888888888888,
              "#fdca26"
             ],
             [
              1,
              "#f0f921"
             ]
            ],
            "type": "surface"
           }
          ],
          "table": [
           {
            "cells": {
             "fill": {
              "color": "#EBF0F8"
             },
             "line": {
              "color": "white"
             }
            },
            "header": {
             "fill": {
              "color": "#C8D4E3"
             },
             "line": {
              "color": "white"
             }
            },
            "type": "table"
           }
          ]
         },
         "layout": {
          "annotationdefaults": {
           "arrowcolor": "#2a3f5f",
           "arrowhead": 0,
           "arrowwidth": 1
          },
          "coloraxis": {
           "colorbar": {
            "outlinewidth": 0,
            "ticks": ""
           }
          },
          "colorscale": {
           "diverging": [
            [
             0,
             "#8e0152"
            ],
            [
             0.1,
             "#c51b7d"
            ],
            [
             0.2,
             "#de77ae"
            ],
            [
             0.3,
             "#f1b6da"
            ],
            [
             0.4,
             "#fde0ef"
            ],
            [
             0.5,
             "#f7f7f7"
            ],
            [
             0.6,
             "#e6f5d0"
            ],
            [
             0.7,
             "#b8e186"
            ],
            [
             0.8,
             "#7fbc41"
            ],
            [
             0.9,
             "#4d9221"
            ],
            [
             1,
             "#276419"
            ]
           ],
           "sequential": [
            [
             0,
             "#0d0887"
            ],
            [
             0.1111111111111111,
             "#46039f"
            ],
            [
             0.2222222222222222,
             "#7201a8"
            ],
            [
             0.3333333333333333,
             "#9c179e"
            ],
            [
             0.4444444444444444,
             "#bd3786"
            ],
            [
             0.5555555555555556,
             "#d8576b"
            ],
            [
             0.6666666666666666,
             "#ed7953"
            ],
            [
             0.7777777777777778,
             "#fb9f3a"
            ],
            [
             0.8888888888888888,
             "#fdca26"
            ],
            [
             1,
             "#f0f921"
            ]
           ],
           "sequentialminus": [
            [
             0,
             "#0d0887"
            ],
            [
             0.1111111111111111,
             "#46039f"
            ],
            [
             0.2222222222222222,
             "#7201a8"
            ],
            [
             0.3333333333333333,
             "#9c179e"
            ],
            [
             0.4444444444444444,
             "#bd3786"
            ],
            [
             0.5555555555555556,
             "#d8576b"
            ],
            [
             0.6666666666666666,
             "#ed7953"
            ],
            [
             0.7777777777777778,
             "#fb9f3a"
            ],
            [
             0.8888888888888888,
             "#fdca26"
            ],
            [
             1,
             "#f0f921"
            ]
           ]
          },
          "colorway": [
           "#636efa",
           "#EF553B",
           "#00cc96",
           "#ab63fa",
           "#FFA15A",
           "#19d3f3",
           "#FF6692",
           "#B6E880",
           "#FF97FF",
           "#FECB52"
          ],
          "font": {
           "color": "#2a3f5f"
          },
          "geo": {
           "bgcolor": "white",
           "lakecolor": "white",
           "landcolor": "#E5ECF6",
           "showlakes": true,
           "showland": true,
           "subunitcolor": "white"
          },
          "hoverlabel": {
           "align": "left"
          },
          "hovermode": "closest",
          "mapbox": {
           "style": "light"
          },
          "paper_bgcolor": "white",
          "plot_bgcolor": "#E5ECF6",
          "polar": {
           "angularaxis": {
            "gridcolor": "white",
            "linecolor": "white",
            "ticks": ""
           },
           "bgcolor": "#E5ECF6",
           "radialaxis": {
            "gridcolor": "white",
            "linecolor": "white",
            "ticks": ""
           }
          },
          "scene": {
           "xaxis": {
            "backgroundcolor": "#E5ECF6",
            "gridcolor": "white",
            "gridwidth": 2,
            "linecolor": "white",
            "showbackground": true,
            "ticks": "",
            "zerolinecolor": "white"
           },
           "yaxis": {
            "backgroundcolor": "#E5ECF6",
            "gridcolor": "white",
            "gridwidth": 2,
            "linecolor": "white",
            "showbackground": true,
            "ticks": "",
            "zerolinecolor": "white"
           },
           "zaxis": {
            "backgroundcolor": "#E5ECF6",
            "gridcolor": "white",
            "gridwidth": 2,
            "linecolor": "white",
            "showbackground": true,
            "ticks": "",
            "zerolinecolor": "white"
           }
          },
          "shapedefaults": {
           "line": {
            "color": "#2a3f5f"
           }
          },
          "ternary": {
           "aaxis": {
            "gridcolor": "white",
            "linecolor": "white",
            "ticks": ""
           },
           "baxis": {
            "gridcolor": "white",
            "linecolor": "white",
            "ticks": ""
           },
           "bgcolor": "#E5ECF6",
           "caxis": {
            "gridcolor": "white",
            "linecolor": "white",
            "ticks": ""
           }
          },
          "title": {
           "x": 0.05
          },
          "xaxis": {
           "automargin": true,
           "gridcolor": "white",
           "linecolor": "white",
           "ticks": "",
           "title": {
            "standoff": 15
           },
           "zerolinecolor": "white",
           "zerolinewidth": 2
          },
          "yaxis": {
           "automargin": true,
           "gridcolor": "white",
           "linecolor": "white",
           "ticks": "",
           "title": {
            "standoff": 15
           },
           "zerolinecolor": "white",
           "zerolinewidth": 2
          }
         }
        },
        "title": {
         "text": "Number of Confirmed Cases"
        },
        "treemapcolorway": [
         "rgb(27,158,119)",
         "rgb(217,95,2)",
         "rgb(117,112,179)",
         "rgb(231,41,138)",
         "rgb(102,166,30)",
         "rgb(230,171,2)",
         "rgb(166,118,29)",
         "rgb(102,102,102)"
        ]
       }
      },
      "text/html": [
       "<div>\n",
       "        \n",
       "        \n",
       "            <div id=\"7bf6206e-0c18-40a6-8413-c873b5ad46e1\" class=\"plotly-graph-div\" style=\"height:700px; width:100%;\"></div>\n",
       "            <script type=\"text/javascript\">\n",
       "                require([\"plotly\"], function(Plotly) {\n",
       "                    window.PLOTLYENV=window.PLOTLYENV || {};\n",
       "                    \n",
       "                if (document.getElementById(\"7bf6206e-0c18-40a6-8413-c873b5ad46e1\")) {\n",
       "                    Plotly.newPlot(\n",
       "                        '7bf6206e-0c18-40a6-8413-c873b5ad46e1',\n",
       "                        [{\"branchvalues\": \"total\", \"domain\": {\"x\": [0.0, 1.0], \"y\": [0.0, 1.0]}, \"hovertemplate\": \"labels=%{label}<br>Confirmed=%{value}<br>parent=%{parent}<br>id=%{id}<extra></extra>\", \"ids\": [\"Afghanistan/\", \"Albania/\", \"Algeria/\", \"Andorra/\", \"Angola/\", \"Antigua and Barbuda/\", \"Argentina/\", \"Armenia/\", \"Austria/\", \"Azerbaijan/\", \"Bahamas/\", \"Bahrain/\", \"Bangladesh/\", \"Barbados/\", \"Belarus/\", \"Belgium/\", \"Belize/\", \"Benin/\", \"Bhutan/\", \"Bolivia/\", \"Bosnia and Herzegovina/\", \"Botswana/\", \"Brazil/\", \"Brunei/\", \"Bulgaria/\", \"Burkina Faso/\", \"Burma/\", \"Burundi/\", \"Cabo Verde/\", \"Cambodia/\", \"Cameroon/\", \"Central African Republic/\", \"Chad/\", \"Chile/\", \"Colombia/\", \"Comoros/\", \"Congo (Brazzaville)/\", \"Congo (Kinshasa)/\", \"Costa Rica/\", \"Cote d'Ivoire/\", \"Croatia/\", \"Cuba/\", \"Cyprus/\", \"Czechia/\", \"Denmark/\", \"Djibouti/\", \"Dominica/\", \"Dominican Republic/\", \"Ecuador/\", \"Egypt/\", \"El Salvador/\", \"Equatorial Guinea/\", \"Eritrea/\", \"Estonia/\", \"Eswatini/\", \"Ethiopia/\", \"Fiji/\", \"Finland/\", \"France/\", \"Gabon/\", \"Gambia/\", \"Georgia/\", \"Germany/\", \"Ghana/\", \"Greece/\", \"Grenada/\", \"Guatemala/\", \"Guinea/\", \"Guinea-Bissau/\", \"Guyana/\", \"Haiti/\", \"Holy See/\", \"Honduras/\", \"Hungary/\", \"Iceland/\", \"India/\", \"Indonesia/\", \"Iran/\", \"Iraq/\", \"Ireland/\", \"Israel/\", \"Italy/\", \"Jamaica/\", \"Japan/\", \"Jordan/\", \"Kazakhstan/\", \"Kenya/\", \"Kosovo/\", \"Kuwait/\", \"Kyrgyzstan/\", \"Laos/\", \"Latvia/\", \"Lebanon/\", \"Liberia/\", \"Libya/\", \"Liechtenstein/\", \"Lithuania/\", \"Luxembourg/\", \"Madagascar/\", \"Malawi/\", \"Malaysia/\", \"Maldives/\", \"Mali/\", \"Malta/\", \"Mauritania/\", \"Mauritius/\", \"Mexico/\", \"Moldova/\", \"Monaco/\", \"Mongolia/\", \"Montenegro/\", \"Morocco/\", \"Mozambique/\", \"Namibia/\", \"Nepal/\", \"Netherlands/\", \"New Zealand/\", \"Nicaragua/\", \"Niger/\", \"Nigeria/\", \"North Macedonia/\", \"Norway/\", \"Oman/\", \"Pakistan/\", \"Panama/\", \"Papua New Guinea/\", \"Paraguay/\", \"Peru/\", \"Philippines/\", \"Poland/\", \"Portugal/\", \"Qatar/\", \"Romania/\", \"Russia/\", \"Rwanda/\", \"Saint Kitts and Nevis/\", \"Saint Lucia/\", \"Saint Vincent and the Grenadines/\", \"San Marino/\", \"Sao Tome and Principe/\", \"Saudi Arabia/\", \"Senegal/\", \"Serbia/\", \"Seychelles/\", \"Sierra Leone/\", \"Singapore/\", \"Slovakia/\", \"Slovenia/\", \"Somalia/\", \"South Africa/\", \"South Korea/\", \"South Sudan/\", \"Spain/\", \"Sri Lanka/\", \"Sudan/\", \"Suriname/\", \"Sweden/\", \"Switzerland/\", \"Syria/\", \"Taiwan*/\", \"Tajikistan/\", \"Tanzania/\", \"Thailand/\", \"Timor-Leste/\", \"Togo/\", \"Trinidad and Tobago/\", \"Tunisia/\", \"Turkey/\", \"US/\", \"Uganda/\", \"Ukraine/\", \"United Arab Emirates/\", \"United Kingdom/\", \"Uruguay/\", \"Uzbekistan/\", \"Venezuela/\", \"Vietnam/\", \"West Bank and Gaza/\", \"Western Sahara/\", \"Yemen/\", \"Zambia/\", \"Zimbabwe/\", \"Canada/Alberta\", \"United Kingdom/Anguilla\", \"China/Anhui\", \"Netherlands/Aruba\", \"Australia/Australian Capital Territory\", \"China/Beijing\", \"United Kingdom/Bermuda\", \"Canada/British Columbia\", \"United Kingdom/British Virgin Islands\", \"United Kingdom/Cayman Islands\", \"United Kingdom/Channel Islands\", \"China/Chongqing\", \"Netherlands/Curacao\", \"United Kingdom/Falkland Islands (Malvinas)\", \"Denmark/Faroe Islands\", \"France/French Guiana\", \"France/French Polynesia\", \"China/Fujian\", \"China/Gansu\", \"United Kingdom/Gibraltar\", \"Greenland/Greenland\", \"France/Guadeloupe\", \"China/Guangdong\", \"China/Guangxi\", \"China/Guizhou\", \"China/Hainan\", \"China/Hebei\", \"China/Heilongjiang\", \"China/Henan\", \"China/Hong Kong\", \"China/Hubei\", \"China/Hunan\", \"China/Inner Mongolia\", \"United Kingdom/Isle of Man\", \"China/Jiangsu\", \"China/Jiangxi\", \"China/Jilin\", \"China/Liaoning\", \"China/Macau\", \"Canada/Manitoba\", \"France/Martinique\", \"France/Mayotte\", \"United Kingdom/Montserrat\", \"Canada/New Brunswick\", \"France/New Caledonia\", \"Australia/New South Wales\", \"Canada/Newfoundland and Labrador\", \"China/Ningxia\", \"Australia/Northern Territory\", \"Canada/Northwest Territories\", \"Canada/Nova Scotia\", \"Canada/Ontario\", \"Canada/Prince Edward Island\", \"China/Qinghai\", \"Canada/Quebec\", \"Australia/Queensland\", \"France/Reunion\", \"France/Saint Barthelemy\", \"France/Saint Pierre and Miquelon\", \"Canada/Saskatchewan\", \"China/Shaanxi\", \"China/Shandong\", \"China/Shanghai\", \"China/Shanxi\", \"China/Sichuan\", \"Netherlands/Sint Maarten\", \"Australia/South Australia\", \"France/St Martin\", \"Australia/Tasmania\", \"China/Tianjin\", \"China/Tibet\", \"United Kingdom/Turks and Caicos Islands\", \"Australia/Victoria\", \"Australia/Western Australia\", \"China/Xinjiang\", \"Canada/Yukon\", \"China/Yunnan\", \"China/Zhejiang\", \"Afghanistan\", \"Albania\", \"Algeria\", \"Andorra\", \"Angola\", \"Antigua and Barbuda\", \"Argentina\", \"Armenia\", \"Australia\", \"Austria\", \"Azerbaijan\", \"Bahamas\", \"Bahrain\", \"Bangladesh\", \"Barbados\", \"Belarus\", \"Belgium\", \"Belize\", \"Benin\", \"Bhutan\", \"Bolivia\", \"Bosnia and Herzegovina\", \"Botswana\", \"Brazil\", \"Brunei\", \"Bulgaria\", \"Burkina Faso\", \"Burma\", \"Burundi\", \"Cabo Verde\", \"Cambodia\", \"Cameroon\", \"Canada\", \"Central African Republic\", \"Chad\", \"Chile\", \"China\", \"Colombia\", \"Comoros\", \"Congo (Brazzaville)\", \"Congo (Kinshasa)\", \"Costa Rica\", \"Cote d'Ivoire\", \"Croatia\", \"Cuba\", \"Cyprus\", \"Czechia\", \"Denmark\", \"Djibouti\", \"Dominica\", \"Dominican Republic\", \"Ecuador\", \"Egypt\", \"El Salvador\", \"Equatorial Guinea\", \"Eritrea\", \"Estonia\", \"Eswatini\", \"Ethiopia\", \"Fiji\", \"Finland\", \"France\", \"Gabon\", \"Gambia\", \"Georgia\", \"Germany\", \"Ghana\", \"Greece\", \"Greenland\", \"Grenada\", \"Guatemala\", \"Guinea\", \"Guinea-Bissau\", \"Guyana\", \"Haiti\", \"Holy See\", \"Honduras\", \"Hungary\", \"Iceland\", \"India\", \"Indonesia\", \"Iran\", \"Iraq\", \"Ireland\", \"Israel\", \"Italy\", \"Jamaica\", \"Japan\", \"Jordan\", \"Kazakhstan\", \"Kenya\", \"Kosovo\", \"Kuwait\", \"Kyrgyzstan\", \"Laos\", \"Latvia\", \"Lebanon\", \"Liberia\", \"Libya\", \"Liechtenstein\", \"Lithuania\", \"Luxembourg\", \"Madagascar\", \"Malawi\", \"Malaysia\", \"Maldives\", \"Mali\", \"Malta\", \"Mauritania\", \"Mauritius\", \"Mexico\", \"Moldova\", \"Monaco\", \"Mongolia\", \"Montenegro\", \"Morocco\", \"Mozambique\", \"Namibia\", \"Nepal\", \"Netherlands\", \"New Zealand\", \"Nicaragua\", \"Niger\", \"Nigeria\", \"North Macedonia\", \"Norway\", \"Oman\", \"Pakistan\", \"Panama\", \"Papua New Guinea\", \"Paraguay\", \"Peru\", \"Philippines\", \"Poland\", \"Portugal\", \"Qatar\", \"Romania\", \"Russia\", \"Rwanda\", \"Saint Kitts and Nevis\", \"Saint Lucia\", \"Saint Vincent and the Grenadines\", \"San Marino\", \"Sao Tome and Principe\", \"Saudi Arabia\", \"Senegal\", \"Serbia\", \"Seychelles\", \"Sierra Leone\", \"Singapore\", \"Slovakia\", \"Slovenia\", \"Somalia\", \"South Africa\", \"South Korea\", \"South Sudan\", \"Spain\", \"Sri Lanka\", \"Sudan\", \"Suriname\", \"Sweden\", \"Switzerland\", \"Syria\", \"Taiwan*\", \"Tajikistan\", \"Tanzania\", \"Thailand\", \"Timor-Leste\", \"Togo\", \"Trinidad and Tobago\", \"Tunisia\", \"Turkey\", \"US\", \"Uganda\", \"Ukraine\", \"United Arab Emirates\", \"United Kingdom\", \"Uruguay\", \"Uzbekistan\", \"Venezuela\", \"Vietnam\", \"West Bank and Gaza\", \"Western Sahara\", \"Yemen\", \"Zambia\", \"Zimbabwe\"], \"labels\": [\"\", \"\", \"\", \"\", \"\", \"\", \"\", \"\", \"\", \"\", \"\", \"\", \"\", \"\", \"\", \"\", \"\", \"\", \"\", \"\", \"\", \"\", \"\", \"\", \"\", \"\", \"\", \"\", \"\", \"\", \"\", \"\", \"\", \"\", \"\", \"\", \"\", \"\", \"\", \"\", \"\", \"\", \"\", \"\", \"\", \"\", \"\", \"\", \"\", \"\", \"\", \"\", \"\", \"\", \"\", \"\", \"\", \"\", \"\", \"\", \"\", \"\", \"\", \"\", \"\", \"\", \"\", \"\", \"\", \"\", \"\", \"\", \"\", \"\", \"\", \"\", \"\", \"\", \"\", \"\", \"\", \"\", \"\", \"\", \"\", \"\", \"\", \"\", \"\", \"\", \"\", \"\", \"\", \"\", \"\", \"\", \"\", \"\", \"\", \"\", \"\", \"\", \"\", \"\", \"\", \"\", \"\", \"\", \"\", \"\", \"\", \"\", \"\", \"\", \"\", \"\", \"\", \"\", \"\", \"\", \"\", \"\", \"\", \"\", \"\", \"\", \"\", \"\", \"\", \"\", \"\", \"\", \"\", \"\", \"\", \"\", \"\", \"\", \"\", \"\", \"\", \"\", \"\", \"\", \"\", \"\", \"\", \"\", \"\", \"\", \"\", \"\", \"\", \"\", \"\", \"\", \"\", \"\", \"\", \"\", \"\", \"\", \"\", \"\", \"\", \"\", \"\", \"\", \"\", \"\", \"\", \"\", \"\", \"\", \"\", \"\", \"\", \"\", \"\", \"\", \"\", \"\", \"Alberta\", \"Anguilla\", \"Anhui\", \"Aruba\", \"Australian Capital Territory\", \"Beijing\", \"Bermuda\", \"British Columbia\", \"British Virgin Islands\", \"Cayman Islands\", \"Channel Islands\", \"Chongqing\", \"Curacao\", \"Falkland Islands (Malvinas)\", \"Faroe Islands\", \"French Guiana\", \"French Polynesia\", \"Fujian\", \"Gansu\", \"Gibraltar\", \"Greenland\", \"Guadeloupe\", \"Guangdong\", \"Guangxi\", \"Guizhou\", \"Hainan\", \"Hebei\", \"Heilongjiang\", \"Henan\", \"Hong Kong\", \"Hubei\", \"Hunan\", \"Inner Mongolia\", \"Isle of Man\", \"Jiangsu\", \"Jiangxi\", \"Jilin\", \"Liaoning\", \"Macau\", \"Manitoba\", \"Martinique\", \"Mayotte\", \"Montserrat\", \"New Brunswick\", \"New Caledonia\", \"New South Wales\", \"Newfoundland and Labrador\", \"Ningxia\", \"Northern Territory\", \"Northwest Territories\", \"Nova Scotia\", \"Ontario\", \"Prince Edward Island\", \"Qinghai\", \"Quebec\", \"Queensland\", \"Reunion\", \"Saint Barthelemy\", \"Saint Pierre and Miquelon\", \"Saskatchewan\", \"Shaanxi\", \"Shandong\", \"Shanghai\", \"Shanxi\", \"Sichuan\", \"Sint Maarten\", \"South Australia\", \"St Martin\", \"Tasmania\", \"Tianjin\", \"Tibet\", \"Turks and Caicos Islands\", \"Victoria\", \"Western Australia\", \"Xinjiang\", \"Yukon\", \"Yunnan\", \"Zhejiang\", \"Afghanistan\", \"Albania\", \"Algeria\", \"Andorra\", \"Angola\", \"Antigua and Barbuda\", \"Argentina\", \"Armenia\", \"Australia\", \"Austria\", \"Azerbaijan\", \"Bahamas\", \"Bahrain\", \"Bangladesh\", \"Barbados\", \"Belarus\", \"Belgium\", \"Belize\", \"Benin\", \"Bhutan\", \"Bolivia\", \"Bosnia and Herzegovina\", \"Botswana\", \"Brazil\", \"Brunei\", \"Bulgaria\", \"Burkina Faso\", \"Burma\", \"Burundi\", \"Cabo Verde\", \"Cambodia\", \"Cameroon\", \"Canada\", \"Central African Republic\", \"Chad\", \"Chile\", \"China\", \"Colombia\", \"Comoros\", \"Congo (Brazzaville)\", \"Congo (Kinshasa)\", \"Costa Rica\", \"Cote d'Ivoire\", \"Croatia\", \"Cuba\", \"Cyprus\", \"Czechia\", \"Denmark\", \"Djibouti\", \"Dominica\", \"Dominican Republic\", \"Ecuador\", \"Egypt\", \"El Salvador\", \"Equatorial Guinea\", \"Eritrea\", \"Estonia\", \"Eswatini\", \"Ethiopia\", \"Fiji\", \"Finland\", \"France\", \"Gabon\", \"Gambia\", \"Georgia\", \"Germany\", \"Ghana\", \"Greece\", \"Greenland\", \"Grenada\", \"Guatemala\", \"Guinea\", \"Guinea-Bissau\", \"Guyana\", \"Haiti\", \"Holy See\", \"Honduras\", \"Hungary\", \"Iceland\", \"India\", \"Indonesia\", \"Iran\", \"Iraq\", \"Ireland\", \"Israel\", \"Italy\", \"Jamaica\", \"Japan\", \"Jordan\", \"Kazakhstan\", \"Kenya\", \"Kosovo\", \"Kuwait\", \"Kyrgyzstan\", \"Laos\", \"Latvia\", \"Lebanon\", \"Liberia\", \"Libya\", \"Liechtenstein\", \"Lithuania\", \"Luxembourg\", \"Madagascar\", \"Malawi\", \"Malaysia\", \"Maldives\", \"Mali\", \"Malta\", \"Mauritania\", \"Mauritius\", \"Mexico\", \"Moldova\", \"Monaco\", \"Mongolia\", \"Montenegro\", \"Morocco\", \"Mozambique\", \"Namibia\", \"Nepal\", \"Netherlands\", \"New Zealand\", \"Nicaragua\", \"Niger\", \"Nigeria\", \"North Macedonia\", \"Norway\", \"Oman\", \"Pakistan\", \"Panama\", \"Papua New Guinea\", \"Paraguay\", \"Peru\", \"Philippines\", \"Poland\", \"Portugal\", \"Qatar\", \"Romania\", \"Russia\", \"Rwanda\", \"Saint Kitts and Nevis\", \"Saint Lucia\", \"Saint Vincent and the Grenadines\", \"San Marino\", \"Sao Tome and Principe\", \"Saudi Arabia\", \"Senegal\", \"Serbia\", \"Seychelles\", \"Sierra Leone\", \"Singapore\", \"Slovakia\", \"Slovenia\", \"Somalia\", \"South Africa\", \"South Korea\", \"South Sudan\", \"Spain\", \"Sri Lanka\", \"Sudan\", \"Suriname\", \"Sweden\", \"Switzerland\", \"Syria\", \"Taiwan*\", \"Tajikistan\", \"Tanzania\", \"Thailand\", \"Timor-Leste\", \"Togo\", \"Trinidad and Tobago\", \"Tunisia\", \"Turkey\", \"US\", \"Uganda\", \"Ukraine\", \"United Arab Emirates\", \"United Kingdom\", \"Uruguay\", \"Uzbekistan\", \"Venezuela\", \"Vietnam\", \"West Bank and Gaza\", \"Western Sahara\", \"Yemen\", \"Zambia\", \"Zimbabwe\"], \"name\": \"\", \"parents\": [\"Afghanistan\", \"Albania\", \"Algeria\", \"Andorra\", \"Angola\", \"Antigua and Barbuda\", \"Argentina\", \"Armenia\", \"Austria\", \"Azerbaijan\", \"Bahamas\", \"Bahrain\", \"Bangladesh\", \"Barbados\", \"Belarus\", \"Belgium\", \"Belize\", \"Benin\", \"Bhutan\", \"Bolivia\", \"Bosnia and Herzegovina\", \"Botswana\", \"Brazil\", \"Brunei\", \"Bulgaria\", \"Burkina Faso\", \"Burma\", \"Burundi\", \"Cabo Verde\", \"Cambodia\", \"Cameroon\", \"Central African Republic\", \"Chad\", \"Chile\", \"Colombia\", \"Comoros\", \"Congo (Brazzaville)\", \"Congo (Kinshasa)\", \"Costa Rica\", \"Cote d'Ivoire\", \"Croatia\", \"Cuba\", \"Cyprus\", \"Czechia\", \"Denmark\", \"Djibouti\", \"Dominica\", \"Dominican Republic\", \"Ecuador\", \"Egypt\", \"El Salvador\", \"Equatorial Guinea\", \"Eritrea\", \"Estonia\", \"Eswatini\", \"Ethiopia\", \"Fiji\", \"Finland\", \"France\", \"Gabon\", \"Gambia\", \"Georgia\", \"Germany\", \"Ghana\", \"Greece\", \"Grenada\", \"Guatemala\", \"Guinea\", \"Guinea-Bissau\", \"Guyana\", \"Haiti\", \"Holy See\", \"Honduras\", \"Hungary\", \"Iceland\", \"India\", \"Indonesia\", \"Iran\", \"Iraq\", \"Ireland\", \"Israel\", \"Italy\", \"Jamaica\", \"Japan\", \"Jordan\", \"Kazakhstan\", \"Kenya\", \"Kosovo\", \"Kuwait\", \"Kyrgyzstan\", \"Laos\", \"Latvia\", \"Lebanon\", \"Liberia\", \"Libya\", \"Liechtenstein\", \"Lithuania\", \"Luxembourg\", \"Madagascar\", \"Malawi\", \"Malaysia\", \"Maldives\", \"Mali\", \"Malta\", \"Mauritania\", \"Mauritius\", \"Mexico\", \"Moldova\", \"Monaco\", \"Mongolia\", \"Montenegro\", \"Morocco\", \"Mozambique\", \"Namibia\", \"Nepal\", \"Netherlands\", \"New Zealand\", \"Nicaragua\", \"Niger\", \"Nigeria\", \"North Macedonia\", \"Norway\", \"Oman\", \"Pakistan\", \"Panama\", \"Papua New Guinea\", \"Paraguay\", \"Peru\", \"Philippines\", \"Poland\", \"Portugal\", \"Qatar\", \"Romania\", \"Russia\", \"Rwanda\", \"Saint Kitts and Nevis\", \"Saint Lucia\", \"Saint Vincent and the Grenadines\", \"San Marino\", \"Sao Tome and Principe\", \"Saudi Arabia\", \"Senegal\", \"Serbia\", \"Seychelles\", \"Sierra Leone\", \"Singapore\", \"Slovakia\", \"Slovenia\", \"Somalia\", \"South Africa\", \"South Korea\", \"South Sudan\", \"Spain\", \"Sri Lanka\", \"Sudan\", \"Suriname\", \"Sweden\", \"Switzerland\", \"Syria\", \"Taiwan*\", \"Tajikistan\", \"Tanzania\", \"Thailand\", \"Timor-Leste\", \"Togo\", \"Trinidad and Tobago\", \"Tunisia\", \"Turkey\", \"US\", \"Uganda\", \"Ukraine\", \"United Arab Emirates\", \"United Kingdom\", \"Uruguay\", \"Uzbekistan\", \"Venezuela\", \"Vietnam\", \"West Bank and Gaza\", \"Western Sahara\", \"Yemen\", \"Zambia\", \"Zimbabwe\", \"Canada\", \"United Kingdom\", \"China\", \"Netherlands\", \"Australia\", \"China\", \"United Kingdom\", \"Canada\", \"United Kingdom\", \"United Kingdom\", \"United Kingdom\", \"China\", \"Netherlands\", \"United Kingdom\", \"Denmark\", \"France\", \"France\", \"China\", \"China\", \"United Kingdom\", \"Greenland\", \"France\", \"China\", \"China\", \"China\", \"China\", \"China\", \"China\", \"China\", \"China\", \"China\", \"China\", \"China\", \"United Kingdom\", \"China\", \"China\", \"China\", \"China\", \"China\", \"Canada\", \"France\", \"France\", \"United Kingdom\", \"Canada\", \"France\", \"Australia\", \"Canada\", \"China\", \"Australia\", \"Canada\", \"Canada\", \"Canada\", \"Canada\", \"China\", \"Canada\", \"Australia\", \"France\", \"France\", \"France\", \"Canada\", \"China\", \"China\", \"China\", \"China\", \"China\", \"Netherlands\", \"Australia\", \"France\", \"Australia\", \"China\", \"China\", \"United Kingdom\", \"Australia\", \"Australia\", \"China\", \"Canada\", \"China\", \"China\", \"\", \"\", \"\", \"\", \"\", \"\", \"\", \"\", \"\", \"\", \"\", \"\", \"\", \"\", \"\", \"\", \"\", \"\", \"\", \"\", \"\", \"\", \"\", \"\", \"\", \"\", \"\", \"\", \"\", \"\", \"\", \"\", \"\", \"\", \"\", \"\", \"\", \"\", \"\", \"\", \"\", \"\", \"\", \"\", \"\", \"\", \"\", \"\", \"\", \"\", \"\", \"\", \"\", \"\", \"\", \"\", \"\", \"\", \"\", \"\", \"\", \"\", \"\", \"\", \"\", \"\", \"\", \"\", \"\", \"\", \"\", \"\", \"\", \"\", \"\", \"\", \"\", \"\", \"\", \"\", \"\", \"\", \"\", \"\", \"\", \"\", \"\", \"\", \"\", \"\", \"\", \"\", \"\", \"\", \"\", \"\", \"\", \"\", \"\", \"\", \"\", \"\", \"\", \"\", \"\", \"\", \"\", \"\", \"\", \"\", \"\", \"\", \"\", \"\", \"\", \"\", \"\", \"\", \"\", \"\", \"\", \"\", \"\", \"\", \"\", \"\", \"\", \"\", \"\", \"\", \"\", \"\", \"\", \"\", \"\", \"\", \"\", \"\", \"\", \"\", \"\", \"\", \"\", \"\", \"\", \"\", \"\", \"\", \"\", \"\", \"\", \"\", \"\", \"\", \"\", \"\", \"\", \"\", \"\", \"\", \"\", \"\", \"\", \"\", \"\", \"\", \"\", \"\", \"\", \"\", \"\", \"\", \"\", \"\", \"\", \"\", \"\", \"\", \"\", \"\", \"\", \"\", \"\", \"\", \"\", \"\"], \"textinfo\": \"label+text+value\", \"type\": \"treemap\", \"values\": [4033, 856, 5558, 754, 43, 25, 5776, 3175, 15833, 2422, 92, 4774, 13770, 84, 22052, 52596, 18, 284, 7, 2437, 2090, 23, 156061, 141, 1921, 748, 178, 15, 236, 122, 2274, 143, 322, 27219, 10495, 11, 274, 937, 780, 1667, 2176, 1754, 892, 8095, 10319, 1189, 16, 9882, 29071, 8964, 784, 439, 39, 1733, 163, 210, 18, 5880, 174758, 661, 20, 626, 171324, 4263, 2710, 21, 967, 2042, 641, 94, 151, 12, 1830, 3213, 1801, 62808, 13645, 106220, 2679, 22760, 16454, 218268, 490, 15663, 522, 4975, 649, 862, 7623, 931, 19, 930, 809, 199, 64, 82, 1444, 3877, 193, 56, 6589, 790, 692, 490, 8, 332, 33460, 4867, 96, 42, 324, 5910, 87, 16, 110, 42382, 1494, 16, 815, 4151, 1622, 8099, 3224, 28736, 8282, 8, 689, 65015, 10610, 15651, 27406, 21331, 15131, 198676, 280, 15, 18, 17, 637, 208, 37136, 1634, 10032, 11, 291, 22460, 1455, 1454, 997, 9420, 10874, 120, 223578, 847, 1164, 10, 25921, 30251, 47, 440, 612, 509, 3004, 24, 153, 116, 1032, 137115, 1309550, 116, 14710, 17417, 215260, 702, 2349, 402, 288, 375, 6, 34, 252, 35, 6157, 3, 991, 101, 107, 593, 118, 2330, 7, 81, 545, 579, 16, 13, 187, 141, 60, 356, 139, 146, 11, 154, 1589, 254, 147, 168, 328, 944, 1276, 1044, 68129, 1019, 201, 329, 653, 937, 124, 146, 45, 284, 186, 988, 11, 120, 18, 3053, 261, 75, 29, 5, 1011, 21148, 27, 18, 36997, 1045, 431, 6, 1, 553, 308, 788, 659, 198, 561, 76, 439, 39, 227, 191, 1, 12, 1487, 552, 76, 11, 185, 1268, 4033, 856, 5558, 754, 43, 25, 5776, 3175, 6939, 15833, 2422, 92, 4774, 13770, 84, 22052, 52596, 18, 284, 7, 2437, 2090, 23, 156061, 141, 1921, 748, 178, 15, 236, 122, 2274, 68904, 143, 322, 27219, 83990, 10495, 11, 274, 937, 780, 1667, 2176, 1754, 892, 8095, 10506, 1189, 16, 9882, 29071, 8964, 784, 439, 39, 1733, 163, 210, 18, 5880, 176782, 661, 20, 626, 171324, 4263, 2710, 11, 21, 967, 2042, 641, 94, 151, 12, 1830, 3213, 1801, 62808, 13645, 106220, 2679, 22760, 16454, 218268, 490, 15663, 522, 4975, 649, 862, 7623, 931, 19, 930, 809, 199, 64, 82, 1444, 3877, 193, 56, 6589, 790, 692, 490, 8, 332, 33460, 4867, 96, 42, 324, 5910, 87, 16, 110, 42575, 1494, 16, 815, 4151, 1622, 8099, 3224, 28736, 8282, 8, 689, 65015, 10610, 15651, 27406, 21331, 15131, 198676, 280, 15, 18, 17, 637, 208, 37136, 1634, 10032, 11, 291, 22460, 1455, 1454, 997, 9420, 10874, 120, 223578, 847, 1164, 10, 25921, 30251, 47, 440, 612, 509, 3004, 24, 153, 116, 1032, 137115, 1309550, 116, 14710, 17417, 216525, 702, 2349, 402, 288, 375, 6, 34, 252, 35]}],\n",
       "                        {\"height\": 700, \"legend\": {\"tracegroupgap\": 0}, \"template\": {\"data\": {\"bar\": [{\"error_x\": {\"color\": \"#2a3f5f\"}, \"error_y\": {\"color\": \"#2a3f5f\"}, \"marker\": {\"line\": {\"color\": \"#E5ECF6\", \"width\": 0.5}}, \"type\": \"bar\"}], \"barpolar\": [{\"marker\": {\"line\": {\"color\": \"#E5ECF6\", \"width\": 0.5}}, \"type\": \"barpolar\"}], \"carpet\": [{\"aaxis\": {\"endlinecolor\": \"#2a3f5f\", \"gridcolor\": \"white\", \"linecolor\": \"white\", \"minorgridcolor\": \"white\", \"startlinecolor\": \"#2a3f5f\"}, \"baxis\": {\"endlinecolor\": \"#2a3f5f\", \"gridcolor\": \"white\", \"linecolor\": \"white\", \"minorgridcolor\": \"white\", \"startlinecolor\": \"#2a3f5f\"}, \"type\": \"carpet\"}], \"choropleth\": [{\"colorbar\": {\"outlinewidth\": 0, \"ticks\": \"\"}, \"type\": \"choropleth\"}], \"contour\": [{\"colorbar\": {\"outlinewidth\": 0, \"ticks\": \"\"}, \"colorscale\": [[0.0, \"#0d0887\"], [0.1111111111111111, \"#46039f\"], [0.2222222222222222, \"#7201a8\"], [0.3333333333333333, \"#9c179e\"], [0.4444444444444444, \"#bd3786\"], [0.5555555555555556, \"#d8576b\"], [0.6666666666666666, \"#ed7953\"], [0.7777777777777778, \"#fb9f3a\"], [0.8888888888888888, \"#fdca26\"], [1.0, \"#f0f921\"]], \"type\": \"contour\"}], \"contourcarpet\": [{\"colorbar\": {\"outlinewidth\": 0, \"ticks\": \"\"}, \"type\": \"contourcarpet\"}], \"heatmap\": [{\"colorbar\": {\"outlinewidth\": 0, \"ticks\": \"\"}, \"colorscale\": [[0.0, \"#0d0887\"], [0.1111111111111111, \"#46039f\"], [0.2222222222222222, \"#7201a8\"], [0.3333333333333333, \"#9c179e\"], [0.4444444444444444, \"#bd3786\"], [0.5555555555555556, \"#d8576b\"], [0.6666666666666666, \"#ed7953\"], [0.7777777777777778, \"#fb9f3a\"], [0.8888888888888888, \"#fdca26\"], [1.0, \"#f0f921\"]], \"type\": \"heatmap\"}], \"heatmapgl\": [{\"colorbar\": {\"outlinewidth\": 0, \"ticks\": \"\"}, \"colorscale\": [[0.0, \"#0d0887\"], [0.1111111111111111, \"#46039f\"], [0.2222222222222222, \"#7201a8\"], [0.3333333333333333, \"#9c179e\"], [0.4444444444444444, \"#bd3786\"], [0.5555555555555556, \"#d8576b\"], [0.6666666666666666, \"#ed7953\"], [0.7777777777777778, \"#fb9f3a\"], [0.8888888888888888, \"#fdca26\"], [1.0, \"#f0f921\"]], \"type\": \"heatmapgl\"}], \"histogram\": [{\"marker\": {\"colorbar\": {\"outlinewidth\": 0, \"ticks\": \"\"}}, \"type\": \"histogram\"}], \"histogram2d\": [{\"colorbar\": {\"outlinewidth\": 0, \"ticks\": \"\"}, \"colorscale\": [[0.0, \"#0d0887\"], [0.1111111111111111, \"#46039f\"], [0.2222222222222222, \"#7201a8\"], [0.3333333333333333, \"#9c179e\"], [0.4444444444444444, \"#bd3786\"], [0.5555555555555556, \"#d8576b\"], [0.6666666666666666, \"#ed7953\"], [0.7777777777777778, \"#fb9f3a\"], [0.8888888888888888, \"#fdca26\"], [1.0, \"#f0f921\"]], \"type\": \"histogram2d\"}], \"histogram2dcontour\": [{\"colorbar\": {\"outlinewidth\": 0, \"ticks\": \"\"}, \"colorscale\": [[0.0, \"#0d0887\"], [0.1111111111111111, \"#46039f\"], [0.2222222222222222, \"#7201a8\"], [0.3333333333333333, \"#9c179e\"], [0.4444444444444444, \"#bd3786\"], [0.5555555555555556, \"#d8576b\"], [0.6666666666666666, \"#ed7953\"], [0.7777777777777778, \"#fb9f3a\"], [0.8888888888888888, \"#fdca26\"], [1.0, \"#f0f921\"]], \"type\": \"histogram2dcontour\"}], \"mesh3d\": [{\"colorbar\": {\"outlinewidth\": 0, \"ticks\": \"\"}, \"type\": \"mesh3d\"}], \"parcoords\": [{\"line\": {\"colorbar\": {\"outlinewidth\": 0, \"ticks\": \"\"}}, \"type\": \"parcoords\"}], \"pie\": [{\"automargin\": true, \"type\": \"pie\"}], \"scatter\": [{\"marker\": {\"colorbar\": {\"outlinewidth\": 0, \"ticks\": \"\"}}, \"type\": \"scatter\"}], \"scatter3d\": [{\"line\": {\"colorbar\": {\"outlinewidth\": 0, \"ticks\": \"\"}}, \"marker\": {\"colorbar\": {\"outlinewidth\": 0, \"ticks\": \"\"}}, \"type\": \"scatter3d\"}], \"scattercarpet\": [{\"marker\": {\"colorbar\": {\"outlinewidth\": 0, \"ticks\": \"\"}}, \"type\": \"scattercarpet\"}], \"scattergeo\": [{\"marker\": {\"colorbar\": {\"outlinewidth\": 0, \"ticks\": \"\"}}, \"type\": \"scattergeo\"}], \"scattergl\": [{\"marker\": {\"colorbar\": {\"outlinewidth\": 0, \"ticks\": \"\"}}, \"type\": \"scattergl\"}], \"scattermapbox\": [{\"marker\": {\"colorbar\": {\"outlinewidth\": 0, \"ticks\": \"\"}}, \"type\": \"scattermapbox\"}], \"scatterpolar\": [{\"marker\": {\"colorbar\": {\"outlinewidth\": 0, \"ticks\": \"\"}}, \"type\": \"scatterpolar\"}], \"scatterpolargl\": [{\"marker\": {\"colorbar\": {\"outlinewidth\": 0, \"ticks\": \"\"}}, \"type\": \"scatterpolargl\"}], \"scatterternary\": [{\"marker\": {\"colorbar\": {\"outlinewidth\": 0, \"ticks\": \"\"}}, \"type\": \"scatterternary\"}], \"surface\": [{\"colorbar\": {\"outlinewidth\": 0, \"ticks\": \"\"}, \"colorscale\": [[0.0, \"#0d0887\"], [0.1111111111111111, \"#46039f\"], [0.2222222222222222, \"#7201a8\"], [0.3333333333333333, \"#9c179e\"], [0.4444444444444444, \"#bd3786\"], [0.5555555555555556, \"#d8576b\"], [0.6666666666666666, \"#ed7953\"], [0.7777777777777778, \"#fb9f3a\"], [0.8888888888888888, \"#fdca26\"], [1.0, \"#f0f921\"]], \"type\": \"surface\"}], \"table\": [{\"cells\": {\"fill\": {\"color\": \"#EBF0F8\"}, \"line\": {\"color\": \"white\"}}, \"header\": {\"fill\": {\"color\": \"#C8D4E3\"}, \"line\": {\"color\": \"white\"}}, \"type\": \"table\"}]}, \"layout\": {\"annotationdefaults\": {\"arrowcolor\": \"#2a3f5f\", \"arrowhead\": 0, \"arrowwidth\": 1}, \"coloraxis\": {\"colorbar\": {\"outlinewidth\": 0, \"ticks\": \"\"}}, \"colorscale\": {\"diverging\": [[0, \"#8e0152\"], [0.1, \"#c51b7d\"], [0.2, \"#de77ae\"], [0.3, \"#f1b6da\"], [0.4, \"#fde0ef\"], [0.5, \"#f7f7f7\"], [0.6, \"#e6f5d0\"], [0.7, \"#b8e186\"], [0.8, \"#7fbc41\"], [0.9, \"#4d9221\"], [1, \"#276419\"]], \"sequential\": [[0.0, \"#0d0887\"], [0.1111111111111111, \"#46039f\"], [0.2222222222222222, \"#7201a8\"], [0.3333333333333333, \"#9c179e\"], [0.4444444444444444, \"#bd3786\"], [0.5555555555555556, \"#d8576b\"], [0.6666666666666666, \"#ed7953\"], [0.7777777777777778, \"#fb9f3a\"], [0.8888888888888888, \"#fdca26\"], [1.0, \"#f0f921\"]], \"sequentialminus\": [[0.0, \"#0d0887\"], [0.1111111111111111, \"#46039f\"], [0.2222222222222222, \"#7201a8\"], [0.3333333333333333, \"#9c179e\"], [0.4444444444444444, \"#bd3786\"], [0.5555555555555556, \"#d8576b\"], [0.6666666666666666, \"#ed7953\"], [0.7777777777777778, \"#fb9f3a\"], [0.8888888888888888, \"#fdca26\"], [1.0, \"#f0f921\"]]}, \"colorway\": [\"#636efa\", \"#EF553B\", \"#00cc96\", \"#ab63fa\", \"#FFA15A\", \"#19d3f3\", \"#FF6692\", \"#B6E880\", \"#FF97FF\", \"#FECB52\"], \"font\": {\"color\": \"#2a3f5f\"}, \"geo\": {\"bgcolor\": \"white\", \"lakecolor\": \"white\", \"landcolor\": \"#E5ECF6\", \"showlakes\": true, \"showland\": true, \"subunitcolor\": \"white\"}, \"hoverlabel\": {\"align\": \"left\"}, \"hovermode\": \"closest\", \"mapbox\": {\"style\": \"light\"}, \"paper_bgcolor\": \"white\", \"plot_bgcolor\": \"#E5ECF6\", \"polar\": {\"angularaxis\": {\"gridcolor\": \"white\", \"linecolor\": \"white\", \"ticks\": \"\"}, \"bgcolor\": \"#E5ECF6\", \"radialaxis\": {\"gridcolor\": \"white\", \"linecolor\": \"white\", \"ticks\": \"\"}}, \"scene\": {\"xaxis\": {\"backgroundcolor\": \"#E5ECF6\", \"gridcolor\": \"white\", \"gridwidth\": 2, \"linecolor\": \"white\", \"showbackground\": true, \"ticks\": \"\", \"zerolinecolor\": \"white\"}, \"yaxis\": {\"backgroundcolor\": \"#E5ECF6\", \"gridcolor\": \"white\", \"gridwidth\": 2, \"linecolor\": \"white\", \"showbackground\": true, \"ticks\": \"\", \"zerolinecolor\": \"white\"}, \"zaxis\": {\"backgroundcolor\": \"#E5ECF6\", \"gridcolor\": \"white\", \"gridwidth\": 2, \"linecolor\": \"white\", \"showbackground\": true, \"ticks\": \"\", \"zerolinecolor\": \"white\"}}, \"shapedefaults\": {\"line\": {\"color\": \"#2a3f5f\"}}, \"ternary\": {\"aaxis\": {\"gridcolor\": \"white\", \"linecolor\": \"white\", \"ticks\": \"\"}, \"baxis\": {\"gridcolor\": \"white\", \"linecolor\": \"white\", \"ticks\": \"\"}, \"bgcolor\": \"#E5ECF6\", \"caxis\": {\"gridcolor\": \"white\", \"linecolor\": \"white\", \"ticks\": \"\"}}, \"title\": {\"x\": 0.05}, \"xaxis\": {\"automargin\": true, \"gridcolor\": \"white\", \"linecolor\": \"white\", \"ticks\": \"\", \"title\": {\"standoff\": 15}, \"zerolinecolor\": \"white\", \"zerolinewidth\": 2}, \"yaxis\": {\"automargin\": true, \"gridcolor\": \"white\", \"linecolor\": \"white\", \"ticks\": \"\", \"title\": {\"standoff\": 15}, \"zerolinecolor\": \"white\", \"zerolinewidth\": 2}}}, \"title\": {\"text\": \"Number of Confirmed Cases\"}, \"treemapcolorway\": [\"rgb(27,158,119)\", \"rgb(217,95,2)\", \"rgb(117,112,179)\", \"rgb(231,41,138)\", \"rgb(102,166,30)\", \"rgb(230,171,2)\", \"rgb(166,118,29)\", \"rgb(102,102,102)\"]},\n",
       "                        {\"responsive\": true}\n",
       "                    ).then(function(){\n",
       "                            \n",
       "var gd = document.getElementById('7bf6206e-0c18-40a6-8413-c873b5ad46e1');\n",
       "var x = new MutationObserver(function (mutations, observer) {{\n",
       "        var display = window.getComputedStyle(gd).display;\n",
       "        if (!display || display === 'none') {{\n",
       "            console.log([gd, 'removed!']);\n",
       "            Plotly.purge(gd);\n",
       "            observer.disconnect();\n",
       "        }}\n",
       "}});\n",
       "\n",
       "// Listen for the removal of the full notebook cells\n",
       "var notebookContainer = gd.closest('#notebook-container');\n",
       "if (notebookContainer) {{\n",
       "    x.observe(notebookContainer, {childList: true});\n",
       "}}\n",
       "\n",
       "// Listen for the clearing of the current output cell\n",
       "var outputEl = gd.closest('.output');\n",
       "if (outputEl) {{\n",
       "    x.observe(outputEl, {childList: true});\n",
       "}}\n",
       "\n",
       "                        })\n",
       "                };\n",
       "                });\n",
       "            </script>\n",
       "        </div>"
      ]
     },
     "metadata": {},
     "output_type": "display_data"
    },
    {
     "data": {
      "application/vnd.plotly.v1+json": {
       "config": {
        "plotlyServerURL": "https://plot.ly"
       },
       "data": [
        {
         "branchvalues": "total",
         "domain": {
          "x": [
           0,
           1
          ],
          "y": [
           0,
           1
          ]
         },
         "hovertemplate": "labels=%{label}<br>Deaths=%{value}<br>parent=%{parent}<br>id=%{id}<extra></extra>",
         "ids": [
          "Afghanistan/",
          "Albania/",
          "Algeria/",
          "Andorra/",
          "Angola/",
          "Antigua and Barbuda/",
          "Argentina/",
          "Armenia/",
          "Austria/",
          "Azerbaijan/",
          "Bahamas/",
          "Bahrain/",
          "Bangladesh/",
          "Barbados/",
          "Belarus/",
          "Belgium/",
          "Belize/",
          "Benin/",
          "Bhutan/",
          "Bolivia/",
          "Bosnia and Herzegovina/",
          "Botswana/",
          "Brazil/",
          "Brunei/",
          "Bulgaria/",
          "Burkina Faso/",
          "Burma/",
          "Burundi/",
          "Cabo Verde/",
          "Cambodia/",
          "Cameroon/",
          "Central African Republic/",
          "Chad/",
          "Chile/",
          "Colombia/",
          "Comoros/",
          "Congo (Brazzaville)/",
          "Congo (Kinshasa)/",
          "Costa Rica/",
          "Cote d'Ivoire/",
          "Croatia/",
          "Cuba/",
          "Cyprus/",
          "Czechia/",
          "Denmark/",
          "Djibouti/",
          "Dominica/",
          "Dominican Republic/",
          "Ecuador/",
          "Egypt/",
          "El Salvador/",
          "Equatorial Guinea/",
          "Eritrea/",
          "Estonia/",
          "Eswatini/",
          "Ethiopia/",
          "Fiji/",
          "Finland/",
          "France/",
          "Gabon/",
          "Gambia/",
          "Georgia/",
          "Germany/",
          "Ghana/",
          "Greece/",
          "Grenada/",
          "Guatemala/",
          "Guinea/",
          "Guinea-Bissau/",
          "Guyana/",
          "Haiti/",
          "Holy See/",
          "Honduras/",
          "Hungary/",
          "Iceland/",
          "India/",
          "Indonesia/",
          "Iran/",
          "Iraq/",
          "Ireland/",
          "Israel/",
          "Italy/",
          "Jamaica/",
          "Japan/",
          "Jordan/",
          "Kazakhstan/",
          "Kenya/",
          "Kosovo/",
          "Kuwait/",
          "Kyrgyzstan/",
          "Laos/",
          "Latvia/",
          "Lebanon/",
          "Liberia/",
          "Libya/",
          "Liechtenstein/",
          "Lithuania/",
          "Luxembourg/",
          "Madagascar/",
          "Malawi/",
          "Malaysia/",
          "Maldives/",
          "Mali/",
          "Malta/",
          "Mauritania/",
          "Mauritius/",
          "Mexico/",
          "Moldova/",
          "Monaco/",
          "Mongolia/",
          "Montenegro/",
          "Morocco/",
          "Mozambique/",
          "Namibia/",
          "Nepal/",
          "Netherlands/",
          "New Zealand/",
          "Nicaragua/",
          "Niger/",
          "Nigeria/",
          "North Macedonia/",
          "Norway/",
          "Oman/",
          "Pakistan/",
          "Panama/",
          "Papua New Guinea/",
          "Paraguay/",
          "Peru/",
          "Philippines/",
          "Poland/",
          "Portugal/",
          "Qatar/",
          "Romania/",
          "Russia/",
          "Rwanda/",
          "Saint Kitts and Nevis/",
          "Saint Lucia/",
          "Saint Vincent and the Grenadines/",
          "San Marino/",
          "Sao Tome and Principe/",
          "Saudi Arabia/",
          "Senegal/",
          "Serbia/",
          "Seychelles/",
          "Sierra Leone/",
          "Singapore/",
          "Slovakia/",
          "Slovenia/",
          "Somalia/",
          "South Africa/",
          "South Korea/",
          "South Sudan/",
          "Spain/",
          "Sri Lanka/",
          "Sudan/",
          "Suriname/",
          "Sweden/",
          "Switzerland/",
          "Syria/",
          "Taiwan*/",
          "Tajikistan/",
          "Tanzania/",
          "Thailand/",
          "Timor-Leste/",
          "Togo/",
          "Trinidad and Tobago/",
          "Tunisia/",
          "Turkey/",
          "US/",
          "Uganda/",
          "Ukraine/",
          "United Arab Emirates/",
          "United Kingdom/",
          "Uruguay/",
          "Uzbekistan/",
          "Venezuela/",
          "Vietnam/",
          "West Bank and Gaza/",
          "Western Sahara/",
          "Yemen/",
          "Zambia/",
          "Zimbabwe/",
          "Canada/Alberta",
          "United Kingdom/Anguilla",
          "China/Anhui",
          "Netherlands/Aruba",
          "Australia/Australian Capital Territory",
          "China/Beijing",
          "United Kingdom/Bermuda",
          "Canada/British Columbia",
          "United Kingdom/British Virgin Islands",
          "United Kingdom/Cayman Islands",
          "United Kingdom/Channel Islands",
          "China/Chongqing",
          "Netherlands/Curacao",
          "United Kingdom/Falkland Islands (Malvinas)",
          "Denmark/Faroe Islands",
          "France/French Guiana",
          "France/French Polynesia",
          "China/Fujian",
          "China/Gansu",
          "United Kingdom/Gibraltar",
          "Greenland/Greenland",
          "France/Guadeloupe",
          "China/Guangdong",
          "China/Guangxi",
          "China/Guizhou",
          "China/Hainan",
          "China/Hebei",
          "China/Heilongjiang",
          "China/Henan",
          "China/Hong Kong",
          "China/Hubei",
          "China/Hunan",
          "China/Inner Mongolia",
          "United Kingdom/Isle of Man",
          "China/Jiangsu",
          "China/Jiangxi",
          "China/Jilin",
          "China/Liaoning",
          "China/Macau",
          "Canada/Manitoba",
          "France/Martinique",
          "France/Mayotte",
          "United Kingdom/Montserrat",
          "Canada/New Brunswick",
          "France/New Caledonia",
          "Australia/New South Wales",
          "Canada/Newfoundland and Labrador",
          "China/Ningxia",
          "Australia/Northern Territory",
          "Canada/Northwest Territories",
          "Canada/Nova Scotia",
          "Canada/Ontario",
          "Canada/Prince Edward Island",
          "China/Qinghai",
          "Canada/Quebec",
          "Australia/Queensland",
          "France/Reunion",
          "France/Saint Barthelemy",
          "France/Saint Pierre and Miquelon",
          "Canada/Saskatchewan",
          "China/Shaanxi",
          "China/Shandong",
          "China/Shanghai",
          "China/Shanxi",
          "China/Sichuan",
          "Netherlands/Sint Maarten",
          "Australia/South Australia",
          "France/St Martin",
          "Australia/Tasmania",
          "China/Tianjin",
          "China/Tibet",
          "United Kingdom/Turks and Caicos Islands",
          "Australia/Victoria",
          "Australia/Western Australia",
          "China/Xinjiang",
          "Canada/Yukon",
          "China/Yunnan",
          "China/Zhejiang",
          "Afghanistan",
          "Albania",
          "Algeria",
          "Andorra",
          "Angola",
          "Antigua and Barbuda",
          "Argentina",
          "Armenia",
          "Australia",
          "Austria",
          "Azerbaijan",
          "Bahamas",
          "Bahrain",
          "Bangladesh",
          "Barbados",
          "Belarus",
          "Belgium",
          "Belize",
          "Benin",
          "Bhutan",
          "Bolivia",
          "Bosnia and Herzegovina",
          "Botswana",
          "Brazil",
          "Brunei",
          "Bulgaria",
          "Burkina Faso",
          "Burma",
          "Burundi",
          "Cabo Verde",
          "Cambodia",
          "Cameroon",
          "Canada",
          "Central African Republic",
          "Chad",
          "Chile",
          "China",
          "Colombia",
          "Comoros",
          "Congo (Brazzaville)",
          "Congo (Kinshasa)",
          "Costa Rica",
          "Cote d'Ivoire",
          "Croatia",
          "Cuba",
          "Cyprus",
          "Czechia",
          "Denmark",
          "Djibouti",
          "Dominica",
          "Dominican Republic",
          "Ecuador",
          "Egypt",
          "El Salvador",
          "Equatorial Guinea",
          "Eritrea",
          "Estonia",
          "Eswatini",
          "Ethiopia",
          "Fiji",
          "Finland",
          "France",
          "Gabon",
          "Gambia",
          "Georgia",
          "Germany",
          "Ghana",
          "Greece",
          "Greenland",
          "Grenada",
          "Guatemala",
          "Guinea",
          "Guinea-Bissau",
          "Guyana",
          "Haiti",
          "Holy See",
          "Honduras",
          "Hungary",
          "Iceland",
          "India",
          "Indonesia",
          "Iran",
          "Iraq",
          "Ireland",
          "Israel",
          "Italy",
          "Jamaica",
          "Japan",
          "Jordan",
          "Kazakhstan",
          "Kenya",
          "Kosovo",
          "Kuwait",
          "Kyrgyzstan",
          "Laos",
          "Latvia",
          "Lebanon",
          "Liberia",
          "Libya",
          "Liechtenstein",
          "Lithuania",
          "Luxembourg",
          "Madagascar",
          "Malawi",
          "Malaysia",
          "Maldives",
          "Mali",
          "Malta",
          "Mauritania",
          "Mauritius",
          "Mexico",
          "Moldova",
          "Monaco",
          "Mongolia",
          "Montenegro",
          "Morocco",
          "Mozambique",
          "Namibia",
          "Nepal",
          "Netherlands",
          "New Zealand",
          "Nicaragua",
          "Niger",
          "Nigeria",
          "North Macedonia",
          "Norway",
          "Oman",
          "Pakistan",
          "Panama",
          "Papua New Guinea",
          "Paraguay",
          "Peru",
          "Philippines",
          "Poland",
          "Portugal",
          "Qatar",
          "Romania",
          "Russia",
          "Rwanda",
          "Saint Kitts and Nevis",
          "Saint Lucia",
          "Saint Vincent and the Grenadines",
          "San Marino",
          "Sao Tome and Principe",
          "Saudi Arabia",
          "Senegal",
          "Serbia",
          "Seychelles",
          "Sierra Leone",
          "Singapore",
          "Slovakia",
          "Slovenia",
          "Somalia",
          "South Africa",
          "South Korea",
          "South Sudan",
          "Spain",
          "Sri Lanka",
          "Sudan",
          "Suriname",
          "Sweden",
          "Switzerland",
          "Syria",
          "Taiwan*",
          "Tajikistan",
          "Tanzania",
          "Thailand",
          "Timor-Leste",
          "Togo",
          "Trinidad and Tobago",
          "Tunisia",
          "Turkey",
          "US",
          "Uganda",
          "Ukraine",
          "United Arab Emirates",
          "United Kingdom",
          "Uruguay",
          "Uzbekistan",
          "Venezuela",
          "Vietnam",
          "West Bank and Gaza",
          "Western Sahara",
          "Yemen",
          "Zambia",
          "Zimbabwe"
         ],
         "labels": [
          "",
          "",
          "",
          "",
          "",
          "",
          "",
          "",
          "",
          "",
          "",
          "",
          "",
          "",
          "",
          "",
          "",
          "",
          "",
          "",
          "",
          "",
          "",
          "",
          "",
          "",
          "",
          "",
          "",
          "",
          "",
          "",
          "",
          "",
          "",
          "",
          "",
          "",
          "",
          "",
          "",
          "",
          "",
          "",
          "",
          "",
          "",
          "",
          "",
          "",
          "",
          "",
          "",
          "",
          "",
          "",
          "",
          "",
          "",
          "",
          "",
          "",
          "",
          "",
          "",
          "",
          "",
          "",
          "",
          "",
          "",
          "",
          "",
          "",
          "",
          "",
          "",
          "",
          "",
          "",
          "",
          "",
          "",
          "",
          "",
          "",
          "",
          "",
          "",
          "",
          "",
          "",
          "",
          "",
          "",
          "",
          "",
          "",
          "",
          "",
          "",
          "",
          "",
          "",
          "",
          "",
          "",
          "",
          "",
          "",
          "",
          "",
          "",
          "",
          "",
          "",
          "",
          "",
          "",
          "",
          "",
          "",
          "",
          "",
          "",
          "",
          "",
          "",
          "",
          "",
          "",
          "",
          "",
          "",
          "",
          "",
          "",
          "",
          "",
          "",
          "",
          "",
          "",
          "",
          "",
          "",
          "",
          "",
          "",
          "",
          "",
          "",
          "",
          "",
          "",
          "",
          "",
          "",
          "",
          "",
          "",
          "",
          "",
          "",
          "",
          "",
          "",
          "",
          "",
          "",
          "",
          "",
          "",
          "",
          "",
          "",
          "",
          "",
          "",
          "",
          "",
          "",
          "Alberta",
          "Anguilla",
          "Anhui",
          "Aruba",
          "Australian Capital Territory",
          "Beijing",
          "Bermuda",
          "British Columbia",
          "British Virgin Islands",
          "Cayman Islands",
          "Channel Islands",
          "Chongqing",
          "Curacao",
          "Falkland Islands (Malvinas)",
          "Faroe Islands",
          "French Guiana",
          "French Polynesia",
          "Fujian",
          "Gansu",
          "Gibraltar",
          "Greenland",
          "Guadeloupe",
          "Guangdong",
          "Guangxi",
          "Guizhou",
          "Hainan",
          "Hebei",
          "Heilongjiang",
          "Henan",
          "Hong Kong",
          "Hubei",
          "Hunan",
          "Inner Mongolia",
          "Isle of Man",
          "Jiangsu",
          "Jiangxi",
          "Jilin",
          "Liaoning",
          "Macau",
          "Manitoba",
          "Martinique",
          "Mayotte",
          "Montserrat",
          "New Brunswick",
          "New Caledonia",
          "New South Wales",
          "Newfoundland and Labrador",
          "Ningxia",
          "Northern Territory",
          "Northwest Territories",
          "Nova Scotia",
          "Ontario",
          "Prince Edward Island",
          "Qinghai",
          "Quebec",
          "Queensland",
          "Reunion",
          "Saint Barthelemy",
          "Saint Pierre and Miquelon",
          "Saskatchewan",
          "Shaanxi",
          "Shandong",
          "Shanghai",
          "Shanxi",
          "Sichuan",
          "Sint Maarten",
          "South Australia",
          "St Martin",
          "Tasmania",
          "Tianjin",
          "Tibet",
          "Turks and Caicos Islands",
          "Victoria",
          "Western Australia",
          "Xinjiang",
          "Yukon",
          "Yunnan",
          "Zhejiang",
          "Afghanistan",
          "Albania",
          "Algeria",
          "Andorra",
          "Angola",
          "Antigua and Barbuda",
          "Argentina",
          "Armenia",
          "Australia",
          "Austria",
          "Azerbaijan",
          "Bahamas",
          "Bahrain",
          "Bangladesh",
          "Barbados",
          "Belarus",
          "Belgium",
          "Belize",
          "Benin",
          "Bhutan",
          "Bolivia",
          "Bosnia and Herzegovina",
          "Botswana",
          "Brazil",
          "Brunei",
          "Bulgaria",
          "Burkina Faso",
          "Burma",
          "Burundi",
          "Cabo Verde",
          "Cambodia",
          "Cameroon",
          "Canada",
          "Central African Republic",
          "Chad",
          "Chile",
          "China",
          "Colombia",
          "Comoros",
          "Congo (Brazzaville)",
          "Congo (Kinshasa)",
          "Costa Rica",
          "Cote d'Ivoire",
          "Croatia",
          "Cuba",
          "Cyprus",
          "Czechia",
          "Denmark",
          "Djibouti",
          "Dominica",
          "Dominican Republic",
          "Ecuador",
          "Egypt",
          "El Salvador",
          "Equatorial Guinea",
          "Eritrea",
          "Estonia",
          "Eswatini",
          "Ethiopia",
          "Fiji",
          "Finland",
          "France",
          "Gabon",
          "Gambia",
          "Georgia",
          "Germany",
          "Ghana",
          "Greece",
          "Greenland",
          "Grenada",
          "Guatemala",
          "Guinea",
          "Guinea-Bissau",
          "Guyana",
          "Haiti",
          "Holy See",
          "Honduras",
          "Hungary",
          "Iceland",
          "India",
          "Indonesia",
          "Iran",
          "Iraq",
          "Ireland",
          "Israel",
          "Italy",
          "Jamaica",
          "Japan",
          "Jordan",
          "Kazakhstan",
          "Kenya",
          "Kosovo",
          "Kuwait",
          "Kyrgyzstan",
          "Laos",
          "Latvia",
          "Lebanon",
          "Liberia",
          "Libya",
          "Liechtenstein",
          "Lithuania",
          "Luxembourg",
          "Madagascar",
          "Malawi",
          "Malaysia",
          "Maldives",
          "Mali",
          "Malta",
          "Mauritania",
          "Mauritius",
          "Mexico",
          "Moldova",
          "Monaco",
          "Mongolia",
          "Montenegro",
          "Morocco",
          "Mozambique",
          "Namibia",
          "Nepal",
          "Netherlands",
          "New Zealand",
          "Nicaragua",
          "Niger",
          "Nigeria",
          "North Macedonia",
          "Norway",
          "Oman",
          "Pakistan",
          "Panama",
          "Papua New Guinea",
          "Paraguay",
          "Peru",
          "Philippines",
          "Poland",
          "Portugal",
          "Qatar",
          "Romania",
          "Russia",
          "Rwanda",
          "Saint Kitts and Nevis",
          "Saint Lucia",
          "Saint Vincent and the Grenadines",
          "San Marino",
          "Sao Tome and Principe",
          "Saudi Arabia",
          "Senegal",
          "Serbia",
          "Seychelles",
          "Sierra Leone",
          "Singapore",
          "Slovakia",
          "Slovenia",
          "Somalia",
          "South Africa",
          "South Korea",
          "South Sudan",
          "Spain",
          "Sri Lanka",
          "Sudan",
          "Suriname",
          "Sweden",
          "Switzerland",
          "Syria",
          "Taiwan*",
          "Tajikistan",
          "Tanzania",
          "Thailand",
          "Timor-Leste",
          "Togo",
          "Trinidad and Tobago",
          "Tunisia",
          "Turkey",
          "US",
          "Uganda",
          "Ukraine",
          "United Arab Emirates",
          "United Kingdom",
          "Uruguay",
          "Uzbekistan",
          "Venezuela",
          "Vietnam",
          "West Bank and Gaza",
          "Western Sahara",
          "Yemen",
          "Zambia",
          "Zimbabwe"
         ],
         "name": "",
         "parents": [
          "Afghanistan",
          "Albania",
          "Algeria",
          "Andorra",
          "Angola",
          "Antigua and Barbuda",
          "Argentina",
          "Armenia",
          "Austria",
          "Azerbaijan",
          "Bahamas",
          "Bahrain",
          "Bangladesh",
          "Barbados",
          "Belarus",
          "Belgium",
          "Belize",
          "Benin",
          "Bhutan",
          "Bolivia",
          "Bosnia and Herzegovina",
          "Botswana",
          "Brazil",
          "Brunei",
          "Bulgaria",
          "Burkina Faso",
          "Burma",
          "Burundi",
          "Cabo Verde",
          "Cambodia",
          "Cameroon",
          "Central African Republic",
          "Chad",
          "Chile",
          "Colombia",
          "Comoros",
          "Congo (Brazzaville)",
          "Congo (Kinshasa)",
          "Costa Rica",
          "Cote d'Ivoire",
          "Croatia",
          "Cuba",
          "Cyprus",
          "Czechia",
          "Denmark",
          "Djibouti",
          "Dominica",
          "Dominican Republic",
          "Ecuador",
          "Egypt",
          "El Salvador",
          "Equatorial Guinea",
          "Eritrea",
          "Estonia",
          "Eswatini",
          "Ethiopia",
          "Fiji",
          "Finland",
          "France",
          "Gabon",
          "Gambia",
          "Georgia",
          "Germany",
          "Ghana",
          "Greece",
          "Grenada",
          "Guatemala",
          "Guinea",
          "Guinea-Bissau",
          "Guyana",
          "Haiti",
          "Holy See",
          "Honduras",
          "Hungary",
          "Iceland",
          "India",
          "Indonesia",
          "Iran",
          "Iraq",
          "Ireland",
          "Israel",
          "Italy",
          "Jamaica",
          "Japan",
          "Jordan",
          "Kazakhstan",
          "Kenya",
          "Kosovo",
          "Kuwait",
          "Kyrgyzstan",
          "Laos",
          "Latvia",
          "Lebanon",
          "Liberia",
          "Libya",
          "Liechtenstein",
          "Lithuania",
          "Luxembourg",
          "Madagascar",
          "Malawi",
          "Malaysia",
          "Maldives",
          "Mali",
          "Malta",
          "Mauritania",
          "Mauritius",
          "Mexico",
          "Moldova",
          "Monaco",
          "Mongolia",
          "Montenegro",
          "Morocco",
          "Mozambique",
          "Namibia",
          "Nepal",
          "Netherlands",
          "New Zealand",
          "Nicaragua",
          "Niger",
          "Nigeria",
          "North Macedonia",
          "Norway",
          "Oman",
          "Pakistan",
          "Panama",
          "Papua New Guinea",
          "Paraguay",
          "Peru",
          "Philippines",
          "Poland",
          "Portugal",
          "Qatar",
          "Romania",
          "Russia",
          "Rwanda",
          "Saint Kitts and Nevis",
          "Saint Lucia",
          "Saint Vincent and the Grenadines",
          "San Marino",
          "Sao Tome and Principe",
          "Saudi Arabia",
          "Senegal",
          "Serbia",
          "Seychelles",
          "Sierra Leone",
          "Singapore",
          "Slovakia",
          "Slovenia",
          "Somalia",
          "South Africa",
          "South Korea",
          "South Sudan",
          "Spain",
          "Sri Lanka",
          "Sudan",
          "Suriname",
          "Sweden",
          "Switzerland",
          "Syria",
          "Taiwan*",
          "Tajikistan",
          "Tanzania",
          "Thailand",
          "Timor-Leste",
          "Togo",
          "Trinidad and Tobago",
          "Tunisia",
          "Turkey",
          "US",
          "Uganda",
          "Ukraine",
          "United Arab Emirates",
          "United Kingdom",
          "Uruguay",
          "Uzbekistan",
          "Venezuela",
          "Vietnam",
          "West Bank and Gaza",
          "Western Sahara",
          "Yemen",
          "Zambia",
          "Zimbabwe",
          "Canada",
          "United Kingdom",
          "China",
          "Netherlands",
          "Australia",
          "China",
          "United Kingdom",
          "Canada",
          "United Kingdom",
          "United Kingdom",
          "United Kingdom",
          "China",
          "Netherlands",
          "United Kingdom",
          "Denmark",
          "France",
          "France",
          "China",
          "China",
          "United Kingdom",
          "Greenland",
          "France",
          "China",
          "China",
          "China",
          "China",
          "China",
          "China",
          "China",
          "China",
          "China",
          "China",
          "China",
          "United Kingdom",
          "China",
          "China",
          "China",
          "China",
          "China",
          "Canada",
          "France",
          "France",
          "United Kingdom",
          "Canada",
          "France",
          "Australia",
          "Canada",
          "China",
          "Australia",
          "Canada",
          "Canada",
          "Canada",
          "Canada",
          "China",
          "Canada",
          "Australia",
          "France",
          "France",
          "France",
          "Canada",
          "China",
          "China",
          "China",
          "China",
          "China",
          "Netherlands",
          "Australia",
          "France",
          "Australia",
          "China",
          "China",
          "United Kingdom",
          "Australia",
          "Australia",
          "China",
          "Canada",
          "China",
          "China",
          "",
          "",
          "",
          "",
          "",
          "",
          "",
          "",
          "",
          "",
          "",
          "",
          "",
          "",
          "",
          "",
          "",
          "",
          "",
          "",
          "",
          "",
          "",
          "",
          "",
          "",
          "",
          "",
          "",
          "",
          "",
          "",
          "",
          "",
          "",
          "",
          "",
          "",
          "",
          "",
          "",
          "",
          "",
          "",
          "",
          "",
          "",
          "",
          "",
          "",
          "",
          "",
          "",
          "",
          "",
          "",
          "",
          "",
          "",
          "",
          "",
          "",
          "",
          "",
          "",
          "",
          "",
          "",
          "",
          "",
          "",
          "",
          "",
          "",
          "",
          "",
          "",
          "",
          "",
          "",
          "",
          "",
          "",
          "",
          "",
          "",
          "",
          "",
          "",
          "",
          "",
          "",
          "",
          "",
          "",
          "",
          "",
          "",
          "",
          "",
          "",
          "",
          "",
          "",
          "",
          "",
          "",
          "",
          "",
          "",
          "",
          "",
          "",
          "",
          "",
          "",
          "",
          "",
          "",
          "",
          "",
          "",
          "",
          "",
          "",
          "",
          "",
          "",
          "",
          "",
          "",
          "",
          "",
          "",
          "",
          "",
          "",
          "",
          "",
          "",
          "",
          "",
          "",
          "",
          "",
          "",
          "",
          "",
          "",
          "",
          "",
          "",
          "",
          "",
          "",
          "",
          "",
          "",
          "",
          "",
          "",
          "",
          "",
          "",
          "",
          "",
          "",
          "",
          "",
          "",
          "",
          "",
          "",
          "",
          "",
          "",
          "",
          "",
          "",
          "",
          "",
          "",
          "",
          "",
          "",
          ""
         ],
         "textinfo": "label+text+value",
         "type": "treemap",
         "values": [
          115,
          31,
          494,
          48,
          2,
          3,
          300,
          44,
          615,
          31,
          11,
          8,
          214,
          7,
          126,
          8581,
          2,
          2,
          0,
          114,
          102,
          1,
          10656,
          1,
          90,
          48,
          6,
          1,
          2,
          0,
          108,
          0,
          31,
          304,
          445,
          1,
          10,
          39,
          6,
          21,
          87,
          74,
          15,
          276,
          526,
          3,
          0,
          385,
          1717,
          514,
          17,
          4,
          0,
          60,
          2,
          5,
          0,
          265,
          26271,
          8,
          1,
          10,
          7549,
          22,
          151,
          0,
          24,
          11,
          3,
          10,
          12,
          0,
          108,
          405,
          10,
          2101,
          959,
          6589,
          107,
          1446,
          247,
          30395,
          9,
          607,
          9,
          31,
          30,
          28,
          49,
          12,
          0,
          18,
          26,
          20,
          3,
          1,
          49,
          101,
          0,
          3,
          108,
          3,
          37,
          5,
          1,
          10,
          3353,
          161,
          4,
          0,
          8,
          186,
          0,
          0,
          0,
          5422,
          21,
          5,
          45,
          128,
          91,
          219,
          17,
          636,
          237,
          0,
          10,
          1814,
          704,
          785,
          1126,
          13,
          939,
          1827,
          0,
          0,
          0,
          0,
          41,
          5,
          239,
          17,
          215,
          0,
          18,
          20,
          26,
          101,
          48,
          186,
          256,
          0,
          26478,
          9,
          64,
          1,
          3220,
          1830,
          3,
          6,
          20,
          21,
          56,
          0,
          10,
          8,
          45,
          3739,
          78795,
          0,
          376,
          185,
          31587,
          18,
          10,
          10,
          0,
          2,
          0,
          7,
          7,
          4,
          116,
          0,
          6,
          3,
          3,
          9,
          7,
          129,
          1,
          1,
          41,
          6,
          1,
          0,
          0,
          1,
          0,
          1,
          2,
          0,
          0,
          13,
          8,
          2,
          2,
          6,
          6,
          13,
          22,
          4,
          4512,
          4,
          1,
          23,
          0,
          1,
          1,
          2,
          0,
          7,
          14,
          11,
          1,
          0,
          0,
          44,
          3,
          0,
          0,
          0,
          47,
          1726,
          0,
          0,
          2787,
          6,
          0,
          0,
          0,
          7,
          3,
          7,
          7,
          0,
          3,
          15,
          4,
          3,
          13,
          3,
          0,
          1,
          18,
          9,
          3,
          0,
          2,
          1,
          115,
          31,
          494,
          48,
          2,
          3,
          300,
          44,
          97,
          615,
          31,
          11,
          8,
          214,
          7,
          126,
          8581,
          2,
          2,
          0,
          114,
          102,
          1,
          10656,
          1,
          90,
          48,
          6,
          1,
          2,
          0,
          108,
          4822,
          0,
          31,
          304,
          4637,
          445,
          1,
          10,
          39,
          6,
          21,
          87,
          74,
          15,
          276,
          526,
          3,
          0,
          385,
          1717,
          514,
          17,
          4,
          0,
          60,
          2,
          5,
          0,
          265,
          26313,
          8,
          1,
          10,
          7549,
          22,
          151,
          0,
          0,
          24,
          11,
          3,
          10,
          12,
          0,
          108,
          405,
          10,
          2101,
          959,
          6589,
          107,
          1446,
          247,
          30395,
          9,
          607,
          9,
          31,
          30,
          28,
          49,
          12,
          0,
          18,
          26,
          20,
          3,
          1,
          49,
          101,
          0,
          3,
          108,
          3,
          37,
          5,
          1,
          10,
          3353,
          161,
          4,
          0,
          8,
          186,
          0,
          0,
          0,
          5441,
          21,
          5,
          45,
          128,
          91,
          219,
          17,
          636,
          237,
          0,
          10,
          1814,
          704,
          785,
          1126,
          13,
          939,
          1827,
          0,
          0,
          0,
          0,
          41,
          5,
          239,
          17,
          215,
          0,
          18,
          20,
          26,
          101,
          48,
          186,
          256,
          0,
          26478,
          9,
          64,
          1,
          3220,
          1830,
          3,
          6,
          20,
          21,
          56,
          0,
          10,
          8,
          45,
          3739,
          78795,
          0,
          376,
          185,
          31662,
          18,
          10,
          10,
          0,
          2,
          0,
          7,
          7,
          4
         ]
        }
       ],
       "layout": {
        "height": 700,
        "legend": {
         "tracegroupgap": 0
        },
        "template": {
         "data": {
          "bar": [
           {
            "error_x": {
             "color": "#2a3f5f"
            },
            "error_y": {
             "color": "#2a3f5f"
            },
            "marker": {
             "line": {
              "color": "#E5ECF6",
              "width": 0.5
             }
            },
            "type": "bar"
           }
          ],
          "barpolar": [
           {
            "marker": {
             "line": {
              "color": "#E5ECF6",
              "width": 0.5
             }
            },
            "type": "barpolar"
           }
          ],
          "carpet": [
           {
            "aaxis": {
             "endlinecolor": "#2a3f5f",
             "gridcolor": "white",
             "linecolor": "white",
             "minorgridcolor": "white",
             "startlinecolor": "#2a3f5f"
            },
            "baxis": {
             "endlinecolor": "#2a3f5f",
             "gridcolor": "white",
             "linecolor": "white",
             "minorgridcolor": "white",
             "startlinecolor": "#2a3f5f"
            },
            "type": "carpet"
           }
          ],
          "choropleth": [
           {
            "colorbar": {
             "outlinewidth": 0,
             "ticks": ""
            },
            "type": "choropleth"
           }
          ],
          "contour": [
           {
            "colorbar": {
             "outlinewidth": 0,
             "ticks": ""
            },
            "colorscale": [
             [
              0,
              "#0d0887"
             ],
             [
              0.1111111111111111,
              "#46039f"
             ],
             [
              0.2222222222222222,
              "#7201a8"
             ],
             [
              0.3333333333333333,
              "#9c179e"
             ],
             [
              0.4444444444444444,
              "#bd3786"
             ],
             [
              0.5555555555555556,
              "#d8576b"
             ],
             [
              0.6666666666666666,
              "#ed7953"
             ],
             [
              0.7777777777777778,
              "#fb9f3a"
             ],
             [
              0.8888888888888888,
              "#fdca26"
             ],
             [
              1,
              "#f0f921"
             ]
            ],
            "type": "contour"
           }
          ],
          "contourcarpet": [
           {
            "colorbar": {
             "outlinewidth": 0,
             "ticks": ""
            },
            "type": "contourcarpet"
           }
          ],
          "heatmap": [
           {
            "colorbar": {
             "outlinewidth": 0,
             "ticks": ""
            },
            "colorscale": [
             [
              0,
              "#0d0887"
             ],
             [
              0.1111111111111111,
              "#46039f"
             ],
             [
              0.2222222222222222,
              "#7201a8"
             ],
             [
              0.3333333333333333,
              "#9c179e"
             ],
             [
              0.4444444444444444,
              "#bd3786"
             ],
             [
              0.5555555555555556,
              "#d8576b"
             ],
             [
              0.6666666666666666,
              "#ed7953"
             ],
             [
              0.7777777777777778,
              "#fb9f3a"
             ],
             [
              0.8888888888888888,
              "#fdca26"
             ],
             [
              1,
              "#f0f921"
             ]
            ],
            "type": "heatmap"
           }
          ],
          "heatmapgl": [
           {
            "colorbar": {
             "outlinewidth": 0,
             "ticks": ""
            },
            "colorscale": [
             [
              0,
              "#0d0887"
             ],
             [
              0.1111111111111111,
              "#46039f"
             ],
             [
              0.2222222222222222,
              "#7201a8"
             ],
             [
              0.3333333333333333,
              "#9c179e"
             ],
             [
              0.4444444444444444,
              "#bd3786"
             ],
             [
              0.5555555555555556,
              "#d8576b"
             ],
             [
              0.6666666666666666,
              "#ed7953"
             ],
             [
              0.7777777777777778,
              "#fb9f3a"
             ],
             [
              0.8888888888888888,
              "#fdca26"
             ],
             [
              1,
              "#f0f921"
             ]
            ],
            "type": "heatmapgl"
           }
          ],
          "histogram": [
           {
            "marker": {
             "colorbar": {
              "outlinewidth": 0,
              "ticks": ""
             }
            },
            "type": "histogram"
           }
          ],
          "histogram2d": [
           {
            "colorbar": {
             "outlinewidth": 0,
             "ticks": ""
            },
            "colorscale": [
             [
              0,
              "#0d0887"
             ],
             [
              0.1111111111111111,
              "#46039f"
             ],
             [
              0.2222222222222222,
              "#7201a8"
             ],
             [
              0.3333333333333333,
              "#9c179e"
             ],
             [
              0.4444444444444444,
              "#bd3786"
             ],
             [
              0.5555555555555556,
              "#d8576b"
             ],
             [
              0.6666666666666666,
              "#ed7953"
             ],
             [
              0.7777777777777778,
              "#fb9f3a"
             ],
             [
              0.8888888888888888,
              "#fdca26"
             ],
             [
              1,
              "#f0f921"
             ]
            ],
            "type": "histogram2d"
           }
          ],
          "histogram2dcontour": [
           {
            "colorbar": {
             "outlinewidth": 0,
             "ticks": ""
            },
            "colorscale": [
             [
              0,
              "#0d0887"
             ],
             [
              0.1111111111111111,
              "#46039f"
             ],
             [
              0.2222222222222222,
              "#7201a8"
             ],
             [
              0.3333333333333333,
              "#9c179e"
             ],
             [
              0.4444444444444444,
              "#bd3786"
             ],
             [
              0.5555555555555556,
              "#d8576b"
             ],
             [
              0.6666666666666666,
              "#ed7953"
             ],
             [
              0.7777777777777778,
              "#fb9f3a"
             ],
             [
              0.8888888888888888,
              "#fdca26"
             ],
             [
              1,
              "#f0f921"
             ]
            ],
            "type": "histogram2dcontour"
           }
          ],
          "mesh3d": [
           {
            "colorbar": {
             "outlinewidth": 0,
             "ticks": ""
            },
            "type": "mesh3d"
           }
          ],
          "parcoords": [
           {
            "line": {
             "colorbar": {
              "outlinewidth": 0,
              "ticks": ""
             }
            },
            "type": "parcoords"
           }
          ],
          "pie": [
           {
            "automargin": true,
            "type": "pie"
           }
          ],
          "scatter": [
           {
            "marker": {
             "colorbar": {
              "outlinewidth": 0,
              "ticks": ""
             }
            },
            "type": "scatter"
           }
          ],
          "scatter3d": [
           {
            "line": {
             "colorbar": {
              "outlinewidth": 0,
              "ticks": ""
             }
            },
            "marker": {
             "colorbar": {
              "outlinewidth": 0,
              "ticks": ""
             }
            },
            "type": "scatter3d"
           }
          ],
          "scattercarpet": [
           {
            "marker": {
             "colorbar": {
              "outlinewidth": 0,
              "ticks": ""
             }
            },
            "type": "scattercarpet"
           }
          ],
          "scattergeo": [
           {
            "marker": {
             "colorbar": {
              "outlinewidth": 0,
              "ticks": ""
             }
            },
            "type": "scattergeo"
           }
          ],
          "scattergl": [
           {
            "marker": {
             "colorbar": {
              "outlinewidth": 0,
              "ticks": ""
             }
            },
            "type": "scattergl"
           }
          ],
          "scattermapbox": [
           {
            "marker": {
             "colorbar": {
              "outlinewidth": 0,
              "ticks": ""
             }
            },
            "type": "scattermapbox"
           }
          ],
          "scatterpolar": [
           {
            "marker": {
             "colorbar": {
              "outlinewidth": 0,
              "ticks": ""
             }
            },
            "type": "scatterpolar"
           }
          ],
          "scatterpolargl": [
           {
            "marker": {
             "colorbar": {
              "outlinewidth": 0,
              "ticks": ""
             }
            },
            "type": "scatterpolargl"
           }
          ],
          "scatterternary": [
           {
            "marker": {
             "colorbar": {
              "outlinewidth": 0,
              "ticks": ""
             }
            },
            "type": "scatterternary"
           }
          ],
          "surface": [
           {
            "colorbar": {
             "outlinewidth": 0,
             "ticks": ""
            },
            "colorscale": [
             [
              0,
              "#0d0887"
             ],
             [
              0.1111111111111111,
              "#46039f"
             ],
             [
              0.2222222222222222,
              "#7201a8"
             ],
             [
              0.3333333333333333,
              "#9c179e"
             ],
             [
              0.4444444444444444,
              "#bd3786"
             ],
             [
              0.5555555555555556,
              "#d8576b"
             ],
             [
              0.6666666666666666,
              "#ed7953"
             ],
             [
              0.7777777777777778,
              "#fb9f3a"
             ],
             [
              0.8888888888888888,
              "#fdca26"
             ],
             [
              1,
              "#f0f921"
             ]
            ],
            "type": "surface"
           }
          ],
          "table": [
           {
            "cells": {
             "fill": {
              "color": "#EBF0F8"
             },
             "line": {
              "color": "white"
             }
            },
            "header": {
             "fill": {
              "color": "#C8D4E3"
             },
             "line": {
              "color": "white"
             }
            },
            "type": "table"
           }
          ]
         },
         "layout": {
          "annotationdefaults": {
           "arrowcolor": "#2a3f5f",
           "arrowhead": 0,
           "arrowwidth": 1
          },
          "coloraxis": {
           "colorbar": {
            "outlinewidth": 0,
            "ticks": ""
           }
          },
          "colorscale": {
           "diverging": [
            [
             0,
             "#8e0152"
            ],
            [
             0.1,
             "#c51b7d"
            ],
            [
             0.2,
             "#de77ae"
            ],
            [
             0.3,
             "#f1b6da"
            ],
            [
             0.4,
             "#fde0ef"
            ],
            [
             0.5,
             "#f7f7f7"
            ],
            [
             0.6,
             "#e6f5d0"
            ],
            [
             0.7,
             "#b8e186"
            ],
            [
             0.8,
             "#7fbc41"
            ],
            [
             0.9,
             "#4d9221"
            ],
            [
             1,
             "#276419"
            ]
           ],
           "sequential": [
            [
             0,
             "#0d0887"
            ],
            [
             0.1111111111111111,
             "#46039f"
            ],
            [
             0.2222222222222222,
             "#7201a8"
            ],
            [
             0.3333333333333333,
             "#9c179e"
            ],
            [
             0.4444444444444444,
             "#bd3786"
            ],
            [
             0.5555555555555556,
             "#d8576b"
            ],
            [
             0.6666666666666666,
             "#ed7953"
            ],
            [
             0.7777777777777778,
             "#fb9f3a"
            ],
            [
             0.8888888888888888,
             "#fdca26"
            ],
            [
             1,
             "#f0f921"
            ]
           ],
           "sequentialminus": [
            [
             0,
             "#0d0887"
            ],
            [
             0.1111111111111111,
             "#46039f"
            ],
            [
             0.2222222222222222,
             "#7201a8"
            ],
            [
             0.3333333333333333,
             "#9c179e"
            ],
            [
             0.4444444444444444,
             "#bd3786"
            ],
            [
             0.5555555555555556,
             "#d8576b"
            ],
            [
             0.6666666666666666,
             "#ed7953"
            ],
            [
             0.7777777777777778,
             "#fb9f3a"
            ],
            [
             0.8888888888888888,
             "#fdca26"
            ],
            [
             1,
             "#f0f921"
            ]
           ]
          },
          "colorway": [
           "#636efa",
           "#EF553B",
           "#00cc96",
           "#ab63fa",
           "#FFA15A",
           "#19d3f3",
           "#FF6692",
           "#B6E880",
           "#FF97FF",
           "#FECB52"
          ],
          "font": {
           "color": "#2a3f5f"
          },
          "geo": {
           "bgcolor": "white",
           "lakecolor": "white",
           "landcolor": "#E5ECF6",
           "showlakes": true,
           "showland": true,
           "subunitcolor": "white"
          },
          "hoverlabel": {
           "align": "left"
          },
          "hovermode": "closest",
          "mapbox": {
           "style": "light"
          },
          "paper_bgcolor": "white",
          "plot_bgcolor": "#E5ECF6",
          "polar": {
           "angularaxis": {
            "gridcolor": "white",
            "linecolor": "white",
            "ticks": ""
           },
           "bgcolor": "#E5ECF6",
           "radialaxis": {
            "gridcolor": "white",
            "linecolor": "white",
            "ticks": ""
           }
          },
          "scene": {
           "xaxis": {
            "backgroundcolor": "#E5ECF6",
            "gridcolor": "white",
            "gridwidth": 2,
            "linecolor": "white",
            "showbackground": true,
            "ticks": "",
            "zerolinecolor": "white"
           },
           "yaxis": {
            "backgroundcolor": "#E5ECF6",
            "gridcolor": "white",
            "gridwidth": 2,
            "linecolor": "white",
            "showbackground": true,
            "ticks": "",
            "zerolinecolor": "white"
           },
           "zaxis": {
            "backgroundcolor": "#E5ECF6",
            "gridcolor": "white",
            "gridwidth": 2,
            "linecolor": "white",
            "showbackground": true,
            "ticks": "",
            "zerolinecolor": "white"
           }
          },
          "shapedefaults": {
           "line": {
            "color": "#2a3f5f"
           }
          },
          "ternary": {
           "aaxis": {
            "gridcolor": "white",
            "linecolor": "white",
            "ticks": ""
           },
           "baxis": {
            "gridcolor": "white",
            "linecolor": "white",
            "ticks": ""
           },
           "bgcolor": "#E5ECF6",
           "caxis": {
            "gridcolor": "white",
            "linecolor": "white",
            "ticks": ""
           }
          },
          "title": {
           "x": 0.05
          },
          "xaxis": {
           "automargin": true,
           "gridcolor": "white",
           "linecolor": "white",
           "ticks": "",
           "title": {
            "standoff": 15
           },
           "zerolinecolor": "white",
           "zerolinewidth": 2
          },
          "yaxis": {
           "automargin": true,
           "gridcolor": "white",
           "linecolor": "white",
           "ticks": "",
           "title": {
            "standoff": 15
           },
           "zerolinecolor": "white",
           "zerolinewidth": 2
          }
         }
        },
        "title": {
         "text": "Number of Deaths reported"
        },
        "treemapcolorway": [
         "rgb(27,158,119)",
         "rgb(217,95,2)",
         "rgb(117,112,179)",
         "rgb(231,41,138)",
         "rgb(102,166,30)",
         "rgb(230,171,2)",
         "rgb(166,118,29)",
         "rgb(102,102,102)"
        ]
       }
      },
      "text/html": [
       "<div>\n",
       "        \n",
       "        \n",
       "            <div id=\"d9224bdf-0e30-4ab6-86a2-ab17d5b499f4\" class=\"plotly-graph-div\" style=\"height:700px; width:100%;\"></div>\n",
       "            <script type=\"text/javascript\">\n",
       "                require([\"plotly\"], function(Plotly) {\n",
       "                    window.PLOTLYENV=window.PLOTLYENV || {};\n",
       "                    \n",
       "                if (document.getElementById(\"d9224bdf-0e30-4ab6-86a2-ab17d5b499f4\")) {\n",
       "                    Plotly.newPlot(\n",
       "                        'd9224bdf-0e30-4ab6-86a2-ab17d5b499f4',\n",
       "                        [{\"branchvalues\": \"total\", \"domain\": {\"x\": [0.0, 1.0], \"y\": [0.0, 1.0]}, \"hovertemplate\": \"labels=%{label}<br>Deaths=%{value}<br>parent=%{parent}<br>id=%{id}<extra></extra>\", \"ids\": [\"Afghanistan/\", \"Albania/\", \"Algeria/\", \"Andorra/\", \"Angola/\", \"Antigua and Barbuda/\", \"Argentina/\", \"Armenia/\", \"Austria/\", \"Azerbaijan/\", \"Bahamas/\", \"Bahrain/\", \"Bangladesh/\", \"Barbados/\", \"Belarus/\", \"Belgium/\", \"Belize/\", \"Benin/\", \"Bhutan/\", \"Bolivia/\", \"Bosnia and Herzegovina/\", \"Botswana/\", \"Brazil/\", \"Brunei/\", \"Bulgaria/\", \"Burkina Faso/\", \"Burma/\", \"Burundi/\", \"Cabo Verde/\", \"Cambodia/\", \"Cameroon/\", \"Central African Republic/\", \"Chad/\", \"Chile/\", \"Colombia/\", \"Comoros/\", \"Congo (Brazzaville)/\", \"Congo (Kinshasa)/\", \"Costa Rica/\", \"Cote d'Ivoire/\", \"Croatia/\", \"Cuba/\", \"Cyprus/\", \"Czechia/\", \"Denmark/\", \"Djibouti/\", \"Dominica/\", \"Dominican Republic/\", \"Ecuador/\", \"Egypt/\", \"El Salvador/\", \"Equatorial Guinea/\", \"Eritrea/\", \"Estonia/\", \"Eswatini/\", \"Ethiopia/\", \"Fiji/\", \"Finland/\", \"France/\", \"Gabon/\", \"Gambia/\", \"Georgia/\", \"Germany/\", \"Ghana/\", \"Greece/\", \"Grenada/\", \"Guatemala/\", \"Guinea/\", \"Guinea-Bissau/\", \"Guyana/\", \"Haiti/\", \"Holy See/\", \"Honduras/\", \"Hungary/\", \"Iceland/\", \"India/\", \"Indonesia/\", \"Iran/\", \"Iraq/\", \"Ireland/\", \"Israel/\", \"Italy/\", \"Jamaica/\", \"Japan/\", \"Jordan/\", \"Kazakhstan/\", \"Kenya/\", \"Kosovo/\", \"Kuwait/\", \"Kyrgyzstan/\", \"Laos/\", \"Latvia/\", \"Lebanon/\", \"Liberia/\", \"Libya/\", \"Liechtenstein/\", \"Lithuania/\", \"Luxembourg/\", \"Madagascar/\", \"Malawi/\", \"Malaysia/\", \"Maldives/\", \"Mali/\", \"Malta/\", \"Mauritania/\", \"Mauritius/\", \"Mexico/\", \"Moldova/\", \"Monaco/\", \"Mongolia/\", \"Montenegro/\", \"Morocco/\", \"Mozambique/\", \"Namibia/\", \"Nepal/\", \"Netherlands/\", \"New Zealand/\", \"Nicaragua/\", \"Niger/\", \"Nigeria/\", \"North Macedonia/\", \"Norway/\", \"Oman/\", \"Pakistan/\", \"Panama/\", \"Papua New Guinea/\", \"Paraguay/\", \"Peru/\", \"Philippines/\", \"Poland/\", \"Portugal/\", \"Qatar/\", \"Romania/\", \"Russia/\", \"Rwanda/\", \"Saint Kitts and Nevis/\", \"Saint Lucia/\", \"Saint Vincent and the Grenadines/\", \"San Marino/\", \"Sao Tome and Principe/\", \"Saudi Arabia/\", \"Senegal/\", \"Serbia/\", \"Seychelles/\", \"Sierra Leone/\", \"Singapore/\", \"Slovakia/\", \"Slovenia/\", \"Somalia/\", \"South Africa/\", \"South Korea/\", \"South Sudan/\", \"Spain/\", \"Sri Lanka/\", \"Sudan/\", \"Suriname/\", \"Sweden/\", \"Switzerland/\", \"Syria/\", \"Taiwan*/\", \"Tajikistan/\", \"Tanzania/\", \"Thailand/\", \"Timor-Leste/\", \"Togo/\", \"Trinidad and Tobago/\", \"Tunisia/\", \"Turkey/\", \"US/\", \"Uganda/\", \"Ukraine/\", \"United Arab Emirates/\", \"United Kingdom/\", \"Uruguay/\", \"Uzbekistan/\", \"Venezuela/\", \"Vietnam/\", \"West Bank and Gaza/\", \"Western Sahara/\", \"Yemen/\", \"Zambia/\", \"Zimbabwe/\", \"Canada/Alberta\", \"United Kingdom/Anguilla\", \"China/Anhui\", \"Netherlands/Aruba\", \"Australia/Australian Capital Territory\", \"China/Beijing\", \"United Kingdom/Bermuda\", \"Canada/British Columbia\", \"United Kingdom/British Virgin Islands\", \"United Kingdom/Cayman Islands\", \"United Kingdom/Channel Islands\", \"China/Chongqing\", \"Netherlands/Curacao\", \"United Kingdom/Falkland Islands (Malvinas)\", \"Denmark/Faroe Islands\", \"France/French Guiana\", \"France/French Polynesia\", \"China/Fujian\", \"China/Gansu\", \"United Kingdom/Gibraltar\", \"Greenland/Greenland\", \"France/Guadeloupe\", \"China/Guangdong\", \"China/Guangxi\", \"China/Guizhou\", \"China/Hainan\", \"China/Hebei\", \"China/Heilongjiang\", \"China/Henan\", \"China/Hong Kong\", \"China/Hubei\", \"China/Hunan\", \"China/Inner Mongolia\", \"United Kingdom/Isle of Man\", \"China/Jiangsu\", \"China/Jiangxi\", \"China/Jilin\", \"China/Liaoning\", \"China/Macau\", \"Canada/Manitoba\", \"France/Martinique\", \"France/Mayotte\", \"United Kingdom/Montserrat\", \"Canada/New Brunswick\", \"France/New Caledonia\", \"Australia/New South Wales\", \"Canada/Newfoundland and Labrador\", \"China/Ningxia\", \"Australia/Northern Territory\", \"Canada/Northwest Territories\", \"Canada/Nova Scotia\", \"Canada/Ontario\", \"Canada/Prince Edward Island\", \"China/Qinghai\", \"Canada/Quebec\", \"Australia/Queensland\", \"France/Reunion\", \"France/Saint Barthelemy\", \"France/Saint Pierre and Miquelon\", \"Canada/Saskatchewan\", \"China/Shaanxi\", \"China/Shandong\", \"China/Shanghai\", \"China/Shanxi\", \"China/Sichuan\", \"Netherlands/Sint Maarten\", \"Australia/South Australia\", \"France/St Martin\", \"Australia/Tasmania\", \"China/Tianjin\", \"China/Tibet\", \"United Kingdom/Turks and Caicos Islands\", \"Australia/Victoria\", \"Australia/Western Australia\", \"China/Xinjiang\", \"Canada/Yukon\", \"China/Yunnan\", \"China/Zhejiang\", \"Afghanistan\", \"Albania\", \"Algeria\", \"Andorra\", \"Angola\", \"Antigua and Barbuda\", \"Argentina\", \"Armenia\", \"Australia\", \"Austria\", \"Azerbaijan\", \"Bahamas\", \"Bahrain\", \"Bangladesh\", \"Barbados\", \"Belarus\", \"Belgium\", \"Belize\", \"Benin\", \"Bhutan\", \"Bolivia\", \"Bosnia and Herzegovina\", \"Botswana\", \"Brazil\", \"Brunei\", \"Bulgaria\", \"Burkina Faso\", \"Burma\", \"Burundi\", \"Cabo Verde\", \"Cambodia\", \"Cameroon\", \"Canada\", \"Central African Republic\", \"Chad\", \"Chile\", \"China\", \"Colombia\", \"Comoros\", \"Congo (Brazzaville)\", \"Congo (Kinshasa)\", \"Costa Rica\", \"Cote d'Ivoire\", \"Croatia\", \"Cuba\", \"Cyprus\", \"Czechia\", \"Denmark\", \"Djibouti\", \"Dominica\", \"Dominican Republic\", \"Ecuador\", \"Egypt\", \"El Salvador\", \"Equatorial Guinea\", \"Eritrea\", \"Estonia\", \"Eswatini\", \"Ethiopia\", \"Fiji\", \"Finland\", \"France\", \"Gabon\", \"Gambia\", \"Georgia\", \"Germany\", \"Ghana\", \"Greece\", \"Greenland\", \"Grenada\", \"Guatemala\", \"Guinea\", \"Guinea-Bissau\", \"Guyana\", \"Haiti\", \"Holy See\", \"Honduras\", \"Hungary\", \"Iceland\", \"India\", \"Indonesia\", \"Iran\", \"Iraq\", \"Ireland\", \"Israel\", \"Italy\", \"Jamaica\", \"Japan\", \"Jordan\", \"Kazakhstan\", \"Kenya\", \"Kosovo\", \"Kuwait\", \"Kyrgyzstan\", \"Laos\", \"Latvia\", \"Lebanon\", \"Liberia\", \"Libya\", \"Liechtenstein\", \"Lithuania\", \"Luxembourg\", \"Madagascar\", \"Malawi\", \"Malaysia\", \"Maldives\", \"Mali\", \"Malta\", \"Mauritania\", \"Mauritius\", \"Mexico\", \"Moldova\", \"Monaco\", \"Mongolia\", \"Montenegro\", \"Morocco\", \"Mozambique\", \"Namibia\", \"Nepal\", \"Netherlands\", \"New Zealand\", \"Nicaragua\", \"Niger\", \"Nigeria\", \"North Macedonia\", \"Norway\", \"Oman\", \"Pakistan\", \"Panama\", \"Papua New Guinea\", \"Paraguay\", \"Peru\", \"Philippines\", \"Poland\", \"Portugal\", \"Qatar\", \"Romania\", \"Russia\", \"Rwanda\", \"Saint Kitts and Nevis\", \"Saint Lucia\", \"Saint Vincent and the Grenadines\", \"San Marino\", \"Sao Tome and Principe\", \"Saudi Arabia\", \"Senegal\", \"Serbia\", \"Seychelles\", \"Sierra Leone\", \"Singapore\", \"Slovakia\", \"Slovenia\", \"Somalia\", \"South Africa\", \"South Korea\", \"South Sudan\", \"Spain\", \"Sri Lanka\", \"Sudan\", \"Suriname\", \"Sweden\", \"Switzerland\", \"Syria\", \"Taiwan*\", \"Tajikistan\", \"Tanzania\", \"Thailand\", \"Timor-Leste\", \"Togo\", \"Trinidad and Tobago\", \"Tunisia\", \"Turkey\", \"US\", \"Uganda\", \"Ukraine\", \"United Arab Emirates\", \"United Kingdom\", \"Uruguay\", \"Uzbekistan\", \"Venezuela\", \"Vietnam\", \"West Bank and Gaza\", \"Western Sahara\", \"Yemen\", \"Zambia\", \"Zimbabwe\"], \"labels\": [\"\", \"\", \"\", \"\", \"\", \"\", \"\", \"\", \"\", \"\", \"\", \"\", \"\", \"\", \"\", \"\", \"\", \"\", \"\", \"\", \"\", \"\", \"\", \"\", \"\", \"\", \"\", \"\", \"\", \"\", \"\", \"\", \"\", \"\", \"\", \"\", \"\", \"\", \"\", \"\", \"\", \"\", \"\", \"\", \"\", \"\", \"\", \"\", \"\", \"\", \"\", \"\", \"\", \"\", \"\", \"\", \"\", \"\", \"\", \"\", \"\", \"\", \"\", \"\", \"\", \"\", \"\", \"\", \"\", \"\", \"\", \"\", \"\", \"\", \"\", \"\", \"\", \"\", \"\", \"\", \"\", \"\", \"\", \"\", \"\", \"\", \"\", \"\", \"\", \"\", \"\", \"\", \"\", \"\", \"\", \"\", \"\", \"\", \"\", \"\", \"\", \"\", \"\", \"\", \"\", \"\", \"\", \"\", \"\", \"\", \"\", \"\", \"\", \"\", \"\", \"\", \"\", \"\", \"\", \"\", \"\", \"\", \"\", \"\", \"\", \"\", \"\", \"\", \"\", \"\", \"\", \"\", \"\", \"\", \"\", \"\", \"\", \"\", \"\", \"\", \"\", \"\", \"\", \"\", \"\", \"\", \"\", \"\", \"\", \"\", \"\", \"\", \"\", \"\", \"\", \"\", \"\", \"\", \"\", \"\", \"\", \"\", \"\", \"\", \"\", \"\", \"\", \"\", \"\", \"\", \"\", \"\", \"\", \"\", \"\", \"\", \"\", \"\", \"\", \"\", \"\", \"\", \"Alberta\", \"Anguilla\", \"Anhui\", \"Aruba\", \"Australian Capital Territory\", \"Beijing\", \"Bermuda\", \"British Columbia\", \"British Virgin Islands\", \"Cayman Islands\", \"Channel Islands\", \"Chongqing\", \"Curacao\", \"Falkland Islands (Malvinas)\", \"Faroe Islands\", \"French Guiana\", \"French Polynesia\", \"Fujian\", \"Gansu\", \"Gibraltar\", \"Greenland\", \"Guadeloupe\", \"Guangdong\", \"Guangxi\", \"Guizhou\", \"Hainan\", \"Hebei\", \"Heilongjiang\", \"Henan\", \"Hong Kong\", \"Hubei\", \"Hunan\", \"Inner Mongolia\", \"Isle of Man\", \"Jiangsu\", \"Jiangxi\", \"Jilin\", \"Liaoning\", \"Macau\", \"Manitoba\", \"Martinique\", \"Mayotte\", \"Montserrat\", \"New Brunswick\", \"New Caledonia\", \"New South Wales\", \"Newfoundland and Labrador\", \"Ningxia\", \"Northern Territory\", \"Northwest Territories\", \"Nova Scotia\", \"Ontario\", \"Prince Edward Island\", \"Qinghai\", \"Quebec\", \"Queensland\", \"Reunion\", \"Saint Barthelemy\", \"Saint Pierre and Miquelon\", \"Saskatchewan\", \"Shaanxi\", \"Shandong\", \"Shanghai\", \"Shanxi\", \"Sichuan\", \"Sint Maarten\", \"South Australia\", \"St Martin\", \"Tasmania\", \"Tianjin\", \"Tibet\", \"Turks and Caicos Islands\", \"Victoria\", \"Western Australia\", \"Xinjiang\", \"Yukon\", \"Yunnan\", \"Zhejiang\", \"Afghanistan\", \"Albania\", \"Algeria\", \"Andorra\", \"Angola\", \"Antigua and Barbuda\", \"Argentina\", \"Armenia\", \"Australia\", \"Austria\", \"Azerbaijan\", \"Bahamas\", \"Bahrain\", \"Bangladesh\", \"Barbados\", \"Belarus\", \"Belgium\", \"Belize\", \"Benin\", \"Bhutan\", \"Bolivia\", \"Bosnia and Herzegovina\", \"Botswana\", \"Brazil\", \"Brunei\", \"Bulgaria\", \"Burkina Faso\", \"Burma\", \"Burundi\", \"Cabo Verde\", \"Cambodia\", \"Cameroon\", \"Canada\", \"Central African Republic\", \"Chad\", \"Chile\", \"China\", \"Colombia\", \"Comoros\", \"Congo (Brazzaville)\", \"Congo (Kinshasa)\", \"Costa Rica\", \"Cote d'Ivoire\", \"Croatia\", \"Cuba\", \"Cyprus\", \"Czechia\", \"Denmark\", \"Djibouti\", \"Dominica\", \"Dominican Republic\", \"Ecuador\", \"Egypt\", \"El Salvador\", \"Equatorial Guinea\", \"Eritrea\", \"Estonia\", \"Eswatini\", \"Ethiopia\", \"Fiji\", \"Finland\", \"France\", \"Gabon\", \"Gambia\", \"Georgia\", \"Germany\", \"Ghana\", \"Greece\", \"Greenland\", \"Grenada\", \"Guatemala\", \"Guinea\", \"Guinea-Bissau\", \"Guyana\", \"Haiti\", \"Holy See\", \"Honduras\", \"Hungary\", \"Iceland\", \"India\", \"Indonesia\", \"Iran\", \"Iraq\", \"Ireland\", \"Israel\", \"Italy\", \"Jamaica\", \"Japan\", \"Jordan\", \"Kazakhstan\", \"Kenya\", \"Kosovo\", \"Kuwait\", \"Kyrgyzstan\", \"Laos\", \"Latvia\", \"Lebanon\", \"Liberia\", \"Libya\", \"Liechtenstein\", \"Lithuania\", \"Luxembourg\", \"Madagascar\", \"Malawi\", \"Malaysia\", \"Maldives\", \"Mali\", \"Malta\", \"Mauritania\", \"Mauritius\", \"Mexico\", \"Moldova\", \"Monaco\", \"Mongolia\", \"Montenegro\", \"Morocco\", \"Mozambique\", \"Namibia\", \"Nepal\", \"Netherlands\", \"New Zealand\", \"Nicaragua\", \"Niger\", \"Nigeria\", \"North Macedonia\", \"Norway\", \"Oman\", \"Pakistan\", \"Panama\", \"Papua New Guinea\", \"Paraguay\", \"Peru\", \"Philippines\", \"Poland\", \"Portugal\", \"Qatar\", \"Romania\", \"Russia\", \"Rwanda\", \"Saint Kitts and Nevis\", \"Saint Lucia\", \"Saint Vincent and the Grenadines\", \"San Marino\", \"Sao Tome and Principe\", \"Saudi Arabia\", \"Senegal\", \"Serbia\", \"Seychelles\", \"Sierra Leone\", \"Singapore\", \"Slovakia\", \"Slovenia\", \"Somalia\", \"South Africa\", \"South Korea\", \"South Sudan\", \"Spain\", \"Sri Lanka\", \"Sudan\", \"Suriname\", \"Sweden\", \"Switzerland\", \"Syria\", \"Taiwan*\", \"Tajikistan\", \"Tanzania\", \"Thailand\", \"Timor-Leste\", \"Togo\", \"Trinidad and Tobago\", \"Tunisia\", \"Turkey\", \"US\", \"Uganda\", \"Ukraine\", \"United Arab Emirates\", \"United Kingdom\", \"Uruguay\", \"Uzbekistan\", \"Venezuela\", \"Vietnam\", \"West Bank and Gaza\", \"Western Sahara\", \"Yemen\", \"Zambia\", \"Zimbabwe\"], \"name\": \"\", \"parents\": [\"Afghanistan\", \"Albania\", \"Algeria\", \"Andorra\", \"Angola\", \"Antigua and Barbuda\", \"Argentina\", \"Armenia\", \"Austria\", \"Azerbaijan\", \"Bahamas\", \"Bahrain\", \"Bangladesh\", \"Barbados\", \"Belarus\", \"Belgium\", \"Belize\", \"Benin\", \"Bhutan\", \"Bolivia\", \"Bosnia and Herzegovina\", \"Botswana\", \"Brazil\", \"Brunei\", \"Bulgaria\", \"Burkina Faso\", \"Burma\", \"Burundi\", \"Cabo Verde\", \"Cambodia\", \"Cameroon\", \"Central African Republic\", \"Chad\", \"Chile\", \"Colombia\", \"Comoros\", \"Congo (Brazzaville)\", \"Congo (Kinshasa)\", \"Costa Rica\", \"Cote d'Ivoire\", \"Croatia\", \"Cuba\", \"Cyprus\", \"Czechia\", \"Denmark\", \"Djibouti\", \"Dominica\", \"Dominican Republic\", \"Ecuador\", \"Egypt\", \"El Salvador\", \"Equatorial Guinea\", \"Eritrea\", \"Estonia\", \"Eswatini\", \"Ethiopia\", \"Fiji\", \"Finland\", \"France\", \"Gabon\", \"Gambia\", \"Georgia\", \"Germany\", \"Ghana\", \"Greece\", \"Grenada\", \"Guatemala\", \"Guinea\", \"Guinea-Bissau\", \"Guyana\", \"Haiti\", \"Holy See\", \"Honduras\", \"Hungary\", \"Iceland\", \"India\", \"Indonesia\", \"Iran\", \"Iraq\", \"Ireland\", \"Israel\", \"Italy\", \"Jamaica\", \"Japan\", \"Jordan\", \"Kazakhstan\", \"Kenya\", \"Kosovo\", \"Kuwait\", \"Kyrgyzstan\", \"Laos\", \"Latvia\", \"Lebanon\", \"Liberia\", \"Libya\", \"Liechtenstein\", \"Lithuania\", \"Luxembourg\", \"Madagascar\", \"Malawi\", \"Malaysia\", \"Maldives\", \"Mali\", \"Malta\", \"Mauritania\", \"Mauritius\", \"Mexico\", \"Moldova\", \"Monaco\", \"Mongolia\", \"Montenegro\", \"Morocco\", \"Mozambique\", \"Namibia\", \"Nepal\", \"Netherlands\", \"New Zealand\", \"Nicaragua\", \"Niger\", \"Nigeria\", \"North Macedonia\", \"Norway\", \"Oman\", \"Pakistan\", \"Panama\", \"Papua New Guinea\", \"Paraguay\", \"Peru\", \"Philippines\", \"Poland\", \"Portugal\", \"Qatar\", \"Romania\", \"Russia\", \"Rwanda\", \"Saint Kitts and Nevis\", \"Saint Lucia\", \"Saint Vincent and the Grenadines\", \"San Marino\", \"Sao Tome and Principe\", \"Saudi Arabia\", \"Senegal\", \"Serbia\", \"Seychelles\", \"Sierra Leone\", \"Singapore\", \"Slovakia\", \"Slovenia\", \"Somalia\", \"South Africa\", \"South Korea\", \"South Sudan\", \"Spain\", \"Sri Lanka\", \"Sudan\", \"Suriname\", \"Sweden\", \"Switzerland\", \"Syria\", \"Taiwan*\", \"Tajikistan\", \"Tanzania\", \"Thailand\", \"Timor-Leste\", \"Togo\", \"Trinidad and Tobago\", \"Tunisia\", \"Turkey\", \"US\", \"Uganda\", \"Ukraine\", \"United Arab Emirates\", \"United Kingdom\", \"Uruguay\", \"Uzbekistan\", \"Venezuela\", \"Vietnam\", \"West Bank and Gaza\", \"Western Sahara\", \"Yemen\", \"Zambia\", \"Zimbabwe\", \"Canada\", \"United Kingdom\", \"China\", \"Netherlands\", \"Australia\", \"China\", \"United Kingdom\", \"Canada\", \"United Kingdom\", \"United Kingdom\", \"United Kingdom\", \"China\", \"Netherlands\", \"United Kingdom\", \"Denmark\", \"France\", \"France\", \"China\", \"China\", \"United Kingdom\", \"Greenland\", \"France\", \"China\", \"China\", \"China\", \"China\", \"China\", \"China\", \"China\", \"China\", \"China\", \"China\", \"China\", \"United Kingdom\", \"China\", \"China\", \"China\", \"China\", \"China\", \"Canada\", \"France\", \"France\", \"United Kingdom\", \"Canada\", \"France\", \"Australia\", \"Canada\", \"China\", \"Australia\", \"Canada\", \"Canada\", \"Canada\", \"Canada\", \"China\", \"Canada\", \"Australia\", \"France\", \"France\", \"France\", \"Canada\", \"China\", \"China\", \"China\", \"China\", \"China\", \"Netherlands\", \"Australia\", \"France\", \"Australia\", \"China\", \"China\", \"United Kingdom\", \"Australia\", \"Australia\", \"China\", \"Canada\", \"China\", \"China\", \"\", \"\", \"\", \"\", \"\", \"\", \"\", \"\", \"\", \"\", \"\", \"\", \"\", \"\", \"\", \"\", \"\", \"\", \"\", \"\", \"\", \"\", \"\", \"\", \"\", \"\", \"\", \"\", \"\", \"\", \"\", \"\", \"\", \"\", \"\", \"\", \"\", \"\", \"\", \"\", \"\", \"\", \"\", \"\", \"\", \"\", \"\", \"\", \"\", \"\", \"\", \"\", \"\", \"\", \"\", \"\", \"\", \"\", \"\", \"\", \"\", \"\", \"\", \"\", \"\", \"\", \"\", \"\", \"\", \"\", \"\", \"\", \"\", \"\", \"\", \"\", \"\", \"\", \"\", \"\", \"\", \"\", \"\", \"\", \"\", \"\", \"\", \"\", \"\", \"\", \"\", \"\", \"\", \"\", \"\", \"\", \"\", \"\", \"\", \"\", \"\", \"\", \"\", \"\", \"\", \"\", \"\", \"\", \"\", \"\", \"\", \"\", \"\", \"\", \"\", \"\", \"\", \"\", \"\", \"\", \"\", \"\", \"\", \"\", \"\", \"\", \"\", \"\", \"\", \"\", \"\", \"\", \"\", \"\", \"\", \"\", \"\", \"\", \"\", \"\", \"\", \"\", \"\", \"\", \"\", \"\", \"\", \"\", \"\", \"\", \"\", \"\", \"\", \"\", \"\", \"\", \"\", \"\", \"\", \"\", \"\", \"\", \"\", \"\", \"\", \"\", \"\", \"\", \"\", \"\", \"\", \"\", \"\", \"\", \"\", \"\", \"\", \"\", \"\", \"\", \"\", \"\", \"\", \"\", \"\", \"\"], \"textinfo\": \"label+text+value\", \"type\": \"treemap\", \"values\": [115, 31, 494, 48, 2, 3, 300, 44, 615, 31, 11, 8, 214, 7, 126, 8581, 2, 2, 0, 114, 102, 1, 10656, 1, 90, 48, 6, 1, 2, 0, 108, 0, 31, 304, 445, 1, 10, 39, 6, 21, 87, 74, 15, 276, 526, 3, 0, 385, 1717, 514, 17, 4, 0, 60, 2, 5, 0, 265, 26271, 8, 1, 10, 7549, 22, 151, 0, 24, 11, 3, 10, 12, 0, 108, 405, 10, 2101, 959, 6589, 107, 1446, 247, 30395, 9, 607, 9, 31, 30, 28, 49, 12, 0, 18, 26, 20, 3, 1, 49, 101, 0, 3, 108, 3, 37, 5, 1, 10, 3353, 161, 4, 0, 8, 186, 0, 0, 0, 5422, 21, 5, 45, 128, 91, 219, 17, 636, 237, 0, 10, 1814, 704, 785, 1126, 13, 939, 1827, 0, 0, 0, 0, 41, 5, 239, 17, 215, 0, 18, 20, 26, 101, 48, 186, 256, 0, 26478, 9, 64, 1, 3220, 1830, 3, 6, 20, 21, 56, 0, 10, 8, 45, 3739, 78795, 0, 376, 185, 31587, 18, 10, 10, 0, 2, 0, 7, 7, 4, 116, 0, 6, 3, 3, 9, 7, 129, 1, 1, 41, 6, 1, 0, 0, 1, 0, 1, 2, 0, 0, 13, 8, 2, 2, 6, 6, 13, 22, 4, 4512, 4, 1, 23, 0, 1, 1, 2, 0, 7, 14, 11, 1, 0, 0, 44, 3, 0, 0, 0, 47, 1726, 0, 0, 2787, 6, 0, 0, 0, 7, 3, 7, 7, 0, 3, 15, 4, 3, 13, 3, 0, 1, 18, 9, 3, 0, 2, 1, 115, 31, 494, 48, 2, 3, 300, 44, 97, 615, 31, 11, 8, 214, 7, 126, 8581, 2, 2, 0, 114, 102, 1, 10656, 1, 90, 48, 6, 1, 2, 0, 108, 4822, 0, 31, 304, 4637, 445, 1, 10, 39, 6, 21, 87, 74, 15, 276, 526, 3, 0, 385, 1717, 514, 17, 4, 0, 60, 2, 5, 0, 265, 26313, 8, 1, 10, 7549, 22, 151, 0, 0, 24, 11, 3, 10, 12, 0, 108, 405, 10, 2101, 959, 6589, 107, 1446, 247, 30395, 9, 607, 9, 31, 30, 28, 49, 12, 0, 18, 26, 20, 3, 1, 49, 101, 0, 3, 108, 3, 37, 5, 1, 10, 3353, 161, 4, 0, 8, 186, 0, 0, 0, 5441, 21, 5, 45, 128, 91, 219, 17, 636, 237, 0, 10, 1814, 704, 785, 1126, 13, 939, 1827, 0, 0, 0, 0, 41, 5, 239, 17, 215, 0, 18, 20, 26, 101, 48, 186, 256, 0, 26478, 9, 64, 1, 3220, 1830, 3, 6, 20, 21, 56, 0, 10, 8, 45, 3739, 78795, 0, 376, 185, 31662, 18, 10, 10, 0, 2, 0, 7, 7, 4]}],\n",
       "                        {\"height\": 700, \"legend\": {\"tracegroupgap\": 0}, \"template\": {\"data\": {\"bar\": [{\"error_x\": {\"color\": \"#2a3f5f\"}, \"error_y\": {\"color\": \"#2a3f5f\"}, \"marker\": {\"line\": {\"color\": \"#E5ECF6\", \"width\": 0.5}}, \"type\": \"bar\"}], \"barpolar\": [{\"marker\": {\"line\": {\"color\": \"#E5ECF6\", \"width\": 0.5}}, \"type\": \"barpolar\"}], \"carpet\": [{\"aaxis\": {\"endlinecolor\": \"#2a3f5f\", \"gridcolor\": \"white\", \"linecolor\": \"white\", \"minorgridcolor\": \"white\", \"startlinecolor\": \"#2a3f5f\"}, \"baxis\": {\"endlinecolor\": \"#2a3f5f\", \"gridcolor\": \"white\", \"linecolor\": \"white\", \"minorgridcolor\": \"white\", \"startlinecolor\": \"#2a3f5f\"}, \"type\": \"carpet\"}], \"choropleth\": [{\"colorbar\": {\"outlinewidth\": 0, \"ticks\": \"\"}, \"type\": \"choropleth\"}], \"contour\": [{\"colorbar\": {\"outlinewidth\": 0, \"ticks\": \"\"}, \"colorscale\": [[0.0, \"#0d0887\"], [0.1111111111111111, \"#46039f\"], [0.2222222222222222, \"#7201a8\"], [0.3333333333333333, \"#9c179e\"], [0.4444444444444444, \"#bd3786\"], [0.5555555555555556, \"#d8576b\"], [0.6666666666666666, \"#ed7953\"], [0.7777777777777778, \"#fb9f3a\"], [0.8888888888888888, \"#fdca26\"], [1.0, \"#f0f921\"]], \"type\": \"contour\"}], \"contourcarpet\": [{\"colorbar\": {\"outlinewidth\": 0, \"ticks\": \"\"}, \"type\": \"contourcarpet\"}], \"heatmap\": [{\"colorbar\": {\"outlinewidth\": 0, \"ticks\": \"\"}, \"colorscale\": [[0.0, \"#0d0887\"], [0.1111111111111111, \"#46039f\"], [0.2222222222222222, \"#7201a8\"], [0.3333333333333333, \"#9c179e\"], [0.4444444444444444, \"#bd3786\"], [0.5555555555555556, \"#d8576b\"], [0.6666666666666666, \"#ed7953\"], [0.7777777777777778, \"#fb9f3a\"], [0.8888888888888888, \"#fdca26\"], [1.0, \"#f0f921\"]], \"type\": \"heatmap\"}], \"heatmapgl\": [{\"colorbar\": {\"outlinewidth\": 0, \"ticks\": \"\"}, \"colorscale\": [[0.0, \"#0d0887\"], [0.1111111111111111, \"#46039f\"], [0.2222222222222222, \"#7201a8\"], [0.3333333333333333, \"#9c179e\"], [0.4444444444444444, \"#bd3786\"], [0.5555555555555556, \"#d8576b\"], [0.6666666666666666, \"#ed7953\"], [0.7777777777777778, \"#fb9f3a\"], [0.8888888888888888, \"#fdca26\"], [1.0, \"#f0f921\"]], \"type\": \"heatmapgl\"}], \"histogram\": [{\"marker\": {\"colorbar\": {\"outlinewidth\": 0, \"ticks\": \"\"}}, \"type\": \"histogram\"}], \"histogram2d\": [{\"colorbar\": {\"outlinewidth\": 0, \"ticks\": \"\"}, \"colorscale\": [[0.0, \"#0d0887\"], [0.1111111111111111, \"#46039f\"], [0.2222222222222222, \"#7201a8\"], [0.3333333333333333, \"#9c179e\"], [0.4444444444444444, \"#bd3786\"], [0.5555555555555556, \"#d8576b\"], [0.6666666666666666, \"#ed7953\"], [0.7777777777777778, \"#fb9f3a\"], [0.8888888888888888, \"#fdca26\"], [1.0, \"#f0f921\"]], \"type\": \"histogram2d\"}], \"histogram2dcontour\": [{\"colorbar\": {\"outlinewidth\": 0, \"ticks\": \"\"}, \"colorscale\": [[0.0, \"#0d0887\"], [0.1111111111111111, \"#46039f\"], [0.2222222222222222, \"#7201a8\"], [0.3333333333333333, \"#9c179e\"], [0.4444444444444444, \"#bd3786\"], [0.5555555555555556, \"#d8576b\"], [0.6666666666666666, \"#ed7953\"], [0.7777777777777778, \"#fb9f3a\"], [0.8888888888888888, \"#fdca26\"], [1.0, \"#f0f921\"]], \"type\": \"histogram2dcontour\"}], \"mesh3d\": [{\"colorbar\": {\"outlinewidth\": 0, \"ticks\": \"\"}, \"type\": \"mesh3d\"}], \"parcoords\": [{\"line\": {\"colorbar\": {\"outlinewidth\": 0, \"ticks\": \"\"}}, \"type\": \"parcoords\"}], \"pie\": [{\"automargin\": true, \"type\": \"pie\"}], \"scatter\": [{\"marker\": {\"colorbar\": {\"outlinewidth\": 0, \"ticks\": \"\"}}, \"type\": \"scatter\"}], \"scatter3d\": [{\"line\": {\"colorbar\": {\"outlinewidth\": 0, \"ticks\": \"\"}}, \"marker\": {\"colorbar\": {\"outlinewidth\": 0, \"ticks\": \"\"}}, \"type\": \"scatter3d\"}], \"scattercarpet\": [{\"marker\": {\"colorbar\": {\"outlinewidth\": 0, \"ticks\": \"\"}}, \"type\": \"scattercarpet\"}], \"scattergeo\": [{\"marker\": {\"colorbar\": {\"outlinewidth\": 0, \"ticks\": \"\"}}, \"type\": \"scattergeo\"}], \"scattergl\": [{\"marker\": {\"colorbar\": {\"outlinewidth\": 0, \"ticks\": \"\"}}, \"type\": \"scattergl\"}], \"scattermapbox\": [{\"marker\": {\"colorbar\": {\"outlinewidth\": 0, \"ticks\": \"\"}}, \"type\": \"scattermapbox\"}], \"scatterpolar\": [{\"marker\": {\"colorbar\": {\"outlinewidth\": 0, \"ticks\": \"\"}}, \"type\": \"scatterpolar\"}], \"scatterpolargl\": [{\"marker\": {\"colorbar\": {\"outlinewidth\": 0, \"ticks\": \"\"}}, \"type\": \"scatterpolargl\"}], \"scatterternary\": [{\"marker\": {\"colorbar\": {\"outlinewidth\": 0, \"ticks\": \"\"}}, \"type\": \"scatterternary\"}], \"surface\": [{\"colorbar\": {\"outlinewidth\": 0, \"ticks\": \"\"}, \"colorscale\": [[0.0, \"#0d0887\"], [0.1111111111111111, \"#46039f\"], [0.2222222222222222, \"#7201a8\"], [0.3333333333333333, \"#9c179e\"], [0.4444444444444444, \"#bd3786\"], [0.5555555555555556, \"#d8576b\"], [0.6666666666666666, \"#ed7953\"], [0.7777777777777778, \"#fb9f3a\"], [0.8888888888888888, \"#fdca26\"], [1.0, \"#f0f921\"]], \"type\": \"surface\"}], \"table\": [{\"cells\": {\"fill\": {\"color\": \"#EBF0F8\"}, \"line\": {\"color\": \"white\"}}, \"header\": {\"fill\": {\"color\": \"#C8D4E3\"}, \"line\": {\"color\": \"white\"}}, \"type\": \"table\"}]}, \"layout\": {\"annotationdefaults\": {\"arrowcolor\": \"#2a3f5f\", \"arrowhead\": 0, \"arrowwidth\": 1}, \"coloraxis\": {\"colorbar\": {\"outlinewidth\": 0, \"ticks\": \"\"}}, \"colorscale\": {\"diverging\": [[0, \"#8e0152\"], [0.1, \"#c51b7d\"], [0.2, \"#de77ae\"], [0.3, \"#f1b6da\"], [0.4, \"#fde0ef\"], [0.5, \"#f7f7f7\"], [0.6, \"#e6f5d0\"], [0.7, \"#b8e186\"], [0.8, \"#7fbc41\"], [0.9, \"#4d9221\"], [1, \"#276419\"]], \"sequential\": [[0.0, \"#0d0887\"], [0.1111111111111111, \"#46039f\"], [0.2222222222222222, \"#7201a8\"], [0.3333333333333333, \"#9c179e\"], [0.4444444444444444, \"#bd3786\"], [0.5555555555555556, \"#d8576b\"], [0.6666666666666666, \"#ed7953\"], [0.7777777777777778, \"#fb9f3a\"], [0.8888888888888888, \"#fdca26\"], [1.0, \"#f0f921\"]], \"sequentialminus\": [[0.0, \"#0d0887\"], [0.1111111111111111, \"#46039f\"], [0.2222222222222222, \"#7201a8\"], [0.3333333333333333, \"#9c179e\"], [0.4444444444444444, \"#bd3786\"], [0.5555555555555556, \"#d8576b\"], [0.6666666666666666, \"#ed7953\"], [0.7777777777777778, \"#fb9f3a\"], [0.8888888888888888, \"#fdca26\"], [1.0, \"#f0f921\"]]}, \"colorway\": [\"#636efa\", \"#EF553B\", \"#00cc96\", \"#ab63fa\", \"#FFA15A\", \"#19d3f3\", \"#FF6692\", \"#B6E880\", \"#FF97FF\", \"#FECB52\"], \"font\": {\"color\": \"#2a3f5f\"}, \"geo\": {\"bgcolor\": \"white\", \"lakecolor\": \"white\", \"landcolor\": \"#E5ECF6\", \"showlakes\": true, \"showland\": true, \"subunitcolor\": \"white\"}, \"hoverlabel\": {\"align\": \"left\"}, \"hovermode\": \"closest\", \"mapbox\": {\"style\": \"light\"}, \"paper_bgcolor\": \"white\", \"plot_bgcolor\": \"#E5ECF6\", \"polar\": {\"angularaxis\": {\"gridcolor\": \"white\", \"linecolor\": \"white\", \"ticks\": \"\"}, \"bgcolor\": \"#E5ECF6\", \"radialaxis\": {\"gridcolor\": \"white\", \"linecolor\": \"white\", \"ticks\": \"\"}}, \"scene\": {\"xaxis\": {\"backgroundcolor\": \"#E5ECF6\", \"gridcolor\": \"white\", \"gridwidth\": 2, \"linecolor\": \"white\", \"showbackground\": true, \"ticks\": \"\", \"zerolinecolor\": \"white\"}, \"yaxis\": {\"backgroundcolor\": \"#E5ECF6\", \"gridcolor\": \"white\", \"gridwidth\": 2, \"linecolor\": \"white\", \"showbackground\": true, \"ticks\": \"\", \"zerolinecolor\": \"white\"}, \"zaxis\": {\"backgroundcolor\": \"#E5ECF6\", \"gridcolor\": \"white\", \"gridwidth\": 2, \"linecolor\": \"white\", \"showbackground\": true, \"ticks\": \"\", \"zerolinecolor\": \"white\"}}, \"shapedefaults\": {\"line\": {\"color\": \"#2a3f5f\"}}, \"ternary\": {\"aaxis\": {\"gridcolor\": \"white\", \"linecolor\": \"white\", \"ticks\": \"\"}, \"baxis\": {\"gridcolor\": \"white\", \"linecolor\": \"white\", \"ticks\": \"\"}, \"bgcolor\": \"#E5ECF6\", \"caxis\": {\"gridcolor\": \"white\", \"linecolor\": \"white\", \"ticks\": \"\"}}, \"title\": {\"x\": 0.05}, \"xaxis\": {\"automargin\": true, \"gridcolor\": \"white\", \"linecolor\": \"white\", \"ticks\": \"\", \"title\": {\"standoff\": 15}, \"zerolinecolor\": \"white\", \"zerolinewidth\": 2}, \"yaxis\": {\"automargin\": true, \"gridcolor\": \"white\", \"linecolor\": \"white\", \"ticks\": \"\", \"title\": {\"standoff\": 15}, \"zerolinecolor\": \"white\", \"zerolinewidth\": 2}}}, \"title\": {\"text\": \"Number of Deaths reported\"}, \"treemapcolorway\": [\"rgb(27,158,119)\", \"rgb(217,95,2)\", \"rgb(117,112,179)\", \"rgb(231,41,138)\", \"rgb(102,166,30)\", \"rgb(230,171,2)\", \"rgb(166,118,29)\", \"rgb(102,102,102)\"]},\n",
       "                        {\"responsive\": true}\n",
       "                    ).then(function(){\n",
       "                            \n",
       "var gd = document.getElementById('d9224bdf-0e30-4ab6-86a2-ab17d5b499f4');\n",
       "var x = new MutationObserver(function (mutations, observer) {{\n",
       "        var display = window.getComputedStyle(gd).display;\n",
       "        if (!display || display === 'none') {{\n",
       "            console.log([gd, 'removed!']);\n",
       "            Plotly.purge(gd);\n",
       "            observer.disconnect();\n",
       "        }}\n",
       "}});\n",
       "\n",
       "// Listen for the removal of the full notebook cells\n",
       "var notebookContainer = gd.closest('#notebook-container');\n",
       "if (notebookContainer) {{\n",
       "    x.observe(notebookContainer, {childList: true});\n",
       "}}\n",
       "\n",
       "// Listen for the clearing of the current output cell\n",
       "var outputEl = gd.closest('.output');\n",
       "if (outputEl) {{\n",
       "    x.observe(outputEl, {childList: true});\n",
       "}}\n",
       "\n",
       "                        })\n",
       "                };\n",
       "                });\n",
       "            </script>\n",
       "        </div>"
      ]
     },
     "metadata": {},
     "output_type": "display_data"
    }
   ],
   "source": [
    "full_latest = full_table[full_table['Date'] == max(full_table['Date'])]\n",
    "                         \n",
    "fig = px.treemap(full_latest.sort_values(by='Confirmed', ascending=False).reset_index(drop=True), \n",
    "                 path=[\"Country/Region\", \"Province/State\"], values=\"Confirmed\", height=700,\n",
    "                 title='Number of Confirmed Cases',\n",
    "                 color_discrete_sequence = px.colors.qualitative.Dark2)\n",
    "fig.data[0].textinfo = 'label+text+value'\n",
    "fig.show()\n",
    "\n",
    "fig = px.treemap(full_latest.sort_values(by='Deaths', ascending=False).reset_index(drop=True), \n",
    "                 path=[\"Country/Region\", \"Province/State\"], values=\"Deaths\", height=700,\n",
    "                 title='Number of Deaths reported',\n",
    "                 color_discrete_sequence = px.colors.qualitative.Dark2)\n",
    "fig.data[0].textinfo = 'label+text+value'\n",
    "fig.show()"
   ]
  },
  {
   "cell_type": "code",
   "execution_count": 15,
   "metadata": {},
   "outputs": [
    {
     "data": {
      "application/vnd.plotly.v1+json": {
       "config": {
        "plotlyServerURL": "https://plot.ly"
       },
       "data": [
        {
         "fill": "toself",
         "fillcolor": "rgb(1, 145, 48)",
         "hoverinfo": "name",
         "legendgroup": "rgb(1, 145, 48)",
         "mode": "none",
         "name": "Nigeria",
         "showlegend": false,
         "type": "scatter",
         "x": [
          "2020-02-28T00:00:00",
          "2020-05-10T00:00:00",
          "2020-05-10T00:00:00",
          "2020-02-28T00:00:00"
         ],
         "y": [
          131.8,
          131.8,
          132.2,
          132.2
         ]
        },
        {
         "fill": "toself",
         "fillcolor": "rgb(1, 154, 91)",
         "hoverinfo": "name",
         "legendgroup": "rgb(1, 154, 91)",
         "mode": "none",
         "name": "Qatar",
         "showlegend": false,
         "type": "scatter",
         "x": [
          "2020-02-29T00:00:00",
          "2020-05-10T00:00:00",
          "2020-05-10T00:00:00",
          "2020-02-29T00:00:00"
         ],
         "y": [
          127.8,
          127.8,
          128.2,
          128.2
         ]
        },
        {
         "fill": "toself",
         "fillcolor": "rgb(1, 155, 185)",
         "hoverinfo": "name",
         "legendgroup": "rgb(1, 155, 185)",
         "mode": "none",
         "name": "Central African Republic",
         "showlegend": false,
         "type": "scatter",
         "x": [
          "2020-03-15T00:00:00",
          "2020-05-09T00:00:00",
          "2020-05-09T00:00:00",
          "2020-03-15T00:00:00"
         ],
         "y": [
          60.8,
          60.8,
          61.2,
          61.2
         ]
        },
        {
         "fill": "toself",
         "fillcolor": "rgb(10, 38, 153)",
         "hoverinfo": "name",
         "legendgroup": "rgb(10, 38, 153)",
         "mode": "none",
         "name": "Andorra",
         "showlegend": false,
         "type": "scatter",
         "x": [
          "2020-03-02T00:00:00",
          "2020-05-10T00:00:00",
          "2020-05-10T00:00:00",
          "2020-03-02T00:00:00"
         ],
         "y": [
          115.8,
          115.8,
          116.2,
          116.2
         ]
        },
        {
         "fill": "toself",
         "fillcolor": "rgb(100, 179, 153)",
         "hoverinfo": "name",
         "legendgroup": "rgb(100, 179, 153)",
         "mode": "none",
         "name": "Mongolia",
         "showlegend": false,
         "type": "scatter",
         "x": [
          "2020-03-10T00:00:00",
          "2020-05-09T00:00:00",
          "2020-05-09T00:00:00",
          "2020-03-10T00:00:00"
         ],
         "y": [
          83.8,
          83.8,
          84.2,
          84.2
         ]
        },
        {
         "fill": "toself",
         "fillcolor": "rgb(102, 33, 168)",
         "hoverinfo": "name",
         "legendgroup": "rgb(102, 33, 168)",
         "mode": "none",
         "name": "Burkina Faso",
         "showlegend": false,
         "type": "scatter",
         "x": [
          "2020-03-10T00:00:00",
          "2020-05-10T00:00:00",
          "2020-05-10T00:00:00",
          "2020-03-10T00:00:00"
         ],
         "y": [
          84.8,
          84.8,
          85.2,
          85.2
         ]
        },
        {
         "fill": "toself",
         "fillcolor": "rgb(102, 51, 134)",
         "hoverinfo": "name",
         "legendgroup": "rgb(102, 51, 134)",
         "mode": "none",
         "name": "Eritrea",
         "showlegend": false,
         "type": "scatter",
         "x": [
          "2020-03-21T00:00:00",
          "2020-04-19T00:00:00",
          "2020-04-19T00:00:00",
          "2020-03-21T00:00:00"
         ],
         "y": [
          10.8,
          10.8,
          11.2,
          11.2
         ]
        },
        {
         "fill": "toself",
         "fillcolor": "rgb(102, 92, 70)",
         "hoverinfo": "name",
         "legendgroup": "rgb(102, 92, 70)",
         "mode": "none",
         "name": "Holy See",
         "showlegend": false,
         "type": "scatter",
         "x": [
          "2020-03-06T00:00:00",
          "2020-05-07T00:00:00",
          "2020-05-07T00:00:00",
          "2020-03-06T00:00:00"
         ],
         "y": [
          86.8,
          86.8,
          87.2,
          87.2
         ]
        },
        {
         "fill": "toself",
         "fillcolor": "rgb(103, 8, 89)",
         "hoverinfo": "name",
         "legendgroup": "rgb(103, 8, 89)",
         "mode": "none",
         "name": "Cyprus",
         "showlegend": false,
         "type": "scatter",
         "x": [
          "2020-03-09T00:00:00",
          "2020-05-10T00:00:00",
          "2020-05-10T00:00:00",
          "2020-03-09T00:00:00"
         ],
         "y": [
          87.8,
          87.8,
          88.2,
          88.2
         ]
        },
        {
         "fill": "toself",
         "fillcolor": "rgb(103, 81, 10)",
         "hoverinfo": "name",
         "legendgroup": "rgb(103, 81, 10)",
         "mode": "none",
         "name": "Gambia",
         "showlegend": false,
         "type": "scatter",
         "x": [
          "2020-03-17T00:00:00",
          "2020-05-09T00:00:00",
          "2020-05-09T00:00:00",
          "2020-03-17T00:00:00"
         ],
         "y": [
          51.8,
          51.8,
          52.2,
          52.2
         ]
        },
        {
         "fill": "toself",
         "fillcolor": "rgb(104, 35, 180)",
         "hoverinfo": "name",
         "legendgroup": "rgb(104, 35, 180)",
         "mode": "none",
         "name": "Georgia",
         "showlegend": false,
         "type": "scatter",
         "x": [
          "2020-02-26T00:00:00",
          "2020-05-10T00:00:00",
          "2020-05-10T00:00:00",
          "2020-02-26T00:00:00"
         ],
         "y": [
          140.8,
          140.8,
          141.2,
          141.2
         ]
        },
        {
         "fill": "toself",
         "fillcolor": "rgb(105, 137, 6)",
         "hoverinfo": "name",
         "legendgroup": "rgb(105, 137, 6)",
         "mode": "none",
         "name": "Belgium",
         "showlegend": false,
         "type": "scatter",
         "x": [
          "2020-02-04T00:00:00",
          "2020-05-10T00:00:00",
          "2020-05-10T00:00:00",
          "2020-02-04T00:00:00"
         ],
         "y": [
          160.8,
          160.8,
          161.2,
          161.2
         ]
        },
        {
         "fill": "toself",
         "fillcolor": "rgb(106, 172, 144)",
         "hoverinfo": "name",
         "legendgroup": "rgb(106, 172, 144)",
         "mode": "none",
         "name": "Uruguay",
         "showlegend": false,
         "type": "scatter",
         "x": [
          "2020-03-14T00:00:00",
          "2020-05-10T00:00:00",
          "2020-05-10T00:00:00",
          "2020-03-14T00:00:00"
         ],
         "y": [
          68.8,
          68.8,
          69.2,
          69.2
         ]
        },
        {
         "fill": "toself",
         "fillcolor": "rgb(108, 140, 39)",
         "hoverinfo": "name",
         "legendgroup": "rgb(108, 140, 39)",
         "mode": "none",
         "name": "Honduras",
         "showlegend": false,
         "type": "scatter",
         "x": [
          "2020-03-11T00:00:00",
          "2020-05-10T00:00:00",
          "2020-05-10T00:00:00",
          "2020-03-11T00:00:00"
         ],
         "y": [
          82.8,
          82.8,
          83.2,
          83.2
         ]
        },
        {
         "fill": "toself",
         "fillcolor": "rgb(113, 129, 108)",
         "hoverinfo": "name",
         "legendgroup": "rgb(113, 129, 108)",
         "mode": "none",
         "name": "Guinea-Bissau",
         "showlegend": false,
         "type": "scatter",
         "x": [
          "2020-03-25T00:00:00",
          "2020-05-10T00:00:00",
          "2020-05-10T00:00:00",
          "2020-03-25T00:00:00"
         ],
         "y": [
          27.8,
          27.8,
          28.2,
          28.2
         ]
        },
        {
         "fill": "toself",
         "fillcolor": "rgb(113, 60, 184)",
         "hoverinfo": "name",
         "legendgroup": "rgb(113, 60, 184)",
         "mode": "none",
         "name": "New Zealand",
         "showlegend": false,
         "type": "scatter",
         "x": [
          "2020-02-28T00:00:00",
          "2020-05-10T00:00:00",
          "2020-05-10T00:00:00",
          "2020-02-28T00:00:00"
         ],
         "y": [
          133.8,
          133.8,
          134.2,
          134.2
         ]
        },
        {
         "fill": "toself",
         "fillcolor": "rgb(115, 117, 117)",
         "hoverinfo": "name",
         "legendgroup": "rgb(115, 117, 117)",
         "mode": "none",
         "name": "Antigua and Barbuda",
         "showlegend": false,
         "type": "scatter",
         "x": [
          "2020-03-13T00:00:00",
          "2020-05-02T00:00:00",
          "2020-05-02T00:00:00",
          "2020-03-13T00:00:00"
         ],
         "y": [
          36.8,
          36.8,
          37.2,
          37.2
         ]
        },
        {
         "fill": "toself",
         "fillcolor": "rgb(115, 149, 1)",
         "hoverinfo": "name",
         "legendgroup": "rgb(115, 149, 1)",
         "mode": "none",
         "name": "Serbia",
         "showlegend": false,
         "type": "scatter",
         "x": [
          "2020-03-06T00:00:00",
          "2020-05-10T00:00:00",
          "2020-05-10T00:00:00",
          "2020-03-06T00:00:00"
         ],
         "y": [
          99.8,
          99.8,
          100.2,
          100.2
         ]
        },
        {
         "fill": "toself",
         "fillcolor": "rgb(115, 24, 194)",
         "hoverinfo": "name",
         "legendgroup": "rgb(115, 24, 194)",
         "mode": "none",
         "name": "Guinea",
         "showlegend": false,
         "type": "scatter",
         "x": [
          "2020-03-13T00:00:00",
          "2020-05-10T00:00:00",
          "2020-05-10T00:00:00",
          "2020-03-13T00:00:00"
         ],
         "y": [
          71.8,
          71.8,
          72.2,
          72.2
         ]
        },
        {
         "fill": "toself",
         "fillcolor": "rgb(115, 88, 161)",
         "hoverinfo": "name",
         "legendgroup": "rgb(115, 88, 161)",
         "mode": "none",
         "name": "Germany",
         "showlegend": false,
         "type": "scatter",
         "x": [
          "2020-01-27T00:00:00",
          "2020-05-10T00:00:00",
          "2020-05-10T00:00:00",
          "2020-01-27T00:00:00"
         ],
         "y": [
          170.8,
          170.8,
          171.2,
          171.2
         ]
        },
        {
         "fill": "toself",
         "fillcolor": "rgb(117, 123, 156)",
         "hoverinfo": "name",
         "legendgroup": "rgb(117, 123, 156)",
         "mode": "none",
         "name": "Congo (Brazzaville)",
         "showlegend": false,
         "type": "scatter",
         "x": [
          "2020-03-15T00:00:00",
          "2020-05-09T00:00:00",
          "2020-05-09T00:00:00",
          "2020-03-15T00:00:00"
         ],
         "y": [
          58.8,
          58.8,
          59.2,
          59.2
         ]
        },
        {
         "fill": "toself",
         "fillcolor": "rgb(118, 161, 17)",
         "hoverinfo": "name",
         "legendgroup": "rgb(118, 161, 17)",
         "mode": "none",
         "name": "Colombia",
         "showlegend": false,
         "type": "scatter",
         "x": [
          "2020-03-06T00:00:00",
          "2020-05-10T00:00:00",
          "2020-05-10T00:00:00",
          "2020-03-06T00:00:00"
         ],
         "y": [
          100.8,
          100.8,
          101.2,
          101.2
         ]
        },
        {
         "fill": "toself",
         "fillcolor": "rgb(119, 151, 99)",
         "hoverinfo": "name",
         "legendgroup": "rgb(119, 151, 99)",
         "mode": "none",
         "name": "South Korea",
         "showlegend": false,
         "type": "scatter",
         "x": [
          "2020-01-22T00:00:00",
          "2020-05-10T00:00:00",
          "2020-05-10T00:00:00",
          "2020-01-22T00:00:00"
         ],
         "y": [
          183.8,
          183.8,
          184.2,
          184.2
         ]
        },
        {
         "fill": "toself",
         "fillcolor": "rgb(120, 122, 81)",
         "hoverinfo": "name",
         "legendgroup": "rgb(120, 122, 81)",
         "mode": "none",
         "name": "Egypt",
         "showlegend": false,
         "type": "scatter",
         "x": [
          "2020-02-14T00:00:00",
          "2020-05-10T00:00:00",
          "2020-05-10T00:00:00",
          "2020-02-14T00:00:00"
         ],
         "y": [
          159.8,
          159.8,
          160.2,
          160.2
         ]
        },
        {
         "fill": "toself",
         "fillcolor": "rgb(120, 163, 112)",
         "hoverinfo": "name",
         "legendgroup": "rgb(120, 163, 112)",
         "mode": "none",
         "name": "Niger",
         "showlegend": false,
         "type": "scatter",
         "x": [
          "2020-03-20T00:00:00",
          "2020-05-10T00:00:00",
          "2020-05-10T00:00:00",
          "2020-03-20T00:00:00"
         ],
         "y": [
          43.8,
          43.8,
          44.2,
          44.2
         ]
        },
        {
         "fill": "toself",
         "fillcolor": "rgb(128, 119, 4)",
         "hoverinfo": "name",
         "legendgroup": "rgb(128, 119, 4)",
         "mode": "none",
         "name": "Madagascar",
         "showlegend": false,
         "type": "scatter",
         "x": [
          "2020-03-20T00:00:00",
          "2020-05-08T00:00:00",
          "2020-05-08T00:00:00",
          "2020-03-20T00:00:00"
         ],
         "y": [
          34.8,
          34.8,
          35.2,
          35.2
         ]
        },
        {
         "fill": "toself",
         "fillcolor": "rgb(129, 138, 146)",
         "hoverinfo": "name",
         "legendgroup": "rgb(129, 138, 146)",
         "mode": "none",
         "name": "Botswana",
         "showlegend": false,
         "type": "scatter",
         "x": [
          "2020-03-30T00:00:00",
          "2020-04-29T00:00:00",
          "2020-04-29T00:00:00",
          "2020-03-30T00:00:00"
         ],
         "y": [
          12.8,
          12.8,
          13.2,
          13.2
         ]
        },
        {
         "fill": "toself",
         "fillcolor": "rgb(129, 140, 101)",
         "hoverinfo": "name",
         "legendgroup": "rgb(129, 140, 101)",
         "mode": "none",
         "name": "Jamaica",
         "showlegend": false,
         "type": "scatter",
         "x": [
          "2020-03-11T00:00:00",
          "2020-05-09T00:00:00",
          "2020-05-09T00:00:00",
          "2020-03-11T00:00:00"
         ],
         "y": [
          75.8,
          75.8,
          76.2,
          76.2
         ]
        },
        {
         "fill": "toself",
         "fillcolor": "rgb(129, 201, 69)",
         "hoverinfo": "name",
         "legendgroup": "rgb(129, 201, 69)",
         "mode": "none",
         "name": "Cuba",
         "showlegend": false,
         "type": "scatter",
         "x": [
          "2020-03-12T00:00:00",
          "2020-05-10T00:00:00",
          "2020-05-10T00:00:00",
          "2020-03-12T00:00:00"
         ],
         "y": [
          76.8,
          76.8,
          77.2,
          77.2
         ]
        },
        {
         "fill": "toself",
         "fillcolor": "rgb(131, 138, 49)",
         "hoverinfo": "name",
         "legendgroup": "rgb(131, 138, 49)",
         "mode": "none",
         "name": "Vietnam",
         "showlegend": false,
         "type": "scatter",
         "x": [
          "2020-01-23T00:00:00",
          "2020-05-08T00:00:00",
          "2020-05-08T00:00:00",
          "2020-01-23T00:00:00"
         ],
         "y": [
          176.8,
          176.8,
          177.2,
          177.2
         ]
        },
        {
         "fill": "toself",
         "fillcolor": "rgb(131, 198, 3)",
         "hoverinfo": "name",
         "legendgroup": "rgb(131, 198, 3)",
         "mode": "none",
         "name": "Mozambique",
         "showlegend": false,
         "type": "scatter",
         "x": [
          "2020-03-22T00:00:00",
          "2020-05-10T00:00:00",
          "2020-05-10T00:00:00",
          "2020-03-22T00:00:00"
         ],
         "y": [
          32.8,
          32.8,
          33.2,
          33.2
         ]
        },
        {
         "fill": "toself",
         "fillcolor": "rgb(132, 50, 59)",
         "hoverinfo": "name",
         "legendgroup": "rgb(132, 50, 59)",
         "mode": "none",
         "name": "Djibouti",
         "showlegend": false,
         "type": "scatter",
         "x": [
          "2020-03-18T00:00:00",
          "2020-05-10T00:00:00",
          "2020-05-10T00:00:00",
          "2020-03-18T00:00:00"
         ],
         "y": [
          49.8,
          49.8,
          50.2,
          50.2
         ]
        },
        {
         "fill": "toself",
         "fillcolor": "rgb(133, 1, 23)",
         "hoverinfo": "name",
         "legendgroup": "rgb(133, 1, 23)",
         "mode": "none",
         "name": "Benin",
         "showlegend": false,
         "type": "scatter",
         "x": [
          "2020-03-16T00:00:00",
          "2020-05-10T00:00:00",
          "2020-05-10T00:00:00",
          "2020-03-16T00:00:00"
         ],
         "y": [
          59.8,
          59.8,
          60.2,
          60.2
         ]
        },
        {
         "fill": "toself",
         "fillcolor": "rgb(135, 176, 32)",
         "hoverinfo": "name",
         "legendgroup": "rgb(135, 176, 32)",
         "mode": "none",
         "name": "Liechtenstein",
         "showlegend": false,
         "type": "scatter",
         "x": [
          "2020-03-04T00:00:00",
          "2020-04-27T00:00:00",
          "2020-04-27T00:00:00",
          "2020-03-04T00:00:00"
         ],
         "y": [
          53.8,
          53.8,
          54.2,
          54.2
         ]
        },
        {
         "fill": "toself",
         "fillcolor": "rgb(135, 85, 198)",
         "hoverinfo": "name",
         "legendgroup": "rgb(135, 85, 198)",
         "mode": "none",
         "name": "Papua New Guinea",
         "showlegend": false,
         "type": "scatter",
         "x": [
          "2020-03-20T00:00:00",
          "2020-04-23T00:00:00",
          "2020-04-23T00:00:00",
          "2020-03-20T00:00:00"
         ],
         "y": [
          16.8,
          16.8,
          17.2,
          17.2
         ]
        },
        {
         "fill": "toself",
         "fillcolor": "rgb(136, 162, 123)",
         "hoverinfo": "name",
         "legendgroup": "rgb(136, 162, 123)",
         "mode": "none",
         "name": "Brunei",
         "showlegend": false,
         "type": "scatter",
         "x": [
          "2020-03-09T00:00:00",
          "2020-05-08T00:00:00",
          "2020-05-08T00:00:00",
          "2020-03-09T00:00:00"
         ],
         "y": [
          80.8,
          80.8,
          81.2,
          81.2
         ]
        },
        {
         "fill": "toself",
         "fillcolor": "rgb(136, 164, 39)",
         "hoverinfo": "name",
         "legendgroup": "rgb(136, 164, 39)",
         "mode": "none",
         "name": "Seychelles",
         "showlegend": false,
         "type": "scatter",
         "x": [
          "2020-03-14T00:00:00",
          "2020-04-07T00:00:00",
          "2020-04-07T00:00:00",
          "2020-03-14T00:00:00"
         ],
         "y": [
          8.8,
          8.8,
          9.2,
          9.2
         ]
        },
        {
         "fill": "toself",
         "fillcolor": "rgb(137, 40, 26)",
         "hoverinfo": "name",
         "legendgroup": "rgb(137, 40, 26)",
         "mode": "none",
         "name": "Spain",
         "showlegend": false,
         "type": "scatter",
         "x": [
          "2020-02-01T00:00:00",
          "2020-05-10T00:00:00",
          "2020-05-10T00:00:00",
          "2020-02-01T00:00:00"
         ],
         "y": [
          161.8,
          161.8,
          162.2,
          162.2
         ]
        },
        {
         "fill": "toself",
         "fillcolor": "rgb(139, 24, 23)",
         "hoverinfo": "name",
         "legendgroup": "rgb(139, 24, 23)",
         "mode": "none",
         "name": "Saint Kitts and Nevis",
         "showlegend": false,
         "type": "scatter",
         "x": [
          "2020-03-25T00:00:00",
          "2020-04-21T00:00:00",
          "2020-04-21T00:00:00",
          "2020-03-25T00:00:00"
         ],
         "y": [
          9.8,
          9.8,
          10.2,
          10.2
         ]
        },
        {
         "fill": "toself",
         "fillcolor": "rgb(145, 132, 154)",
         "hoverinfo": "name",
         "legendgroup": "rgb(145, 132, 154)",
         "mode": "none",
         "name": "Australia",
         "showlegend": false,
         "type": "scatter",
         "x": [
          "2020-01-26T00:00:00",
          "2020-05-10T00:00:00",
          "2020-05-10T00:00:00",
          "2020-01-26T00:00:00"
         ],
         "y": [
          172.8,
          172.8,
          173.2,
          173.2
         ]
        },
        {
         "fill": "toself",
         "fillcolor": "rgb(145, 179, 192)",
         "hoverinfo": "name",
         "legendgroup": "rgb(145, 179, 192)",
         "mode": "none",
         "name": "Saudi Arabia",
         "showlegend": false,
         "type": "scatter",
         "x": [
          "2020-03-02T00:00:00",
          "2020-05-10T00:00:00",
          "2020-05-10T00:00:00",
          "2020-03-02T00:00:00"
         ],
         "y": [
          113.8,
          113.8,
          114.2,
          114.2
         ]
        },
        {
         "fill": "toself",
         "fillcolor": "rgb(147, 119, 117)",
         "hoverinfo": "name",
         "legendgroup": "rgb(147, 119, 117)",
         "mode": "none",
         "name": "Western Sahara",
         "showlegend": false,
         "type": "scatter",
         "x": [
          "2020-04-05T00:00:00",
          "2020-04-13T00:00:00",
          "2020-04-13T00:00:00",
          "2020-04-05T00:00:00"
         ],
         "y": [
          -0.2,
          -0.2,
          0.2,
          0.2
         ]
        },
        {
         "fill": "toself",
         "fillcolor": "rgb(147, 204, 60)",
         "hoverinfo": "name",
         "legendgroup": "rgb(147, 204, 60)",
         "mode": "none",
         "name": "Gabon",
         "showlegend": false,
         "type": "scatter",
         "x": [
          "2020-03-14T00:00:00",
          "2020-05-10T00:00:00",
          "2020-05-10T00:00:00",
          "2020-03-14T00:00:00"
         ],
         "y": [
          63.8,
          63.8,
          64.2,
          64.2
         ]
        },
        {
         "fill": "toself",
         "fillcolor": "rgb(149, 24, 186)",
         "hoverinfo": "name",
         "legendgroup": "rgb(149, 24, 186)",
         "mode": "none",
         "name": "Armenia",
         "showlegend": false,
         "type": "scatter",
         "x": [
          "2020-03-01T00:00:00",
          "2020-05-10T00:00:00",
          "2020-05-10T00:00:00",
          "2020-03-01T00:00:00"
         ],
         "y": [
          122.8,
          122.8,
          123.2,
          123.2
         ]
        },
        {
         "fill": "toself",
         "fillcolor": "rgb(149, 90, 33)",
         "hoverinfo": "name",
         "legendgroup": "rgb(149, 90, 33)",
         "mode": "none",
         "name": "Russia",
         "showlegend": false,
         "type": "scatter",
         "x": [
          "2020-01-31T00:00:00",
          "2020-05-10T00:00:00",
          "2020-05-10T00:00:00",
          "2020-01-31T00:00:00"
         ],
         "y": [
          164.8,
          164.8,
          165.2,
          165.2
         ]
        },
        {
         "fill": "toself",
         "fillcolor": "rgb(150, 134, 122)",
         "hoverinfo": "name",
         "legendgroup": "rgb(150, 134, 122)",
         "mode": "none",
         "name": "United Kingdom",
         "showlegend": false,
         "type": "scatter",
         "x": [
          "2020-01-31T00:00:00",
          "2020-05-10T00:00:00",
          "2020-05-10T00:00:00",
          "2020-01-31T00:00:00"
         ],
         "y": [
          163.8,
          163.8,
          164.2,
          164.2
         ]
        },
        {
         "fill": "toself",
         "fillcolor": "rgb(151, 179, 7)",
         "hoverinfo": "name",
         "legendgroup": "rgb(151, 179, 7)",
         "mode": "none",
         "name": "Burma",
         "showlegend": false,
         "type": "scatter",
         "x": [
          "2020-03-27T00:00:00",
          "2020-05-10T00:00:00",
          "2020-05-10T00:00:00",
          "2020-03-27T00:00:00"
         ],
         "y": [
          24.8,
          24.8,
          25.2,
          25.2
         ]
        },
        {
         "fill": "toself",
         "fillcolor": "rgb(152, 188, 9)",
         "hoverinfo": "name",
         "legendgroup": "rgb(152, 188, 9)",
         "mode": "none",
         "name": "Peru",
         "showlegend": false,
         "type": "scatter",
         "x": [
          "2020-03-06T00:00:00",
          "2020-05-10T00:00:00",
          "2020-05-10T00:00:00",
          "2020-03-06T00:00:00"
         ],
         "y": [
          102.8,
          102.8,
          103.2,
          103.2
         ]
        },
        {
         "fill": "toself",
         "fillcolor": "rgb(152, 203, 68)",
         "hoverinfo": "name",
         "legendgroup": "rgb(152, 203, 68)",
         "mode": "none",
         "name": "Senegal",
         "showlegend": false,
         "type": "scatter",
         "x": [
          "2020-03-02T00:00:00",
          "2020-05-10T00:00:00",
          "2020-05-10T00:00:00",
          "2020-03-02T00:00:00"
         ],
         "y": [
          116.8,
          116.8,
          117.2,
          117.2
         ]
        },
        {
         "fill": "toself",
         "fillcolor": "rgb(152, 6, 196)",
         "hoverinfo": "name",
         "legendgroup": "rgb(152, 6, 196)",
         "mode": "none",
         "name": "Bahamas",
         "showlegend": false,
         "type": "scatter",
         "x": [
          "2020-03-16T00:00:00",
          "2020-05-07T00:00:00",
          "2020-05-07T00:00:00",
          "2020-03-16T00:00:00"
         ],
         "y": [
          46.8,
          46.8,
          47.2,
          47.2
         ]
        },
        {
         "fill": "toself",
         "fillcolor": "rgb(154, 87, 102)",
         "hoverinfo": "name",
         "legendgroup": "rgb(154, 87, 102)",
         "mode": "none",
         "name": "Bahrain",
         "showlegend": false,
         "type": "scatter",
         "x": [
          "2020-02-24T00:00:00",
          "2020-05-10T00:00:00",
          "2020-05-10T00:00:00",
          "2020-02-24T00:00:00"
         ],
         "y": [
          152.8,
          152.8,
          153.2,
          153.2
         ]
        },
        {
         "fill": "toself",
         "fillcolor": "rgb(155, 37, 151)",
         "hoverinfo": "name",
         "legendgroup": "rgb(155, 37, 151)",
         "mode": "none",
         "name": "Singapore",
         "showlegend": false,
         "type": "scatter",
         "x": [
          "2020-01-23T00:00:00",
          "2020-05-10T00:00:00",
          "2020-05-10T00:00:00",
          "2020-01-23T00:00:00"
         ],
         "y": [
          179.8,
          179.8,
          180.2,
          180.2
         ]
        },
        {
         "fill": "toself",
         "fillcolor": "rgb(155, 41, 154)",
         "hoverinfo": "name",
         "legendgroup": "rgb(155, 41, 154)",
         "mode": "none",
         "name": "Kenya",
         "showlegend": false,
         "type": "scatter",
         "x": [
          "2020-03-13T00:00:00",
          "2020-05-10T00:00:00",
          "2020-05-10T00:00:00",
          "2020-03-13T00:00:00"
         ],
         "y": [
          73.8,
          73.8,
          74.2,
          74.2
         ]
        },
        {
         "fill": "toself",
         "fillcolor": "rgb(16, 149, 34)",
         "hoverinfo": "name",
         "legendgroup": "rgb(16, 149, 34)",
         "mode": "none",
         "name": "Ukraine",
         "showlegend": false,
         "type": "scatter",
         "x": [
          "2020-03-03T00:00:00",
          "2020-05-10T00:00:00",
          "2020-05-10T00:00:00",
          "2020-03-03T00:00:00"
         ],
         "y": [
          112.8,
          112.8,
          113.2,
          113.2
         ]
        },
        {
         "fill": "toself",
         "fillcolor": "rgb(16, 20, 153)",
         "hoverinfo": "name",
         "legendgroup": "rgb(16, 20, 153)",
         "mode": "none",
         "name": "Bosnia and Herzegovina",
         "showlegend": false,
         "type": "scatter",
         "x": [
          "2020-03-05T00:00:00",
          "2020-05-10T00:00:00",
          "2020-05-10T00:00:00",
          "2020-03-05T00:00:00"
         ],
         "y": [
          104.8,
          104.8,
          105.2,
          105.2
         ]
        },
        {
         "fill": "toself",
         "fillcolor": "rgb(162, 156, 58)",
         "hoverinfo": "name",
         "legendgroup": "rgb(162, 156, 58)",
         "mode": "none",
         "name": "Timor-Leste",
         "showlegend": false,
         "type": "scatter",
         "x": [
          "2020-03-22T00:00:00",
          "2020-04-25T00:00:00",
          "2020-04-25T00:00:00",
          "2020-03-22T00:00:00"
         ],
         "y": [
          17.8,
          17.8,
          18.2,
          18.2
         ]
        },
        {
         "fill": "toself",
         "fillcolor": "rgb(163, 108, 86)",
         "hoverinfo": "name",
         "legendgroup": "rgb(163, 108, 86)",
         "mode": "none",
         "name": "Dominica",
         "showlegend": false,
         "type": "scatter",
         "x": [
          "2020-03-22T00:00:00",
          "2020-04-11T00:00:00",
          "2020-04-11T00:00:00",
          "2020-03-22T00:00:00"
         ],
         "y": [
          4.8,
          4.8,
          5.2,
          5.2
         ]
        },
        {
         "fill": "toself",
         "fillcolor": "rgb(163, 112, 113)",
         "hoverinfo": "name",
         "legendgroup": "rgb(163, 112, 113)",
         "mode": "none",
         "name": "Pakistan",
         "showlegend": false,
         "type": "scatter",
         "x": [
          "2020-02-26T00:00:00",
          "2020-05-10T00:00:00",
          "2020-05-10T00:00:00",
          "2020-02-26T00:00:00"
         ],
         "y": [
          141.8,
          141.8,
          142.2,
          142.2
         ]
        },
        {
         "fill": "toself",
         "fillcolor": "rgb(163, 136, 102)",
         "hoverinfo": "name",
         "legendgroup": "rgb(163, 136, 102)",
         "mode": "none",
         "name": "Mauritania",
         "showlegend": false,
         "type": "scatter",
         "x": [
          "2020-03-14T00:00:00",
          "2020-04-30T00:00:00",
          "2020-04-30T00:00:00",
          "2020-03-14T00:00:00"
         ],
         "y": [
          29.8,
          29.8,
          30.2,
          30.2
         ]
        },
        {
         "fill": "toself",
         "fillcolor": "rgb(167, 162, 76)",
         "hoverinfo": "name",
         "legendgroup": "rgb(167, 162, 76)",
         "mode": "none",
         "name": "Bangladesh",
         "showlegend": false,
         "type": "scatter",
         "x": [
          "2020-03-08T00:00:00",
          "2020-05-10T00:00:00",
          "2020-05-10T00:00:00",
          "2020-03-08T00:00:00"
         ],
         "y": [
          92.8,
          92.8,
          93.2,
          93.2
         ]
        },
        {
         "fill": "toself",
         "fillcolor": "rgb(168, 177, 55)",
         "hoverinfo": "name",
         "legendgroup": "rgb(168, 177, 55)",
         "mode": "none",
         "name": "Namibia",
         "showlegend": false,
         "type": "scatter",
         "x": [
          "2020-03-14T00:00:00",
          "2020-04-06T00:00:00",
          "2020-04-06T00:00:00",
          "2020-03-14T00:00:00"
         ],
         "y": [
          7.8,
          7.8,
          8.2,
          8.2
         ]
        },
        {
         "fill": "toself",
         "fillcolor": "rgb(17, 0, 153)",
         "hoverinfo": "name",
         "legendgroup": "rgb(17, 0, 153)",
         "mode": "none",
         "name": "Greece",
         "showlegend": false,
         "type": "scatter",
         "x": [
          "2020-02-26T00:00:00",
          "2020-05-10T00:00:00",
          "2020-05-10T00:00:00",
          "2020-02-26T00:00:00"
         ],
         "y": [
          139.8,
          139.8,
          140.2,
          140.2
         ]
        },
        {
         "fill": "toself",
         "fillcolor": "rgb(17, 192, 131)",
         "hoverinfo": "name",
         "legendgroup": "rgb(17, 192, 131)",
         "mode": "none",
         "name": "Croatia",
         "showlegend": false,
         "type": "scatter",
         "x": [
          "2020-02-25T00:00:00",
          "2020-05-10T00:00:00",
          "2020-05-10T00:00:00",
          "2020-02-25T00:00:00"
         ],
         "y": [
          149.8,
          149.8,
          150.2,
          150.2
         ]
        },
        {
         "fill": "toself",
         "fillcolor": "rgb(170, 36, 115)",
         "hoverinfo": "name",
         "legendgroup": "rgb(170, 36, 115)",
         "mode": "none",
         "name": "Comoros",
         "showlegend": false,
         "type": "scatter",
         "x": [
          "2020-04-30T00:00:00",
          "2020-05-10T00:00:00",
          "2020-05-10T00:00:00",
          "2020-04-30T00:00:00"
         ],
         "y": [
          0.8,
          0.8,
          1.2,
          1.2
         ]
        },
        {
         "fill": "toself",
         "fillcolor": "rgb(170, 52, 26)",
         "hoverinfo": "name",
         "legendgroup": "rgb(170, 52, 26)",
         "mode": "none",
         "name": "Israel",
         "showlegend": false,
         "type": "scatter",
         "x": [
          "2020-02-21T00:00:00",
          "2020-05-10T00:00:00",
          "2020-05-10T00:00:00",
          "2020-02-21T00:00:00"
         ],
         "y": [
          156.8,
          156.8,
          157.2,
          157.2
         ]
        },
        {
         "fill": "toself",
         "fillcolor": "rgb(171, 57, 36)",
         "hoverinfo": "name",
         "legendgroup": "rgb(171, 57, 36)",
         "mode": "none",
         "name": "Taiwan*",
         "showlegend": false,
         "type": "scatter",
         "x": [
          "2020-01-22T00:00:00",
          "2020-05-08T00:00:00",
          "2020-05-08T00:00:00",
          "2020-01-22T00:00:00"
         ],
         "y": [
          178.8,
          178.8,
          179.2,
          179.2
         ]
        },
        {
         "fill": "toself",
         "fillcolor": "rgb(171, 96, 2)",
         "hoverinfo": "name",
         "legendgroup": "rgb(171, 96, 2)",
         "mode": "none",
         "name": "Iraq",
         "showlegend": false,
         "type": "scatter",
         "x": [
          "2020-02-24T00:00:00",
          "2020-05-10T00:00:00",
          "2020-05-10T00:00:00",
          "2020-02-24T00:00:00"
         ],
         "y": [
          154.8,
          154.8,
          155.2,
          155.2
         ]
        },
        {
         "fill": "toself",
         "fillcolor": "rgb(172, 106, 178)",
         "hoverinfo": "name",
         "legendgroup": "rgb(172, 106, 178)",
         "mode": "none",
         "name": "Maldives",
         "showlegend": false,
         "type": "scatter",
         "x": [
          "2020-03-08T00:00:00",
          "2020-05-10T00:00:00",
          "2020-05-10T00:00:00",
          "2020-03-08T00:00:00"
         ],
         "y": [
          90.8,
          90.8,
          91.2,
          91.2
         ]
        },
        {
         "fill": "toself",
         "fillcolor": "rgb(172, 188, 196)",
         "hoverinfo": "name",
         "legendgroup": "rgb(172, 188, 196)",
         "mode": "none",
         "name": "Albania",
         "showlegend": false,
         "type": "scatter",
         "x": [
          "2020-03-09T00:00:00",
          "2020-05-10T00:00:00",
          "2020-05-10T00:00:00",
          "2020-03-09T00:00:00"
         ],
         "y": [
          88.8,
          88.8,
          89.2,
          89.2
         ]
        },
        {
         "fill": "toself",
         "fillcolor": "rgb(172, 70, 201)",
         "hoverinfo": "name",
         "legendgroup": "rgb(172, 70, 201)",
         "mode": "none",
         "name": "China",
         "showlegend": false,
         "type": "scatter",
         "x": [
          "2020-01-22T00:00:00",
          "2020-05-10T00:00:00",
          "2020-05-10T00:00:00",
          "2020-01-22T00:00:00"
         ],
         "y": [
          181.8,
          181.8,
          182.2,
          182.2
         ]
        },
        {
         "fill": "toself",
         "fillcolor": "rgb(176, 123, 171)",
         "hoverinfo": "name",
         "legendgroup": "rgb(176, 123, 171)",
         "mode": "none",
         "name": "Sudan",
         "showlegend": false,
         "type": "scatter",
         "x": [
          "2020-03-13T00:00:00",
          "2020-05-10T00:00:00",
          "2020-05-10T00:00:00",
          "2020-03-13T00:00:00"
         ],
         "y": [
          70.8,
          70.8,
          71.2,
          71.2
         ]
        },
        {
         "fill": "toself",
         "fillcolor": "rgb(176, 34, 124)",
         "hoverinfo": "name",
         "legendgroup": "rgb(176, 34, 124)",
         "mode": "none",
         "name": "Oman",
         "showlegend": false,
         "type": "scatter",
         "x": [
          "2020-02-24T00:00:00",
          "2020-05-10T00:00:00",
          "2020-05-10T00:00:00",
          "2020-02-24T00:00:00"
         ],
         "y": [
          153.8,
          153.8,
          154.2,
          154.2
         ]
        },
        {
         "fill": "toself",
         "fillcolor": "rgb(178, 71, 20)",
         "hoverinfo": "name",
         "legendgroup": "rgb(178, 71, 20)",
         "mode": "none",
         "name": "Malawi",
         "showlegend": false,
         "type": "scatter",
         "x": [
          "2020-04-02T00:00:00",
          "2020-05-10T00:00:00",
          "2020-05-10T00:00:00",
          "2020-04-02T00:00:00"
         ],
         "y": [
          19.8,
          19.8,
          20.2,
          20.2
         ]
        },
        {
         "fill": "toself",
         "fillcolor": "rgb(179, 10, 33)",
         "hoverinfo": "name",
         "legendgroup": "rgb(179, 10, 33)",
         "mode": "none",
         "name": "Malaysia",
         "showlegend": false,
         "type": "scatter",
         "x": [
          "2020-01-25T00:00:00",
          "2020-05-10T00:00:00",
          "2020-05-10T00:00:00",
          "2020-01-25T00:00:00"
         ],
         "y": [
          174.8,
          174.8,
          175.2,
          175.2
         ]
        },
        {
         "fill": "toself",
         "fillcolor": "rgb(179, 133, 188)",
         "hoverinfo": "name",
         "legendgroup": "rgb(179, 133, 188)",
         "mode": "none",
         "name": "Austria",
         "showlegend": false,
         "type": "scatter",
         "x": [
          "2020-02-25T00:00:00",
          "2020-05-10T00:00:00",
          "2020-05-10T00:00:00",
          "2020-02-25T00:00:00"
         ],
         "y": [
          146.8,
          146.8,
          147.2,
          147.2
         ]
        },
        {
         "fill": "toself",
         "fillcolor": "rgb(181, 120, 170)",
         "hoverinfo": "name",
         "legendgroup": "rgb(181, 120, 170)",
         "mode": "none",
         "name": "Slovakia",
         "showlegend": false,
         "type": "scatter",
         "x": [
          "2020-03-06T00:00:00",
          "2020-05-09T00:00:00",
          "2020-05-09T00:00:00",
          "2020-03-06T00:00:00"
         ],
         "y": [
          96.8,
          96.8,
          97.2,
          97.2
         ]
        },
        {
         "fill": "toself",
         "fillcolor": "rgb(182, 204, 163)",
         "hoverinfo": "name",
         "legendgroup": "rgb(182, 204, 163)",
         "mode": "none",
         "name": "Kyrgyzstan",
         "showlegend": false,
         "type": "scatter",
         "x": [
          "2020-03-18T00:00:00",
          "2020-05-10T00:00:00",
          "2020-05-10T00:00:00",
          "2020-03-18T00:00:00"
         ],
         "y": [
          48.8,
          48.8,
          49.2,
          49.2
         ]
        },
        {
         "fill": "toself",
         "fillcolor": "rgb(183, 19, 24)",
         "hoverinfo": "name",
         "legendgroup": "rgb(183, 19, 24)",
         "mode": "none",
         "name": "Zimbabwe",
         "showlegend": false,
         "type": "scatter",
         "x": [
          "2020-03-20T00:00:00",
          "2020-05-10T00:00:00",
          "2020-05-10T00:00:00",
          "2020-03-20T00:00:00"
         ],
         "y": [
          39.8,
          39.8,
          40.2,
          40.2
         ]
        },
        {
         "fill": "toself",
         "fillcolor": "rgb(183, 20, 101)",
         "hoverinfo": "name",
         "legendgroup": "rgb(183, 20, 101)",
         "mode": "none",
         "name": "West Bank and Gaza",
         "showlegend": false,
         "type": "scatter",
         "x": [
          "2020-03-05T00:00:00",
          "2020-05-08T00:00:00",
          "2020-05-08T00:00:00",
          "2020-03-05T00:00:00"
         ],
         "y": [
          95.8,
          95.8,
          96.2,
          96.2
         ]
        },
        {
         "fill": "toself",
         "fillcolor": "rgb(184, 200, 200)",
         "hoverinfo": "name",
         "legendgroup": "rgb(184, 200, 200)",
         "mode": "none",
         "name": "Cabo Verde",
         "showlegend": false,
         "type": "scatter",
         "x": [
          "2020-03-20T00:00:00",
          "2020-05-10T00:00:00",
          "2020-05-10T00:00:00",
          "2020-03-20T00:00:00"
         ],
         "y": [
          42.8,
          42.8,
          43.2,
          43.2
         ]
        },
        {
         "fill": "toself",
         "fillcolor": "rgb(184, 58, 114)",
         "hoverinfo": "name",
         "legendgroup": "rgb(184, 58, 114)",
         "mode": "none",
         "name": "Finland",
         "showlegend": false,
         "type": "scatter",
         "x": [
          "2020-01-29T00:00:00",
          "2020-05-10T00:00:00",
          "2020-05-10T00:00:00",
          "2020-01-29T00:00:00"
         ],
         "y": [
          169.8,
          169.8,
          170.2,
          170.2
         ]
        },
        {
         "fill": "toself",
         "fillcolor": "rgb(185, 185, 85)",
         "hoverinfo": "name",
         "legendgroup": "rgb(185, 185, 85)",
         "mode": "none",
         "name": "Nepal",
         "showlegend": false,
         "type": "scatter",
         "x": [
          "2020-01-25T00:00:00",
          "2020-05-10T00:00:00",
          "2020-05-10T00:00:00",
          "2020-01-25T00:00:00"
         ],
         "y": [
          175.8,
          175.8,
          176.2,
          176.2
         ]
        },
        {
         "fill": "toself",
         "fillcolor": "rgb(186, 195, 16)",
         "hoverinfo": "name",
         "legendgroup": "rgb(186, 195, 16)",
         "mode": "none",
         "name": "Cambodia",
         "showlegend": false,
         "type": "scatter",
         "x": [
          "2020-01-27T00:00:00",
          "2020-04-13T00:00:00",
          "2020-04-13T00:00:00",
          "2020-01-27T00:00:00"
         ],
         "y": [
          155.8,
          155.8,
          156.2,
          156.2
         ]
        },
        {
         "fill": "toself",
         "fillcolor": "rgb(186, 22, 112)",
         "hoverinfo": "name",
         "legendgroup": "rgb(186, 22, 112)",
         "mode": "none",
         "name": "Uganda",
         "showlegend": false,
         "type": "scatter",
         "x": [
          "2020-03-21T00:00:00",
          "2020-05-10T00:00:00",
          "2020-05-10T00:00:00",
          "2020-03-21T00:00:00"
         ],
         "y": [
          35.8,
          35.8,
          36.2,
          36.2
         ]
        },
        {
         "fill": "toself",
         "fillcolor": "rgb(187, 7, 96)",
         "hoverinfo": "name",
         "legendgroup": "rgb(187, 7, 96)",
         "mode": "none",
         "name": "Panama",
         "showlegend": false,
         "type": "scatter",
         "x": [
          "2020-03-10T00:00:00",
          "2020-05-10T00:00:00",
          "2020-05-10T00:00:00",
          "2020-03-10T00:00:00"
         ],
         "y": [
          85.8,
          85.8,
          86.2,
          86.2
         ]
        },
        {
         "fill": "toself",
         "fillcolor": "rgb(19, 122, 119)",
         "hoverinfo": "name",
         "legendgroup": "rgb(19, 122, 119)",
         "mode": "none",
         "name": "Somalia",
         "showlegend": false,
         "type": "scatter",
         "x": [
          "2020-03-16T00:00:00",
          "2020-05-10T00:00:00",
          "2020-05-10T00:00:00",
          "2020-03-16T00:00:00"
         ],
         "y": [
          57.8,
          57.8,
          58.2,
          58.2
         ]
        },
        {
         "fill": "toself",
         "fillcolor": "rgb(19, 50, 53)",
         "hoverinfo": "name",
         "legendgroup": "rgb(19, 50, 53)",
         "mode": "none",
         "name": "Estonia",
         "showlegend": false,
         "type": "scatter",
         "x": [
          "2020-02-27T00:00:00",
          "2020-05-10T00:00:00",
          "2020-05-10T00:00:00",
          "2020-02-27T00:00:00"
         ],
         "y": [
          136.8,
          136.8,
          137.2,
          137.2
         ]
        },
        {
         "fill": "toself",
         "fillcolor": "rgb(193, 122, 118)",
         "hoverinfo": "name",
         "legendgroup": "rgb(193, 122, 118)",
         "mode": "none",
         "name": "San Marino",
         "showlegend": false,
         "type": "scatter",
         "x": [
          "2020-02-27T00:00:00",
          "2020-05-10T00:00:00",
          "2020-05-10T00:00:00",
          "2020-02-27T00:00:00"
         ],
         "y": [
          135.8,
          135.8,
          136.2,
          136.2
         ]
        },
        {
         "fill": "toself",
         "fillcolor": "rgb(195, 0, 1)",
         "hoverinfo": "name",
         "legendgroup": "rgb(195, 0, 1)",
         "mode": "none",
         "name": "Brazil",
         "showlegend": false,
         "type": "scatter",
         "x": [
          "2020-02-26T00:00:00",
          "2020-05-10T00:00:00",
          "2020-05-10T00:00:00",
          "2020-02-26T00:00:00"
         ],
         "y": [
          144.8,
          144.8,
          145.2,
          145.2
         ]
        },
        {
         "fill": "toself",
         "fillcolor": "rgb(195, 122, 149)",
         "hoverinfo": "name",
         "legendgroup": "rgb(195, 122, 149)",
         "mode": "none",
         "name": "Angola",
         "showlegend": false,
         "type": "scatter",
         "x": [
          "2020-03-20T00:00:00",
          "2020-05-09T00:00:00",
          "2020-05-09T00:00:00",
          "2020-03-20T00:00:00"
         ],
         "y": [
          37.8,
          37.8,
          38.2,
          38.2
         ]
        },
        {
         "fill": "toself",
         "fillcolor": "rgb(195, 25, 70)",
         "hoverinfo": "name",
         "legendgroup": "rgb(195, 25, 70)",
         "mode": "none",
         "name": "Nicaragua",
         "showlegend": false,
         "type": "scatter",
         "x": [
          "2020-03-19T00:00:00",
          "2020-05-06T00:00:00",
          "2020-05-06T00:00:00",
          "2020-03-19T00:00:00"
         ],
         "y": [
          30.8,
          30.8,
          31.2,
          31.2
         ]
        },
        {
         "fill": "toself",
         "fillcolor": "rgb(198, 106, 8)",
         "hoverinfo": "name",
         "legendgroup": "rgb(198, 106, 8)",
         "mode": "none",
         "name": "Czechia",
         "showlegend": false,
         "type": "scatter",
         "x": [
          "2020-03-01T00:00:00",
          "2020-05-10T00:00:00",
          "2020-05-10T00:00:00",
          "2020-03-01T00:00:00"
         ],
         "y": [
          124.8,
          124.8,
          125.2,
          125.2
         ]
        },
        {
         "fill": "toself",
         "fillcolor": "rgb(198, 42, 72)",
         "hoverinfo": "name",
         "legendgroup": "rgb(198, 42, 72)",
         "mode": "none",
         "name": "Philippines",
         "showlegend": false,
         "type": "scatter",
         "x": [
          "2020-01-30T00:00:00",
          "2020-05-10T00:00:00",
          "2020-05-10T00:00:00",
          "2020-01-30T00:00:00"
         ],
         "y": [
          167.8,
          167.8,
          168.2,
          168.2
         ]
        },
        {
         "fill": "toself",
         "fillcolor": "rgb(198, 57, 50)",
         "hoverinfo": "name",
         "legendgroup": "rgb(198, 57, 50)",
         "mode": "none",
         "name": "Ghana",
         "showlegend": false,
         "type": "scatter",
         "x": [
          "2020-03-14T00:00:00",
          "2020-05-10T00:00:00",
          "2020-05-10T00:00:00",
          "2020-03-14T00:00:00"
         ],
         "y": [
          65.8,
          65.8,
          66.2,
          66.2
         ]
        },
        {
         "fill": "toself",
         "fillcolor": "rgb(198, 68, 72)",
         "hoverinfo": "name",
         "legendgroup": "rgb(198, 68, 72)",
         "mode": "none",
         "name": "Switzerland",
         "showlegend": false,
         "type": "scatter",
         "x": [
          "2020-02-25T00:00:00",
          "2020-05-10T00:00:00",
          "2020-05-10T00:00:00",
          "2020-02-25T00:00:00"
         ],
         "y": [
          147.8,
          147.8,
          148.2,
          148.2
         ]
        },
        {
         "fill": "toself",
         "fillcolor": "rgb(198, 71, 186)",
         "hoverinfo": "name",
         "legendgroup": "rgb(198, 71, 186)",
         "mode": "none",
         "name": "Saint Vincent and the Grenadines",
         "showlegend": false,
         "type": "scatter",
         "x": [
          "2020-03-14T00:00:00",
          "2020-05-05T00:00:00",
          "2020-05-05T00:00:00",
          "2020-03-14T00:00:00"
         ],
         "y": [
          44.8,
          44.8,
          45.2,
          45.2
         ]
        },
        {
         "fill": "toself",
         "fillcolor": "rgb(199, 38, 37)",
         "hoverinfo": "name",
         "legendgroup": "rgb(199, 38, 37)",
         "mode": "none",
         "name": "Malta",
         "showlegend": false,
         "type": "scatter",
         "x": [
          "2020-03-07T00:00:00",
          "2020-05-10T00:00:00",
          "2020-05-10T00:00:00",
          "2020-03-07T00:00:00"
         ],
         "y": [
          94.8,
          94.8,
          95.2,
          95.2
         ]
        },
        {
         "fill": "toself",
         "fillcolor": "rgb(2, 194, 73)",
         "hoverinfo": "name",
         "legendgroup": "rgb(2, 194, 73)",
         "mode": "none",
         "name": "Poland",
         "showlegend": false,
         "type": "scatter",
         "x": [
          "2020-03-04T00:00:00",
          "2020-05-10T00:00:00",
          "2020-05-10T00:00:00",
          "2020-03-04T00:00:00"
         ],
         "y": [
          106.8,
          106.8,
          107.2,
          107.2
         ]
        },
        {
         "fill": "toself",
         "fillcolor": "rgb(20, 56, 101)",
         "hoverinfo": "name",
         "legendgroup": "rgb(20, 56, 101)",
         "mode": "none",
         "name": "Azerbaijan",
         "showlegend": false,
         "type": "scatter",
         "x": [
          "2020-03-01T00:00:00",
          "2020-05-10T00:00:00",
          "2020-05-10T00:00:00",
          "2020-03-01T00:00:00"
         ],
         "y": [
          123.8,
          123.8,
          124.2,
          124.2
         ]
        },
        {
         "fill": "toself",
         "fillcolor": "rgb(201, 5, 185)",
         "hoverinfo": "name",
         "legendgroup": "rgb(201, 5, 185)",
         "mode": "none",
         "name": "Indonesia",
         "showlegend": false,
         "type": "scatter",
         "x": [
          "2020-03-02T00:00:00",
          "2020-05-10T00:00:00",
          "2020-05-10T00:00:00",
          "2020-03-02T00:00:00"
         ],
         "y": [
          118.8,
          118.8,
          119.2,
          119.2
         ]
        },
        {
         "fill": "toself",
         "fillcolor": "rgb(201, 74, 55)",
         "hoverinfo": "name",
         "legendgroup": "rgb(201, 74, 55)",
         "mode": "none",
         "name": "Japan",
         "showlegend": false,
         "type": "scatter",
         "x": [
          "2020-01-22T00:00:00",
          "2020-05-10T00:00:00",
          "2020-05-10T00:00:00",
          "2020-01-22T00:00:00"
         ],
         "y": [
          182.8,
          182.8,
          183.2,
          183.2
         ]
        },
        {
         "fill": "toself",
         "fillcolor": "rgb(203, 102, 52)",
         "hoverinfo": "name",
         "legendgroup": "rgb(203, 102, 52)",
         "mode": "none",
         "name": "Zambia",
         "showlegend": false,
         "type": "scatter",
         "x": [
          "2020-03-18T00:00:00",
          "2020-05-10T00:00:00",
          "2020-05-10T00:00:00",
          "2020-03-18T00:00:00"
         ],
         "y": [
          50.8,
          50.8,
          51.2,
          51.2
         ]
        },
        {
         "fill": "toself",
         "fillcolor": "rgb(203, 27, 176)",
         "hoverinfo": "name",
         "legendgroup": "rgb(203, 27, 176)",
         "mode": "none",
         "name": "Kazakhstan",
         "showlegend": false,
         "type": "scatter",
         "x": [
          "2020-03-13T00:00:00",
          "2020-05-10T00:00:00",
          "2020-05-10T00:00:00",
          "2020-03-13T00:00:00"
         ],
         "y": [
          69.8,
          69.8,
          70.2,
          70.2
         ]
        },
        {
         "fill": "toself",
         "fillcolor": "rgb(203, 28, 176)",
         "hoverinfo": "name",
         "legendgroup": "rgb(203, 28, 176)",
         "mode": "none",
         "name": "Norway",
         "showlegend": false,
         "type": "scatter",
         "x": [
          "2020-02-26T00:00:00",
          "2020-05-10T00:00:00",
          "2020-05-10T00:00:00",
          "2020-02-26T00:00:00"
         ],
         "y": [
          142.8,
          142.8,
          143.2,
          143.2
         ]
        },
        {
         "fill": "toself",
         "fillcolor": "rgb(204, 25, 144)",
         "hoverinfo": "name",
         "legendgroup": "rgb(204, 25, 144)",
         "mode": "none",
         "name": "Netherlands",
         "showlegend": false,
         "type": "scatter",
         "x": [
          "2020-02-27T00:00:00",
          "2020-05-10T00:00:00",
          "2020-05-10T00:00:00",
          "2020-02-27T00:00:00"
         ],
         "y": [
          137.8,
          137.8,
          138.2,
          138.2
         ]
        },
        {
         "fill": "toself",
         "fillcolor": "rgb(22, 96, 51)",
         "hoverinfo": "name",
         "legendgroup": "rgb(22, 96, 51)",
         "mode": "none",
         "name": "Bolivia",
         "showlegend": false,
         "type": "scatter",
         "x": [
          "2020-03-11T00:00:00",
          "2020-05-10T00:00:00",
          "2020-05-10T00:00:00",
          "2020-03-11T00:00:00"
         ],
         "y": [
          81.8,
          81.8,
          82.2,
          82.2
         ]
        },
        {
         "fill": "toself",
         "fillcolor": "rgb(23, 155, 114)",
         "hoverinfo": "name",
         "legendgroup": "rgb(23, 155, 114)",
         "mode": "none",
         "name": "Lebanon",
         "showlegend": false,
         "type": "scatter",
         "x": [
          "2020-02-21T00:00:00",
          "2020-05-10T00:00:00",
          "2020-05-10T00:00:00",
          "2020-02-21T00:00:00"
         ],
         "y": [
          157.8,
          157.8,
          158.2,
          158.2
         ]
        },
        {
         "fill": "toself",
         "fillcolor": "rgb(23, 53, 106)",
         "hoverinfo": "name",
         "legendgroup": "rgb(23, 53, 106)",
         "mode": "none",
         "name": "Bulgaria",
         "showlegend": false,
         "type": "scatter",
         "x": [
          "2020-03-08T00:00:00",
          "2020-05-10T00:00:00",
          "2020-05-10T00:00:00",
          "2020-03-08T00:00:00"
         ],
         "y": [
          91.8,
          91.8,
          92.2,
          92.2
         ]
        },
        {
         "fill": "toself",
         "fillcolor": "rgb(24, 155, 170)",
         "hoverinfo": "name",
         "legendgroup": "rgb(24, 155, 170)",
         "mode": "none",
         "name": "Luxembourg",
         "showlegend": false,
         "type": "scatter",
         "x": [
          "2020-02-29T00:00:00",
          "2020-05-10T00:00:00",
          "2020-05-10T00:00:00",
          "2020-02-29T00:00:00"
         ],
         "y": [
          129.8,
          129.8,
          130.2,
          130.2
         ]
        },
        {
         "fill": "toself",
         "fillcolor": "rgb(24, 42, 8)",
         "hoverinfo": "name",
         "legendgroup": "rgb(24, 42, 8)",
         "mode": "none",
         "name": "Ireland",
         "showlegend": false,
         "type": "scatter",
         "x": [
          "2020-02-29T00:00:00",
          "2020-05-10T00:00:00",
          "2020-05-10T00:00:00",
          "2020-02-29T00:00:00"
         ],
         "y": [
          126.8,
          126.8,
          127.2,
          127.2
         ]
        },
        {
         "fill": "toself",
         "fillcolor": "rgb(25, 56, 146)",
         "hoverinfo": "name",
         "legendgroup": "rgb(25, 56, 146)",
         "mode": "none",
         "name": "Morocco",
         "showlegend": false,
         "type": "scatter",
         "x": [
          "2020-03-02T00:00:00",
          "2020-05-10T00:00:00",
          "2020-05-10T00:00:00",
          "2020-03-02T00:00:00"
         ],
         "y": [
          119.8,
          119.8,
          120.2,
          120.2
         ]
        },
        {
         "fill": "toself",
         "fillcolor": "rgb(26, 137, 197)",
         "hoverinfo": "name",
         "legendgroup": "rgb(26, 137, 197)",
         "mode": "none",
         "name": "Portugal",
         "showlegend": false,
         "type": "scatter",
         "x": [
          "2020-03-02T00:00:00",
          "2020-05-10T00:00:00",
          "2020-05-10T00:00:00",
          "2020-03-02T00:00:00"
         ],
         "y": [
          114.8,
          114.8,
          115.2,
          115.2
         ]
        },
        {
         "fill": "toself",
         "fillcolor": "rgb(28, 160, 202)",
         "hoverinfo": "name",
         "legendgroup": "rgb(28, 160, 202)",
         "mode": "none",
         "name": "Tanzania",
         "showlegend": false,
         "type": "scatter",
         "x": [
          "2020-03-16T00:00:00",
          "2020-05-09T00:00:00",
          "2020-05-09T00:00:00",
          "2020-03-16T00:00:00"
         ],
         "y": [
          54.8,
          54.8,
          55.2,
          55.2
         ]
        },
        {
         "fill": "toself",
         "fillcolor": "rgb(28, 86, 124)",
         "hoverinfo": "name",
         "legendgroup": "rgb(28, 86, 124)",
         "mode": "none",
         "name": "Iceland",
         "showlegend": false,
         "type": "scatter",
         "x": [
          "2020-02-28T00:00:00",
          "2020-05-08T00:00:00",
          "2020-05-08T00:00:00",
          "2020-02-28T00:00:00"
         ],
         "y": [
          121.8,
          121.8,
          122.2,
          122.2
         ]
        },
        {
         "fill": "toself",
         "fillcolor": "rgb(36, 144, 71)",
         "hoverinfo": "name",
         "legendgroup": "rgb(36, 144, 71)",
         "mode": "none",
         "name": "Ecuador",
         "showlegend": false,
         "type": "scatter",
         "x": [
          "2020-03-01T00:00:00",
          "2020-05-10T00:00:00",
          "2020-05-10T00:00:00",
          "2020-03-01T00:00:00"
         ],
         "y": [
          120.8,
          120.8,
          121.2,
          121.2
         ]
        },
        {
         "fill": "toself",
         "fillcolor": "rgb(36, 70, 114)",
         "hoverinfo": "name",
         "legendgroup": "rgb(36, 70, 114)",
         "mode": "none",
         "name": "Suriname",
         "showlegend": false,
         "type": "scatter",
         "x": [
          "2020-03-14T00:00:00",
          "2020-04-02T00:00:00",
          "2020-04-02T00:00:00",
          "2020-03-14T00:00:00"
         ],
         "y": [
          2.8,
          2.8,
          3.2,
          3.2
         ]
        },
        {
         "fill": "toself",
         "fillcolor": "rgb(37, 119, 25)",
         "hoverinfo": "name",
         "legendgroup": "rgb(37, 119, 25)",
         "mode": "none",
         "name": "Tunisia",
         "showlegend": false,
         "type": "scatter",
         "x": [
          "2020-03-04T00:00:00",
          "2020-05-10T00:00:00",
          "2020-05-10T00:00:00",
          "2020-03-04T00:00:00"
         ],
         "y": [
          108.8,
          108.8,
          109.2,
          109.2
         ]
        },
        {
         "fill": "toself",
         "fillcolor": "rgb(38, 188, 145)",
         "hoverinfo": "name",
         "legendgroup": "rgb(38, 188, 145)",
         "mode": "none",
         "name": "Venezuela",
         "showlegend": false,
         "type": "scatter",
         "x": [
          "2020-03-14T00:00:00",
          "2020-05-10T00:00:00",
          "2020-05-10T00:00:00",
          "2020-03-14T00:00:00"
         ],
         "y": [
          64.8,
          64.8,
          65.2,
          65.2
         ]
        },
        {
         "fill": "toself",
         "fillcolor": "rgb(38, 59, 89)",
         "hoverinfo": "name",
         "legendgroup": "rgb(38, 59, 89)",
         "mode": "none",
         "name": "Iran",
         "showlegend": false,
         "type": "scatter",
         "x": [
          "2020-02-19T00:00:00",
          "2020-05-10T00:00:00",
          "2020-05-10T00:00:00",
          "2020-02-19T00:00:00"
         ],
         "y": [
          158.8,
          158.8,
          159.2,
          159.2
         ]
        },
        {
         "fill": "toself",
         "fillcolor": "rgb(38, 75, 117)",
         "hoverinfo": "name",
         "legendgroup": "rgb(38, 75, 117)",
         "mode": "none",
         "name": "Guatemala",
         "showlegend": false,
         "type": "scatter",
         "x": [
          "2020-03-14T00:00:00",
          "2020-05-10T00:00:00",
          "2020-05-10T00:00:00",
          "2020-03-14T00:00:00"
         ],
         "y": [
          67.8,
          67.8,
          68.2,
          68.2
         ]
        },
        {
         "fill": "toself",
         "fillcolor": "rgb(39, 169, 26)",
         "hoverinfo": "name",
         "legendgroup": "rgb(39, 169, 26)",
         "mode": "none",
         "name": "Greenland",
         "showlegend": false,
         "type": "scatter",
         "x": [
          "2020-03-16T00:00:00",
          "2020-04-05T00:00:00",
          "2020-04-05T00:00:00",
          "2020-03-16T00:00:00"
         ],
         "y": [
          3.8,
          3.8,
          4.2,
          4.2
         ]
        },
        {
         "fill": "toself",
         "fillcolor": "rgb(40, 138, 183)",
         "hoverinfo": "name",
         "legendgroup": "rgb(40, 138, 183)",
         "mode": "none",
         "name": "Romania",
         "showlegend": false,
         "type": "scatter",
         "x": [
          "2020-02-26T00:00:00",
          "2020-05-10T00:00:00",
          "2020-05-10T00:00:00",
          "2020-02-26T00:00:00"
         ],
         "y": [
          145.8,
          145.8,
          146.2,
          146.2
         ]
        },
        {
         "fill": "toself",
         "fillcolor": "rgb(40, 82, 194)",
         "hoverinfo": "name",
         "legendgroup": "rgb(40, 82, 194)",
         "mode": "none",
         "name": "Equatorial Guinea",
         "showlegend": false,
         "type": "scatter",
         "x": [
          "2020-03-15T00:00:00",
          "2020-05-07T00:00:00",
          "2020-05-07T00:00:00",
          "2020-03-15T00:00:00"
         ],
         "y": [
          52.8,
          52.8,
          53.2,
          53.2
         ]
        },
        {
         "fill": "toself",
         "fillcolor": "rgb(41, 129, 124)",
         "hoverinfo": "name",
         "legendgroup": "rgb(41, 129, 124)",
         "mode": "none",
         "name": "Ethiopia",
         "showlegend": false,
         "type": "scatter",
         "x": [
          "2020-03-13T00:00:00",
          "2020-05-10T00:00:00",
          "2020-05-10T00:00:00",
          "2020-03-13T00:00:00"
         ],
         "y": [
          74.8,
          74.8,
          75.2,
          75.2
         ]
        },
        {
         "fill": "toself",
         "fillcolor": "rgb(43, 152, 53)",
         "hoverinfo": "name",
         "legendgroup": "rgb(43, 152, 53)",
         "mode": "none",
         "name": "Yemen",
         "showlegend": false,
         "type": "scatter",
         "x": [
          "2020-04-10T00:00:00",
          "2020-05-09T00:00:00",
          "2020-05-09T00:00:00",
          "2020-04-10T00:00:00"
         ],
         "y": [
          11.8,
          11.8,
          12.2,
          12.2
         ]
        },
        {
         "fill": "toself",
         "fillcolor": "rgb(43, 80, 82)",
         "hoverinfo": "name",
         "legendgroup": "rgb(43, 80, 82)",
         "mode": "none",
         "name": "France",
         "showlegend": false,
         "type": "scatter",
         "x": [
          "2020-01-24T00:00:00",
          "2020-05-10T00:00:00",
          "2020-05-10T00:00:00",
          "2020-01-24T00:00:00"
         ],
         "y": [
          177.8,
          177.8,
          178.2,
          178.2
         ]
        },
        {
         "fill": "toself",
         "fillcolor": "rgb(48, 131, 182)",
         "hoverinfo": "name",
         "legendgroup": "rgb(48, 131, 182)",
         "mode": "none",
         "name": "Fiji",
         "showlegend": false,
         "type": "scatter",
         "x": [
          "2020-03-19T00:00:00",
          "2020-04-21T00:00:00",
          "2020-04-21T00:00:00",
          "2020-03-19T00:00:00"
         ],
         "y": [
          13.8,
          13.8,
          14.2,
          14.2
         ]
        },
        {
         "fill": "toself",
         "fillcolor": "rgb(49, 86, 16)",
         "hoverinfo": "name",
         "legendgroup": "rgb(49, 86, 16)",
         "mode": "none",
         "name": "Turkey",
         "showlegend": false,
         "type": "scatter",
         "x": [
          "2020-03-11T00:00:00",
          "2020-05-10T00:00:00",
          "2020-05-10T00:00:00",
          "2020-03-11T00:00:00"
         ],
         "y": [
          78.8,
          78.8,
          79.2,
          79.2
         ]
        },
        {
         "fill": "toself",
         "fillcolor": "rgb(5, 186, 86)",
         "hoverinfo": "name",
         "legendgroup": "rgb(5, 186, 86)",
         "mode": "none",
         "name": "North Macedonia",
         "showlegend": false,
         "type": "scatter",
         "x": [
          "2020-02-26T00:00:00",
          "2020-05-10T00:00:00",
          "2020-05-10T00:00:00",
          "2020-02-26T00:00:00"
         ],
         "y": [
          143.8,
          143.8,
          144.2,
          144.2
         ]
        },
        {
         "fill": "toself",
         "fillcolor": "rgb(50, 197, 83)",
         "hoverinfo": "name",
         "legendgroup": "rgb(50, 197, 83)",
         "mode": "none",
         "name": "Togo",
         "showlegend": false,
         "type": "scatter",
         "x": [
          "2020-03-06T00:00:00",
          "2020-05-10T00:00:00",
          "2020-05-10T00:00:00",
          "2020-03-06T00:00:00"
         ],
         "y": [
          101.8,
          101.8,
          102.2,
          102.2
         ]
        },
        {
         "fill": "toself",
         "fillcolor": "rgb(51, 153, 21)",
         "hoverinfo": "name",
         "legendgroup": "rgb(51, 153, 21)",
         "mode": "none",
         "name": "Congo (Kinshasa)",
         "showlegend": false,
         "type": "scatter",
         "x": [
          "2020-03-11T00:00:00",
          "2020-05-09T00:00:00",
          "2020-05-09T00:00:00",
          "2020-03-11T00:00:00"
         ],
         "y": [
          77.8,
          77.8,
          78.2,
          78.2
         ]
        },
        {
         "fill": "toself",
         "fillcolor": "rgb(51, 177, 112)",
         "hoverinfo": "name",
         "legendgroup": "rgb(51, 177, 112)",
         "mode": "none",
         "name": "Cote d'Ivoire",
         "showlegend": false,
         "type": "scatter",
         "x": [
          "2020-03-11T00:00:00",
          "2020-05-10T00:00:00",
          "2020-05-10T00:00:00",
          "2020-03-11T00:00:00"
         ],
         "y": [
          79.8,
          79.8,
          80.2,
          80.2
         ]
        },
        {
         "fill": "toself",
         "fillcolor": "rgb(51, 202, 192)",
         "hoverinfo": "name",
         "legendgroup": "rgb(51, 202, 192)",
         "mode": "none",
         "name": "South Africa",
         "showlegend": false,
         "type": "scatter",
         "x": [
          "2020-03-05T00:00:00",
          "2020-05-10T00:00:00",
          "2020-05-10T00:00:00",
          "2020-03-05T00:00:00"
         ],
         "y": [
          103.8,
          103.8,
          104.2,
          104.2
         ]
        },
        {
         "fill": "toself",
         "fillcolor": "rgb(51, 32, 86)",
         "hoverinfo": "name",
         "legendgroup": "rgb(51, 32, 86)",
         "mode": "none",
         "name": "Dominican Republic",
         "showlegend": false,
         "type": "scatter",
         "x": [
          "2020-03-01T00:00:00",
          "2020-05-10T00:00:00",
          "2020-05-10T00:00:00",
          "2020-03-01T00:00:00"
         ],
         "y": [
          125.8,
          125.8,
          126.2,
          126.2
         ]
        },
        {
         "fill": "toself",
         "fillcolor": "rgb(53, 116, 84)",
         "hoverinfo": "name",
         "legendgroup": "rgb(53, 116, 84)",
         "mode": "none",
         "name": "Trinidad and Tobago",
         "showlegend": false,
         "type": "scatter",
         "x": [
          "2020-03-14T00:00:00",
          "2020-04-28T00:00:00",
          "2020-04-28T00:00:00",
          "2020-03-14T00:00:00"
         ],
         "y": [
          26.8,
          26.8,
          27.2,
          27.2
         ]
        },
        {
         "fill": "toself",
         "fillcolor": "rgb(54, 50, 40)",
         "hoverinfo": "name",
         "legendgroup": "rgb(54, 50, 40)",
         "mode": "none",
         "name": "Chad",
         "showlegend": false,
         "type": "scatter",
         "x": [
          "2020-03-19T00:00:00",
          "2020-05-10T00:00:00",
          "2020-05-10T00:00:00",
          "2020-03-19T00:00:00"
         ],
         "y": [
          45.8,
          45.8,
          46.2,
          46.2
         ]
        },
        {
         "fill": "toself",
         "fillcolor": "rgb(55, 194, 97)",
         "hoverinfo": "name",
         "legendgroup": "rgb(55, 194, 97)",
         "mode": "none",
         "name": "Afghanistan",
         "showlegend": false,
         "type": "scatter",
         "x": [
          "2020-02-24T00:00:00",
          "2020-05-10T00:00:00",
          "2020-05-10T00:00:00",
          "2020-02-24T00:00:00"
         ],
         "y": [
          150.8,
          150.8,
          151.2,
          151.2
         ]
        },
        {
         "fill": "toself",
         "fillcolor": "rgb(56, 202, 198)",
         "hoverinfo": "name",
         "legendgroup": "rgb(56, 202, 198)",
         "mode": "none",
         "name": "Rwanda",
         "showlegend": false,
         "type": "scatter",
         "x": [
          "2020-03-14T00:00:00",
          "2020-05-10T00:00:00",
          "2020-05-10T00:00:00",
          "2020-03-14T00:00:00"
         ],
         "y": [
          66.8,
          66.8,
          67.2,
          67.2
         ]
        },
        {
         "fill": "toself",
         "fillcolor": "rgb(56, 44, 182)",
         "hoverinfo": "name",
         "legendgroup": "rgb(56, 44, 182)",
         "mode": "none",
         "name": "Jordan",
         "showlegend": false,
         "type": "scatter",
         "x": [
          "2020-03-03T00:00:00",
          "2020-05-10T00:00:00",
          "2020-05-10T00:00:00",
          "2020-03-03T00:00:00"
         ],
         "y": [
          111.8,
          111.8,
          112.2,
          112.2
         ]
        },
        {
         "fill": "toself",
         "fillcolor": "rgb(57, 144, 16)",
         "hoverinfo": "name",
         "legendgroup": "rgb(57, 144, 16)",
         "mode": "none",
         "name": "Lithuania",
         "showlegend": false,
         "type": "scatter",
         "x": [
          "2020-02-28T00:00:00",
          "2020-05-10T00:00:00",
          "2020-05-10T00:00:00",
          "2020-02-28T00:00:00"
         ],
         "y": [
          134.8,
          134.8,
          135.2,
          135.2
         ]
        },
        {
         "fill": "toself",
         "fillcolor": "rgb(57, 148, 182)",
         "hoverinfo": "name",
         "legendgroup": "rgb(57, 148, 182)",
         "mode": "none",
         "name": "US",
         "showlegend": false,
         "type": "scatter",
         "x": [
          "2020-01-22T00:00:00",
          "2020-05-10T00:00:00",
          "2020-05-10T00:00:00",
          "2020-01-22T00:00:00"
         ],
         "y": [
          184.8,
          184.8,
          185.2,
          185.2
         ]
        },
        {
         "fill": "toself",
         "fillcolor": "rgb(59, 38, 134)",
         "hoverinfo": "name",
         "legendgroup": "rgb(59, 38, 134)",
         "mode": "none",
         "name": "Burundi",
         "showlegend": false,
         "type": "scatter",
         "x": [
          "2020-03-31T00:00:00",
          "2020-05-03T00:00:00",
          "2020-05-03T00:00:00",
          "2020-03-31T00:00:00"
         ],
         "y": [
          14.8,
          14.8,
          15.2,
          15.2
         ]
        },
        {
         "fill": "toself",
         "fillcolor": "rgb(59, 42, 73)",
         "hoverinfo": "name",
         "legendgroup": "rgb(59, 42, 73)",
         "mode": "none",
         "name": "Sweden",
         "showlegend": false,
         "type": "scatter",
         "x": [
          "2020-01-31T00:00:00",
          "2020-05-10T00:00:00",
          "2020-05-10T00:00:00",
          "2020-01-31T00:00:00"
         ],
         "y": [
          162.8,
          162.8,
          163.2,
          163.2
         ]
        },
        {
         "fill": "toself",
         "fillcolor": "rgb(60, 151, 146)",
         "hoverinfo": "name",
         "legendgroup": "rgb(60, 151, 146)",
         "mode": "none",
         "name": "Argentina",
         "showlegend": false,
         "type": "scatter",
         "x": [
          "2020-03-03T00:00:00",
          "2020-05-10T00:00:00",
          "2020-05-10T00:00:00",
          "2020-03-03T00:00:00"
         ],
         "y": [
          109.8,
          109.8,
          110.2,
          110.2
         ]
        },
        {
         "fill": "toself",
         "fillcolor": "rgb(60, 58, 96)",
         "hoverinfo": "name",
         "legendgroup": "rgb(60, 58, 96)",
         "mode": "none",
         "name": "South Sudan",
         "showlegend": false,
         "type": "scatter",
         "x": [
          "2020-04-05T00:00:00",
          "2020-05-09T00:00:00",
          "2020-05-09T00:00:00",
          "2020-04-05T00:00:00"
         ],
         "y": [
          18.8,
          18.8,
          19.2,
          19.2
         ]
        },
        {
         "fill": "toself",
         "fillcolor": "rgb(65, 21, 152)",
         "hoverinfo": "name",
         "legendgroup": "rgb(65, 21, 152)",
         "mode": "none",
         "name": "Denmark",
         "showlegend": false,
         "type": "scatter",
         "x": [
          "2020-02-27T00:00:00",
          "2020-05-10T00:00:00",
          "2020-05-10T00:00:00",
          "2020-02-27T00:00:00"
         ],
         "y": [
          138.8,
          138.8,
          139.2,
          139.2
         ]
        },
        {
         "fill": "toself",
         "fillcolor": "rgb(65, 43, 19)",
         "hoverinfo": "name",
         "legendgroup": "rgb(65, 43, 19)",
         "mode": "none",
         "name": "Libya",
         "showlegend": false,
         "type": "scatter",
         "x": [
          "2020-03-24T00:00:00",
          "2020-05-07T00:00:00",
          "2020-05-07T00:00:00",
          "2020-03-24T00:00:00"
         ],
         "y": [
          23.8,
          23.8,
          24.2,
          24.2
         ]
        },
        {
         "fill": "toself",
         "fillcolor": "rgb(65, 64, 58)",
         "hoverinfo": "name",
         "legendgroup": "rgb(65, 64, 58)",
         "mode": "none",
         "name": "Saint Lucia",
         "showlegend": false,
         "type": "scatter",
         "x": [
          "2020-03-14T00:00:00",
          "2020-05-04T00:00:00",
          "2020-05-04T00:00:00",
          "2020-03-14T00:00:00"
         ],
         "y": [
          41.8,
          41.8,
          42.2,
          42.2
         ]
        },
        {
         "fill": "toself",
         "fillcolor": "rgb(67, 18, 32)",
         "hoverinfo": "name",
         "legendgroup": "rgb(67, 18, 32)",
         "mode": "none",
         "name": "Laos",
         "showlegend": false,
         "type": "scatter",
         "x": [
          "2020-03-24T00:00:00",
          "2020-04-13T00:00:00",
          "2020-04-13T00:00:00",
          "2020-03-24T00:00:00"
         ],
         "y": [
          5.8,
          5.8,
          6.2,
          6.2
         ]
        },
        {
         "fill": "toself",
         "fillcolor": "rgb(67, 75, 183)",
         "hoverinfo": "name",
         "legendgroup": "rgb(67, 75, 183)",
         "mode": "none",
         "name": "Cameroon",
         "showlegend": false,
         "type": "scatter",
         "x": [
          "2020-03-06T00:00:00",
          "2020-05-10T00:00:00",
          "2020-05-10T00:00:00",
          "2020-03-06T00:00:00"
         ],
         "y": [
          98.8,
          98.8,
          99.2,
          99.2
         ]
        },
        {
         "fill": "toself",
         "fillcolor": "rgb(68, 48, 137)",
         "hoverinfo": "name",
         "legendgroup": "rgb(68, 48, 137)",
         "mode": "none",
         "name": "Sri Lanka",
         "showlegend": false,
         "type": "scatter",
         "x": [
          "2020-01-27T00:00:00",
          "2020-05-10T00:00:00",
          "2020-05-10T00:00:00",
          "2020-01-27T00:00:00"
         ],
         "y": [
          171.8,
          171.8,
          172.2,
          172.2
         ]
        },
        {
         "fill": "toself",
         "fillcolor": "rgb(69, 82, 120)",
         "hoverinfo": "name",
         "legendgroup": "rgb(69, 82, 120)",
         "mode": "none",
         "name": "Liberia",
         "showlegend": false,
         "type": "scatter",
         "x": [
          "2020-03-16T00:00:00",
          "2020-05-09T00:00:00",
          "2020-05-09T00:00:00",
          "2020-03-16T00:00:00"
         ],
         "y": [
          55.8,
          55.8,
          56.2,
          56.2
         ]
        },
        {
         "fill": "toself",
         "fillcolor": "rgb(71, 183, 134)",
         "hoverinfo": "name",
         "legendgroup": "rgb(71, 183, 134)",
         "mode": "none",
         "name": "India",
         "showlegend": false,
         "type": "scatter",
         "x": [
          "2020-01-30T00:00:00",
          "2020-05-10T00:00:00",
          "2020-05-10T00:00:00",
          "2020-01-30T00:00:00"
         ],
         "y": [
          166.8,
          166.8,
          167.2,
          167.2
         ]
        },
        {
         "fill": "toself",
         "fillcolor": "rgb(72, 116, 168)",
         "hoverinfo": "name",
         "legendgroup": "rgb(72, 116, 168)",
         "mode": "none",
         "name": "Latvia",
         "showlegend": false,
         "type": "scatter",
         "x": [
          "2020-03-02T00:00:00",
          "2020-05-10T00:00:00",
          "2020-05-10T00:00:00",
          "2020-03-02T00:00:00"
         ],
         "y": [
          117.8,
          117.8,
          118.2,
          118.2
         ]
        },
        {
         "fill": "toself",
         "fillcolor": "rgb(72, 137, 57)",
         "hoverinfo": "name",
         "legendgroup": "rgb(72, 137, 57)",
         "mode": "none",
         "name": "Barbados",
         "showlegend": false,
         "type": "scatter",
         "x": [
          "2020-03-17T00:00:00",
          "2020-05-10T00:00:00",
          "2020-05-10T00:00:00",
          "2020-03-17T00:00:00"
         ],
         "y": [
          56.8,
          56.8,
          57.2,
          57.2
         ]
        },
        {
         "fill": "toself",
         "fillcolor": "rgb(72, 76, 66)",
         "hoverinfo": "name",
         "legendgroup": "rgb(72, 76, 66)",
         "mode": "none",
         "name": "Grenada",
         "showlegend": false,
         "type": "scatter",
         "x": [
          "2020-03-22T00:00:00",
          "2020-05-03T00:00:00",
          "2020-05-03T00:00:00",
          "2020-03-22T00:00:00"
         ],
         "y": [
          22.8,
          22.8,
          23.2,
          23.2
         ]
        },
        {
         "fill": "toself",
         "fillcolor": "rgb(73, 144, 41)",
         "hoverinfo": "name",
         "legendgroup": "rgb(73, 144, 41)",
         "mode": "none",
         "name": "Belarus",
         "showlegend": false,
         "type": "scatter",
         "x": [
          "2020-02-28T00:00:00",
          "2020-05-10T00:00:00",
          "2020-05-10T00:00:00",
          "2020-02-28T00:00:00"
         ],
         "y": [
          130.8,
          130.8,
          131.2,
          131.2
         ]
        },
        {
         "fill": "toself",
         "fillcolor": "rgb(73, 169, 85)",
         "hoverinfo": "name",
         "legendgroup": "rgb(73, 169, 85)",
         "mode": "none",
         "name": "Slovenia",
         "showlegend": false,
         "type": "scatter",
         "x": [
          "2020-03-05T00:00:00",
          "2020-05-10T00:00:00",
          "2020-05-10T00:00:00",
          "2020-03-05T00:00:00"
         ],
         "y": [
          105.8,
          105.8,
          106.2,
          106.2
         ]
        },
        {
         "fill": "toself",
         "fillcolor": "rgb(74, 118, 4)",
         "hoverinfo": "name",
         "legendgroup": "rgb(74, 118, 4)",
         "mode": "none",
         "name": "Monaco",
         "showlegend": false,
         "type": "scatter",
         "x": [
          "2020-02-29T00:00:00",
          "2020-05-10T00:00:00",
          "2020-05-10T00:00:00",
          "2020-02-29T00:00:00"
         ],
         "y": [
          128.8,
          128.8,
          129.2,
          129.2
         ]
        },
        {
         "fill": "toself",
         "fillcolor": "rgb(76, 19, 75)",
         "hoverinfo": "name",
         "legendgroup": "rgb(76, 19, 75)",
         "mode": "none",
         "name": "Uzbekistan",
         "showlegend": false,
         "type": "scatter",
         "x": [
          "2020-03-15T00:00:00",
          "2020-05-10T00:00:00",
          "2020-05-10T00:00:00",
          "2020-03-15T00:00:00"
         ],
         "y": [
          61.8,
          61.8,
          62.2,
          62.2
         ]
        },
        {
         "fill": "toself",
         "fillcolor": "rgb(76, 3, 153)",
         "hoverinfo": "name",
         "legendgroup": "rgb(76, 3, 153)",
         "mode": "none",
         "name": "Thailand",
         "showlegend": false,
         "type": "scatter",
         "x": [
          "2020-01-22T00:00:00",
          "2020-05-10T00:00:00",
          "2020-05-10T00:00:00",
          "2020-01-22T00:00:00"
         ],
         "y": [
          180.8,
          180.8,
          181.2,
          181.2
         ]
        },
        {
         "fill": "toself",
         "fillcolor": "rgb(76, 43, 168)",
         "hoverinfo": "name",
         "legendgroup": "rgb(76, 43, 168)",
         "mode": "none",
         "name": "Guyana",
         "showlegend": false,
         "type": "scatter",
         "x": [
          "2020-03-12T00:00:00",
          "2020-05-09T00:00:00",
          "2020-05-09T00:00:00",
          "2020-03-12T00:00:00"
         ],
         "y": [
          72.8,
          72.8,
          73.2,
          73.2
         ]
        },
        {
         "fill": "toself",
         "fillcolor": "rgb(8, 37, 177)",
         "hoverinfo": "name",
         "legendgroup": "rgb(8, 37, 177)",
         "mode": "none",
         "name": "Syria",
         "showlegend": false,
         "type": "scatter",
         "x": [
          "2020-03-22T00:00:00",
          "2020-05-09T00:00:00",
          "2020-05-09T00:00:00",
          "2020-03-22T00:00:00"
         ],
         "y": [
          31.8,
          31.8,
          32.2,
          32.2
         ]
        },
        {
         "fill": "toself",
         "fillcolor": "rgb(81, 128, 202)",
         "hoverinfo": "name",
         "legendgroup": "rgb(81, 128, 202)",
         "mode": "none",
         "name": "United Arab Emirates",
         "showlegend": false,
         "type": "scatter",
         "x": [
          "2020-01-29T00:00:00",
          "2020-05-10T00:00:00",
          "2020-05-10T00:00:00",
          "2020-01-29T00:00:00"
         ],
         "y": [
          168.8,
          168.8,
          169.2,
          169.2
         ]
        },
        {
         "fill": "toself",
         "fillcolor": "rgb(81, 172, 0)",
         "hoverinfo": "name",
         "legendgroup": "rgb(81, 172, 0)",
         "mode": "none",
         "name": "Chile",
         "showlegend": false,
         "type": "scatter",
         "x": [
          "2020-03-03T00:00:00",
          "2020-05-10T00:00:00",
          "2020-05-10T00:00:00",
          "2020-03-03T00:00:00"
         ],
         "y": [
          110.8,
          110.8,
          111.2,
          111.2
         ]
        },
        {
         "fill": "toself",
         "fillcolor": "rgb(81, 179, 204)",
         "hoverinfo": "name",
         "legendgroup": "rgb(81, 179, 204)",
         "mode": "none",
         "name": "Kosovo",
         "showlegend": false,
         "type": "scatter",
         "x": [
          "2020-03-26T00:00:00",
          "2020-05-10T00:00:00",
          "2020-05-10T00:00:00",
          "2020-03-26T00:00:00"
         ],
         "y": [
          25.8,
          25.8,
          26.2,
          26.2
         ]
        },
        {
         "fill": "toself",
         "fillcolor": "rgb(82, 198, 167)",
         "hoverinfo": "name",
         "legendgroup": "rgb(82, 198, 167)",
         "mode": "none",
         "name": "Italy",
         "showlegend": false,
         "type": "scatter",
         "x": [
          "2020-01-31T00:00:00",
          "2020-05-10T00:00:00",
          "2020-05-10T00:00:00",
          "2020-01-31T00:00:00"
         ],
         "y": [
          165.8,
          165.8,
          166.2,
          166.2
         ]
        },
        {
         "fill": "toself",
         "fillcolor": "rgb(83, 122, 139)",
         "hoverinfo": "name",
         "legendgroup": "rgb(83, 122, 139)",
         "mode": "none",
         "name": "Hungary",
         "showlegend": false,
         "type": "scatter",
         "x": [
          "2020-03-04T00:00:00",
          "2020-05-10T00:00:00",
          "2020-05-10T00:00:00",
          "2020-03-04T00:00:00"
         ],
         "y": [
          107.8,
          107.8,
          108.2,
          108.2
         ]
        },
        {
         "fill": "toself",
         "fillcolor": "rgb(83, 167, 160)",
         "hoverinfo": "name",
         "legendgroup": "rgb(83, 167, 160)",
         "mode": "none",
         "name": "Sao Tome and Principe",
         "showlegend": false,
         "type": "scatter",
         "x": [
          "2020-04-06T00:00:00",
          "2020-05-09T00:00:00",
          "2020-05-09T00:00:00",
          "2020-04-06T00:00:00"
         ],
         "y": [
          15.8,
          15.8,
          16.2,
          16.2
         ]
        },
        {
         "fill": "toself",
         "fillcolor": "rgb(84, 131, 41)",
         "hoverinfo": "name",
         "legendgroup": "rgb(84, 131, 41)",
         "mode": "none",
         "name": "El Salvador",
         "showlegend": false,
         "type": "scatter",
         "x": [
          "2020-03-19T00:00:00",
          "2020-05-10T00:00:00",
          "2020-05-10T00:00:00",
          "2020-03-19T00:00:00"
         ],
         "y": [
          47.8,
          47.8,
          48.2,
          48.2
         ]
        },
        {
         "fill": "toself",
         "fillcolor": "rgb(85, 204, 22)",
         "hoverinfo": "name",
         "legendgroup": "rgb(85, 204, 22)",
         "mode": "none",
         "name": "Haiti",
         "showlegend": false,
         "type": "scatter",
         "x": [
          "2020-03-20T00:00:00",
          "2020-05-10T00:00:00",
          "2020-05-10T00:00:00",
          "2020-03-20T00:00:00"
         ],
         "y": [
          40.8,
          40.8,
          41.2,
          41.2
         ]
        },
        {
         "fill": "toself",
         "fillcolor": "rgb(86, 81, 149)",
         "hoverinfo": "name",
         "legendgroup": "rgb(86, 81, 149)",
         "mode": "none",
         "name": "Canada",
         "showlegend": false,
         "type": "scatter",
         "x": [
          "2020-01-26T00:00:00",
          "2020-05-10T00:00:00",
          "2020-05-10T00:00:00",
          "2020-01-26T00:00:00"
         ],
         "y": [
          173.8,
          173.8,
          174.2,
          174.2
         ]
        },
        {
         "fill": "toself",
         "fillcolor": "rgb(86, 9, 188)",
         "hoverinfo": "name",
         "legendgroup": "rgb(86, 9, 188)",
         "mode": "none",
         "name": "Montenegro",
         "showlegend": false,
         "type": "scatter",
         "x": [
          "2020-03-17T00:00:00",
          "2020-05-06T00:00:00",
          "2020-05-06T00:00:00",
          "2020-03-17T00:00:00"
         ],
         "y": [
          38.8,
          38.8,
          39.2,
          39.2
         ]
        },
        {
         "fill": "toself",
         "fillcolor": "rgb(87, 27, 72)",
         "hoverinfo": "name",
         "legendgroup": "rgb(87, 27, 72)",
         "mode": "none",
         "name": "Sierra Leone",
         "showlegend": false,
         "type": "scatter",
         "x": [
          "2020-03-31T00:00:00",
          "2020-05-10T00:00:00",
          "2020-05-10T00:00:00",
          "2020-03-31T00:00:00"
         ],
         "y": [
          20.8,
          20.8,
          21.2,
          21.2
         ]
        },
        {
         "fill": "toself",
         "fillcolor": "rgb(89, 151, 69)",
         "hoverinfo": "name",
         "legendgroup": "rgb(89, 151, 69)",
         "mode": "none",
         "name": "Algeria",
         "showlegend": false,
         "type": "scatter",
         "x": [
          "2020-02-25T00:00:00",
          "2020-05-10T00:00:00",
          "2020-05-10T00:00:00",
          "2020-02-25T00:00:00"
         ],
         "y": [
          148.8,
          148.8,
          149.2,
          149.2
         ]
        },
        {
         "fill": "toself",
         "fillcolor": "rgb(89, 75, 90)",
         "hoverinfo": "name",
         "legendgroup": "rgb(89, 75, 90)",
         "mode": "none",
         "name": "Bhutan",
         "showlegend": false,
         "type": "scatter",
         "x": [
          "2020-03-06T00:00:00",
          "2020-04-24T00:00:00",
          "2020-04-24T00:00:00",
          "2020-03-06T00:00:00"
         ],
         "y": [
          33.8,
          33.8,
          34.2,
          34.2
         ]
        },
        {
         "fill": "toself",
         "fillcolor": "rgb(9, 137, 128)",
         "hoverinfo": "name",
         "legendgroup": "rgb(9, 137, 128)",
         "mode": "none",
         "name": "Kuwait",
         "showlegend": false,
         "type": "scatter",
         "x": [
          "2020-02-24T00:00:00",
          "2020-05-10T00:00:00",
          "2020-05-10T00:00:00",
          "2020-02-24T00:00:00"
         ],
         "y": [
          151.8,
          151.8,
          152.2,
          152.2
         ]
        },
        {
         "fill": "toself",
         "fillcolor": "rgb(9, 84, 39)",
         "hoverinfo": "name",
         "legendgroup": "rgb(9, 84, 39)",
         "mode": "none",
         "name": "Eswatini",
         "showlegend": false,
         "type": "scatter",
         "x": [
          "2020-03-14T00:00:00",
          "2020-05-10T00:00:00",
          "2020-05-10T00:00:00",
          "2020-03-14T00:00:00"
         ],
         "y": [
          62.8,
          62.8,
          63.2,
          63.2
         ]
        },
        {
         "fill": "toself",
         "fillcolor": "rgb(90, 100, 67)",
         "hoverinfo": "name",
         "legendgroup": "rgb(90, 100, 67)",
         "mode": "none",
         "name": "Paraguay",
         "showlegend": false,
         "type": "scatter",
         "x": [
          "2020-03-08T00:00:00",
          "2020-05-10T00:00:00",
          "2020-05-10T00:00:00",
          "2020-03-08T00:00:00"
         ],
         "y": [
          93.8,
          93.8,
          94.2,
          94.2
         ]
        },
        {
         "fill": "toself",
         "fillcolor": "rgb(90, 198, 129)",
         "hoverinfo": "name",
         "legendgroup": "rgb(90, 198, 129)",
         "mode": "none",
         "name": "Mauritius",
         "showlegend": false,
         "type": "scatter",
         "x": [
          "2020-03-18T00:00:00",
          "2020-04-28T00:00:00",
          "2020-04-28T00:00:00",
          "2020-03-18T00:00:00"
         ],
         "y": [
          21.8,
          21.8,
          22.2,
          22.2
         ]
        },
        {
         "fill": "toself",
         "fillcolor": "rgb(91, 34, 97)",
         "hoverinfo": "name",
         "legendgroup": "rgb(91, 34, 97)",
         "mode": "none",
         "name": "Moldova",
         "showlegend": false,
         "type": "scatter",
         "x": [
          "2020-03-08T00:00:00",
          "2020-05-10T00:00:00",
          "2020-05-10T00:00:00",
          "2020-03-08T00:00:00"
         ],
         "y": [
          89.8,
          89.8,
          90.2,
          90.2
         ]
        },
        {
         "fill": "toself",
         "fillcolor": "rgb(92, 85, 202)",
         "hoverinfo": "name",
         "legendgroup": "rgb(92, 85, 202)",
         "mode": "none",
         "name": "Belize",
         "showlegend": false,
         "type": "scatter",
         "x": [
          "2020-03-23T00:00:00",
          "2020-04-14T00:00:00",
          "2020-04-14T00:00:00",
          "2020-03-23T00:00:00"
         ],
         "y": [
          6.8,
          6.8,
          7.2,
          7.2
         ]
        },
        {
         "fill": "toself",
         "fillcolor": "rgb(96, 149, 187)",
         "hoverinfo": "name",
         "legendgroup": "rgb(96, 149, 187)",
         "mode": "none",
         "name": "Mexico",
         "showlegend": false,
         "type": "scatter",
         "x": [
          "2020-02-28T00:00:00",
          "2020-05-10T00:00:00",
          "2020-05-10T00:00:00",
          "2020-02-28T00:00:00"
         ],
         "y": [
          132.8,
          132.8,
          133.2,
          133.2
         ]
        },
        {
         "fill": "toself",
         "fillcolor": "rgb(96, 154, 56)",
         "hoverinfo": "name",
         "legendgroup": "rgb(96, 154, 56)",
         "mode": "none",
         "name": "Costa Rica",
         "showlegend": false,
         "type": "scatter",
         "x": [
          "2020-03-06T00:00:00",
          "2020-05-10T00:00:00",
          "2020-05-10T00:00:00",
          "2020-03-06T00:00:00"
         ],
         "y": [
          97.8,
          97.8,
          98.2,
          98.2
         ]
        },
        {
         "fill": "toself",
         "fillcolor": "rgb(96, 160, 150)",
         "hoverinfo": "name",
         "legendgroup": "rgb(96, 160, 150)",
         "mode": "none",
         "name": "Tajikistan",
         "showlegend": false,
         "type": "scatter",
         "x": [
          "2020-04-30T00:00:00",
          "2020-05-10T00:00:00",
          "2020-05-10T00:00:00",
          "2020-04-30T00:00:00"
         ],
         "y": [
          1.8,
          1.8,
          2.2,
          2.2
         ]
        },
        {
         "fill": "toself",
         "fillcolor": "rgb(97, 19, 177)",
         "hoverinfo": "name",
         "legendgroup": "rgb(97, 19, 177)",
         "mode": "none",
         "name": "Mali",
         "showlegend": false,
         "type": "scatter",
         "x": [
          "2020-03-25T00:00:00",
          "2020-05-10T00:00:00",
          "2020-05-10T00:00:00",
          "2020-03-25T00:00:00"
         ],
         "y": [
          28.8,
          28.8,
          29.2,
          29.2
         ]
        },
        {
         "legendgroup": "rgb(1, 145, 48)",
         "marker": {
          "color": "rgb(1, 145, 48)",
          "opacity": 0,
          "size": 1
         },
         "mode": "markers",
         "name": "",
         "showlegend": false,
         "text": [
          null,
          null
         ],
         "type": "scatter",
         "x": [
          "2020-02-28T00:00:00",
          "2020-05-10T00:00:00"
         ],
         "y": [
          132,
          132
         ]
        },
        {
         "legendgroup": "rgb(1, 154, 91)",
         "marker": {
          "color": "rgb(1, 154, 91)",
          "opacity": 0,
          "size": 1
         },
         "mode": "markers",
         "name": "",
         "showlegend": false,
         "text": [
          null,
          null
         ],
         "type": "scatter",
         "x": [
          "2020-02-29T00:00:00",
          "2020-05-10T00:00:00"
         ],
         "y": [
          128,
          128
         ]
        },
        {
         "legendgroup": "rgb(1, 155, 185)",
         "marker": {
          "color": "rgb(1, 155, 185)",
          "opacity": 0,
          "size": 1
         },
         "mode": "markers",
         "name": "",
         "showlegend": false,
         "text": [
          null,
          null
         ],
         "type": "scatter",
         "x": [
          "2020-03-15T00:00:00",
          "2020-05-09T00:00:00"
         ],
         "y": [
          61,
          61
         ]
        },
        {
         "legendgroup": "rgb(10, 38, 153)",
         "marker": {
          "color": "rgb(10, 38, 153)",
          "opacity": 0,
          "size": 1
         },
         "mode": "markers",
         "name": "",
         "showlegend": false,
         "text": [
          null,
          null
         ],
         "type": "scatter",
         "x": [
          "2020-03-02T00:00:00",
          "2020-05-10T00:00:00"
         ],
         "y": [
          116,
          116
         ]
        },
        {
         "legendgroup": "rgb(100, 179, 153)",
         "marker": {
          "color": "rgb(100, 179, 153)",
          "opacity": 0,
          "size": 1
         },
         "mode": "markers",
         "name": "",
         "showlegend": false,
         "text": [
          null,
          null
         ],
         "type": "scatter",
         "x": [
          "2020-03-10T00:00:00",
          "2020-05-09T00:00:00"
         ],
         "y": [
          84,
          84
         ]
        },
        {
         "legendgroup": "rgb(102, 33, 168)",
         "marker": {
          "color": "rgb(102, 33, 168)",
          "opacity": 0,
          "size": 1
         },
         "mode": "markers",
         "name": "",
         "showlegend": false,
         "text": [
          null,
          null
         ],
         "type": "scatter",
         "x": [
          "2020-03-10T00:00:00",
          "2020-05-10T00:00:00"
         ],
         "y": [
          85,
          85
         ]
        },
        {
         "legendgroup": "rgb(102, 51, 134)",
         "marker": {
          "color": "rgb(102, 51, 134)",
          "opacity": 0,
          "size": 1
         },
         "mode": "markers",
         "name": "",
         "showlegend": false,
         "text": [
          null,
          null
         ],
         "type": "scatter",
         "x": [
          "2020-03-21T00:00:00",
          "2020-04-19T00:00:00"
         ],
         "y": [
          11,
          11
         ]
        },
        {
         "legendgroup": "rgb(102, 92, 70)",
         "marker": {
          "color": "rgb(102, 92, 70)",
          "opacity": 0,
          "size": 1
         },
         "mode": "markers",
         "name": "",
         "showlegend": false,
         "text": [
          null,
          null
         ],
         "type": "scatter",
         "x": [
          "2020-03-06T00:00:00",
          "2020-05-07T00:00:00"
         ],
         "y": [
          87,
          87
         ]
        },
        {
         "legendgroup": "rgb(103, 8, 89)",
         "marker": {
          "color": "rgb(103, 8, 89)",
          "opacity": 0,
          "size": 1
         },
         "mode": "markers",
         "name": "",
         "showlegend": false,
         "text": [
          null,
          null
         ],
         "type": "scatter",
         "x": [
          "2020-03-09T00:00:00",
          "2020-05-10T00:00:00"
         ],
         "y": [
          88,
          88
         ]
        },
        {
         "legendgroup": "rgb(103, 81, 10)",
         "marker": {
          "color": "rgb(103, 81, 10)",
          "opacity": 0,
          "size": 1
         },
         "mode": "markers",
         "name": "",
         "showlegend": false,
         "text": [
          null,
          null
         ],
         "type": "scatter",
         "x": [
          "2020-03-17T00:00:00",
          "2020-05-09T00:00:00"
         ],
         "y": [
          52,
          52
         ]
        },
        {
         "legendgroup": "rgb(104, 35, 180)",
         "marker": {
          "color": "rgb(104, 35, 180)",
          "opacity": 0,
          "size": 1
         },
         "mode": "markers",
         "name": "",
         "showlegend": false,
         "text": [
          null,
          null
         ],
         "type": "scatter",
         "x": [
          "2020-02-26T00:00:00",
          "2020-05-10T00:00:00"
         ],
         "y": [
          141,
          141
         ]
        },
        {
         "legendgroup": "rgb(105, 137, 6)",
         "marker": {
          "color": "rgb(105, 137, 6)",
          "opacity": 0,
          "size": 1
         },
         "mode": "markers",
         "name": "",
         "showlegend": false,
         "text": [
          null,
          null
         ],
         "type": "scatter",
         "x": [
          "2020-02-04T00:00:00",
          "2020-05-10T00:00:00"
         ],
         "y": [
          161,
          161
         ]
        },
        {
         "legendgroup": "rgb(106, 172, 144)",
         "marker": {
          "color": "rgb(106, 172, 144)",
          "opacity": 0,
          "size": 1
         },
         "mode": "markers",
         "name": "",
         "showlegend": false,
         "text": [
          null,
          null
         ],
         "type": "scatter",
         "x": [
          "2020-03-14T00:00:00",
          "2020-05-10T00:00:00"
         ],
         "y": [
          69,
          69
         ]
        },
        {
         "legendgroup": "rgb(108, 140, 39)",
         "marker": {
          "color": "rgb(108, 140, 39)",
          "opacity": 0,
          "size": 1
         },
         "mode": "markers",
         "name": "",
         "showlegend": false,
         "text": [
          null,
          null
         ],
         "type": "scatter",
         "x": [
          "2020-03-11T00:00:00",
          "2020-05-10T00:00:00"
         ],
         "y": [
          83,
          83
         ]
        },
        {
         "legendgroup": "rgb(113, 129, 108)",
         "marker": {
          "color": "rgb(113, 129, 108)",
          "opacity": 0,
          "size": 1
         },
         "mode": "markers",
         "name": "",
         "showlegend": false,
         "text": [
          null,
          null
         ],
         "type": "scatter",
         "x": [
          "2020-03-25T00:00:00",
          "2020-05-10T00:00:00"
         ],
         "y": [
          28,
          28
         ]
        },
        {
         "legendgroup": "rgb(113, 60, 184)",
         "marker": {
          "color": "rgb(113, 60, 184)",
          "opacity": 0,
          "size": 1
         },
         "mode": "markers",
         "name": "",
         "showlegend": false,
         "text": [
          null,
          null
         ],
         "type": "scatter",
         "x": [
          "2020-02-28T00:00:00",
          "2020-05-10T00:00:00"
         ],
         "y": [
          134,
          134
         ]
        },
        {
         "legendgroup": "rgb(115, 117, 117)",
         "marker": {
          "color": "rgb(115, 117, 117)",
          "opacity": 0,
          "size": 1
         },
         "mode": "markers",
         "name": "",
         "showlegend": false,
         "text": [
          null,
          null
         ],
         "type": "scatter",
         "x": [
          "2020-03-13T00:00:00",
          "2020-05-02T00:00:00"
         ],
         "y": [
          37,
          37
         ]
        },
        {
         "legendgroup": "rgb(115, 149, 1)",
         "marker": {
          "color": "rgb(115, 149, 1)",
          "opacity": 0,
          "size": 1
         },
         "mode": "markers",
         "name": "",
         "showlegend": false,
         "text": [
          null,
          null
         ],
         "type": "scatter",
         "x": [
          "2020-03-06T00:00:00",
          "2020-05-10T00:00:00"
         ],
         "y": [
          100,
          100
         ]
        },
        {
         "legendgroup": "rgb(115, 24, 194)",
         "marker": {
          "color": "rgb(115, 24, 194)",
          "opacity": 0,
          "size": 1
         },
         "mode": "markers",
         "name": "",
         "showlegend": false,
         "text": [
          null,
          null
         ],
         "type": "scatter",
         "x": [
          "2020-03-13T00:00:00",
          "2020-05-10T00:00:00"
         ],
         "y": [
          72,
          72
         ]
        },
        {
         "legendgroup": "rgb(115, 88, 161)",
         "marker": {
          "color": "rgb(115, 88, 161)",
          "opacity": 0,
          "size": 1
         },
         "mode": "markers",
         "name": "",
         "showlegend": false,
         "text": [
          null,
          null
         ],
         "type": "scatter",
         "x": [
          "2020-01-27T00:00:00",
          "2020-05-10T00:00:00"
         ],
         "y": [
          171,
          171
         ]
        },
        {
         "legendgroup": "rgb(117, 123, 156)",
         "marker": {
          "color": "rgb(117, 123, 156)",
          "opacity": 0,
          "size": 1
         },
         "mode": "markers",
         "name": "",
         "showlegend": false,
         "text": [
          null,
          null
         ],
         "type": "scatter",
         "x": [
          "2020-03-15T00:00:00",
          "2020-05-09T00:00:00"
         ],
         "y": [
          59,
          59
         ]
        },
        {
         "legendgroup": "rgb(118, 161, 17)",
         "marker": {
          "color": "rgb(118, 161, 17)",
          "opacity": 0,
          "size": 1
         },
         "mode": "markers",
         "name": "",
         "showlegend": false,
         "text": [
          null,
          null
         ],
         "type": "scatter",
         "x": [
          "2020-03-06T00:00:00",
          "2020-05-10T00:00:00"
         ],
         "y": [
          101,
          101
         ]
        },
        {
         "legendgroup": "rgb(119, 151, 99)",
         "marker": {
          "color": "rgb(119, 151, 99)",
          "opacity": 0,
          "size": 1
         },
         "mode": "markers",
         "name": "",
         "showlegend": false,
         "text": [
          null,
          null
         ],
         "type": "scatter",
         "x": [
          "2020-01-22T00:00:00",
          "2020-05-10T00:00:00"
         ],
         "y": [
          184,
          184
         ]
        },
        {
         "legendgroup": "rgb(120, 122, 81)",
         "marker": {
          "color": "rgb(120, 122, 81)",
          "opacity": 0,
          "size": 1
         },
         "mode": "markers",
         "name": "",
         "showlegend": false,
         "text": [
          null,
          null
         ],
         "type": "scatter",
         "x": [
          "2020-02-14T00:00:00",
          "2020-05-10T00:00:00"
         ],
         "y": [
          160,
          160
         ]
        },
        {
         "legendgroup": "rgb(120, 163, 112)",
         "marker": {
          "color": "rgb(120, 163, 112)",
          "opacity": 0,
          "size": 1
         },
         "mode": "markers",
         "name": "",
         "showlegend": false,
         "text": [
          null,
          null
         ],
         "type": "scatter",
         "x": [
          "2020-03-20T00:00:00",
          "2020-05-10T00:00:00"
         ],
         "y": [
          44,
          44
         ]
        },
        {
         "legendgroup": "rgb(128, 119, 4)",
         "marker": {
          "color": "rgb(128, 119, 4)",
          "opacity": 0,
          "size": 1
         },
         "mode": "markers",
         "name": "",
         "showlegend": false,
         "text": [
          null,
          null
         ],
         "type": "scatter",
         "x": [
          "2020-03-20T00:00:00",
          "2020-05-08T00:00:00"
         ],
         "y": [
          35,
          35
         ]
        },
        {
         "legendgroup": "rgb(129, 138, 146)",
         "marker": {
          "color": "rgb(129, 138, 146)",
          "opacity": 0,
          "size": 1
         },
         "mode": "markers",
         "name": "",
         "showlegend": false,
         "text": [
          null,
          null
         ],
         "type": "scatter",
         "x": [
          "2020-03-30T00:00:00",
          "2020-04-29T00:00:00"
         ],
         "y": [
          13,
          13
         ]
        },
        {
         "legendgroup": "rgb(129, 140, 101)",
         "marker": {
          "color": "rgb(129, 140, 101)",
          "opacity": 0,
          "size": 1
         },
         "mode": "markers",
         "name": "",
         "showlegend": false,
         "text": [
          null,
          null
         ],
         "type": "scatter",
         "x": [
          "2020-03-11T00:00:00",
          "2020-05-09T00:00:00"
         ],
         "y": [
          76,
          76
         ]
        },
        {
         "legendgroup": "rgb(129, 201, 69)",
         "marker": {
          "color": "rgb(129, 201, 69)",
          "opacity": 0,
          "size": 1
         },
         "mode": "markers",
         "name": "",
         "showlegend": false,
         "text": [
          null,
          null
         ],
         "type": "scatter",
         "x": [
          "2020-03-12T00:00:00",
          "2020-05-10T00:00:00"
         ],
         "y": [
          77,
          77
         ]
        },
        {
         "legendgroup": "rgb(131, 138, 49)",
         "marker": {
          "color": "rgb(131, 138, 49)",
          "opacity": 0,
          "size": 1
         },
         "mode": "markers",
         "name": "",
         "showlegend": false,
         "text": [
          null,
          null
         ],
         "type": "scatter",
         "x": [
          "2020-01-23T00:00:00",
          "2020-05-08T00:00:00"
         ],
         "y": [
          177,
          177
         ]
        },
        {
         "legendgroup": "rgb(131, 198, 3)",
         "marker": {
          "color": "rgb(131, 198, 3)",
          "opacity": 0,
          "size": 1
         },
         "mode": "markers",
         "name": "",
         "showlegend": false,
         "text": [
          null,
          null
         ],
         "type": "scatter",
         "x": [
          "2020-03-22T00:00:00",
          "2020-05-10T00:00:00"
         ],
         "y": [
          33,
          33
         ]
        },
        {
         "legendgroup": "rgb(132, 50, 59)",
         "marker": {
          "color": "rgb(132, 50, 59)",
          "opacity": 0,
          "size": 1
         },
         "mode": "markers",
         "name": "",
         "showlegend": false,
         "text": [
          null,
          null
         ],
         "type": "scatter",
         "x": [
          "2020-03-18T00:00:00",
          "2020-05-10T00:00:00"
         ],
         "y": [
          50,
          50
         ]
        },
        {
         "legendgroup": "rgb(133, 1, 23)",
         "marker": {
          "color": "rgb(133, 1, 23)",
          "opacity": 0,
          "size": 1
         },
         "mode": "markers",
         "name": "",
         "showlegend": false,
         "text": [
          null,
          null
         ],
         "type": "scatter",
         "x": [
          "2020-03-16T00:00:00",
          "2020-05-10T00:00:00"
         ],
         "y": [
          60,
          60
         ]
        },
        {
         "legendgroup": "rgb(135, 176, 32)",
         "marker": {
          "color": "rgb(135, 176, 32)",
          "opacity": 0,
          "size": 1
         },
         "mode": "markers",
         "name": "",
         "showlegend": false,
         "text": [
          null,
          null
         ],
         "type": "scatter",
         "x": [
          "2020-03-04T00:00:00",
          "2020-04-27T00:00:00"
         ],
         "y": [
          54,
          54
         ]
        },
        {
         "legendgroup": "rgb(135, 85, 198)",
         "marker": {
          "color": "rgb(135, 85, 198)",
          "opacity": 0,
          "size": 1
         },
         "mode": "markers",
         "name": "",
         "showlegend": false,
         "text": [
          null,
          null
         ],
         "type": "scatter",
         "x": [
          "2020-03-20T00:00:00",
          "2020-04-23T00:00:00"
         ],
         "y": [
          17,
          17
         ]
        },
        {
         "legendgroup": "rgb(136, 162, 123)",
         "marker": {
          "color": "rgb(136, 162, 123)",
          "opacity": 0,
          "size": 1
         },
         "mode": "markers",
         "name": "",
         "showlegend": false,
         "text": [
          null,
          null
         ],
         "type": "scatter",
         "x": [
          "2020-03-09T00:00:00",
          "2020-05-08T00:00:00"
         ],
         "y": [
          81,
          81
         ]
        },
        {
         "legendgroup": "rgb(136, 164, 39)",
         "marker": {
          "color": "rgb(136, 164, 39)",
          "opacity": 0,
          "size": 1
         },
         "mode": "markers",
         "name": "",
         "showlegend": false,
         "text": [
          null,
          null
         ],
         "type": "scatter",
         "x": [
          "2020-03-14T00:00:00",
          "2020-04-07T00:00:00"
         ],
         "y": [
          9,
          9
         ]
        },
        {
         "legendgroup": "rgb(137, 40, 26)",
         "marker": {
          "color": "rgb(137, 40, 26)",
          "opacity": 0,
          "size": 1
         },
         "mode": "markers",
         "name": "",
         "showlegend": false,
         "text": [
          null,
          null
         ],
         "type": "scatter",
         "x": [
          "2020-02-01T00:00:00",
          "2020-05-10T00:00:00"
         ],
         "y": [
          162,
          162
         ]
        },
        {
         "legendgroup": "rgb(139, 24, 23)",
         "marker": {
          "color": "rgb(139, 24, 23)",
          "opacity": 0,
          "size": 1
         },
         "mode": "markers",
         "name": "",
         "showlegend": false,
         "text": [
          null,
          null
         ],
         "type": "scatter",
         "x": [
          "2020-03-25T00:00:00",
          "2020-04-21T00:00:00"
         ],
         "y": [
          10,
          10
         ]
        },
        {
         "legendgroup": "rgb(145, 132, 154)",
         "marker": {
          "color": "rgb(145, 132, 154)",
          "opacity": 0,
          "size": 1
         },
         "mode": "markers",
         "name": "",
         "showlegend": false,
         "text": [
          null,
          null
         ],
         "type": "scatter",
         "x": [
          "2020-01-26T00:00:00",
          "2020-05-10T00:00:00"
         ],
         "y": [
          173,
          173
         ]
        },
        {
         "legendgroup": "rgb(145, 179, 192)",
         "marker": {
          "color": "rgb(145, 179, 192)",
          "opacity": 0,
          "size": 1
         },
         "mode": "markers",
         "name": "",
         "showlegend": false,
         "text": [
          null,
          null
         ],
         "type": "scatter",
         "x": [
          "2020-03-02T00:00:00",
          "2020-05-10T00:00:00"
         ],
         "y": [
          114,
          114
         ]
        },
        {
         "legendgroup": "rgb(147, 119, 117)",
         "marker": {
          "color": "rgb(147, 119, 117)",
          "opacity": 0,
          "size": 1
         },
         "mode": "markers",
         "name": "",
         "showlegend": false,
         "text": [
          null,
          null
         ],
         "type": "scatter",
         "x": [
          "2020-04-05T00:00:00",
          "2020-04-13T00:00:00"
         ],
         "y": [
          0,
          0
         ]
        },
        {
         "legendgroup": "rgb(147, 204, 60)",
         "marker": {
          "color": "rgb(147, 204, 60)",
          "opacity": 0,
          "size": 1
         },
         "mode": "markers",
         "name": "",
         "showlegend": false,
         "text": [
          null,
          null
         ],
         "type": "scatter",
         "x": [
          "2020-03-14T00:00:00",
          "2020-05-10T00:00:00"
         ],
         "y": [
          64,
          64
         ]
        },
        {
         "legendgroup": "rgb(149, 24, 186)",
         "marker": {
          "color": "rgb(149, 24, 186)",
          "opacity": 0,
          "size": 1
         },
         "mode": "markers",
         "name": "",
         "showlegend": false,
         "text": [
          null,
          null
         ],
         "type": "scatter",
         "x": [
          "2020-03-01T00:00:00",
          "2020-05-10T00:00:00"
         ],
         "y": [
          123,
          123
         ]
        },
        {
         "legendgroup": "rgb(149, 90, 33)",
         "marker": {
          "color": "rgb(149, 90, 33)",
          "opacity": 0,
          "size": 1
         },
         "mode": "markers",
         "name": "",
         "showlegend": false,
         "text": [
          null,
          null
         ],
         "type": "scatter",
         "x": [
          "2020-01-31T00:00:00",
          "2020-05-10T00:00:00"
         ],
         "y": [
          165,
          165
         ]
        },
        {
         "legendgroup": "rgb(150, 134, 122)",
         "marker": {
          "color": "rgb(150, 134, 122)",
          "opacity": 0,
          "size": 1
         },
         "mode": "markers",
         "name": "",
         "showlegend": false,
         "text": [
          null,
          null
         ],
         "type": "scatter",
         "x": [
          "2020-01-31T00:00:00",
          "2020-05-10T00:00:00"
         ],
         "y": [
          164,
          164
         ]
        },
        {
         "legendgroup": "rgb(151, 179, 7)",
         "marker": {
          "color": "rgb(151, 179, 7)",
          "opacity": 0,
          "size": 1
         },
         "mode": "markers",
         "name": "",
         "showlegend": false,
         "text": [
          null,
          null
         ],
         "type": "scatter",
         "x": [
          "2020-03-27T00:00:00",
          "2020-05-10T00:00:00"
         ],
         "y": [
          25,
          25
         ]
        },
        {
         "legendgroup": "rgb(152, 188, 9)",
         "marker": {
          "color": "rgb(152, 188, 9)",
          "opacity": 0,
          "size": 1
         },
         "mode": "markers",
         "name": "",
         "showlegend": false,
         "text": [
          null,
          null
         ],
         "type": "scatter",
         "x": [
          "2020-03-06T00:00:00",
          "2020-05-10T00:00:00"
         ],
         "y": [
          103,
          103
         ]
        },
        {
         "legendgroup": "rgb(152, 203, 68)",
         "marker": {
          "color": "rgb(152, 203, 68)",
          "opacity": 0,
          "size": 1
         },
         "mode": "markers",
         "name": "",
         "showlegend": false,
         "text": [
          null,
          null
         ],
         "type": "scatter",
         "x": [
          "2020-03-02T00:00:00",
          "2020-05-10T00:00:00"
         ],
         "y": [
          117,
          117
         ]
        },
        {
         "legendgroup": "rgb(152, 6, 196)",
         "marker": {
          "color": "rgb(152, 6, 196)",
          "opacity": 0,
          "size": 1
         },
         "mode": "markers",
         "name": "",
         "showlegend": false,
         "text": [
          null,
          null
         ],
         "type": "scatter",
         "x": [
          "2020-03-16T00:00:00",
          "2020-05-07T00:00:00"
         ],
         "y": [
          47,
          47
         ]
        },
        {
         "legendgroup": "rgb(154, 87, 102)",
         "marker": {
          "color": "rgb(154, 87, 102)",
          "opacity": 0,
          "size": 1
         },
         "mode": "markers",
         "name": "",
         "showlegend": false,
         "text": [
          null,
          null
         ],
         "type": "scatter",
         "x": [
          "2020-02-24T00:00:00",
          "2020-05-10T00:00:00"
         ],
         "y": [
          153,
          153
         ]
        },
        {
         "legendgroup": "rgb(155, 37, 151)",
         "marker": {
          "color": "rgb(155, 37, 151)",
          "opacity": 0,
          "size": 1
         },
         "mode": "markers",
         "name": "",
         "showlegend": false,
         "text": [
          null,
          null
         ],
         "type": "scatter",
         "x": [
          "2020-01-23T00:00:00",
          "2020-05-10T00:00:00"
         ],
         "y": [
          180,
          180
         ]
        },
        {
         "legendgroup": "rgb(155, 41, 154)",
         "marker": {
          "color": "rgb(155, 41, 154)",
          "opacity": 0,
          "size": 1
         },
         "mode": "markers",
         "name": "",
         "showlegend": false,
         "text": [
          null,
          null
         ],
         "type": "scatter",
         "x": [
          "2020-03-13T00:00:00",
          "2020-05-10T00:00:00"
         ],
         "y": [
          74,
          74
         ]
        },
        {
         "legendgroup": "rgb(16, 149, 34)",
         "marker": {
          "color": "rgb(16, 149, 34)",
          "opacity": 0,
          "size": 1
         },
         "mode": "markers",
         "name": "",
         "showlegend": false,
         "text": [
          null,
          null
         ],
         "type": "scatter",
         "x": [
          "2020-03-03T00:00:00",
          "2020-05-10T00:00:00"
         ],
         "y": [
          113,
          113
         ]
        },
        {
         "legendgroup": "rgb(16, 20, 153)",
         "marker": {
          "color": "rgb(16, 20, 153)",
          "opacity": 0,
          "size": 1
         },
         "mode": "markers",
         "name": "",
         "showlegend": false,
         "text": [
          null,
          null
         ],
         "type": "scatter",
         "x": [
          "2020-03-05T00:00:00",
          "2020-05-10T00:00:00"
         ],
         "y": [
          105,
          105
         ]
        },
        {
         "legendgroup": "rgb(162, 156, 58)",
         "marker": {
          "color": "rgb(162, 156, 58)",
          "opacity": 0,
          "size": 1
         },
         "mode": "markers",
         "name": "",
         "showlegend": false,
         "text": [
          null,
          null
         ],
         "type": "scatter",
         "x": [
          "2020-03-22T00:00:00",
          "2020-04-25T00:00:00"
         ],
         "y": [
          18,
          18
         ]
        },
        {
         "legendgroup": "rgb(163, 108, 86)",
         "marker": {
          "color": "rgb(163, 108, 86)",
          "opacity": 0,
          "size": 1
         },
         "mode": "markers",
         "name": "",
         "showlegend": false,
         "text": [
          null,
          null
         ],
         "type": "scatter",
         "x": [
          "2020-03-22T00:00:00",
          "2020-04-11T00:00:00"
         ],
         "y": [
          5,
          5
         ]
        },
        {
         "legendgroup": "rgb(163, 112, 113)",
         "marker": {
          "color": "rgb(163, 112, 113)",
          "opacity": 0,
          "size": 1
         },
         "mode": "markers",
         "name": "",
         "showlegend": false,
         "text": [
          null,
          null
         ],
         "type": "scatter",
         "x": [
          "2020-02-26T00:00:00",
          "2020-05-10T00:00:00"
         ],
         "y": [
          142,
          142
         ]
        },
        {
         "legendgroup": "rgb(163, 136, 102)",
         "marker": {
          "color": "rgb(163, 136, 102)",
          "opacity": 0,
          "size": 1
         },
         "mode": "markers",
         "name": "",
         "showlegend": false,
         "text": [
          null,
          null
         ],
         "type": "scatter",
         "x": [
          "2020-03-14T00:00:00",
          "2020-04-30T00:00:00"
         ],
         "y": [
          30,
          30
         ]
        },
        {
         "legendgroup": "rgb(167, 162, 76)",
         "marker": {
          "color": "rgb(167, 162, 76)",
          "opacity": 0,
          "size": 1
         },
         "mode": "markers",
         "name": "",
         "showlegend": false,
         "text": [
          null,
          null
         ],
         "type": "scatter",
         "x": [
          "2020-03-08T00:00:00",
          "2020-05-10T00:00:00"
         ],
         "y": [
          93,
          93
         ]
        },
        {
         "legendgroup": "rgb(168, 177, 55)",
         "marker": {
          "color": "rgb(168, 177, 55)",
          "opacity": 0,
          "size": 1
         },
         "mode": "markers",
         "name": "",
         "showlegend": false,
         "text": [
          null,
          null
         ],
         "type": "scatter",
         "x": [
          "2020-03-14T00:00:00",
          "2020-04-06T00:00:00"
         ],
         "y": [
          8,
          8
         ]
        },
        {
         "legendgroup": "rgb(17, 0, 153)",
         "marker": {
          "color": "rgb(17, 0, 153)",
          "opacity": 0,
          "size": 1
         },
         "mode": "markers",
         "name": "",
         "showlegend": false,
         "text": [
          null,
          null
         ],
         "type": "scatter",
         "x": [
          "2020-02-26T00:00:00",
          "2020-05-10T00:00:00"
         ],
         "y": [
          140,
          140
         ]
        },
        {
         "legendgroup": "rgb(17, 192, 131)",
         "marker": {
          "color": "rgb(17, 192, 131)",
          "opacity": 0,
          "size": 1
         },
         "mode": "markers",
         "name": "",
         "showlegend": false,
         "text": [
          null,
          null
         ],
         "type": "scatter",
         "x": [
          "2020-02-25T00:00:00",
          "2020-05-10T00:00:00"
         ],
         "y": [
          150,
          150
         ]
        },
        {
         "legendgroup": "rgb(170, 36, 115)",
         "marker": {
          "color": "rgb(170, 36, 115)",
          "opacity": 0,
          "size": 1
         },
         "mode": "markers",
         "name": "",
         "showlegend": false,
         "text": [
          null,
          null
         ],
         "type": "scatter",
         "x": [
          "2020-04-30T00:00:00",
          "2020-05-10T00:00:00"
         ],
         "y": [
          1,
          1
         ]
        },
        {
         "legendgroup": "rgb(170, 52, 26)",
         "marker": {
          "color": "rgb(170, 52, 26)",
          "opacity": 0,
          "size": 1
         },
         "mode": "markers",
         "name": "",
         "showlegend": false,
         "text": [
          null,
          null
         ],
         "type": "scatter",
         "x": [
          "2020-02-21T00:00:00",
          "2020-05-10T00:00:00"
         ],
         "y": [
          157,
          157
         ]
        },
        {
         "legendgroup": "rgb(171, 57, 36)",
         "marker": {
          "color": "rgb(171, 57, 36)",
          "opacity": 0,
          "size": 1
         },
         "mode": "markers",
         "name": "",
         "showlegend": false,
         "text": [
          null,
          null
         ],
         "type": "scatter",
         "x": [
          "2020-01-22T00:00:00",
          "2020-05-08T00:00:00"
         ],
         "y": [
          179,
          179
         ]
        },
        {
         "legendgroup": "rgb(171, 96, 2)",
         "marker": {
          "color": "rgb(171, 96, 2)",
          "opacity": 0,
          "size": 1
         },
         "mode": "markers",
         "name": "",
         "showlegend": false,
         "text": [
          null,
          null
         ],
         "type": "scatter",
         "x": [
          "2020-02-24T00:00:00",
          "2020-05-10T00:00:00"
         ],
         "y": [
          155,
          155
         ]
        },
        {
         "legendgroup": "rgb(172, 106, 178)",
         "marker": {
          "color": "rgb(172, 106, 178)",
          "opacity": 0,
          "size": 1
         },
         "mode": "markers",
         "name": "",
         "showlegend": false,
         "text": [
          null,
          null
         ],
         "type": "scatter",
         "x": [
          "2020-03-08T00:00:00",
          "2020-05-10T00:00:00"
         ],
         "y": [
          91,
          91
         ]
        },
        {
         "legendgroup": "rgb(172, 188, 196)",
         "marker": {
          "color": "rgb(172, 188, 196)",
          "opacity": 0,
          "size": 1
         },
         "mode": "markers",
         "name": "",
         "showlegend": false,
         "text": [
          null,
          null
         ],
         "type": "scatter",
         "x": [
          "2020-03-09T00:00:00",
          "2020-05-10T00:00:00"
         ],
         "y": [
          89,
          89
         ]
        },
        {
         "legendgroup": "rgb(172, 70, 201)",
         "marker": {
          "color": "rgb(172, 70, 201)",
          "opacity": 0,
          "size": 1
         },
         "mode": "markers",
         "name": "",
         "showlegend": false,
         "text": [
          null,
          null
         ],
         "type": "scatter",
         "x": [
          "2020-01-22T00:00:00",
          "2020-05-10T00:00:00"
         ],
         "y": [
          182,
          182
         ]
        },
        {
         "legendgroup": "rgb(176, 123, 171)",
         "marker": {
          "color": "rgb(176, 123, 171)",
          "opacity": 0,
          "size": 1
         },
         "mode": "markers",
         "name": "",
         "showlegend": false,
         "text": [
          null,
          null
         ],
         "type": "scatter",
         "x": [
          "2020-03-13T00:00:00",
          "2020-05-10T00:00:00"
         ],
         "y": [
          71,
          71
         ]
        },
        {
         "legendgroup": "rgb(176, 34, 124)",
         "marker": {
          "color": "rgb(176, 34, 124)",
          "opacity": 0,
          "size": 1
         },
         "mode": "markers",
         "name": "",
         "showlegend": false,
         "text": [
          null,
          null
         ],
         "type": "scatter",
         "x": [
          "2020-02-24T00:00:00",
          "2020-05-10T00:00:00"
         ],
         "y": [
          154,
          154
         ]
        },
        {
         "legendgroup": "rgb(178, 71, 20)",
         "marker": {
          "color": "rgb(178, 71, 20)",
          "opacity": 0,
          "size": 1
         },
         "mode": "markers",
         "name": "",
         "showlegend": false,
         "text": [
          null,
          null
         ],
         "type": "scatter",
         "x": [
          "2020-04-02T00:00:00",
          "2020-05-10T00:00:00"
         ],
         "y": [
          20,
          20
         ]
        },
        {
         "legendgroup": "rgb(179, 10, 33)",
         "marker": {
          "color": "rgb(179, 10, 33)",
          "opacity": 0,
          "size": 1
         },
         "mode": "markers",
         "name": "",
         "showlegend": false,
         "text": [
          null,
          null
         ],
         "type": "scatter",
         "x": [
          "2020-01-25T00:00:00",
          "2020-05-10T00:00:00"
         ],
         "y": [
          175,
          175
         ]
        },
        {
         "legendgroup": "rgb(179, 133, 188)",
         "marker": {
          "color": "rgb(179, 133, 188)",
          "opacity": 0,
          "size": 1
         },
         "mode": "markers",
         "name": "",
         "showlegend": false,
         "text": [
          null,
          null
         ],
         "type": "scatter",
         "x": [
          "2020-02-25T00:00:00",
          "2020-05-10T00:00:00"
         ],
         "y": [
          147,
          147
         ]
        },
        {
         "legendgroup": "rgb(181, 120, 170)",
         "marker": {
          "color": "rgb(181, 120, 170)",
          "opacity": 0,
          "size": 1
         },
         "mode": "markers",
         "name": "",
         "showlegend": false,
         "text": [
          null,
          null
         ],
         "type": "scatter",
         "x": [
          "2020-03-06T00:00:00",
          "2020-05-09T00:00:00"
         ],
         "y": [
          97,
          97
         ]
        },
        {
         "legendgroup": "rgb(182, 204, 163)",
         "marker": {
          "color": "rgb(182, 204, 163)",
          "opacity": 0,
          "size": 1
         },
         "mode": "markers",
         "name": "",
         "showlegend": false,
         "text": [
          null,
          null
         ],
         "type": "scatter",
         "x": [
          "2020-03-18T00:00:00",
          "2020-05-10T00:00:00"
         ],
         "y": [
          49,
          49
         ]
        },
        {
         "legendgroup": "rgb(183, 19, 24)",
         "marker": {
          "color": "rgb(183, 19, 24)",
          "opacity": 0,
          "size": 1
         },
         "mode": "markers",
         "name": "",
         "showlegend": false,
         "text": [
          null,
          null
         ],
         "type": "scatter",
         "x": [
          "2020-03-20T00:00:00",
          "2020-05-10T00:00:00"
         ],
         "y": [
          40,
          40
         ]
        },
        {
         "legendgroup": "rgb(183, 20, 101)",
         "marker": {
          "color": "rgb(183, 20, 101)",
          "opacity": 0,
          "size": 1
         },
         "mode": "markers",
         "name": "",
         "showlegend": false,
         "text": [
          null,
          null
         ],
         "type": "scatter",
         "x": [
          "2020-03-05T00:00:00",
          "2020-05-08T00:00:00"
         ],
         "y": [
          96,
          96
         ]
        },
        {
         "legendgroup": "rgb(184, 200, 200)",
         "marker": {
          "color": "rgb(184, 200, 200)",
          "opacity": 0,
          "size": 1
         },
         "mode": "markers",
         "name": "",
         "showlegend": false,
         "text": [
          null,
          null
         ],
         "type": "scatter",
         "x": [
          "2020-03-20T00:00:00",
          "2020-05-10T00:00:00"
         ],
         "y": [
          43,
          43
         ]
        },
        {
         "legendgroup": "rgb(184, 58, 114)",
         "marker": {
          "color": "rgb(184, 58, 114)",
          "opacity": 0,
          "size": 1
         },
         "mode": "markers",
         "name": "",
         "showlegend": false,
         "text": [
          null,
          null
         ],
         "type": "scatter",
         "x": [
          "2020-01-29T00:00:00",
          "2020-05-10T00:00:00"
         ],
         "y": [
          170,
          170
         ]
        },
        {
         "legendgroup": "rgb(185, 185, 85)",
         "marker": {
          "color": "rgb(185, 185, 85)",
          "opacity": 0,
          "size": 1
         },
         "mode": "markers",
         "name": "",
         "showlegend": false,
         "text": [
          null,
          null
         ],
         "type": "scatter",
         "x": [
          "2020-01-25T00:00:00",
          "2020-05-10T00:00:00"
         ],
         "y": [
          176,
          176
         ]
        },
        {
         "legendgroup": "rgb(186, 195, 16)",
         "marker": {
          "color": "rgb(186, 195, 16)",
          "opacity": 0,
          "size": 1
         },
         "mode": "markers",
         "name": "",
         "showlegend": false,
         "text": [
          null,
          null
         ],
         "type": "scatter",
         "x": [
          "2020-01-27T00:00:00",
          "2020-04-13T00:00:00"
         ],
         "y": [
          156,
          156
         ]
        },
        {
         "legendgroup": "rgb(186, 22, 112)",
         "marker": {
          "color": "rgb(186, 22, 112)",
          "opacity": 0,
          "size": 1
         },
         "mode": "markers",
         "name": "",
         "showlegend": false,
         "text": [
          null,
          null
         ],
         "type": "scatter",
         "x": [
          "2020-03-21T00:00:00",
          "2020-05-10T00:00:00"
         ],
         "y": [
          36,
          36
         ]
        },
        {
         "legendgroup": "rgb(187, 7, 96)",
         "marker": {
          "color": "rgb(187, 7, 96)",
          "opacity": 0,
          "size": 1
         },
         "mode": "markers",
         "name": "",
         "showlegend": false,
         "text": [
          null,
          null
         ],
         "type": "scatter",
         "x": [
          "2020-03-10T00:00:00",
          "2020-05-10T00:00:00"
         ],
         "y": [
          86,
          86
         ]
        },
        {
         "legendgroup": "rgb(19, 122, 119)",
         "marker": {
          "color": "rgb(19, 122, 119)",
          "opacity": 0,
          "size": 1
         },
         "mode": "markers",
         "name": "",
         "showlegend": false,
         "text": [
          null,
          null
         ],
         "type": "scatter",
         "x": [
          "2020-03-16T00:00:00",
          "2020-05-10T00:00:00"
         ],
         "y": [
          58,
          58
         ]
        },
        {
         "legendgroup": "rgb(19, 50, 53)",
         "marker": {
          "color": "rgb(19, 50, 53)",
          "opacity": 0,
          "size": 1
         },
         "mode": "markers",
         "name": "",
         "showlegend": false,
         "text": [
          null,
          null
         ],
         "type": "scatter",
         "x": [
          "2020-02-27T00:00:00",
          "2020-05-10T00:00:00"
         ],
         "y": [
          137,
          137
         ]
        },
        {
         "legendgroup": "rgb(193, 122, 118)",
         "marker": {
          "color": "rgb(193, 122, 118)",
          "opacity": 0,
          "size": 1
         },
         "mode": "markers",
         "name": "",
         "showlegend": false,
         "text": [
          null,
          null
         ],
         "type": "scatter",
         "x": [
          "2020-02-27T00:00:00",
          "2020-05-10T00:00:00"
         ],
         "y": [
          136,
          136
         ]
        },
        {
         "legendgroup": "rgb(195, 0, 1)",
         "marker": {
          "color": "rgb(195, 0, 1)",
          "opacity": 0,
          "size": 1
         },
         "mode": "markers",
         "name": "",
         "showlegend": false,
         "text": [
          null,
          null
         ],
         "type": "scatter",
         "x": [
          "2020-02-26T00:00:00",
          "2020-05-10T00:00:00"
         ],
         "y": [
          145,
          145
         ]
        },
        {
         "legendgroup": "rgb(195, 122, 149)",
         "marker": {
          "color": "rgb(195, 122, 149)",
          "opacity": 0,
          "size": 1
         },
         "mode": "markers",
         "name": "",
         "showlegend": false,
         "text": [
          null,
          null
         ],
         "type": "scatter",
         "x": [
          "2020-03-20T00:00:00",
          "2020-05-09T00:00:00"
         ],
         "y": [
          38,
          38
         ]
        },
        {
         "legendgroup": "rgb(195, 25, 70)",
         "marker": {
          "color": "rgb(195, 25, 70)",
          "opacity": 0,
          "size": 1
         },
         "mode": "markers",
         "name": "",
         "showlegend": false,
         "text": [
          null,
          null
         ],
         "type": "scatter",
         "x": [
          "2020-03-19T00:00:00",
          "2020-05-06T00:00:00"
         ],
         "y": [
          31,
          31
         ]
        },
        {
         "legendgroup": "rgb(198, 106, 8)",
         "marker": {
          "color": "rgb(198, 106, 8)",
          "opacity": 0,
          "size": 1
         },
         "mode": "markers",
         "name": "",
         "showlegend": false,
         "text": [
          null,
          null
         ],
         "type": "scatter",
         "x": [
          "2020-03-01T00:00:00",
          "2020-05-10T00:00:00"
         ],
         "y": [
          125,
          125
         ]
        },
        {
         "legendgroup": "rgb(198, 42, 72)",
         "marker": {
          "color": "rgb(198, 42, 72)",
          "opacity": 0,
          "size": 1
         },
         "mode": "markers",
         "name": "",
         "showlegend": false,
         "text": [
          null,
          null
         ],
         "type": "scatter",
         "x": [
          "2020-01-30T00:00:00",
          "2020-05-10T00:00:00"
         ],
         "y": [
          168,
          168
         ]
        },
        {
         "legendgroup": "rgb(198, 57, 50)",
         "marker": {
          "color": "rgb(198, 57, 50)",
          "opacity": 0,
          "size": 1
         },
         "mode": "markers",
         "name": "",
         "showlegend": false,
         "text": [
          null,
          null
         ],
         "type": "scatter",
         "x": [
          "2020-03-14T00:00:00",
          "2020-05-10T00:00:00"
         ],
         "y": [
          66,
          66
         ]
        },
        {
         "legendgroup": "rgb(198, 68, 72)",
         "marker": {
          "color": "rgb(198, 68, 72)",
          "opacity": 0,
          "size": 1
         },
         "mode": "markers",
         "name": "",
         "showlegend": false,
         "text": [
          null,
          null
         ],
         "type": "scatter",
         "x": [
          "2020-02-25T00:00:00",
          "2020-05-10T00:00:00"
         ],
         "y": [
          148,
          148
         ]
        },
        {
         "legendgroup": "rgb(198, 71, 186)",
         "marker": {
          "color": "rgb(198, 71, 186)",
          "opacity": 0,
          "size": 1
         },
         "mode": "markers",
         "name": "",
         "showlegend": false,
         "text": [
          null,
          null
         ],
         "type": "scatter",
         "x": [
          "2020-03-14T00:00:00",
          "2020-05-05T00:00:00"
         ],
         "y": [
          45,
          45
         ]
        },
        {
         "legendgroup": "rgb(199, 38, 37)",
         "marker": {
          "color": "rgb(199, 38, 37)",
          "opacity": 0,
          "size": 1
         },
         "mode": "markers",
         "name": "",
         "showlegend": false,
         "text": [
          null,
          null
         ],
         "type": "scatter",
         "x": [
          "2020-03-07T00:00:00",
          "2020-05-10T00:00:00"
         ],
         "y": [
          95,
          95
         ]
        },
        {
         "legendgroup": "rgb(2, 194, 73)",
         "marker": {
          "color": "rgb(2, 194, 73)",
          "opacity": 0,
          "size": 1
         },
         "mode": "markers",
         "name": "",
         "showlegend": false,
         "text": [
          null,
          null
         ],
         "type": "scatter",
         "x": [
          "2020-03-04T00:00:00",
          "2020-05-10T00:00:00"
         ],
         "y": [
          107,
          107
         ]
        },
        {
         "legendgroup": "rgb(20, 56, 101)",
         "marker": {
          "color": "rgb(20, 56, 101)",
          "opacity": 0,
          "size": 1
         },
         "mode": "markers",
         "name": "",
         "showlegend": false,
         "text": [
          null,
          null
         ],
         "type": "scatter",
         "x": [
          "2020-03-01T00:00:00",
          "2020-05-10T00:00:00"
         ],
         "y": [
          124,
          124
         ]
        },
        {
         "legendgroup": "rgb(201, 5, 185)",
         "marker": {
          "color": "rgb(201, 5, 185)",
          "opacity": 0,
          "size": 1
         },
         "mode": "markers",
         "name": "",
         "showlegend": false,
         "text": [
          null,
          null
         ],
         "type": "scatter",
         "x": [
          "2020-03-02T00:00:00",
          "2020-05-10T00:00:00"
         ],
         "y": [
          119,
          119
         ]
        },
        {
         "legendgroup": "rgb(201, 74, 55)",
         "marker": {
          "color": "rgb(201, 74, 55)",
          "opacity": 0,
          "size": 1
         },
         "mode": "markers",
         "name": "",
         "showlegend": false,
         "text": [
          null,
          null
         ],
         "type": "scatter",
         "x": [
          "2020-01-22T00:00:00",
          "2020-05-10T00:00:00"
         ],
         "y": [
          183,
          183
         ]
        },
        {
         "legendgroup": "rgb(203, 102, 52)",
         "marker": {
          "color": "rgb(203, 102, 52)",
          "opacity": 0,
          "size": 1
         },
         "mode": "markers",
         "name": "",
         "showlegend": false,
         "text": [
          null,
          null
         ],
         "type": "scatter",
         "x": [
          "2020-03-18T00:00:00",
          "2020-05-10T00:00:00"
         ],
         "y": [
          51,
          51
         ]
        },
        {
         "legendgroup": "rgb(203, 27, 176)",
         "marker": {
          "color": "rgb(203, 27, 176)",
          "opacity": 0,
          "size": 1
         },
         "mode": "markers",
         "name": "",
         "showlegend": false,
         "text": [
          null,
          null
         ],
         "type": "scatter",
         "x": [
          "2020-03-13T00:00:00",
          "2020-05-10T00:00:00"
         ],
         "y": [
          70,
          70
         ]
        },
        {
         "legendgroup": "rgb(203, 28, 176)",
         "marker": {
          "color": "rgb(203, 28, 176)",
          "opacity": 0,
          "size": 1
         },
         "mode": "markers",
         "name": "",
         "showlegend": false,
         "text": [
          null,
          null
         ],
         "type": "scatter",
         "x": [
          "2020-02-26T00:00:00",
          "2020-05-10T00:00:00"
         ],
         "y": [
          143,
          143
         ]
        },
        {
         "legendgroup": "rgb(204, 25, 144)",
         "marker": {
          "color": "rgb(204, 25, 144)",
          "opacity": 0,
          "size": 1
         },
         "mode": "markers",
         "name": "",
         "showlegend": false,
         "text": [
          null,
          null
         ],
         "type": "scatter",
         "x": [
          "2020-02-27T00:00:00",
          "2020-05-10T00:00:00"
         ],
         "y": [
          138,
          138
         ]
        },
        {
         "legendgroup": "rgb(22, 96, 51)",
         "marker": {
          "color": "rgb(22, 96, 51)",
          "opacity": 0,
          "size": 1
         },
         "mode": "markers",
         "name": "",
         "showlegend": false,
         "text": [
          null,
          null
         ],
         "type": "scatter",
         "x": [
          "2020-03-11T00:00:00",
          "2020-05-10T00:00:00"
         ],
         "y": [
          82,
          82
         ]
        },
        {
         "legendgroup": "rgb(23, 155, 114)",
         "marker": {
          "color": "rgb(23, 155, 114)",
          "opacity": 0,
          "size": 1
         },
         "mode": "markers",
         "name": "",
         "showlegend": false,
         "text": [
          null,
          null
         ],
         "type": "scatter",
         "x": [
          "2020-02-21T00:00:00",
          "2020-05-10T00:00:00"
         ],
         "y": [
          158,
          158
         ]
        },
        {
         "legendgroup": "rgb(23, 53, 106)",
         "marker": {
          "color": "rgb(23, 53, 106)",
          "opacity": 0,
          "size": 1
         },
         "mode": "markers",
         "name": "",
         "showlegend": false,
         "text": [
          null,
          null
         ],
         "type": "scatter",
         "x": [
          "2020-03-08T00:00:00",
          "2020-05-10T00:00:00"
         ],
         "y": [
          92,
          92
         ]
        },
        {
         "legendgroup": "rgb(24, 155, 170)",
         "marker": {
          "color": "rgb(24, 155, 170)",
          "opacity": 0,
          "size": 1
         },
         "mode": "markers",
         "name": "",
         "showlegend": false,
         "text": [
          null,
          null
         ],
         "type": "scatter",
         "x": [
          "2020-02-29T00:00:00",
          "2020-05-10T00:00:00"
         ],
         "y": [
          130,
          130
         ]
        },
        {
         "legendgroup": "rgb(24, 42, 8)",
         "marker": {
          "color": "rgb(24, 42, 8)",
          "opacity": 0,
          "size": 1
         },
         "mode": "markers",
         "name": "",
         "showlegend": false,
         "text": [
          null,
          null
         ],
         "type": "scatter",
         "x": [
          "2020-02-29T00:00:00",
          "2020-05-10T00:00:00"
         ],
         "y": [
          127,
          127
         ]
        },
        {
         "legendgroup": "rgb(25, 56, 146)",
         "marker": {
          "color": "rgb(25, 56, 146)",
          "opacity": 0,
          "size": 1
         },
         "mode": "markers",
         "name": "",
         "showlegend": false,
         "text": [
          null,
          null
         ],
         "type": "scatter",
         "x": [
          "2020-03-02T00:00:00",
          "2020-05-10T00:00:00"
         ],
         "y": [
          120,
          120
         ]
        },
        {
         "legendgroup": "rgb(26, 137, 197)",
         "marker": {
          "color": "rgb(26, 137, 197)",
          "opacity": 0,
          "size": 1
         },
         "mode": "markers",
         "name": "",
         "showlegend": false,
         "text": [
          null,
          null
         ],
         "type": "scatter",
         "x": [
          "2020-03-02T00:00:00",
          "2020-05-10T00:00:00"
         ],
         "y": [
          115,
          115
         ]
        },
        {
         "legendgroup": "rgb(28, 160, 202)",
         "marker": {
          "color": "rgb(28, 160, 202)",
          "opacity": 0,
          "size": 1
         },
         "mode": "markers",
         "name": "",
         "showlegend": false,
         "text": [
          null,
          null
         ],
         "type": "scatter",
         "x": [
          "2020-03-16T00:00:00",
          "2020-05-09T00:00:00"
         ],
         "y": [
          55,
          55
         ]
        },
        {
         "legendgroup": "rgb(28, 86, 124)",
         "marker": {
          "color": "rgb(28, 86, 124)",
          "opacity": 0,
          "size": 1
         },
         "mode": "markers",
         "name": "",
         "showlegend": false,
         "text": [
          null,
          null
         ],
         "type": "scatter",
         "x": [
          "2020-02-28T00:00:00",
          "2020-05-08T00:00:00"
         ],
         "y": [
          122,
          122
         ]
        },
        {
         "legendgroup": "rgb(36, 144, 71)",
         "marker": {
          "color": "rgb(36, 144, 71)",
          "opacity": 0,
          "size": 1
         },
         "mode": "markers",
         "name": "",
         "showlegend": false,
         "text": [
          null,
          null
         ],
         "type": "scatter",
         "x": [
          "2020-03-01T00:00:00",
          "2020-05-10T00:00:00"
         ],
         "y": [
          121,
          121
         ]
        },
        {
         "legendgroup": "rgb(36, 70, 114)",
         "marker": {
          "color": "rgb(36, 70, 114)",
          "opacity": 0,
          "size": 1
         },
         "mode": "markers",
         "name": "",
         "showlegend": false,
         "text": [
          null,
          null
         ],
         "type": "scatter",
         "x": [
          "2020-03-14T00:00:00",
          "2020-04-02T00:00:00"
         ],
         "y": [
          3,
          3
         ]
        },
        {
         "legendgroup": "rgb(37, 119, 25)",
         "marker": {
          "color": "rgb(37, 119, 25)",
          "opacity": 0,
          "size": 1
         },
         "mode": "markers",
         "name": "",
         "showlegend": false,
         "text": [
          null,
          null
         ],
         "type": "scatter",
         "x": [
          "2020-03-04T00:00:00",
          "2020-05-10T00:00:00"
         ],
         "y": [
          109,
          109
         ]
        },
        {
         "legendgroup": "rgb(38, 188, 145)",
         "marker": {
          "color": "rgb(38, 188, 145)",
          "opacity": 0,
          "size": 1
         },
         "mode": "markers",
         "name": "",
         "showlegend": false,
         "text": [
          null,
          null
         ],
         "type": "scatter",
         "x": [
          "2020-03-14T00:00:00",
          "2020-05-10T00:00:00"
         ],
         "y": [
          65,
          65
         ]
        },
        {
         "legendgroup": "rgb(38, 59, 89)",
         "marker": {
          "color": "rgb(38, 59, 89)",
          "opacity": 0,
          "size": 1
         },
         "mode": "markers",
         "name": "",
         "showlegend": false,
         "text": [
          null,
          null
         ],
         "type": "scatter",
         "x": [
          "2020-02-19T00:00:00",
          "2020-05-10T00:00:00"
         ],
         "y": [
          159,
          159
         ]
        },
        {
         "legendgroup": "rgb(38, 75, 117)",
         "marker": {
          "color": "rgb(38, 75, 117)",
          "opacity": 0,
          "size": 1
         },
         "mode": "markers",
         "name": "",
         "showlegend": false,
         "text": [
          null,
          null
         ],
         "type": "scatter",
         "x": [
          "2020-03-14T00:00:00",
          "2020-05-10T00:00:00"
         ],
         "y": [
          68,
          68
         ]
        },
        {
         "legendgroup": "rgb(39, 169, 26)",
         "marker": {
          "color": "rgb(39, 169, 26)",
          "opacity": 0,
          "size": 1
         },
         "mode": "markers",
         "name": "",
         "showlegend": false,
         "text": [
          null,
          null
         ],
         "type": "scatter",
         "x": [
          "2020-03-16T00:00:00",
          "2020-04-05T00:00:00"
         ],
         "y": [
          4,
          4
         ]
        },
        {
         "legendgroup": "rgb(40, 138, 183)",
         "marker": {
          "color": "rgb(40, 138, 183)",
          "opacity": 0,
          "size": 1
         },
         "mode": "markers",
         "name": "",
         "showlegend": false,
         "text": [
          null,
          null
         ],
         "type": "scatter",
         "x": [
          "2020-02-26T00:00:00",
          "2020-05-10T00:00:00"
         ],
         "y": [
          146,
          146
         ]
        },
        {
         "legendgroup": "rgb(40, 82, 194)",
         "marker": {
          "color": "rgb(40, 82, 194)",
          "opacity": 0,
          "size": 1
         },
         "mode": "markers",
         "name": "",
         "showlegend": false,
         "text": [
          null,
          null
         ],
         "type": "scatter",
         "x": [
          "2020-03-15T00:00:00",
          "2020-05-07T00:00:00"
         ],
         "y": [
          53,
          53
         ]
        },
        {
         "legendgroup": "rgb(41, 129, 124)",
         "marker": {
          "color": "rgb(41, 129, 124)",
          "opacity": 0,
          "size": 1
         },
         "mode": "markers",
         "name": "",
         "showlegend": false,
         "text": [
          null,
          null
         ],
         "type": "scatter",
         "x": [
          "2020-03-13T00:00:00",
          "2020-05-10T00:00:00"
         ],
         "y": [
          75,
          75
         ]
        },
        {
         "legendgroup": "rgb(43, 152, 53)",
         "marker": {
          "color": "rgb(43, 152, 53)",
          "opacity": 0,
          "size": 1
         },
         "mode": "markers",
         "name": "",
         "showlegend": false,
         "text": [
          null,
          null
         ],
         "type": "scatter",
         "x": [
          "2020-04-10T00:00:00",
          "2020-05-09T00:00:00"
         ],
         "y": [
          12,
          12
         ]
        },
        {
         "legendgroup": "rgb(43, 80, 82)",
         "marker": {
          "color": "rgb(43, 80, 82)",
          "opacity": 0,
          "size": 1
         },
         "mode": "markers",
         "name": "",
         "showlegend": false,
         "text": [
          null,
          null
         ],
         "type": "scatter",
         "x": [
          "2020-01-24T00:00:00",
          "2020-05-10T00:00:00"
         ],
         "y": [
          178,
          178
         ]
        },
        {
         "legendgroup": "rgb(48, 131, 182)",
         "marker": {
          "color": "rgb(48, 131, 182)",
          "opacity": 0,
          "size": 1
         },
         "mode": "markers",
         "name": "",
         "showlegend": false,
         "text": [
          null,
          null
         ],
         "type": "scatter",
         "x": [
          "2020-03-19T00:00:00",
          "2020-04-21T00:00:00"
         ],
         "y": [
          14,
          14
         ]
        },
        {
         "legendgroup": "rgb(49, 86, 16)",
         "marker": {
          "color": "rgb(49, 86, 16)",
          "opacity": 0,
          "size": 1
         },
         "mode": "markers",
         "name": "",
         "showlegend": false,
         "text": [
          null,
          null
         ],
         "type": "scatter",
         "x": [
          "2020-03-11T00:00:00",
          "2020-05-10T00:00:00"
         ],
         "y": [
          79,
          79
         ]
        },
        {
         "legendgroup": "rgb(5, 186, 86)",
         "marker": {
          "color": "rgb(5, 186, 86)",
          "opacity": 0,
          "size": 1
         },
         "mode": "markers",
         "name": "",
         "showlegend": false,
         "text": [
          null,
          null
         ],
         "type": "scatter",
         "x": [
          "2020-02-26T00:00:00",
          "2020-05-10T00:00:00"
         ],
         "y": [
          144,
          144
         ]
        },
        {
         "legendgroup": "rgb(50, 197, 83)",
         "marker": {
          "color": "rgb(50, 197, 83)",
          "opacity": 0,
          "size": 1
         },
         "mode": "markers",
         "name": "",
         "showlegend": false,
         "text": [
          null,
          null
         ],
         "type": "scatter",
         "x": [
          "2020-03-06T00:00:00",
          "2020-05-10T00:00:00"
         ],
         "y": [
          102,
          102
         ]
        },
        {
         "legendgroup": "rgb(51, 153, 21)",
         "marker": {
          "color": "rgb(51, 153, 21)",
          "opacity": 0,
          "size": 1
         },
         "mode": "markers",
         "name": "",
         "showlegend": false,
         "text": [
          null,
          null
         ],
         "type": "scatter",
         "x": [
          "2020-03-11T00:00:00",
          "2020-05-09T00:00:00"
         ],
         "y": [
          78,
          78
         ]
        },
        {
         "legendgroup": "rgb(51, 177, 112)",
         "marker": {
          "color": "rgb(51, 177, 112)",
          "opacity": 0,
          "size": 1
         },
         "mode": "markers",
         "name": "",
         "showlegend": false,
         "text": [
          null,
          null
         ],
         "type": "scatter",
         "x": [
          "2020-03-11T00:00:00",
          "2020-05-10T00:00:00"
         ],
         "y": [
          80,
          80
         ]
        },
        {
         "legendgroup": "rgb(51, 202, 192)",
         "marker": {
          "color": "rgb(51, 202, 192)",
          "opacity": 0,
          "size": 1
         },
         "mode": "markers",
         "name": "",
         "showlegend": false,
         "text": [
          null,
          null
         ],
         "type": "scatter",
         "x": [
          "2020-03-05T00:00:00",
          "2020-05-10T00:00:00"
         ],
         "y": [
          104,
          104
         ]
        },
        {
         "legendgroup": "rgb(51, 32, 86)",
         "marker": {
          "color": "rgb(51, 32, 86)",
          "opacity": 0,
          "size": 1
         },
         "mode": "markers",
         "name": "",
         "showlegend": false,
         "text": [
          null,
          null
         ],
         "type": "scatter",
         "x": [
          "2020-03-01T00:00:00",
          "2020-05-10T00:00:00"
         ],
         "y": [
          126,
          126
         ]
        },
        {
         "legendgroup": "rgb(53, 116, 84)",
         "marker": {
          "color": "rgb(53, 116, 84)",
          "opacity": 0,
          "size": 1
         },
         "mode": "markers",
         "name": "",
         "showlegend": false,
         "text": [
          null,
          null
         ],
         "type": "scatter",
         "x": [
          "2020-03-14T00:00:00",
          "2020-04-28T00:00:00"
         ],
         "y": [
          27,
          27
         ]
        },
        {
         "legendgroup": "rgb(54, 50, 40)",
         "marker": {
          "color": "rgb(54, 50, 40)",
          "opacity": 0,
          "size": 1
         },
         "mode": "markers",
         "name": "",
         "showlegend": false,
         "text": [
          null,
          null
         ],
         "type": "scatter",
         "x": [
          "2020-03-19T00:00:00",
          "2020-05-10T00:00:00"
         ],
         "y": [
          46,
          46
         ]
        },
        {
         "legendgroup": "rgb(55, 194, 97)",
         "marker": {
          "color": "rgb(55, 194, 97)",
          "opacity": 0,
          "size": 1
         },
         "mode": "markers",
         "name": "",
         "showlegend": false,
         "text": [
          null,
          null
         ],
         "type": "scatter",
         "x": [
          "2020-02-24T00:00:00",
          "2020-05-10T00:00:00"
         ],
         "y": [
          151,
          151
         ]
        },
        {
         "legendgroup": "rgb(56, 202, 198)",
         "marker": {
          "color": "rgb(56, 202, 198)",
          "opacity": 0,
          "size": 1
         },
         "mode": "markers",
         "name": "",
         "showlegend": false,
         "text": [
          null,
          null
         ],
         "type": "scatter",
         "x": [
          "2020-03-14T00:00:00",
          "2020-05-10T00:00:00"
         ],
         "y": [
          67,
          67
         ]
        },
        {
         "legendgroup": "rgb(56, 44, 182)",
         "marker": {
          "color": "rgb(56, 44, 182)",
          "opacity": 0,
          "size": 1
         },
         "mode": "markers",
         "name": "",
         "showlegend": false,
         "text": [
          null,
          null
         ],
         "type": "scatter",
         "x": [
          "2020-03-03T00:00:00",
          "2020-05-10T00:00:00"
         ],
         "y": [
          112,
          112
         ]
        },
        {
         "legendgroup": "rgb(57, 144, 16)",
         "marker": {
          "color": "rgb(57, 144, 16)",
          "opacity": 0,
          "size": 1
         },
         "mode": "markers",
         "name": "",
         "showlegend": false,
         "text": [
          null,
          null
         ],
         "type": "scatter",
         "x": [
          "2020-02-28T00:00:00",
          "2020-05-10T00:00:00"
         ],
         "y": [
          135,
          135
         ]
        },
        {
         "legendgroup": "rgb(57, 148, 182)",
         "marker": {
          "color": "rgb(57, 148, 182)",
          "opacity": 0,
          "size": 1
         },
         "mode": "markers",
         "name": "",
         "showlegend": false,
         "text": [
          null,
          null
         ],
         "type": "scatter",
         "x": [
          "2020-01-22T00:00:00",
          "2020-05-10T00:00:00"
         ],
         "y": [
          185,
          185
         ]
        },
        {
         "legendgroup": "rgb(59, 38, 134)",
         "marker": {
          "color": "rgb(59, 38, 134)",
          "opacity": 0,
          "size": 1
         },
         "mode": "markers",
         "name": "",
         "showlegend": false,
         "text": [
          null,
          null
         ],
         "type": "scatter",
         "x": [
          "2020-03-31T00:00:00",
          "2020-05-03T00:00:00"
         ],
         "y": [
          15,
          15
         ]
        },
        {
         "legendgroup": "rgb(59, 42, 73)",
         "marker": {
          "color": "rgb(59, 42, 73)",
          "opacity": 0,
          "size": 1
         },
         "mode": "markers",
         "name": "",
         "showlegend": false,
         "text": [
          null,
          null
         ],
         "type": "scatter",
         "x": [
          "2020-01-31T00:00:00",
          "2020-05-10T00:00:00"
         ],
         "y": [
          163,
          163
         ]
        },
        {
         "legendgroup": "rgb(60, 151, 146)",
         "marker": {
          "color": "rgb(60, 151, 146)",
          "opacity": 0,
          "size": 1
         },
         "mode": "markers",
         "name": "",
         "showlegend": false,
         "text": [
          null,
          null
         ],
         "type": "scatter",
         "x": [
          "2020-03-03T00:00:00",
          "2020-05-10T00:00:00"
         ],
         "y": [
          110,
          110
         ]
        },
        {
         "legendgroup": "rgb(60, 58, 96)",
         "marker": {
          "color": "rgb(60, 58, 96)",
          "opacity": 0,
          "size": 1
         },
         "mode": "markers",
         "name": "",
         "showlegend": false,
         "text": [
          null,
          null
         ],
         "type": "scatter",
         "x": [
          "2020-04-05T00:00:00",
          "2020-05-09T00:00:00"
         ],
         "y": [
          19,
          19
         ]
        },
        {
         "legendgroup": "rgb(65, 21, 152)",
         "marker": {
          "color": "rgb(65, 21, 152)",
          "opacity": 0,
          "size": 1
         },
         "mode": "markers",
         "name": "",
         "showlegend": false,
         "text": [
          null,
          null
         ],
         "type": "scatter",
         "x": [
          "2020-02-27T00:00:00",
          "2020-05-10T00:00:00"
         ],
         "y": [
          139,
          139
         ]
        },
        {
         "legendgroup": "rgb(65, 43, 19)",
         "marker": {
          "color": "rgb(65, 43, 19)",
          "opacity": 0,
          "size": 1
         },
         "mode": "markers",
         "name": "",
         "showlegend": false,
         "text": [
          null,
          null
         ],
         "type": "scatter",
         "x": [
          "2020-03-24T00:00:00",
          "2020-05-07T00:00:00"
         ],
         "y": [
          24,
          24
         ]
        },
        {
         "legendgroup": "rgb(65, 64, 58)",
         "marker": {
          "color": "rgb(65, 64, 58)",
          "opacity": 0,
          "size": 1
         },
         "mode": "markers",
         "name": "",
         "showlegend": false,
         "text": [
          null,
          null
         ],
         "type": "scatter",
         "x": [
          "2020-03-14T00:00:00",
          "2020-05-04T00:00:00"
         ],
         "y": [
          42,
          42
         ]
        },
        {
         "legendgroup": "rgb(67, 18, 32)",
         "marker": {
          "color": "rgb(67, 18, 32)",
          "opacity": 0,
          "size": 1
         },
         "mode": "markers",
         "name": "",
         "showlegend": false,
         "text": [
          null,
          null
         ],
         "type": "scatter",
         "x": [
          "2020-03-24T00:00:00",
          "2020-04-13T00:00:00"
         ],
         "y": [
          6,
          6
         ]
        },
        {
         "legendgroup": "rgb(67, 75, 183)",
         "marker": {
          "color": "rgb(67, 75, 183)",
          "opacity": 0,
          "size": 1
         },
         "mode": "markers",
         "name": "",
         "showlegend": false,
         "text": [
          null,
          null
         ],
         "type": "scatter",
         "x": [
          "2020-03-06T00:00:00",
          "2020-05-10T00:00:00"
         ],
         "y": [
          99,
          99
         ]
        },
        {
         "legendgroup": "rgb(68, 48, 137)",
         "marker": {
          "color": "rgb(68, 48, 137)",
          "opacity": 0,
          "size": 1
         },
         "mode": "markers",
         "name": "",
         "showlegend": false,
         "text": [
          null,
          null
         ],
         "type": "scatter",
         "x": [
          "2020-01-27T00:00:00",
          "2020-05-10T00:00:00"
         ],
         "y": [
          172,
          172
         ]
        },
        {
         "legendgroup": "rgb(69, 82, 120)",
         "marker": {
          "color": "rgb(69, 82, 120)",
          "opacity": 0,
          "size": 1
         },
         "mode": "markers",
         "name": "",
         "showlegend": false,
         "text": [
          null,
          null
         ],
         "type": "scatter",
         "x": [
          "2020-03-16T00:00:00",
          "2020-05-09T00:00:00"
         ],
         "y": [
          56,
          56
         ]
        },
        {
         "legendgroup": "rgb(71, 183, 134)",
         "marker": {
          "color": "rgb(71, 183, 134)",
          "opacity": 0,
          "size": 1
         },
         "mode": "markers",
         "name": "",
         "showlegend": false,
         "text": [
          null,
          null
         ],
         "type": "scatter",
         "x": [
          "2020-01-30T00:00:00",
          "2020-05-10T00:00:00"
         ],
         "y": [
          167,
          167
         ]
        },
        {
         "legendgroup": "rgb(72, 116, 168)",
         "marker": {
          "color": "rgb(72, 116, 168)",
          "opacity": 0,
          "size": 1
         },
         "mode": "markers",
         "name": "",
         "showlegend": false,
         "text": [
          null,
          null
         ],
         "type": "scatter",
         "x": [
          "2020-03-02T00:00:00",
          "2020-05-10T00:00:00"
         ],
         "y": [
          118,
          118
         ]
        },
        {
         "legendgroup": "rgb(72, 137, 57)",
         "marker": {
          "color": "rgb(72, 137, 57)",
          "opacity": 0,
          "size": 1
         },
         "mode": "markers",
         "name": "",
         "showlegend": false,
         "text": [
          null,
          null
         ],
         "type": "scatter",
         "x": [
          "2020-03-17T00:00:00",
          "2020-05-10T00:00:00"
         ],
         "y": [
          57,
          57
         ]
        },
        {
         "legendgroup": "rgb(72, 76, 66)",
         "marker": {
          "color": "rgb(72, 76, 66)",
          "opacity": 0,
          "size": 1
         },
         "mode": "markers",
         "name": "",
         "showlegend": false,
         "text": [
          null,
          null
         ],
         "type": "scatter",
         "x": [
          "2020-03-22T00:00:00",
          "2020-05-03T00:00:00"
         ],
         "y": [
          23,
          23
         ]
        },
        {
         "legendgroup": "rgb(73, 144, 41)",
         "marker": {
          "color": "rgb(73, 144, 41)",
          "opacity": 0,
          "size": 1
         },
         "mode": "markers",
         "name": "",
         "showlegend": false,
         "text": [
          null,
          null
         ],
         "type": "scatter",
         "x": [
          "2020-02-28T00:00:00",
          "2020-05-10T00:00:00"
         ],
         "y": [
          131,
          131
         ]
        },
        {
         "legendgroup": "rgb(73, 169, 85)",
         "marker": {
          "color": "rgb(73, 169, 85)",
          "opacity": 0,
          "size": 1
         },
         "mode": "markers",
         "name": "",
         "showlegend": false,
         "text": [
          null,
          null
         ],
         "type": "scatter",
         "x": [
          "2020-03-05T00:00:00",
          "2020-05-10T00:00:00"
         ],
         "y": [
          106,
          106
         ]
        },
        {
         "legendgroup": "rgb(74, 118, 4)",
         "marker": {
          "color": "rgb(74, 118, 4)",
          "opacity": 0,
          "size": 1
         },
         "mode": "markers",
         "name": "",
         "showlegend": false,
         "text": [
          null,
          null
         ],
         "type": "scatter",
         "x": [
          "2020-02-29T00:00:00",
          "2020-05-10T00:00:00"
         ],
         "y": [
          129,
          129
         ]
        },
        {
         "legendgroup": "rgb(76, 19, 75)",
         "marker": {
          "color": "rgb(76, 19, 75)",
          "opacity": 0,
          "size": 1
         },
         "mode": "markers",
         "name": "",
         "showlegend": false,
         "text": [
          null,
          null
         ],
         "type": "scatter",
         "x": [
          "2020-03-15T00:00:00",
          "2020-05-10T00:00:00"
         ],
         "y": [
          62,
          62
         ]
        },
        {
         "legendgroup": "rgb(76, 3, 153)",
         "marker": {
          "color": "rgb(76, 3, 153)",
          "opacity": 0,
          "size": 1
         },
         "mode": "markers",
         "name": "",
         "showlegend": false,
         "text": [
          null,
          null
         ],
         "type": "scatter",
         "x": [
          "2020-01-22T00:00:00",
          "2020-05-10T00:00:00"
         ],
         "y": [
          181,
          181
         ]
        },
        {
         "legendgroup": "rgb(76, 43, 168)",
         "marker": {
          "color": "rgb(76, 43, 168)",
          "opacity": 0,
          "size": 1
         },
         "mode": "markers",
         "name": "",
         "showlegend": false,
         "text": [
          null,
          null
         ],
         "type": "scatter",
         "x": [
          "2020-03-12T00:00:00",
          "2020-05-09T00:00:00"
         ],
         "y": [
          73,
          73
         ]
        },
        {
         "legendgroup": "rgb(8, 37, 177)",
         "marker": {
          "color": "rgb(8, 37, 177)",
          "opacity": 0,
          "size": 1
         },
         "mode": "markers",
         "name": "",
         "showlegend": false,
         "text": [
          null,
          null
         ],
         "type": "scatter",
         "x": [
          "2020-03-22T00:00:00",
          "2020-05-09T00:00:00"
         ],
         "y": [
          32,
          32
         ]
        },
        {
         "legendgroup": "rgb(81, 128, 202)",
         "marker": {
          "color": "rgb(81, 128, 202)",
          "opacity": 0,
          "size": 1
         },
         "mode": "markers",
         "name": "",
         "showlegend": false,
         "text": [
          null,
          null
         ],
         "type": "scatter",
         "x": [
          "2020-01-29T00:00:00",
          "2020-05-10T00:00:00"
         ],
         "y": [
          169,
          169
         ]
        },
        {
         "legendgroup": "rgb(81, 172, 0)",
         "marker": {
          "color": "rgb(81, 172, 0)",
          "opacity": 0,
          "size": 1
         },
         "mode": "markers",
         "name": "",
         "showlegend": false,
         "text": [
          null,
          null
         ],
         "type": "scatter",
         "x": [
          "2020-03-03T00:00:00",
          "2020-05-10T00:00:00"
         ],
         "y": [
          111,
          111
         ]
        },
        {
         "legendgroup": "rgb(81, 179, 204)",
         "marker": {
          "color": "rgb(81, 179, 204)",
          "opacity": 0,
          "size": 1
         },
         "mode": "markers",
         "name": "",
         "showlegend": false,
         "text": [
          null,
          null
         ],
         "type": "scatter",
         "x": [
          "2020-03-26T00:00:00",
          "2020-05-10T00:00:00"
         ],
         "y": [
          26,
          26
         ]
        },
        {
         "legendgroup": "rgb(82, 198, 167)",
         "marker": {
          "color": "rgb(82, 198, 167)",
          "opacity": 0,
          "size": 1
         },
         "mode": "markers",
         "name": "",
         "showlegend": false,
         "text": [
          null,
          null
         ],
         "type": "scatter",
         "x": [
          "2020-01-31T00:00:00",
          "2020-05-10T00:00:00"
         ],
         "y": [
          166,
          166
         ]
        },
        {
         "legendgroup": "rgb(83, 122, 139)",
         "marker": {
          "color": "rgb(83, 122, 139)",
          "opacity": 0,
          "size": 1
         },
         "mode": "markers",
         "name": "",
         "showlegend": false,
         "text": [
          null,
          null
         ],
         "type": "scatter",
         "x": [
          "2020-03-04T00:00:00",
          "2020-05-10T00:00:00"
         ],
         "y": [
          108,
          108
         ]
        },
        {
         "legendgroup": "rgb(83, 167, 160)",
         "marker": {
          "color": "rgb(83, 167, 160)",
          "opacity": 0,
          "size": 1
         },
         "mode": "markers",
         "name": "",
         "showlegend": false,
         "text": [
          null,
          null
         ],
         "type": "scatter",
         "x": [
          "2020-04-06T00:00:00",
          "2020-05-09T00:00:00"
         ],
         "y": [
          16,
          16
         ]
        },
        {
         "legendgroup": "rgb(84, 131, 41)",
         "marker": {
          "color": "rgb(84, 131, 41)",
          "opacity": 0,
          "size": 1
         },
         "mode": "markers",
         "name": "",
         "showlegend": false,
         "text": [
          null,
          null
         ],
         "type": "scatter",
         "x": [
          "2020-03-19T00:00:00",
          "2020-05-10T00:00:00"
         ],
         "y": [
          48,
          48
         ]
        },
        {
         "legendgroup": "rgb(85, 204, 22)",
         "marker": {
          "color": "rgb(85, 204, 22)",
          "opacity": 0,
          "size": 1
         },
         "mode": "markers",
         "name": "",
         "showlegend": false,
         "text": [
          null,
          null
         ],
         "type": "scatter",
         "x": [
          "2020-03-20T00:00:00",
          "2020-05-10T00:00:00"
         ],
         "y": [
          41,
          41
         ]
        },
        {
         "legendgroup": "rgb(86, 81, 149)",
         "marker": {
          "color": "rgb(86, 81, 149)",
          "opacity": 0,
          "size": 1
         },
         "mode": "markers",
         "name": "",
         "showlegend": false,
         "text": [
          null,
          null
         ],
         "type": "scatter",
         "x": [
          "2020-01-26T00:00:00",
          "2020-05-10T00:00:00"
         ],
         "y": [
          174,
          174
         ]
        },
        {
         "legendgroup": "rgb(86, 9, 188)",
         "marker": {
          "color": "rgb(86, 9, 188)",
          "opacity": 0,
          "size": 1
         },
         "mode": "markers",
         "name": "",
         "showlegend": false,
         "text": [
          null,
          null
         ],
         "type": "scatter",
         "x": [
          "2020-03-17T00:00:00",
          "2020-05-06T00:00:00"
         ],
         "y": [
          39,
          39
         ]
        },
        {
         "legendgroup": "rgb(87, 27, 72)",
         "marker": {
          "color": "rgb(87, 27, 72)",
          "opacity": 0,
          "size": 1
         },
         "mode": "markers",
         "name": "",
         "showlegend": false,
         "text": [
          null,
          null
         ],
         "type": "scatter",
         "x": [
          "2020-03-31T00:00:00",
          "2020-05-10T00:00:00"
         ],
         "y": [
          21,
          21
         ]
        },
        {
         "legendgroup": "rgb(89, 151, 69)",
         "marker": {
          "color": "rgb(89, 151, 69)",
          "opacity": 0,
          "size": 1
         },
         "mode": "markers",
         "name": "",
         "showlegend": false,
         "text": [
          null,
          null
         ],
         "type": "scatter",
         "x": [
          "2020-02-25T00:00:00",
          "2020-05-10T00:00:00"
         ],
         "y": [
          149,
          149
         ]
        },
        {
         "legendgroup": "rgb(89, 75, 90)",
         "marker": {
          "color": "rgb(89, 75, 90)",
          "opacity": 0,
          "size": 1
         },
         "mode": "markers",
         "name": "",
         "showlegend": false,
         "text": [
          null,
          null
         ],
         "type": "scatter",
         "x": [
          "2020-03-06T00:00:00",
          "2020-04-24T00:00:00"
         ],
         "y": [
          34,
          34
         ]
        },
        {
         "legendgroup": "rgb(9, 137, 128)",
         "marker": {
          "color": "rgb(9, 137, 128)",
          "opacity": 0,
          "size": 1
         },
         "mode": "markers",
         "name": "",
         "showlegend": false,
         "text": [
          null,
          null
         ],
         "type": "scatter",
         "x": [
          "2020-02-24T00:00:00",
          "2020-05-10T00:00:00"
         ],
         "y": [
          152,
          152
         ]
        },
        {
         "legendgroup": "rgb(9, 84, 39)",
         "marker": {
          "color": "rgb(9, 84, 39)",
          "opacity": 0,
          "size": 1
         },
         "mode": "markers",
         "name": "",
         "showlegend": false,
         "text": [
          null,
          null
         ],
         "type": "scatter",
         "x": [
          "2020-03-14T00:00:00",
          "2020-05-10T00:00:00"
         ],
         "y": [
          63,
          63
         ]
        },
        {
         "legendgroup": "rgb(90, 100, 67)",
         "marker": {
          "color": "rgb(90, 100, 67)",
          "opacity": 0,
          "size": 1
         },
         "mode": "markers",
         "name": "",
         "showlegend": false,
         "text": [
          null,
          null
         ],
         "type": "scatter",
         "x": [
          "2020-03-08T00:00:00",
          "2020-05-10T00:00:00"
         ],
         "y": [
          94,
          94
         ]
        },
        {
         "legendgroup": "rgb(90, 198, 129)",
         "marker": {
          "color": "rgb(90, 198, 129)",
          "opacity": 0,
          "size": 1
         },
         "mode": "markers",
         "name": "",
         "showlegend": false,
         "text": [
          null,
          null
         ],
         "type": "scatter",
         "x": [
          "2020-03-18T00:00:00",
          "2020-04-28T00:00:00"
         ],
         "y": [
          22,
          22
         ]
        },
        {
         "legendgroup": "rgb(91, 34, 97)",
         "marker": {
          "color": "rgb(91, 34, 97)",
          "opacity": 0,
          "size": 1
         },
         "mode": "markers",
         "name": "",
         "showlegend": false,
         "text": [
          null,
          null
         ],
         "type": "scatter",
         "x": [
          "2020-03-08T00:00:00",
          "2020-05-10T00:00:00"
         ],
         "y": [
          90,
          90
         ]
        },
        {
         "legendgroup": "rgb(92, 85, 202)",
         "marker": {
          "color": "rgb(92, 85, 202)",
          "opacity": 0,
          "size": 1
         },
         "mode": "markers",
         "name": "",
         "showlegend": false,
         "text": [
          null,
          null
         ],
         "type": "scatter",
         "x": [
          "2020-03-23T00:00:00",
          "2020-04-14T00:00:00"
         ],
         "y": [
          7,
          7
         ]
        },
        {
         "legendgroup": "rgb(96, 149, 187)",
         "marker": {
          "color": "rgb(96, 149, 187)",
          "opacity": 0,
          "size": 1
         },
         "mode": "markers",
         "name": "",
         "showlegend": false,
         "text": [
          null,
          null
         ],
         "type": "scatter",
         "x": [
          "2020-02-28T00:00:00",
          "2020-05-10T00:00:00"
         ],
         "y": [
          133,
          133
         ]
        },
        {
         "legendgroup": "rgb(96, 154, 56)",
         "marker": {
          "color": "rgb(96, 154, 56)",
          "opacity": 0,
          "size": 1
         },
         "mode": "markers",
         "name": "",
         "showlegend": false,
         "text": [
          null,
          null
         ],
         "type": "scatter",
         "x": [
          "2020-03-06T00:00:00",
          "2020-05-10T00:00:00"
         ],
         "y": [
          98,
          98
         ]
        },
        {
         "legendgroup": "rgb(96, 160, 150)",
         "marker": {
          "color": "rgb(96, 160, 150)",
          "opacity": 0,
          "size": 1
         },
         "mode": "markers",
         "name": "",
         "showlegend": false,
         "text": [
          null,
          null
         ],
         "type": "scatter",
         "x": [
          "2020-04-30T00:00:00",
          "2020-05-10T00:00:00"
         ],
         "y": [
          2,
          2
         ]
        },
        {
         "legendgroup": "rgb(97, 19, 177)",
         "marker": {
          "color": "rgb(97, 19, 177)",
          "opacity": 0,
          "size": 1
         },
         "mode": "markers",
         "name": "",
         "showlegend": false,
         "text": [
          null,
          null
         ],
         "type": "scatter",
         "x": [
          "2020-03-25T00:00:00",
          "2020-05-10T00:00:00"
         ],
         "y": [
          29,
          29
         ]
        }
       ],
       "layout": {
        "height": 2500,
        "hovermode": "closest",
        "showlegend": false,
        "template": {
         "data": {
          "bar": [
           {
            "error_x": {
             "color": "#2a3f5f"
            },
            "error_y": {
             "color": "#2a3f5f"
            },
            "marker": {
             "line": {
              "color": "#E5ECF6",
              "width": 0.5
             }
            },
            "type": "bar"
           }
          ],
          "barpolar": [
           {
            "marker": {
             "line": {
              "color": "#E5ECF6",
              "width": 0.5
             }
            },
            "type": "barpolar"
           }
          ],
          "carpet": [
           {
            "aaxis": {
             "endlinecolor": "#2a3f5f",
             "gridcolor": "white",
             "linecolor": "white",
             "minorgridcolor": "white",
             "startlinecolor": "#2a3f5f"
            },
            "baxis": {
             "endlinecolor": "#2a3f5f",
             "gridcolor": "white",
             "linecolor": "white",
             "minorgridcolor": "white",
             "startlinecolor": "#2a3f5f"
            },
            "type": "carpet"
           }
          ],
          "choropleth": [
           {
            "colorbar": {
             "outlinewidth": 0,
             "ticks": ""
            },
            "type": "choropleth"
           }
          ],
          "contour": [
           {
            "colorbar": {
             "outlinewidth": 0,
             "ticks": ""
            },
            "colorscale": [
             [
              0,
              "#0d0887"
             ],
             [
              0.1111111111111111,
              "#46039f"
             ],
             [
              0.2222222222222222,
              "#7201a8"
             ],
             [
              0.3333333333333333,
              "#9c179e"
             ],
             [
              0.4444444444444444,
              "#bd3786"
             ],
             [
              0.5555555555555556,
              "#d8576b"
             ],
             [
              0.6666666666666666,
              "#ed7953"
             ],
             [
              0.7777777777777778,
              "#fb9f3a"
             ],
             [
              0.8888888888888888,
              "#fdca26"
             ],
             [
              1,
              "#f0f921"
             ]
            ],
            "type": "contour"
           }
          ],
          "contourcarpet": [
           {
            "colorbar": {
             "outlinewidth": 0,
             "ticks": ""
            },
            "type": "contourcarpet"
           }
          ],
          "heatmap": [
           {
            "colorbar": {
             "outlinewidth": 0,
             "ticks": ""
            },
            "colorscale": [
             [
              0,
              "#0d0887"
             ],
             [
              0.1111111111111111,
              "#46039f"
             ],
             [
              0.2222222222222222,
              "#7201a8"
             ],
             [
              0.3333333333333333,
              "#9c179e"
             ],
             [
              0.4444444444444444,
              "#bd3786"
             ],
             [
              0.5555555555555556,
              "#d8576b"
             ],
             [
              0.6666666666666666,
              "#ed7953"
             ],
             [
              0.7777777777777778,
              "#fb9f3a"
             ],
             [
              0.8888888888888888,
              "#fdca26"
             ],
             [
              1,
              "#f0f921"
             ]
            ],
            "type": "heatmap"
           }
          ],
          "heatmapgl": [
           {
            "colorbar": {
             "outlinewidth": 0,
             "ticks": ""
            },
            "colorscale": [
             [
              0,
              "#0d0887"
             ],
             [
              0.1111111111111111,
              "#46039f"
             ],
             [
              0.2222222222222222,
              "#7201a8"
             ],
             [
              0.3333333333333333,
              "#9c179e"
             ],
             [
              0.4444444444444444,
              "#bd3786"
             ],
             [
              0.5555555555555556,
              "#d8576b"
             ],
             [
              0.6666666666666666,
              "#ed7953"
             ],
             [
              0.7777777777777778,
              "#fb9f3a"
             ],
             [
              0.8888888888888888,
              "#fdca26"
             ],
             [
              1,
              "#f0f921"
             ]
            ],
            "type": "heatmapgl"
           }
          ],
          "histogram": [
           {
            "marker": {
             "colorbar": {
              "outlinewidth": 0,
              "ticks": ""
             }
            },
            "type": "histogram"
           }
          ],
          "histogram2d": [
           {
            "colorbar": {
             "outlinewidth": 0,
             "ticks": ""
            },
            "colorscale": [
             [
              0,
              "#0d0887"
             ],
             [
              0.1111111111111111,
              "#46039f"
             ],
             [
              0.2222222222222222,
              "#7201a8"
             ],
             [
              0.3333333333333333,
              "#9c179e"
             ],
             [
              0.4444444444444444,
              "#bd3786"
             ],
             [
              0.5555555555555556,
              "#d8576b"
             ],
             [
              0.6666666666666666,
              "#ed7953"
             ],
             [
              0.7777777777777778,
              "#fb9f3a"
             ],
             [
              0.8888888888888888,
              "#fdca26"
             ],
             [
              1,
              "#f0f921"
             ]
            ],
            "type": "histogram2d"
           }
          ],
          "histogram2dcontour": [
           {
            "colorbar": {
             "outlinewidth": 0,
             "ticks": ""
            },
            "colorscale": [
             [
              0,
              "#0d0887"
             ],
             [
              0.1111111111111111,
              "#46039f"
             ],
             [
              0.2222222222222222,
              "#7201a8"
             ],
             [
              0.3333333333333333,
              "#9c179e"
             ],
             [
              0.4444444444444444,
              "#bd3786"
             ],
             [
              0.5555555555555556,
              "#d8576b"
             ],
             [
              0.6666666666666666,
              "#ed7953"
             ],
             [
              0.7777777777777778,
              "#fb9f3a"
             ],
             [
              0.8888888888888888,
              "#fdca26"
             ],
             [
              1,
              "#f0f921"
             ]
            ],
            "type": "histogram2dcontour"
           }
          ],
          "mesh3d": [
           {
            "colorbar": {
             "outlinewidth": 0,
             "ticks": ""
            },
            "type": "mesh3d"
           }
          ],
          "parcoords": [
           {
            "line": {
             "colorbar": {
              "outlinewidth": 0,
              "ticks": ""
             }
            },
            "type": "parcoords"
           }
          ],
          "pie": [
           {
            "automargin": true,
            "type": "pie"
           }
          ],
          "scatter": [
           {
            "marker": {
             "colorbar": {
              "outlinewidth": 0,
              "ticks": ""
             }
            },
            "type": "scatter"
           }
          ],
          "scatter3d": [
           {
            "line": {
             "colorbar": {
              "outlinewidth": 0,
              "ticks": ""
             }
            },
            "marker": {
             "colorbar": {
              "outlinewidth": 0,
              "ticks": ""
             }
            },
            "type": "scatter3d"
           }
          ],
          "scattercarpet": [
           {
            "marker": {
             "colorbar": {
              "outlinewidth": 0,
              "ticks": ""
             }
            },
            "type": "scattercarpet"
           }
          ],
          "scattergeo": [
           {
            "marker": {
             "colorbar": {
              "outlinewidth": 0,
              "ticks": ""
             }
            },
            "type": "scattergeo"
           }
          ],
          "scattergl": [
           {
            "marker": {
             "colorbar": {
              "outlinewidth": 0,
              "ticks": ""
             }
            },
            "type": "scattergl"
           }
          ],
          "scattermapbox": [
           {
            "marker": {
             "colorbar": {
              "outlinewidth": 0,
              "ticks": ""
             }
            },
            "type": "scattermapbox"
           }
          ],
          "scatterpolar": [
           {
            "marker": {
             "colorbar": {
              "outlinewidth": 0,
              "ticks": ""
             }
            },
            "type": "scatterpolar"
           }
          ],
          "scatterpolargl": [
           {
            "marker": {
             "colorbar": {
              "outlinewidth": 0,
              "ticks": ""
             }
            },
            "type": "scatterpolargl"
           }
          ],
          "scatterternary": [
           {
            "marker": {
             "colorbar": {
              "outlinewidth": 0,
              "ticks": ""
             }
            },
            "type": "scatterternary"
           }
          ],
          "surface": [
           {
            "colorbar": {
             "outlinewidth": 0,
             "ticks": ""
            },
            "colorscale": [
             [
              0,
              "#0d0887"
             ],
             [
              0.1111111111111111,
              "#46039f"
             ],
             [
              0.2222222222222222,
              "#7201a8"
             ],
             [
              0.3333333333333333,
              "#9c179e"
             ],
             [
              0.4444444444444444,
              "#bd3786"
             ],
             [
              0.5555555555555556,
              "#d8576b"
             ],
             [
              0.6666666666666666,
              "#ed7953"
             ],
             [
              0.7777777777777778,
              "#fb9f3a"
             ],
             [
              0.8888888888888888,
              "#fdca26"
             ],
             [
              1,
              "#f0f921"
             ]
            ],
            "type": "surface"
           }
          ],
          "table": [
           {
            "cells": {
             "fill": {
              "color": "#EBF0F8"
             },
             "line": {
              "color": "white"
             }
            },
            "header": {
             "fill": {
              "color": "#C8D4E3"
             },
             "line": {
              "color": "white"
             }
            },
            "type": "table"
           }
          ]
         },
         "layout": {
          "annotationdefaults": {
           "arrowcolor": "#2a3f5f",
           "arrowhead": 0,
           "arrowwidth": 1
          },
          "coloraxis": {
           "colorbar": {
            "outlinewidth": 0,
            "ticks": ""
           }
          },
          "colorscale": {
           "diverging": [
            [
             0,
             "#8e0152"
            ],
            [
             0.1,
             "#c51b7d"
            ],
            [
             0.2,
             "#de77ae"
            ],
            [
             0.3,
             "#f1b6da"
            ],
            [
             0.4,
             "#fde0ef"
            ],
            [
             0.5,
             "#f7f7f7"
            ],
            [
             0.6,
             "#e6f5d0"
            ],
            [
             0.7,
             "#b8e186"
            ],
            [
             0.8,
             "#7fbc41"
            ],
            [
             0.9,
             "#4d9221"
            ],
            [
             1,
             "#276419"
            ]
           ],
           "sequential": [
            [
             0,
             "#0d0887"
            ],
            [
             0.1111111111111111,
             "#46039f"
            ],
            [
             0.2222222222222222,
             "#7201a8"
            ],
            [
             0.3333333333333333,
             "#9c179e"
            ],
            [
             0.4444444444444444,
             "#bd3786"
            ],
            [
             0.5555555555555556,
             "#d8576b"
            ],
            [
             0.6666666666666666,
             "#ed7953"
            ],
            [
             0.7777777777777778,
             "#fb9f3a"
            ],
            [
             0.8888888888888888,
             "#fdca26"
            ],
            [
             1,
             "#f0f921"
            ]
           ],
           "sequentialminus": [
            [
             0,
             "#0d0887"
            ],
            [
             0.1111111111111111,
             "#46039f"
            ],
            [
             0.2222222222222222,
             "#7201a8"
            ],
            [
             0.3333333333333333,
             "#9c179e"
            ],
            [
             0.4444444444444444,
             "#bd3786"
            ],
            [
             0.5555555555555556,
             "#d8576b"
            ],
            [
             0.6666666666666666,
             "#ed7953"
            ],
            [
             0.7777777777777778,
             "#fb9f3a"
            ],
            [
             0.8888888888888888,
             "#fdca26"
            ],
            [
             1,
             "#f0f921"
            ]
           ]
          },
          "colorway": [
           "#636efa",
           "#EF553B",
           "#00cc96",
           "#ab63fa",
           "#FFA15A",
           "#19d3f3",
           "#FF6692",
           "#B6E880",
           "#FF97FF",
           "#FECB52"
          ],
          "font": {
           "color": "#2a3f5f"
          },
          "geo": {
           "bgcolor": "white",
           "lakecolor": "white",
           "landcolor": "#E5ECF6",
           "showlakes": true,
           "showland": true,
           "subunitcolor": "white"
          },
          "hoverlabel": {
           "align": "left"
          },
          "hovermode": "closest",
          "mapbox": {
           "style": "light"
          },
          "paper_bgcolor": "white",
          "plot_bgcolor": "#E5ECF6",
          "polar": {
           "angularaxis": {
            "gridcolor": "white",
            "linecolor": "white",
            "ticks": ""
           },
           "bgcolor": "#E5ECF6",
           "radialaxis": {
            "gridcolor": "white",
            "linecolor": "white",
            "ticks": ""
           }
          },
          "scene": {
           "xaxis": {
            "backgroundcolor": "#E5ECF6",
            "gridcolor": "white",
            "gridwidth": 2,
            "linecolor": "white",
            "showbackground": true,
            "ticks": "",
            "zerolinecolor": "white"
           },
           "yaxis": {
            "backgroundcolor": "#E5ECF6",
            "gridcolor": "white",
            "gridwidth": 2,
            "linecolor": "white",
            "showbackground": true,
            "ticks": "",
            "zerolinecolor": "white"
           },
           "zaxis": {
            "backgroundcolor": "#E5ECF6",
            "gridcolor": "white",
            "gridwidth": 2,
            "linecolor": "white",
            "showbackground": true,
            "ticks": "",
            "zerolinecolor": "white"
           }
          },
          "shapedefaults": {
           "line": {
            "color": "#2a3f5f"
           }
          },
          "ternary": {
           "aaxis": {
            "gridcolor": "white",
            "linecolor": "white",
            "ticks": ""
           },
           "baxis": {
            "gridcolor": "white",
            "linecolor": "white",
            "ticks": ""
           },
           "bgcolor": "#E5ECF6",
           "caxis": {
            "gridcolor": "white",
            "linecolor": "white",
            "ticks": ""
           }
          },
          "title": {
           "x": 0.05
          },
          "xaxis": {
           "automargin": true,
           "gridcolor": "white",
           "linecolor": "white",
           "ticks": "",
           "title": {
            "standoff": 15
           },
           "zerolinecolor": "white",
           "zerolinewidth": 2
          },
          "yaxis": {
           "automargin": true,
           "gridcolor": "white",
           "linecolor": "white",
           "ticks": "",
           "title": {
            "standoff": 15
           },
           "zerolinecolor": "white",
           "zerolinewidth": 2
          }
         }
        },
        "title": {
         "text": "Gantt Chart"
        },
        "xaxis": {
         "rangeselector": {
          "buttons": [
           {
            "count": 7,
            "label": "1w",
            "step": "day",
            "stepmode": "backward"
           },
           {
            "count": 1,
            "label": "1m",
            "step": "month",
            "stepmode": "backward"
           },
           {
            "count": 6,
            "label": "6m",
            "step": "month",
            "stepmode": "backward"
           },
           {
            "count": 1,
            "label": "YTD",
            "step": "year",
            "stepmode": "todate"
           },
           {
            "count": 1,
            "label": "1y",
            "step": "year",
            "stepmode": "backward"
           },
           {
            "step": "all"
           }
          ]
         },
         "showgrid": true,
         "type": "date",
         "zeroline": false
        },
        "yaxis": {
         "autorange": false,
         "range": [
          -1,
          187
         ],
         "showgrid": true,
         "ticktext": [
          "Western Sahara",
          "Comoros",
          "Tajikistan",
          "Suriname",
          "Greenland",
          "Dominica",
          "Laos",
          "Belize",
          "Namibia",
          "Seychelles",
          "Saint Kitts and Nevis",
          "Eritrea",
          "Yemen",
          "Botswana",
          "Fiji",
          "Burundi",
          "Sao Tome and Principe",
          "Papua New Guinea",
          "Timor-Leste",
          "South Sudan",
          "Malawi",
          "Sierra Leone",
          "Mauritius",
          "Grenada",
          "Libya",
          "Burma",
          "Kosovo",
          "Trinidad and Tobago",
          "Guinea-Bissau",
          "Mali",
          "Mauritania",
          "Nicaragua",
          "Syria",
          "Mozambique",
          "Bhutan",
          "Madagascar",
          "Uganda",
          "Antigua and Barbuda",
          "Angola",
          "Montenegro",
          "Zimbabwe",
          "Haiti",
          "Saint Lucia",
          "Cabo Verde",
          "Niger",
          "Saint Vincent and the Grenadines",
          "Chad",
          "Bahamas",
          "El Salvador",
          "Kyrgyzstan",
          "Djibouti",
          "Zambia",
          "Gambia",
          "Equatorial Guinea",
          "Liechtenstein",
          "Tanzania",
          "Liberia",
          "Barbados",
          "Somalia",
          "Congo (Brazzaville)",
          "Benin",
          "Central African Republic",
          "Uzbekistan",
          "Eswatini",
          "Gabon",
          "Venezuela",
          "Ghana",
          "Rwanda",
          "Guatemala",
          "Uruguay",
          "Kazakhstan",
          "Sudan",
          "Guinea",
          "Guyana",
          "Kenya",
          "Ethiopia",
          "Jamaica",
          "Cuba",
          "Congo (Kinshasa)",
          "Turkey",
          "Cote d'Ivoire",
          "Brunei",
          "Bolivia",
          "Honduras",
          "Mongolia",
          "Burkina Faso",
          "Panama",
          "Holy See",
          "Cyprus",
          "Albania",
          "Moldova",
          "Maldives",
          "Bulgaria",
          "Bangladesh",
          "Paraguay",
          "Malta",
          "West Bank and Gaza",
          "Slovakia",
          "Costa Rica",
          "Cameroon",
          "Serbia",
          "Colombia",
          "Togo",
          "Peru",
          "South Africa",
          "Bosnia and Herzegovina",
          "Slovenia",
          "Poland",
          "Hungary",
          "Tunisia",
          "Argentina",
          "Chile",
          "Jordan",
          "Ukraine",
          "Saudi Arabia",
          "Portugal",
          "Andorra",
          "Senegal",
          "Latvia",
          "Indonesia",
          "Morocco",
          "Ecuador",
          "Iceland",
          "Armenia",
          "Azerbaijan",
          "Czechia",
          "Dominican Republic",
          "Ireland",
          "Qatar",
          "Monaco",
          "Luxembourg",
          "Belarus",
          "Nigeria",
          "Mexico",
          "New Zealand",
          "Lithuania",
          "San Marino",
          "Estonia",
          "Netherlands",
          "Denmark",
          "Greece",
          "Georgia",
          "Pakistan",
          "Norway",
          "North Macedonia",
          "Brazil",
          "Romania",
          "Austria",
          "Switzerland",
          "Algeria",
          "Croatia",
          "Afghanistan",
          "Kuwait",
          "Bahrain",
          "Oman",
          "Iraq",
          "Cambodia",
          "Israel",
          "Lebanon",
          "Iran",
          "Egypt",
          "Belgium",
          "Spain",
          "Sweden",
          "United Kingdom",
          "Russia",
          "Italy",
          "India",
          "Philippines",
          "United Arab Emirates",
          "Finland",
          "Germany",
          "Sri Lanka",
          "Australia",
          "Canada",
          "Malaysia",
          "Nepal",
          "Vietnam",
          "France",
          "Taiwan*",
          "Singapore",
          "Thailand",
          "China",
          "Japan",
          "South Korea",
          "US"
         ],
         "tickvals": [
          0,
          1,
          2,
          3,
          4,
          5,
          6,
          7,
          8,
          9,
          10,
          11,
          12,
          13,
          14,
          15,
          16,
          17,
          18,
          19,
          20,
          21,
          22,
          23,
          24,
          25,
          26,
          27,
          28,
          29,
          30,
          31,
          32,
          33,
          34,
          35,
          36,
          37,
          38,
          39,
          40,
          41,
          42,
          43,
          44,
          45,
          46,
          47,
          48,
          49,
          50,
          51,
          52,
          53,
          54,
          55,
          56,
          57,
          58,
          59,
          60,
          61,
          62,
          63,
          64,
          65,
          66,
          67,
          68,
          69,
          70,
          71,
          72,
          73,
          74,
          75,
          76,
          77,
          78,
          79,
          80,
          81,
          82,
          83,
          84,
          85,
          86,
          87,
          88,
          89,
          90,
          91,
          92,
          93,
          94,
          95,
          96,
          97,
          98,
          99,
          100,
          101,
          102,
          103,
          104,
          105,
          106,
          107,
          108,
          109,
          110,
          111,
          112,
          113,
          114,
          115,
          116,
          117,
          118,
          119,
          120,
          121,
          122,
          123,
          124,
          125,
          126,
          127,
          128,
          129,
          130,
          131,
          132,
          133,
          134,
          135,
          136,
          137,
          138,
          139,
          140,
          141,
          142,
          143,
          144,
          145,
          146,
          147,
          148,
          149,
          150,
          151,
          152,
          153,
          154,
          155,
          156,
          157,
          158,
          159,
          160,
          161,
          162,
          163,
          164,
          165,
          166,
          167,
          168,
          169,
          170,
          171,
          172,
          173,
          174,
          175,
          176,
          177,
          178,
          179,
          180,
          181,
          182,
          183,
          184,
          185
         ],
         "zeroline": false
        }
       }
      },
      "text/html": [
       "<div>\n",
       "        \n",
       "        \n",
       "            <div id=\"4f61f329-23f0-4a22-9dec-2cbae000f62e\" class=\"plotly-graph-div\" style=\"height:2500px; width:100%;\"></div>\n",
       "            <script type=\"text/javascript\">\n",
       "                require([\"plotly\"], function(Plotly) {\n",
       "                    window.PLOTLYENV=window.PLOTLYENV || {};\n",
       "                    \n",
       "                if (document.getElementById(\"4f61f329-23f0-4a22-9dec-2cbae000f62e\")) {\n",
       "                    Plotly.newPlot(\n",
       "                        '4f61f329-23f0-4a22-9dec-2cbae000f62e',\n",
       "                        [{\"fill\": \"toself\", \"fillcolor\": \"rgb(1, 145, 48)\", \"hoverinfo\": \"name\", \"legendgroup\": \"rgb(1, 145, 48)\", \"mode\": \"none\", \"name\": \"Nigeria\", \"showlegend\": false, \"type\": \"scatter\", \"x\": [\"2020-02-28T00:00:00\", \"2020-05-10T00:00:00\", \"2020-05-10T00:00:00\", \"2020-02-28T00:00:00\"], \"y\": [131.8, 131.8, 132.2, 132.2]}, {\"fill\": \"toself\", \"fillcolor\": \"rgb(1, 154, 91)\", \"hoverinfo\": \"name\", \"legendgroup\": \"rgb(1, 154, 91)\", \"mode\": \"none\", \"name\": \"Qatar\", \"showlegend\": false, \"type\": \"scatter\", \"x\": [\"2020-02-29T00:00:00\", \"2020-05-10T00:00:00\", \"2020-05-10T00:00:00\", \"2020-02-29T00:00:00\"], \"y\": [127.8, 127.8, 128.2, 128.2]}, {\"fill\": \"toself\", \"fillcolor\": \"rgb(1, 155, 185)\", \"hoverinfo\": \"name\", \"legendgroup\": \"rgb(1, 155, 185)\", \"mode\": \"none\", \"name\": \"Central African Republic\", \"showlegend\": false, \"type\": \"scatter\", \"x\": [\"2020-03-15T00:00:00\", \"2020-05-09T00:00:00\", \"2020-05-09T00:00:00\", \"2020-03-15T00:00:00\"], \"y\": [60.8, 60.8, 61.2, 61.2]}, {\"fill\": \"toself\", \"fillcolor\": \"rgb(10, 38, 153)\", \"hoverinfo\": \"name\", \"legendgroup\": \"rgb(10, 38, 153)\", \"mode\": \"none\", \"name\": \"Andorra\", \"showlegend\": false, \"type\": \"scatter\", \"x\": [\"2020-03-02T00:00:00\", \"2020-05-10T00:00:00\", \"2020-05-10T00:00:00\", \"2020-03-02T00:00:00\"], \"y\": [115.8, 115.8, 116.2, 116.2]}, {\"fill\": \"toself\", \"fillcolor\": \"rgb(100, 179, 153)\", \"hoverinfo\": \"name\", \"legendgroup\": \"rgb(100, 179, 153)\", \"mode\": \"none\", \"name\": \"Mongolia\", \"showlegend\": false, \"type\": \"scatter\", \"x\": [\"2020-03-10T00:00:00\", \"2020-05-09T00:00:00\", \"2020-05-09T00:00:00\", \"2020-03-10T00:00:00\"], \"y\": [83.8, 83.8, 84.2, 84.2]}, {\"fill\": \"toself\", \"fillcolor\": \"rgb(102, 33, 168)\", \"hoverinfo\": \"name\", \"legendgroup\": \"rgb(102, 33, 168)\", \"mode\": \"none\", \"name\": \"Burkina Faso\", \"showlegend\": false, \"type\": \"scatter\", \"x\": [\"2020-03-10T00:00:00\", \"2020-05-10T00:00:00\", \"2020-05-10T00:00:00\", \"2020-03-10T00:00:00\"], \"y\": [84.8, 84.8, 85.2, 85.2]}, {\"fill\": \"toself\", \"fillcolor\": \"rgb(102, 51, 134)\", \"hoverinfo\": \"name\", \"legendgroup\": \"rgb(102, 51, 134)\", \"mode\": \"none\", \"name\": \"Eritrea\", \"showlegend\": false, \"type\": \"scatter\", \"x\": [\"2020-03-21T00:00:00\", \"2020-04-19T00:00:00\", \"2020-04-19T00:00:00\", \"2020-03-21T00:00:00\"], \"y\": [10.8, 10.8, 11.2, 11.2]}, {\"fill\": \"toself\", \"fillcolor\": \"rgb(102, 92, 70)\", \"hoverinfo\": \"name\", \"legendgroup\": \"rgb(102, 92, 70)\", \"mode\": \"none\", \"name\": \"Holy See\", \"showlegend\": false, \"type\": \"scatter\", \"x\": [\"2020-03-06T00:00:00\", \"2020-05-07T00:00:00\", \"2020-05-07T00:00:00\", \"2020-03-06T00:00:00\"], \"y\": [86.8, 86.8, 87.2, 87.2]}, {\"fill\": \"toself\", \"fillcolor\": \"rgb(103, 8, 89)\", \"hoverinfo\": \"name\", \"legendgroup\": \"rgb(103, 8, 89)\", \"mode\": \"none\", \"name\": \"Cyprus\", \"showlegend\": false, \"type\": \"scatter\", \"x\": [\"2020-03-09T00:00:00\", \"2020-05-10T00:00:00\", \"2020-05-10T00:00:00\", \"2020-03-09T00:00:00\"], \"y\": [87.8, 87.8, 88.2, 88.2]}, {\"fill\": \"toself\", \"fillcolor\": \"rgb(103, 81, 10)\", \"hoverinfo\": \"name\", \"legendgroup\": \"rgb(103, 81, 10)\", \"mode\": \"none\", \"name\": \"Gambia\", \"showlegend\": false, \"type\": \"scatter\", \"x\": [\"2020-03-17T00:00:00\", \"2020-05-09T00:00:00\", \"2020-05-09T00:00:00\", \"2020-03-17T00:00:00\"], \"y\": [51.8, 51.8, 52.2, 52.2]}, {\"fill\": \"toself\", \"fillcolor\": \"rgb(104, 35, 180)\", \"hoverinfo\": \"name\", \"legendgroup\": \"rgb(104, 35, 180)\", \"mode\": \"none\", \"name\": \"Georgia\", \"showlegend\": false, \"type\": \"scatter\", \"x\": [\"2020-02-26T00:00:00\", \"2020-05-10T00:00:00\", \"2020-05-10T00:00:00\", \"2020-02-26T00:00:00\"], \"y\": [140.8, 140.8, 141.2, 141.2]}, {\"fill\": \"toself\", \"fillcolor\": \"rgb(105, 137, 6)\", \"hoverinfo\": \"name\", \"legendgroup\": \"rgb(105, 137, 6)\", \"mode\": \"none\", \"name\": \"Belgium\", \"showlegend\": false, \"type\": \"scatter\", \"x\": [\"2020-02-04T00:00:00\", \"2020-05-10T00:00:00\", \"2020-05-10T00:00:00\", \"2020-02-04T00:00:00\"], \"y\": [160.8, 160.8, 161.2, 161.2]}, {\"fill\": \"toself\", \"fillcolor\": \"rgb(106, 172, 144)\", \"hoverinfo\": \"name\", \"legendgroup\": \"rgb(106, 172, 144)\", \"mode\": \"none\", \"name\": \"Uruguay\", \"showlegend\": false, \"type\": \"scatter\", \"x\": [\"2020-03-14T00:00:00\", \"2020-05-10T00:00:00\", \"2020-05-10T00:00:00\", \"2020-03-14T00:00:00\"], \"y\": [68.8, 68.8, 69.2, 69.2]}, {\"fill\": \"toself\", \"fillcolor\": \"rgb(108, 140, 39)\", \"hoverinfo\": \"name\", \"legendgroup\": \"rgb(108, 140, 39)\", \"mode\": \"none\", \"name\": \"Honduras\", \"showlegend\": false, \"type\": \"scatter\", \"x\": [\"2020-03-11T00:00:00\", \"2020-05-10T00:00:00\", \"2020-05-10T00:00:00\", \"2020-03-11T00:00:00\"], \"y\": [82.8, 82.8, 83.2, 83.2]}, {\"fill\": \"toself\", \"fillcolor\": \"rgb(113, 129, 108)\", \"hoverinfo\": \"name\", \"legendgroup\": \"rgb(113, 129, 108)\", \"mode\": \"none\", \"name\": \"Guinea-Bissau\", \"showlegend\": false, \"type\": \"scatter\", \"x\": [\"2020-03-25T00:00:00\", \"2020-05-10T00:00:00\", \"2020-05-10T00:00:00\", \"2020-03-25T00:00:00\"], \"y\": [27.8, 27.8, 28.2, 28.2]}, {\"fill\": \"toself\", \"fillcolor\": \"rgb(113, 60, 184)\", \"hoverinfo\": \"name\", \"legendgroup\": \"rgb(113, 60, 184)\", \"mode\": \"none\", \"name\": \"New Zealand\", \"showlegend\": false, \"type\": \"scatter\", \"x\": [\"2020-02-28T00:00:00\", \"2020-05-10T00:00:00\", \"2020-05-10T00:00:00\", \"2020-02-28T00:00:00\"], \"y\": [133.8, 133.8, 134.2, 134.2]}, {\"fill\": \"toself\", \"fillcolor\": \"rgb(115, 117, 117)\", \"hoverinfo\": \"name\", \"legendgroup\": \"rgb(115, 117, 117)\", \"mode\": \"none\", \"name\": \"Antigua and Barbuda\", \"showlegend\": false, \"type\": \"scatter\", \"x\": [\"2020-03-13T00:00:00\", \"2020-05-02T00:00:00\", \"2020-05-02T00:00:00\", \"2020-03-13T00:00:00\"], \"y\": [36.8, 36.8, 37.2, 37.2]}, {\"fill\": \"toself\", \"fillcolor\": \"rgb(115, 149, 1)\", \"hoverinfo\": \"name\", \"legendgroup\": \"rgb(115, 149, 1)\", \"mode\": \"none\", \"name\": \"Serbia\", \"showlegend\": false, \"type\": \"scatter\", \"x\": [\"2020-03-06T00:00:00\", \"2020-05-10T00:00:00\", \"2020-05-10T00:00:00\", \"2020-03-06T00:00:00\"], \"y\": [99.8, 99.8, 100.2, 100.2]}, {\"fill\": \"toself\", \"fillcolor\": \"rgb(115, 24, 194)\", \"hoverinfo\": \"name\", \"legendgroup\": \"rgb(115, 24, 194)\", \"mode\": \"none\", \"name\": \"Guinea\", \"showlegend\": false, \"type\": \"scatter\", \"x\": [\"2020-03-13T00:00:00\", \"2020-05-10T00:00:00\", \"2020-05-10T00:00:00\", \"2020-03-13T00:00:00\"], \"y\": [71.8, 71.8, 72.2, 72.2]}, {\"fill\": \"toself\", \"fillcolor\": \"rgb(115, 88, 161)\", \"hoverinfo\": \"name\", \"legendgroup\": \"rgb(115, 88, 161)\", \"mode\": \"none\", \"name\": \"Germany\", \"showlegend\": false, \"type\": \"scatter\", \"x\": [\"2020-01-27T00:00:00\", \"2020-05-10T00:00:00\", \"2020-05-10T00:00:00\", \"2020-01-27T00:00:00\"], \"y\": [170.8, 170.8, 171.2, 171.2]}, {\"fill\": \"toself\", \"fillcolor\": \"rgb(117, 123, 156)\", \"hoverinfo\": \"name\", \"legendgroup\": \"rgb(117, 123, 156)\", \"mode\": \"none\", \"name\": \"Congo (Brazzaville)\", \"showlegend\": false, \"type\": \"scatter\", \"x\": [\"2020-03-15T00:00:00\", \"2020-05-09T00:00:00\", \"2020-05-09T00:00:00\", \"2020-03-15T00:00:00\"], \"y\": [58.8, 58.8, 59.2, 59.2]}, {\"fill\": \"toself\", \"fillcolor\": \"rgb(118, 161, 17)\", \"hoverinfo\": \"name\", \"legendgroup\": \"rgb(118, 161, 17)\", \"mode\": \"none\", \"name\": \"Colombia\", \"showlegend\": false, \"type\": \"scatter\", \"x\": [\"2020-03-06T00:00:00\", \"2020-05-10T00:00:00\", \"2020-05-10T00:00:00\", \"2020-03-06T00:00:00\"], \"y\": [100.8, 100.8, 101.2, 101.2]}, {\"fill\": \"toself\", \"fillcolor\": \"rgb(119, 151, 99)\", \"hoverinfo\": \"name\", \"legendgroup\": \"rgb(119, 151, 99)\", \"mode\": \"none\", \"name\": \"South Korea\", \"showlegend\": false, \"type\": \"scatter\", \"x\": [\"2020-01-22T00:00:00\", \"2020-05-10T00:00:00\", \"2020-05-10T00:00:00\", \"2020-01-22T00:00:00\"], \"y\": [183.8, 183.8, 184.2, 184.2]}, {\"fill\": \"toself\", \"fillcolor\": \"rgb(120, 122, 81)\", \"hoverinfo\": \"name\", \"legendgroup\": \"rgb(120, 122, 81)\", \"mode\": \"none\", \"name\": \"Egypt\", \"showlegend\": false, \"type\": \"scatter\", \"x\": [\"2020-02-14T00:00:00\", \"2020-05-10T00:00:00\", \"2020-05-10T00:00:00\", \"2020-02-14T00:00:00\"], \"y\": [159.8, 159.8, 160.2, 160.2]}, {\"fill\": \"toself\", \"fillcolor\": \"rgb(120, 163, 112)\", \"hoverinfo\": \"name\", \"legendgroup\": \"rgb(120, 163, 112)\", \"mode\": \"none\", \"name\": \"Niger\", \"showlegend\": false, \"type\": \"scatter\", \"x\": [\"2020-03-20T00:00:00\", \"2020-05-10T00:00:00\", \"2020-05-10T00:00:00\", \"2020-03-20T00:00:00\"], \"y\": [43.8, 43.8, 44.2, 44.2]}, {\"fill\": \"toself\", \"fillcolor\": \"rgb(128, 119, 4)\", \"hoverinfo\": \"name\", \"legendgroup\": \"rgb(128, 119, 4)\", \"mode\": \"none\", \"name\": \"Madagascar\", \"showlegend\": false, \"type\": \"scatter\", \"x\": [\"2020-03-20T00:00:00\", \"2020-05-08T00:00:00\", \"2020-05-08T00:00:00\", \"2020-03-20T00:00:00\"], \"y\": [34.8, 34.8, 35.2, 35.2]}, {\"fill\": \"toself\", \"fillcolor\": \"rgb(129, 138, 146)\", \"hoverinfo\": \"name\", \"legendgroup\": \"rgb(129, 138, 146)\", \"mode\": \"none\", \"name\": \"Botswana\", \"showlegend\": false, \"type\": \"scatter\", \"x\": [\"2020-03-30T00:00:00\", \"2020-04-29T00:00:00\", \"2020-04-29T00:00:00\", \"2020-03-30T00:00:00\"], \"y\": [12.8, 12.8, 13.2, 13.2]}, {\"fill\": \"toself\", \"fillcolor\": \"rgb(129, 140, 101)\", \"hoverinfo\": \"name\", \"legendgroup\": \"rgb(129, 140, 101)\", \"mode\": \"none\", \"name\": \"Jamaica\", \"showlegend\": false, \"type\": \"scatter\", \"x\": [\"2020-03-11T00:00:00\", \"2020-05-09T00:00:00\", \"2020-05-09T00:00:00\", \"2020-03-11T00:00:00\"], \"y\": [75.8, 75.8, 76.2, 76.2]}, {\"fill\": \"toself\", \"fillcolor\": \"rgb(129, 201, 69)\", \"hoverinfo\": \"name\", \"legendgroup\": \"rgb(129, 201, 69)\", \"mode\": \"none\", \"name\": \"Cuba\", \"showlegend\": false, \"type\": \"scatter\", \"x\": [\"2020-03-12T00:00:00\", \"2020-05-10T00:00:00\", \"2020-05-10T00:00:00\", \"2020-03-12T00:00:00\"], \"y\": [76.8, 76.8, 77.2, 77.2]}, {\"fill\": \"toself\", \"fillcolor\": \"rgb(131, 138, 49)\", \"hoverinfo\": \"name\", \"legendgroup\": \"rgb(131, 138, 49)\", \"mode\": \"none\", \"name\": \"Vietnam\", \"showlegend\": false, \"type\": \"scatter\", \"x\": [\"2020-01-23T00:00:00\", \"2020-05-08T00:00:00\", \"2020-05-08T00:00:00\", \"2020-01-23T00:00:00\"], \"y\": [176.8, 176.8, 177.2, 177.2]}, {\"fill\": \"toself\", \"fillcolor\": \"rgb(131, 198, 3)\", \"hoverinfo\": \"name\", \"legendgroup\": \"rgb(131, 198, 3)\", \"mode\": \"none\", \"name\": \"Mozambique\", \"showlegend\": false, \"type\": \"scatter\", \"x\": [\"2020-03-22T00:00:00\", \"2020-05-10T00:00:00\", \"2020-05-10T00:00:00\", \"2020-03-22T00:00:00\"], \"y\": [32.8, 32.8, 33.2, 33.2]}, {\"fill\": \"toself\", \"fillcolor\": \"rgb(132, 50, 59)\", \"hoverinfo\": \"name\", \"legendgroup\": \"rgb(132, 50, 59)\", \"mode\": \"none\", \"name\": \"Djibouti\", \"showlegend\": false, \"type\": \"scatter\", \"x\": [\"2020-03-18T00:00:00\", \"2020-05-10T00:00:00\", \"2020-05-10T00:00:00\", \"2020-03-18T00:00:00\"], \"y\": [49.8, 49.8, 50.2, 50.2]}, {\"fill\": \"toself\", \"fillcolor\": \"rgb(133, 1, 23)\", \"hoverinfo\": \"name\", \"legendgroup\": \"rgb(133, 1, 23)\", \"mode\": \"none\", \"name\": \"Benin\", \"showlegend\": false, \"type\": \"scatter\", \"x\": [\"2020-03-16T00:00:00\", \"2020-05-10T00:00:00\", \"2020-05-10T00:00:00\", \"2020-03-16T00:00:00\"], \"y\": [59.8, 59.8, 60.2, 60.2]}, {\"fill\": \"toself\", \"fillcolor\": \"rgb(135, 176, 32)\", \"hoverinfo\": \"name\", \"legendgroup\": \"rgb(135, 176, 32)\", \"mode\": \"none\", \"name\": \"Liechtenstein\", \"showlegend\": false, \"type\": \"scatter\", \"x\": [\"2020-03-04T00:00:00\", \"2020-04-27T00:00:00\", \"2020-04-27T00:00:00\", \"2020-03-04T00:00:00\"], \"y\": [53.8, 53.8, 54.2, 54.2]}, {\"fill\": \"toself\", \"fillcolor\": \"rgb(135, 85, 198)\", \"hoverinfo\": \"name\", \"legendgroup\": \"rgb(135, 85, 198)\", \"mode\": \"none\", \"name\": \"Papua New Guinea\", \"showlegend\": false, \"type\": \"scatter\", \"x\": [\"2020-03-20T00:00:00\", \"2020-04-23T00:00:00\", \"2020-04-23T00:00:00\", \"2020-03-20T00:00:00\"], \"y\": [16.8, 16.8, 17.2, 17.2]}, {\"fill\": \"toself\", \"fillcolor\": \"rgb(136, 162, 123)\", \"hoverinfo\": \"name\", \"legendgroup\": \"rgb(136, 162, 123)\", \"mode\": \"none\", \"name\": \"Brunei\", \"showlegend\": false, \"type\": \"scatter\", \"x\": [\"2020-03-09T00:00:00\", \"2020-05-08T00:00:00\", \"2020-05-08T00:00:00\", \"2020-03-09T00:00:00\"], \"y\": [80.8, 80.8, 81.2, 81.2]}, {\"fill\": \"toself\", \"fillcolor\": \"rgb(136, 164, 39)\", \"hoverinfo\": \"name\", \"legendgroup\": \"rgb(136, 164, 39)\", \"mode\": \"none\", \"name\": \"Seychelles\", \"showlegend\": false, \"type\": \"scatter\", \"x\": [\"2020-03-14T00:00:00\", \"2020-04-07T00:00:00\", \"2020-04-07T00:00:00\", \"2020-03-14T00:00:00\"], \"y\": [8.8, 8.8, 9.2, 9.2]}, {\"fill\": \"toself\", \"fillcolor\": \"rgb(137, 40, 26)\", \"hoverinfo\": \"name\", \"legendgroup\": \"rgb(137, 40, 26)\", \"mode\": \"none\", \"name\": \"Spain\", \"showlegend\": false, \"type\": \"scatter\", \"x\": [\"2020-02-01T00:00:00\", \"2020-05-10T00:00:00\", \"2020-05-10T00:00:00\", \"2020-02-01T00:00:00\"], \"y\": [161.8, 161.8, 162.2, 162.2]}, {\"fill\": \"toself\", \"fillcolor\": \"rgb(139, 24, 23)\", \"hoverinfo\": \"name\", \"legendgroup\": \"rgb(139, 24, 23)\", \"mode\": \"none\", \"name\": \"Saint Kitts and Nevis\", \"showlegend\": false, \"type\": \"scatter\", \"x\": [\"2020-03-25T00:00:00\", \"2020-04-21T00:00:00\", \"2020-04-21T00:00:00\", \"2020-03-25T00:00:00\"], \"y\": [9.8, 9.8, 10.2, 10.2]}, {\"fill\": \"toself\", \"fillcolor\": \"rgb(145, 132, 154)\", \"hoverinfo\": \"name\", \"legendgroup\": \"rgb(145, 132, 154)\", \"mode\": \"none\", \"name\": \"Australia\", \"showlegend\": false, \"type\": \"scatter\", \"x\": [\"2020-01-26T00:00:00\", \"2020-05-10T00:00:00\", \"2020-05-10T00:00:00\", \"2020-01-26T00:00:00\"], \"y\": [172.8, 172.8, 173.2, 173.2]}, {\"fill\": \"toself\", \"fillcolor\": \"rgb(145, 179, 192)\", \"hoverinfo\": \"name\", \"legendgroup\": \"rgb(145, 179, 192)\", \"mode\": \"none\", \"name\": \"Saudi Arabia\", \"showlegend\": false, \"type\": \"scatter\", \"x\": [\"2020-03-02T00:00:00\", \"2020-05-10T00:00:00\", \"2020-05-10T00:00:00\", \"2020-03-02T00:00:00\"], \"y\": [113.8, 113.8, 114.2, 114.2]}, {\"fill\": \"toself\", \"fillcolor\": \"rgb(147, 119, 117)\", \"hoverinfo\": \"name\", \"legendgroup\": \"rgb(147, 119, 117)\", \"mode\": \"none\", \"name\": \"Western Sahara\", \"showlegend\": false, \"type\": \"scatter\", \"x\": [\"2020-04-05T00:00:00\", \"2020-04-13T00:00:00\", \"2020-04-13T00:00:00\", \"2020-04-05T00:00:00\"], \"y\": [-0.2, -0.2, 0.2, 0.2]}, {\"fill\": \"toself\", \"fillcolor\": \"rgb(147, 204, 60)\", \"hoverinfo\": \"name\", \"legendgroup\": \"rgb(147, 204, 60)\", \"mode\": \"none\", \"name\": \"Gabon\", \"showlegend\": false, \"type\": \"scatter\", \"x\": [\"2020-03-14T00:00:00\", \"2020-05-10T00:00:00\", \"2020-05-10T00:00:00\", \"2020-03-14T00:00:00\"], \"y\": [63.8, 63.8, 64.2, 64.2]}, {\"fill\": \"toself\", \"fillcolor\": \"rgb(149, 24, 186)\", \"hoverinfo\": \"name\", \"legendgroup\": \"rgb(149, 24, 186)\", \"mode\": \"none\", \"name\": \"Armenia\", \"showlegend\": false, \"type\": \"scatter\", \"x\": [\"2020-03-01T00:00:00\", \"2020-05-10T00:00:00\", \"2020-05-10T00:00:00\", \"2020-03-01T00:00:00\"], \"y\": [122.8, 122.8, 123.2, 123.2]}, {\"fill\": \"toself\", \"fillcolor\": \"rgb(149, 90, 33)\", \"hoverinfo\": \"name\", \"legendgroup\": \"rgb(149, 90, 33)\", \"mode\": \"none\", \"name\": \"Russia\", \"showlegend\": false, \"type\": \"scatter\", \"x\": [\"2020-01-31T00:00:00\", \"2020-05-10T00:00:00\", \"2020-05-10T00:00:00\", \"2020-01-31T00:00:00\"], \"y\": [164.8, 164.8, 165.2, 165.2]}, {\"fill\": \"toself\", \"fillcolor\": \"rgb(150, 134, 122)\", \"hoverinfo\": \"name\", \"legendgroup\": \"rgb(150, 134, 122)\", \"mode\": \"none\", \"name\": \"United Kingdom\", \"showlegend\": false, \"type\": \"scatter\", \"x\": [\"2020-01-31T00:00:00\", \"2020-05-10T00:00:00\", \"2020-05-10T00:00:00\", \"2020-01-31T00:00:00\"], \"y\": [163.8, 163.8, 164.2, 164.2]}, {\"fill\": \"toself\", \"fillcolor\": \"rgb(151, 179, 7)\", \"hoverinfo\": \"name\", \"legendgroup\": \"rgb(151, 179, 7)\", \"mode\": \"none\", \"name\": \"Burma\", \"showlegend\": false, \"type\": \"scatter\", \"x\": [\"2020-03-27T00:00:00\", \"2020-05-10T00:00:00\", \"2020-05-10T00:00:00\", \"2020-03-27T00:00:00\"], \"y\": [24.8, 24.8, 25.2, 25.2]}, {\"fill\": \"toself\", \"fillcolor\": \"rgb(152, 188, 9)\", \"hoverinfo\": \"name\", \"legendgroup\": \"rgb(152, 188, 9)\", \"mode\": \"none\", \"name\": \"Peru\", \"showlegend\": false, \"type\": \"scatter\", \"x\": [\"2020-03-06T00:00:00\", \"2020-05-10T00:00:00\", \"2020-05-10T00:00:00\", \"2020-03-06T00:00:00\"], \"y\": [102.8, 102.8, 103.2, 103.2]}, {\"fill\": \"toself\", \"fillcolor\": \"rgb(152, 203, 68)\", \"hoverinfo\": \"name\", \"legendgroup\": \"rgb(152, 203, 68)\", \"mode\": \"none\", \"name\": \"Senegal\", \"showlegend\": false, \"type\": \"scatter\", \"x\": [\"2020-03-02T00:00:00\", \"2020-05-10T00:00:00\", \"2020-05-10T00:00:00\", \"2020-03-02T00:00:00\"], \"y\": [116.8, 116.8, 117.2, 117.2]}, {\"fill\": \"toself\", \"fillcolor\": \"rgb(152, 6, 196)\", \"hoverinfo\": \"name\", \"legendgroup\": \"rgb(152, 6, 196)\", \"mode\": \"none\", \"name\": \"Bahamas\", \"showlegend\": false, \"type\": \"scatter\", \"x\": [\"2020-03-16T00:00:00\", \"2020-05-07T00:00:00\", \"2020-05-07T00:00:00\", \"2020-03-16T00:00:00\"], \"y\": [46.8, 46.8, 47.2, 47.2]}, {\"fill\": \"toself\", \"fillcolor\": \"rgb(154, 87, 102)\", \"hoverinfo\": \"name\", \"legendgroup\": \"rgb(154, 87, 102)\", \"mode\": \"none\", \"name\": \"Bahrain\", \"showlegend\": false, \"type\": \"scatter\", \"x\": [\"2020-02-24T00:00:00\", \"2020-05-10T00:00:00\", \"2020-05-10T00:00:00\", \"2020-02-24T00:00:00\"], \"y\": [152.8, 152.8, 153.2, 153.2]}, {\"fill\": \"toself\", \"fillcolor\": \"rgb(155, 37, 151)\", \"hoverinfo\": \"name\", \"legendgroup\": \"rgb(155, 37, 151)\", \"mode\": \"none\", \"name\": \"Singapore\", \"showlegend\": false, \"type\": \"scatter\", \"x\": [\"2020-01-23T00:00:00\", \"2020-05-10T00:00:00\", \"2020-05-10T00:00:00\", \"2020-01-23T00:00:00\"], \"y\": [179.8, 179.8, 180.2, 180.2]}, {\"fill\": \"toself\", \"fillcolor\": \"rgb(155, 41, 154)\", \"hoverinfo\": \"name\", \"legendgroup\": \"rgb(155, 41, 154)\", \"mode\": \"none\", \"name\": \"Kenya\", \"showlegend\": false, \"type\": \"scatter\", \"x\": [\"2020-03-13T00:00:00\", \"2020-05-10T00:00:00\", \"2020-05-10T00:00:00\", \"2020-03-13T00:00:00\"], \"y\": [73.8, 73.8, 74.2, 74.2]}, {\"fill\": \"toself\", \"fillcolor\": \"rgb(16, 149, 34)\", \"hoverinfo\": \"name\", \"legendgroup\": \"rgb(16, 149, 34)\", \"mode\": \"none\", \"name\": \"Ukraine\", \"showlegend\": false, \"type\": \"scatter\", \"x\": [\"2020-03-03T00:00:00\", \"2020-05-10T00:00:00\", \"2020-05-10T00:00:00\", \"2020-03-03T00:00:00\"], \"y\": [112.8, 112.8, 113.2, 113.2]}, {\"fill\": \"toself\", \"fillcolor\": \"rgb(16, 20, 153)\", \"hoverinfo\": \"name\", \"legendgroup\": \"rgb(16, 20, 153)\", \"mode\": \"none\", \"name\": \"Bosnia and Herzegovina\", \"showlegend\": false, \"type\": \"scatter\", \"x\": [\"2020-03-05T00:00:00\", \"2020-05-10T00:00:00\", \"2020-05-10T00:00:00\", \"2020-03-05T00:00:00\"], \"y\": [104.8, 104.8, 105.2, 105.2]}, {\"fill\": \"toself\", \"fillcolor\": \"rgb(162, 156, 58)\", \"hoverinfo\": \"name\", \"legendgroup\": \"rgb(162, 156, 58)\", \"mode\": \"none\", \"name\": \"Timor-Leste\", \"showlegend\": false, \"type\": \"scatter\", \"x\": [\"2020-03-22T00:00:00\", \"2020-04-25T00:00:00\", \"2020-04-25T00:00:00\", \"2020-03-22T00:00:00\"], \"y\": [17.8, 17.8, 18.2, 18.2]}, {\"fill\": \"toself\", \"fillcolor\": \"rgb(163, 108, 86)\", \"hoverinfo\": \"name\", \"legendgroup\": \"rgb(163, 108, 86)\", \"mode\": \"none\", \"name\": \"Dominica\", \"showlegend\": false, \"type\": \"scatter\", \"x\": [\"2020-03-22T00:00:00\", \"2020-04-11T00:00:00\", \"2020-04-11T00:00:00\", \"2020-03-22T00:00:00\"], \"y\": [4.8, 4.8, 5.2, 5.2]}, {\"fill\": \"toself\", \"fillcolor\": \"rgb(163, 112, 113)\", \"hoverinfo\": \"name\", \"legendgroup\": \"rgb(163, 112, 113)\", \"mode\": \"none\", \"name\": \"Pakistan\", \"showlegend\": false, \"type\": \"scatter\", \"x\": [\"2020-02-26T00:00:00\", \"2020-05-10T00:00:00\", \"2020-05-10T00:00:00\", \"2020-02-26T00:00:00\"], \"y\": [141.8, 141.8, 142.2, 142.2]}, {\"fill\": \"toself\", \"fillcolor\": \"rgb(163, 136, 102)\", \"hoverinfo\": \"name\", \"legendgroup\": \"rgb(163, 136, 102)\", \"mode\": \"none\", \"name\": \"Mauritania\", \"showlegend\": false, \"type\": \"scatter\", \"x\": [\"2020-03-14T00:00:00\", \"2020-04-30T00:00:00\", \"2020-04-30T00:00:00\", \"2020-03-14T00:00:00\"], \"y\": [29.8, 29.8, 30.2, 30.2]}, {\"fill\": \"toself\", \"fillcolor\": \"rgb(167, 162, 76)\", \"hoverinfo\": \"name\", \"legendgroup\": \"rgb(167, 162, 76)\", \"mode\": \"none\", \"name\": \"Bangladesh\", \"showlegend\": false, \"type\": \"scatter\", \"x\": [\"2020-03-08T00:00:00\", \"2020-05-10T00:00:00\", \"2020-05-10T00:00:00\", \"2020-03-08T00:00:00\"], \"y\": [92.8, 92.8, 93.2, 93.2]}, {\"fill\": \"toself\", \"fillcolor\": \"rgb(168, 177, 55)\", \"hoverinfo\": \"name\", \"legendgroup\": \"rgb(168, 177, 55)\", \"mode\": \"none\", \"name\": \"Namibia\", \"showlegend\": false, \"type\": \"scatter\", \"x\": [\"2020-03-14T00:00:00\", \"2020-04-06T00:00:00\", \"2020-04-06T00:00:00\", \"2020-03-14T00:00:00\"], \"y\": [7.8, 7.8, 8.2, 8.2]}, {\"fill\": \"toself\", \"fillcolor\": \"rgb(17, 0, 153)\", \"hoverinfo\": \"name\", \"legendgroup\": \"rgb(17, 0, 153)\", \"mode\": \"none\", \"name\": \"Greece\", \"showlegend\": false, \"type\": \"scatter\", \"x\": [\"2020-02-26T00:00:00\", \"2020-05-10T00:00:00\", \"2020-05-10T00:00:00\", \"2020-02-26T00:00:00\"], \"y\": [139.8, 139.8, 140.2, 140.2]}, {\"fill\": \"toself\", \"fillcolor\": \"rgb(17, 192, 131)\", \"hoverinfo\": \"name\", \"legendgroup\": \"rgb(17, 192, 131)\", \"mode\": \"none\", \"name\": \"Croatia\", \"showlegend\": false, \"type\": \"scatter\", \"x\": [\"2020-02-25T00:00:00\", \"2020-05-10T00:00:00\", \"2020-05-10T00:00:00\", \"2020-02-25T00:00:00\"], \"y\": [149.8, 149.8, 150.2, 150.2]}, {\"fill\": \"toself\", \"fillcolor\": \"rgb(170, 36, 115)\", \"hoverinfo\": \"name\", \"legendgroup\": \"rgb(170, 36, 115)\", \"mode\": \"none\", \"name\": \"Comoros\", \"showlegend\": false, \"type\": \"scatter\", \"x\": [\"2020-04-30T00:00:00\", \"2020-05-10T00:00:00\", \"2020-05-10T00:00:00\", \"2020-04-30T00:00:00\"], \"y\": [0.8, 0.8, 1.2, 1.2]}, {\"fill\": \"toself\", \"fillcolor\": \"rgb(170, 52, 26)\", \"hoverinfo\": \"name\", \"legendgroup\": \"rgb(170, 52, 26)\", \"mode\": \"none\", \"name\": \"Israel\", \"showlegend\": false, \"type\": \"scatter\", \"x\": [\"2020-02-21T00:00:00\", \"2020-05-10T00:00:00\", \"2020-05-10T00:00:00\", \"2020-02-21T00:00:00\"], \"y\": [156.8, 156.8, 157.2, 157.2]}, {\"fill\": \"toself\", \"fillcolor\": \"rgb(171, 57, 36)\", \"hoverinfo\": \"name\", \"legendgroup\": \"rgb(171, 57, 36)\", \"mode\": \"none\", \"name\": \"Taiwan*\", \"showlegend\": false, \"type\": \"scatter\", \"x\": [\"2020-01-22T00:00:00\", \"2020-05-08T00:00:00\", \"2020-05-08T00:00:00\", \"2020-01-22T00:00:00\"], \"y\": [178.8, 178.8, 179.2, 179.2]}, {\"fill\": \"toself\", \"fillcolor\": \"rgb(171, 96, 2)\", \"hoverinfo\": \"name\", \"legendgroup\": \"rgb(171, 96, 2)\", \"mode\": \"none\", \"name\": \"Iraq\", \"showlegend\": false, \"type\": \"scatter\", \"x\": [\"2020-02-24T00:00:00\", \"2020-05-10T00:00:00\", \"2020-05-10T00:00:00\", \"2020-02-24T00:00:00\"], \"y\": [154.8, 154.8, 155.2, 155.2]}, {\"fill\": \"toself\", \"fillcolor\": \"rgb(172, 106, 178)\", \"hoverinfo\": \"name\", \"legendgroup\": \"rgb(172, 106, 178)\", \"mode\": \"none\", \"name\": \"Maldives\", \"showlegend\": false, \"type\": \"scatter\", \"x\": [\"2020-03-08T00:00:00\", \"2020-05-10T00:00:00\", \"2020-05-10T00:00:00\", \"2020-03-08T00:00:00\"], \"y\": [90.8, 90.8, 91.2, 91.2]}, {\"fill\": \"toself\", \"fillcolor\": \"rgb(172, 188, 196)\", \"hoverinfo\": \"name\", \"legendgroup\": \"rgb(172, 188, 196)\", \"mode\": \"none\", \"name\": \"Albania\", \"showlegend\": false, \"type\": \"scatter\", \"x\": [\"2020-03-09T00:00:00\", \"2020-05-10T00:00:00\", \"2020-05-10T00:00:00\", \"2020-03-09T00:00:00\"], \"y\": [88.8, 88.8, 89.2, 89.2]}, {\"fill\": \"toself\", \"fillcolor\": \"rgb(172, 70, 201)\", \"hoverinfo\": \"name\", \"legendgroup\": \"rgb(172, 70, 201)\", \"mode\": \"none\", \"name\": \"China\", \"showlegend\": false, \"type\": \"scatter\", \"x\": [\"2020-01-22T00:00:00\", \"2020-05-10T00:00:00\", \"2020-05-10T00:00:00\", \"2020-01-22T00:00:00\"], \"y\": [181.8, 181.8, 182.2, 182.2]}, {\"fill\": \"toself\", \"fillcolor\": \"rgb(176, 123, 171)\", \"hoverinfo\": \"name\", \"legendgroup\": \"rgb(176, 123, 171)\", \"mode\": \"none\", \"name\": \"Sudan\", \"showlegend\": false, \"type\": \"scatter\", \"x\": [\"2020-03-13T00:00:00\", \"2020-05-10T00:00:00\", \"2020-05-10T00:00:00\", \"2020-03-13T00:00:00\"], \"y\": [70.8, 70.8, 71.2, 71.2]}, {\"fill\": \"toself\", \"fillcolor\": \"rgb(176, 34, 124)\", \"hoverinfo\": \"name\", \"legendgroup\": \"rgb(176, 34, 124)\", \"mode\": \"none\", \"name\": \"Oman\", \"showlegend\": false, \"type\": \"scatter\", \"x\": [\"2020-02-24T00:00:00\", \"2020-05-10T00:00:00\", \"2020-05-10T00:00:00\", \"2020-02-24T00:00:00\"], \"y\": [153.8, 153.8, 154.2, 154.2]}, {\"fill\": \"toself\", \"fillcolor\": \"rgb(178, 71, 20)\", \"hoverinfo\": \"name\", \"legendgroup\": \"rgb(178, 71, 20)\", \"mode\": \"none\", \"name\": \"Malawi\", \"showlegend\": false, \"type\": \"scatter\", \"x\": [\"2020-04-02T00:00:00\", \"2020-05-10T00:00:00\", \"2020-05-10T00:00:00\", \"2020-04-02T00:00:00\"], \"y\": [19.8, 19.8, 20.2, 20.2]}, {\"fill\": \"toself\", \"fillcolor\": \"rgb(179, 10, 33)\", \"hoverinfo\": \"name\", \"legendgroup\": \"rgb(179, 10, 33)\", \"mode\": \"none\", \"name\": \"Malaysia\", \"showlegend\": false, \"type\": \"scatter\", \"x\": [\"2020-01-25T00:00:00\", \"2020-05-10T00:00:00\", \"2020-05-10T00:00:00\", \"2020-01-25T00:00:00\"], \"y\": [174.8, 174.8, 175.2, 175.2]}, {\"fill\": \"toself\", \"fillcolor\": \"rgb(179, 133, 188)\", \"hoverinfo\": \"name\", \"legendgroup\": \"rgb(179, 133, 188)\", \"mode\": \"none\", \"name\": \"Austria\", \"showlegend\": false, \"type\": \"scatter\", \"x\": [\"2020-02-25T00:00:00\", \"2020-05-10T00:00:00\", \"2020-05-10T00:00:00\", \"2020-02-25T00:00:00\"], \"y\": [146.8, 146.8, 147.2, 147.2]}, {\"fill\": \"toself\", \"fillcolor\": \"rgb(181, 120, 170)\", \"hoverinfo\": \"name\", \"legendgroup\": \"rgb(181, 120, 170)\", \"mode\": \"none\", \"name\": \"Slovakia\", \"showlegend\": false, \"type\": \"scatter\", \"x\": [\"2020-03-06T00:00:00\", \"2020-05-09T00:00:00\", \"2020-05-09T00:00:00\", \"2020-03-06T00:00:00\"], \"y\": [96.8, 96.8, 97.2, 97.2]}, {\"fill\": \"toself\", \"fillcolor\": \"rgb(182, 204, 163)\", \"hoverinfo\": \"name\", \"legendgroup\": \"rgb(182, 204, 163)\", \"mode\": \"none\", \"name\": \"Kyrgyzstan\", \"showlegend\": false, \"type\": \"scatter\", \"x\": [\"2020-03-18T00:00:00\", \"2020-05-10T00:00:00\", \"2020-05-10T00:00:00\", \"2020-03-18T00:00:00\"], \"y\": [48.8, 48.8, 49.2, 49.2]}, {\"fill\": \"toself\", \"fillcolor\": \"rgb(183, 19, 24)\", \"hoverinfo\": \"name\", \"legendgroup\": \"rgb(183, 19, 24)\", \"mode\": \"none\", \"name\": \"Zimbabwe\", \"showlegend\": false, \"type\": \"scatter\", \"x\": [\"2020-03-20T00:00:00\", \"2020-05-10T00:00:00\", \"2020-05-10T00:00:00\", \"2020-03-20T00:00:00\"], \"y\": [39.8, 39.8, 40.2, 40.2]}, {\"fill\": \"toself\", \"fillcolor\": \"rgb(183, 20, 101)\", \"hoverinfo\": \"name\", \"legendgroup\": \"rgb(183, 20, 101)\", \"mode\": \"none\", \"name\": \"West Bank and Gaza\", \"showlegend\": false, \"type\": \"scatter\", \"x\": [\"2020-03-05T00:00:00\", \"2020-05-08T00:00:00\", \"2020-05-08T00:00:00\", \"2020-03-05T00:00:00\"], \"y\": [95.8, 95.8, 96.2, 96.2]}, {\"fill\": \"toself\", \"fillcolor\": \"rgb(184, 200, 200)\", \"hoverinfo\": \"name\", \"legendgroup\": \"rgb(184, 200, 200)\", \"mode\": \"none\", \"name\": \"Cabo Verde\", \"showlegend\": false, \"type\": \"scatter\", \"x\": [\"2020-03-20T00:00:00\", \"2020-05-10T00:00:00\", \"2020-05-10T00:00:00\", \"2020-03-20T00:00:00\"], \"y\": [42.8, 42.8, 43.2, 43.2]}, {\"fill\": \"toself\", \"fillcolor\": \"rgb(184, 58, 114)\", \"hoverinfo\": \"name\", \"legendgroup\": \"rgb(184, 58, 114)\", \"mode\": \"none\", \"name\": \"Finland\", \"showlegend\": false, \"type\": \"scatter\", \"x\": [\"2020-01-29T00:00:00\", \"2020-05-10T00:00:00\", \"2020-05-10T00:00:00\", \"2020-01-29T00:00:00\"], \"y\": [169.8, 169.8, 170.2, 170.2]}, {\"fill\": \"toself\", \"fillcolor\": \"rgb(185, 185, 85)\", \"hoverinfo\": \"name\", \"legendgroup\": \"rgb(185, 185, 85)\", \"mode\": \"none\", \"name\": \"Nepal\", \"showlegend\": false, \"type\": \"scatter\", \"x\": [\"2020-01-25T00:00:00\", \"2020-05-10T00:00:00\", \"2020-05-10T00:00:00\", \"2020-01-25T00:00:00\"], \"y\": [175.8, 175.8, 176.2, 176.2]}, {\"fill\": \"toself\", \"fillcolor\": \"rgb(186, 195, 16)\", \"hoverinfo\": \"name\", \"legendgroup\": \"rgb(186, 195, 16)\", \"mode\": \"none\", \"name\": \"Cambodia\", \"showlegend\": false, \"type\": \"scatter\", \"x\": [\"2020-01-27T00:00:00\", \"2020-04-13T00:00:00\", \"2020-04-13T00:00:00\", \"2020-01-27T00:00:00\"], \"y\": [155.8, 155.8, 156.2, 156.2]}, {\"fill\": \"toself\", \"fillcolor\": \"rgb(186, 22, 112)\", \"hoverinfo\": \"name\", \"legendgroup\": \"rgb(186, 22, 112)\", \"mode\": \"none\", \"name\": \"Uganda\", \"showlegend\": false, \"type\": \"scatter\", \"x\": [\"2020-03-21T00:00:00\", \"2020-05-10T00:00:00\", \"2020-05-10T00:00:00\", \"2020-03-21T00:00:00\"], \"y\": [35.8, 35.8, 36.2, 36.2]}, {\"fill\": \"toself\", \"fillcolor\": \"rgb(187, 7, 96)\", \"hoverinfo\": \"name\", \"legendgroup\": \"rgb(187, 7, 96)\", \"mode\": \"none\", \"name\": \"Panama\", \"showlegend\": false, \"type\": \"scatter\", \"x\": [\"2020-03-10T00:00:00\", \"2020-05-10T00:00:00\", \"2020-05-10T00:00:00\", \"2020-03-10T00:00:00\"], \"y\": [85.8, 85.8, 86.2, 86.2]}, {\"fill\": \"toself\", \"fillcolor\": \"rgb(19, 122, 119)\", \"hoverinfo\": \"name\", \"legendgroup\": \"rgb(19, 122, 119)\", \"mode\": \"none\", \"name\": \"Somalia\", \"showlegend\": false, \"type\": \"scatter\", \"x\": [\"2020-03-16T00:00:00\", \"2020-05-10T00:00:00\", \"2020-05-10T00:00:00\", \"2020-03-16T00:00:00\"], \"y\": [57.8, 57.8, 58.2, 58.2]}, {\"fill\": \"toself\", \"fillcolor\": \"rgb(19, 50, 53)\", \"hoverinfo\": \"name\", \"legendgroup\": \"rgb(19, 50, 53)\", \"mode\": \"none\", \"name\": \"Estonia\", \"showlegend\": false, \"type\": \"scatter\", \"x\": [\"2020-02-27T00:00:00\", \"2020-05-10T00:00:00\", \"2020-05-10T00:00:00\", \"2020-02-27T00:00:00\"], \"y\": [136.8, 136.8, 137.2, 137.2]}, {\"fill\": \"toself\", \"fillcolor\": \"rgb(193, 122, 118)\", \"hoverinfo\": \"name\", \"legendgroup\": \"rgb(193, 122, 118)\", \"mode\": \"none\", \"name\": \"San Marino\", \"showlegend\": false, \"type\": \"scatter\", \"x\": [\"2020-02-27T00:00:00\", \"2020-05-10T00:00:00\", \"2020-05-10T00:00:00\", \"2020-02-27T00:00:00\"], \"y\": [135.8, 135.8, 136.2, 136.2]}, {\"fill\": \"toself\", \"fillcolor\": \"rgb(195, 0, 1)\", \"hoverinfo\": \"name\", \"legendgroup\": \"rgb(195, 0, 1)\", \"mode\": \"none\", \"name\": \"Brazil\", \"showlegend\": false, \"type\": \"scatter\", \"x\": [\"2020-02-26T00:00:00\", \"2020-05-10T00:00:00\", \"2020-05-10T00:00:00\", \"2020-02-26T00:00:00\"], \"y\": [144.8, 144.8, 145.2, 145.2]}, {\"fill\": \"toself\", \"fillcolor\": \"rgb(195, 122, 149)\", \"hoverinfo\": \"name\", \"legendgroup\": \"rgb(195, 122, 149)\", \"mode\": \"none\", \"name\": \"Angola\", \"showlegend\": false, \"type\": \"scatter\", \"x\": [\"2020-03-20T00:00:00\", \"2020-05-09T00:00:00\", \"2020-05-09T00:00:00\", \"2020-03-20T00:00:00\"], \"y\": [37.8, 37.8, 38.2, 38.2]}, {\"fill\": \"toself\", \"fillcolor\": \"rgb(195, 25, 70)\", \"hoverinfo\": \"name\", \"legendgroup\": \"rgb(195, 25, 70)\", \"mode\": \"none\", \"name\": \"Nicaragua\", \"showlegend\": false, \"type\": \"scatter\", \"x\": [\"2020-03-19T00:00:00\", \"2020-05-06T00:00:00\", \"2020-05-06T00:00:00\", \"2020-03-19T00:00:00\"], \"y\": [30.8, 30.8, 31.2, 31.2]}, {\"fill\": \"toself\", \"fillcolor\": \"rgb(198, 106, 8)\", \"hoverinfo\": \"name\", \"legendgroup\": \"rgb(198, 106, 8)\", \"mode\": \"none\", \"name\": \"Czechia\", \"showlegend\": false, \"type\": \"scatter\", \"x\": [\"2020-03-01T00:00:00\", \"2020-05-10T00:00:00\", \"2020-05-10T00:00:00\", \"2020-03-01T00:00:00\"], \"y\": [124.8, 124.8, 125.2, 125.2]}, {\"fill\": \"toself\", \"fillcolor\": \"rgb(198, 42, 72)\", \"hoverinfo\": \"name\", \"legendgroup\": \"rgb(198, 42, 72)\", \"mode\": \"none\", \"name\": \"Philippines\", \"showlegend\": false, \"type\": \"scatter\", \"x\": [\"2020-01-30T00:00:00\", \"2020-05-10T00:00:00\", \"2020-05-10T00:00:00\", \"2020-01-30T00:00:00\"], \"y\": [167.8, 167.8, 168.2, 168.2]}, {\"fill\": \"toself\", \"fillcolor\": \"rgb(198, 57, 50)\", \"hoverinfo\": \"name\", \"legendgroup\": \"rgb(198, 57, 50)\", \"mode\": \"none\", \"name\": \"Ghana\", \"showlegend\": false, \"type\": \"scatter\", \"x\": [\"2020-03-14T00:00:00\", \"2020-05-10T00:00:00\", \"2020-05-10T00:00:00\", \"2020-03-14T00:00:00\"], \"y\": [65.8, 65.8, 66.2, 66.2]}, {\"fill\": \"toself\", \"fillcolor\": \"rgb(198, 68, 72)\", \"hoverinfo\": \"name\", \"legendgroup\": \"rgb(198, 68, 72)\", \"mode\": \"none\", \"name\": \"Switzerland\", \"showlegend\": false, \"type\": \"scatter\", \"x\": [\"2020-02-25T00:00:00\", \"2020-05-10T00:00:00\", \"2020-05-10T00:00:00\", \"2020-02-25T00:00:00\"], \"y\": [147.8, 147.8, 148.2, 148.2]}, {\"fill\": \"toself\", \"fillcolor\": \"rgb(198, 71, 186)\", \"hoverinfo\": \"name\", \"legendgroup\": \"rgb(198, 71, 186)\", \"mode\": \"none\", \"name\": \"Saint Vincent and the Grenadines\", \"showlegend\": false, \"type\": \"scatter\", \"x\": [\"2020-03-14T00:00:00\", \"2020-05-05T00:00:00\", \"2020-05-05T00:00:00\", \"2020-03-14T00:00:00\"], \"y\": [44.8, 44.8, 45.2, 45.2]}, {\"fill\": \"toself\", \"fillcolor\": \"rgb(199, 38, 37)\", \"hoverinfo\": \"name\", \"legendgroup\": \"rgb(199, 38, 37)\", \"mode\": \"none\", \"name\": \"Malta\", \"showlegend\": false, \"type\": \"scatter\", \"x\": [\"2020-03-07T00:00:00\", \"2020-05-10T00:00:00\", \"2020-05-10T00:00:00\", \"2020-03-07T00:00:00\"], \"y\": [94.8, 94.8, 95.2, 95.2]}, {\"fill\": \"toself\", \"fillcolor\": \"rgb(2, 194, 73)\", \"hoverinfo\": \"name\", \"legendgroup\": \"rgb(2, 194, 73)\", \"mode\": \"none\", \"name\": \"Poland\", \"showlegend\": false, \"type\": \"scatter\", \"x\": [\"2020-03-04T00:00:00\", \"2020-05-10T00:00:00\", \"2020-05-10T00:00:00\", \"2020-03-04T00:00:00\"], \"y\": [106.8, 106.8, 107.2, 107.2]}, {\"fill\": \"toself\", \"fillcolor\": \"rgb(20, 56, 101)\", \"hoverinfo\": \"name\", \"legendgroup\": \"rgb(20, 56, 101)\", \"mode\": \"none\", \"name\": \"Azerbaijan\", \"showlegend\": false, \"type\": \"scatter\", \"x\": [\"2020-03-01T00:00:00\", \"2020-05-10T00:00:00\", \"2020-05-10T00:00:00\", \"2020-03-01T00:00:00\"], \"y\": [123.8, 123.8, 124.2, 124.2]}, {\"fill\": \"toself\", \"fillcolor\": \"rgb(201, 5, 185)\", \"hoverinfo\": \"name\", \"legendgroup\": \"rgb(201, 5, 185)\", \"mode\": \"none\", \"name\": \"Indonesia\", \"showlegend\": false, \"type\": \"scatter\", \"x\": [\"2020-03-02T00:00:00\", \"2020-05-10T00:00:00\", \"2020-05-10T00:00:00\", \"2020-03-02T00:00:00\"], \"y\": [118.8, 118.8, 119.2, 119.2]}, {\"fill\": \"toself\", \"fillcolor\": \"rgb(201, 74, 55)\", \"hoverinfo\": \"name\", \"legendgroup\": \"rgb(201, 74, 55)\", \"mode\": \"none\", \"name\": \"Japan\", \"showlegend\": false, \"type\": \"scatter\", \"x\": [\"2020-01-22T00:00:00\", \"2020-05-10T00:00:00\", \"2020-05-10T00:00:00\", \"2020-01-22T00:00:00\"], \"y\": [182.8, 182.8, 183.2, 183.2]}, {\"fill\": \"toself\", \"fillcolor\": \"rgb(203, 102, 52)\", \"hoverinfo\": \"name\", \"legendgroup\": \"rgb(203, 102, 52)\", \"mode\": \"none\", \"name\": \"Zambia\", \"showlegend\": false, \"type\": \"scatter\", \"x\": [\"2020-03-18T00:00:00\", \"2020-05-10T00:00:00\", \"2020-05-10T00:00:00\", \"2020-03-18T00:00:00\"], \"y\": [50.8, 50.8, 51.2, 51.2]}, {\"fill\": \"toself\", \"fillcolor\": \"rgb(203, 27, 176)\", \"hoverinfo\": \"name\", \"legendgroup\": \"rgb(203, 27, 176)\", \"mode\": \"none\", \"name\": \"Kazakhstan\", \"showlegend\": false, \"type\": \"scatter\", \"x\": [\"2020-03-13T00:00:00\", \"2020-05-10T00:00:00\", \"2020-05-10T00:00:00\", \"2020-03-13T00:00:00\"], \"y\": [69.8, 69.8, 70.2, 70.2]}, {\"fill\": \"toself\", \"fillcolor\": \"rgb(203, 28, 176)\", \"hoverinfo\": \"name\", \"legendgroup\": \"rgb(203, 28, 176)\", \"mode\": \"none\", \"name\": \"Norway\", \"showlegend\": false, \"type\": \"scatter\", \"x\": [\"2020-02-26T00:00:00\", \"2020-05-10T00:00:00\", \"2020-05-10T00:00:00\", \"2020-02-26T00:00:00\"], \"y\": [142.8, 142.8, 143.2, 143.2]}, {\"fill\": \"toself\", \"fillcolor\": \"rgb(204, 25, 144)\", \"hoverinfo\": \"name\", \"legendgroup\": \"rgb(204, 25, 144)\", \"mode\": \"none\", \"name\": \"Netherlands\", \"showlegend\": false, \"type\": \"scatter\", \"x\": [\"2020-02-27T00:00:00\", \"2020-05-10T00:00:00\", \"2020-05-10T00:00:00\", \"2020-02-27T00:00:00\"], \"y\": [137.8, 137.8, 138.2, 138.2]}, {\"fill\": \"toself\", \"fillcolor\": \"rgb(22, 96, 51)\", \"hoverinfo\": \"name\", \"legendgroup\": \"rgb(22, 96, 51)\", \"mode\": \"none\", \"name\": \"Bolivia\", \"showlegend\": false, \"type\": \"scatter\", \"x\": [\"2020-03-11T00:00:00\", \"2020-05-10T00:00:00\", \"2020-05-10T00:00:00\", \"2020-03-11T00:00:00\"], \"y\": [81.8, 81.8, 82.2, 82.2]}, {\"fill\": \"toself\", \"fillcolor\": \"rgb(23, 155, 114)\", \"hoverinfo\": \"name\", \"legendgroup\": \"rgb(23, 155, 114)\", \"mode\": \"none\", \"name\": \"Lebanon\", \"showlegend\": false, \"type\": \"scatter\", \"x\": [\"2020-02-21T00:00:00\", \"2020-05-10T00:00:00\", \"2020-05-10T00:00:00\", \"2020-02-21T00:00:00\"], \"y\": [157.8, 157.8, 158.2, 158.2]}, {\"fill\": \"toself\", \"fillcolor\": \"rgb(23, 53, 106)\", \"hoverinfo\": \"name\", \"legendgroup\": \"rgb(23, 53, 106)\", \"mode\": \"none\", \"name\": \"Bulgaria\", \"showlegend\": false, \"type\": \"scatter\", \"x\": [\"2020-03-08T00:00:00\", \"2020-05-10T00:00:00\", \"2020-05-10T00:00:00\", \"2020-03-08T00:00:00\"], \"y\": [91.8, 91.8, 92.2, 92.2]}, {\"fill\": \"toself\", \"fillcolor\": \"rgb(24, 155, 170)\", \"hoverinfo\": \"name\", \"legendgroup\": \"rgb(24, 155, 170)\", \"mode\": \"none\", \"name\": \"Luxembourg\", \"showlegend\": false, \"type\": \"scatter\", \"x\": [\"2020-02-29T00:00:00\", \"2020-05-10T00:00:00\", \"2020-05-10T00:00:00\", \"2020-02-29T00:00:00\"], \"y\": [129.8, 129.8, 130.2, 130.2]}, {\"fill\": \"toself\", \"fillcolor\": \"rgb(24, 42, 8)\", \"hoverinfo\": \"name\", \"legendgroup\": \"rgb(24, 42, 8)\", \"mode\": \"none\", \"name\": \"Ireland\", \"showlegend\": false, \"type\": \"scatter\", \"x\": [\"2020-02-29T00:00:00\", \"2020-05-10T00:00:00\", \"2020-05-10T00:00:00\", \"2020-02-29T00:00:00\"], \"y\": [126.8, 126.8, 127.2, 127.2]}, {\"fill\": \"toself\", \"fillcolor\": \"rgb(25, 56, 146)\", \"hoverinfo\": \"name\", \"legendgroup\": \"rgb(25, 56, 146)\", \"mode\": \"none\", \"name\": \"Morocco\", \"showlegend\": false, \"type\": \"scatter\", \"x\": [\"2020-03-02T00:00:00\", \"2020-05-10T00:00:00\", \"2020-05-10T00:00:00\", \"2020-03-02T00:00:00\"], \"y\": [119.8, 119.8, 120.2, 120.2]}, {\"fill\": \"toself\", \"fillcolor\": \"rgb(26, 137, 197)\", \"hoverinfo\": \"name\", \"legendgroup\": \"rgb(26, 137, 197)\", \"mode\": \"none\", \"name\": \"Portugal\", \"showlegend\": false, \"type\": \"scatter\", \"x\": [\"2020-03-02T00:00:00\", \"2020-05-10T00:00:00\", \"2020-05-10T00:00:00\", \"2020-03-02T00:00:00\"], \"y\": [114.8, 114.8, 115.2, 115.2]}, {\"fill\": \"toself\", \"fillcolor\": \"rgb(28, 160, 202)\", \"hoverinfo\": \"name\", \"legendgroup\": \"rgb(28, 160, 202)\", \"mode\": \"none\", \"name\": \"Tanzania\", \"showlegend\": false, \"type\": \"scatter\", \"x\": [\"2020-03-16T00:00:00\", \"2020-05-09T00:00:00\", \"2020-05-09T00:00:00\", \"2020-03-16T00:00:00\"], \"y\": [54.8, 54.8, 55.2, 55.2]}, {\"fill\": \"toself\", \"fillcolor\": \"rgb(28, 86, 124)\", \"hoverinfo\": \"name\", \"legendgroup\": \"rgb(28, 86, 124)\", \"mode\": \"none\", \"name\": \"Iceland\", \"showlegend\": false, \"type\": \"scatter\", \"x\": [\"2020-02-28T00:00:00\", \"2020-05-08T00:00:00\", \"2020-05-08T00:00:00\", \"2020-02-28T00:00:00\"], \"y\": [121.8, 121.8, 122.2, 122.2]}, {\"fill\": \"toself\", \"fillcolor\": \"rgb(36, 144, 71)\", \"hoverinfo\": \"name\", \"legendgroup\": \"rgb(36, 144, 71)\", \"mode\": \"none\", \"name\": \"Ecuador\", \"showlegend\": false, \"type\": \"scatter\", \"x\": [\"2020-03-01T00:00:00\", \"2020-05-10T00:00:00\", \"2020-05-10T00:00:00\", \"2020-03-01T00:00:00\"], \"y\": [120.8, 120.8, 121.2, 121.2]}, {\"fill\": \"toself\", \"fillcolor\": \"rgb(36, 70, 114)\", \"hoverinfo\": \"name\", \"legendgroup\": \"rgb(36, 70, 114)\", \"mode\": \"none\", \"name\": \"Suriname\", \"showlegend\": false, \"type\": \"scatter\", \"x\": [\"2020-03-14T00:00:00\", \"2020-04-02T00:00:00\", \"2020-04-02T00:00:00\", \"2020-03-14T00:00:00\"], \"y\": [2.8, 2.8, 3.2, 3.2]}, {\"fill\": \"toself\", \"fillcolor\": \"rgb(37, 119, 25)\", \"hoverinfo\": \"name\", \"legendgroup\": \"rgb(37, 119, 25)\", \"mode\": \"none\", \"name\": \"Tunisia\", \"showlegend\": false, \"type\": \"scatter\", \"x\": [\"2020-03-04T00:00:00\", \"2020-05-10T00:00:00\", \"2020-05-10T00:00:00\", \"2020-03-04T00:00:00\"], \"y\": [108.8, 108.8, 109.2, 109.2]}, {\"fill\": \"toself\", \"fillcolor\": \"rgb(38, 188, 145)\", \"hoverinfo\": \"name\", \"legendgroup\": \"rgb(38, 188, 145)\", \"mode\": \"none\", \"name\": \"Venezuela\", \"showlegend\": false, \"type\": \"scatter\", \"x\": [\"2020-03-14T00:00:00\", \"2020-05-10T00:00:00\", \"2020-05-10T00:00:00\", \"2020-03-14T00:00:00\"], \"y\": [64.8, 64.8, 65.2, 65.2]}, {\"fill\": \"toself\", \"fillcolor\": \"rgb(38, 59, 89)\", \"hoverinfo\": \"name\", \"legendgroup\": \"rgb(38, 59, 89)\", \"mode\": \"none\", \"name\": \"Iran\", \"showlegend\": false, \"type\": \"scatter\", \"x\": [\"2020-02-19T00:00:00\", \"2020-05-10T00:00:00\", \"2020-05-10T00:00:00\", \"2020-02-19T00:00:00\"], \"y\": [158.8, 158.8, 159.2, 159.2]}, {\"fill\": \"toself\", \"fillcolor\": \"rgb(38, 75, 117)\", \"hoverinfo\": \"name\", \"legendgroup\": \"rgb(38, 75, 117)\", \"mode\": \"none\", \"name\": \"Guatemala\", \"showlegend\": false, \"type\": \"scatter\", \"x\": [\"2020-03-14T00:00:00\", \"2020-05-10T00:00:00\", \"2020-05-10T00:00:00\", \"2020-03-14T00:00:00\"], \"y\": [67.8, 67.8, 68.2, 68.2]}, {\"fill\": \"toself\", \"fillcolor\": \"rgb(39, 169, 26)\", \"hoverinfo\": \"name\", \"legendgroup\": \"rgb(39, 169, 26)\", \"mode\": \"none\", \"name\": \"Greenland\", \"showlegend\": false, \"type\": \"scatter\", \"x\": [\"2020-03-16T00:00:00\", \"2020-04-05T00:00:00\", \"2020-04-05T00:00:00\", \"2020-03-16T00:00:00\"], \"y\": [3.8, 3.8, 4.2, 4.2]}, {\"fill\": \"toself\", \"fillcolor\": \"rgb(40, 138, 183)\", \"hoverinfo\": \"name\", \"legendgroup\": \"rgb(40, 138, 183)\", \"mode\": \"none\", \"name\": \"Romania\", \"showlegend\": false, \"type\": \"scatter\", \"x\": [\"2020-02-26T00:00:00\", \"2020-05-10T00:00:00\", \"2020-05-10T00:00:00\", \"2020-02-26T00:00:00\"], \"y\": [145.8, 145.8, 146.2, 146.2]}, {\"fill\": \"toself\", \"fillcolor\": \"rgb(40, 82, 194)\", \"hoverinfo\": \"name\", \"legendgroup\": \"rgb(40, 82, 194)\", \"mode\": \"none\", \"name\": \"Equatorial Guinea\", \"showlegend\": false, \"type\": \"scatter\", \"x\": [\"2020-03-15T00:00:00\", \"2020-05-07T00:00:00\", \"2020-05-07T00:00:00\", \"2020-03-15T00:00:00\"], \"y\": [52.8, 52.8, 53.2, 53.2]}, {\"fill\": \"toself\", \"fillcolor\": \"rgb(41, 129, 124)\", \"hoverinfo\": \"name\", \"legendgroup\": \"rgb(41, 129, 124)\", \"mode\": \"none\", \"name\": \"Ethiopia\", \"showlegend\": false, \"type\": \"scatter\", \"x\": [\"2020-03-13T00:00:00\", \"2020-05-10T00:00:00\", \"2020-05-10T00:00:00\", \"2020-03-13T00:00:00\"], \"y\": [74.8, 74.8, 75.2, 75.2]}, {\"fill\": \"toself\", \"fillcolor\": \"rgb(43, 152, 53)\", \"hoverinfo\": \"name\", \"legendgroup\": \"rgb(43, 152, 53)\", \"mode\": \"none\", \"name\": \"Yemen\", \"showlegend\": false, \"type\": \"scatter\", \"x\": [\"2020-04-10T00:00:00\", \"2020-05-09T00:00:00\", \"2020-05-09T00:00:00\", \"2020-04-10T00:00:00\"], \"y\": [11.8, 11.8, 12.2, 12.2]}, {\"fill\": \"toself\", \"fillcolor\": \"rgb(43, 80, 82)\", \"hoverinfo\": \"name\", \"legendgroup\": \"rgb(43, 80, 82)\", \"mode\": \"none\", \"name\": \"France\", \"showlegend\": false, \"type\": \"scatter\", \"x\": [\"2020-01-24T00:00:00\", \"2020-05-10T00:00:00\", \"2020-05-10T00:00:00\", \"2020-01-24T00:00:00\"], \"y\": [177.8, 177.8, 178.2, 178.2]}, {\"fill\": \"toself\", \"fillcolor\": \"rgb(48, 131, 182)\", \"hoverinfo\": \"name\", \"legendgroup\": \"rgb(48, 131, 182)\", \"mode\": \"none\", \"name\": \"Fiji\", \"showlegend\": false, \"type\": \"scatter\", \"x\": [\"2020-03-19T00:00:00\", \"2020-04-21T00:00:00\", \"2020-04-21T00:00:00\", \"2020-03-19T00:00:00\"], \"y\": [13.8, 13.8, 14.2, 14.2]}, {\"fill\": \"toself\", \"fillcolor\": \"rgb(49, 86, 16)\", \"hoverinfo\": \"name\", \"legendgroup\": \"rgb(49, 86, 16)\", \"mode\": \"none\", \"name\": \"Turkey\", \"showlegend\": false, \"type\": \"scatter\", \"x\": [\"2020-03-11T00:00:00\", \"2020-05-10T00:00:00\", \"2020-05-10T00:00:00\", \"2020-03-11T00:00:00\"], \"y\": [78.8, 78.8, 79.2, 79.2]}, {\"fill\": \"toself\", \"fillcolor\": \"rgb(5, 186, 86)\", \"hoverinfo\": \"name\", \"legendgroup\": \"rgb(5, 186, 86)\", \"mode\": \"none\", \"name\": \"North Macedonia\", \"showlegend\": false, \"type\": \"scatter\", \"x\": [\"2020-02-26T00:00:00\", \"2020-05-10T00:00:00\", \"2020-05-10T00:00:00\", \"2020-02-26T00:00:00\"], \"y\": [143.8, 143.8, 144.2, 144.2]}, {\"fill\": \"toself\", \"fillcolor\": \"rgb(50, 197, 83)\", \"hoverinfo\": \"name\", \"legendgroup\": \"rgb(50, 197, 83)\", \"mode\": \"none\", \"name\": \"Togo\", \"showlegend\": false, \"type\": \"scatter\", \"x\": [\"2020-03-06T00:00:00\", \"2020-05-10T00:00:00\", \"2020-05-10T00:00:00\", \"2020-03-06T00:00:00\"], \"y\": [101.8, 101.8, 102.2, 102.2]}, {\"fill\": \"toself\", \"fillcolor\": \"rgb(51, 153, 21)\", \"hoverinfo\": \"name\", \"legendgroup\": \"rgb(51, 153, 21)\", \"mode\": \"none\", \"name\": \"Congo (Kinshasa)\", \"showlegend\": false, \"type\": \"scatter\", \"x\": [\"2020-03-11T00:00:00\", \"2020-05-09T00:00:00\", \"2020-05-09T00:00:00\", \"2020-03-11T00:00:00\"], \"y\": [77.8, 77.8, 78.2, 78.2]}, {\"fill\": \"toself\", \"fillcolor\": \"rgb(51, 177, 112)\", \"hoverinfo\": \"name\", \"legendgroup\": \"rgb(51, 177, 112)\", \"mode\": \"none\", \"name\": \"Cote d'Ivoire\", \"showlegend\": false, \"type\": \"scatter\", \"x\": [\"2020-03-11T00:00:00\", \"2020-05-10T00:00:00\", \"2020-05-10T00:00:00\", \"2020-03-11T00:00:00\"], \"y\": [79.8, 79.8, 80.2, 80.2]}, {\"fill\": \"toself\", \"fillcolor\": \"rgb(51, 202, 192)\", \"hoverinfo\": \"name\", \"legendgroup\": \"rgb(51, 202, 192)\", \"mode\": \"none\", \"name\": \"South Africa\", \"showlegend\": false, \"type\": \"scatter\", \"x\": [\"2020-03-05T00:00:00\", \"2020-05-10T00:00:00\", \"2020-05-10T00:00:00\", \"2020-03-05T00:00:00\"], \"y\": [103.8, 103.8, 104.2, 104.2]}, {\"fill\": \"toself\", \"fillcolor\": \"rgb(51, 32, 86)\", \"hoverinfo\": \"name\", \"legendgroup\": \"rgb(51, 32, 86)\", \"mode\": \"none\", \"name\": \"Dominican Republic\", \"showlegend\": false, \"type\": \"scatter\", \"x\": [\"2020-03-01T00:00:00\", \"2020-05-10T00:00:00\", \"2020-05-10T00:00:00\", \"2020-03-01T00:00:00\"], \"y\": [125.8, 125.8, 126.2, 126.2]}, {\"fill\": \"toself\", \"fillcolor\": \"rgb(53, 116, 84)\", \"hoverinfo\": \"name\", \"legendgroup\": \"rgb(53, 116, 84)\", \"mode\": \"none\", \"name\": \"Trinidad and Tobago\", \"showlegend\": false, \"type\": \"scatter\", \"x\": [\"2020-03-14T00:00:00\", \"2020-04-28T00:00:00\", \"2020-04-28T00:00:00\", \"2020-03-14T00:00:00\"], \"y\": [26.8, 26.8, 27.2, 27.2]}, {\"fill\": \"toself\", \"fillcolor\": \"rgb(54, 50, 40)\", \"hoverinfo\": \"name\", \"legendgroup\": \"rgb(54, 50, 40)\", \"mode\": \"none\", \"name\": \"Chad\", \"showlegend\": false, \"type\": \"scatter\", \"x\": [\"2020-03-19T00:00:00\", \"2020-05-10T00:00:00\", \"2020-05-10T00:00:00\", \"2020-03-19T00:00:00\"], \"y\": [45.8, 45.8, 46.2, 46.2]}, {\"fill\": \"toself\", \"fillcolor\": \"rgb(55, 194, 97)\", \"hoverinfo\": \"name\", \"legendgroup\": \"rgb(55, 194, 97)\", \"mode\": \"none\", \"name\": \"Afghanistan\", \"showlegend\": false, \"type\": \"scatter\", \"x\": [\"2020-02-24T00:00:00\", \"2020-05-10T00:00:00\", \"2020-05-10T00:00:00\", \"2020-02-24T00:00:00\"], \"y\": [150.8, 150.8, 151.2, 151.2]}, {\"fill\": \"toself\", \"fillcolor\": \"rgb(56, 202, 198)\", \"hoverinfo\": \"name\", \"legendgroup\": \"rgb(56, 202, 198)\", \"mode\": \"none\", \"name\": \"Rwanda\", \"showlegend\": false, \"type\": \"scatter\", \"x\": [\"2020-03-14T00:00:00\", \"2020-05-10T00:00:00\", \"2020-05-10T00:00:00\", \"2020-03-14T00:00:00\"], \"y\": [66.8, 66.8, 67.2, 67.2]}, {\"fill\": \"toself\", \"fillcolor\": \"rgb(56, 44, 182)\", \"hoverinfo\": \"name\", \"legendgroup\": \"rgb(56, 44, 182)\", \"mode\": \"none\", \"name\": \"Jordan\", \"showlegend\": false, \"type\": \"scatter\", \"x\": [\"2020-03-03T00:00:00\", \"2020-05-10T00:00:00\", \"2020-05-10T00:00:00\", \"2020-03-03T00:00:00\"], \"y\": [111.8, 111.8, 112.2, 112.2]}, {\"fill\": \"toself\", \"fillcolor\": \"rgb(57, 144, 16)\", \"hoverinfo\": \"name\", \"legendgroup\": \"rgb(57, 144, 16)\", \"mode\": \"none\", \"name\": \"Lithuania\", \"showlegend\": false, \"type\": \"scatter\", \"x\": [\"2020-02-28T00:00:00\", \"2020-05-10T00:00:00\", \"2020-05-10T00:00:00\", \"2020-02-28T00:00:00\"], \"y\": [134.8, 134.8, 135.2, 135.2]}, {\"fill\": \"toself\", \"fillcolor\": \"rgb(57, 148, 182)\", \"hoverinfo\": \"name\", \"legendgroup\": \"rgb(57, 148, 182)\", \"mode\": \"none\", \"name\": \"US\", \"showlegend\": false, \"type\": \"scatter\", \"x\": [\"2020-01-22T00:00:00\", \"2020-05-10T00:00:00\", \"2020-05-10T00:00:00\", \"2020-01-22T00:00:00\"], \"y\": [184.8, 184.8, 185.2, 185.2]}, {\"fill\": \"toself\", \"fillcolor\": \"rgb(59, 38, 134)\", \"hoverinfo\": \"name\", \"legendgroup\": \"rgb(59, 38, 134)\", \"mode\": \"none\", \"name\": \"Burundi\", \"showlegend\": false, \"type\": \"scatter\", \"x\": [\"2020-03-31T00:00:00\", \"2020-05-03T00:00:00\", \"2020-05-03T00:00:00\", \"2020-03-31T00:00:00\"], \"y\": [14.8, 14.8, 15.2, 15.2]}, {\"fill\": \"toself\", \"fillcolor\": \"rgb(59, 42, 73)\", \"hoverinfo\": \"name\", \"legendgroup\": \"rgb(59, 42, 73)\", \"mode\": \"none\", \"name\": \"Sweden\", \"showlegend\": false, \"type\": \"scatter\", \"x\": [\"2020-01-31T00:00:00\", \"2020-05-10T00:00:00\", \"2020-05-10T00:00:00\", \"2020-01-31T00:00:00\"], \"y\": [162.8, 162.8, 163.2, 163.2]}, {\"fill\": \"toself\", \"fillcolor\": \"rgb(60, 151, 146)\", \"hoverinfo\": \"name\", \"legendgroup\": \"rgb(60, 151, 146)\", \"mode\": \"none\", \"name\": \"Argentina\", \"showlegend\": false, \"type\": \"scatter\", \"x\": [\"2020-03-03T00:00:00\", \"2020-05-10T00:00:00\", \"2020-05-10T00:00:00\", \"2020-03-03T00:00:00\"], \"y\": [109.8, 109.8, 110.2, 110.2]}, {\"fill\": \"toself\", \"fillcolor\": \"rgb(60, 58, 96)\", \"hoverinfo\": \"name\", \"legendgroup\": \"rgb(60, 58, 96)\", \"mode\": \"none\", \"name\": \"South Sudan\", \"showlegend\": false, \"type\": \"scatter\", \"x\": [\"2020-04-05T00:00:00\", \"2020-05-09T00:00:00\", \"2020-05-09T00:00:00\", \"2020-04-05T00:00:00\"], \"y\": [18.8, 18.8, 19.2, 19.2]}, {\"fill\": \"toself\", \"fillcolor\": \"rgb(65, 21, 152)\", \"hoverinfo\": \"name\", \"legendgroup\": \"rgb(65, 21, 152)\", \"mode\": \"none\", \"name\": \"Denmark\", \"showlegend\": false, \"type\": \"scatter\", \"x\": [\"2020-02-27T00:00:00\", \"2020-05-10T00:00:00\", \"2020-05-10T00:00:00\", \"2020-02-27T00:00:00\"], \"y\": [138.8, 138.8, 139.2, 139.2]}, {\"fill\": \"toself\", \"fillcolor\": \"rgb(65, 43, 19)\", \"hoverinfo\": \"name\", \"legendgroup\": \"rgb(65, 43, 19)\", \"mode\": \"none\", \"name\": \"Libya\", \"showlegend\": false, \"type\": \"scatter\", \"x\": [\"2020-03-24T00:00:00\", \"2020-05-07T00:00:00\", \"2020-05-07T00:00:00\", \"2020-03-24T00:00:00\"], \"y\": [23.8, 23.8, 24.2, 24.2]}, {\"fill\": \"toself\", \"fillcolor\": \"rgb(65, 64, 58)\", \"hoverinfo\": \"name\", \"legendgroup\": \"rgb(65, 64, 58)\", \"mode\": \"none\", \"name\": \"Saint Lucia\", \"showlegend\": false, \"type\": \"scatter\", \"x\": [\"2020-03-14T00:00:00\", \"2020-05-04T00:00:00\", \"2020-05-04T00:00:00\", \"2020-03-14T00:00:00\"], \"y\": [41.8, 41.8, 42.2, 42.2]}, {\"fill\": \"toself\", \"fillcolor\": \"rgb(67, 18, 32)\", \"hoverinfo\": \"name\", \"legendgroup\": \"rgb(67, 18, 32)\", \"mode\": \"none\", \"name\": \"Laos\", \"showlegend\": false, \"type\": \"scatter\", \"x\": [\"2020-03-24T00:00:00\", \"2020-04-13T00:00:00\", \"2020-04-13T00:00:00\", \"2020-03-24T00:00:00\"], \"y\": [5.8, 5.8, 6.2, 6.2]}, {\"fill\": \"toself\", \"fillcolor\": \"rgb(67, 75, 183)\", \"hoverinfo\": \"name\", \"legendgroup\": \"rgb(67, 75, 183)\", \"mode\": \"none\", \"name\": \"Cameroon\", \"showlegend\": false, \"type\": \"scatter\", \"x\": [\"2020-03-06T00:00:00\", \"2020-05-10T00:00:00\", \"2020-05-10T00:00:00\", \"2020-03-06T00:00:00\"], \"y\": [98.8, 98.8, 99.2, 99.2]}, {\"fill\": \"toself\", \"fillcolor\": \"rgb(68, 48, 137)\", \"hoverinfo\": \"name\", \"legendgroup\": \"rgb(68, 48, 137)\", \"mode\": \"none\", \"name\": \"Sri Lanka\", \"showlegend\": false, \"type\": \"scatter\", \"x\": [\"2020-01-27T00:00:00\", \"2020-05-10T00:00:00\", \"2020-05-10T00:00:00\", \"2020-01-27T00:00:00\"], \"y\": [171.8, 171.8, 172.2, 172.2]}, {\"fill\": \"toself\", \"fillcolor\": \"rgb(69, 82, 120)\", \"hoverinfo\": \"name\", \"legendgroup\": \"rgb(69, 82, 120)\", \"mode\": \"none\", \"name\": \"Liberia\", \"showlegend\": false, \"type\": \"scatter\", \"x\": [\"2020-03-16T00:00:00\", \"2020-05-09T00:00:00\", \"2020-05-09T00:00:00\", \"2020-03-16T00:00:00\"], \"y\": [55.8, 55.8, 56.2, 56.2]}, {\"fill\": \"toself\", \"fillcolor\": \"rgb(71, 183, 134)\", \"hoverinfo\": \"name\", \"legendgroup\": \"rgb(71, 183, 134)\", \"mode\": \"none\", \"name\": \"India\", \"showlegend\": false, \"type\": \"scatter\", \"x\": [\"2020-01-30T00:00:00\", \"2020-05-10T00:00:00\", \"2020-05-10T00:00:00\", \"2020-01-30T00:00:00\"], \"y\": [166.8, 166.8, 167.2, 167.2]}, {\"fill\": \"toself\", \"fillcolor\": \"rgb(72, 116, 168)\", \"hoverinfo\": \"name\", \"legendgroup\": \"rgb(72, 116, 168)\", \"mode\": \"none\", \"name\": \"Latvia\", \"showlegend\": false, \"type\": \"scatter\", \"x\": [\"2020-03-02T00:00:00\", \"2020-05-10T00:00:00\", \"2020-05-10T00:00:00\", \"2020-03-02T00:00:00\"], \"y\": [117.8, 117.8, 118.2, 118.2]}, {\"fill\": \"toself\", \"fillcolor\": \"rgb(72, 137, 57)\", \"hoverinfo\": \"name\", \"legendgroup\": \"rgb(72, 137, 57)\", \"mode\": \"none\", \"name\": \"Barbados\", \"showlegend\": false, \"type\": \"scatter\", \"x\": [\"2020-03-17T00:00:00\", \"2020-05-10T00:00:00\", \"2020-05-10T00:00:00\", \"2020-03-17T00:00:00\"], \"y\": [56.8, 56.8, 57.2, 57.2]}, {\"fill\": \"toself\", \"fillcolor\": \"rgb(72, 76, 66)\", \"hoverinfo\": \"name\", \"legendgroup\": \"rgb(72, 76, 66)\", \"mode\": \"none\", \"name\": \"Grenada\", \"showlegend\": false, \"type\": \"scatter\", \"x\": [\"2020-03-22T00:00:00\", \"2020-05-03T00:00:00\", \"2020-05-03T00:00:00\", \"2020-03-22T00:00:00\"], \"y\": [22.8, 22.8, 23.2, 23.2]}, {\"fill\": \"toself\", \"fillcolor\": \"rgb(73, 144, 41)\", \"hoverinfo\": \"name\", \"legendgroup\": \"rgb(73, 144, 41)\", \"mode\": \"none\", \"name\": \"Belarus\", \"showlegend\": false, \"type\": \"scatter\", \"x\": [\"2020-02-28T00:00:00\", \"2020-05-10T00:00:00\", \"2020-05-10T00:00:00\", \"2020-02-28T00:00:00\"], \"y\": [130.8, 130.8, 131.2, 131.2]}, {\"fill\": \"toself\", \"fillcolor\": \"rgb(73, 169, 85)\", \"hoverinfo\": \"name\", \"legendgroup\": \"rgb(73, 169, 85)\", \"mode\": \"none\", \"name\": \"Slovenia\", \"showlegend\": false, \"type\": \"scatter\", \"x\": [\"2020-03-05T00:00:00\", \"2020-05-10T00:00:00\", \"2020-05-10T00:00:00\", \"2020-03-05T00:00:00\"], \"y\": [105.8, 105.8, 106.2, 106.2]}, {\"fill\": \"toself\", \"fillcolor\": \"rgb(74, 118, 4)\", \"hoverinfo\": \"name\", \"legendgroup\": \"rgb(74, 118, 4)\", \"mode\": \"none\", \"name\": \"Monaco\", \"showlegend\": false, \"type\": \"scatter\", \"x\": [\"2020-02-29T00:00:00\", \"2020-05-10T00:00:00\", \"2020-05-10T00:00:00\", \"2020-02-29T00:00:00\"], \"y\": [128.8, 128.8, 129.2, 129.2]}, {\"fill\": \"toself\", \"fillcolor\": \"rgb(76, 19, 75)\", \"hoverinfo\": \"name\", \"legendgroup\": \"rgb(76, 19, 75)\", \"mode\": \"none\", \"name\": \"Uzbekistan\", \"showlegend\": false, \"type\": \"scatter\", \"x\": [\"2020-03-15T00:00:00\", \"2020-05-10T00:00:00\", \"2020-05-10T00:00:00\", \"2020-03-15T00:00:00\"], \"y\": [61.8, 61.8, 62.2, 62.2]}, {\"fill\": \"toself\", \"fillcolor\": \"rgb(76, 3, 153)\", \"hoverinfo\": \"name\", \"legendgroup\": \"rgb(76, 3, 153)\", \"mode\": \"none\", \"name\": \"Thailand\", \"showlegend\": false, \"type\": \"scatter\", \"x\": [\"2020-01-22T00:00:00\", \"2020-05-10T00:00:00\", \"2020-05-10T00:00:00\", \"2020-01-22T00:00:00\"], \"y\": [180.8, 180.8, 181.2, 181.2]}, {\"fill\": \"toself\", \"fillcolor\": \"rgb(76, 43, 168)\", \"hoverinfo\": \"name\", \"legendgroup\": \"rgb(76, 43, 168)\", \"mode\": \"none\", \"name\": \"Guyana\", \"showlegend\": false, \"type\": \"scatter\", \"x\": [\"2020-03-12T00:00:00\", \"2020-05-09T00:00:00\", \"2020-05-09T00:00:00\", \"2020-03-12T00:00:00\"], \"y\": [72.8, 72.8, 73.2, 73.2]}, {\"fill\": \"toself\", \"fillcolor\": \"rgb(8, 37, 177)\", \"hoverinfo\": \"name\", \"legendgroup\": \"rgb(8, 37, 177)\", \"mode\": \"none\", \"name\": \"Syria\", \"showlegend\": false, \"type\": \"scatter\", \"x\": [\"2020-03-22T00:00:00\", \"2020-05-09T00:00:00\", \"2020-05-09T00:00:00\", \"2020-03-22T00:00:00\"], \"y\": [31.8, 31.8, 32.2, 32.2]}, {\"fill\": \"toself\", \"fillcolor\": \"rgb(81, 128, 202)\", \"hoverinfo\": \"name\", \"legendgroup\": \"rgb(81, 128, 202)\", \"mode\": \"none\", \"name\": \"United Arab Emirates\", \"showlegend\": false, \"type\": \"scatter\", \"x\": [\"2020-01-29T00:00:00\", \"2020-05-10T00:00:00\", \"2020-05-10T00:00:00\", \"2020-01-29T00:00:00\"], \"y\": [168.8, 168.8, 169.2, 169.2]}, {\"fill\": \"toself\", \"fillcolor\": \"rgb(81, 172, 0)\", \"hoverinfo\": \"name\", \"legendgroup\": \"rgb(81, 172, 0)\", \"mode\": \"none\", \"name\": \"Chile\", \"showlegend\": false, \"type\": \"scatter\", \"x\": [\"2020-03-03T00:00:00\", \"2020-05-10T00:00:00\", \"2020-05-10T00:00:00\", \"2020-03-03T00:00:00\"], \"y\": [110.8, 110.8, 111.2, 111.2]}, {\"fill\": \"toself\", \"fillcolor\": \"rgb(81, 179, 204)\", \"hoverinfo\": \"name\", \"legendgroup\": \"rgb(81, 179, 204)\", \"mode\": \"none\", \"name\": \"Kosovo\", \"showlegend\": false, \"type\": \"scatter\", \"x\": [\"2020-03-26T00:00:00\", \"2020-05-10T00:00:00\", \"2020-05-10T00:00:00\", \"2020-03-26T00:00:00\"], \"y\": [25.8, 25.8, 26.2, 26.2]}, {\"fill\": \"toself\", \"fillcolor\": \"rgb(82, 198, 167)\", \"hoverinfo\": \"name\", \"legendgroup\": \"rgb(82, 198, 167)\", \"mode\": \"none\", \"name\": \"Italy\", \"showlegend\": false, \"type\": \"scatter\", \"x\": [\"2020-01-31T00:00:00\", \"2020-05-10T00:00:00\", \"2020-05-10T00:00:00\", \"2020-01-31T00:00:00\"], \"y\": [165.8, 165.8, 166.2, 166.2]}, {\"fill\": \"toself\", \"fillcolor\": \"rgb(83, 122, 139)\", \"hoverinfo\": \"name\", \"legendgroup\": \"rgb(83, 122, 139)\", \"mode\": \"none\", \"name\": \"Hungary\", \"showlegend\": false, \"type\": \"scatter\", \"x\": [\"2020-03-04T00:00:00\", \"2020-05-10T00:00:00\", \"2020-05-10T00:00:00\", \"2020-03-04T00:00:00\"], \"y\": [107.8, 107.8, 108.2, 108.2]}, {\"fill\": \"toself\", \"fillcolor\": \"rgb(83, 167, 160)\", \"hoverinfo\": \"name\", \"legendgroup\": \"rgb(83, 167, 160)\", \"mode\": \"none\", \"name\": \"Sao Tome and Principe\", \"showlegend\": false, \"type\": \"scatter\", \"x\": [\"2020-04-06T00:00:00\", \"2020-05-09T00:00:00\", \"2020-05-09T00:00:00\", \"2020-04-06T00:00:00\"], \"y\": [15.8, 15.8, 16.2, 16.2]}, {\"fill\": \"toself\", \"fillcolor\": \"rgb(84, 131, 41)\", \"hoverinfo\": \"name\", \"legendgroup\": \"rgb(84, 131, 41)\", \"mode\": \"none\", \"name\": \"El Salvador\", \"showlegend\": false, \"type\": \"scatter\", \"x\": [\"2020-03-19T00:00:00\", \"2020-05-10T00:00:00\", \"2020-05-10T00:00:00\", \"2020-03-19T00:00:00\"], \"y\": [47.8, 47.8, 48.2, 48.2]}, {\"fill\": \"toself\", \"fillcolor\": \"rgb(85, 204, 22)\", \"hoverinfo\": \"name\", \"legendgroup\": \"rgb(85, 204, 22)\", \"mode\": \"none\", \"name\": \"Haiti\", \"showlegend\": false, \"type\": \"scatter\", \"x\": [\"2020-03-20T00:00:00\", \"2020-05-10T00:00:00\", \"2020-05-10T00:00:00\", \"2020-03-20T00:00:00\"], \"y\": [40.8, 40.8, 41.2, 41.2]}, {\"fill\": \"toself\", \"fillcolor\": \"rgb(86, 81, 149)\", \"hoverinfo\": \"name\", \"legendgroup\": \"rgb(86, 81, 149)\", \"mode\": \"none\", \"name\": \"Canada\", \"showlegend\": false, \"type\": \"scatter\", \"x\": [\"2020-01-26T00:00:00\", \"2020-05-10T00:00:00\", \"2020-05-10T00:00:00\", \"2020-01-26T00:00:00\"], \"y\": [173.8, 173.8, 174.2, 174.2]}, {\"fill\": \"toself\", \"fillcolor\": \"rgb(86, 9, 188)\", \"hoverinfo\": \"name\", \"legendgroup\": \"rgb(86, 9, 188)\", \"mode\": \"none\", \"name\": \"Montenegro\", \"showlegend\": false, \"type\": \"scatter\", \"x\": [\"2020-03-17T00:00:00\", \"2020-05-06T00:00:00\", \"2020-05-06T00:00:00\", \"2020-03-17T00:00:00\"], \"y\": [38.8, 38.8, 39.2, 39.2]}, {\"fill\": \"toself\", \"fillcolor\": \"rgb(87, 27, 72)\", \"hoverinfo\": \"name\", \"legendgroup\": \"rgb(87, 27, 72)\", \"mode\": \"none\", \"name\": \"Sierra Leone\", \"showlegend\": false, \"type\": \"scatter\", \"x\": [\"2020-03-31T00:00:00\", \"2020-05-10T00:00:00\", \"2020-05-10T00:00:00\", \"2020-03-31T00:00:00\"], \"y\": [20.8, 20.8, 21.2, 21.2]}, {\"fill\": \"toself\", \"fillcolor\": \"rgb(89, 151, 69)\", \"hoverinfo\": \"name\", \"legendgroup\": \"rgb(89, 151, 69)\", \"mode\": \"none\", \"name\": \"Algeria\", \"showlegend\": false, \"type\": \"scatter\", \"x\": [\"2020-02-25T00:00:00\", \"2020-05-10T00:00:00\", \"2020-05-10T00:00:00\", \"2020-02-25T00:00:00\"], \"y\": [148.8, 148.8, 149.2, 149.2]}, {\"fill\": \"toself\", \"fillcolor\": \"rgb(89, 75, 90)\", \"hoverinfo\": \"name\", \"legendgroup\": \"rgb(89, 75, 90)\", \"mode\": \"none\", \"name\": \"Bhutan\", \"showlegend\": false, \"type\": \"scatter\", \"x\": [\"2020-03-06T00:00:00\", \"2020-04-24T00:00:00\", \"2020-04-24T00:00:00\", \"2020-03-06T00:00:00\"], \"y\": [33.8, 33.8, 34.2, 34.2]}, {\"fill\": \"toself\", \"fillcolor\": \"rgb(9, 137, 128)\", \"hoverinfo\": \"name\", \"legendgroup\": \"rgb(9, 137, 128)\", \"mode\": \"none\", \"name\": \"Kuwait\", \"showlegend\": false, \"type\": \"scatter\", \"x\": [\"2020-02-24T00:00:00\", \"2020-05-10T00:00:00\", \"2020-05-10T00:00:00\", \"2020-02-24T00:00:00\"], \"y\": [151.8, 151.8, 152.2, 152.2]}, {\"fill\": \"toself\", \"fillcolor\": \"rgb(9, 84, 39)\", \"hoverinfo\": \"name\", \"legendgroup\": \"rgb(9, 84, 39)\", \"mode\": \"none\", \"name\": \"Eswatini\", \"showlegend\": false, \"type\": \"scatter\", \"x\": [\"2020-03-14T00:00:00\", \"2020-05-10T00:00:00\", \"2020-05-10T00:00:00\", \"2020-03-14T00:00:00\"], \"y\": [62.8, 62.8, 63.2, 63.2]}, {\"fill\": \"toself\", \"fillcolor\": \"rgb(90, 100, 67)\", \"hoverinfo\": \"name\", \"legendgroup\": \"rgb(90, 100, 67)\", \"mode\": \"none\", \"name\": \"Paraguay\", \"showlegend\": false, \"type\": \"scatter\", \"x\": [\"2020-03-08T00:00:00\", \"2020-05-10T00:00:00\", \"2020-05-10T00:00:00\", \"2020-03-08T00:00:00\"], \"y\": [93.8, 93.8, 94.2, 94.2]}, {\"fill\": \"toself\", \"fillcolor\": \"rgb(90, 198, 129)\", \"hoverinfo\": \"name\", \"legendgroup\": \"rgb(90, 198, 129)\", \"mode\": \"none\", \"name\": \"Mauritius\", \"showlegend\": false, \"type\": \"scatter\", \"x\": [\"2020-03-18T00:00:00\", \"2020-04-28T00:00:00\", \"2020-04-28T00:00:00\", \"2020-03-18T00:00:00\"], \"y\": [21.8, 21.8, 22.2, 22.2]}, {\"fill\": \"toself\", \"fillcolor\": \"rgb(91, 34, 97)\", \"hoverinfo\": \"name\", \"legendgroup\": \"rgb(91, 34, 97)\", \"mode\": \"none\", \"name\": \"Moldova\", \"showlegend\": false, \"type\": \"scatter\", \"x\": [\"2020-03-08T00:00:00\", \"2020-05-10T00:00:00\", \"2020-05-10T00:00:00\", \"2020-03-08T00:00:00\"], \"y\": [89.8, 89.8, 90.2, 90.2]}, {\"fill\": \"toself\", \"fillcolor\": \"rgb(92, 85, 202)\", \"hoverinfo\": \"name\", \"legendgroup\": \"rgb(92, 85, 202)\", \"mode\": \"none\", \"name\": \"Belize\", \"showlegend\": false, \"type\": \"scatter\", \"x\": [\"2020-03-23T00:00:00\", \"2020-04-14T00:00:00\", \"2020-04-14T00:00:00\", \"2020-03-23T00:00:00\"], \"y\": [6.8, 6.8, 7.2, 7.2]}, {\"fill\": \"toself\", \"fillcolor\": \"rgb(96, 149, 187)\", \"hoverinfo\": \"name\", \"legendgroup\": \"rgb(96, 149, 187)\", \"mode\": \"none\", \"name\": \"Mexico\", \"showlegend\": false, \"type\": \"scatter\", \"x\": [\"2020-02-28T00:00:00\", \"2020-05-10T00:00:00\", \"2020-05-10T00:00:00\", \"2020-02-28T00:00:00\"], \"y\": [132.8, 132.8, 133.2, 133.2]}, {\"fill\": \"toself\", \"fillcolor\": \"rgb(96, 154, 56)\", \"hoverinfo\": \"name\", \"legendgroup\": \"rgb(96, 154, 56)\", \"mode\": \"none\", \"name\": \"Costa Rica\", \"showlegend\": false, \"type\": \"scatter\", \"x\": [\"2020-03-06T00:00:00\", \"2020-05-10T00:00:00\", \"2020-05-10T00:00:00\", \"2020-03-06T00:00:00\"], \"y\": [97.8, 97.8, 98.2, 98.2]}, {\"fill\": \"toself\", \"fillcolor\": \"rgb(96, 160, 150)\", \"hoverinfo\": \"name\", \"legendgroup\": \"rgb(96, 160, 150)\", \"mode\": \"none\", \"name\": \"Tajikistan\", \"showlegend\": false, \"type\": \"scatter\", \"x\": [\"2020-04-30T00:00:00\", \"2020-05-10T00:00:00\", \"2020-05-10T00:00:00\", \"2020-04-30T00:00:00\"], \"y\": [1.8, 1.8, 2.2, 2.2]}, {\"fill\": \"toself\", \"fillcolor\": \"rgb(97, 19, 177)\", \"hoverinfo\": \"name\", \"legendgroup\": \"rgb(97, 19, 177)\", \"mode\": \"none\", \"name\": \"Mali\", \"showlegend\": false, \"type\": \"scatter\", \"x\": [\"2020-03-25T00:00:00\", \"2020-05-10T00:00:00\", \"2020-05-10T00:00:00\", \"2020-03-25T00:00:00\"], \"y\": [28.8, 28.8, 29.2, 29.2]}, {\"legendgroup\": \"rgb(1, 145, 48)\", \"marker\": {\"color\": \"rgb(1, 145, 48)\", \"opacity\": 0, \"size\": 1}, \"mode\": \"markers\", \"name\": \"\", \"showlegend\": false, \"text\": [null, null], \"type\": \"scatter\", \"x\": [\"2020-02-28T00:00:00\", \"2020-05-10T00:00:00\"], \"y\": [132, 132]}, {\"legendgroup\": \"rgb(1, 154, 91)\", \"marker\": {\"color\": \"rgb(1, 154, 91)\", \"opacity\": 0, \"size\": 1}, \"mode\": \"markers\", \"name\": \"\", \"showlegend\": false, \"text\": [null, null], \"type\": \"scatter\", \"x\": [\"2020-02-29T00:00:00\", \"2020-05-10T00:00:00\"], \"y\": [128, 128]}, {\"legendgroup\": \"rgb(1, 155, 185)\", \"marker\": {\"color\": \"rgb(1, 155, 185)\", \"opacity\": 0, \"size\": 1}, \"mode\": \"markers\", \"name\": \"\", \"showlegend\": false, \"text\": [null, null], \"type\": \"scatter\", \"x\": [\"2020-03-15T00:00:00\", \"2020-05-09T00:00:00\"], \"y\": [61, 61]}, {\"legendgroup\": \"rgb(10, 38, 153)\", \"marker\": {\"color\": \"rgb(10, 38, 153)\", \"opacity\": 0, \"size\": 1}, \"mode\": \"markers\", \"name\": \"\", \"showlegend\": false, \"text\": [null, null], \"type\": \"scatter\", \"x\": [\"2020-03-02T00:00:00\", \"2020-05-10T00:00:00\"], \"y\": [116, 116]}, {\"legendgroup\": \"rgb(100, 179, 153)\", \"marker\": {\"color\": \"rgb(100, 179, 153)\", \"opacity\": 0, \"size\": 1}, \"mode\": \"markers\", \"name\": \"\", \"showlegend\": false, \"text\": [null, null], \"type\": \"scatter\", \"x\": [\"2020-03-10T00:00:00\", \"2020-05-09T00:00:00\"], \"y\": [84, 84]}, {\"legendgroup\": \"rgb(102, 33, 168)\", \"marker\": {\"color\": \"rgb(102, 33, 168)\", \"opacity\": 0, \"size\": 1}, \"mode\": \"markers\", \"name\": \"\", \"showlegend\": false, \"text\": [null, null], \"type\": \"scatter\", \"x\": [\"2020-03-10T00:00:00\", \"2020-05-10T00:00:00\"], \"y\": [85, 85]}, {\"legendgroup\": \"rgb(102, 51, 134)\", \"marker\": {\"color\": \"rgb(102, 51, 134)\", \"opacity\": 0, \"size\": 1}, \"mode\": \"markers\", \"name\": \"\", \"showlegend\": false, \"text\": [null, null], \"type\": \"scatter\", \"x\": [\"2020-03-21T00:00:00\", \"2020-04-19T00:00:00\"], \"y\": [11, 11]}, {\"legendgroup\": \"rgb(102, 92, 70)\", \"marker\": {\"color\": \"rgb(102, 92, 70)\", \"opacity\": 0, \"size\": 1}, \"mode\": \"markers\", \"name\": \"\", \"showlegend\": false, \"text\": [null, null], \"type\": \"scatter\", \"x\": [\"2020-03-06T00:00:00\", \"2020-05-07T00:00:00\"], \"y\": [87, 87]}, {\"legendgroup\": \"rgb(103, 8, 89)\", \"marker\": {\"color\": \"rgb(103, 8, 89)\", \"opacity\": 0, \"size\": 1}, \"mode\": \"markers\", \"name\": \"\", \"showlegend\": false, \"text\": [null, null], \"type\": \"scatter\", \"x\": [\"2020-03-09T00:00:00\", \"2020-05-10T00:00:00\"], \"y\": [88, 88]}, {\"legendgroup\": \"rgb(103, 81, 10)\", \"marker\": {\"color\": \"rgb(103, 81, 10)\", \"opacity\": 0, \"size\": 1}, \"mode\": \"markers\", \"name\": \"\", \"showlegend\": false, \"text\": [null, null], \"type\": \"scatter\", \"x\": [\"2020-03-17T00:00:00\", \"2020-05-09T00:00:00\"], \"y\": [52, 52]}, {\"legendgroup\": \"rgb(104, 35, 180)\", \"marker\": {\"color\": \"rgb(104, 35, 180)\", \"opacity\": 0, \"size\": 1}, \"mode\": \"markers\", \"name\": \"\", \"showlegend\": false, \"text\": [null, null], \"type\": \"scatter\", \"x\": [\"2020-02-26T00:00:00\", \"2020-05-10T00:00:00\"], \"y\": [141, 141]}, {\"legendgroup\": \"rgb(105, 137, 6)\", \"marker\": {\"color\": \"rgb(105, 137, 6)\", \"opacity\": 0, \"size\": 1}, \"mode\": \"markers\", \"name\": \"\", \"showlegend\": false, \"text\": [null, null], \"type\": \"scatter\", \"x\": [\"2020-02-04T00:00:00\", \"2020-05-10T00:00:00\"], \"y\": [161, 161]}, {\"legendgroup\": \"rgb(106, 172, 144)\", \"marker\": {\"color\": \"rgb(106, 172, 144)\", \"opacity\": 0, \"size\": 1}, \"mode\": \"markers\", \"name\": \"\", \"showlegend\": false, \"text\": [null, null], \"type\": \"scatter\", \"x\": [\"2020-03-14T00:00:00\", \"2020-05-10T00:00:00\"], \"y\": [69, 69]}, {\"legendgroup\": \"rgb(108, 140, 39)\", \"marker\": {\"color\": \"rgb(108, 140, 39)\", \"opacity\": 0, \"size\": 1}, \"mode\": \"markers\", \"name\": \"\", \"showlegend\": false, \"text\": [null, null], \"type\": \"scatter\", \"x\": [\"2020-03-11T00:00:00\", \"2020-05-10T00:00:00\"], \"y\": [83, 83]}, {\"legendgroup\": \"rgb(113, 129, 108)\", \"marker\": {\"color\": \"rgb(113, 129, 108)\", \"opacity\": 0, \"size\": 1}, \"mode\": \"markers\", \"name\": \"\", \"showlegend\": false, \"text\": [null, null], \"type\": \"scatter\", \"x\": [\"2020-03-25T00:00:00\", \"2020-05-10T00:00:00\"], \"y\": [28, 28]}, {\"legendgroup\": \"rgb(113, 60, 184)\", \"marker\": {\"color\": \"rgb(113, 60, 184)\", \"opacity\": 0, \"size\": 1}, \"mode\": \"markers\", \"name\": \"\", \"showlegend\": false, \"text\": [null, null], \"type\": \"scatter\", \"x\": [\"2020-02-28T00:00:00\", \"2020-05-10T00:00:00\"], \"y\": [134, 134]}, {\"legendgroup\": \"rgb(115, 117, 117)\", \"marker\": {\"color\": \"rgb(115, 117, 117)\", \"opacity\": 0, \"size\": 1}, \"mode\": \"markers\", \"name\": \"\", \"showlegend\": false, \"text\": [null, null], \"type\": \"scatter\", \"x\": [\"2020-03-13T00:00:00\", \"2020-05-02T00:00:00\"], \"y\": [37, 37]}, {\"legendgroup\": \"rgb(115, 149, 1)\", \"marker\": {\"color\": \"rgb(115, 149, 1)\", \"opacity\": 0, \"size\": 1}, \"mode\": \"markers\", \"name\": \"\", \"showlegend\": false, \"text\": [null, null], \"type\": \"scatter\", \"x\": [\"2020-03-06T00:00:00\", \"2020-05-10T00:00:00\"], \"y\": [100, 100]}, {\"legendgroup\": \"rgb(115, 24, 194)\", \"marker\": {\"color\": \"rgb(115, 24, 194)\", \"opacity\": 0, \"size\": 1}, \"mode\": \"markers\", \"name\": \"\", \"showlegend\": false, \"text\": [null, null], \"type\": \"scatter\", \"x\": [\"2020-03-13T00:00:00\", \"2020-05-10T00:00:00\"], \"y\": [72, 72]}, {\"legendgroup\": \"rgb(115, 88, 161)\", \"marker\": {\"color\": \"rgb(115, 88, 161)\", \"opacity\": 0, \"size\": 1}, \"mode\": \"markers\", \"name\": \"\", \"showlegend\": false, \"text\": [null, null], \"type\": \"scatter\", \"x\": [\"2020-01-27T00:00:00\", \"2020-05-10T00:00:00\"], \"y\": [171, 171]}, {\"legendgroup\": \"rgb(117, 123, 156)\", \"marker\": {\"color\": \"rgb(117, 123, 156)\", \"opacity\": 0, \"size\": 1}, \"mode\": \"markers\", \"name\": \"\", \"showlegend\": false, \"text\": [null, null], \"type\": \"scatter\", \"x\": [\"2020-03-15T00:00:00\", \"2020-05-09T00:00:00\"], \"y\": [59, 59]}, {\"legendgroup\": \"rgb(118, 161, 17)\", \"marker\": {\"color\": \"rgb(118, 161, 17)\", \"opacity\": 0, \"size\": 1}, \"mode\": \"markers\", \"name\": \"\", \"showlegend\": false, \"text\": [null, null], \"type\": \"scatter\", \"x\": [\"2020-03-06T00:00:00\", \"2020-05-10T00:00:00\"], \"y\": [101, 101]}, {\"legendgroup\": \"rgb(119, 151, 99)\", \"marker\": {\"color\": \"rgb(119, 151, 99)\", \"opacity\": 0, \"size\": 1}, \"mode\": \"markers\", \"name\": \"\", \"showlegend\": false, \"text\": [null, null], \"type\": \"scatter\", \"x\": [\"2020-01-22T00:00:00\", \"2020-05-10T00:00:00\"], \"y\": [184, 184]}, {\"legendgroup\": \"rgb(120, 122, 81)\", \"marker\": {\"color\": \"rgb(120, 122, 81)\", \"opacity\": 0, \"size\": 1}, \"mode\": \"markers\", \"name\": \"\", \"showlegend\": false, \"text\": [null, null], \"type\": \"scatter\", \"x\": [\"2020-02-14T00:00:00\", \"2020-05-10T00:00:00\"], \"y\": [160, 160]}, {\"legendgroup\": \"rgb(120, 163, 112)\", \"marker\": {\"color\": \"rgb(120, 163, 112)\", \"opacity\": 0, \"size\": 1}, \"mode\": \"markers\", \"name\": \"\", \"showlegend\": false, \"text\": [null, null], \"type\": \"scatter\", \"x\": [\"2020-03-20T00:00:00\", \"2020-05-10T00:00:00\"], \"y\": [44, 44]}, {\"legendgroup\": \"rgb(128, 119, 4)\", \"marker\": {\"color\": \"rgb(128, 119, 4)\", \"opacity\": 0, \"size\": 1}, \"mode\": \"markers\", \"name\": \"\", \"showlegend\": false, \"text\": [null, null], \"type\": \"scatter\", \"x\": [\"2020-03-20T00:00:00\", \"2020-05-08T00:00:00\"], \"y\": [35, 35]}, {\"legendgroup\": \"rgb(129, 138, 146)\", \"marker\": {\"color\": \"rgb(129, 138, 146)\", \"opacity\": 0, \"size\": 1}, \"mode\": \"markers\", \"name\": \"\", \"showlegend\": false, \"text\": [null, null], \"type\": \"scatter\", \"x\": [\"2020-03-30T00:00:00\", \"2020-04-29T00:00:00\"], \"y\": [13, 13]}, {\"legendgroup\": \"rgb(129, 140, 101)\", \"marker\": {\"color\": \"rgb(129, 140, 101)\", \"opacity\": 0, \"size\": 1}, \"mode\": \"markers\", \"name\": \"\", \"showlegend\": false, \"text\": [null, null], \"type\": \"scatter\", \"x\": [\"2020-03-11T00:00:00\", \"2020-05-09T00:00:00\"], \"y\": [76, 76]}, {\"legendgroup\": \"rgb(129, 201, 69)\", \"marker\": {\"color\": \"rgb(129, 201, 69)\", \"opacity\": 0, \"size\": 1}, \"mode\": \"markers\", \"name\": \"\", \"showlegend\": false, \"text\": [null, null], \"type\": \"scatter\", \"x\": [\"2020-03-12T00:00:00\", \"2020-05-10T00:00:00\"], \"y\": [77, 77]}, {\"legendgroup\": \"rgb(131, 138, 49)\", \"marker\": {\"color\": \"rgb(131, 138, 49)\", \"opacity\": 0, \"size\": 1}, \"mode\": \"markers\", \"name\": \"\", \"showlegend\": false, \"text\": [null, null], \"type\": \"scatter\", \"x\": [\"2020-01-23T00:00:00\", \"2020-05-08T00:00:00\"], \"y\": [177, 177]}, {\"legendgroup\": \"rgb(131, 198, 3)\", \"marker\": {\"color\": \"rgb(131, 198, 3)\", \"opacity\": 0, \"size\": 1}, \"mode\": \"markers\", \"name\": \"\", \"showlegend\": false, \"text\": [null, null], \"type\": \"scatter\", \"x\": [\"2020-03-22T00:00:00\", \"2020-05-10T00:00:00\"], \"y\": [33, 33]}, {\"legendgroup\": \"rgb(132, 50, 59)\", \"marker\": {\"color\": \"rgb(132, 50, 59)\", \"opacity\": 0, \"size\": 1}, \"mode\": \"markers\", \"name\": \"\", \"showlegend\": false, \"text\": [null, null], \"type\": \"scatter\", \"x\": [\"2020-03-18T00:00:00\", \"2020-05-10T00:00:00\"], \"y\": [50, 50]}, {\"legendgroup\": \"rgb(133, 1, 23)\", \"marker\": {\"color\": \"rgb(133, 1, 23)\", \"opacity\": 0, \"size\": 1}, \"mode\": \"markers\", \"name\": \"\", \"showlegend\": false, \"text\": [null, null], \"type\": \"scatter\", \"x\": [\"2020-03-16T00:00:00\", \"2020-05-10T00:00:00\"], \"y\": [60, 60]}, {\"legendgroup\": \"rgb(135, 176, 32)\", \"marker\": {\"color\": \"rgb(135, 176, 32)\", \"opacity\": 0, \"size\": 1}, \"mode\": \"markers\", \"name\": \"\", \"showlegend\": false, \"text\": [null, null], \"type\": \"scatter\", \"x\": [\"2020-03-04T00:00:00\", \"2020-04-27T00:00:00\"], \"y\": [54, 54]}, {\"legendgroup\": \"rgb(135, 85, 198)\", \"marker\": {\"color\": \"rgb(135, 85, 198)\", \"opacity\": 0, \"size\": 1}, \"mode\": \"markers\", \"name\": \"\", \"showlegend\": false, \"text\": [null, null], \"type\": \"scatter\", \"x\": [\"2020-03-20T00:00:00\", \"2020-04-23T00:00:00\"], \"y\": [17, 17]}, {\"legendgroup\": \"rgb(136, 162, 123)\", \"marker\": {\"color\": \"rgb(136, 162, 123)\", \"opacity\": 0, \"size\": 1}, \"mode\": \"markers\", \"name\": \"\", \"showlegend\": false, \"text\": [null, null], \"type\": \"scatter\", \"x\": [\"2020-03-09T00:00:00\", \"2020-05-08T00:00:00\"], \"y\": [81, 81]}, {\"legendgroup\": \"rgb(136, 164, 39)\", \"marker\": {\"color\": \"rgb(136, 164, 39)\", \"opacity\": 0, \"size\": 1}, \"mode\": \"markers\", \"name\": \"\", \"showlegend\": false, \"text\": [null, null], \"type\": \"scatter\", \"x\": [\"2020-03-14T00:00:00\", \"2020-04-07T00:00:00\"], \"y\": [9, 9]}, {\"legendgroup\": \"rgb(137, 40, 26)\", \"marker\": {\"color\": \"rgb(137, 40, 26)\", \"opacity\": 0, \"size\": 1}, \"mode\": \"markers\", \"name\": \"\", \"showlegend\": false, \"text\": [null, null], \"type\": \"scatter\", \"x\": [\"2020-02-01T00:00:00\", \"2020-05-10T00:00:00\"], \"y\": [162, 162]}, {\"legendgroup\": \"rgb(139, 24, 23)\", \"marker\": {\"color\": \"rgb(139, 24, 23)\", \"opacity\": 0, \"size\": 1}, \"mode\": \"markers\", \"name\": \"\", \"showlegend\": false, \"text\": [null, null], \"type\": \"scatter\", \"x\": [\"2020-03-25T00:00:00\", \"2020-04-21T00:00:00\"], \"y\": [10, 10]}, {\"legendgroup\": \"rgb(145, 132, 154)\", \"marker\": {\"color\": \"rgb(145, 132, 154)\", \"opacity\": 0, \"size\": 1}, \"mode\": \"markers\", \"name\": \"\", \"showlegend\": false, \"text\": [null, null], \"type\": \"scatter\", \"x\": [\"2020-01-26T00:00:00\", \"2020-05-10T00:00:00\"], \"y\": [173, 173]}, {\"legendgroup\": \"rgb(145, 179, 192)\", \"marker\": {\"color\": \"rgb(145, 179, 192)\", \"opacity\": 0, \"size\": 1}, \"mode\": \"markers\", \"name\": \"\", \"showlegend\": false, \"text\": [null, null], \"type\": \"scatter\", \"x\": [\"2020-03-02T00:00:00\", \"2020-05-10T00:00:00\"], \"y\": [114, 114]}, {\"legendgroup\": \"rgb(147, 119, 117)\", \"marker\": {\"color\": \"rgb(147, 119, 117)\", \"opacity\": 0, \"size\": 1}, \"mode\": \"markers\", \"name\": \"\", \"showlegend\": false, \"text\": [null, null], \"type\": \"scatter\", \"x\": [\"2020-04-05T00:00:00\", \"2020-04-13T00:00:00\"], \"y\": [0, 0]}, {\"legendgroup\": \"rgb(147, 204, 60)\", \"marker\": {\"color\": \"rgb(147, 204, 60)\", \"opacity\": 0, \"size\": 1}, \"mode\": \"markers\", \"name\": \"\", \"showlegend\": false, \"text\": [null, null], \"type\": \"scatter\", \"x\": [\"2020-03-14T00:00:00\", \"2020-05-10T00:00:00\"], \"y\": [64, 64]}, {\"legendgroup\": \"rgb(149, 24, 186)\", \"marker\": {\"color\": \"rgb(149, 24, 186)\", \"opacity\": 0, \"size\": 1}, \"mode\": \"markers\", \"name\": \"\", \"showlegend\": false, \"text\": [null, null], \"type\": \"scatter\", \"x\": [\"2020-03-01T00:00:00\", \"2020-05-10T00:00:00\"], \"y\": [123, 123]}, {\"legendgroup\": \"rgb(149, 90, 33)\", \"marker\": {\"color\": \"rgb(149, 90, 33)\", \"opacity\": 0, \"size\": 1}, \"mode\": \"markers\", \"name\": \"\", \"showlegend\": false, \"text\": [null, null], \"type\": \"scatter\", \"x\": [\"2020-01-31T00:00:00\", \"2020-05-10T00:00:00\"], \"y\": [165, 165]}, {\"legendgroup\": \"rgb(150, 134, 122)\", \"marker\": {\"color\": \"rgb(150, 134, 122)\", \"opacity\": 0, \"size\": 1}, \"mode\": \"markers\", \"name\": \"\", \"showlegend\": false, \"text\": [null, null], \"type\": \"scatter\", \"x\": [\"2020-01-31T00:00:00\", \"2020-05-10T00:00:00\"], \"y\": [164, 164]}, {\"legendgroup\": \"rgb(151, 179, 7)\", \"marker\": {\"color\": \"rgb(151, 179, 7)\", \"opacity\": 0, \"size\": 1}, \"mode\": \"markers\", \"name\": \"\", \"showlegend\": false, \"text\": [null, null], \"type\": \"scatter\", \"x\": [\"2020-03-27T00:00:00\", \"2020-05-10T00:00:00\"], \"y\": [25, 25]}, {\"legendgroup\": \"rgb(152, 188, 9)\", \"marker\": {\"color\": \"rgb(152, 188, 9)\", \"opacity\": 0, \"size\": 1}, \"mode\": \"markers\", \"name\": \"\", \"showlegend\": false, \"text\": [null, null], \"type\": \"scatter\", \"x\": [\"2020-03-06T00:00:00\", \"2020-05-10T00:00:00\"], \"y\": [103, 103]}, {\"legendgroup\": \"rgb(152, 203, 68)\", \"marker\": {\"color\": \"rgb(152, 203, 68)\", \"opacity\": 0, \"size\": 1}, \"mode\": \"markers\", \"name\": \"\", \"showlegend\": false, \"text\": [null, null], \"type\": \"scatter\", \"x\": [\"2020-03-02T00:00:00\", \"2020-05-10T00:00:00\"], \"y\": [117, 117]}, {\"legendgroup\": \"rgb(152, 6, 196)\", \"marker\": {\"color\": \"rgb(152, 6, 196)\", \"opacity\": 0, \"size\": 1}, \"mode\": \"markers\", \"name\": \"\", \"showlegend\": false, \"text\": [null, null], \"type\": \"scatter\", \"x\": [\"2020-03-16T00:00:00\", \"2020-05-07T00:00:00\"], \"y\": [47, 47]}, {\"legendgroup\": \"rgb(154, 87, 102)\", \"marker\": {\"color\": \"rgb(154, 87, 102)\", \"opacity\": 0, \"size\": 1}, \"mode\": \"markers\", \"name\": \"\", \"showlegend\": false, \"text\": [null, null], \"type\": \"scatter\", \"x\": [\"2020-02-24T00:00:00\", \"2020-05-10T00:00:00\"], \"y\": [153, 153]}, {\"legendgroup\": \"rgb(155, 37, 151)\", \"marker\": {\"color\": \"rgb(155, 37, 151)\", \"opacity\": 0, \"size\": 1}, \"mode\": \"markers\", \"name\": \"\", \"showlegend\": false, \"text\": [null, null], \"type\": \"scatter\", \"x\": [\"2020-01-23T00:00:00\", \"2020-05-10T00:00:00\"], \"y\": [180, 180]}, {\"legendgroup\": \"rgb(155, 41, 154)\", \"marker\": {\"color\": \"rgb(155, 41, 154)\", \"opacity\": 0, \"size\": 1}, \"mode\": \"markers\", \"name\": \"\", \"showlegend\": false, \"text\": [null, null], \"type\": \"scatter\", \"x\": [\"2020-03-13T00:00:00\", \"2020-05-10T00:00:00\"], \"y\": [74, 74]}, {\"legendgroup\": \"rgb(16, 149, 34)\", \"marker\": {\"color\": \"rgb(16, 149, 34)\", \"opacity\": 0, \"size\": 1}, \"mode\": \"markers\", \"name\": \"\", \"showlegend\": false, \"text\": [null, null], \"type\": \"scatter\", \"x\": [\"2020-03-03T00:00:00\", \"2020-05-10T00:00:00\"], \"y\": [113, 113]}, {\"legendgroup\": \"rgb(16, 20, 153)\", \"marker\": {\"color\": \"rgb(16, 20, 153)\", \"opacity\": 0, \"size\": 1}, \"mode\": \"markers\", \"name\": \"\", \"showlegend\": false, \"text\": [null, null], \"type\": \"scatter\", \"x\": [\"2020-03-05T00:00:00\", \"2020-05-10T00:00:00\"], \"y\": [105, 105]}, {\"legendgroup\": \"rgb(162, 156, 58)\", \"marker\": {\"color\": \"rgb(162, 156, 58)\", \"opacity\": 0, \"size\": 1}, \"mode\": \"markers\", \"name\": \"\", \"showlegend\": false, \"text\": [null, null], \"type\": \"scatter\", \"x\": [\"2020-03-22T00:00:00\", \"2020-04-25T00:00:00\"], \"y\": [18, 18]}, {\"legendgroup\": \"rgb(163, 108, 86)\", \"marker\": {\"color\": \"rgb(163, 108, 86)\", \"opacity\": 0, \"size\": 1}, \"mode\": \"markers\", \"name\": \"\", \"showlegend\": false, \"text\": [null, null], \"type\": \"scatter\", \"x\": [\"2020-03-22T00:00:00\", \"2020-04-11T00:00:00\"], \"y\": [5, 5]}, {\"legendgroup\": \"rgb(163, 112, 113)\", \"marker\": {\"color\": \"rgb(163, 112, 113)\", \"opacity\": 0, \"size\": 1}, \"mode\": \"markers\", \"name\": \"\", \"showlegend\": false, \"text\": [null, null], \"type\": \"scatter\", \"x\": [\"2020-02-26T00:00:00\", \"2020-05-10T00:00:00\"], \"y\": [142, 142]}, {\"legendgroup\": \"rgb(163, 136, 102)\", \"marker\": {\"color\": \"rgb(163, 136, 102)\", \"opacity\": 0, \"size\": 1}, \"mode\": \"markers\", \"name\": \"\", \"showlegend\": false, \"text\": [null, null], \"type\": \"scatter\", \"x\": [\"2020-03-14T00:00:00\", \"2020-04-30T00:00:00\"], \"y\": [30, 30]}, {\"legendgroup\": \"rgb(167, 162, 76)\", \"marker\": {\"color\": \"rgb(167, 162, 76)\", \"opacity\": 0, \"size\": 1}, \"mode\": \"markers\", \"name\": \"\", \"showlegend\": false, \"text\": [null, null], \"type\": \"scatter\", \"x\": [\"2020-03-08T00:00:00\", \"2020-05-10T00:00:00\"], \"y\": [93, 93]}, {\"legendgroup\": \"rgb(168, 177, 55)\", \"marker\": {\"color\": \"rgb(168, 177, 55)\", \"opacity\": 0, \"size\": 1}, \"mode\": \"markers\", \"name\": \"\", \"showlegend\": false, \"text\": [null, null], \"type\": \"scatter\", \"x\": [\"2020-03-14T00:00:00\", \"2020-04-06T00:00:00\"], \"y\": [8, 8]}, {\"legendgroup\": \"rgb(17, 0, 153)\", \"marker\": {\"color\": \"rgb(17, 0, 153)\", \"opacity\": 0, \"size\": 1}, \"mode\": \"markers\", \"name\": \"\", \"showlegend\": false, \"text\": [null, null], \"type\": \"scatter\", \"x\": [\"2020-02-26T00:00:00\", \"2020-05-10T00:00:00\"], \"y\": [140, 140]}, {\"legendgroup\": \"rgb(17, 192, 131)\", \"marker\": {\"color\": \"rgb(17, 192, 131)\", \"opacity\": 0, \"size\": 1}, \"mode\": \"markers\", \"name\": \"\", \"showlegend\": false, \"text\": [null, null], \"type\": \"scatter\", \"x\": [\"2020-02-25T00:00:00\", \"2020-05-10T00:00:00\"], \"y\": [150, 150]}, {\"legendgroup\": \"rgb(170, 36, 115)\", \"marker\": {\"color\": \"rgb(170, 36, 115)\", \"opacity\": 0, \"size\": 1}, \"mode\": \"markers\", \"name\": \"\", \"showlegend\": false, \"text\": [null, null], \"type\": \"scatter\", \"x\": [\"2020-04-30T00:00:00\", \"2020-05-10T00:00:00\"], \"y\": [1, 1]}, {\"legendgroup\": \"rgb(170, 52, 26)\", \"marker\": {\"color\": \"rgb(170, 52, 26)\", \"opacity\": 0, \"size\": 1}, \"mode\": \"markers\", \"name\": \"\", \"showlegend\": false, \"text\": [null, null], \"type\": \"scatter\", \"x\": [\"2020-02-21T00:00:00\", \"2020-05-10T00:00:00\"], \"y\": [157, 157]}, {\"legendgroup\": \"rgb(171, 57, 36)\", \"marker\": {\"color\": \"rgb(171, 57, 36)\", \"opacity\": 0, \"size\": 1}, \"mode\": \"markers\", \"name\": \"\", \"showlegend\": false, \"text\": [null, null], \"type\": \"scatter\", \"x\": [\"2020-01-22T00:00:00\", \"2020-05-08T00:00:00\"], \"y\": [179, 179]}, {\"legendgroup\": \"rgb(171, 96, 2)\", \"marker\": {\"color\": \"rgb(171, 96, 2)\", \"opacity\": 0, \"size\": 1}, \"mode\": \"markers\", \"name\": \"\", \"showlegend\": false, \"text\": [null, null], \"type\": \"scatter\", \"x\": [\"2020-02-24T00:00:00\", \"2020-05-10T00:00:00\"], \"y\": [155, 155]}, {\"legendgroup\": \"rgb(172, 106, 178)\", \"marker\": {\"color\": \"rgb(172, 106, 178)\", \"opacity\": 0, \"size\": 1}, \"mode\": \"markers\", \"name\": \"\", \"showlegend\": false, \"text\": [null, null], \"type\": \"scatter\", \"x\": [\"2020-03-08T00:00:00\", \"2020-05-10T00:00:00\"], \"y\": [91, 91]}, {\"legendgroup\": \"rgb(172, 188, 196)\", \"marker\": {\"color\": \"rgb(172, 188, 196)\", \"opacity\": 0, \"size\": 1}, \"mode\": \"markers\", \"name\": \"\", \"showlegend\": false, \"text\": [null, null], \"type\": \"scatter\", \"x\": [\"2020-03-09T00:00:00\", \"2020-05-10T00:00:00\"], \"y\": [89, 89]}, {\"legendgroup\": \"rgb(172, 70, 201)\", \"marker\": {\"color\": \"rgb(172, 70, 201)\", \"opacity\": 0, \"size\": 1}, \"mode\": \"markers\", \"name\": \"\", \"showlegend\": false, \"text\": [null, null], \"type\": \"scatter\", \"x\": [\"2020-01-22T00:00:00\", \"2020-05-10T00:00:00\"], \"y\": [182, 182]}, {\"legendgroup\": \"rgb(176, 123, 171)\", \"marker\": {\"color\": \"rgb(176, 123, 171)\", \"opacity\": 0, \"size\": 1}, \"mode\": \"markers\", \"name\": \"\", \"showlegend\": false, \"text\": [null, null], \"type\": \"scatter\", \"x\": [\"2020-03-13T00:00:00\", \"2020-05-10T00:00:00\"], \"y\": [71, 71]}, {\"legendgroup\": \"rgb(176, 34, 124)\", \"marker\": {\"color\": \"rgb(176, 34, 124)\", \"opacity\": 0, \"size\": 1}, \"mode\": \"markers\", \"name\": \"\", \"showlegend\": false, \"text\": [null, null], \"type\": \"scatter\", \"x\": [\"2020-02-24T00:00:00\", \"2020-05-10T00:00:00\"], \"y\": [154, 154]}, {\"legendgroup\": \"rgb(178, 71, 20)\", \"marker\": {\"color\": \"rgb(178, 71, 20)\", \"opacity\": 0, \"size\": 1}, \"mode\": \"markers\", \"name\": \"\", \"showlegend\": false, \"text\": [null, null], \"type\": \"scatter\", \"x\": [\"2020-04-02T00:00:00\", \"2020-05-10T00:00:00\"], \"y\": [20, 20]}, {\"legendgroup\": \"rgb(179, 10, 33)\", \"marker\": {\"color\": \"rgb(179, 10, 33)\", \"opacity\": 0, \"size\": 1}, \"mode\": \"markers\", \"name\": \"\", \"showlegend\": false, \"text\": [null, null], \"type\": \"scatter\", \"x\": [\"2020-01-25T00:00:00\", \"2020-05-10T00:00:00\"], \"y\": [175, 175]}, {\"legendgroup\": \"rgb(179, 133, 188)\", \"marker\": {\"color\": \"rgb(179, 133, 188)\", \"opacity\": 0, \"size\": 1}, \"mode\": \"markers\", \"name\": \"\", \"showlegend\": false, \"text\": [null, null], \"type\": \"scatter\", \"x\": [\"2020-02-25T00:00:00\", \"2020-05-10T00:00:00\"], \"y\": [147, 147]}, {\"legendgroup\": \"rgb(181, 120, 170)\", \"marker\": {\"color\": \"rgb(181, 120, 170)\", \"opacity\": 0, \"size\": 1}, \"mode\": \"markers\", \"name\": \"\", \"showlegend\": false, \"text\": [null, null], \"type\": \"scatter\", \"x\": [\"2020-03-06T00:00:00\", \"2020-05-09T00:00:00\"], \"y\": [97, 97]}, {\"legendgroup\": \"rgb(182, 204, 163)\", \"marker\": {\"color\": \"rgb(182, 204, 163)\", \"opacity\": 0, \"size\": 1}, \"mode\": \"markers\", \"name\": \"\", \"showlegend\": false, \"text\": [null, null], \"type\": \"scatter\", \"x\": [\"2020-03-18T00:00:00\", \"2020-05-10T00:00:00\"], \"y\": [49, 49]}, {\"legendgroup\": \"rgb(183, 19, 24)\", \"marker\": {\"color\": \"rgb(183, 19, 24)\", \"opacity\": 0, \"size\": 1}, \"mode\": \"markers\", \"name\": \"\", \"showlegend\": false, \"text\": [null, null], \"type\": \"scatter\", \"x\": [\"2020-03-20T00:00:00\", \"2020-05-10T00:00:00\"], \"y\": [40, 40]}, {\"legendgroup\": \"rgb(183, 20, 101)\", \"marker\": {\"color\": \"rgb(183, 20, 101)\", \"opacity\": 0, \"size\": 1}, \"mode\": \"markers\", \"name\": \"\", \"showlegend\": false, \"text\": [null, null], \"type\": \"scatter\", \"x\": [\"2020-03-05T00:00:00\", \"2020-05-08T00:00:00\"], \"y\": [96, 96]}, {\"legendgroup\": \"rgb(184, 200, 200)\", \"marker\": {\"color\": \"rgb(184, 200, 200)\", \"opacity\": 0, \"size\": 1}, \"mode\": \"markers\", \"name\": \"\", \"showlegend\": false, \"text\": [null, null], \"type\": \"scatter\", \"x\": [\"2020-03-20T00:00:00\", \"2020-05-10T00:00:00\"], \"y\": [43, 43]}, {\"legendgroup\": \"rgb(184, 58, 114)\", \"marker\": {\"color\": \"rgb(184, 58, 114)\", \"opacity\": 0, \"size\": 1}, \"mode\": \"markers\", \"name\": \"\", \"showlegend\": false, \"text\": [null, null], \"type\": \"scatter\", \"x\": [\"2020-01-29T00:00:00\", \"2020-05-10T00:00:00\"], \"y\": [170, 170]}, {\"legendgroup\": \"rgb(185, 185, 85)\", \"marker\": {\"color\": \"rgb(185, 185, 85)\", \"opacity\": 0, \"size\": 1}, \"mode\": \"markers\", \"name\": \"\", \"showlegend\": false, \"text\": [null, null], \"type\": \"scatter\", \"x\": [\"2020-01-25T00:00:00\", \"2020-05-10T00:00:00\"], \"y\": [176, 176]}, {\"legendgroup\": \"rgb(186, 195, 16)\", \"marker\": {\"color\": \"rgb(186, 195, 16)\", \"opacity\": 0, \"size\": 1}, \"mode\": \"markers\", \"name\": \"\", \"showlegend\": false, \"text\": [null, null], \"type\": \"scatter\", \"x\": [\"2020-01-27T00:00:00\", \"2020-04-13T00:00:00\"], \"y\": [156, 156]}, {\"legendgroup\": \"rgb(186, 22, 112)\", \"marker\": {\"color\": \"rgb(186, 22, 112)\", \"opacity\": 0, \"size\": 1}, \"mode\": \"markers\", \"name\": \"\", \"showlegend\": false, \"text\": [null, null], \"type\": \"scatter\", \"x\": [\"2020-03-21T00:00:00\", \"2020-05-10T00:00:00\"], \"y\": [36, 36]}, {\"legendgroup\": \"rgb(187, 7, 96)\", \"marker\": {\"color\": \"rgb(187, 7, 96)\", \"opacity\": 0, \"size\": 1}, \"mode\": \"markers\", \"name\": \"\", \"showlegend\": false, \"text\": [null, null], \"type\": \"scatter\", \"x\": [\"2020-03-10T00:00:00\", \"2020-05-10T00:00:00\"], \"y\": [86, 86]}, {\"legendgroup\": \"rgb(19, 122, 119)\", \"marker\": {\"color\": \"rgb(19, 122, 119)\", \"opacity\": 0, \"size\": 1}, \"mode\": \"markers\", \"name\": \"\", \"showlegend\": false, \"text\": [null, null], \"type\": \"scatter\", \"x\": [\"2020-03-16T00:00:00\", \"2020-05-10T00:00:00\"], \"y\": [58, 58]}, {\"legendgroup\": \"rgb(19, 50, 53)\", \"marker\": {\"color\": \"rgb(19, 50, 53)\", \"opacity\": 0, \"size\": 1}, \"mode\": \"markers\", \"name\": \"\", \"showlegend\": false, \"text\": [null, null], \"type\": \"scatter\", \"x\": [\"2020-02-27T00:00:00\", \"2020-05-10T00:00:00\"], \"y\": [137, 137]}, {\"legendgroup\": \"rgb(193, 122, 118)\", \"marker\": {\"color\": \"rgb(193, 122, 118)\", \"opacity\": 0, \"size\": 1}, \"mode\": \"markers\", \"name\": \"\", \"showlegend\": false, \"text\": [null, null], \"type\": \"scatter\", \"x\": [\"2020-02-27T00:00:00\", \"2020-05-10T00:00:00\"], \"y\": [136, 136]}, {\"legendgroup\": \"rgb(195, 0, 1)\", \"marker\": {\"color\": \"rgb(195, 0, 1)\", \"opacity\": 0, \"size\": 1}, \"mode\": \"markers\", \"name\": \"\", \"showlegend\": false, \"text\": [null, null], \"type\": \"scatter\", \"x\": [\"2020-02-26T00:00:00\", \"2020-05-10T00:00:00\"], \"y\": [145, 145]}, {\"legendgroup\": \"rgb(195, 122, 149)\", \"marker\": {\"color\": \"rgb(195, 122, 149)\", \"opacity\": 0, \"size\": 1}, \"mode\": \"markers\", \"name\": \"\", \"showlegend\": false, \"text\": [null, null], \"type\": \"scatter\", \"x\": [\"2020-03-20T00:00:00\", \"2020-05-09T00:00:00\"], \"y\": [38, 38]}, {\"legendgroup\": \"rgb(195, 25, 70)\", \"marker\": {\"color\": \"rgb(195, 25, 70)\", \"opacity\": 0, \"size\": 1}, \"mode\": \"markers\", \"name\": \"\", \"showlegend\": false, \"text\": [null, null], \"type\": \"scatter\", \"x\": [\"2020-03-19T00:00:00\", \"2020-05-06T00:00:00\"], \"y\": [31, 31]}, {\"legendgroup\": \"rgb(198, 106, 8)\", \"marker\": {\"color\": \"rgb(198, 106, 8)\", \"opacity\": 0, \"size\": 1}, \"mode\": \"markers\", \"name\": \"\", \"showlegend\": false, \"text\": [null, null], \"type\": \"scatter\", \"x\": [\"2020-03-01T00:00:00\", \"2020-05-10T00:00:00\"], \"y\": [125, 125]}, {\"legendgroup\": \"rgb(198, 42, 72)\", \"marker\": {\"color\": \"rgb(198, 42, 72)\", \"opacity\": 0, \"size\": 1}, \"mode\": \"markers\", \"name\": \"\", \"showlegend\": false, \"text\": [null, null], \"type\": \"scatter\", \"x\": [\"2020-01-30T00:00:00\", \"2020-05-10T00:00:00\"], \"y\": [168, 168]}, {\"legendgroup\": \"rgb(198, 57, 50)\", \"marker\": {\"color\": \"rgb(198, 57, 50)\", \"opacity\": 0, \"size\": 1}, \"mode\": \"markers\", \"name\": \"\", \"showlegend\": false, \"text\": [null, null], \"type\": \"scatter\", \"x\": [\"2020-03-14T00:00:00\", \"2020-05-10T00:00:00\"], \"y\": [66, 66]}, {\"legendgroup\": \"rgb(198, 68, 72)\", \"marker\": {\"color\": \"rgb(198, 68, 72)\", \"opacity\": 0, \"size\": 1}, \"mode\": \"markers\", \"name\": \"\", \"showlegend\": false, \"text\": [null, null], \"type\": \"scatter\", \"x\": [\"2020-02-25T00:00:00\", \"2020-05-10T00:00:00\"], \"y\": [148, 148]}, {\"legendgroup\": \"rgb(198, 71, 186)\", \"marker\": {\"color\": \"rgb(198, 71, 186)\", \"opacity\": 0, \"size\": 1}, \"mode\": \"markers\", \"name\": \"\", \"showlegend\": false, \"text\": [null, null], \"type\": \"scatter\", \"x\": [\"2020-03-14T00:00:00\", \"2020-05-05T00:00:00\"], \"y\": [45, 45]}, {\"legendgroup\": \"rgb(199, 38, 37)\", \"marker\": {\"color\": \"rgb(199, 38, 37)\", \"opacity\": 0, \"size\": 1}, \"mode\": \"markers\", \"name\": \"\", \"showlegend\": false, \"text\": [null, null], \"type\": \"scatter\", \"x\": [\"2020-03-07T00:00:00\", \"2020-05-10T00:00:00\"], \"y\": [95, 95]}, {\"legendgroup\": \"rgb(2, 194, 73)\", \"marker\": {\"color\": \"rgb(2, 194, 73)\", \"opacity\": 0, \"size\": 1}, \"mode\": \"markers\", \"name\": \"\", \"showlegend\": false, \"text\": [null, null], \"type\": \"scatter\", \"x\": [\"2020-03-04T00:00:00\", \"2020-05-10T00:00:00\"], \"y\": [107, 107]}, {\"legendgroup\": \"rgb(20, 56, 101)\", \"marker\": {\"color\": \"rgb(20, 56, 101)\", \"opacity\": 0, \"size\": 1}, \"mode\": \"markers\", \"name\": \"\", \"showlegend\": false, \"text\": [null, null], \"type\": \"scatter\", \"x\": [\"2020-03-01T00:00:00\", \"2020-05-10T00:00:00\"], \"y\": [124, 124]}, {\"legendgroup\": \"rgb(201, 5, 185)\", \"marker\": {\"color\": \"rgb(201, 5, 185)\", \"opacity\": 0, \"size\": 1}, \"mode\": \"markers\", \"name\": \"\", \"showlegend\": false, \"text\": [null, null], \"type\": \"scatter\", \"x\": [\"2020-03-02T00:00:00\", \"2020-05-10T00:00:00\"], \"y\": [119, 119]}, {\"legendgroup\": \"rgb(201, 74, 55)\", \"marker\": {\"color\": \"rgb(201, 74, 55)\", \"opacity\": 0, \"size\": 1}, \"mode\": \"markers\", \"name\": \"\", \"showlegend\": false, \"text\": [null, null], \"type\": \"scatter\", \"x\": [\"2020-01-22T00:00:00\", \"2020-05-10T00:00:00\"], \"y\": [183, 183]}, {\"legendgroup\": \"rgb(203, 102, 52)\", \"marker\": {\"color\": \"rgb(203, 102, 52)\", \"opacity\": 0, \"size\": 1}, \"mode\": \"markers\", \"name\": \"\", \"showlegend\": false, \"text\": [null, null], \"type\": \"scatter\", \"x\": [\"2020-03-18T00:00:00\", \"2020-05-10T00:00:00\"], \"y\": [51, 51]}, {\"legendgroup\": \"rgb(203, 27, 176)\", \"marker\": {\"color\": \"rgb(203, 27, 176)\", \"opacity\": 0, \"size\": 1}, \"mode\": \"markers\", \"name\": \"\", \"showlegend\": false, \"text\": [null, null], \"type\": \"scatter\", \"x\": [\"2020-03-13T00:00:00\", \"2020-05-10T00:00:00\"], \"y\": [70, 70]}, {\"legendgroup\": \"rgb(203, 28, 176)\", \"marker\": {\"color\": \"rgb(203, 28, 176)\", \"opacity\": 0, \"size\": 1}, \"mode\": \"markers\", \"name\": \"\", \"showlegend\": false, \"text\": [null, null], \"type\": \"scatter\", \"x\": [\"2020-02-26T00:00:00\", \"2020-05-10T00:00:00\"], \"y\": [143, 143]}, {\"legendgroup\": \"rgb(204, 25, 144)\", \"marker\": {\"color\": \"rgb(204, 25, 144)\", \"opacity\": 0, \"size\": 1}, \"mode\": \"markers\", \"name\": \"\", \"showlegend\": false, \"text\": [null, null], \"type\": \"scatter\", \"x\": [\"2020-02-27T00:00:00\", \"2020-05-10T00:00:00\"], \"y\": [138, 138]}, {\"legendgroup\": \"rgb(22, 96, 51)\", \"marker\": {\"color\": \"rgb(22, 96, 51)\", \"opacity\": 0, \"size\": 1}, \"mode\": \"markers\", \"name\": \"\", \"showlegend\": false, \"text\": [null, null], \"type\": \"scatter\", \"x\": [\"2020-03-11T00:00:00\", \"2020-05-10T00:00:00\"], \"y\": [82, 82]}, {\"legendgroup\": \"rgb(23, 155, 114)\", \"marker\": {\"color\": \"rgb(23, 155, 114)\", \"opacity\": 0, \"size\": 1}, \"mode\": \"markers\", \"name\": \"\", \"showlegend\": false, \"text\": [null, null], \"type\": \"scatter\", \"x\": [\"2020-02-21T00:00:00\", \"2020-05-10T00:00:00\"], \"y\": [158, 158]}, {\"legendgroup\": \"rgb(23, 53, 106)\", \"marker\": {\"color\": \"rgb(23, 53, 106)\", \"opacity\": 0, \"size\": 1}, \"mode\": \"markers\", \"name\": \"\", \"showlegend\": false, \"text\": [null, null], \"type\": \"scatter\", \"x\": [\"2020-03-08T00:00:00\", \"2020-05-10T00:00:00\"], \"y\": [92, 92]}, {\"legendgroup\": \"rgb(24, 155, 170)\", \"marker\": {\"color\": \"rgb(24, 155, 170)\", \"opacity\": 0, \"size\": 1}, \"mode\": \"markers\", \"name\": \"\", \"showlegend\": false, \"text\": [null, null], \"type\": \"scatter\", \"x\": [\"2020-02-29T00:00:00\", \"2020-05-10T00:00:00\"], \"y\": [130, 130]}, {\"legendgroup\": \"rgb(24, 42, 8)\", \"marker\": {\"color\": \"rgb(24, 42, 8)\", \"opacity\": 0, \"size\": 1}, \"mode\": \"markers\", \"name\": \"\", \"showlegend\": false, \"text\": [null, null], \"type\": \"scatter\", \"x\": [\"2020-02-29T00:00:00\", \"2020-05-10T00:00:00\"], \"y\": [127, 127]}, {\"legendgroup\": \"rgb(25, 56, 146)\", \"marker\": {\"color\": \"rgb(25, 56, 146)\", \"opacity\": 0, \"size\": 1}, \"mode\": \"markers\", \"name\": \"\", \"showlegend\": false, \"text\": [null, null], \"type\": \"scatter\", \"x\": [\"2020-03-02T00:00:00\", \"2020-05-10T00:00:00\"], \"y\": [120, 120]}, {\"legendgroup\": \"rgb(26, 137, 197)\", \"marker\": {\"color\": \"rgb(26, 137, 197)\", \"opacity\": 0, \"size\": 1}, \"mode\": \"markers\", \"name\": \"\", \"showlegend\": false, \"text\": [null, null], \"type\": \"scatter\", \"x\": [\"2020-03-02T00:00:00\", \"2020-05-10T00:00:00\"], \"y\": [115, 115]}, {\"legendgroup\": \"rgb(28, 160, 202)\", \"marker\": {\"color\": \"rgb(28, 160, 202)\", \"opacity\": 0, \"size\": 1}, \"mode\": \"markers\", \"name\": \"\", \"showlegend\": false, \"text\": [null, null], \"type\": \"scatter\", \"x\": [\"2020-03-16T00:00:00\", \"2020-05-09T00:00:00\"], \"y\": [55, 55]}, {\"legendgroup\": \"rgb(28, 86, 124)\", \"marker\": {\"color\": \"rgb(28, 86, 124)\", \"opacity\": 0, \"size\": 1}, \"mode\": \"markers\", \"name\": \"\", \"showlegend\": false, \"text\": [null, null], \"type\": \"scatter\", \"x\": [\"2020-02-28T00:00:00\", \"2020-05-08T00:00:00\"], \"y\": [122, 122]}, {\"legendgroup\": \"rgb(36, 144, 71)\", \"marker\": {\"color\": \"rgb(36, 144, 71)\", \"opacity\": 0, \"size\": 1}, \"mode\": \"markers\", \"name\": \"\", \"showlegend\": false, \"text\": [null, null], \"type\": \"scatter\", \"x\": [\"2020-03-01T00:00:00\", \"2020-05-10T00:00:00\"], \"y\": [121, 121]}, {\"legendgroup\": \"rgb(36, 70, 114)\", \"marker\": {\"color\": \"rgb(36, 70, 114)\", \"opacity\": 0, \"size\": 1}, \"mode\": \"markers\", \"name\": \"\", \"showlegend\": false, \"text\": [null, null], \"type\": \"scatter\", \"x\": [\"2020-03-14T00:00:00\", \"2020-04-02T00:00:00\"], \"y\": [3, 3]}, {\"legendgroup\": \"rgb(37, 119, 25)\", \"marker\": {\"color\": \"rgb(37, 119, 25)\", \"opacity\": 0, \"size\": 1}, \"mode\": \"markers\", \"name\": \"\", \"showlegend\": false, \"text\": [null, null], \"type\": \"scatter\", \"x\": [\"2020-03-04T00:00:00\", \"2020-05-10T00:00:00\"], \"y\": [109, 109]}, {\"legendgroup\": \"rgb(38, 188, 145)\", \"marker\": {\"color\": \"rgb(38, 188, 145)\", \"opacity\": 0, \"size\": 1}, \"mode\": \"markers\", \"name\": \"\", \"showlegend\": false, \"text\": [null, null], \"type\": \"scatter\", \"x\": [\"2020-03-14T00:00:00\", \"2020-05-10T00:00:00\"], \"y\": [65, 65]}, {\"legendgroup\": \"rgb(38, 59, 89)\", \"marker\": {\"color\": \"rgb(38, 59, 89)\", \"opacity\": 0, \"size\": 1}, \"mode\": \"markers\", \"name\": \"\", \"showlegend\": false, \"text\": [null, null], \"type\": \"scatter\", \"x\": [\"2020-02-19T00:00:00\", \"2020-05-10T00:00:00\"], \"y\": [159, 159]}, {\"legendgroup\": \"rgb(38, 75, 117)\", \"marker\": {\"color\": \"rgb(38, 75, 117)\", \"opacity\": 0, \"size\": 1}, \"mode\": \"markers\", \"name\": \"\", \"showlegend\": false, \"text\": [null, null], \"type\": \"scatter\", \"x\": [\"2020-03-14T00:00:00\", \"2020-05-10T00:00:00\"], \"y\": [68, 68]}, {\"legendgroup\": \"rgb(39, 169, 26)\", \"marker\": {\"color\": \"rgb(39, 169, 26)\", \"opacity\": 0, \"size\": 1}, \"mode\": \"markers\", \"name\": \"\", \"showlegend\": false, \"text\": [null, null], \"type\": \"scatter\", \"x\": [\"2020-03-16T00:00:00\", \"2020-04-05T00:00:00\"], \"y\": [4, 4]}, {\"legendgroup\": \"rgb(40, 138, 183)\", \"marker\": {\"color\": \"rgb(40, 138, 183)\", \"opacity\": 0, \"size\": 1}, \"mode\": \"markers\", \"name\": \"\", \"showlegend\": false, \"text\": [null, null], \"type\": \"scatter\", \"x\": [\"2020-02-26T00:00:00\", \"2020-05-10T00:00:00\"], \"y\": [146, 146]}, {\"legendgroup\": \"rgb(40, 82, 194)\", \"marker\": {\"color\": \"rgb(40, 82, 194)\", \"opacity\": 0, \"size\": 1}, \"mode\": \"markers\", \"name\": \"\", \"showlegend\": false, \"text\": [null, null], \"type\": \"scatter\", \"x\": [\"2020-03-15T00:00:00\", \"2020-05-07T00:00:00\"], \"y\": [53, 53]}, {\"legendgroup\": \"rgb(41, 129, 124)\", \"marker\": {\"color\": \"rgb(41, 129, 124)\", \"opacity\": 0, \"size\": 1}, \"mode\": \"markers\", \"name\": \"\", \"showlegend\": false, \"text\": [null, null], \"type\": \"scatter\", \"x\": [\"2020-03-13T00:00:00\", \"2020-05-10T00:00:00\"], \"y\": [75, 75]}, {\"legendgroup\": \"rgb(43, 152, 53)\", \"marker\": {\"color\": \"rgb(43, 152, 53)\", \"opacity\": 0, \"size\": 1}, \"mode\": \"markers\", \"name\": \"\", \"showlegend\": false, \"text\": [null, null], \"type\": \"scatter\", \"x\": [\"2020-04-10T00:00:00\", \"2020-05-09T00:00:00\"], \"y\": [12, 12]}, {\"legendgroup\": \"rgb(43, 80, 82)\", \"marker\": {\"color\": \"rgb(43, 80, 82)\", \"opacity\": 0, \"size\": 1}, \"mode\": \"markers\", \"name\": \"\", \"showlegend\": false, \"text\": [null, null], \"type\": \"scatter\", \"x\": [\"2020-01-24T00:00:00\", \"2020-05-10T00:00:00\"], \"y\": [178, 178]}, {\"legendgroup\": \"rgb(48, 131, 182)\", \"marker\": {\"color\": \"rgb(48, 131, 182)\", \"opacity\": 0, \"size\": 1}, \"mode\": \"markers\", \"name\": \"\", \"showlegend\": false, \"text\": [null, null], \"type\": \"scatter\", \"x\": [\"2020-03-19T00:00:00\", \"2020-04-21T00:00:00\"], \"y\": [14, 14]}, {\"legendgroup\": \"rgb(49, 86, 16)\", \"marker\": {\"color\": \"rgb(49, 86, 16)\", \"opacity\": 0, \"size\": 1}, \"mode\": \"markers\", \"name\": \"\", \"showlegend\": false, \"text\": [null, null], \"type\": \"scatter\", \"x\": [\"2020-03-11T00:00:00\", \"2020-05-10T00:00:00\"], \"y\": [79, 79]}, {\"legendgroup\": \"rgb(5, 186, 86)\", \"marker\": {\"color\": \"rgb(5, 186, 86)\", \"opacity\": 0, \"size\": 1}, \"mode\": \"markers\", \"name\": \"\", \"showlegend\": false, \"text\": [null, null], \"type\": \"scatter\", \"x\": [\"2020-02-26T00:00:00\", \"2020-05-10T00:00:00\"], \"y\": [144, 144]}, {\"legendgroup\": \"rgb(50, 197, 83)\", \"marker\": {\"color\": \"rgb(50, 197, 83)\", \"opacity\": 0, \"size\": 1}, \"mode\": \"markers\", \"name\": \"\", \"showlegend\": false, \"text\": [null, null], \"type\": \"scatter\", \"x\": [\"2020-03-06T00:00:00\", \"2020-05-10T00:00:00\"], \"y\": [102, 102]}, {\"legendgroup\": \"rgb(51, 153, 21)\", \"marker\": {\"color\": \"rgb(51, 153, 21)\", \"opacity\": 0, \"size\": 1}, \"mode\": \"markers\", \"name\": \"\", \"showlegend\": false, \"text\": [null, null], \"type\": \"scatter\", \"x\": [\"2020-03-11T00:00:00\", \"2020-05-09T00:00:00\"], \"y\": [78, 78]}, {\"legendgroup\": \"rgb(51, 177, 112)\", \"marker\": {\"color\": \"rgb(51, 177, 112)\", \"opacity\": 0, \"size\": 1}, \"mode\": \"markers\", \"name\": \"\", \"showlegend\": false, \"text\": [null, null], \"type\": \"scatter\", \"x\": [\"2020-03-11T00:00:00\", \"2020-05-10T00:00:00\"], \"y\": [80, 80]}, {\"legendgroup\": \"rgb(51, 202, 192)\", \"marker\": {\"color\": \"rgb(51, 202, 192)\", \"opacity\": 0, \"size\": 1}, \"mode\": \"markers\", \"name\": \"\", \"showlegend\": false, \"text\": [null, null], \"type\": \"scatter\", \"x\": [\"2020-03-05T00:00:00\", \"2020-05-10T00:00:00\"], \"y\": [104, 104]}, {\"legendgroup\": \"rgb(51, 32, 86)\", \"marker\": {\"color\": \"rgb(51, 32, 86)\", \"opacity\": 0, \"size\": 1}, \"mode\": \"markers\", \"name\": \"\", \"showlegend\": false, \"text\": [null, null], \"type\": \"scatter\", \"x\": [\"2020-03-01T00:00:00\", \"2020-05-10T00:00:00\"], \"y\": [126, 126]}, {\"legendgroup\": \"rgb(53, 116, 84)\", \"marker\": {\"color\": \"rgb(53, 116, 84)\", \"opacity\": 0, \"size\": 1}, \"mode\": \"markers\", \"name\": \"\", \"showlegend\": false, \"text\": [null, null], \"type\": \"scatter\", \"x\": [\"2020-03-14T00:00:00\", \"2020-04-28T00:00:00\"], \"y\": [27, 27]}, {\"legendgroup\": \"rgb(54, 50, 40)\", \"marker\": {\"color\": \"rgb(54, 50, 40)\", \"opacity\": 0, \"size\": 1}, \"mode\": \"markers\", \"name\": \"\", \"showlegend\": false, \"text\": [null, null], \"type\": \"scatter\", \"x\": [\"2020-03-19T00:00:00\", \"2020-05-10T00:00:00\"], \"y\": [46, 46]}, {\"legendgroup\": \"rgb(55, 194, 97)\", \"marker\": {\"color\": \"rgb(55, 194, 97)\", \"opacity\": 0, \"size\": 1}, \"mode\": \"markers\", \"name\": \"\", \"showlegend\": false, \"text\": [null, null], \"type\": \"scatter\", \"x\": [\"2020-02-24T00:00:00\", \"2020-05-10T00:00:00\"], \"y\": [151, 151]}, {\"legendgroup\": \"rgb(56, 202, 198)\", \"marker\": {\"color\": \"rgb(56, 202, 198)\", \"opacity\": 0, \"size\": 1}, \"mode\": \"markers\", \"name\": \"\", \"showlegend\": false, \"text\": [null, null], \"type\": \"scatter\", \"x\": [\"2020-03-14T00:00:00\", \"2020-05-10T00:00:00\"], \"y\": [67, 67]}, {\"legendgroup\": \"rgb(56, 44, 182)\", \"marker\": {\"color\": \"rgb(56, 44, 182)\", \"opacity\": 0, \"size\": 1}, \"mode\": \"markers\", \"name\": \"\", \"showlegend\": false, \"text\": [null, null], \"type\": \"scatter\", \"x\": [\"2020-03-03T00:00:00\", \"2020-05-10T00:00:00\"], \"y\": [112, 112]}, {\"legendgroup\": \"rgb(57, 144, 16)\", \"marker\": {\"color\": \"rgb(57, 144, 16)\", \"opacity\": 0, \"size\": 1}, \"mode\": \"markers\", \"name\": \"\", \"showlegend\": false, \"text\": [null, null], \"type\": \"scatter\", \"x\": [\"2020-02-28T00:00:00\", \"2020-05-10T00:00:00\"], \"y\": [135, 135]}, {\"legendgroup\": \"rgb(57, 148, 182)\", \"marker\": {\"color\": \"rgb(57, 148, 182)\", \"opacity\": 0, \"size\": 1}, \"mode\": \"markers\", \"name\": \"\", \"showlegend\": false, \"text\": [null, null], \"type\": \"scatter\", \"x\": [\"2020-01-22T00:00:00\", \"2020-05-10T00:00:00\"], \"y\": [185, 185]}, {\"legendgroup\": \"rgb(59, 38, 134)\", \"marker\": {\"color\": \"rgb(59, 38, 134)\", \"opacity\": 0, \"size\": 1}, \"mode\": \"markers\", \"name\": \"\", \"showlegend\": false, \"text\": [null, null], \"type\": \"scatter\", \"x\": [\"2020-03-31T00:00:00\", \"2020-05-03T00:00:00\"], \"y\": [15, 15]}, {\"legendgroup\": \"rgb(59, 42, 73)\", \"marker\": {\"color\": \"rgb(59, 42, 73)\", \"opacity\": 0, \"size\": 1}, \"mode\": \"markers\", \"name\": \"\", \"showlegend\": false, \"text\": [null, null], \"type\": \"scatter\", \"x\": [\"2020-01-31T00:00:00\", \"2020-05-10T00:00:00\"], \"y\": [163, 163]}, {\"legendgroup\": \"rgb(60, 151, 146)\", \"marker\": {\"color\": \"rgb(60, 151, 146)\", \"opacity\": 0, \"size\": 1}, \"mode\": \"markers\", \"name\": \"\", \"showlegend\": false, \"text\": [null, null], \"type\": \"scatter\", \"x\": [\"2020-03-03T00:00:00\", \"2020-05-10T00:00:00\"], \"y\": [110, 110]}, {\"legendgroup\": \"rgb(60, 58, 96)\", \"marker\": {\"color\": \"rgb(60, 58, 96)\", \"opacity\": 0, \"size\": 1}, \"mode\": \"markers\", \"name\": \"\", \"showlegend\": false, \"text\": [null, null], \"type\": \"scatter\", \"x\": [\"2020-04-05T00:00:00\", \"2020-05-09T00:00:00\"], \"y\": [19, 19]}, {\"legendgroup\": \"rgb(65, 21, 152)\", \"marker\": {\"color\": \"rgb(65, 21, 152)\", \"opacity\": 0, \"size\": 1}, \"mode\": \"markers\", \"name\": \"\", \"showlegend\": false, \"text\": [null, null], \"type\": \"scatter\", \"x\": [\"2020-02-27T00:00:00\", \"2020-05-10T00:00:00\"], \"y\": [139, 139]}, {\"legendgroup\": \"rgb(65, 43, 19)\", \"marker\": {\"color\": \"rgb(65, 43, 19)\", \"opacity\": 0, \"size\": 1}, \"mode\": \"markers\", \"name\": \"\", \"showlegend\": false, \"text\": [null, null], \"type\": \"scatter\", \"x\": [\"2020-03-24T00:00:00\", \"2020-05-07T00:00:00\"], \"y\": [24, 24]}, {\"legendgroup\": \"rgb(65, 64, 58)\", \"marker\": {\"color\": \"rgb(65, 64, 58)\", \"opacity\": 0, \"size\": 1}, \"mode\": \"markers\", \"name\": \"\", \"showlegend\": false, \"text\": [null, null], \"type\": \"scatter\", \"x\": [\"2020-03-14T00:00:00\", \"2020-05-04T00:00:00\"], \"y\": [42, 42]}, {\"legendgroup\": \"rgb(67, 18, 32)\", \"marker\": {\"color\": \"rgb(67, 18, 32)\", \"opacity\": 0, \"size\": 1}, \"mode\": \"markers\", \"name\": \"\", \"showlegend\": false, \"text\": [null, null], \"type\": \"scatter\", \"x\": [\"2020-03-24T00:00:00\", \"2020-04-13T00:00:00\"], \"y\": [6, 6]}, {\"legendgroup\": \"rgb(67, 75, 183)\", \"marker\": {\"color\": \"rgb(67, 75, 183)\", \"opacity\": 0, \"size\": 1}, \"mode\": \"markers\", \"name\": \"\", \"showlegend\": false, \"text\": [null, null], \"type\": \"scatter\", \"x\": [\"2020-03-06T00:00:00\", \"2020-05-10T00:00:00\"], \"y\": [99, 99]}, {\"legendgroup\": \"rgb(68, 48, 137)\", \"marker\": {\"color\": \"rgb(68, 48, 137)\", \"opacity\": 0, \"size\": 1}, \"mode\": \"markers\", \"name\": \"\", \"showlegend\": false, \"text\": [null, null], \"type\": \"scatter\", \"x\": [\"2020-01-27T00:00:00\", \"2020-05-10T00:00:00\"], \"y\": [172, 172]}, {\"legendgroup\": \"rgb(69, 82, 120)\", \"marker\": {\"color\": \"rgb(69, 82, 120)\", \"opacity\": 0, \"size\": 1}, \"mode\": \"markers\", \"name\": \"\", \"showlegend\": false, \"text\": [null, null], \"type\": \"scatter\", \"x\": [\"2020-03-16T00:00:00\", \"2020-05-09T00:00:00\"], \"y\": [56, 56]}, {\"legendgroup\": \"rgb(71, 183, 134)\", \"marker\": {\"color\": \"rgb(71, 183, 134)\", \"opacity\": 0, \"size\": 1}, \"mode\": \"markers\", \"name\": \"\", \"showlegend\": false, \"text\": [null, null], \"type\": \"scatter\", \"x\": [\"2020-01-30T00:00:00\", \"2020-05-10T00:00:00\"], \"y\": [167, 167]}, {\"legendgroup\": \"rgb(72, 116, 168)\", \"marker\": {\"color\": \"rgb(72, 116, 168)\", \"opacity\": 0, \"size\": 1}, \"mode\": \"markers\", \"name\": \"\", \"showlegend\": false, \"text\": [null, null], \"type\": \"scatter\", \"x\": [\"2020-03-02T00:00:00\", \"2020-05-10T00:00:00\"], \"y\": [118, 118]}, {\"legendgroup\": \"rgb(72, 137, 57)\", \"marker\": {\"color\": \"rgb(72, 137, 57)\", \"opacity\": 0, \"size\": 1}, \"mode\": \"markers\", \"name\": \"\", \"showlegend\": false, \"text\": [null, null], \"type\": \"scatter\", \"x\": [\"2020-03-17T00:00:00\", \"2020-05-10T00:00:00\"], \"y\": [57, 57]}, {\"legendgroup\": \"rgb(72, 76, 66)\", \"marker\": {\"color\": \"rgb(72, 76, 66)\", \"opacity\": 0, \"size\": 1}, \"mode\": \"markers\", \"name\": \"\", \"showlegend\": false, \"text\": [null, null], \"type\": \"scatter\", \"x\": [\"2020-03-22T00:00:00\", \"2020-05-03T00:00:00\"], \"y\": [23, 23]}, {\"legendgroup\": \"rgb(73, 144, 41)\", \"marker\": {\"color\": \"rgb(73, 144, 41)\", \"opacity\": 0, \"size\": 1}, \"mode\": \"markers\", \"name\": \"\", \"showlegend\": false, \"text\": [null, null], \"type\": \"scatter\", \"x\": [\"2020-02-28T00:00:00\", \"2020-05-10T00:00:00\"], \"y\": [131, 131]}, {\"legendgroup\": \"rgb(73, 169, 85)\", \"marker\": {\"color\": \"rgb(73, 169, 85)\", \"opacity\": 0, \"size\": 1}, \"mode\": \"markers\", \"name\": \"\", \"showlegend\": false, \"text\": [null, null], \"type\": \"scatter\", \"x\": [\"2020-03-05T00:00:00\", \"2020-05-10T00:00:00\"], \"y\": [106, 106]}, {\"legendgroup\": \"rgb(74, 118, 4)\", \"marker\": {\"color\": \"rgb(74, 118, 4)\", \"opacity\": 0, \"size\": 1}, \"mode\": \"markers\", \"name\": \"\", \"showlegend\": false, \"text\": [null, null], \"type\": \"scatter\", \"x\": [\"2020-02-29T00:00:00\", \"2020-05-10T00:00:00\"], \"y\": [129, 129]}, {\"legendgroup\": \"rgb(76, 19, 75)\", \"marker\": {\"color\": \"rgb(76, 19, 75)\", \"opacity\": 0, \"size\": 1}, \"mode\": \"markers\", \"name\": \"\", \"showlegend\": false, \"text\": [null, null], \"type\": \"scatter\", \"x\": [\"2020-03-15T00:00:00\", \"2020-05-10T00:00:00\"], \"y\": [62, 62]}, {\"legendgroup\": \"rgb(76, 3, 153)\", \"marker\": {\"color\": \"rgb(76, 3, 153)\", \"opacity\": 0, \"size\": 1}, \"mode\": \"markers\", \"name\": \"\", \"showlegend\": false, \"text\": [null, null], \"type\": \"scatter\", \"x\": [\"2020-01-22T00:00:00\", \"2020-05-10T00:00:00\"], \"y\": [181, 181]}, {\"legendgroup\": \"rgb(76, 43, 168)\", \"marker\": {\"color\": \"rgb(76, 43, 168)\", \"opacity\": 0, \"size\": 1}, \"mode\": \"markers\", \"name\": \"\", \"showlegend\": false, \"text\": [null, null], \"type\": \"scatter\", \"x\": [\"2020-03-12T00:00:00\", \"2020-05-09T00:00:00\"], \"y\": [73, 73]}, {\"legendgroup\": \"rgb(8, 37, 177)\", \"marker\": {\"color\": \"rgb(8, 37, 177)\", \"opacity\": 0, \"size\": 1}, \"mode\": \"markers\", \"name\": \"\", \"showlegend\": false, \"text\": [null, null], \"type\": \"scatter\", \"x\": [\"2020-03-22T00:00:00\", \"2020-05-09T00:00:00\"], \"y\": [32, 32]}, {\"legendgroup\": \"rgb(81, 128, 202)\", \"marker\": {\"color\": \"rgb(81, 128, 202)\", \"opacity\": 0, \"size\": 1}, \"mode\": \"markers\", \"name\": \"\", \"showlegend\": false, \"text\": [null, null], \"type\": \"scatter\", \"x\": [\"2020-01-29T00:00:00\", \"2020-05-10T00:00:00\"], \"y\": [169, 169]}, {\"legendgroup\": \"rgb(81, 172, 0)\", \"marker\": {\"color\": \"rgb(81, 172, 0)\", \"opacity\": 0, \"size\": 1}, \"mode\": \"markers\", \"name\": \"\", \"showlegend\": false, \"text\": [null, null], \"type\": \"scatter\", \"x\": [\"2020-03-03T00:00:00\", \"2020-05-10T00:00:00\"], \"y\": [111, 111]}, {\"legendgroup\": \"rgb(81, 179, 204)\", \"marker\": {\"color\": \"rgb(81, 179, 204)\", \"opacity\": 0, \"size\": 1}, \"mode\": \"markers\", \"name\": \"\", \"showlegend\": false, \"text\": [null, null], \"type\": \"scatter\", \"x\": [\"2020-03-26T00:00:00\", \"2020-05-10T00:00:00\"], \"y\": [26, 26]}, {\"legendgroup\": \"rgb(82, 198, 167)\", \"marker\": {\"color\": \"rgb(82, 198, 167)\", \"opacity\": 0, \"size\": 1}, \"mode\": \"markers\", \"name\": \"\", \"showlegend\": false, \"text\": [null, null], \"type\": \"scatter\", \"x\": [\"2020-01-31T00:00:00\", \"2020-05-10T00:00:00\"], \"y\": [166, 166]}, {\"legendgroup\": \"rgb(83, 122, 139)\", \"marker\": {\"color\": \"rgb(83, 122, 139)\", \"opacity\": 0, \"size\": 1}, \"mode\": \"markers\", \"name\": \"\", \"showlegend\": false, \"text\": [null, null], \"type\": \"scatter\", \"x\": [\"2020-03-04T00:00:00\", \"2020-05-10T00:00:00\"], \"y\": [108, 108]}, {\"legendgroup\": \"rgb(83, 167, 160)\", \"marker\": {\"color\": \"rgb(83, 167, 160)\", \"opacity\": 0, \"size\": 1}, \"mode\": \"markers\", \"name\": \"\", \"showlegend\": false, \"text\": [null, null], \"type\": \"scatter\", \"x\": [\"2020-04-06T00:00:00\", \"2020-05-09T00:00:00\"], \"y\": [16, 16]}, {\"legendgroup\": \"rgb(84, 131, 41)\", \"marker\": {\"color\": \"rgb(84, 131, 41)\", \"opacity\": 0, \"size\": 1}, \"mode\": \"markers\", \"name\": \"\", \"showlegend\": false, \"text\": [null, null], \"type\": \"scatter\", \"x\": [\"2020-03-19T00:00:00\", \"2020-05-10T00:00:00\"], \"y\": [48, 48]}, {\"legendgroup\": \"rgb(85, 204, 22)\", \"marker\": {\"color\": \"rgb(85, 204, 22)\", \"opacity\": 0, \"size\": 1}, \"mode\": \"markers\", \"name\": \"\", \"showlegend\": false, \"text\": [null, null], \"type\": \"scatter\", \"x\": [\"2020-03-20T00:00:00\", \"2020-05-10T00:00:00\"], \"y\": [41, 41]}, {\"legendgroup\": \"rgb(86, 81, 149)\", \"marker\": {\"color\": \"rgb(86, 81, 149)\", \"opacity\": 0, \"size\": 1}, \"mode\": \"markers\", \"name\": \"\", \"showlegend\": false, \"text\": [null, null], \"type\": \"scatter\", \"x\": [\"2020-01-26T00:00:00\", \"2020-05-10T00:00:00\"], \"y\": [174, 174]}, {\"legendgroup\": \"rgb(86, 9, 188)\", \"marker\": {\"color\": \"rgb(86, 9, 188)\", \"opacity\": 0, \"size\": 1}, \"mode\": \"markers\", \"name\": \"\", \"showlegend\": false, \"text\": [null, null], \"type\": \"scatter\", \"x\": [\"2020-03-17T00:00:00\", \"2020-05-06T00:00:00\"], \"y\": [39, 39]}, {\"legendgroup\": \"rgb(87, 27, 72)\", \"marker\": {\"color\": \"rgb(87, 27, 72)\", \"opacity\": 0, \"size\": 1}, \"mode\": \"markers\", \"name\": \"\", \"showlegend\": false, \"text\": [null, null], \"type\": \"scatter\", \"x\": [\"2020-03-31T00:00:00\", \"2020-05-10T00:00:00\"], \"y\": [21, 21]}, {\"legendgroup\": \"rgb(89, 151, 69)\", \"marker\": {\"color\": \"rgb(89, 151, 69)\", \"opacity\": 0, \"size\": 1}, \"mode\": \"markers\", \"name\": \"\", \"showlegend\": false, \"text\": [null, null], \"type\": \"scatter\", \"x\": [\"2020-02-25T00:00:00\", \"2020-05-10T00:00:00\"], \"y\": [149, 149]}, {\"legendgroup\": \"rgb(89, 75, 90)\", \"marker\": {\"color\": \"rgb(89, 75, 90)\", \"opacity\": 0, \"size\": 1}, \"mode\": \"markers\", \"name\": \"\", \"showlegend\": false, \"text\": [null, null], \"type\": \"scatter\", \"x\": [\"2020-03-06T00:00:00\", \"2020-04-24T00:00:00\"], \"y\": [34, 34]}, {\"legendgroup\": \"rgb(9, 137, 128)\", \"marker\": {\"color\": \"rgb(9, 137, 128)\", \"opacity\": 0, \"size\": 1}, \"mode\": \"markers\", \"name\": \"\", \"showlegend\": false, \"text\": [null, null], \"type\": \"scatter\", \"x\": [\"2020-02-24T00:00:00\", \"2020-05-10T00:00:00\"], \"y\": [152, 152]}, {\"legendgroup\": \"rgb(9, 84, 39)\", \"marker\": {\"color\": \"rgb(9, 84, 39)\", \"opacity\": 0, \"size\": 1}, \"mode\": \"markers\", \"name\": \"\", \"showlegend\": false, \"text\": [null, null], \"type\": \"scatter\", \"x\": [\"2020-03-14T00:00:00\", \"2020-05-10T00:00:00\"], \"y\": [63, 63]}, {\"legendgroup\": \"rgb(90, 100, 67)\", \"marker\": {\"color\": \"rgb(90, 100, 67)\", \"opacity\": 0, \"size\": 1}, \"mode\": \"markers\", \"name\": \"\", \"showlegend\": false, \"text\": [null, null], \"type\": \"scatter\", \"x\": [\"2020-03-08T00:00:00\", \"2020-05-10T00:00:00\"], \"y\": [94, 94]}, {\"legendgroup\": \"rgb(90, 198, 129)\", \"marker\": {\"color\": \"rgb(90, 198, 129)\", \"opacity\": 0, \"size\": 1}, \"mode\": \"markers\", \"name\": \"\", \"showlegend\": false, \"text\": [null, null], \"type\": \"scatter\", \"x\": [\"2020-03-18T00:00:00\", \"2020-04-28T00:00:00\"], \"y\": [22, 22]}, {\"legendgroup\": \"rgb(91, 34, 97)\", \"marker\": {\"color\": \"rgb(91, 34, 97)\", \"opacity\": 0, \"size\": 1}, \"mode\": \"markers\", \"name\": \"\", \"showlegend\": false, \"text\": [null, null], \"type\": \"scatter\", \"x\": [\"2020-03-08T00:00:00\", \"2020-05-10T00:00:00\"], \"y\": [90, 90]}, {\"legendgroup\": \"rgb(92, 85, 202)\", \"marker\": {\"color\": \"rgb(92, 85, 202)\", \"opacity\": 0, \"size\": 1}, \"mode\": \"markers\", \"name\": \"\", \"showlegend\": false, \"text\": [null, null], \"type\": \"scatter\", \"x\": [\"2020-03-23T00:00:00\", \"2020-04-14T00:00:00\"], \"y\": [7, 7]}, {\"legendgroup\": \"rgb(96, 149, 187)\", \"marker\": {\"color\": \"rgb(96, 149, 187)\", \"opacity\": 0, \"size\": 1}, \"mode\": \"markers\", \"name\": \"\", \"showlegend\": false, \"text\": [null, null], \"type\": \"scatter\", \"x\": [\"2020-02-28T00:00:00\", \"2020-05-10T00:00:00\"], \"y\": [133, 133]}, {\"legendgroup\": \"rgb(96, 154, 56)\", \"marker\": {\"color\": \"rgb(96, 154, 56)\", \"opacity\": 0, \"size\": 1}, \"mode\": \"markers\", \"name\": \"\", \"showlegend\": false, \"text\": [null, null], \"type\": \"scatter\", \"x\": [\"2020-03-06T00:00:00\", \"2020-05-10T00:00:00\"], \"y\": [98, 98]}, {\"legendgroup\": \"rgb(96, 160, 150)\", \"marker\": {\"color\": \"rgb(96, 160, 150)\", \"opacity\": 0, \"size\": 1}, \"mode\": \"markers\", \"name\": \"\", \"showlegend\": false, \"text\": [null, null], \"type\": \"scatter\", \"x\": [\"2020-04-30T00:00:00\", \"2020-05-10T00:00:00\"], \"y\": [2, 2]}, {\"legendgroup\": \"rgb(97, 19, 177)\", \"marker\": {\"color\": \"rgb(97, 19, 177)\", \"opacity\": 0, \"size\": 1}, \"mode\": \"markers\", \"name\": \"\", \"showlegend\": false, \"text\": [null, null], \"type\": \"scatter\", \"x\": [\"2020-03-25T00:00:00\", \"2020-05-10T00:00:00\"], \"y\": [29, 29]}],\n",
       "                        {\"height\": 2500, \"hovermode\": \"closest\", \"showlegend\": false, \"template\": {\"data\": {\"bar\": [{\"error_x\": {\"color\": \"#2a3f5f\"}, \"error_y\": {\"color\": \"#2a3f5f\"}, \"marker\": {\"line\": {\"color\": \"#E5ECF6\", \"width\": 0.5}}, \"type\": \"bar\"}], \"barpolar\": [{\"marker\": {\"line\": {\"color\": \"#E5ECF6\", \"width\": 0.5}}, \"type\": \"barpolar\"}], \"carpet\": [{\"aaxis\": {\"endlinecolor\": \"#2a3f5f\", \"gridcolor\": \"white\", \"linecolor\": \"white\", \"minorgridcolor\": \"white\", \"startlinecolor\": \"#2a3f5f\"}, \"baxis\": {\"endlinecolor\": \"#2a3f5f\", \"gridcolor\": \"white\", \"linecolor\": \"white\", \"minorgridcolor\": \"white\", \"startlinecolor\": \"#2a3f5f\"}, \"type\": \"carpet\"}], \"choropleth\": [{\"colorbar\": {\"outlinewidth\": 0, \"ticks\": \"\"}, \"type\": \"choropleth\"}], \"contour\": [{\"colorbar\": {\"outlinewidth\": 0, \"ticks\": \"\"}, \"colorscale\": [[0.0, \"#0d0887\"], [0.1111111111111111, \"#46039f\"], [0.2222222222222222, \"#7201a8\"], [0.3333333333333333, \"#9c179e\"], [0.4444444444444444, \"#bd3786\"], [0.5555555555555556, \"#d8576b\"], [0.6666666666666666, \"#ed7953\"], [0.7777777777777778, \"#fb9f3a\"], [0.8888888888888888, \"#fdca26\"], [1.0, \"#f0f921\"]], \"type\": \"contour\"}], \"contourcarpet\": [{\"colorbar\": {\"outlinewidth\": 0, \"ticks\": \"\"}, \"type\": \"contourcarpet\"}], \"heatmap\": [{\"colorbar\": {\"outlinewidth\": 0, \"ticks\": \"\"}, \"colorscale\": [[0.0, \"#0d0887\"], [0.1111111111111111, \"#46039f\"], [0.2222222222222222, \"#7201a8\"], [0.3333333333333333, \"#9c179e\"], [0.4444444444444444, \"#bd3786\"], [0.5555555555555556, \"#d8576b\"], [0.6666666666666666, \"#ed7953\"], [0.7777777777777778, \"#fb9f3a\"], [0.8888888888888888, \"#fdca26\"], [1.0, \"#f0f921\"]], \"type\": \"heatmap\"}], \"heatmapgl\": [{\"colorbar\": {\"outlinewidth\": 0, \"ticks\": \"\"}, \"colorscale\": [[0.0, \"#0d0887\"], [0.1111111111111111, \"#46039f\"], [0.2222222222222222, \"#7201a8\"], [0.3333333333333333, \"#9c179e\"], [0.4444444444444444, \"#bd3786\"], [0.5555555555555556, \"#d8576b\"], [0.6666666666666666, \"#ed7953\"], [0.7777777777777778, \"#fb9f3a\"], [0.8888888888888888, \"#fdca26\"], [1.0, \"#f0f921\"]], \"type\": \"heatmapgl\"}], \"histogram\": [{\"marker\": {\"colorbar\": {\"outlinewidth\": 0, \"ticks\": \"\"}}, \"type\": \"histogram\"}], \"histogram2d\": [{\"colorbar\": {\"outlinewidth\": 0, \"ticks\": \"\"}, \"colorscale\": [[0.0, \"#0d0887\"], [0.1111111111111111, \"#46039f\"], [0.2222222222222222, \"#7201a8\"], [0.3333333333333333, \"#9c179e\"], [0.4444444444444444, \"#bd3786\"], [0.5555555555555556, \"#d8576b\"], [0.6666666666666666, \"#ed7953\"], [0.7777777777777778, \"#fb9f3a\"], [0.8888888888888888, \"#fdca26\"], [1.0, \"#f0f921\"]], \"type\": \"histogram2d\"}], \"histogram2dcontour\": [{\"colorbar\": {\"outlinewidth\": 0, \"ticks\": \"\"}, \"colorscale\": [[0.0, \"#0d0887\"], [0.1111111111111111, \"#46039f\"], [0.2222222222222222, \"#7201a8\"], [0.3333333333333333, \"#9c179e\"], [0.4444444444444444, \"#bd3786\"], [0.5555555555555556, \"#d8576b\"], [0.6666666666666666, \"#ed7953\"], [0.7777777777777778, \"#fb9f3a\"], [0.8888888888888888, \"#fdca26\"], [1.0, \"#f0f921\"]], \"type\": \"histogram2dcontour\"}], \"mesh3d\": [{\"colorbar\": {\"outlinewidth\": 0, \"ticks\": \"\"}, \"type\": \"mesh3d\"}], \"parcoords\": [{\"line\": {\"colorbar\": {\"outlinewidth\": 0, \"ticks\": \"\"}}, \"type\": \"parcoords\"}], \"pie\": [{\"automargin\": true, \"type\": \"pie\"}], \"scatter\": [{\"marker\": {\"colorbar\": {\"outlinewidth\": 0, \"ticks\": \"\"}}, \"type\": \"scatter\"}], \"scatter3d\": [{\"line\": {\"colorbar\": {\"outlinewidth\": 0, \"ticks\": \"\"}}, \"marker\": {\"colorbar\": {\"outlinewidth\": 0, \"ticks\": \"\"}}, \"type\": \"scatter3d\"}], \"scattercarpet\": [{\"marker\": {\"colorbar\": {\"outlinewidth\": 0, \"ticks\": \"\"}}, \"type\": \"scattercarpet\"}], \"scattergeo\": [{\"marker\": {\"colorbar\": {\"outlinewidth\": 0, \"ticks\": \"\"}}, \"type\": \"scattergeo\"}], \"scattergl\": [{\"marker\": {\"colorbar\": {\"outlinewidth\": 0, \"ticks\": \"\"}}, \"type\": \"scattergl\"}], \"scattermapbox\": [{\"marker\": {\"colorbar\": {\"outlinewidth\": 0, \"ticks\": \"\"}}, \"type\": \"scattermapbox\"}], \"scatterpolar\": [{\"marker\": {\"colorbar\": {\"outlinewidth\": 0, \"ticks\": \"\"}}, \"type\": \"scatterpolar\"}], \"scatterpolargl\": [{\"marker\": {\"colorbar\": {\"outlinewidth\": 0, \"ticks\": \"\"}}, \"type\": \"scatterpolargl\"}], \"scatterternary\": [{\"marker\": {\"colorbar\": {\"outlinewidth\": 0, \"ticks\": \"\"}}, \"type\": \"scatterternary\"}], \"surface\": [{\"colorbar\": {\"outlinewidth\": 0, \"ticks\": \"\"}, \"colorscale\": [[0.0, \"#0d0887\"], [0.1111111111111111, \"#46039f\"], [0.2222222222222222, \"#7201a8\"], [0.3333333333333333, \"#9c179e\"], [0.4444444444444444, \"#bd3786\"], [0.5555555555555556, \"#d8576b\"], [0.6666666666666666, \"#ed7953\"], [0.7777777777777778, \"#fb9f3a\"], [0.8888888888888888, \"#fdca26\"], [1.0, \"#f0f921\"]], \"type\": \"surface\"}], \"table\": [{\"cells\": {\"fill\": {\"color\": \"#EBF0F8\"}, \"line\": {\"color\": \"white\"}}, \"header\": {\"fill\": {\"color\": \"#C8D4E3\"}, \"line\": {\"color\": \"white\"}}, \"type\": \"table\"}]}, \"layout\": {\"annotationdefaults\": {\"arrowcolor\": \"#2a3f5f\", \"arrowhead\": 0, \"arrowwidth\": 1}, \"coloraxis\": {\"colorbar\": {\"outlinewidth\": 0, \"ticks\": \"\"}}, \"colorscale\": {\"diverging\": [[0, \"#8e0152\"], [0.1, \"#c51b7d\"], [0.2, \"#de77ae\"], [0.3, \"#f1b6da\"], [0.4, \"#fde0ef\"], [0.5, \"#f7f7f7\"], [0.6, \"#e6f5d0\"], [0.7, \"#b8e186\"], [0.8, \"#7fbc41\"], [0.9, \"#4d9221\"], [1, \"#276419\"]], \"sequential\": [[0.0, \"#0d0887\"], [0.1111111111111111, \"#46039f\"], [0.2222222222222222, \"#7201a8\"], [0.3333333333333333, \"#9c179e\"], [0.4444444444444444, \"#bd3786\"], [0.5555555555555556, \"#d8576b\"], [0.6666666666666666, \"#ed7953\"], [0.7777777777777778, \"#fb9f3a\"], [0.8888888888888888, \"#fdca26\"], [1.0, \"#f0f921\"]], \"sequentialminus\": [[0.0, \"#0d0887\"], [0.1111111111111111, \"#46039f\"], [0.2222222222222222, \"#7201a8\"], [0.3333333333333333, \"#9c179e\"], [0.4444444444444444, \"#bd3786\"], [0.5555555555555556, \"#d8576b\"], [0.6666666666666666, \"#ed7953\"], [0.7777777777777778, \"#fb9f3a\"], [0.8888888888888888, \"#fdca26\"], [1.0, \"#f0f921\"]]}, \"colorway\": [\"#636efa\", \"#EF553B\", \"#00cc96\", \"#ab63fa\", \"#FFA15A\", \"#19d3f3\", \"#FF6692\", \"#B6E880\", \"#FF97FF\", \"#FECB52\"], \"font\": {\"color\": \"#2a3f5f\"}, \"geo\": {\"bgcolor\": \"white\", \"lakecolor\": \"white\", \"landcolor\": \"#E5ECF6\", \"showlakes\": true, \"showland\": true, \"subunitcolor\": \"white\"}, \"hoverlabel\": {\"align\": \"left\"}, \"hovermode\": \"closest\", \"mapbox\": {\"style\": \"light\"}, \"paper_bgcolor\": \"white\", \"plot_bgcolor\": \"#E5ECF6\", \"polar\": {\"angularaxis\": {\"gridcolor\": \"white\", \"linecolor\": \"white\", \"ticks\": \"\"}, \"bgcolor\": \"#E5ECF6\", \"radialaxis\": {\"gridcolor\": \"white\", \"linecolor\": \"white\", \"ticks\": \"\"}}, \"scene\": {\"xaxis\": {\"backgroundcolor\": \"#E5ECF6\", \"gridcolor\": \"white\", \"gridwidth\": 2, \"linecolor\": \"white\", \"showbackground\": true, \"ticks\": \"\", \"zerolinecolor\": \"white\"}, \"yaxis\": {\"backgroundcolor\": \"#E5ECF6\", \"gridcolor\": \"white\", \"gridwidth\": 2, \"linecolor\": \"white\", \"showbackground\": true, \"ticks\": \"\", \"zerolinecolor\": \"white\"}, \"zaxis\": {\"backgroundcolor\": \"#E5ECF6\", \"gridcolor\": \"white\", \"gridwidth\": 2, \"linecolor\": \"white\", \"showbackground\": true, \"ticks\": \"\", \"zerolinecolor\": \"white\"}}, \"shapedefaults\": {\"line\": {\"color\": \"#2a3f5f\"}}, \"ternary\": {\"aaxis\": {\"gridcolor\": \"white\", \"linecolor\": \"white\", \"ticks\": \"\"}, \"baxis\": {\"gridcolor\": \"white\", \"linecolor\": \"white\", \"ticks\": \"\"}, \"bgcolor\": \"#E5ECF6\", \"caxis\": {\"gridcolor\": \"white\", \"linecolor\": \"white\", \"ticks\": \"\"}}, \"title\": {\"x\": 0.05}, \"xaxis\": {\"automargin\": true, \"gridcolor\": \"white\", \"linecolor\": \"white\", \"ticks\": \"\", \"title\": {\"standoff\": 15}, \"zerolinecolor\": \"white\", \"zerolinewidth\": 2}, \"yaxis\": {\"automargin\": true, \"gridcolor\": \"white\", \"linecolor\": \"white\", \"ticks\": \"\", \"title\": {\"standoff\": 15}, \"zerolinecolor\": \"white\", \"zerolinewidth\": 2}}}, \"title\": {\"text\": \"Gantt Chart\"}, \"xaxis\": {\"rangeselector\": {\"buttons\": [{\"count\": 7, \"label\": \"1w\", \"step\": \"day\", \"stepmode\": \"backward\"}, {\"count\": 1, \"label\": \"1m\", \"step\": \"month\", \"stepmode\": \"backward\"}, {\"count\": 6, \"label\": \"6m\", \"step\": \"month\", \"stepmode\": \"backward\"}, {\"count\": 1, \"label\": \"YTD\", \"step\": \"year\", \"stepmode\": \"todate\"}, {\"count\": 1, \"label\": \"1y\", \"step\": \"year\", \"stepmode\": \"backward\"}, {\"step\": \"all\"}]}, \"showgrid\": true, \"type\": \"date\", \"zeroline\": false}, \"yaxis\": {\"autorange\": false, \"range\": [-1, 187], \"showgrid\": true, \"ticktext\": [\"Western Sahara\", \"Comoros\", \"Tajikistan\", \"Suriname\", \"Greenland\", \"Dominica\", \"Laos\", \"Belize\", \"Namibia\", \"Seychelles\", \"Saint Kitts and Nevis\", \"Eritrea\", \"Yemen\", \"Botswana\", \"Fiji\", \"Burundi\", \"Sao Tome and Principe\", \"Papua New Guinea\", \"Timor-Leste\", \"South Sudan\", \"Malawi\", \"Sierra Leone\", \"Mauritius\", \"Grenada\", \"Libya\", \"Burma\", \"Kosovo\", \"Trinidad and Tobago\", \"Guinea-Bissau\", \"Mali\", \"Mauritania\", \"Nicaragua\", \"Syria\", \"Mozambique\", \"Bhutan\", \"Madagascar\", \"Uganda\", \"Antigua and Barbuda\", \"Angola\", \"Montenegro\", \"Zimbabwe\", \"Haiti\", \"Saint Lucia\", \"Cabo Verde\", \"Niger\", \"Saint Vincent and the Grenadines\", \"Chad\", \"Bahamas\", \"El Salvador\", \"Kyrgyzstan\", \"Djibouti\", \"Zambia\", \"Gambia\", \"Equatorial Guinea\", \"Liechtenstein\", \"Tanzania\", \"Liberia\", \"Barbados\", \"Somalia\", \"Congo (Brazzaville)\", \"Benin\", \"Central African Republic\", \"Uzbekistan\", \"Eswatini\", \"Gabon\", \"Venezuela\", \"Ghana\", \"Rwanda\", \"Guatemala\", \"Uruguay\", \"Kazakhstan\", \"Sudan\", \"Guinea\", \"Guyana\", \"Kenya\", \"Ethiopia\", \"Jamaica\", \"Cuba\", \"Congo (Kinshasa)\", \"Turkey\", \"Cote d'Ivoire\", \"Brunei\", \"Bolivia\", \"Honduras\", \"Mongolia\", \"Burkina Faso\", \"Panama\", \"Holy See\", \"Cyprus\", \"Albania\", \"Moldova\", \"Maldives\", \"Bulgaria\", \"Bangladesh\", \"Paraguay\", \"Malta\", \"West Bank and Gaza\", \"Slovakia\", \"Costa Rica\", \"Cameroon\", \"Serbia\", \"Colombia\", \"Togo\", \"Peru\", \"South Africa\", \"Bosnia and Herzegovina\", \"Slovenia\", \"Poland\", \"Hungary\", \"Tunisia\", \"Argentina\", \"Chile\", \"Jordan\", \"Ukraine\", \"Saudi Arabia\", \"Portugal\", \"Andorra\", \"Senegal\", \"Latvia\", \"Indonesia\", \"Morocco\", \"Ecuador\", \"Iceland\", \"Armenia\", \"Azerbaijan\", \"Czechia\", \"Dominican Republic\", \"Ireland\", \"Qatar\", \"Monaco\", \"Luxembourg\", \"Belarus\", \"Nigeria\", \"Mexico\", \"New Zealand\", \"Lithuania\", \"San Marino\", \"Estonia\", \"Netherlands\", \"Denmark\", \"Greece\", \"Georgia\", \"Pakistan\", \"Norway\", \"North Macedonia\", \"Brazil\", \"Romania\", \"Austria\", \"Switzerland\", \"Algeria\", \"Croatia\", \"Afghanistan\", \"Kuwait\", \"Bahrain\", \"Oman\", \"Iraq\", \"Cambodia\", \"Israel\", \"Lebanon\", \"Iran\", \"Egypt\", \"Belgium\", \"Spain\", \"Sweden\", \"United Kingdom\", \"Russia\", \"Italy\", \"India\", \"Philippines\", \"United Arab Emirates\", \"Finland\", \"Germany\", \"Sri Lanka\", \"Australia\", \"Canada\", \"Malaysia\", \"Nepal\", \"Vietnam\", \"France\", \"Taiwan*\", \"Singapore\", \"Thailand\", \"China\", \"Japan\", \"South Korea\", \"US\"], \"tickvals\": [0, 1, 2, 3, 4, 5, 6, 7, 8, 9, 10, 11, 12, 13, 14, 15, 16, 17, 18, 19, 20, 21, 22, 23, 24, 25, 26, 27, 28, 29, 30, 31, 32, 33, 34, 35, 36, 37, 38, 39, 40, 41, 42, 43, 44, 45, 46, 47, 48, 49, 50, 51, 52, 53, 54, 55, 56, 57, 58, 59, 60, 61, 62, 63, 64, 65, 66, 67, 68, 69, 70, 71, 72, 73, 74, 75, 76, 77, 78, 79, 80, 81, 82, 83, 84, 85, 86, 87, 88, 89, 90, 91, 92, 93, 94, 95, 96, 97, 98, 99, 100, 101, 102, 103, 104, 105, 106, 107, 108, 109, 110, 111, 112, 113, 114, 115, 116, 117, 118, 119, 120, 121, 122, 123, 124, 125, 126, 127, 128, 129, 130, 131, 132, 133, 134, 135, 136, 137, 138, 139, 140, 141, 142, 143, 144, 145, 146, 147, 148, 149, 150, 151, 152, 153, 154, 155, 156, 157, 158, 159, 160, 161, 162, 163, 164, 165, 166, 167, 168, 169, 170, 171, 172, 173, 174, 175, 176, 177, 178, 179, 180, 181, 182, 183, 184, 185], \"zeroline\": false}},\n",
       "                        {\"responsive\": true}\n",
       "                    ).then(function(){\n",
       "                            \n",
       "var gd = document.getElementById('4f61f329-23f0-4a22-9dec-2cbae000f62e');\n",
       "var x = new MutationObserver(function (mutations, observer) {{\n",
       "        var display = window.getComputedStyle(gd).display;\n",
       "        if (!display || display === 'none') {{\n",
       "            console.log([gd, 'removed!']);\n",
       "            Plotly.purge(gd);\n",
       "            observer.disconnect();\n",
       "        }}\n",
       "}});\n",
       "\n",
       "// Listen for the removal of the full notebook cells\n",
       "var notebookContainer = gd.closest('#notebook-container');\n",
       "if (notebookContainer) {{\n",
       "    x.observe(notebookContainer, {childList: true});\n",
       "}}\n",
       "\n",
       "// Listen for the clearing of the current output cell\n",
       "var outputEl = gd.closest('.output');\n",
       "if (outputEl) {{\n",
       "    x.observe(outputEl, {childList: true});\n",
       "}}\n",
       "\n",
       "                        })\n",
       "                };\n",
       "                });\n",
       "            </script>\n",
       "        </div>"
      ]
     },
     "metadata": {},
     "output_type": "display_data"
    }
   ],
   "source": [
    "first_date = full_table[full_table['Confirmed']>0]\n",
    "first_date = first_date.groupby('Country/Region')['Date'].agg(['min']).reset_index()\n",
    "# first_date.head()\n",
    "\n",
    "# last date\n",
    "# =========\n",
    "last_date = full_table.groupby(['Country/Region', 'Date', ])['Confirmed', 'Deaths', 'Recovered']\n",
    "last_date = last_date.sum().diff().reset_index()\n",
    "\n",
    "mask = last_date['Country/Region'] != last_date['Country/Region'].shift(1)\n",
    "last_date.loc[mask, 'Confirmed'] = np.nan\n",
    "last_date.loc[mask, 'Deaths'] = np.nan\n",
    "last_date.loc[mask, 'Recovered'] = np.nan\n",
    "\n",
    "last_date = last_date[last_date['Confirmed']>0]\n",
    "last_date = last_date.groupby('Country/Region')['Date'].agg(['max']).reset_index()\n",
    "# last_date.head()\n",
    "\n",
    "# first_last\n",
    "# ==========\n",
    "first_last = pd.concat([first_date, last_date[['max']]], axis=1)\n",
    "\n",
    "# added 1 more day, which will show the next day as the day on which last case appeared\n",
    "first_last['max'] = first_last['max'] + timedelta(days=1)\n",
    "\n",
    "# no. of days\n",
    "first_last['Days'] = first_last['max'] - first_last['min']\n",
    "\n",
    "# task column as country\n",
    "first_last['Task'] = first_last['Country/Region']\n",
    "\n",
    "# rename columns\n",
    "first_last.columns = ['Country/Region', 'Start', 'Finish', 'Days', 'Task']\n",
    "\n",
    "# sort by no. of days\n",
    "first_last = first_last.sort_values('Days')\n",
    "# first_last.head()\n",
    "\n",
    "# visualization\n",
    "# =============\n",
    "\n",
    "# produce random colors\n",
    "clr = [\"#\"+''.join([random.choice('0123456789ABC') for j in range(6)]) for i in range(len(first_last))]\n",
    "\n",
    "# plot\n",
    "fig = ff.create_gantt(first_last, index_col='Country/Region', colors=clr, show_colorbar=False, \n",
    "                      bar_width=0.2, showgrid_x=True, showgrid_y=True, height=2500)\n",
    "fig.show()"
   ]
  }
 ],
 "metadata": {
  "kernelspec": {
   "display_name": "Python 3",
   "language": "python",
   "name": "python3"
  },
  "language_info": {
   "codemirror_mode": {
    "name": "ipython",
    "version": 3
   },
   "file_extension": ".py",
   "mimetype": "text/x-python",
   "name": "python",
   "nbconvert_exporter": "python",
   "pygments_lexer": "ipython3",
   "version": "3.7.6"
  }
 },
 "nbformat": 4,
 "nbformat_minor": 4
}
