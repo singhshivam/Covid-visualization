{
 "cells": [
  {
   "cell_type": "code",
   "execution_count": 35,
   "metadata": {},
   "outputs": [],
   "source": [
    "import pandas as pd\n",
    "import numpy\n",
    "import csv\n",
    "from datetime import datetime \n",
    "import matplotlib.pyplot as plt\n"
   ]
  },
  {
   "cell_type": "code",
   "execution_count": 2,
   "metadata": {},
   "outputs": [],
   "source": [
    "df = pd.read_csv('../public/G4_total-deaths-covid-19.csv')"
   ]
  },
  {
   "cell_type": "code",
   "execution_count": 5,
   "metadata": {},
   "outputs": [
    {
     "data": {
      "text/plain": [
       "<pandas.core.groupby.generic.DataFrameGroupBy object at 0x7fa6bf2eaeb8>"
      ]
     },
     "execution_count": 5,
     "metadata": {},
     "output_type": "execute_result"
    }
   ],
   "source": [
    "grouped = df.groupby(['Date'])\n",
    "grouped"
   ]
  },
  {
   "cell_type": "code",
   "execution_count": 32,
   "metadata": {},
   "outputs": [],
   "source": [
    "dhash = {}\n",
    "dates = []\n",
    "for date, group in grouped:\n",
    "    dates.append(date)\n",
    "    dhash[date] = group['Total confirmed deaths due to COVID-19 (deaths)'].sum()"
   ]
  },
  {
   "cell_type": "code",
   "execution_count": 33,
   "metadata": {},
   "outputs": [
    {
     "data": {
      "text/plain": [
       "['Dec 31, 2019',\n",
       " 'Jan 1, 2020',\n",
       " 'Jan 2, 2020',\n",
       " 'Jan 3, 2020',\n",
       " 'Jan 4, 2020',\n",
       " 'Jan 5, 2020',\n",
       " 'Jan 6, 2020',\n",
       " 'Jan 7, 2020',\n",
       " 'Jan 8, 2020',\n",
       " 'Jan 9, 2020',\n",
       " 'Jan 10, 2020',\n",
       " 'Jan 11, 2020',\n",
       " 'Jan 12, 2020',\n",
       " 'Jan 13, 2020',\n",
       " 'Jan 14, 2020',\n",
       " 'Jan 15, 2020',\n",
       " 'Jan 16, 2020',\n",
       " 'Jan 17, 2020',\n",
       " 'Jan 18, 2020',\n",
       " 'Jan 19, 2020',\n",
       " 'Jan 20, 2020',\n",
       " 'Jan 21, 2020',\n",
       " 'Jan 22, 2020',\n",
       " 'Jan 23, 2020',\n",
       " 'Jan 24, 2020',\n",
       " 'Jan 25, 2020',\n",
       " 'Jan 26, 2020',\n",
       " 'Jan 27, 2020',\n",
       " 'Jan 28, 2020',\n",
       " 'Jan 29, 2020',\n",
       " 'Jan 30, 2020',\n",
       " 'Jan 31, 2020',\n",
       " 'Feb 1, 2020',\n",
       " 'Feb 2, 2020',\n",
       " 'Feb 3, 2020',\n",
       " 'Feb 4, 2020',\n",
       " 'Feb 5, 2020',\n",
       " 'Feb 6, 2020',\n",
       " 'Feb 7, 2020',\n",
       " 'Feb 8, 2020',\n",
       " 'Feb 9, 2020',\n",
       " 'Feb 10, 2020',\n",
       " 'Feb 11, 2020',\n",
       " 'Feb 12, 2020',\n",
       " 'Feb 13, 2020',\n",
       " 'Feb 14, 2020',\n",
       " 'Feb 15, 2020',\n",
       " 'Feb 16, 2020',\n",
       " 'Feb 17, 2020',\n",
       " 'Feb 18, 2020',\n",
       " 'Feb 19, 2020',\n",
       " 'Feb 20, 2020',\n",
       " 'Feb 21, 2020',\n",
       " 'Feb 22, 2020',\n",
       " 'Feb 23, 2020',\n",
       " 'Feb 24, 2020',\n",
       " 'Feb 25, 2020',\n",
       " 'Feb 26, 2020',\n",
       " 'Feb 27, 2020',\n",
       " 'Feb 28, 2020',\n",
       " 'Feb 29, 2020',\n",
       " 'Mar 1, 2020',\n",
       " 'Mar 2, 2020',\n",
       " 'Mar 3, 2020',\n",
       " 'Mar 4, 2020',\n",
       " 'Mar 5, 2020',\n",
       " 'Mar 6, 2020',\n",
       " 'Mar 7, 2020',\n",
       " 'Mar 8, 2020',\n",
       " 'Mar 9, 2020',\n",
       " 'Mar 10, 2020',\n",
       " 'Mar 11, 2020',\n",
       " 'Mar 12, 2020',\n",
       " 'Mar 13, 2020',\n",
       " 'Mar 14, 2020',\n",
       " 'Mar 15, 2020',\n",
       " 'Mar 16, 2020',\n",
       " 'Mar 17, 2020',\n",
       " 'Mar 18, 2020',\n",
       " 'Mar 19, 2020',\n",
       " 'Mar 20, 2020',\n",
       " 'Mar 21, 2020',\n",
       " 'Mar 22, 2020',\n",
       " 'Mar 23, 2020',\n",
       " 'Mar 24, 2020',\n",
       " 'Mar 25, 2020',\n",
       " 'Mar 26, 2020',\n",
       " 'Mar 27, 2020',\n",
       " 'Mar 28, 2020',\n",
       " 'Mar 29, 2020',\n",
       " 'Mar 30, 2020',\n",
       " 'Mar 31, 2020',\n",
       " 'Apr 1, 2020',\n",
       " 'Apr 2, 2020',\n",
       " 'Apr 3, 2020',\n",
       " 'Apr 4, 2020',\n",
       " 'Apr 5, 2020',\n",
       " 'Apr 6, 2020',\n",
       " 'Apr 7, 2020',\n",
       " 'Apr 8, 2020',\n",
       " 'Apr 9, 2020',\n",
       " 'Apr 10, 2020',\n",
       " 'Apr 11, 2020',\n",
       " 'Apr 12, 2020',\n",
       " 'Apr 13, 2020',\n",
       " 'Apr 14, 2020',\n",
       " 'Apr 15, 2020',\n",
       " 'Apr 16, 2020',\n",
       " 'Apr 17, 2020',\n",
       " 'Apr 18, 2020',\n",
       " 'Apr 19, 2020',\n",
       " 'Apr 20, 2020',\n",
       " 'Apr 21, 2020',\n",
       " 'Apr 22, 2020',\n",
       " 'Apr 23, 2020',\n",
       " 'Apr 24, 2020',\n",
       " 'Apr 25, 2020',\n",
       " 'Apr 26, 2020',\n",
       " 'Apr 27, 2020',\n",
       " 'Apr 28, 2020',\n",
       " 'Apr 29, 2020',\n",
       " 'Apr 30, 2020',\n",
       " 'May 1, 2020',\n",
       " 'May 2, 2020',\n",
       " 'May 3, 2020',\n",
       " 'May 4, 2020',\n",
       " 'May 5, 2020',\n",
       " 'May 6, 2020',\n",
       " 'May 7, 2020',\n",
       " 'May 8, 2020',\n",
       " 'May 9, 2020',\n",
       " 'May 10, 2020',\n",
       " 'May 11, 2020',\n",
       " 'May 12, 2020',\n",
       " 'May 13, 2020',\n",
       " 'May 14, 2020',\n",
       " 'May 15, 2020',\n",
       " 'May 16, 2020',\n",
       " 'May 17, 2020']"
      ]
     },
     "execution_count": 33,
     "metadata": {},
     "output_type": "execute_result"
    }
   ],
   "source": [
    "dates.sort(key = lambda date: datetime.strptime(date, '%b %d, %Y')) \n",
    "dates"
   ]
  },
  {
   "cell_type": "code",
   "execution_count": 34,
   "metadata": {},
   "outputs": [],
   "source": [
    "with open('total-deaths-per-day.csv', 'w', newline='') as file:\n",
    "    writer = csv.writer(file)\n",
    "    writer.writerow([\"date\", \"deaths\"])\n",
    "    for date in dates:\n",
    "        writer.writerow([date, dhash[date]])"
   ]
  },
  {
   "cell_type": "code",
   "execution_count": 36,
   "metadata": {},
   "outputs": [
    {
     "data": {
      "text/plain": [
       "<matplotlib.axes._subplots.AxesSubplot at 0x7fa6bc998400>"
      ]
     },
     "execution_count": 36,
     "metadata": {},
     "output_type": "execute_result"
    },
    {
     "data": {
      "image/png": "[encoded data removed]",
      "text/plain": [
       "<Figure size 432x288 with 1 Axes>"
      ]
     },
     "metadata": {
      "needs_background": "light"
     },
     "output_type": "display_data"
    }
   ],
   "source": [
    "deaths = pd.read_csv('total-deaths-per-day.csv')\n",
    "deaths.plot(kind='bar', y='deaths', use_index=True)"
   ]
  },
  {
   "cell_type": "code",
   "execution_count": null,
   "metadata": {},
   "outputs": [],
   "source": []
  }
 ],
 "metadata": {
  "kernelspec": {
   "display_name": "Python 3",
   "language": "python",
   "name": "python3"
  },
  "language_info": {
   "codemirror_mode": {
    "name": "ipython",
    "version": 3
   },
   "file_extension": ".py",
   "mimetype": "text/x-python",
   "name": "python",
   "nbconvert_exporter": "python",
   "pygments_lexer": "ipython3",
   "version": "3.6.9"
  }
 },
 "nbformat": 4,
 "nbformat_minor": 4
}
